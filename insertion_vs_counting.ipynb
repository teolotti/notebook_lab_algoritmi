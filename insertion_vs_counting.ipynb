{
 "cells": [
  {
   "cell_type": "markdown",
   "id": "6fce8b6c",
   "metadata": {},
   "source": [
    "# Confronto tra Insertion Sort e Counting Sort\n",
    "## Matteo Lotti\n",
    "### Marzo-Aprile 2023"
   ]
  },
  {
   "cell_type": "markdown",
   "id": "78c55621",
   "metadata": {},
   "source": [
    "In questo notebook ci poniamo l'obiettivo di impostare e effettuare un confronto tra due algoritmi di ordinamento. In particolare, i due algoritmi in questione saranno:\n",
    "\n",
    "- __Insertion Sort__\n",
    "\n",
    "- __Counting Sort__\n",
    "\n",
    "Il notebook sarà sviluppato in questo modo:\n",
    "\n",
    "1. Nelle celle successive saranno presenti le implementazioni dei due algoritmi seguiti rispettivamente da una breve spiegazione messa in relazione con le evidenze teoriche conosciute.\n",
    "\n",
    "2. Successivamente sarà presente una cella nella quale saranno implementate le funzioni di test, seguita da un'opportuna spiegazione del codice e dei test che saranno eseguiti\n",
    "\n",
    "3. Saranno effettuati e descritti i dovuti test e i rispettivi risultati\n",
    "\n",
    "4. Nella chiusura tireremo le somme dei risultati ottenuti dagli esperimenti svolti"
   ]
  },
  {
   "cell_type": "markdown",
   "id": "594e3065",
   "metadata": {},
   "source": [
    "## Implementazioni degli algoritmi\n",
    "### Insertion Sort"
   ]
  },
  {
   "cell_type": "code",
   "execution_count": 1,
   "id": "0b68115e",
   "metadata": {},
   "outputs": [],
   "source": [
    "def insertion_sort(arr):\n",
    "    \"\"\"Insertion sort algorithm.\n",
    "\n",
    "    Args:\n",
    "        arr (list): Array to be sorted.\n",
    "\n",
    "    Returns:\n",
    "        list: Sorted array.\n",
    "\n",
    "    Time complexity: O(n^2)\n",
    "    \"\"\"\n",
    "    for i in range(1, len(arr)):\n",
    "        key = arr[i]\n",
    "        j = i - 1\n",
    "        while j >= 0 and key < arr[j]:\n",
    "            arr[j + 1] = arr[j]\n",
    "            j -= 1\n",
    "        arr[j + 1] = key\n",
    "    return arr"
   ]
  },
  {
   "cell_type": "markdown",
   "id": "cd3db634",
   "metadata": {},
   "source": [
    "Nella cella sovrastante possiamo vedere l'implementazione dell'algoritmo di ordinamento __Insertion Sort__. L'algoritmo si basa su un ciclo _for_ iniziale nel quale si inizializza la variabile _key_ con il valore all'indice _i_ dell'array da ordinare. All'interno del _for_ un ciclo _while_ ci permette di iterare sugli elementi precedenti a _key_ in modo tale da posizionare il valore di _key_ nella posizione corretta. Al termine di ogni esecuzione del ciclo _for_, i primi _i_ elementi saranno ordinati e quando termina l'algoritmo tutto l'array sarà ordinato correttamente.\n",
    "\n",
    "Il tempo di esecuzione dell'algoritmo è pari a _O(n^2)_ in quanto ogni elemento viene confrontato con tutti gli elementi precedenti a lui.\n",
    "\n",
    "Nel caso peggiore, l'array è ordinato in modo inverso, quindi l'algoritmo dovrà effettuare _n-1_ confronti per il primo elemento, _n-2_ per il secondo, _n-3_ per il terzo e così via. Quindi il numero totale di confronti sarà pari a: $$\\sum_{i=1}^{n-1} i = \\frac{(n-1)(n)}{2} = \\frac{n^2-n}{2}$$\n",
    "e il tempo di esecuzione sarà pari a: $$\\frac{n^2-n}{2} \\cdot c$$ dove _c_ è il tempo di esecuzione di un singolo confronto. Percò il tempo di esecuzione è sempre pari a _Θ(n^2)_.\n",
    "\n",
    "Nel caso migliore, l'array è già ordinato, quindi l'algoritmo non dovrà effettuare alcun confronto. Quindi il tempo di esecuzione sarà pari a: $$n \\cdot c$$ dove _c_ è il tempo di esecuzione di un singolo confronto."
   ]
  },
  {
   "cell_type": "markdown",
   "id": "7af2bd67",
   "metadata": {},
   "source": [
    "### Counting Sort"
   ]
  },
  {
   "cell_type": "code",
   "execution_count": 2,
   "id": "d1e62f77",
   "metadata": {},
   "outputs": [],
   "source": [
    "def counting_sort(arr):\n",
    "    \"\"\"Counting sort algorithm.\n",
    "\n",
    "    Args:\n",
    "        arr (list): Array to be sorted.\n",
    "\n",
    "    Returns:\n",
    "        list: Sorted array.\n",
    "\n",
    "    Time complexity: O(n+k)\n",
    "\n",
    "    k is the value of the maximum element in the array.\n",
    "    \"\"\"\n",
    "    if not arr:\n",
    "        return arr\n",
    "    max_element = max(arr) #k\n",
    "    count_array = [0] * (max_element + 1) #primo for\n",
    "\n",
    "    for element in arr:\n",
    "        count_array[element] += 1\n",
    "\n",
    "    for i in range(1, len(count_array)):\n",
    "        count_array[i] += count_array[i-1]\n",
    "\n",
    "    sorted_array = [0] * len(arr)\n",
    "    for element in reversed(arr):\n",
    "        sorted_array[count_array[element]-1] = element #-1 perché indicizzazione parte da 0\n",
    "        count_array[element] -= 1\n",
    "\n",
    "    return sorted_array\n"
   ]
  },
  {
   "cell_type": "markdown",
   "id": "23fb1f6b",
   "metadata": {},
   "source": [
    "Nella cella sovrastante troviamo l'algoritmo di ordinamento __Counting Sort__. Sottlineamo il fatto che questo algoritmi è utilizzabile solo per liste di numeri interi. Non è un algoritmo che opera per confronti, ma si basa sul determinare la posizione di ogni elemento nell'array ordinato in base a quanti sono gli elementi minori o uguali ad esso. In particolare, è necessario un array di appoggio di dimensione _max_element_, dove _max_element_ non è altro che il valore massimo presente nell'array di partenza. Successivamente, dopo aver inzializzato quest'array con tutti 0, incrementiamo di 1 l'elemento di indice _i_ per ogni elemento uguale a _i_ nell'array iniziale; poi scorriamo l'array di appoggio sommando ad ogni elemento tutti gli elementi ad esso precedenti. Quello che otteniamo dopo queste due operazioni non è altro che un array di appoggio in cui l'elemento di indice _x_ ha come valore il numero di elementi minori o uguali a _x_ nell'array iniziale. L'ultimo passaggio è quello di copiare su un nuovo array gli elementi ordinati, considerando che nell'array di appoggio l'elemento con indice _x_ risulta essere la posizione di _x_ nell'array ordinato. Decrementando poi progressivamente i valori dell'array di appoggio si riescono a gestire anche ventuali copie multiple di uno stesso valore.\n",
    "\n",
    "L'algoritmo scorre per due volte l'array iniziale e per due volte l'array di appoggio. Per l'array iniziale il costo sarà _Θ(n)_ dove _n_ è la dimensione dell'array, mentre per l'array di appoggio il costo sarà _Θ(k)_ dove _k_ non èaltro che il massimo valore presente nell'array iniziale Quindi il tempo di esecuzione è sempre pari a _Θ(n+k)_, che diventa _Θ(n)_ nel caso in cui _k=O(n)_."
   ]
  },
  {
   "cell_type": "markdown",
   "id": "71f0e1a4",
   "metadata": {},
   "source": [
    "## Implementazione e spiegazione delle funzioni di test"
   ]
  },
  {
   "cell_type": "code",
   "execution_count": 5,
   "id": "d05763a2",
   "metadata": {},
   "outputs": [
    {
     "ename": "SyntaxError",
     "evalue": "invalid syntax (646047288.py, line 55)",
     "output_type": "error",
     "traceback": [
      "\u001B[1;36m  File \u001B[1;32m\"C:\\Users\\teolo\\AppData\\Local\\Temp\\ipykernel_20548\\646047288.py\"\u001B[1;36m, line \u001B[1;32m55\u001B[0m\n\u001B[1;33m    match self.input_config.input_type:\u001B[0m\n\u001B[1;37m          ^\u001B[0m\n\u001B[1;31mSyntaxError\u001B[0m\u001B[1;31m:\u001B[0m invalid syntax\n"
     ]
    }
   ],
   "source": [
    "import pandas as pd\n",
    "import plotly.express as px\n",
    "from enum import Enum\n",
    "from dataclasses import dataclass, field\n",
    "from timeit import default_timer as timer\n",
    "import numpy as np\n",
    "\n",
    "\n",
    "class InputType(Enum):\n",
    "    \"\"\"Select the type of input.\"\"\"\n",
    "\n",
    "    random = 1\n",
    "    \"\"\"Random input.\"\"\"\n",
    "    sorted = 2\n",
    "    \"\"\"Sorted input.\"\"\"\n",
    "    reversed = 3\n",
    "    \"\"\"Reversed input.\"\"\"\n",
    "\n",
    "class SelectTestType(Enum):\n",
    "    \"\"\"Select the type of sorting test.\"\"\"\n",
    "\n",
    "    insertion_sort = 1\n",
    "    \"\"\"Insertion sort.\"\"\"\n",
    "    counting_sort = 2\n",
    "    \"\"\"Counting sort.\"\"\"\n",
    "\n",
    "@dataclass\n",
    "class InputConfig:\n",
    "    \"\"\"Input configuration.\"\"\"\n",
    "\n",
    "    num_samples: int = 1000\n",
    "    \"\"\"Number of samples.\"\"\"\n",
    "    sample_range: tuple[int, int] = (0, 5000)\n",
    "    \"\"\"Range of the samples.\"\"\"\n",
    "    input_type: InputType = InputType.random\n",
    "    \"\"\"Type of input.\"\"\"\n",
    "\n",
    "\n",
    "@dataclass\n",
    "class InputGenerator:\n",
    "    \"\"\"Input generator.\"\"\"\n",
    "\n",
    "    input_config: InputConfig = InputConfig()\n",
    "    \"\"\"Input configuration.\"\"\"\n",
    "\n",
    "    data: list[int] = field(init=False, default_factory=list)\n",
    "    \"\"\"Data to be used for the tests.\"\"\"\n",
    "\n",
    "    def __post_init__(self):\n",
    "        \"\"\"Initialize the data.\"\"\"\n",
    "        self.data = self._generate()\n",
    "\n",
    "    def _generate(self) -> list[int]:\n",
    "        \"\"\"Generate the data.\"\"\"\n",
    "        match self.input_config.input_type:\n",
    "            case InputType.random:\n",
    "                data = np.random.randint(\n",
    "                    self.input_config.sample_range[0],\n",
    "                    self.input_config.sample_range[1],\n",
    "                    self.input_config.num_samples,\n",
    "                )\n",
    "            case InputType.sorted:\n",
    "                data = np.sort(np.random.randint(\n",
    "                    self.input_config.sample_range[0],\n",
    "                    self.input_config.sample_range[1],\n",
    "                    self.input_config.num_samples,\n",
    "                ))\n",
    "            case InputType.reversed:\n",
    "                data = np.sort(np.random.randint(\n",
    "                    self.input_config.sample_range[0],\n",
    "                    self.input_config.sample_range[1],\n",
    "                    self.input_config.num_samples,\n",
    "                ))\n",
    "                data = data[::-1]\n",
    "            case _:\n",
    "                raise ValueError(\"Invalid input type.\")\n",
    "        return data.tolist()\n",
    "\n",
    "def insertion_test(input_data: list[int]) -> float:\n",
    "    \"\"\"Test the insertion sort algorithm.\"\"\"\n",
    "    start = timer()\n",
    "    insertion_sort(input_data)\n",
    "    end = timer()\n",
    "    return end - start\n",
    "\n",
    "def counting_test(input_data: list[int]) -> float:\n",
    "    \"\"\"Test the counting sort algorithm.\"\"\"\n",
    "    start = timer()\n",
    "    counting_sort(input_data)\n",
    "    end = timer()\n",
    "    return end - start\n",
    "\n",
    "def test(test_type: SelectTestType, input_type: InputType, num_samples: int, sample_range: tuple[int, int], step: int) -> pd.DataFrame:\n",
    "    \"\"\"Test the sorting algorithms.\n",
    "\n",
    "    Args:\n",
    "        test_type (SelectTestType): Type of sorting algorithm to test.\n",
    "        input_type (InputType): Type of input.\n",
    "        num_samples (int): Number of elements to sort.\n",
    "        sample_range (tuple[int, int]): Range of the elements.\n",
    "        step (int): Step to increase the number of elements.\n",
    "\n",
    "        Returns:\n",
    "            pd.DataFrame: Dataframe containing the results.\"\"\"\n",
    "\n",
    "    match test_type:\n",
    "        case SelectTestType.insertion_sort:\n",
    "            test_func = insertion_test\n",
    "        case SelectTestType.counting_sort:\n",
    "            test_func = counting_test\n",
    "        case _:\n",
    "            raise ValueError(\"Invalid queue type.\")\n",
    "    match input_type:\n",
    "        case InputType.random:\n",
    "            input_config = InputConfig(num_samples=num_samples, sample_range=sample_range, input_type=InputType.random)\n",
    "        case InputType.sorted:\n",
    "            input_config = InputConfig(num_samples=num_samples, sample_range=sample_range, input_type=InputType.sorted)\n",
    "        case InputType.reversed:\n",
    "            input_config = InputConfig(num_samples=num_samples, sample_range=sample_range, input_type=InputType.reversed)\n",
    "        case _:\n",
    "            raise ValueError(\"Invalid input type.\")\n",
    "\n",
    "    it = []\n",
    "    for i in np.arange(0, num_samples, step):\n",
    "        input_config.num_samples = i\n",
    "        input_gen = InputGenerator(input_config=input_config)\n",
    "        it.append(test_func(input_gen.data))\n",
    "\n",
    "    times_df = pd.DataFrame(data={\n",
    "        \"num_samples\": np.arange(0, num_samples, step),\n",
    "        \"time\": it,\n",
    "    })\n",
    "    times_df[\"test_type\"] = test_type.name\n",
    "    times_df[\"input_type\"] = input_type.name\n",
    "    return times_df\n",
    "\n",
    "\n"
   ]
  },
  {
   "cell_type": "markdown",
   "id": "6f25c88d",
   "metadata": {},
   "source": [
    "Nella cella sovrastante sono state definite le funzioni e le classi necessarie per eseguire i test. In particolare, sono state definite le seguenti classi:\n",
    "* _SelectTestType_: enum che contiene i tipi di test disponibili (insertion sort e counting sort)\n",
    "* _InputType_: enum che contiene i tipi di input disponibili\n",
    "* _InputConfig_: contiene i parametri necessari per generare l'input (numero di elementi, range degli elementi, tipo di input)\n",
    "* _InputGenerator_: genera l'input in base ai parametri specificati\n",
    "\n",
    "Inoltre, sono state definite le seguenti funzioni:\n",
    "* _insertion_test_: esegue il test dell'algoritmo di insertion sort\n",
    "* _counting_test_: esegue il test dell'algoritmo di counting sort\n",
    "* _test_: esegue il test di uno dei due algoritmi di ordinamento, in base al tipo di test e di input scelti dall'utente. In particolare, questa funzione:\n",
    "    * in base al tipo di test scelto, assegna alla variabile _test_func_ la funzione di test corrispondente\n",
    "    * in base al tipo di input scelto, crea un oggetto _InputConfig_ con i parametri corrispondenti\n",
    "    * i test vengono eseguiti su un numero di elementi che va da 0 a _num_samples_ con passo _step_\n",
    "    * crea un oggetto _InputGenerator_ con l'oggetto _InputConfig_ creato precedentemente\n",
    "    * esegue il test _test_func_ sull'input generato\n",
    "    * crea un dataframe contenente i risultati del test e lo restituisce\n",
    "\n",
    "    Il dataframe contiene le seguenti colonne:\n",
    "        * _num_samples_: numero di elementi ordinati\n",
    "        * _time_: tempo impiegato per ordinare i dati\n",
    "        * _test_type_: tipo di test eseguito (insertion sort o counting sort)\n",
    "        * _input_type_: tipo di input utilizzato (random, ordinato o inversamente ordinato)"
   ]
  },
  {
   "cell_type": "code",
   "execution_count": null,
   "id": "5038b541",
   "metadata": {},
   "outputs": [],
   "source": [
    "def plot_results(num_samples: int, step: int, sample_range: tuple[int, int]):\n",
    "    \"\"\"Plot the results.\"\"\"\n",
    "\n",
    "    \"\"\"Insertion sort tests\"\"\"\n",
    "\n",
    "    df_ins_1 = test(SelectTestType.insertion_sort, InputType.random, num_samples, sample_range, step)\n",
    "    df_ins_2 = test(SelectTestType.insertion_sort, InputType.sorted, num_samples, sample_range, step)\n",
    "    df_ins_3 = test(SelectTestType.insertion_sort, InputType.reversed, num_samples, sample_range, step)\n",
    "\n",
    "    \"\"\"Counting sort tests\"\"\"\n",
    "\n",
    "    df_cnt_1 = test(SelectTestType.counting_sort, InputType.random, num_samples, sample_range, step)\n",
    "    df_cnt_2 = test(SelectTestType.counting_sort, InputType.sorted, num_samples, sample_range, step)\n",
    "    df_cnt_3 = test(SelectTestType.counting_sort, InputType.reversed, num_samples, sample_range, step)\n",
    "\n",
    "    df = pd.concat([df_ins_1, df_ins_2, df_ins_3, df_cnt_1, df_cnt_2, df_cnt_3], ignore_index=True)\n",
    "\n",
    "    return df\n",
    "\n"
   ]
  },
  {
   "cell_type": "markdown",
   "id": "a225a793",
   "metadata": {},
   "source": [
    "Nella cella sovrastante è stata definita la funzione _plot_results_ che esegue tutti i test prendendo in input il numero di elementi dell'array, il passo con il quale devono essere eseguiti i test e il range di generazione dei numeri; restituisce un dataframe Pandas contenente i risultati dei test.\n",
    "Nelle celle successive in cui viene eseguito codice, si mostrano i grafici voluti in base ai parametri scelti dall'utente.\n",
    "In particolare, tramite il framework _plotly_ è possibile creare grafici interattivi che consentono di visualizzare i risultati dei test in maniera più chiara e comprensibile."
   ]
  },
  {
   "cell_type": "markdown",
   "id": "d50f21b2",
   "metadata": {},
   "source": [
    "## Esecuzione dei test"
   ]
  },
  {
   "cell_type": "markdown",
   "id": "9c6202a8",
   "metadata": {},
   "source": [
    "In questa sezione vengono eseguiti i test di ordinamento e vengono mostrati i grafici relativi ai risultati ottenuti. Nello specifico sono stati eseguiti i seguenti test:\n",
    "\n",
    "* Array di dimensione 100 con passo pari a 10 e range di generazione dei numeri da 0 a 10, da 0 a 100 e da 0 a 1000\n",
    "* Array di dimensione 1000 con passo pari a 100 e range di generazione dei numeri da 0 a 100, da 0 a 1000 e da 0 a 10000\n",
    "* Array di dimensione 10000 con passo pari a 100 e range di generazione dei numeri da 0 a 1000, da 0 a 10000 e da 0 a 100000\n",
    "* Array di dimensione 100000 con passo pari a 1000 e range di generazione dei numeri da 0 a 10000, da 0 a 100000 e da 0 a 1000000\n",
    "\n",
    "In tutti i casi, i test sono stati eseguiti su array di numeri casuali, ordinati e inversamente ordinati.\n",
    "I grafici saranno interattivi in modo da poter visualizzare i risultati dei test di insetrtion sort e counting sort anche in maniera separata.\n",
    "\n",
    "La scelta delle dimensioni degli input è stata fatta in modo da poter avere un panoramica completa sui risultati dei test, sia per array di piccole dimensioni, sia per array di grandi dimensioni; analoga scelta è stata fatta per il range di generazione dei numeri, che risulterà di particolare importanza nel caso dell'algoritmo _counting sort_.\n",
    "\n",
    "Sottolineiamo inoltre che al momento della visulizzazione dei grafici è stato scelto di escludere il test su array di dimensione 0 in quanto non ha particolare senso eseguirlo.\n"
   ]
  },
  {
   "cell_type": "markdown",
   "id": "cedb8c51",
   "metadata": {},
   "source": [
    "### 1. Array di dimensione 100"
   ]
  },
  {
   "cell_type": "markdown",
   "id": "67feaf55",
   "metadata": {},
   "source": [
    "Analizziamo i test eseguiti su array di dimensione 100 con passo pari a 10 e range di generazione dei numeri da 0 a 10, da 0 a 100 e da 0 a 1000.\n",
    "I grafici mostrano i risultati dei test di insertion sort e counting sort in base al tipo di input utilizzato. Per questo caso è stato scelto di utilizzare grafici a dispersione, in modo da poter visualizzare in maniera più chiara i risultati dei test."
   ]
  },
  {
   "cell_type": "code",
   "execution_count": null,
   "id": "64882870",
   "metadata": {},
   "outputs": [],
   "source": [
    "df = plot_results(100, 10, (0, 100))"
   ]
  },
  {
   "cell_type": "code",
   "execution_count": null,
   "id": "b0aec926",
   "metadata": {},
   "outputs": [],
   "source": [
    "figure = px.scatter(df.loc[df[\"num_samples\"] > 0],\n",
    "                 x=\"num_samples\",\n",
    "                 y=\"time\",\n",
    "                 color=\"test_type\",\n",
    "                 facet_col=\"input_type\",\n",
    "                 title=\"Sorting algorithms\",\n",
    "                 labels={\"num_samples\": \"Dimensione array\", \"time\": \"Time (s)\", \"test_type\": \"Algoritmo di ordinamento\", \"input_type\": \"Tipo di input\"})\n",
    "\n",
    "figure.show()"
   ]
  },
  {
   "cell_type": "markdown",
   "id": "24cf2993",
   "metadata": {},
   "source": [
    "Visualizziamo il caso con passo pari a 10 e range da 0 a 100. Partendo dall' algoritmo di _insertion sort_, notiamo che nel caso di un input randomico o inversamente ordinato, il tempo impiegato per ordinare l'array cresce in modo quadratico e lo fa in modo particolare nel secondo caso. Nel caso di un input ordinato, invece, il tempo impiegato per ordinare l'array è lineare, in quanto l'array è già ordinato e non è necessario eseguire alcuna operazione di ordinamento, ma solo il ciclo di \"controllo\" su tutti i valori. Visualizzeremo questo aspetto in maniera più chiara nel grafico successivo, dove isoleremo il caso di un input ordinato. Nel caso del _counting sort_, invece, notiamo che il tempo impiegato per ordinare l'array è lineare (visibile deselezionando la dicituara _insertion_sort_ sotto il menù _Algoritmo di ordinamento_), in quanto l'array viene ordinato in tempo _O(n+k)_, senza alcuna operazione di confronto tra elementi. Notiamo che in questo caso il costo computazionale del _counting sort_ è particolarmente basso, in quanto legato al range di generazione dei numeri, che è molto piccolo (da 0 a 100). Questo aspetto sarà più evidente nel caso di array di grandi dimensioni ma anche nei casi con range di generazione dei numeri più grandi."
   ]
  },
  {
   "cell_type": "code",
   "execution_count": null,
   "id": "8165ca5d",
   "metadata": {},
   "outputs": [],
   "source": [
    "figure = px.scatter(df.loc[(df[\"num_samples\"] > 0) & (df[\"input_type\"] == \"sorted\")],\n",
    "                 x=\"num_samples\",\n",
    "                 y=\"time\",\n",
    "                 color=\"test_type\",\n",
    "                 facet_col=\"input_type\",\n",
    "                 title=\"Sorting algorithms\",\n",
    "                 labels={\"num_samples\": \"Dimensione array\", \"time\": \"Time (s)\", \"test_type\": \"Algoritmo di ordinamento\", \"input_type\": \"Tipo di input\"})\n",
    "\n",
    "figure.show()"
   ]
  },
  {
   "cell_type": "markdown",
   "id": "ef906cdd",
   "metadata": {},
   "source": [
    "Come detto in precedenza, nel caso di un input ordinato, l'array è già ordinato e non è necessario eseguire alcuna operazione di ordinamento, ma solo il ciclo di \"controllo\" su tutti i valori. Questo aspetto è evidente nel grafico sovrastante, dove è possibile notare che l'andamento del tempo impiegato per ordinare l'array è lineare. Deselezionando la dicitura _counting_sort_ sotto il menù _Algoritmo di ordinamento_ questo aspetto è ancora più evidente."
   ]
  }
 ],
 "metadata": {
  "kernelspec": {
   "display_name": "Python 3 (ipykernel)",
   "language": "python",
   "name": "python3"
  },
  "language_info": {
   "codemirror_mode": {
    "name": "ipython",
    "version": 3
   },
   "file_extension": ".py",
   "mimetype": "text/x-python",
   "name": "python",
   "nbconvert_exporter": "python",
   "pygments_lexer": "ipython3",
   "version": "3.9.13"
  }
 },
 "nbformat": 4,
 "nbformat_minor": 5
}

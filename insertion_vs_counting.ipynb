{
 "cells": [
  {
   "cell_type": "markdown",
   "id": "6fce8b6c",
   "metadata": {},
   "source": [
    "# Confronto tra Insertion Sort e Counting Sort\n",
    "## Matteo Lotti\n",
    "### Marzo-Aprile 2023"
   ]
  },
  {
   "cell_type": "markdown",
   "id": "78c55621",
   "metadata": {},
   "source": [
    "In questo notebook ci poniamo l'obiettivo di impostare e effettuare un confronto tra due algoritmi di ordinamento. In particolare, i due algoritmi in questione saranno:\n",
    "\n",
    "- __Insertion Sort__\n",
    "\n",
    "- __Counting Sort__\n",
    "\n",
    "Il notebook sarà sviluppato in questo modo:\n",
    "\n",
    "1. Nelle celle successive saranno presenti le implementazioni dei due algoritmi seguiti rispettivamente da una breve spiegazione messa in relazione con le evidenze teoriche conosciute.\n",
    "\n",
    "2. Successivamente sarà presente una cella nella quale saranno implementate le funzioni di test, seguita da un'opportuna spiegazione del codice e dei test che saranno eseguiti\n",
    "\n",
    "3. Saranno effettuati e descritti i dovuti test e i rispettivi risultati\n",
    "\n",
    "4. Nella chiusura tireremo le somme dei risultati ottenuti dagli esperimenti svolti"
   ]
  },
  {
   "cell_type": "markdown",
   "id": "594e3065",
   "metadata": {},
   "source": [
    "## Implementazioni degli algoritmi\n",
    "### Insertion Sort"
   ]
  },
  {
   "cell_type": "code",
   "execution_count": 184,
   "id": "0b68115e",
   "metadata": {},
   "outputs": [],
   "source": [
    "def insertion_sort(arr):\n",
    "    \"\"\"Insertion sort algorithm.\n",
    "\n",
    "    Args:\n",
    "        arr (list): Array to be sorted.\n",
    "\n",
    "    Returns:\n",
    "        list: Sorted array.\n",
    "\n",
    "    Time complexity: O(n^2)\n",
    "    \"\"\"\n",
    "    for i in range(1, len(arr)):\n",
    "        key = arr[i]\n",
    "        j = i - 1\n",
    "        while j >= 0 and key < arr[j]:\n",
    "            arr[j + 1] = arr[j]\n",
    "            j -= 1\n",
    "        arr[j + 1] = key\n",
    "    return arr"
   ]
  },
  {
   "cell_type": "markdown",
   "id": "cd3db634",
   "metadata": {},
   "source": [
    "Nella cella sovrastante possiamo vedere l'implementazione dell'algoritmo di ordinamento __Insertion Sort__. L'algoritmo si basa su un ciclo _for_ iniziale nel quale si inizializza la variabile _key_ con il valore all'indice _i_ dell'array da ordinare. All'interno del _for_ un ciclo _while_ ci permette di iterare sugli elementi precedenti a _key_ in modo tale da posizionare il valore di _key_ nella posizione corretta. Al termine di ogni esecuzione del ciclo _for_, i primi _i_ elementi saranno ordinati e quando termina l'algoritmo tutto l'array sarà ordinato correttamente.\n",
    "\n",
    "Il tempo di esecuzione dell'algoritmo è pari a _O(n^2)_ in quanto ogni elemento viene confrontato con tutti gli elementi precedenti a lui.\n",
    "\n",
    "Nel caso peggiore, l'array è ordinato in modo inverso, quindi l'algoritmo dovrà effettuare _n-1_ confronti per il primo elemento, _n-2_ per il secondo, _n-3_ per il terzo e così via. Quindi il numero totale di confronti sarà pari a: $$\\sum_{i=1}^{n-1} i = \\frac{(n-1)(n)}{2} = \\frac{n^2-n}{2}$$\n",
    "e il tempo di esecuzione sarà pari a: $$\\frac{n^2-n}{2} \\cdot c$$ dove _c_ è il tempo di esecuzione di un singolo confronto. Percò il tempo di esecuzione è sempre pari a _Θ(n^2)_.\n",
    "\n",
    "Nel caso migliore, l'array è già ordinato, quindi l'algoritmo non dovrà effettuare alcun confronto. Quindi il tempo di esecuzione sarà pari a: $$n \\cdot c$$ dove _c_ è il tempo di esecuzione di un singolo confronto."
   ]
  },
  {
   "cell_type": "markdown",
   "id": "7af2bd67",
   "metadata": {},
   "source": [
    "### Counting Sort"
   ]
  },
  {
   "cell_type": "code",
   "execution_count": 185,
   "id": "d1e62f77",
   "metadata": {},
   "outputs": [],
   "source": [
    "def counting_sort(arr):\n",
    "    \"\"\"Counting sort algorithm.\n",
    "\n",
    "    Args:\n",
    "        arr (list): Array to be sorted.\n",
    "\n",
    "    Returns:\n",
    "        list: Sorted array.\n",
    "\n",
    "    Time complexity: O(n+k)\n",
    "\n",
    "    k is the value of the maximum element in the array.\n",
    "    \"\"\"\n",
    "    if not arr:\n",
    "        return arr\n",
    "    max_element = max(arr) #k\n",
    "    count_array = [0] * (max_element + 1) #primo for\n",
    "\n",
    "    for element in arr:\n",
    "        count_array[element] += 1\n",
    "\n",
    "    for i in range(1, len(count_array)):\n",
    "        count_array[i] += count_array[i-1]\n",
    "\n",
    "    sorted_array = [0] * len(arr)\n",
    "    for element in reversed(arr):\n",
    "        sorted_array[count_array[element]-1] = element #-1 perché indicizzazione parte da 0\n",
    "        count_array[element] -= 1\n",
    "\n",
    "    return sorted_array\n"
   ]
  },
  {
   "cell_type": "markdown",
   "id": "23fb1f6b",
   "metadata": {},
   "source": [
    "Nella cella sovrastante troviamo l'algoritmo di ordinamento __Counting Sort__. Sottlineamo il fatto che questo algoritmi è utilizzabile solo per liste di numeri interi. Non è un algoritmo che opera per confronti, ma si basa sul determinare la posizione di ogni elemento nell'array ordinato in base a quanti sono gli elementi minori o uguali ad esso. In particolare, è necessario un array di appoggio di dimensione _max_element_, dove _max_element_ non è altro che il valore massimo presente nell'array di partenza. Successivamente, dopo aver inzializzato quest'array con tutti 0, incrementiamo di 1 l'elemento di indice _i_ per ogni elemento uguale a _i_ nell'array iniziale; poi scorriamo l'array di appoggio sommando ad ogni elemento tutti gli elementi ad esso precedenti. Quello che otteniamo dopo queste due operazioni non è altro che un array di appoggio in cui l'elemento di indice _x_ ha come valore il numero di elementi minori o uguali a _x_ nell'array iniziale. L'ultimo passaggio è quello di copiare su un nuovo array gli elementi ordinati, considerando che nell'array di appoggio l'elemento con indice _x_ risulta essere la posizione di _x_ nell'array ordinato. Decrementando poi progressivamente i valori dell'array di appoggio si riescono a gestire anche ventuali copie multiple di uno stesso valore.\n",
    "\n",
    "L'algoritmo scorre per due volte l'array iniziale e per due volte l'array di appoggio. Per l'array iniziale il costo sarà _Θ(n)_ dove _n_ è la dimensione dell'array, mentre per l'array di appoggio il costo sarà _Θ(k)_ dove _k_ non èaltro che il massimo valore presente nell'array iniziale Quindi il tempo di esecuzione è sempre pari a _Θ(n+k)_, che diventa _Θ(n)_ nel caso in cui _k=O(n)_."
   ]
  },
  {
   "cell_type": "markdown",
   "id": "71f0e1a4",
   "metadata": {},
   "source": [
    "## Implementazione e spiegazione delle funzioni di test"
   ]
  },
  {
   "cell_type": "code",
   "execution_count": 186,
   "id": "d05763a2",
   "metadata": {},
   "outputs": [],
   "source": [
    "import pandas as pd\n",
    "import plotly.express as px\n",
    "from enum import Enum\n",
    "from dataclasses import dataclass, field\n",
    "from timeit import default_timer as timer\n",
    "import numpy as np\n",
    "\n",
    "\n",
    "class InputType(Enum):\n",
    "    \"\"\"Select the type of input.\"\"\"\n",
    "\n",
    "    random = 1\n",
    "    \"\"\"Random input.\"\"\"\n",
    "    sorted = 2\n",
    "    \"\"\"Sorted input.\"\"\"\n",
    "    reversed = 3\n",
    "    \"\"\"Reversed input.\"\"\"\n",
    "\n",
    "class SelectTestType(Enum):\n",
    "    \"\"\"Select the type of sorting test.\"\"\"\n",
    "\n",
    "    insertion_sort = 1\n",
    "    \"\"\"Insertion sort.\"\"\"\n",
    "    counting_sort = 2\n",
    "    \"\"\"Counting sort.\"\"\"\n",
    "\n",
    "@dataclass\n",
    "class InputConfig:\n",
    "    \"\"\"Input configuration.\"\"\"\n",
    "\n",
    "    num_samples: int = 1000\n",
    "    \"\"\"Number of samples.\"\"\"\n",
    "    sample_range: tuple[int, int] = (0, 5000)\n",
    "    \"\"\"Range of the samples.\"\"\"\n",
    "    input_type: InputType = InputType.random\n",
    "    \"\"\"Type of input.\"\"\"\n",
    "\n",
    "\n",
    "@dataclass\n",
    "class InputGenerator:\n",
    "    \"\"\"Input generator.\"\"\"\n",
    "\n",
    "    input_config: InputConfig = InputConfig()\n",
    "    \"\"\"Input configuration.\"\"\"\n",
    "\n",
    "    data: list[int] = field(init=False, default_factory=list)\n",
    "    \"\"\"Data to be used for the tests.\"\"\"\n",
    "\n",
    "    def __post_init__(self):\n",
    "        \"\"\"Initialize the data.\"\"\"\n",
    "        self.data = self._generate()\n",
    "\n",
    "    def _generate(self) -> list[int]:\n",
    "        \"\"\"Generate the data.\"\"\"\n",
    "        match self.input_config.input_type:\n",
    "            case InputType.random:\n",
    "                data = np.random.randint(\n",
    "                    self.input_config.sample_range[0],\n",
    "                    self.input_config.sample_range[1],\n",
    "                    self.input_config.num_samples,\n",
    "                )\n",
    "            case InputType.sorted:\n",
    "                data = np.sort(np.random.randint(\n",
    "                    self.input_config.sample_range[0],\n",
    "                    self.input_config.sample_range[1],\n",
    "                    self.input_config.num_samples,\n",
    "                ))\n",
    "            case InputType.reversed:\n",
    "                data = np.sort(np.random.randint(\n",
    "                    self.input_config.sample_range[0],\n",
    "                    self.input_config.sample_range[1],\n",
    "                    self.input_config.num_samples,\n",
    "                ))\n",
    "                data = data[::-1]\n",
    "            case _:\n",
    "                raise ValueError(\"Invalid input type.\")\n",
    "        return data.tolist()\n",
    "\n",
    "def insertion_test(input_data: list[int]) -> float:\n",
    "    \"\"\"Test the insertion sort algorithm.\"\"\"\n",
    "    start = timer()\n",
    "    insertion_sort(input_data)\n",
    "    end = timer()\n",
    "    return end - start\n",
    "\n",
    "def counting_test(input_data: list[int]) -> float:\n",
    "    \"\"\"Test the counting sort algorithm.\"\"\"\n",
    "    start = timer()\n",
    "    counting_sort(input_data)\n",
    "    end = timer()\n",
    "    return end - start\n",
    "\n",
    "def test(test_type: SelectTestType, input_type: InputType, num_samples: int, sample_range: tuple[int, int], step: int) -> pd.DataFrame:\n",
    "    \"\"\"Test the sorting algorithms.\n",
    "\n",
    "    Args:\n",
    "        test_type (SelectTestType): Type of sorting algorithm to test.\n",
    "        input_type (InputType): Type of input.\n",
    "        num_samples (int): Number of elements to sort.\n",
    "        sample_range (tuple[int, int]): Range of the elements.\n",
    "        step (int): Step to increase the number of elements.\n",
    "\n",
    "        Returns:\n",
    "            pd.DataFrame: Dataframe containing the results.\"\"\"\n",
    "\n",
    "    match test_type:\n",
    "        case SelectTestType.insertion_sort:\n",
    "            test_func = insertion_test\n",
    "        case SelectTestType.counting_sort:\n",
    "            test_func = counting_test\n",
    "        case _:\n",
    "            raise ValueError(\"Invalid queue type.\")\n",
    "    match input_type:\n",
    "        case InputType.random:\n",
    "            input_config = InputConfig(num_samples=num_samples, sample_range=sample_range, input_type=InputType.random)\n",
    "        case InputType.sorted:\n",
    "            input_config = InputConfig(num_samples=num_samples, sample_range=sample_range, input_type=InputType.sorted)\n",
    "        case InputType.reversed:\n",
    "            input_config = InputConfig(num_samples=num_samples, sample_range=sample_range, input_type=InputType.reversed)\n",
    "        case _:\n",
    "            raise ValueError(\"Invalid input type.\")\n",
    "\n",
    "    it = []\n",
    "    for i in np.arange(0, num_samples, step):\n",
    "        input_config.num_samples = i\n",
    "        input_gen = InputGenerator(input_config=input_config)\n",
    "        it.append(test_func(input_gen.data))\n",
    "\n",
    "    times_df = pd.DataFrame(data={\n",
    "        \"num_samples\": np.arange(0, num_samples, step),\n",
    "        \"time\": it,\n",
    "    })\n",
    "    times_df[\"test_type\"] = test_type.name\n",
    "    times_df[\"input_type\"] = input_type.name\n",
    "    return times_df\n",
    "\n",
    "\n"
   ]
  },
  {
   "cell_type": "markdown",
   "id": "6f25c88d",
   "metadata": {},
   "source": [
    "Nella cella sovrastante sono state definite le funzioni e le classi necessarie per eseguire i test. In particolare, sono state definite le seguenti classi:\n",
    "* _SelectTestType_: enum che contiene i tipi di test disponibili (insertion sort e counting sort)\n",
    "* _InputType_: enum che contiene i tipi di input disponibili\n",
    "* _InputConfig_: contiene i parametri necessari per generare l'input (numero di elementi, range degli elementi, tipo di input)\n",
    "* _InputGenerator_: genera l'input in base ai parametri specificati\n",
    "\n",
    "Inoltre, sono state definite le seguenti funzioni:\n",
    "* _insertion_test_: esegue il test dell'algoritmo di insertion sort\n",
    "* _counting_test_: esegue il test dell'algoritmo di counting sort\n",
    "* _test_: esegue il test di uno dei due algoritmi di ordinamento, in base al tipo di test e di input scelti dall'utente. In particolare, questa funzione:\n",
    "    * in base al tipo di test scelto, assegna alla variabile _test_func_ la funzione di test corrispondente\n",
    "    * in base al tipo di input scelto, crea un oggetto _InputConfig_ con i parametri corrispondenti\n",
    "    * i test vengono eseguiti su un numero di elementi che va da 0 a _num_samples_ con passo _step_\n",
    "    * crea un oggetto _InputGenerator_ con l'oggetto _InputConfig_ creato precedentemente\n",
    "    * esegue il test _test_func_ sull'input generato\n",
    "    * crea un dataframe contenente i risultati del test e lo restituisce\n",
    "\n",
    "    Il dataframe contiene le seguenti colonne:\n",
    "    * _num_samples_: numero di elementi ordinati\n",
    "    * _time_: tempo impiegato per ordinare gli elementi\n",
    "    * _test_type_: tipo di test eseguito (insertion sort o counting sort)\n",
    "    * _input_type_: tipo di input utilizzato (random, ordinato o inversamente ordinato)"
   ]
  },
  {
   "cell_type": "code",
   "execution_count": 187,
   "id": "5038b541",
   "metadata": {},
   "outputs": [],
   "source": [
    "def plot_results(num_samples: int, step: int, sample_range: tuple[int, int]):\n",
    "    \"\"\"Plot the results.\"\"\"\n",
    "\n",
    "    \"\"\"Insertion sort tests\"\"\"\n",
    "\n",
    "    df_ins_1 = test(SelectTestType.insertion_sort, InputType.random, num_samples, sample_range, step)\n",
    "    df_ins_2 = test(SelectTestType.insertion_sort, InputType.sorted, num_samples, sample_range, step)\n",
    "    df_ins_3 = test(SelectTestType.insertion_sort, InputType.reversed, num_samples, sample_range, step)\n",
    "\n",
    "    \"\"\"Counting sort tests\"\"\"\n",
    "\n",
    "    df_cnt_1 = test(SelectTestType.counting_sort, InputType.random, num_samples, sample_range, step)\n",
    "    df_cnt_2 = test(SelectTestType.counting_sort, InputType.sorted, num_samples, sample_range, step)\n",
    "    df_cnt_3 = test(SelectTestType.counting_sort, InputType.reversed, num_samples, sample_range, step)\n",
    "\n",
    "    df = pd.concat([df_ins_1, df_ins_2, df_ins_3, df_cnt_1, df_cnt_2, df_cnt_3], ignore_index=True)\n",
    "\n",
    "    return df\n",
    "\n"
   ]
  },
  {
   "cell_type": "markdown",
   "id": "a225a793",
   "metadata": {},
   "source": [
    "Nella cella sovrastante è stata definita la funzione _plot_results_ che esegue tutti i test prendendo in input il numero di elementi dell'array, il passo con il quale devono essere eseguiti i test e il range di generazione dei numeri; restituisce un dataframe Pandas contenente i risultati dei test.\n",
    "Nelle celle successive in cui viene eseguito codice, si mostrano i grafici voluti in base ai parametri scelti dall'utente.\n",
    "In particolare, tramite il framework _plotly_ è possibile creare grafici interattivi che consentono di visualizzare i risultati dei test in maniera più chiara e comprensibile."
   ]
  },
  {
   "cell_type": "markdown",
   "id": "d50f21b2",
   "metadata": {},
   "source": [
    "## Esecuzione dei test"
   ]
  },
  {
   "cell_type": "markdown",
   "id": "9c6202a8",
   "metadata": {},
   "source": [
    "In questa sezione vengono eseguiti i test di ordinamento e vengono mostrati i grafici relativi ai risultati ottenuti. Nello specifico sono stati eseguiti i seguenti test:\n",
    "\n",
    "* Array di dimensione 100 con passo pari a 10 e range di generazione dei numeri da 0 a 100 e da 0 a 1000\n",
    "* Array di dimensione 1000 con passo pari a 10 e range di generazione dei numeri da 0 a 10000, da 0 a 100000, da 0 a 1000000\n",
    "* Array di dimensione 10000 con passo pari a 100 e range di generazione dei numeri da 0 a 100000 e da 0 a 1000000\n",
    "\n",
    "In tutti i casi, i test sono stati eseguiti su array di numeri casuali, ordinati e inversamente ordinati.\n",
    "I grafici saranno interattivi in modo da poter visualizzare i risultati dei test di insetrtion sort e counting sort anche in maniera separata.\n",
    "\n",
    "La scelta delle dimensioni degli input è stata fatta in modo da poter avere un panoramica completa sui risultati dei test, sia per array di piccole dimensioni, sia per array di grandi dimensioni; analoga scelta è stata fatta per il range di generazione dei numeri, che risulterà di particolare importanza nel caso dell'algoritmo _counting sort_.\n",
    "\n",
    "Sottolineiamo inoltre che al momento della visulizzazione dei grafici è stato scelto di escludere il test su array di dimensione 0 in quanto non ha particolare senso eseguirlo.\n"
   ]
  },
  {
   "cell_type": "markdown",
   "id": "cedb8c51",
   "metadata": {},
   "source": [
    "### 1. Array di dimensione 100"
   ]
  },
  {
   "cell_type": "markdown",
   "id": "67feaf55",
   "metadata": {},
   "source": [
    "Analizziamo i test eseguiti su array di dimensione 100 con passo pari a 10 e range di generazione dei numeri da 0 a 100 e da 0 a 1000.\n",
    "I grafici mostrano i risultati dei test di insertion sort e counting sort in base al tipo di input utilizzato. Per questo caso è stato scelto di utilizzare grafici a dispersione, in modo da poter visualizzare in maniera più chiara i risultati dei test."
   ]
  },
  {
   "cell_type": "markdown",
   "source": [
    "#### Array di dimensione 100 con range da 0 a 100"
   ],
   "metadata": {
    "collapsed": false
   }
  },
  {
   "cell_type": "code",
   "execution_count": 201,
   "id": "64882870",
   "metadata": {},
   "outputs": [],
   "source": [
    "df = plot_results(100, 10, (0, 100))"
   ]
  },
  {
   "cell_type": "code",
   "execution_count": 202,
   "id": "b0aec926",
   "metadata": {},
   "outputs": [
    {
     "data": {
      "application/vnd.plotly.v1+json": {
       "data": [
        {
         "hovertemplate": "Algoritmo di ordinamento=insertion_sort<br>Tipo di input=random<br>Dimensione array=%{x}<br>Time (s)=%{y}<extra></extra>",
         "legendgroup": "insertion_sort",
         "marker": {
          "color": "#636efa",
          "symbol": "circle"
         },
         "mode": "markers",
         "name": "insertion_sort",
         "orientation": "v",
         "showlegend": true,
         "x": [
          10,
          20,
          30,
          40,
          50,
          60,
          70,
          80,
          90
         ],
         "xaxis": "x",
         "y": [
          5.799985956400633E-6,
          1.4500052202492952E-5,
          2.700003096833825E-5,
          5.8999983593821526E-5,
          1.1040002573281527E-4,
          1.8010003259405494E-4,
          2.42499983869493E-4,
          2.7270003920421004E-4,
          3.0860002152621746E-4
         ],
         "yaxis": "y",
         "type": "scatter"
        },
        {
         "hovertemplate": "Algoritmo di ordinamento=insertion_sort<br>Tipo di input=sorted<br>Dimensione array=%{x}<br>Time (s)=%{y}<extra></extra>",
         "legendgroup": "insertion_sort",
         "marker": {
          "color": "#636efa",
          "symbol": "circle"
         },
         "mode": "markers",
         "name": "insertion_sort",
         "orientation": "v",
         "showlegend": false,
         "x": [
          10,
          20,
          30,
          40,
          50,
          60,
          70,
          80,
          90
         ],
         "xaxis": "x2",
         "y": [
          3.7999707274138927E-6,
          6.099988240748644E-6,
          5.600042641162872E-6,
          5.599984433501959E-6,
          6.799993570894003E-6,
          9.500014130026102E-6,
          9.600014891475439E-6,
          1.0100018698722124E-5,
          1.0800024028867483E-5
         ],
         "yaxis": "y2",
         "type": "scatter"
        },
        {
         "hovertemplate": "Algoritmo di ordinamento=insertion_sort<br>Tipo di input=reversed<br>Dimensione array=%{x}<br>Time (s)=%{y}<extra></extra>",
         "legendgroup": "insertion_sort",
         "marker": {
          "color": "#636efa",
          "symbol": "circle"
         },
         "mode": "markers",
         "name": "insertion_sort",
         "orientation": "v",
         "showlegend": false,
         "x": [
          10,
          20,
          30,
          40,
          50,
          60,
          70,
          80,
          90
         ],
         "xaxis": "x3",
         "y": [
          6.89999433234334E-6,
          2.1599989850074053E-5,
          4.5900000259280205E-5,
          8.050003089010715E-5,
          1.235000090673566E-4,
          1.773000112734735E-4,
          2.403000253252685E-4,
          3.121999907307327E-4,
          3.9440003456547856E-4
         ],
         "yaxis": "y3",
         "type": "scatter"
        },
        {
         "hovertemplate": "Algoritmo di ordinamento=counting_sort<br>Tipo di input=random<br>Dimensione array=%{x}<br>Time (s)=%{y}<extra></extra>",
         "legendgroup": "counting_sort",
         "marker": {
          "color": "#EF553B",
          "symbol": "circle"
         },
         "mode": "markers",
         "name": "counting_sort",
         "orientation": "v",
         "showlegend": true,
         "x": [
          10,
          20,
          30,
          40,
          50,
          60,
          70,
          80,
          90
         ],
         "xaxis": "x",
         "y": [
          1.610000617802143E-5,
          1.3399985618889332E-5,
          1.3399985618889332E-5,
          2.039998071268201E-5,
          1.7000013031065464E-5,
          1.7899961676448584E-5,
          1.9899976905435324E-5,
          2.1400046534836292E-5,
          2.2599997464567423E-5
         ],
         "yaxis": "y",
         "type": "scatter"
        },
        {
         "hovertemplate": "Algoritmo di ordinamento=counting_sort<br>Tipo di input=sorted<br>Dimensione array=%{x}<br>Time (s)=%{y}<extra></extra>",
         "legendgroup": "counting_sort",
         "marker": {
          "color": "#EF553B",
          "symbol": "circle"
         },
         "mode": "markers",
         "name": "counting_sort",
         "orientation": "v",
         "showlegend": false,
         "x": [
          10,
          20,
          30,
          40,
          50,
          60,
          70,
          80,
          90
         ],
         "xaxis": "x2",
         "y": [
          1.2199976481497288E-5,
          1.2699980288743973E-5,
          1.3899989426136017E-5,
          1.550000160932541E-5,
          1.6400008462369442E-5,
          1.839996548369527E-5,
          1.9700033590197563E-5,
          2.099998528137803E-5,
          2.2799998987466097E-5
         ],
         "yaxis": "y2",
         "type": "scatter"
        },
        {
         "hovertemplate": "Algoritmo di ordinamento=counting_sort<br>Tipo di input=reversed<br>Dimensione array=%{x}<br>Time (s)=%{y}<extra></extra>",
         "legendgroup": "counting_sort",
         "marker": {
          "color": "#EF553B",
          "symbol": "circle"
         },
         "mode": "markers",
         "name": "counting_sort",
         "orientation": "v",
         "showlegend": false,
         "x": [
          10,
          20,
          30,
          40,
          50,
          60,
          70,
          80,
          90
         ],
         "xaxis": "x3",
         "y": [
          1.260003773495555E-5,
          1.2399978004395962E-5,
          1.3399985618889332E-5,
          1.5300000086426735E-5,
          1.7799960914999247E-5,
          1.910002902150154E-5,
          1.969997538253665E-5,
          2.19999928958714E-5,
          2.2799998987466097E-5
         ],
         "yaxis": "y3",
         "type": "scatter"
        }
       ],
       "layout": {
        "template": {
         "data": {
          "histogram2dcontour": [
           {
            "type": "histogram2dcontour",
            "colorbar": {
             "outlinewidth": 0,
             "ticks": ""
            },
            "colorscale": [
             [
              0.0,
              "#0d0887"
             ],
             [
              0.1111111111111111,
              "#46039f"
             ],
             [
              0.2222222222222222,
              "#7201a8"
             ],
             [
              0.3333333333333333,
              "#9c179e"
             ],
             [
              0.4444444444444444,
              "#bd3786"
             ],
             [
              0.5555555555555556,
              "#d8576b"
             ],
             [
              0.6666666666666666,
              "#ed7953"
             ],
             [
              0.7777777777777778,
              "#fb9f3a"
             ],
             [
              0.8888888888888888,
              "#fdca26"
             ],
             [
              1.0,
              "#f0f921"
             ]
            ]
           }
          ],
          "choropleth": [
           {
            "type": "choropleth",
            "colorbar": {
             "outlinewidth": 0,
             "ticks": ""
            }
           }
          ],
          "histogram2d": [
           {
            "type": "histogram2d",
            "colorbar": {
             "outlinewidth": 0,
             "ticks": ""
            },
            "colorscale": [
             [
              0.0,
              "#0d0887"
             ],
             [
              0.1111111111111111,
              "#46039f"
             ],
             [
              0.2222222222222222,
              "#7201a8"
             ],
             [
              0.3333333333333333,
              "#9c179e"
             ],
             [
              0.4444444444444444,
              "#bd3786"
             ],
             [
              0.5555555555555556,
              "#d8576b"
             ],
             [
              0.6666666666666666,
              "#ed7953"
             ],
             [
              0.7777777777777778,
              "#fb9f3a"
             ],
             [
              0.8888888888888888,
              "#fdca26"
             ],
             [
              1.0,
              "#f0f921"
             ]
            ]
           }
          ],
          "heatmap": [
           {
            "type": "heatmap",
            "colorbar": {
             "outlinewidth": 0,
             "ticks": ""
            },
            "colorscale": [
             [
              0.0,
              "#0d0887"
             ],
             [
              0.1111111111111111,
              "#46039f"
             ],
             [
              0.2222222222222222,
              "#7201a8"
             ],
             [
              0.3333333333333333,
              "#9c179e"
             ],
             [
              0.4444444444444444,
              "#bd3786"
             ],
             [
              0.5555555555555556,
              "#d8576b"
             ],
             [
              0.6666666666666666,
              "#ed7953"
             ],
             [
              0.7777777777777778,
              "#fb9f3a"
             ],
             [
              0.8888888888888888,
              "#fdca26"
             ],
             [
              1.0,
              "#f0f921"
             ]
            ]
           }
          ],
          "heatmapgl": [
           {
            "type": "heatmapgl",
            "colorbar": {
             "outlinewidth": 0,
             "ticks": ""
            },
            "colorscale": [
             [
              0.0,
              "#0d0887"
             ],
             [
              0.1111111111111111,
              "#46039f"
             ],
             [
              0.2222222222222222,
              "#7201a8"
             ],
             [
              0.3333333333333333,
              "#9c179e"
             ],
             [
              0.4444444444444444,
              "#bd3786"
             ],
             [
              0.5555555555555556,
              "#d8576b"
             ],
             [
              0.6666666666666666,
              "#ed7953"
             ],
             [
              0.7777777777777778,
              "#fb9f3a"
             ],
             [
              0.8888888888888888,
              "#fdca26"
             ],
             [
              1.0,
              "#f0f921"
             ]
            ]
           }
          ],
          "contourcarpet": [
           {
            "type": "contourcarpet",
            "colorbar": {
             "outlinewidth": 0,
             "ticks": ""
            }
           }
          ],
          "contour": [
           {
            "type": "contour",
            "colorbar": {
             "outlinewidth": 0,
             "ticks": ""
            },
            "colorscale": [
             [
              0.0,
              "#0d0887"
             ],
             [
              0.1111111111111111,
              "#46039f"
             ],
             [
              0.2222222222222222,
              "#7201a8"
             ],
             [
              0.3333333333333333,
              "#9c179e"
             ],
             [
              0.4444444444444444,
              "#bd3786"
             ],
             [
              0.5555555555555556,
              "#d8576b"
             ],
             [
              0.6666666666666666,
              "#ed7953"
             ],
             [
              0.7777777777777778,
              "#fb9f3a"
             ],
             [
              0.8888888888888888,
              "#fdca26"
             ],
             [
              1.0,
              "#f0f921"
             ]
            ]
           }
          ],
          "surface": [
           {
            "type": "surface",
            "colorbar": {
             "outlinewidth": 0,
             "ticks": ""
            },
            "colorscale": [
             [
              0.0,
              "#0d0887"
             ],
             [
              0.1111111111111111,
              "#46039f"
             ],
             [
              0.2222222222222222,
              "#7201a8"
             ],
             [
              0.3333333333333333,
              "#9c179e"
             ],
             [
              0.4444444444444444,
              "#bd3786"
             ],
             [
              0.5555555555555556,
              "#d8576b"
             ],
             [
              0.6666666666666666,
              "#ed7953"
             ],
             [
              0.7777777777777778,
              "#fb9f3a"
             ],
             [
              0.8888888888888888,
              "#fdca26"
             ],
             [
              1.0,
              "#f0f921"
             ]
            ]
           }
          ],
          "mesh3d": [
           {
            "type": "mesh3d",
            "colorbar": {
             "outlinewidth": 0,
             "ticks": ""
            }
           }
          ],
          "scatter": [
           {
            "marker": {
             "line": {
              "color": "#283442"
             }
            },
            "type": "scatter"
           }
          ],
          "parcoords": [
           {
            "type": "parcoords",
            "line": {
             "colorbar": {
              "outlinewidth": 0,
              "ticks": ""
             }
            }
           }
          ],
          "scatterpolargl": [
           {
            "type": "scatterpolargl",
            "marker": {
             "colorbar": {
              "outlinewidth": 0,
              "ticks": ""
             }
            }
           }
          ],
          "bar": [
           {
            "error_x": {
             "color": "#f2f5fa"
            },
            "error_y": {
             "color": "#f2f5fa"
            },
            "marker": {
             "line": {
              "color": "rgb(17,17,17)",
              "width": 0.5
             },
             "pattern": {
              "fillmode": "overlay",
              "size": 10,
              "solidity": 0.2
             }
            },
            "type": "bar"
           }
          ],
          "scattergeo": [
           {
            "type": "scattergeo",
            "marker": {
             "colorbar": {
              "outlinewidth": 0,
              "ticks": ""
             }
            }
           }
          ],
          "scatterpolar": [
           {
            "type": "scatterpolar",
            "marker": {
             "colorbar": {
              "outlinewidth": 0,
              "ticks": ""
             }
            }
           }
          ],
          "histogram": [
           {
            "marker": {
             "pattern": {
              "fillmode": "overlay",
              "size": 10,
              "solidity": 0.2
             }
            },
            "type": "histogram"
           }
          ],
          "scattergl": [
           {
            "marker": {
             "line": {
              "color": "#283442"
             }
            },
            "type": "scattergl"
           }
          ],
          "scatter3d": [
           {
            "type": "scatter3d",
            "line": {
             "colorbar": {
              "outlinewidth": 0,
              "ticks": ""
             }
            },
            "marker": {
             "colorbar": {
              "outlinewidth": 0,
              "ticks": ""
             }
            }
           }
          ],
          "scattermapbox": [
           {
            "type": "scattermapbox",
            "marker": {
             "colorbar": {
              "outlinewidth": 0,
              "ticks": ""
             }
            }
           }
          ],
          "scatterternary": [
           {
            "type": "scatterternary",
            "marker": {
             "colorbar": {
              "outlinewidth": 0,
              "ticks": ""
             }
            }
           }
          ],
          "scattercarpet": [
           {
            "type": "scattercarpet",
            "marker": {
             "colorbar": {
              "outlinewidth": 0,
              "ticks": ""
             }
            }
           }
          ],
          "carpet": [
           {
            "aaxis": {
             "endlinecolor": "#A2B1C6",
             "gridcolor": "#506784",
             "linecolor": "#506784",
             "minorgridcolor": "#506784",
             "startlinecolor": "#A2B1C6"
            },
            "baxis": {
             "endlinecolor": "#A2B1C6",
             "gridcolor": "#506784",
             "linecolor": "#506784",
             "minorgridcolor": "#506784",
             "startlinecolor": "#A2B1C6"
            },
            "type": "carpet"
           }
          ],
          "table": [
           {
            "cells": {
             "fill": {
              "color": "#506784"
             },
             "line": {
              "color": "rgb(17,17,17)"
             }
            },
            "header": {
             "fill": {
              "color": "#2a3f5f"
             },
             "line": {
              "color": "rgb(17,17,17)"
             }
            },
            "type": "table"
           }
          ],
          "barpolar": [
           {
            "marker": {
             "line": {
              "color": "rgb(17,17,17)",
              "width": 0.5
             },
             "pattern": {
              "fillmode": "overlay",
              "size": 10,
              "solidity": 0.2
             }
            },
            "type": "barpolar"
           }
          ],
          "pie": [
           {
            "automargin": true,
            "type": "pie"
           }
          ]
         },
         "layout": {
          "autotypenumbers": "strict",
          "colorway": [
           "#636efa",
           "#EF553B",
           "#00cc96",
           "#ab63fa",
           "#FFA15A",
           "#19d3f3",
           "#FF6692",
           "#B6E880",
           "#FF97FF",
           "#FECB52"
          ],
          "font": {
           "color": "#f2f5fa"
          },
          "hovermode": "closest",
          "hoverlabel": {
           "align": "left"
          },
          "paper_bgcolor": "rgb(17,17,17)",
          "plot_bgcolor": "rgb(17,17,17)",
          "polar": {
           "bgcolor": "rgb(17,17,17)",
           "angularaxis": {
            "gridcolor": "#506784",
            "linecolor": "#506784",
            "ticks": ""
           },
           "radialaxis": {
            "gridcolor": "#506784",
            "linecolor": "#506784",
            "ticks": ""
           }
          },
          "ternary": {
           "bgcolor": "rgb(17,17,17)",
           "aaxis": {
            "gridcolor": "#506784",
            "linecolor": "#506784",
            "ticks": ""
           },
           "baxis": {
            "gridcolor": "#506784",
            "linecolor": "#506784",
            "ticks": ""
           },
           "caxis": {
            "gridcolor": "#506784",
            "linecolor": "#506784",
            "ticks": ""
           }
          },
          "coloraxis": {
           "colorbar": {
            "outlinewidth": 0,
            "ticks": ""
           }
          },
          "colorscale": {
           "sequential": [
            [
             0.0,
             "#0d0887"
            ],
            [
             0.1111111111111111,
             "#46039f"
            ],
            [
             0.2222222222222222,
             "#7201a8"
            ],
            [
             0.3333333333333333,
             "#9c179e"
            ],
            [
             0.4444444444444444,
             "#bd3786"
            ],
            [
             0.5555555555555556,
             "#d8576b"
            ],
            [
             0.6666666666666666,
             "#ed7953"
            ],
            [
             0.7777777777777778,
             "#fb9f3a"
            ],
            [
             0.8888888888888888,
             "#fdca26"
            ],
            [
             1.0,
             "#f0f921"
            ]
           ],
           "sequentialminus": [
            [
             0.0,
             "#0d0887"
            ],
            [
             0.1111111111111111,
             "#46039f"
            ],
            [
             0.2222222222222222,
             "#7201a8"
            ],
            [
             0.3333333333333333,
             "#9c179e"
            ],
            [
             0.4444444444444444,
             "#bd3786"
            ],
            [
             0.5555555555555556,
             "#d8576b"
            ],
            [
             0.6666666666666666,
             "#ed7953"
            ],
            [
             0.7777777777777778,
             "#fb9f3a"
            ],
            [
             0.8888888888888888,
             "#fdca26"
            ],
            [
             1.0,
             "#f0f921"
            ]
           ],
           "diverging": [
            [
             0,
             "#8e0152"
            ],
            [
             0.1,
             "#c51b7d"
            ],
            [
             0.2,
             "#de77ae"
            ],
            [
             0.3,
             "#f1b6da"
            ],
            [
             0.4,
             "#fde0ef"
            ],
            [
             0.5,
             "#f7f7f7"
            ],
            [
             0.6,
             "#e6f5d0"
            ],
            [
             0.7,
             "#b8e186"
            ],
            [
             0.8,
             "#7fbc41"
            ],
            [
             0.9,
             "#4d9221"
            ],
            [
             1,
             "#276419"
            ]
           ]
          },
          "xaxis": {
           "gridcolor": "#283442",
           "linecolor": "#506784",
           "ticks": "",
           "title": {
            "standoff": 15
           },
           "zerolinecolor": "#283442",
           "automargin": true,
           "zerolinewidth": 2
          },
          "yaxis": {
           "gridcolor": "#283442",
           "linecolor": "#506784",
           "ticks": "",
           "title": {
            "standoff": 15
           },
           "zerolinecolor": "#283442",
           "automargin": true,
           "zerolinewidth": 2
          },
          "scene": {
           "xaxis": {
            "backgroundcolor": "rgb(17,17,17)",
            "gridcolor": "#506784",
            "linecolor": "#506784",
            "showbackground": true,
            "ticks": "",
            "zerolinecolor": "#C8D4E3",
            "gridwidth": 2
           },
           "yaxis": {
            "backgroundcolor": "rgb(17,17,17)",
            "gridcolor": "#506784",
            "linecolor": "#506784",
            "showbackground": true,
            "ticks": "",
            "zerolinecolor": "#C8D4E3",
            "gridwidth": 2
           },
           "zaxis": {
            "backgroundcolor": "rgb(17,17,17)",
            "gridcolor": "#506784",
            "linecolor": "#506784",
            "showbackground": true,
            "ticks": "",
            "zerolinecolor": "#C8D4E3",
            "gridwidth": 2
           }
          },
          "shapedefaults": {
           "line": {
            "color": "#f2f5fa"
           }
          },
          "annotationdefaults": {
           "arrowcolor": "#f2f5fa",
           "arrowhead": 0,
           "arrowwidth": 1
          },
          "geo": {
           "bgcolor": "rgb(17,17,17)",
           "landcolor": "rgb(17,17,17)",
           "subunitcolor": "#506784",
           "showland": true,
           "showlakes": true,
           "lakecolor": "rgb(17,17,17)"
          },
          "title": {
           "x": 0.05
          },
          "updatemenudefaults": {
           "bgcolor": "#506784",
           "borderwidth": 0
          },
          "sliderdefaults": {
           "bgcolor": "#C8D4E3",
           "borderwidth": 1,
           "bordercolor": "rgb(17,17,17)",
           "tickwidth": 0
          },
          "mapbox": {
           "style": "dark"
          }
         }
        },
        "xaxis": {
         "anchor": "y",
         "domain": [
          0.0,
          0.31999999999999995
         ],
         "title": {
          "text": "Dimensione array"
         }
        },
        "yaxis": {
         "anchor": "x",
         "domain": [
          0.0,
          1.0
         ],
         "title": {
          "text": "Time (s)"
         }
        },
        "xaxis2": {
         "anchor": "y2",
         "domain": [
          0.33999999999999997,
          0.6599999999999999
         ],
         "matches": "x",
         "title": {
          "text": "Dimensione array"
         }
        },
        "yaxis2": {
         "anchor": "x2",
         "domain": [
          0.0,
          1.0
         ],
         "matches": "y",
         "showticklabels": false
        },
        "xaxis3": {
         "anchor": "y3",
         "domain": [
          0.6799999999999999,
          0.9999999999999999
         ],
         "matches": "x",
         "title": {
          "text": "Dimensione array"
         }
        },
        "yaxis3": {
         "anchor": "x3",
         "domain": [
          0.0,
          1.0
         ],
         "matches": "y",
         "showticklabels": false
        },
        "annotations": [
         {
          "font": {},
          "showarrow": false,
          "text": "Tipo di input=random",
          "x": 0.15999999999999998,
          "xanchor": "center",
          "xref": "paper",
          "y": 1.0,
          "yanchor": "bottom",
          "yref": "paper"
         },
         {
          "font": {},
          "showarrow": false,
          "text": "Tipo di input=sorted",
          "x": 0.49999999999999994,
          "xanchor": "center",
          "xref": "paper",
          "y": 1.0,
          "yanchor": "bottom",
          "yref": "paper"
         },
         {
          "font": {},
          "showarrow": false,
          "text": "Tipo di input=reversed",
          "x": 0.8399999999999999,
          "xanchor": "center",
          "xref": "paper",
          "y": 1.0,
          "yanchor": "bottom",
          "yref": "paper"
         }
        ],
        "legend": {
         "title": {
          "text": "Algoritmo di ordinamento"
         },
         "tracegroupgap": 0
        },
        "title": {
         "text": "Sorting algorithms"
        }
       },
       "config": {
        "plotlyServerURL": "https://plot.ly"
       }
      },
      "text/html": "<div>                            <div id=\"b4a59baa-c80a-4771-887c-8810faa2d7b8\" class=\"plotly-graph-div\" style=\"height:525px; width:100%;\"></div>            <script type=\"text/javascript\">                require([\"plotly\"], function(Plotly) {                    window.PLOTLYENV=window.PLOTLYENV || {};                                    if (document.getElementById(\"b4a59baa-c80a-4771-887c-8810faa2d7b8\")) {                    Plotly.newPlot(                        \"b4a59baa-c80a-4771-887c-8810faa2d7b8\",                        [{\"hovertemplate\":\"Algoritmo di ordinamento=insertion_sort<br>Tipo di input=random<br>Dimensione array=%{x}<br>Time (s)=%{y}<extra></extra>\",\"legendgroup\":\"insertion_sort\",\"marker\":{\"color\":\"#636efa\",\"symbol\":\"circle\"},\"mode\":\"markers\",\"name\":\"insertion_sort\",\"orientation\":\"v\",\"showlegend\":true,\"x\":[10,20,30,40,50,60,70,80,90],\"xaxis\":\"x\",\"y\":[5.799985956400633e-06,1.4500052202492952e-05,2.700003096833825e-05,5.8999983593821526e-05,0.00011040002573281527,0.00018010003259405494,0.000242499983869493,0.00027270003920421004,0.00030860002152621746],\"yaxis\":\"y\",\"type\":\"scatter\"},{\"hovertemplate\":\"Algoritmo di ordinamento=insertion_sort<br>Tipo di input=sorted<br>Dimensione array=%{x}<br>Time (s)=%{y}<extra></extra>\",\"legendgroup\":\"insertion_sort\",\"marker\":{\"color\":\"#636efa\",\"symbol\":\"circle\"},\"mode\":\"markers\",\"name\":\"insertion_sort\",\"orientation\":\"v\",\"showlegend\":false,\"x\":[10,20,30,40,50,60,70,80,90],\"xaxis\":\"x2\",\"y\":[3.7999707274138927e-06,6.099988240748644e-06,5.600042641162872e-06,5.599984433501959e-06,6.799993570894003e-06,9.500014130026102e-06,9.600014891475439e-06,1.0100018698722124e-05,1.0800024028867483e-05],\"yaxis\":\"y2\",\"type\":\"scatter\"},{\"hovertemplate\":\"Algoritmo di ordinamento=insertion_sort<br>Tipo di input=reversed<br>Dimensione array=%{x}<br>Time (s)=%{y}<extra></extra>\",\"legendgroup\":\"insertion_sort\",\"marker\":{\"color\":\"#636efa\",\"symbol\":\"circle\"},\"mode\":\"markers\",\"name\":\"insertion_sort\",\"orientation\":\"v\",\"showlegend\":false,\"x\":[10,20,30,40,50,60,70,80,90],\"xaxis\":\"x3\",\"y\":[6.89999433234334e-06,2.1599989850074053e-05,4.5900000259280205e-05,8.050003089010715e-05,0.0001235000090673566,0.0001773000112734735,0.0002403000253252685,0.0003121999907307327,0.00039440003456547856],\"yaxis\":\"y3\",\"type\":\"scatter\"},{\"hovertemplate\":\"Algoritmo di ordinamento=counting_sort<br>Tipo di input=random<br>Dimensione array=%{x}<br>Time (s)=%{y}<extra></extra>\",\"legendgroup\":\"counting_sort\",\"marker\":{\"color\":\"#EF553B\",\"symbol\":\"circle\"},\"mode\":\"markers\",\"name\":\"counting_sort\",\"orientation\":\"v\",\"showlegend\":true,\"x\":[10,20,30,40,50,60,70,80,90],\"xaxis\":\"x\",\"y\":[1.610000617802143e-05,1.3399985618889332e-05,1.3399985618889332e-05,2.039998071268201e-05,1.7000013031065464e-05,1.7899961676448584e-05,1.9899976905435324e-05,2.1400046534836292e-05,2.2599997464567423e-05],\"yaxis\":\"y\",\"type\":\"scatter\"},{\"hovertemplate\":\"Algoritmo di ordinamento=counting_sort<br>Tipo di input=sorted<br>Dimensione array=%{x}<br>Time (s)=%{y}<extra></extra>\",\"legendgroup\":\"counting_sort\",\"marker\":{\"color\":\"#EF553B\",\"symbol\":\"circle\"},\"mode\":\"markers\",\"name\":\"counting_sort\",\"orientation\":\"v\",\"showlegend\":false,\"x\":[10,20,30,40,50,60,70,80,90],\"xaxis\":\"x2\",\"y\":[1.2199976481497288e-05,1.2699980288743973e-05,1.3899989426136017e-05,1.550000160932541e-05,1.6400008462369442e-05,1.839996548369527e-05,1.9700033590197563e-05,2.099998528137803e-05,2.2799998987466097e-05],\"yaxis\":\"y2\",\"type\":\"scatter\"},{\"hovertemplate\":\"Algoritmo di ordinamento=counting_sort<br>Tipo di input=reversed<br>Dimensione array=%{x}<br>Time (s)=%{y}<extra></extra>\",\"legendgroup\":\"counting_sort\",\"marker\":{\"color\":\"#EF553B\",\"symbol\":\"circle\"},\"mode\":\"markers\",\"name\":\"counting_sort\",\"orientation\":\"v\",\"showlegend\":false,\"x\":[10,20,30,40,50,60,70,80,90],\"xaxis\":\"x3\",\"y\":[1.260003773495555e-05,1.2399978004395962e-05,1.3399985618889332e-05,1.5300000086426735e-05,1.7799960914999247e-05,1.910002902150154e-05,1.969997538253665e-05,2.19999928958714e-05,2.2799998987466097e-05],\"yaxis\":\"y3\",\"type\":\"scatter\"}],                        {\"template\":{\"data\":{\"histogram2dcontour\":[{\"type\":\"histogram2dcontour\",\"colorbar\":{\"outlinewidth\":0,\"ticks\":\"\"},\"colorscale\":[[0.0,\"#0d0887\"],[0.1111111111111111,\"#46039f\"],[0.2222222222222222,\"#7201a8\"],[0.3333333333333333,\"#9c179e\"],[0.4444444444444444,\"#bd3786\"],[0.5555555555555556,\"#d8576b\"],[0.6666666666666666,\"#ed7953\"],[0.7777777777777778,\"#fb9f3a\"],[0.8888888888888888,\"#fdca26\"],[1.0,\"#f0f921\"]]}],\"choropleth\":[{\"type\":\"choropleth\",\"colorbar\":{\"outlinewidth\":0,\"ticks\":\"\"}}],\"histogram2d\":[{\"type\":\"histogram2d\",\"colorbar\":{\"outlinewidth\":0,\"ticks\":\"\"},\"colorscale\":[[0.0,\"#0d0887\"],[0.1111111111111111,\"#46039f\"],[0.2222222222222222,\"#7201a8\"],[0.3333333333333333,\"#9c179e\"],[0.4444444444444444,\"#bd3786\"],[0.5555555555555556,\"#d8576b\"],[0.6666666666666666,\"#ed7953\"],[0.7777777777777778,\"#fb9f3a\"],[0.8888888888888888,\"#fdca26\"],[1.0,\"#f0f921\"]]}],\"heatmap\":[{\"type\":\"heatmap\",\"colorbar\":{\"outlinewidth\":0,\"ticks\":\"\"},\"colorscale\":[[0.0,\"#0d0887\"],[0.1111111111111111,\"#46039f\"],[0.2222222222222222,\"#7201a8\"],[0.3333333333333333,\"#9c179e\"],[0.4444444444444444,\"#bd3786\"],[0.5555555555555556,\"#d8576b\"],[0.6666666666666666,\"#ed7953\"],[0.7777777777777778,\"#fb9f3a\"],[0.8888888888888888,\"#fdca26\"],[1.0,\"#f0f921\"]]}],\"heatmapgl\":[{\"type\":\"heatmapgl\",\"colorbar\":{\"outlinewidth\":0,\"ticks\":\"\"},\"colorscale\":[[0.0,\"#0d0887\"],[0.1111111111111111,\"#46039f\"],[0.2222222222222222,\"#7201a8\"],[0.3333333333333333,\"#9c179e\"],[0.4444444444444444,\"#bd3786\"],[0.5555555555555556,\"#d8576b\"],[0.6666666666666666,\"#ed7953\"],[0.7777777777777778,\"#fb9f3a\"],[0.8888888888888888,\"#fdca26\"],[1.0,\"#f0f921\"]]}],\"contourcarpet\":[{\"type\":\"contourcarpet\",\"colorbar\":{\"outlinewidth\":0,\"ticks\":\"\"}}],\"contour\":[{\"type\":\"contour\",\"colorbar\":{\"outlinewidth\":0,\"ticks\":\"\"},\"colorscale\":[[0.0,\"#0d0887\"],[0.1111111111111111,\"#46039f\"],[0.2222222222222222,\"#7201a8\"],[0.3333333333333333,\"#9c179e\"],[0.4444444444444444,\"#bd3786\"],[0.5555555555555556,\"#d8576b\"],[0.6666666666666666,\"#ed7953\"],[0.7777777777777778,\"#fb9f3a\"],[0.8888888888888888,\"#fdca26\"],[1.0,\"#f0f921\"]]}],\"surface\":[{\"type\":\"surface\",\"colorbar\":{\"outlinewidth\":0,\"ticks\":\"\"},\"colorscale\":[[0.0,\"#0d0887\"],[0.1111111111111111,\"#46039f\"],[0.2222222222222222,\"#7201a8\"],[0.3333333333333333,\"#9c179e\"],[0.4444444444444444,\"#bd3786\"],[0.5555555555555556,\"#d8576b\"],[0.6666666666666666,\"#ed7953\"],[0.7777777777777778,\"#fb9f3a\"],[0.8888888888888888,\"#fdca26\"],[1.0,\"#f0f921\"]]}],\"mesh3d\":[{\"type\":\"mesh3d\",\"colorbar\":{\"outlinewidth\":0,\"ticks\":\"\"}}],\"scatter\":[{\"marker\":{\"line\":{\"color\":\"#283442\"}},\"type\":\"scatter\"}],\"parcoords\":[{\"type\":\"parcoords\",\"line\":{\"colorbar\":{\"outlinewidth\":0,\"ticks\":\"\"}}}],\"scatterpolargl\":[{\"type\":\"scatterpolargl\",\"marker\":{\"colorbar\":{\"outlinewidth\":0,\"ticks\":\"\"}}}],\"bar\":[{\"error_x\":{\"color\":\"#f2f5fa\"},\"error_y\":{\"color\":\"#f2f5fa\"},\"marker\":{\"line\":{\"color\":\"rgb(17,17,17)\",\"width\":0.5},\"pattern\":{\"fillmode\":\"overlay\",\"size\":10,\"solidity\":0.2}},\"type\":\"bar\"}],\"scattergeo\":[{\"type\":\"scattergeo\",\"marker\":{\"colorbar\":{\"outlinewidth\":0,\"ticks\":\"\"}}}],\"scatterpolar\":[{\"type\":\"scatterpolar\",\"marker\":{\"colorbar\":{\"outlinewidth\":0,\"ticks\":\"\"}}}],\"histogram\":[{\"marker\":{\"pattern\":{\"fillmode\":\"overlay\",\"size\":10,\"solidity\":0.2}},\"type\":\"histogram\"}],\"scattergl\":[{\"marker\":{\"line\":{\"color\":\"#283442\"}},\"type\":\"scattergl\"}],\"scatter3d\":[{\"type\":\"scatter3d\",\"line\":{\"colorbar\":{\"outlinewidth\":0,\"ticks\":\"\"}},\"marker\":{\"colorbar\":{\"outlinewidth\":0,\"ticks\":\"\"}}}],\"scattermapbox\":[{\"type\":\"scattermapbox\",\"marker\":{\"colorbar\":{\"outlinewidth\":0,\"ticks\":\"\"}}}],\"scatterternary\":[{\"type\":\"scatterternary\",\"marker\":{\"colorbar\":{\"outlinewidth\":0,\"ticks\":\"\"}}}],\"scattercarpet\":[{\"type\":\"scattercarpet\",\"marker\":{\"colorbar\":{\"outlinewidth\":0,\"ticks\":\"\"}}}],\"carpet\":[{\"aaxis\":{\"endlinecolor\":\"#A2B1C6\",\"gridcolor\":\"#506784\",\"linecolor\":\"#506784\",\"minorgridcolor\":\"#506784\",\"startlinecolor\":\"#A2B1C6\"},\"baxis\":{\"endlinecolor\":\"#A2B1C6\",\"gridcolor\":\"#506784\",\"linecolor\":\"#506784\",\"minorgridcolor\":\"#506784\",\"startlinecolor\":\"#A2B1C6\"},\"type\":\"carpet\"}],\"table\":[{\"cells\":{\"fill\":{\"color\":\"#506784\"},\"line\":{\"color\":\"rgb(17,17,17)\"}},\"header\":{\"fill\":{\"color\":\"#2a3f5f\"},\"line\":{\"color\":\"rgb(17,17,17)\"}},\"type\":\"table\"}],\"barpolar\":[{\"marker\":{\"line\":{\"color\":\"rgb(17,17,17)\",\"width\":0.5},\"pattern\":{\"fillmode\":\"overlay\",\"size\":10,\"solidity\":0.2}},\"type\":\"barpolar\"}],\"pie\":[{\"automargin\":true,\"type\":\"pie\"}]},\"layout\":{\"autotypenumbers\":\"strict\",\"colorway\":[\"#636efa\",\"#EF553B\",\"#00cc96\",\"#ab63fa\",\"#FFA15A\",\"#19d3f3\",\"#FF6692\",\"#B6E880\",\"#FF97FF\",\"#FECB52\"],\"font\":{\"color\":\"#f2f5fa\"},\"hovermode\":\"closest\",\"hoverlabel\":{\"align\":\"left\"},\"paper_bgcolor\":\"rgb(17,17,17)\",\"plot_bgcolor\":\"rgb(17,17,17)\",\"polar\":{\"bgcolor\":\"rgb(17,17,17)\",\"angularaxis\":{\"gridcolor\":\"#506784\",\"linecolor\":\"#506784\",\"ticks\":\"\"},\"radialaxis\":{\"gridcolor\":\"#506784\",\"linecolor\":\"#506784\",\"ticks\":\"\"}},\"ternary\":{\"bgcolor\":\"rgb(17,17,17)\",\"aaxis\":{\"gridcolor\":\"#506784\",\"linecolor\":\"#506784\",\"ticks\":\"\"},\"baxis\":{\"gridcolor\":\"#506784\",\"linecolor\":\"#506784\",\"ticks\":\"\"},\"caxis\":{\"gridcolor\":\"#506784\",\"linecolor\":\"#506784\",\"ticks\":\"\"}},\"coloraxis\":{\"colorbar\":{\"outlinewidth\":0,\"ticks\":\"\"}},\"colorscale\":{\"sequential\":[[0.0,\"#0d0887\"],[0.1111111111111111,\"#46039f\"],[0.2222222222222222,\"#7201a8\"],[0.3333333333333333,\"#9c179e\"],[0.4444444444444444,\"#bd3786\"],[0.5555555555555556,\"#d8576b\"],[0.6666666666666666,\"#ed7953\"],[0.7777777777777778,\"#fb9f3a\"],[0.8888888888888888,\"#fdca26\"],[1.0,\"#f0f921\"]],\"sequentialminus\":[[0.0,\"#0d0887\"],[0.1111111111111111,\"#46039f\"],[0.2222222222222222,\"#7201a8\"],[0.3333333333333333,\"#9c179e\"],[0.4444444444444444,\"#bd3786\"],[0.5555555555555556,\"#d8576b\"],[0.6666666666666666,\"#ed7953\"],[0.7777777777777778,\"#fb9f3a\"],[0.8888888888888888,\"#fdca26\"],[1.0,\"#f0f921\"]],\"diverging\":[[0,\"#8e0152\"],[0.1,\"#c51b7d\"],[0.2,\"#de77ae\"],[0.3,\"#f1b6da\"],[0.4,\"#fde0ef\"],[0.5,\"#f7f7f7\"],[0.6,\"#e6f5d0\"],[0.7,\"#b8e186\"],[0.8,\"#7fbc41\"],[0.9,\"#4d9221\"],[1,\"#276419\"]]},\"xaxis\":{\"gridcolor\":\"#283442\",\"linecolor\":\"#506784\",\"ticks\":\"\",\"title\":{\"standoff\":15},\"zerolinecolor\":\"#283442\",\"automargin\":true,\"zerolinewidth\":2},\"yaxis\":{\"gridcolor\":\"#283442\",\"linecolor\":\"#506784\",\"ticks\":\"\",\"title\":{\"standoff\":15},\"zerolinecolor\":\"#283442\",\"automargin\":true,\"zerolinewidth\":2},\"scene\":{\"xaxis\":{\"backgroundcolor\":\"rgb(17,17,17)\",\"gridcolor\":\"#506784\",\"linecolor\":\"#506784\",\"showbackground\":true,\"ticks\":\"\",\"zerolinecolor\":\"#C8D4E3\",\"gridwidth\":2},\"yaxis\":{\"backgroundcolor\":\"rgb(17,17,17)\",\"gridcolor\":\"#506784\",\"linecolor\":\"#506784\",\"showbackground\":true,\"ticks\":\"\",\"zerolinecolor\":\"#C8D4E3\",\"gridwidth\":2},\"zaxis\":{\"backgroundcolor\":\"rgb(17,17,17)\",\"gridcolor\":\"#506784\",\"linecolor\":\"#506784\",\"showbackground\":true,\"ticks\":\"\",\"zerolinecolor\":\"#C8D4E3\",\"gridwidth\":2}},\"shapedefaults\":{\"line\":{\"color\":\"#f2f5fa\"}},\"annotationdefaults\":{\"arrowcolor\":\"#f2f5fa\",\"arrowhead\":0,\"arrowwidth\":1},\"geo\":{\"bgcolor\":\"rgb(17,17,17)\",\"landcolor\":\"rgb(17,17,17)\",\"subunitcolor\":\"#506784\",\"showland\":true,\"showlakes\":true,\"lakecolor\":\"rgb(17,17,17)\"},\"title\":{\"x\":0.05},\"updatemenudefaults\":{\"bgcolor\":\"#506784\",\"borderwidth\":0},\"sliderdefaults\":{\"bgcolor\":\"#C8D4E3\",\"borderwidth\":1,\"bordercolor\":\"rgb(17,17,17)\",\"tickwidth\":0},\"mapbox\":{\"style\":\"dark\"}}},\"xaxis\":{\"anchor\":\"y\",\"domain\":[0.0,0.31999999999999995],\"title\":{\"text\":\"Dimensione array\"}},\"yaxis\":{\"anchor\":\"x\",\"domain\":[0.0,1.0],\"title\":{\"text\":\"Time (s)\"}},\"xaxis2\":{\"anchor\":\"y2\",\"domain\":[0.33999999999999997,0.6599999999999999],\"matches\":\"x\",\"title\":{\"text\":\"Dimensione array\"}},\"yaxis2\":{\"anchor\":\"x2\",\"domain\":[0.0,1.0],\"matches\":\"y\",\"showticklabels\":false},\"xaxis3\":{\"anchor\":\"y3\",\"domain\":[0.6799999999999999,0.9999999999999999],\"matches\":\"x\",\"title\":{\"text\":\"Dimensione array\"}},\"yaxis3\":{\"anchor\":\"x3\",\"domain\":[0.0,1.0],\"matches\":\"y\",\"showticklabels\":false},\"annotations\":[{\"font\":{},\"showarrow\":false,\"text\":\"Tipo di input=random\",\"x\":0.15999999999999998,\"xanchor\":\"center\",\"xref\":\"paper\",\"y\":1.0,\"yanchor\":\"bottom\",\"yref\":\"paper\"},{\"font\":{},\"showarrow\":false,\"text\":\"Tipo di input=sorted\",\"x\":0.49999999999999994,\"xanchor\":\"center\",\"xref\":\"paper\",\"y\":1.0,\"yanchor\":\"bottom\",\"yref\":\"paper\"},{\"font\":{},\"showarrow\":false,\"text\":\"Tipo di input=reversed\",\"x\":0.8399999999999999,\"xanchor\":\"center\",\"xref\":\"paper\",\"y\":1.0,\"yanchor\":\"bottom\",\"yref\":\"paper\"}],\"legend\":{\"title\":{\"text\":\"Algoritmo di ordinamento\"},\"tracegroupgap\":0},\"title\":{\"text\":\"Sorting algorithms\"}},                        {\"responsive\": true}                    ).then(function(){\n                            \nvar gd = document.getElementById('b4a59baa-c80a-4771-887c-8810faa2d7b8');\nvar x = new MutationObserver(function (mutations, observer) {{\n        var display = window.getComputedStyle(gd).display;\n        if (!display || display === 'none') {{\n            console.log([gd, 'removed!']);\n            Plotly.purge(gd);\n            observer.disconnect();\n        }}\n}});\n\n// Listen for the removal of the full notebook cells\nvar notebookContainer = gd.closest('#notebook-container');\nif (notebookContainer) {{\n    x.observe(notebookContainer, {childList: true});\n}}\n\n// Listen for the clearing of the current output cell\nvar outputEl = gd.closest('.output');\nif (outputEl) {{\n    x.observe(outputEl, {childList: true});\n}}\n\n                        })                };                });            </script>        </div>"
     },
     "metadata": {},
     "output_type": "display_data"
    },
    {
     "name": "stdout",
     "output_type": "stream",
     "text": [
      "    num_samples          time       test_type input_type\n",
      "0             0  2.100016e-06  insertion_sort     random\n",
      "1            10  5.799986e-06  insertion_sort     random\n",
      "2            20  1.450005e-05  insertion_sort     random\n",
      "3            30  2.700003e-05  insertion_sort     random\n",
      "4            40  5.899998e-05  insertion_sort     random\n",
      "5            50  1.104000e-04  insertion_sort     random\n",
      "6            60  1.801000e-04  insertion_sort     random\n",
      "7            70  2.425000e-04  insertion_sort     random\n",
      "8            80  2.727000e-04  insertion_sort     random\n",
      "9            90  3.086000e-04  insertion_sort     random\n",
      "10            0  2.999965e-06  insertion_sort     sorted\n",
      "11           10  3.799971e-06  insertion_sort     sorted\n",
      "12           20  6.099988e-06  insertion_sort     sorted\n",
      "13           30  5.600043e-06  insertion_sort     sorted\n",
      "14           40  5.599984e-06  insertion_sort     sorted\n",
      "15           50  6.799994e-06  insertion_sort     sorted\n",
      "16           60  9.500014e-06  insertion_sort     sorted\n",
      "17           70  9.600015e-06  insertion_sort     sorted\n",
      "18           80  1.010002e-05  insertion_sort     sorted\n",
      "19           90  1.080002e-05  insertion_sort     sorted\n",
      "20            0  9.000069e-07  insertion_sort   reversed\n",
      "21           10  6.899994e-06  insertion_sort   reversed\n",
      "22           20  2.159999e-05  insertion_sort   reversed\n",
      "23           30  4.590000e-05  insertion_sort   reversed\n",
      "24           40  8.050003e-05  insertion_sort   reversed\n",
      "25           50  1.235000e-04  insertion_sort   reversed\n",
      "26           60  1.773000e-04  insertion_sort   reversed\n",
      "27           70  2.403000e-04  insertion_sort   reversed\n",
      "28           80  3.122000e-04  insertion_sort   reversed\n",
      "29           90  3.944000e-04  insertion_sort   reversed\n",
      "30            0  1.999957e-06   counting_sort     random\n",
      "31           10  1.610001e-05   counting_sort     random\n",
      "32           20  1.339999e-05   counting_sort     random\n",
      "33           30  1.339999e-05   counting_sort     random\n",
      "34           40  2.039998e-05   counting_sort     random\n",
      "35           50  1.700001e-05   counting_sort     random\n",
      "36           60  1.789996e-05   counting_sort     random\n",
      "37           70  1.989998e-05   counting_sort     random\n",
      "38           80  2.140005e-05   counting_sort     random\n",
      "39           90  2.260000e-05   counting_sort     random\n",
      "40            0  3.000023e-07   counting_sort     sorted\n",
      "41           10  1.219998e-05   counting_sort     sorted\n",
      "42           20  1.269998e-05   counting_sort     sorted\n",
      "43           30  1.389999e-05   counting_sort     sorted\n",
      "44           40  1.550000e-05   counting_sort     sorted\n",
      "45           50  1.640001e-05   counting_sort     sorted\n",
      "46           60  1.839997e-05   counting_sort     sorted\n",
      "47           70  1.970003e-05   counting_sort     sorted\n",
      "48           80  2.099999e-05   counting_sort     sorted\n",
      "49           90  2.280000e-05   counting_sort     sorted\n",
      "50            0  3.000023e-07   counting_sort   reversed\n",
      "51           10  1.260004e-05   counting_sort   reversed\n",
      "52           20  1.239998e-05   counting_sort   reversed\n",
      "53           30  1.339999e-05   counting_sort   reversed\n",
      "54           40  1.530000e-05   counting_sort   reversed\n",
      "55           50  1.779996e-05   counting_sort   reversed\n",
      "56           60  1.910003e-05   counting_sort   reversed\n",
      "57           70  1.969998e-05   counting_sort   reversed\n",
      "58           80  2.199999e-05   counting_sort   reversed\n",
      "59           90  2.280000e-05   counting_sort   reversed\n"
     ]
    }
   ],
   "source": [
    "figure = px.scatter(df.query(\"num_samples > 0\"),\n",
    "                 x=\"num_samples\",\n",
    "                 y=\"time\",\n",
    "                 color=\"test_type\",\n",
    "                 facet_col=\"input_type\",\n",
    "                 title=\"Sorting algorithms\",\n",
    "                 labels={\"num_samples\": \"Dimensione array\", \"time\": \"Time (s)\", \"test_type\": \"Algoritmo di ordinamento\", \"input_type\": \"Tipo di input\"})\n",
    "\n",
    "figure.show()"
   ]
  },
  {
   "cell_type": "markdown",
   "id": "24cf2993",
   "metadata": {},
   "source": [
    "Visualizziamo il caso con passo pari a 10 e range da 0 a 100. Partendo dall' algoritmo di _insertion sort_, notiamo che nel caso di un input randomico o inversamente ordinato, il tempo impiegato per ordinare l'array cresce in modo quadratico e lo fa in modo particolare nel secondo caso. Nel caso di un input ordinato, invece, il tempo impiegato per ordinare l'array è lineare, in quanto l'array è già ordinato e non è necessario eseguire alcuna operazione di ordinamento, ma solo il ciclo di \"controllo\" su tutti i valori. Visualizzeremo questo aspetto in maniera più chiara nel grafico successivo, dove isoleremo il caso di un input ordinato. Nel caso del _counting sort_, invece, notiamo che il tempo impiegato per ordinare l'array è lineare (visibile deselezionando la dicituara _insertion_sort_ sotto il menù _Algoritmo di ordinamento_), in quanto l'array viene ordinato in tempo _O(n+k)_, senza alcuna operazione di confronto tra elementi. Notiamo che in questo caso il costo computazionale del _counting sort_ è particolarmente basso, in quanto legato al range di generazione dei numeri, che è molto piccolo (da 0 a 100). Questo aspetto sarà più evidente nel caso di array di grandi dimensioni ma anche nei casi con range di generazione dei numeri più grandi."
   ]
  },
  {
   "cell_type": "code",
   "execution_count": 190,
   "id": "8165ca5d",
   "metadata": {},
   "outputs": [
    {
     "data": {
      "application/vnd.plotly.v1+json": {
       "data": [
        {
         "hovertemplate": "Algoritmo di ordinamento=insertion_sort<br>Tipo di input=sorted<br>Dimensione array=%{x}<br>Time (s)=%{y}<extra></extra>",
         "legendgroup": "insertion_sort",
         "line": {
          "color": "#636efa",
          "dash": "solid"
         },
         "marker": {
          "symbol": "circle"
         },
         "mode": "lines",
         "name": "insertion_sort",
         "orientation": "v",
         "showlegend": true,
         "x": [
          10,
          20,
          30,
          40,
          50,
          60,
          70,
          80,
          90
         ],
         "xaxis": "x",
         "y": [
          4.099973011761904E-6,
          3.7999707274138927E-6,
          4.399975296109915E-6,
          5.200039595365524E-6,
          7.800001185387373E-6,
          9.000010322779417E-6,
          8.800008799880743E-6,
          9.90001717582345E-6,
          1.0699965059757233E-5
         ],
         "yaxis": "y",
         "type": "scatter"
        },
        {
         "hovertemplate": "Algoritmo di ordinamento=counting_sort<br>Tipo di input=sorted<br>Dimensione array=%{x}<br>Time (s)=%{y}<extra></extra>",
         "legendgroup": "counting_sort",
         "line": {
          "color": "#EF553B",
          "dash": "solid"
         },
         "marker": {
          "symbol": "circle"
         },
         "mode": "lines",
         "name": "counting_sort",
         "orientation": "v",
         "showlegend": true,
         "x": [
          10,
          20,
          30,
          40,
          50,
          60,
          70,
          80,
          90
         ],
         "xaxis": "x",
         "y": [
          1.179997343569994E-5,
          1.2800039257854223E-5,
          1.3499986380338669E-5,
          1.5199999324977398E-5,
          1.680001150816679E-5,
          1.850002445280552E-5,
          1.969997538253665E-5,
          2.1200045011937618E-5,
          2.269999822601676E-5
         ],
         "yaxis": "y",
         "type": "scatter"
        }
       ],
       "layout": {
        "template": {
         "data": {
          "histogram2dcontour": [
           {
            "type": "histogram2dcontour",
            "colorbar": {
             "outlinewidth": 0,
             "ticks": ""
            },
            "colorscale": [
             [
              0.0,
              "#0d0887"
             ],
             [
              0.1111111111111111,
              "#46039f"
             ],
             [
              0.2222222222222222,
              "#7201a8"
             ],
             [
              0.3333333333333333,
              "#9c179e"
             ],
             [
              0.4444444444444444,
              "#bd3786"
             ],
             [
              0.5555555555555556,
              "#d8576b"
             ],
             [
              0.6666666666666666,
              "#ed7953"
             ],
             [
              0.7777777777777778,
              "#fb9f3a"
             ],
             [
              0.8888888888888888,
              "#fdca26"
             ],
             [
              1.0,
              "#f0f921"
             ]
            ]
           }
          ],
          "choropleth": [
           {
            "type": "choropleth",
            "colorbar": {
             "outlinewidth": 0,
             "ticks": ""
            }
           }
          ],
          "histogram2d": [
           {
            "type": "histogram2d",
            "colorbar": {
             "outlinewidth": 0,
             "ticks": ""
            },
            "colorscale": [
             [
              0.0,
              "#0d0887"
             ],
             [
              0.1111111111111111,
              "#46039f"
             ],
             [
              0.2222222222222222,
              "#7201a8"
             ],
             [
              0.3333333333333333,
              "#9c179e"
             ],
             [
              0.4444444444444444,
              "#bd3786"
             ],
             [
              0.5555555555555556,
              "#d8576b"
             ],
             [
              0.6666666666666666,
              "#ed7953"
             ],
             [
              0.7777777777777778,
              "#fb9f3a"
             ],
             [
              0.8888888888888888,
              "#fdca26"
             ],
             [
              1.0,
              "#f0f921"
             ]
            ]
           }
          ],
          "heatmap": [
           {
            "type": "heatmap",
            "colorbar": {
             "outlinewidth": 0,
             "ticks": ""
            },
            "colorscale": [
             [
              0.0,
              "#0d0887"
             ],
             [
              0.1111111111111111,
              "#46039f"
             ],
             [
              0.2222222222222222,
              "#7201a8"
             ],
             [
              0.3333333333333333,
              "#9c179e"
             ],
             [
              0.4444444444444444,
              "#bd3786"
             ],
             [
              0.5555555555555556,
              "#d8576b"
             ],
             [
              0.6666666666666666,
              "#ed7953"
             ],
             [
              0.7777777777777778,
              "#fb9f3a"
             ],
             [
              0.8888888888888888,
              "#fdca26"
             ],
             [
              1.0,
              "#f0f921"
             ]
            ]
           }
          ],
          "heatmapgl": [
           {
            "type": "heatmapgl",
            "colorbar": {
             "outlinewidth": 0,
             "ticks": ""
            },
            "colorscale": [
             [
              0.0,
              "#0d0887"
             ],
             [
              0.1111111111111111,
              "#46039f"
             ],
             [
              0.2222222222222222,
              "#7201a8"
             ],
             [
              0.3333333333333333,
              "#9c179e"
             ],
             [
              0.4444444444444444,
              "#bd3786"
             ],
             [
              0.5555555555555556,
              "#d8576b"
             ],
             [
              0.6666666666666666,
              "#ed7953"
             ],
             [
              0.7777777777777778,
              "#fb9f3a"
             ],
             [
              0.8888888888888888,
              "#fdca26"
             ],
             [
              1.0,
              "#f0f921"
             ]
            ]
           }
          ],
          "contourcarpet": [
           {
            "type": "contourcarpet",
            "colorbar": {
             "outlinewidth": 0,
             "ticks": ""
            }
           }
          ],
          "contour": [
           {
            "type": "contour",
            "colorbar": {
             "outlinewidth": 0,
             "ticks": ""
            },
            "colorscale": [
             [
              0.0,
              "#0d0887"
             ],
             [
              0.1111111111111111,
              "#46039f"
             ],
             [
              0.2222222222222222,
              "#7201a8"
             ],
             [
              0.3333333333333333,
              "#9c179e"
             ],
             [
              0.4444444444444444,
              "#bd3786"
             ],
             [
              0.5555555555555556,
              "#d8576b"
             ],
             [
              0.6666666666666666,
              "#ed7953"
             ],
             [
              0.7777777777777778,
              "#fb9f3a"
             ],
             [
              0.8888888888888888,
              "#fdca26"
             ],
             [
              1.0,
              "#f0f921"
             ]
            ]
           }
          ],
          "surface": [
           {
            "type": "surface",
            "colorbar": {
             "outlinewidth": 0,
             "ticks": ""
            },
            "colorscale": [
             [
              0.0,
              "#0d0887"
             ],
             [
              0.1111111111111111,
              "#46039f"
             ],
             [
              0.2222222222222222,
              "#7201a8"
             ],
             [
              0.3333333333333333,
              "#9c179e"
             ],
             [
              0.4444444444444444,
              "#bd3786"
             ],
             [
              0.5555555555555556,
              "#d8576b"
             ],
             [
              0.6666666666666666,
              "#ed7953"
             ],
             [
              0.7777777777777778,
              "#fb9f3a"
             ],
             [
              0.8888888888888888,
              "#fdca26"
             ],
             [
              1.0,
              "#f0f921"
             ]
            ]
           }
          ],
          "mesh3d": [
           {
            "type": "mesh3d",
            "colorbar": {
             "outlinewidth": 0,
             "ticks": ""
            }
           }
          ],
          "scatter": [
           {
            "marker": {
             "line": {
              "color": "#283442"
             }
            },
            "type": "scatter"
           }
          ],
          "parcoords": [
           {
            "type": "parcoords",
            "line": {
             "colorbar": {
              "outlinewidth": 0,
              "ticks": ""
             }
            }
           }
          ],
          "scatterpolargl": [
           {
            "type": "scatterpolargl",
            "marker": {
             "colorbar": {
              "outlinewidth": 0,
              "ticks": ""
             }
            }
           }
          ],
          "bar": [
           {
            "error_x": {
             "color": "#f2f5fa"
            },
            "error_y": {
             "color": "#f2f5fa"
            },
            "marker": {
             "line": {
              "color": "rgb(17,17,17)",
              "width": 0.5
             },
             "pattern": {
              "fillmode": "overlay",
              "size": 10,
              "solidity": 0.2
             }
            },
            "type": "bar"
           }
          ],
          "scattergeo": [
           {
            "type": "scattergeo",
            "marker": {
             "colorbar": {
              "outlinewidth": 0,
              "ticks": ""
             }
            }
           }
          ],
          "scatterpolar": [
           {
            "type": "scatterpolar",
            "marker": {
             "colorbar": {
              "outlinewidth": 0,
              "ticks": ""
             }
            }
           }
          ],
          "histogram": [
           {
            "marker": {
             "pattern": {
              "fillmode": "overlay",
              "size": 10,
              "solidity": 0.2
             }
            },
            "type": "histogram"
           }
          ],
          "scattergl": [
           {
            "marker": {
             "line": {
              "color": "#283442"
             }
            },
            "type": "scattergl"
           }
          ],
          "scatter3d": [
           {
            "type": "scatter3d",
            "line": {
             "colorbar": {
              "outlinewidth": 0,
              "ticks": ""
             }
            },
            "marker": {
             "colorbar": {
              "outlinewidth": 0,
              "ticks": ""
             }
            }
           }
          ],
          "scattermapbox": [
           {
            "type": "scattermapbox",
            "marker": {
             "colorbar": {
              "outlinewidth": 0,
              "ticks": ""
             }
            }
           }
          ],
          "scatterternary": [
           {
            "type": "scatterternary",
            "marker": {
             "colorbar": {
              "outlinewidth": 0,
              "ticks": ""
             }
            }
           }
          ],
          "scattercarpet": [
           {
            "type": "scattercarpet",
            "marker": {
             "colorbar": {
              "outlinewidth": 0,
              "ticks": ""
             }
            }
           }
          ],
          "carpet": [
           {
            "aaxis": {
             "endlinecolor": "#A2B1C6",
             "gridcolor": "#506784",
             "linecolor": "#506784",
             "minorgridcolor": "#506784",
             "startlinecolor": "#A2B1C6"
            },
            "baxis": {
             "endlinecolor": "#A2B1C6",
             "gridcolor": "#506784",
             "linecolor": "#506784",
             "minorgridcolor": "#506784",
             "startlinecolor": "#A2B1C6"
            },
            "type": "carpet"
           }
          ],
          "table": [
           {
            "cells": {
             "fill": {
              "color": "#506784"
             },
             "line": {
              "color": "rgb(17,17,17)"
             }
            },
            "header": {
             "fill": {
              "color": "#2a3f5f"
             },
             "line": {
              "color": "rgb(17,17,17)"
             }
            },
            "type": "table"
           }
          ],
          "barpolar": [
           {
            "marker": {
             "line": {
              "color": "rgb(17,17,17)",
              "width": 0.5
             },
             "pattern": {
              "fillmode": "overlay",
              "size": 10,
              "solidity": 0.2
             }
            },
            "type": "barpolar"
           }
          ],
          "pie": [
           {
            "automargin": true,
            "type": "pie"
           }
          ]
         },
         "layout": {
          "autotypenumbers": "strict",
          "colorway": [
           "#636efa",
           "#EF553B",
           "#00cc96",
           "#ab63fa",
           "#FFA15A",
           "#19d3f3",
           "#FF6692",
           "#B6E880",
           "#FF97FF",
           "#FECB52"
          ],
          "font": {
           "color": "#f2f5fa"
          },
          "hovermode": "closest",
          "hoverlabel": {
           "align": "left"
          },
          "paper_bgcolor": "rgb(17,17,17)",
          "plot_bgcolor": "rgb(17,17,17)",
          "polar": {
           "bgcolor": "rgb(17,17,17)",
           "angularaxis": {
            "gridcolor": "#506784",
            "linecolor": "#506784",
            "ticks": ""
           },
           "radialaxis": {
            "gridcolor": "#506784",
            "linecolor": "#506784",
            "ticks": ""
           }
          },
          "ternary": {
           "bgcolor": "rgb(17,17,17)",
           "aaxis": {
            "gridcolor": "#506784",
            "linecolor": "#506784",
            "ticks": ""
           },
           "baxis": {
            "gridcolor": "#506784",
            "linecolor": "#506784",
            "ticks": ""
           },
           "caxis": {
            "gridcolor": "#506784",
            "linecolor": "#506784",
            "ticks": ""
           }
          },
          "coloraxis": {
           "colorbar": {
            "outlinewidth": 0,
            "ticks": ""
           }
          },
          "colorscale": {
           "sequential": [
            [
             0.0,
             "#0d0887"
            ],
            [
             0.1111111111111111,
             "#46039f"
            ],
            [
             0.2222222222222222,
             "#7201a8"
            ],
            [
             0.3333333333333333,
             "#9c179e"
            ],
            [
             0.4444444444444444,
             "#bd3786"
            ],
            [
             0.5555555555555556,
             "#d8576b"
            ],
            [
             0.6666666666666666,
             "#ed7953"
            ],
            [
             0.7777777777777778,
             "#fb9f3a"
            ],
            [
             0.8888888888888888,
             "#fdca26"
            ],
            [
             1.0,
             "#f0f921"
            ]
           ],
           "sequentialminus": [
            [
             0.0,
             "#0d0887"
            ],
            [
             0.1111111111111111,
             "#46039f"
            ],
            [
             0.2222222222222222,
             "#7201a8"
            ],
            [
             0.3333333333333333,
             "#9c179e"
            ],
            [
             0.4444444444444444,
             "#bd3786"
            ],
            [
             0.5555555555555556,
             "#d8576b"
            ],
            [
             0.6666666666666666,
             "#ed7953"
            ],
            [
             0.7777777777777778,
             "#fb9f3a"
            ],
            [
             0.8888888888888888,
             "#fdca26"
            ],
            [
             1.0,
             "#f0f921"
            ]
           ],
           "diverging": [
            [
             0,
             "#8e0152"
            ],
            [
             0.1,
             "#c51b7d"
            ],
            [
             0.2,
             "#de77ae"
            ],
            [
             0.3,
             "#f1b6da"
            ],
            [
             0.4,
             "#fde0ef"
            ],
            [
             0.5,
             "#f7f7f7"
            ],
            [
             0.6,
             "#e6f5d0"
            ],
            [
             0.7,
             "#b8e186"
            ],
            [
             0.8,
             "#7fbc41"
            ],
            [
             0.9,
             "#4d9221"
            ],
            [
             1,
             "#276419"
            ]
           ]
          },
          "xaxis": {
           "gridcolor": "#283442",
           "linecolor": "#506784",
           "ticks": "",
           "title": {
            "standoff": 15
           },
           "zerolinecolor": "#283442",
           "automargin": true,
           "zerolinewidth": 2
          },
          "yaxis": {
           "gridcolor": "#283442",
           "linecolor": "#506784",
           "ticks": "",
           "title": {
            "standoff": 15
           },
           "zerolinecolor": "#283442",
           "automargin": true,
           "zerolinewidth": 2
          },
          "scene": {
           "xaxis": {
            "backgroundcolor": "rgb(17,17,17)",
            "gridcolor": "#506784",
            "linecolor": "#506784",
            "showbackground": true,
            "ticks": "",
            "zerolinecolor": "#C8D4E3",
            "gridwidth": 2
           },
           "yaxis": {
            "backgroundcolor": "rgb(17,17,17)",
            "gridcolor": "#506784",
            "linecolor": "#506784",
            "showbackground": true,
            "ticks": "",
            "zerolinecolor": "#C8D4E3",
            "gridwidth": 2
           },
           "zaxis": {
            "backgroundcolor": "rgb(17,17,17)",
            "gridcolor": "#506784",
            "linecolor": "#506784",
            "showbackground": true,
            "ticks": "",
            "zerolinecolor": "#C8D4E3",
            "gridwidth": 2
           }
          },
          "shapedefaults": {
           "line": {
            "color": "#f2f5fa"
           }
          },
          "annotationdefaults": {
           "arrowcolor": "#f2f5fa",
           "arrowhead": 0,
           "arrowwidth": 1
          },
          "geo": {
           "bgcolor": "rgb(17,17,17)",
           "landcolor": "rgb(17,17,17)",
           "subunitcolor": "#506784",
           "showland": true,
           "showlakes": true,
           "lakecolor": "rgb(17,17,17)"
          },
          "title": {
           "x": 0.05
          },
          "updatemenudefaults": {
           "bgcolor": "#506784",
           "borderwidth": 0
          },
          "sliderdefaults": {
           "bgcolor": "#C8D4E3",
           "borderwidth": 1,
           "bordercolor": "rgb(17,17,17)",
           "tickwidth": 0
          },
          "mapbox": {
           "style": "dark"
          }
         }
        },
        "xaxis": {
         "anchor": "y",
         "domain": [
          0.0,
          1.0
         ],
         "title": {
          "text": "Dimensione array"
         }
        },
        "yaxis": {
         "anchor": "x",
         "domain": [
          0.0,
          1.0
         ],
         "title": {
          "text": "Time (s)"
         }
        },
        "annotations": [
         {
          "font": {},
          "showarrow": false,
          "text": "Tipo di input=sorted",
          "x": 0.5,
          "xanchor": "center",
          "xref": "paper",
          "y": 1.0,
          "yanchor": "bottom",
          "yref": "paper"
         }
        ],
        "legend": {
         "title": {
          "text": "Algoritmo di ordinamento"
         },
         "tracegroupgap": 0
        },
        "title": {
         "text": "Sorting algorithms"
        }
       },
       "config": {
        "plotlyServerURL": "https://plot.ly"
       }
      },
      "text/html": "<div>                            <div id=\"8bd99f6d-d9d6-42d2-9586-53007bb6be56\" class=\"plotly-graph-div\" style=\"height:525px; width:100%;\"></div>            <script type=\"text/javascript\">                require([\"plotly\"], function(Plotly) {                    window.PLOTLYENV=window.PLOTLYENV || {};                                    if (document.getElementById(\"8bd99f6d-d9d6-42d2-9586-53007bb6be56\")) {                    Plotly.newPlot(                        \"8bd99f6d-d9d6-42d2-9586-53007bb6be56\",                        [{\"hovertemplate\":\"Algoritmo di ordinamento=insertion_sort<br>Tipo di input=sorted<br>Dimensione array=%{x}<br>Time (s)=%{y}<extra></extra>\",\"legendgroup\":\"insertion_sort\",\"line\":{\"color\":\"#636efa\",\"dash\":\"solid\"},\"marker\":{\"symbol\":\"circle\"},\"mode\":\"lines\",\"name\":\"insertion_sort\",\"orientation\":\"v\",\"showlegend\":true,\"x\":[10,20,30,40,50,60,70,80,90],\"xaxis\":\"x\",\"y\":[4.099973011761904e-06,3.7999707274138927e-06,4.399975296109915e-06,5.200039595365524e-06,7.800001185387373e-06,9.000010322779417e-06,8.800008799880743e-06,9.90001717582345e-06,1.0699965059757233e-05],\"yaxis\":\"y\",\"type\":\"scatter\"},{\"hovertemplate\":\"Algoritmo di ordinamento=counting_sort<br>Tipo di input=sorted<br>Dimensione array=%{x}<br>Time (s)=%{y}<extra></extra>\",\"legendgroup\":\"counting_sort\",\"line\":{\"color\":\"#EF553B\",\"dash\":\"solid\"},\"marker\":{\"symbol\":\"circle\"},\"mode\":\"lines\",\"name\":\"counting_sort\",\"orientation\":\"v\",\"showlegend\":true,\"x\":[10,20,30,40,50,60,70,80,90],\"xaxis\":\"x\",\"y\":[1.179997343569994e-05,1.2800039257854223e-05,1.3499986380338669e-05,1.5199999324977398e-05,1.680001150816679e-05,1.850002445280552e-05,1.969997538253665e-05,2.1200045011937618e-05,2.269999822601676e-05],\"yaxis\":\"y\",\"type\":\"scatter\"}],                        {\"template\":{\"data\":{\"histogram2dcontour\":[{\"type\":\"histogram2dcontour\",\"colorbar\":{\"outlinewidth\":0,\"ticks\":\"\"},\"colorscale\":[[0.0,\"#0d0887\"],[0.1111111111111111,\"#46039f\"],[0.2222222222222222,\"#7201a8\"],[0.3333333333333333,\"#9c179e\"],[0.4444444444444444,\"#bd3786\"],[0.5555555555555556,\"#d8576b\"],[0.6666666666666666,\"#ed7953\"],[0.7777777777777778,\"#fb9f3a\"],[0.8888888888888888,\"#fdca26\"],[1.0,\"#f0f921\"]]}],\"choropleth\":[{\"type\":\"choropleth\",\"colorbar\":{\"outlinewidth\":0,\"ticks\":\"\"}}],\"histogram2d\":[{\"type\":\"histogram2d\",\"colorbar\":{\"outlinewidth\":0,\"ticks\":\"\"},\"colorscale\":[[0.0,\"#0d0887\"],[0.1111111111111111,\"#46039f\"],[0.2222222222222222,\"#7201a8\"],[0.3333333333333333,\"#9c179e\"],[0.4444444444444444,\"#bd3786\"],[0.5555555555555556,\"#d8576b\"],[0.6666666666666666,\"#ed7953\"],[0.7777777777777778,\"#fb9f3a\"],[0.8888888888888888,\"#fdca26\"],[1.0,\"#f0f921\"]]}],\"heatmap\":[{\"type\":\"heatmap\",\"colorbar\":{\"outlinewidth\":0,\"ticks\":\"\"},\"colorscale\":[[0.0,\"#0d0887\"],[0.1111111111111111,\"#46039f\"],[0.2222222222222222,\"#7201a8\"],[0.3333333333333333,\"#9c179e\"],[0.4444444444444444,\"#bd3786\"],[0.5555555555555556,\"#d8576b\"],[0.6666666666666666,\"#ed7953\"],[0.7777777777777778,\"#fb9f3a\"],[0.8888888888888888,\"#fdca26\"],[1.0,\"#f0f921\"]]}],\"heatmapgl\":[{\"type\":\"heatmapgl\",\"colorbar\":{\"outlinewidth\":0,\"ticks\":\"\"},\"colorscale\":[[0.0,\"#0d0887\"],[0.1111111111111111,\"#46039f\"],[0.2222222222222222,\"#7201a8\"],[0.3333333333333333,\"#9c179e\"],[0.4444444444444444,\"#bd3786\"],[0.5555555555555556,\"#d8576b\"],[0.6666666666666666,\"#ed7953\"],[0.7777777777777778,\"#fb9f3a\"],[0.8888888888888888,\"#fdca26\"],[1.0,\"#f0f921\"]]}],\"contourcarpet\":[{\"type\":\"contourcarpet\",\"colorbar\":{\"outlinewidth\":0,\"ticks\":\"\"}}],\"contour\":[{\"type\":\"contour\",\"colorbar\":{\"outlinewidth\":0,\"ticks\":\"\"},\"colorscale\":[[0.0,\"#0d0887\"],[0.1111111111111111,\"#46039f\"],[0.2222222222222222,\"#7201a8\"],[0.3333333333333333,\"#9c179e\"],[0.4444444444444444,\"#bd3786\"],[0.5555555555555556,\"#d8576b\"],[0.6666666666666666,\"#ed7953\"],[0.7777777777777778,\"#fb9f3a\"],[0.8888888888888888,\"#fdca26\"],[1.0,\"#f0f921\"]]}],\"surface\":[{\"type\":\"surface\",\"colorbar\":{\"outlinewidth\":0,\"ticks\":\"\"},\"colorscale\":[[0.0,\"#0d0887\"],[0.1111111111111111,\"#46039f\"],[0.2222222222222222,\"#7201a8\"],[0.3333333333333333,\"#9c179e\"],[0.4444444444444444,\"#bd3786\"],[0.5555555555555556,\"#d8576b\"],[0.6666666666666666,\"#ed7953\"],[0.7777777777777778,\"#fb9f3a\"],[0.8888888888888888,\"#fdca26\"],[1.0,\"#f0f921\"]]}],\"mesh3d\":[{\"type\":\"mesh3d\",\"colorbar\":{\"outlinewidth\":0,\"ticks\":\"\"}}],\"scatter\":[{\"marker\":{\"line\":{\"color\":\"#283442\"}},\"type\":\"scatter\"}],\"parcoords\":[{\"type\":\"parcoords\",\"line\":{\"colorbar\":{\"outlinewidth\":0,\"ticks\":\"\"}}}],\"scatterpolargl\":[{\"type\":\"scatterpolargl\",\"marker\":{\"colorbar\":{\"outlinewidth\":0,\"ticks\":\"\"}}}],\"bar\":[{\"error_x\":{\"color\":\"#f2f5fa\"},\"error_y\":{\"color\":\"#f2f5fa\"},\"marker\":{\"line\":{\"color\":\"rgb(17,17,17)\",\"width\":0.5},\"pattern\":{\"fillmode\":\"overlay\",\"size\":10,\"solidity\":0.2}},\"type\":\"bar\"}],\"scattergeo\":[{\"type\":\"scattergeo\",\"marker\":{\"colorbar\":{\"outlinewidth\":0,\"ticks\":\"\"}}}],\"scatterpolar\":[{\"type\":\"scatterpolar\",\"marker\":{\"colorbar\":{\"outlinewidth\":0,\"ticks\":\"\"}}}],\"histogram\":[{\"marker\":{\"pattern\":{\"fillmode\":\"overlay\",\"size\":10,\"solidity\":0.2}},\"type\":\"histogram\"}],\"scattergl\":[{\"marker\":{\"line\":{\"color\":\"#283442\"}},\"type\":\"scattergl\"}],\"scatter3d\":[{\"type\":\"scatter3d\",\"line\":{\"colorbar\":{\"outlinewidth\":0,\"ticks\":\"\"}},\"marker\":{\"colorbar\":{\"outlinewidth\":0,\"ticks\":\"\"}}}],\"scattermapbox\":[{\"type\":\"scattermapbox\",\"marker\":{\"colorbar\":{\"outlinewidth\":0,\"ticks\":\"\"}}}],\"scatterternary\":[{\"type\":\"scatterternary\",\"marker\":{\"colorbar\":{\"outlinewidth\":0,\"ticks\":\"\"}}}],\"scattercarpet\":[{\"type\":\"scattercarpet\",\"marker\":{\"colorbar\":{\"outlinewidth\":0,\"ticks\":\"\"}}}],\"carpet\":[{\"aaxis\":{\"endlinecolor\":\"#A2B1C6\",\"gridcolor\":\"#506784\",\"linecolor\":\"#506784\",\"minorgridcolor\":\"#506784\",\"startlinecolor\":\"#A2B1C6\"},\"baxis\":{\"endlinecolor\":\"#A2B1C6\",\"gridcolor\":\"#506784\",\"linecolor\":\"#506784\",\"minorgridcolor\":\"#506784\",\"startlinecolor\":\"#A2B1C6\"},\"type\":\"carpet\"}],\"table\":[{\"cells\":{\"fill\":{\"color\":\"#506784\"},\"line\":{\"color\":\"rgb(17,17,17)\"}},\"header\":{\"fill\":{\"color\":\"#2a3f5f\"},\"line\":{\"color\":\"rgb(17,17,17)\"}},\"type\":\"table\"}],\"barpolar\":[{\"marker\":{\"line\":{\"color\":\"rgb(17,17,17)\",\"width\":0.5},\"pattern\":{\"fillmode\":\"overlay\",\"size\":10,\"solidity\":0.2}},\"type\":\"barpolar\"}],\"pie\":[{\"automargin\":true,\"type\":\"pie\"}]},\"layout\":{\"autotypenumbers\":\"strict\",\"colorway\":[\"#636efa\",\"#EF553B\",\"#00cc96\",\"#ab63fa\",\"#FFA15A\",\"#19d3f3\",\"#FF6692\",\"#B6E880\",\"#FF97FF\",\"#FECB52\"],\"font\":{\"color\":\"#f2f5fa\"},\"hovermode\":\"closest\",\"hoverlabel\":{\"align\":\"left\"},\"paper_bgcolor\":\"rgb(17,17,17)\",\"plot_bgcolor\":\"rgb(17,17,17)\",\"polar\":{\"bgcolor\":\"rgb(17,17,17)\",\"angularaxis\":{\"gridcolor\":\"#506784\",\"linecolor\":\"#506784\",\"ticks\":\"\"},\"radialaxis\":{\"gridcolor\":\"#506784\",\"linecolor\":\"#506784\",\"ticks\":\"\"}},\"ternary\":{\"bgcolor\":\"rgb(17,17,17)\",\"aaxis\":{\"gridcolor\":\"#506784\",\"linecolor\":\"#506784\",\"ticks\":\"\"},\"baxis\":{\"gridcolor\":\"#506784\",\"linecolor\":\"#506784\",\"ticks\":\"\"},\"caxis\":{\"gridcolor\":\"#506784\",\"linecolor\":\"#506784\",\"ticks\":\"\"}},\"coloraxis\":{\"colorbar\":{\"outlinewidth\":0,\"ticks\":\"\"}},\"colorscale\":{\"sequential\":[[0.0,\"#0d0887\"],[0.1111111111111111,\"#46039f\"],[0.2222222222222222,\"#7201a8\"],[0.3333333333333333,\"#9c179e\"],[0.4444444444444444,\"#bd3786\"],[0.5555555555555556,\"#d8576b\"],[0.6666666666666666,\"#ed7953\"],[0.7777777777777778,\"#fb9f3a\"],[0.8888888888888888,\"#fdca26\"],[1.0,\"#f0f921\"]],\"sequentialminus\":[[0.0,\"#0d0887\"],[0.1111111111111111,\"#46039f\"],[0.2222222222222222,\"#7201a8\"],[0.3333333333333333,\"#9c179e\"],[0.4444444444444444,\"#bd3786\"],[0.5555555555555556,\"#d8576b\"],[0.6666666666666666,\"#ed7953\"],[0.7777777777777778,\"#fb9f3a\"],[0.8888888888888888,\"#fdca26\"],[1.0,\"#f0f921\"]],\"diverging\":[[0,\"#8e0152\"],[0.1,\"#c51b7d\"],[0.2,\"#de77ae\"],[0.3,\"#f1b6da\"],[0.4,\"#fde0ef\"],[0.5,\"#f7f7f7\"],[0.6,\"#e6f5d0\"],[0.7,\"#b8e186\"],[0.8,\"#7fbc41\"],[0.9,\"#4d9221\"],[1,\"#276419\"]]},\"xaxis\":{\"gridcolor\":\"#283442\",\"linecolor\":\"#506784\",\"ticks\":\"\",\"title\":{\"standoff\":15},\"zerolinecolor\":\"#283442\",\"automargin\":true,\"zerolinewidth\":2},\"yaxis\":{\"gridcolor\":\"#283442\",\"linecolor\":\"#506784\",\"ticks\":\"\",\"title\":{\"standoff\":15},\"zerolinecolor\":\"#283442\",\"automargin\":true,\"zerolinewidth\":2},\"scene\":{\"xaxis\":{\"backgroundcolor\":\"rgb(17,17,17)\",\"gridcolor\":\"#506784\",\"linecolor\":\"#506784\",\"showbackground\":true,\"ticks\":\"\",\"zerolinecolor\":\"#C8D4E3\",\"gridwidth\":2},\"yaxis\":{\"backgroundcolor\":\"rgb(17,17,17)\",\"gridcolor\":\"#506784\",\"linecolor\":\"#506784\",\"showbackground\":true,\"ticks\":\"\",\"zerolinecolor\":\"#C8D4E3\",\"gridwidth\":2},\"zaxis\":{\"backgroundcolor\":\"rgb(17,17,17)\",\"gridcolor\":\"#506784\",\"linecolor\":\"#506784\",\"showbackground\":true,\"ticks\":\"\",\"zerolinecolor\":\"#C8D4E3\",\"gridwidth\":2}},\"shapedefaults\":{\"line\":{\"color\":\"#f2f5fa\"}},\"annotationdefaults\":{\"arrowcolor\":\"#f2f5fa\",\"arrowhead\":0,\"arrowwidth\":1},\"geo\":{\"bgcolor\":\"rgb(17,17,17)\",\"landcolor\":\"rgb(17,17,17)\",\"subunitcolor\":\"#506784\",\"showland\":true,\"showlakes\":true,\"lakecolor\":\"rgb(17,17,17)\"},\"title\":{\"x\":0.05},\"updatemenudefaults\":{\"bgcolor\":\"#506784\",\"borderwidth\":0},\"sliderdefaults\":{\"bgcolor\":\"#C8D4E3\",\"borderwidth\":1,\"bordercolor\":\"rgb(17,17,17)\",\"tickwidth\":0},\"mapbox\":{\"style\":\"dark\"}}},\"xaxis\":{\"anchor\":\"y\",\"domain\":[0.0,1.0],\"title\":{\"text\":\"Dimensione array\"}},\"yaxis\":{\"anchor\":\"x\",\"domain\":[0.0,1.0],\"title\":{\"text\":\"Time (s)\"}},\"annotations\":[{\"font\":{},\"showarrow\":false,\"text\":\"Tipo di input=sorted\",\"x\":0.5,\"xanchor\":\"center\",\"xref\":\"paper\",\"y\":1.0,\"yanchor\":\"bottom\",\"yref\":\"paper\"}],\"legend\":{\"title\":{\"text\":\"Algoritmo di ordinamento\"},\"tracegroupgap\":0},\"title\":{\"text\":\"Sorting algorithms\"}},                        {\"responsive\": true}                    ).then(function(){\n                            \nvar gd = document.getElementById('8bd99f6d-d9d6-42d2-9586-53007bb6be56');\nvar x = new MutationObserver(function (mutations, observer) {{\n        var display = window.getComputedStyle(gd).display;\n        if (!display || display === 'none') {{\n            console.log([gd, 'removed!']);\n            Plotly.purge(gd);\n            observer.disconnect();\n        }}\n}});\n\n// Listen for the removal of the full notebook cells\nvar notebookContainer = gd.closest('#notebook-container');\nif (notebookContainer) {{\n    x.observe(notebookContainer, {childList: true});\n}}\n\n// Listen for the clearing of the current output cell\nvar outputEl = gd.closest('.output');\nif (outputEl) {{\n    x.observe(outputEl, {childList: true});\n}}\n\n                        })                };                });            </script>        </div>"
     },
     "metadata": {},
     "output_type": "display_data"
    }
   ],
   "source": [
    "figure = px.line(df.query(\"num_samples > 0 and input_type == 'sorted'\"),\n",
    "                 x=\"num_samples\",\n",
    "                 y=\"time\",\n",
    "                 color=\"test_type\",\n",
    "                 facet_col=\"input_type\",\n",
    "                 title=\"Sorting algorithms\",\n",
    "                 labels={\"num_samples\": \"Dimensione array\", \"time\": \"Time (s)\", \"test_type\": \"Algoritmo di ordinamento\", \"input_type\": \"Tipo di input\"})\n",
    "\n",
    "figure.show()"
   ]
  },
  {
   "cell_type": "markdown",
   "id": "ef906cdd",
   "metadata": {},
   "source": [
    "Come detto in precedenza, nel caso di un input ordinato, l'array è già ordinato e non è necessario eseguire alcuna operazione di ordinamento, ma solo il ciclo di \"controllo\" su tutti i valori. Questo aspetto è evidente nel grafico sovrastante, dove è possibile notare che l'andamento del tempo impiegato per ordinare l'array è lineare. Deselezionando la dicitura _counting_sort_ sotto il menù _Algoritmo di ordinamento_ questo aspetto è ancora più evidente (considerando il fatto che il tempo impiegato è molto basso e quindi è possibile che ci sia qualche piccola variazione nell'andamento)."
   ]
  },
  {
   "cell_type": "markdown",
   "source": [
    "#### Array di dimensione 100 con range da 0 a 1000"
   ],
   "metadata": {
    "collapsed": false
   }
  },
  {
   "cell_type": "code",
   "execution_count": 191,
   "outputs": [],
   "source": [
    "df = plot_results(100, 10, (0, 1000))"
   ],
   "metadata": {
    "collapsed": false
   }
  },
  {
   "cell_type": "code",
   "execution_count": 192,
   "outputs": [
    {
     "data": {
      "application/vnd.plotly.v1+json": {
       "data": [
        {
         "hovertemplate": "Algoritmo di ordinamento=insertion_sort<br>Tipo di input=random<br>Dimensione array=%{x}<br>Time (s)=%{y}<extra></extra>",
         "legendgroup": "insertion_sort",
         "marker": {
          "color": "#636efa",
          "symbol": "circle"
         },
         "mode": "markers",
         "name": "insertion_sort",
         "orientation": "v",
         "showlegend": true,
         "x": [
          10,
          20,
          30,
          40,
          50,
          60,
          70,
          80,
          90
         ],
         "xaxis": "x",
         "y": [
          5.300040356814861E-6,
          1.4300050679594278E-5,
          2.770003629848361E-5,
          5.259999306872487E-5,
          7.760000880807638E-5,
          9.870005305856466E-5,
          1.3229995965957642E-4,
          1.5310000162571669E-4,
          2.243000199086964E-4
         ],
         "yaxis": "y",
         "type": "scatter"
        },
        {
         "hovertemplate": "Algoritmo di ordinamento=insertion_sort<br>Tipo di input=sorted<br>Dimensione array=%{x}<br>Time (s)=%{y}<extra></extra>",
         "legendgroup": "insertion_sort",
         "marker": {
          "color": "#636efa",
          "symbol": "circle"
         },
         "mode": "markers",
         "name": "insertion_sort",
         "orientation": "v",
         "showlegend": false,
         "x": [
          10,
          20,
          30,
          40,
          50,
          60,
          70,
          80,
          90
         ],
         "xaxis": "x2",
         "y": [
          3.700028173625469E-6,
          3.400025889277458E-6,
          5.099980626255274E-6,
          7.099995855242014E-6,
          8.100003469735384E-6,
          7.800001185387373E-6,
          8.699949830770493E-6,
          9.400013368576765E-6,
          1.0400020983070135E-5
         ],
         "yaxis": "y2",
         "type": "scatter"
        },
        {
         "hovertemplate": "Algoritmo di ordinamento=insertion_sort<br>Tipo di input=reversed<br>Dimensione array=%{x}<br>Time (s)=%{y}<extra></extra>",
         "legendgroup": "insertion_sort",
         "marker": {
          "color": "#636efa",
          "symbol": "circle"
         },
         "mode": "markers",
         "name": "insertion_sort",
         "orientation": "v",
         "showlegend": false,
         "x": [
          10,
          20,
          30,
          40,
          50,
          60,
          70,
          80,
          90
         ],
         "xaxis": "x3",
         "y": [
          6.89999433234334E-6,
          2.1600048057734966E-5,
          4.640000406652689E-5,
          8.099997648969293E-5,
          1.248999615199864E-4,
          1.7910002497956157E-4,
          2.383999526500702E-4,
          3.161000204272568E-4,
          3.948000376112759E-4
         ],
         "yaxis": "y3",
         "type": "scatter"
        },
        {
         "hovertemplate": "Algoritmo di ordinamento=counting_sort<br>Tipo di input=random<br>Dimensione array=%{x}<br>Time (s)=%{y}<extra></extra>",
         "legendgroup": "counting_sort",
         "marker": {
          "color": "#EF553B",
          "symbol": "circle"
         },
         "mode": "markers",
         "name": "counting_sort",
         "orientation": "v",
         "showlegend": true,
         "x": [
          10,
          20,
          30,
          40,
          50,
          60,
          70,
          80,
          90
         ],
         "xaxis": "x",
         "y": [
          6.130000110715628E-5,
          8.590001380071044E-5,
          8.939998224377632E-5,
          9.159999899566174E-5,
          9.250000584870577E-5,
          9.309995220974088E-5,
          9.659997886046767E-5,
          9.729998419061303E-5,
          9.819999104365706E-5
         ],
         "yaxis": "y",
         "type": "scatter"
        },
        {
         "hovertemplate": "Algoritmo di ordinamento=counting_sort<br>Tipo di input=sorted<br>Dimensione array=%{x}<br>Time (s)=%{y}<extra></extra>",
         "legendgroup": "counting_sort",
         "marker": {
          "color": "#EF553B",
          "symbol": "circle"
         },
         "mode": "markers",
         "name": "counting_sort",
         "orientation": "v",
         "showlegend": false,
         "x": [
          10,
          20,
          30,
          40,
          50,
          60,
          70,
          80,
          90
         ],
         "xaxis": "x2",
         "y": [
          8.849997539073229E-5,
          8.910003816708922E-5,
          8.47000046633184E-5,
          9.029998909682035E-5,
          8.939998224377632E-5,
          9.490002412348986E-5,
          9.609997505322099E-5,
          9.590003173798323E-5,
          9.869999485090375E-5
         ],
         "yaxis": "y2",
         "type": "scatter"
        },
        {
         "hovertemplate": "Algoritmo di ordinamento=counting_sort<br>Tipo di input=reversed<br>Dimensione array=%{x}<br>Time (s)=%{y}<extra></extra>",
         "legendgroup": "counting_sort",
         "marker": {
          "color": "#EF553B",
          "symbol": "circle"
         },
         "mode": "markers",
         "name": "counting_sort",
         "orientation": "v",
         "showlegend": false,
         "x": [
          10,
          20,
          30,
          40,
          50,
          60,
          70,
          80,
          90
         ],
         "xaxis": "x3",
         "y": [
          5.199998850002885E-5,
          8.610001532360911E-5,
          8.750002598389983E-5,
          8.9899986051023E-5,
          9.240000508725643E-5,
          9.12000541575253E-5,
          9.380001574754715E-5,
          9.779998799785972E-5,
          1.0519998613744974E-4
         ],
         "yaxis": "y3",
         "type": "scatter"
        }
       ],
       "layout": {
        "template": {
         "data": {
          "histogram2dcontour": [
           {
            "type": "histogram2dcontour",
            "colorbar": {
             "outlinewidth": 0,
             "ticks": ""
            },
            "colorscale": [
             [
              0.0,
              "#0d0887"
             ],
             [
              0.1111111111111111,
              "#46039f"
             ],
             [
              0.2222222222222222,
              "#7201a8"
             ],
             [
              0.3333333333333333,
              "#9c179e"
             ],
             [
              0.4444444444444444,
              "#bd3786"
             ],
             [
              0.5555555555555556,
              "#d8576b"
             ],
             [
              0.6666666666666666,
              "#ed7953"
             ],
             [
              0.7777777777777778,
              "#fb9f3a"
             ],
             [
              0.8888888888888888,
              "#fdca26"
             ],
             [
              1.0,
              "#f0f921"
             ]
            ]
           }
          ],
          "choropleth": [
           {
            "type": "choropleth",
            "colorbar": {
             "outlinewidth": 0,
             "ticks": ""
            }
           }
          ],
          "histogram2d": [
           {
            "type": "histogram2d",
            "colorbar": {
             "outlinewidth": 0,
             "ticks": ""
            },
            "colorscale": [
             [
              0.0,
              "#0d0887"
             ],
             [
              0.1111111111111111,
              "#46039f"
             ],
             [
              0.2222222222222222,
              "#7201a8"
             ],
             [
              0.3333333333333333,
              "#9c179e"
             ],
             [
              0.4444444444444444,
              "#bd3786"
             ],
             [
              0.5555555555555556,
              "#d8576b"
             ],
             [
              0.6666666666666666,
              "#ed7953"
             ],
             [
              0.7777777777777778,
              "#fb9f3a"
             ],
             [
              0.8888888888888888,
              "#fdca26"
             ],
             [
              1.0,
              "#f0f921"
             ]
            ]
           }
          ],
          "heatmap": [
           {
            "type": "heatmap",
            "colorbar": {
             "outlinewidth": 0,
             "ticks": ""
            },
            "colorscale": [
             [
              0.0,
              "#0d0887"
             ],
             [
              0.1111111111111111,
              "#46039f"
             ],
             [
              0.2222222222222222,
              "#7201a8"
             ],
             [
              0.3333333333333333,
              "#9c179e"
             ],
             [
              0.4444444444444444,
              "#bd3786"
             ],
             [
              0.5555555555555556,
              "#d8576b"
             ],
             [
              0.6666666666666666,
              "#ed7953"
             ],
             [
              0.7777777777777778,
              "#fb9f3a"
             ],
             [
              0.8888888888888888,
              "#fdca26"
             ],
             [
              1.0,
              "#f0f921"
             ]
            ]
           }
          ],
          "heatmapgl": [
           {
            "type": "heatmapgl",
            "colorbar": {
             "outlinewidth": 0,
             "ticks": ""
            },
            "colorscale": [
             [
              0.0,
              "#0d0887"
             ],
             [
              0.1111111111111111,
              "#46039f"
             ],
             [
              0.2222222222222222,
              "#7201a8"
             ],
             [
              0.3333333333333333,
              "#9c179e"
             ],
             [
              0.4444444444444444,
              "#bd3786"
             ],
             [
              0.5555555555555556,
              "#d8576b"
             ],
             [
              0.6666666666666666,
              "#ed7953"
             ],
             [
              0.7777777777777778,
              "#fb9f3a"
             ],
             [
              0.8888888888888888,
              "#fdca26"
             ],
             [
              1.0,
              "#f0f921"
             ]
            ]
           }
          ],
          "contourcarpet": [
           {
            "type": "contourcarpet",
            "colorbar": {
             "outlinewidth": 0,
             "ticks": ""
            }
           }
          ],
          "contour": [
           {
            "type": "contour",
            "colorbar": {
             "outlinewidth": 0,
             "ticks": ""
            },
            "colorscale": [
             [
              0.0,
              "#0d0887"
             ],
             [
              0.1111111111111111,
              "#46039f"
             ],
             [
              0.2222222222222222,
              "#7201a8"
             ],
             [
              0.3333333333333333,
              "#9c179e"
             ],
             [
              0.4444444444444444,
              "#bd3786"
             ],
             [
              0.5555555555555556,
              "#d8576b"
             ],
             [
              0.6666666666666666,
              "#ed7953"
             ],
             [
              0.7777777777777778,
              "#fb9f3a"
             ],
             [
              0.8888888888888888,
              "#fdca26"
             ],
             [
              1.0,
              "#f0f921"
             ]
            ]
           }
          ],
          "surface": [
           {
            "type": "surface",
            "colorbar": {
             "outlinewidth": 0,
             "ticks": ""
            },
            "colorscale": [
             [
              0.0,
              "#0d0887"
             ],
             [
              0.1111111111111111,
              "#46039f"
             ],
             [
              0.2222222222222222,
              "#7201a8"
             ],
             [
              0.3333333333333333,
              "#9c179e"
             ],
             [
              0.4444444444444444,
              "#bd3786"
             ],
             [
              0.5555555555555556,
              "#d8576b"
             ],
             [
              0.6666666666666666,
              "#ed7953"
             ],
             [
              0.7777777777777778,
              "#fb9f3a"
             ],
             [
              0.8888888888888888,
              "#fdca26"
             ],
             [
              1.0,
              "#f0f921"
             ]
            ]
           }
          ],
          "mesh3d": [
           {
            "type": "mesh3d",
            "colorbar": {
             "outlinewidth": 0,
             "ticks": ""
            }
           }
          ],
          "scatter": [
           {
            "marker": {
             "line": {
              "color": "#283442"
             }
            },
            "type": "scatter"
           }
          ],
          "parcoords": [
           {
            "type": "parcoords",
            "line": {
             "colorbar": {
              "outlinewidth": 0,
              "ticks": ""
             }
            }
           }
          ],
          "scatterpolargl": [
           {
            "type": "scatterpolargl",
            "marker": {
             "colorbar": {
              "outlinewidth": 0,
              "ticks": ""
             }
            }
           }
          ],
          "bar": [
           {
            "error_x": {
             "color": "#f2f5fa"
            },
            "error_y": {
             "color": "#f2f5fa"
            },
            "marker": {
             "line": {
              "color": "rgb(17,17,17)",
              "width": 0.5
             },
             "pattern": {
              "fillmode": "overlay",
              "size": 10,
              "solidity": 0.2
             }
            },
            "type": "bar"
           }
          ],
          "scattergeo": [
           {
            "type": "scattergeo",
            "marker": {
             "colorbar": {
              "outlinewidth": 0,
              "ticks": ""
             }
            }
           }
          ],
          "scatterpolar": [
           {
            "type": "scatterpolar",
            "marker": {
             "colorbar": {
              "outlinewidth": 0,
              "ticks": ""
             }
            }
           }
          ],
          "histogram": [
           {
            "marker": {
             "pattern": {
              "fillmode": "overlay",
              "size": 10,
              "solidity": 0.2
             }
            },
            "type": "histogram"
           }
          ],
          "scattergl": [
           {
            "marker": {
             "line": {
              "color": "#283442"
             }
            },
            "type": "scattergl"
           }
          ],
          "scatter3d": [
           {
            "type": "scatter3d",
            "line": {
             "colorbar": {
              "outlinewidth": 0,
              "ticks": ""
             }
            },
            "marker": {
             "colorbar": {
              "outlinewidth": 0,
              "ticks": ""
             }
            }
           }
          ],
          "scattermapbox": [
           {
            "type": "scattermapbox",
            "marker": {
             "colorbar": {
              "outlinewidth": 0,
              "ticks": ""
             }
            }
           }
          ],
          "scatterternary": [
           {
            "type": "scatterternary",
            "marker": {
             "colorbar": {
              "outlinewidth": 0,
              "ticks": ""
             }
            }
           }
          ],
          "scattercarpet": [
           {
            "type": "scattercarpet",
            "marker": {
             "colorbar": {
              "outlinewidth": 0,
              "ticks": ""
             }
            }
           }
          ],
          "carpet": [
           {
            "aaxis": {
             "endlinecolor": "#A2B1C6",
             "gridcolor": "#506784",
             "linecolor": "#506784",
             "minorgridcolor": "#506784",
             "startlinecolor": "#A2B1C6"
            },
            "baxis": {
             "endlinecolor": "#A2B1C6",
             "gridcolor": "#506784",
             "linecolor": "#506784",
             "minorgridcolor": "#506784",
             "startlinecolor": "#A2B1C6"
            },
            "type": "carpet"
           }
          ],
          "table": [
           {
            "cells": {
             "fill": {
              "color": "#506784"
             },
             "line": {
              "color": "rgb(17,17,17)"
             }
            },
            "header": {
             "fill": {
              "color": "#2a3f5f"
             },
             "line": {
              "color": "rgb(17,17,17)"
             }
            },
            "type": "table"
           }
          ],
          "barpolar": [
           {
            "marker": {
             "line": {
              "color": "rgb(17,17,17)",
              "width": 0.5
             },
             "pattern": {
              "fillmode": "overlay",
              "size": 10,
              "solidity": 0.2
             }
            },
            "type": "barpolar"
           }
          ],
          "pie": [
           {
            "automargin": true,
            "type": "pie"
           }
          ]
         },
         "layout": {
          "autotypenumbers": "strict",
          "colorway": [
           "#636efa",
           "#EF553B",
           "#00cc96",
           "#ab63fa",
           "#FFA15A",
           "#19d3f3",
           "#FF6692",
           "#B6E880",
           "#FF97FF",
           "#FECB52"
          ],
          "font": {
           "color": "#f2f5fa"
          },
          "hovermode": "closest",
          "hoverlabel": {
           "align": "left"
          },
          "paper_bgcolor": "rgb(17,17,17)",
          "plot_bgcolor": "rgb(17,17,17)",
          "polar": {
           "bgcolor": "rgb(17,17,17)",
           "angularaxis": {
            "gridcolor": "#506784",
            "linecolor": "#506784",
            "ticks": ""
           },
           "radialaxis": {
            "gridcolor": "#506784",
            "linecolor": "#506784",
            "ticks": ""
           }
          },
          "ternary": {
           "bgcolor": "rgb(17,17,17)",
           "aaxis": {
            "gridcolor": "#506784",
            "linecolor": "#506784",
            "ticks": ""
           },
           "baxis": {
            "gridcolor": "#506784",
            "linecolor": "#506784",
            "ticks": ""
           },
           "caxis": {
            "gridcolor": "#506784",
            "linecolor": "#506784",
            "ticks": ""
           }
          },
          "coloraxis": {
           "colorbar": {
            "outlinewidth": 0,
            "ticks": ""
           }
          },
          "colorscale": {
           "sequential": [
            [
             0.0,
             "#0d0887"
            ],
            [
             0.1111111111111111,
             "#46039f"
            ],
            [
             0.2222222222222222,
             "#7201a8"
            ],
            [
             0.3333333333333333,
             "#9c179e"
            ],
            [
             0.4444444444444444,
             "#bd3786"
            ],
            [
             0.5555555555555556,
             "#d8576b"
            ],
            [
             0.6666666666666666,
             "#ed7953"
            ],
            [
             0.7777777777777778,
             "#fb9f3a"
            ],
            [
             0.8888888888888888,
             "#fdca26"
            ],
            [
             1.0,
             "#f0f921"
            ]
           ],
           "sequentialminus": [
            [
             0.0,
             "#0d0887"
            ],
            [
             0.1111111111111111,
             "#46039f"
            ],
            [
             0.2222222222222222,
             "#7201a8"
            ],
            [
             0.3333333333333333,
             "#9c179e"
            ],
            [
             0.4444444444444444,
             "#bd3786"
            ],
            [
             0.5555555555555556,
             "#d8576b"
            ],
            [
             0.6666666666666666,
             "#ed7953"
            ],
            [
             0.7777777777777778,
             "#fb9f3a"
            ],
            [
             0.8888888888888888,
             "#fdca26"
            ],
            [
             1.0,
             "#f0f921"
            ]
           ],
           "diverging": [
            [
             0,
             "#8e0152"
            ],
            [
             0.1,
             "#c51b7d"
            ],
            [
             0.2,
             "#de77ae"
            ],
            [
             0.3,
             "#f1b6da"
            ],
            [
             0.4,
             "#fde0ef"
            ],
            [
             0.5,
             "#f7f7f7"
            ],
            [
             0.6,
             "#e6f5d0"
            ],
            [
             0.7,
             "#b8e186"
            ],
            [
             0.8,
             "#7fbc41"
            ],
            [
             0.9,
             "#4d9221"
            ],
            [
             1,
             "#276419"
            ]
           ]
          },
          "xaxis": {
           "gridcolor": "#283442",
           "linecolor": "#506784",
           "ticks": "",
           "title": {
            "standoff": 15
           },
           "zerolinecolor": "#283442",
           "automargin": true,
           "zerolinewidth": 2
          },
          "yaxis": {
           "gridcolor": "#283442",
           "linecolor": "#506784",
           "ticks": "",
           "title": {
            "standoff": 15
           },
           "zerolinecolor": "#283442",
           "automargin": true,
           "zerolinewidth": 2
          },
          "scene": {
           "xaxis": {
            "backgroundcolor": "rgb(17,17,17)",
            "gridcolor": "#506784",
            "linecolor": "#506784",
            "showbackground": true,
            "ticks": "",
            "zerolinecolor": "#C8D4E3",
            "gridwidth": 2
           },
           "yaxis": {
            "backgroundcolor": "rgb(17,17,17)",
            "gridcolor": "#506784",
            "linecolor": "#506784",
            "showbackground": true,
            "ticks": "",
            "zerolinecolor": "#C8D4E3",
            "gridwidth": 2
           },
           "zaxis": {
            "backgroundcolor": "rgb(17,17,17)",
            "gridcolor": "#506784",
            "linecolor": "#506784",
            "showbackground": true,
            "ticks": "",
            "zerolinecolor": "#C8D4E3",
            "gridwidth": 2
           }
          },
          "shapedefaults": {
           "line": {
            "color": "#f2f5fa"
           }
          },
          "annotationdefaults": {
           "arrowcolor": "#f2f5fa",
           "arrowhead": 0,
           "arrowwidth": 1
          },
          "geo": {
           "bgcolor": "rgb(17,17,17)",
           "landcolor": "rgb(17,17,17)",
           "subunitcolor": "#506784",
           "showland": true,
           "showlakes": true,
           "lakecolor": "rgb(17,17,17)"
          },
          "title": {
           "x": 0.05
          },
          "updatemenudefaults": {
           "bgcolor": "#506784",
           "borderwidth": 0
          },
          "sliderdefaults": {
           "bgcolor": "#C8D4E3",
           "borderwidth": 1,
           "bordercolor": "rgb(17,17,17)",
           "tickwidth": 0
          },
          "mapbox": {
           "style": "dark"
          }
         }
        },
        "xaxis": {
         "anchor": "y",
         "domain": [
          0.0,
          0.31999999999999995
         ],
         "title": {
          "text": "Dimensione array"
         }
        },
        "yaxis": {
         "anchor": "x",
         "domain": [
          0.0,
          1.0
         ],
         "title": {
          "text": "Time (s)"
         }
        },
        "xaxis2": {
         "anchor": "y2",
         "domain": [
          0.33999999999999997,
          0.6599999999999999
         ],
         "matches": "x",
         "title": {
          "text": "Dimensione array"
         }
        },
        "yaxis2": {
         "anchor": "x2",
         "domain": [
          0.0,
          1.0
         ],
         "matches": "y",
         "showticklabels": false
        },
        "xaxis3": {
         "anchor": "y3",
         "domain": [
          0.6799999999999999,
          0.9999999999999999
         ],
         "matches": "x",
         "title": {
          "text": "Dimensione array"
         }
        },
        "yaxis3": {
         "anchor": "x3",
         "domain": [
          0.0,
          1.0
         ],
         "matches": "y",
         "showticklabels": false
        },
        "annotations": [
         {
          "font": {},
          "showarrow": false,
          "text": "Tipo di input=random",
          "x": 0.15999999999999998,
          "xanchor": "center",
          "xref": "paper",
          "y": 1.0,
          "yanchor": "bottom",
          "yref": "paper"
         },
         {
          "font": {},
          "showarrow": false,
          "text": "Tipo di input=sorted",
          "x": 0.49999999999999994,
          "xanchor": "center",
          "xref": "paper",
          "y": 1.0,
          "yanchor": "bottom",
          "yref": "paper"
         },
         {
          "font": {},
          "showarrow": false,
          "text": "Tipo di input=reversed",
          "x": 0.8399999999999999,
          "xanchor": "center",
          "xref": "paper",
          "y": 1.0,
          "yanchor": "bottom",
          "yref": "paper"
         }
        ],
        "legend": {
         "title": {
          "text": "Algoritmo di ordinamento"
         },
         "tracegroupgap": 0
        },
        "title": {
         "text": "Sorting algorithms"
        }
       },
       "config": {
        "plotlyServerURL": "https://plot.ly"
       }
      },
      "text/html": "<div>                            <div id=\"3c5af378-5647-4b62-966a-806a613a469c\" class=\"plotly-graph-div\" style=\"height:525px; width:100%;\"></div>            <script type=\"text/javascript\">                require([\"plotly\"], function(Plotly) {                    window.PLOTLYENV=window.PLOTLYENV || {};                                    if (document.getElementById(\"3c5af378-5647-4b62-966a-806a613a469c\")) {                    Plotly.newPlot(                        \"3c5af378-5647-4b62-966a-806a613a469c\",                        [{\"hovertemplate\":\"Algoritmo di ordinamento=insertion_sort<br>Tipo di input=random<br>Dimensione array=%{x}<br>Time (s)=%{y}<extra></extra>\",\"legendgroup\":\"insertion_sort\",\"marker\":{\"color\":\"#636efa\",\"symbol\":\"circle\"},\"mode\":\"markers\",\"name\":\"insertion_sort\",\"orientation\":\"v\",\"showlegend\":true,\"x\":[10,20,30,40,50,60,70,80,90],\"xaxis\":\"x\",\"y\":[5.300040356814861e-06,1.4300050679594278e-05,2.770003629848361e-05,5.259999306872487e-05,7.760000880807638e-05,9.870005305856466e-05,0.00013229995965957642,0.00015310000162571669,0.0002243000199086964],\"yaxis\":\"y\",\"type\":\"scatter\"},{\"hovertemplate\":\"Algoritmo di ordinamento=insertion_sort<br>Tipo di input=sorted<br>Dimensione array=%{x}<br>Time (s)=%{y}<extra></extra>\",\"legendgroup\":\"insertion_sort\",\"marker\":{\"color\":\"#636efa\",\"symbol\":\"circle\"},\"mode\":\"markers\",\"name\":\"insertion_sort\",\"orientation\":\"v\",\"showlegend\":false,\"x\":[10,20,30,40,50,60,70,80,90],\"xaxis\":\"x2\",\"y\":[3.700028173625469e-06,3.400025889277458e-06,5.099980626255274e-06,7.099995855242014e-06,8.100003469735384e-06,7.800001185387373e-06,8.699949830770493e-06,9.400013368576765e-06,1.0400020983070135e-05],\"yaxis\":\"y2\",\"type\":\"scatter\"},{\"hovertemplate\":\"Algoritmo di ordinamento=insertion_sort<br>Tipo di input=reversed<br>Dimensione array=%{x}<br>Time (s)=%{y}<extra></extra>\",\"legendgroup\":\"insertion_sort\",\"marker\":{\"color\":\"#636efa\",\"symbol\":\"circle\"},\"mode\":\"markers\",\"name\":\"insertion_sort\",\"orientation\":\"v\",\"showlegend\":false,\"x\":[10,20,30,40,50,60,70,80,90],\"xaxis\":\"x3\",\"y\":[6.89999433234334e-06,2.1600048057734966e-05,4.640000406652689e-05,8.099997648969293e-05,0.0001248999615199864,0.00017910002497956157,0.0002383999526500702,0.0003161000204272568,0.0003948000376112759],\"yaxis\":\"y3\",\"type\":\"scatter\"},{\"hovertemplate\":\"Algoritmo di ordinamento=counting_sort<br>Tipo di input=random<br>Dimensione array=%{x}<br>Time (s)=%{y}<extra></extra>\",\"legendgroup\":\"counting_sort\",\"marker\":{\"color\":\"#EF553B\",\"symbol\":\"circle\"},\"mode\":\"markers\",\"name\":\"counting_sort\",\"orientation\":\"v\",\"showlegend\":true,\"x\":[10,20,30,40,50,60,70,80,90],\"xaxis\":\"x\",\"y\":[6.130000110715628e-05,8.590001380071044e-05,8.939998224377632e-05,9.159999899566174e-05,9.250000584870577e-05,9.309995220974088e-05,9.659997886046767e-05,9.729998419061303e-05,9.819999104365706e-05],\"yaxis\":\"y\",\"type\":\"scatter\"},{\"hovertemplate\":\"Algoritmo di ordinamento=counting_sort<br>Tipo di input=sorted<br>Dimensione array=%{x}<br>Time (s)=%{y}<extra></extra>\",\"legendgroup\":\"counting_sort\",\"marker\":{\"color\":\"#EF553B\",\"symbol\":\"circle\"},\"mode\":\"markers\",\"name\":\"counting_sort\",\"orientation\":\"v\",\"showlegend\":false,\"x\":[10,20,30,40,50,60,70,80,90],\"xaxis\":\"x2\",\"y\":[8.849997539073229e-05,8.910003816708922e-05,8.47000046633184e-05,9.029998909682035e-05,8.939998224377632e-05,9.490002412348986e-05,9.609997505322099e-05,9.590003173798323e-05,9.869999485090375e-05],\"yaxis\":\"y2\",\"type\":\"scatter\"},{\"hovertemplate\":\"Algoritmo di ordinamento=counting_sort<br>Tipo di input=reversed<br>Dimensione array=%{x}<br>Time (s)=%{y}<extra></extra>\",\"legendgroup\":\"counting_sort\",\"marker\":{\"color\":\"#EF553B\",\"symbol\":\"circle\"},\"mode\":\"markers\",\"name\":\"counting_sort\",\"orientation\":\"v\",\"showlegend\":false,\"x\":[10,20,30,40,50,60,70,80,90],\"xaxis\":\"x3\",\"y\":[5.199998850002885e-05,8.610001532360911e-05,8.750002598389983e-05,8.9899986051023e-05,9.240000508725643e-05,9.12000541575253e-05,9.380001574754715e-05,9.779998799785972e-05,0.00010519998613744974],\"yaxis\":\"y3\",\"type\":\"scatter\"}],                        {\"template\":{\"data\":{\"histogram2dcontour\":[{\"type\":\"histogram2dcontour\",\"colorbar\":{\"outlinewidth\":0,\"ticks\":\"\"},\"colorscale\":[[0.0,\"#0d0887\"],[0.1111111111111111,\"#46039f\"],[0.2222222222222222,\"#7201a8\"],[0.3333333333333333,\"#9c179e\"],[0.4444444444444444,\"#bd3786\"],[0.5555555555555556,\"#d8576b\"],[0.6666666666666666,\"#ed7953\"],[0.7777777777777778,\"#fb9f3a\"],[0.8888888888888888,\"#fdca26\"],[1.0,\"#f0f921\"]]}],\"choropleth\":[{\"type\":\"choropleth\",\"colorbar\":{\"outlinewidth\":0,\"ticks\":\"\"}}],\"histogram2d\":[{\"type\":\"histogram2d\",\"colorbar\":{\"outlinewidth\":0,\"ticks\":\"\"},\"colorscale\":[[0.0,\"#0d0887\"],[0.1111111111111111,\"#46039f\"],[0.2222222222222222,\"#7201a8\"],[0.3333333333333333,\"#9c179e\"],[0.4444444444444444,\"#bd3786\"],[0.5555555555555556,\"#d8576b\"],[0.6666666666666666,\"#ed7953\"],[0.7777777777777778,\"#fb9f3a\"],[0.8888888888888888,\"#fdca26\"],[1.0,\"#f0f921\"]]}],\"heatmap\":[{\"type\":\"heatmap\",\"colorbar\":{\"outlinewidth\":0,\"ticks\":\"\"},\"colorscale\":[[0.0,\"#0d0887\"],[0.1111111111111111,\"#46039f\"],[0.2222222222222222,\"#7201a8\"],[0.3333333333333333,\"#9c179e\"],[0.4444444444444444,\"#bd3786\"],[0.5555555555555556,\"#d8576b\"],[0.6666666666666666,\"#ed7953\"],[0.7777777777777778,\"#fb9f3a\"],[0.8888888888888888,\"#fdca26\"],[1.0,\"#f0f921\"]]}],\"heatmapgl\":[{\"type\":\"heatmapgl\",\"colorbar\":{\"outlinewidth\":0,\"ticks\":\"\"},\"colorscale\":[[0.0,\"#0d0887\"],[0.1111111111111111,\"#46039f\"],[0.2222222222222222,\"#7201a8\"],[0.3333333333333333,\"#9c179e\"],[0.4444444444444444,\"#bd3786\"],[0.5555555555555556,\"#d8576b\"],[0.6666666666666666,\"#ed7953\"],[0.7777777777777778,\"#fb9f3a\"],[0.8888888888888888,\"#fdca26\"],[1.0,\"#f0f921\"]]}],\"contourcarpet\":[{\"type\":\"contourcarpet\",\"colorbar\":{\"outlinewidth\":0,\"ticks\":\"\"}}],\"contour\":[{\"type\":\"contour\",\"colorbar\":{\"outlinewidth\":0,\"ticks\":\"\"},\"colorscale\":[[0.0,\"#0d0887\"],[0.1111111111111111,\"#46039f\"],[0.2222222222222222,\"#7201a8\"],[0.3333333333333333,\"#9c179e\"],[0.4444444444444444,\"#bd3786\"],[0.5555555555555556,\"#d8576b\"],[0.6666666666666666,\"#ed7953\"],[0.7777777777777778,\"#fb9f3a\"],[0.8888888888888888,\"#fdca26\"],[1.0,\"#f0f921\"]]}],\"surface\":[{\"type\":\"surface\",\"colorbar\":{\"outlinewidth\":0,\"ticks\":\"\"},\"colorscale\":[[0.0,\"#0d0887\"],[0.1111111111111111,\"#46039f\"],[0.2222222222222222,\"#7201a8\"],[0.3333333333333333,\"#9c179e\"],[0.4444444444444444,\"#bd3786\"],[0.5555555555555556,\"#d8576b\"],[0.6666666666666666,\"#ed7953\"],[0.7777777777777778,\"#fb9f3a\"],[0.8888888888888888,\"#fdca26\"],[1.0,\"#f0f921\"]]}],\"mesh3d\":[{\"type\":\"mesh3d\",\"colorbar\":{\"outlinewidth\":0,\"ticks\":\"\"}}],\"scatter\":[{\"marker\":{\"line\":{\"color\":\"#283442\"}},\"type\":\"scatter\"}],\"parcoords\":[{\"type\":\"parcoords\",\"line\":{\"colorbar\":{\"outlinewidth\":0,\"ticks\":\"\"}}}],\"scatterpolargl\":[{\"type\":\"scatterpolargl\",\"marker\":{\"colorbar\":{\"outlinewidth\":0,\"ticks\":\"\"}}}],\"bar\":[{\"error_x\":{\"color\":\"#f2f5fa\"},\"error_y\":{\"color\":\"#f2f5fa\"},\"marker\":{\"line\":{\"color\":\"rgb(17,17,17)\",\"width\":0.5},\"pattern\":{\"fillmode\":\"overlay\",\"size\":10,\"solidity\":0.2}},\"type\":\"bar\"}],\"scattergeo\":[{\"type\":\"scattergeo\",\"marker\":{\"colorbar\":{\"outlinewidth\":0,\"ticks\":\"\"}}}],\"scatterpolar\":[{\"type\":\"scatterpolar\",\"marker\":{\"colorbar\":{\"outlinewidth\":0,\"ticks\":\"\"}}}],\"histogram\":[{\"marker\":{\"pattern\":{\"fillmode\":\"overlay\",\"size\":10,\"solidity\":0.2}},\"type\":\"histogram\"}],\"scattergl\":[{\"marker\":{\"line\":{\"color\":\"#283442\"}},\"type\":\"scattergl\"}],\"scatter3d\":[{\"type\":\"scatter3d\",\"line\":{\"colorbar\":{\"outlinewidth\":0,\"ticks\":\"\"}},\"marker\":{\"colorbar\":{\"outlinewidth\":0,\"ticks\":\"\"}}}],\"scattermapbox\":[{\"type\":\"scattermapbox\",\"marker\":{\"colorbar\":{\"outlinewidth\":0,\"ticks\":\"\"}}}],\"scatterternary\":[{\"type\":\"scatterternary\",\"marker\":{\"colorbar\":{\"outlinewidth\":0,\"ticks\":\"\"}}}],\"scattercarpet\":[{\"type\":\"scattercarpet\",\"marker\":{\"colorbar\":{\"outlinewidth\":0,\"ticks\":\"\"}}}],\"carpet\":[{\"aaxis\":{\"endlinecolor\":\"#A2B1C6\",\"gridcolor\":\"#506784\",\"linecolor\":\"#506784\",\"minorgridcolor\":\"#506784\",\"startlinecolor\":\"#A2B1C6\"},\"baxis\":{\"endlinecolor\":\"#A2B1C6\",\"gridcolor\":\"#506784\",\"linecolor\":\"#506784\",\"minorgridcolor\":\"#506784\",\"startlinecolor\":\"#A2B1C6\"},\"type\":\"carpet\"}],\"table\":[{\"cells\":{\"fill\":{\"color\":\"#506784\"},\"line\":{\"color\":\"rgb(17,17,17)\"}},\"header\":{\"fill\":{\"color\":\"#2a3f5f\"},\"line\":{\"color\":\"rgb(17,17,17)\"}},\"type\":\"table\"}],\"barpolar\":[{\"marker\":{\"line\":{\"color\":\"rgb(17,17,17)\",\"width\":0.5},\"pattern\":{\"fillmode\":\"overlay\",\"size\":10,\"solidity\":0.2}},\"type\":\"barpolar\"}],\"pie\":[{\"automargin\":true,\"type\":\"pie\"}]},\"layout\":{\"autotypenumbers\":\"strict\",\"colorway\":[\"#636efa\",\"#EF553B\",\"#00cc96\",\"#ab63fa\",\"#FFA15A\",\"#19d3f3\",\"#FF6692\",\"#B6E880\",\"#FF97FF\",\"#FECB52\"],\"font\":{\"color\":\"#f2f5fa\"},\"hovermode\":\"closest\",\"hoverlabel\":{\"align\":\"left\"},\"paper_bgcolor\":\"rgb(17,17,17)\",\"plot_bgcolor\":\"rgb(17,17,17)\",\"polar\":{\"bgcolor\":\"rgb(17,17,17)\",\"angularaxis\":{\"gridcolor\":\"#506784\",\"linecolor\":\"#506784\",\"ticks\":\"\"},\"radialaxis\":{\"gridcolor\":\"#506784\",\"linecolor\":\"#506784\",\"ticks\":\"\"}},\"ternary\":{\"bgcolor\":\"rgb(17,17,17)\",\"aaxis\":{\"gridcolor\":\"#506784\",\"linecolor\":\"#506784\",\"ticks\":\"\"},\"baxis\":{\"gridcolor\":\"#506784\",\"linecolor\":\"#506784\",\"ticks\":\"\"},\"caxis\":{\"gridcolor\":\"#506784\",\"linecolor\":\"#506784\",\"ticks\":\"\"}},\"coloraxis\":{\"colorbar\":{\"outlinewidth\":0,\"ticks\":\"\"}},\"colorscale\":{\"sequential\":[[0.0,\"#0d0887\"],[0.1111111111111111,\"#46039f\"],[0.2222222222222222,\"#7201a8\"],[0.3333333333333333,\"#9c179e\"],[0.4444444444444444,\"#bd3786\"],[0.5555555555555556,\"#d8576b\"],[0.6666666666666666,\"#ed7953\"],[0.7777777777777778,\"#fb9f3a\"],[0.8888888888888888,\"#fdca26\"],[1.0,\"#f0f921\"]],\"sequentialminus\":[[0.0,\"#0d0887\"],[0.1111111111111111,\"#46039f\"],[0.2222222222222222,\"#7201a8\"],[0.3333333333333333,\"#9c179e\"],[0.4444444444444444,\"#bd3786\"],[0.5555555555555556,\"#d8576b\"],[0.6666666666666666,\"#ed7953\"],[0.7777777777777778,\"#fb9f3a\"],[0.8888888888888888,\"#fdca26\"],[1.0,\"#f0f921\"]],\"diverging\":[[0,\"#8e0152\"],[0.1,\"#c51b7d\"],[0.2,\"#de77ae\"],[0.3,\"#f1b6da\"],[0.4,\"#fde0ef\"],[0.5,\"#f7f7f7\"],[0.6,\"#e6f5d0\"],[0.7,\"#b8e186\"],[0.8,\"#7fbc41\"],[0.9,\"#4d9221\"],[1,\"#276419\"]]},\"xaxis\":{\"gridcolor\":\"#283442\",\"linecolor\":\"#506784\",\"ticks\":\"\",\"title\":{\"standoff\":15},\"zerolinecolor\":\"#283442\",\"automargin\":true,\"zerolinewidth\":2},\"yaxis\":{\"gridcolor\":\"#283442\",\"linecolor\":\"#506784\",\"ticks\":\"\",\"title\":{\"standoff\":15},\"zerolinecolor\":\"#283442\",\"automargin\":true,\"zerolinewidth\":2},\"scene\":{\"xaxis\":{\"backgroundcolor\":\"rgb(17,17,17)\",\"gridcolor\":\"#506784\",\"linecolor\":\"#506784\",\"showbackground\":true,\"ticks\":\"\",\"zerolinecolor\":\"#C8D4E3\",\"gridwidth\":2},\"yaxis\":{\"backgroundcolor\":\"rgb(17,17,17)\",\"gridcolor\":\"#506784\",\"linecolor\":\"#506784\",\"showbackground\":true,\"ticks\":\"\",\"zerolinecolor\":\"#C8D4E3\",\"gridwidth\":2},\"zaxis\":{\"backgroundcolor\":\"rgb(17,17,17)\",\"gridcolor\":\"#506784\",\"linecolor\":\"#506784\",\"showbackground\":true,\"ticks\":\"\",\"zerolinecolor\":\"#C8D4E3\",\"gridwidth\":2}},\"shapedefaults\":{\"line\":{\"color\":\"#f2f5fa\"}},\"annotationdefaults\":{\"arrowcolor\":\"#f2f5fa\",\"arrowhead\":0,\"arrowwidth\":1},\"geo\":{\"bgcolor\":\"rgb(17,17,17)\",\"landcolor\":\"rgb(17,17,17)\",\"subunitcolor\":\"#506784\",\"showland\":true,\"showlakes\":true,\"lakecolor\":\"rgb(17,17,17)\"},\"title\":{\"x\":0.05},\"updatemenudefaults\":{\"bgcolor\":\"#506784\",\"borderwidth\":0},\"sliderdefaults\":{\"bgcolor\":\"#C8D4E3\",\"borderwidth\":1,\"bordercolor\":\"rgb(17,17,17)\",\"tickwidth\":0},\"mapbox\":{\"style\":\"dark\"}}},\"xaxis\":{\"anchor\":\"y\",\"domain\":[0.0,0.31999999999999995],\"title\":{\"text\":\"Dimensione array\"}},\"yaxis\":{\"anchor\":\"x\",\"domain\":[0.0,1.0],\"title\":{\"text\":\"Time (s)\"}},\"xaxis2\":{\"anchor\":\"y2\",\"domain\":[0.33999999999999997,0.6599999999999999],\"matches\":\"x\",\"title\":{\"text\":\"Dimensione array\"}},\"yaxis2\":{\"anchor\":\"x2\",\"domain\":[0.0,1.0],\"matches\":\"y\",\"showticklabels\":false},\"xaxis3\":{\"anchor\":\"y3\",\"domain\":[0.6799999999999999,0.9999999999999999],\"matches\":\"x\",\"title\":{\"text\":\"Dimensione array\"}},\"yaxis3\":{\"anchor\":\"x3\",\"domain\":[0.0,1.0],\"matches\":\"y\",\"showticklabels\":false},\"annotations\":[{\"font\":{},\"showarrow\":false,\"text\":\"Tipo di input=random\",\"x\":0.15999999999999998,\"xanchor\":\"center\",\"xref\":\"paper\",\"y\":1.0,\"yanchor\":\"bottom\",\"yref\":\"paper\"},{\"font\":{},\"showarrow\":false,\"text\":\"Tipo di input=sorted\",\"x\":0.49999999999999994,\"xanchor\":\"center\",\"xref\":\"paper\",\"y\":1.0,\"yanchor\":\"bottom\",\"yref\":\"paper\"},{\"font\":{},\"showarrow\":false,\"text\":\"Tipo di input=reversed\",\"x\":0.8399999999999999,\"xanchor\":\"center\",\"xref\":\"paper\",\"y\":1.0,\"yanchor\":\"bottom\",\"yref\":\"paper\"}],\"legend\":{\"title\":{\"text\":\"Algoritmo di ordinamento\"},\"tracegroupgap\":0},\"title\":{\"text\":\"Sorting algorithms\"}},                        {\"responsive\": true}                    ).then(function(){\n                            \nvar gd = document.getElementById('3c5af378-5647-4b62-966a-806a613a469c');\nvar x = new MutationObserver(function (mutations, observer) {{\n        var display = window.getComputedStyle(gd).display;\n        if (!display || display === 'none') {{\n            console.log([gd, 'removed!']);\n            Plotly.purge(gd);\n            observer.disconnect();\n        }}\n}});\n\n// Listen for the removal of the full notebook cells\nvar notebookContainer = gd.closest('#notebook-container');\nif (notebookContainer) {{\n    x.observe(notebookContainer, {childList: true});\n}}\n\n// Listen for the clearing of the current output cell\nvar outputEl = gd.closest('.output');\nif (outputEl) {{\n    x.observe(outputEl, {childList: true});\n}}\n\n                        })                };                });            </script>        </div>"
     },
     "metadata": {},
     "output_type": "display_data"
    }
   ],
   "source": [
    "figure = px.scatter(df.query(\"num_samples > 0\"),\n",
    "                 x=\"num_samples\",\n",
    "                 y=\"time\",\n",
    "                 color=\"test_type\",\n",
    "                 facet_col=\"input_type\",\n",
    "                 title=\"Sorting algorithms\",\n",
    "                 labels={\"num_samples\": \"Dimensione array\", \"time\": \"Time (s)\", \"test_type\": \"Algoritmo di ordinamento\", \"input_type\": \"Tipo di input\"})\n",
    "\n",
    "figure.show()"
   ],
   "metadata": {
    "collapsed": false
   }
  },
  {
   "cell_type": "markdown",
   "source": [
    "Se il range di generazione dei numeri è fino a 1000, il tempo impiegato dal _counting sort_ per ordinare l'array è molto più elevato, in quanto il costo computazionale del _counting sort_ è legato al range di generazione dei numeri; più è elevato il valore massimo dell'array, più il costo computazionale sarà elevato.\n",
    "\n",
    "Nelle sezioni successive i grafici saranno continui, in modo tale che gli andamenti dei test siano più chiari e visibili."
   ],
   "metadata": {
    "collapsed": false
   }
  },
  {
   "cell_type": "markdown",
   "source": [
    "### 2. Array di dimensione 1000"
   ],
   "metadata": {
    "collapsed": false
   }
  },
  {
   "cell_type": "markdown",
   "source": [
    "In questo caso, analizziamo i test eseguiti su array di dimensione 1000 con passo pari a 10 e range di generazione dei numeri da 0 a 10000, da 0 a 100000 e da 0 a 1000000. I grafici mostrano i risultati dei test di insertion sort e counting sort in base al tipo di input utilizzato."
   ],
   "metadata": {
    "collapsed": false
   }
  },
  {
   "cell_type": "markdown",
   "source": [
    "#### Array di dimensione 1000 con range da 0 a 1000"
   ],
   "metadata": {
    "collapsed": false
   }
  },
  {
   "cell_type": "code",
   "execution_count": 193,
   "outputs": [],
   "source": [
    "df = plot_results(1000, 10, (0, 10000))"
   ],
   "metadata": {
    "collapsed": false
   }
  },
  {
   "cell_type": "code",
   "execution_count": 194,
   "outputs": [
    {
     "data": {
      "application/vnd.plotly.v1+json": {
       "data": [
        {
         "hovertemplate": "Algoritmo di ordinamento=insertion_sort<br>Tipo di input=random<br>Dimensione array=%{x}<br>Time (s)=%{y}<extra></extra>",
         "legendgroup": "insertion_sort",
         "line": {
          "color": "#636efa",
          "dash": "solid"
         },
         "marker": {
          "symbol": "circle"
         },
         "mode": "lines",
         "name": "insertion_sort",
         "orientation": "v",
         "showlegend": true,
         "x": [
          10,
          20,
          30,
          40,
          50,
          60,
          70,
          80,
          90,
          100,
          110,
          120,
          130,
          140,
          150,
          160,
          170,
          180,
          190,
          200,
          210,
          220,
          230,
          240,
          250,
          260,
          270,
          280,
          290,
          300,
          310,
          320,
          330,
          340,
          350,
          360,
          370,
          380,
          390,
          400,
          410,
          420,
          430,
          440,
          450,
          460,
          470,
          480,
          490,
          500,
          510,
          520,
          530,
          540,
          550,
          560,
          570,
          580,
          590,
          600,
          610,
          620,
          630,
          640,
          650,
          660,
          670,
          680,
          690,
          700,
          710,
          720,
          730,
          740,
          750,
          760,
          770,
          780,
          790,
          800,
          810,
          820,
          830,
          840,
          850,
          860,
          870,
          880,
          890,
          900,
          910,
          920,
          930,
          940,
          950,
          960,
          970,
          980,
          990
         ],
         "xaxis": "x",
         "y": [
          6.099988240748644E-6,
          1.3299984857439995E-5,
          2.4999957531690598E-5,
          4.7600013203918934E-5,
          8.410000009462237E-5,
          1.0010000551119447E-4,
          1.2839998817071319E-4,
          1.572000328451395E-4,
          2.001000102609396E-4,
          2.604000037536025E-4,
          3.3819995587691665E-4,
          3.6340003134682775E-4,
          4.3109996477141976E-4,
          5.081999697722495E-4,
          5.646999925374985E-4,
          8.416000055149198E-4,
          0.0011323000071570277,
          8.100999984890223E-4,
          9.254000033251941E-4,
          9.348000166937709E-4,
          0.0010065999813377857,
          0.0012820000411011279,
          0.0012701000086963177,
          0.001424000016413629,
          0.00165940000442788,
          0.0015970999957062304,
          0.0017634000396355987,
          0.0021152999834157526,
          0.002023800043389201,
          0.002746200014371425,
          0.003970899968408048,
          0.003531399997882545,
          0.0029651999939233065,
          0.0028236000216566026,
          0.0031458999728783965,
          0.003285100043285638,
          0.0035651999642141163,
          0.003696699975989759,
          0.0038970999885350466,
          0.004017299972474575,
          0.0042310000280849636,
          0.004626200010534376,
          0.004928199981804937,
          0.005163000023458153,
          0.005182499997317791,
          0.00533959997119382,
          0.005694199993740767,
          0.006406800006516278,
          0.006645999965257943,
          0.006978199991863221,
          0.007358999981079251,
          0.007428899989463389,
          0.007961499970406294,
          0.00804070004960522,
          0.00800070003606379,
          0.008735699986573309,
          0.009145100018940866,
          0.009047199971973896,
          0.009669599996414036,
          0.010007100005168468,
          0.010614000027999282,
          0.010848000005353242,
          0.01075349998427555,
          0.01126030000159517,
          0.01171349996002391,
          0.012045800045598298,
          0.012748700042720884,
          0.012985900044441223,
          0.017396500043105334,
          0.018880599993281066,
          0.015553200035355985,
          0.018034600012470037,
          0.018012900021858513,
          0.026651900028809905,
          0.029727799992542714,
          0.023809000034816563,
          0.02363889996195212,
          0.02029650000622496,
          0.030059200013056397,
          0.018191800045315176,
          0.017369900015182793,
          0.01956729998346418,
          0.018885100027546287,
          0.018108699994627386,
          0.02032289997441694,
          0.019838300009723753,
          0.021242900053039193,
          0.02196660003392026,
          0.021852800040505826,
          0.022263800026848912,
          0.0218106999527663,
          0.022814799973275512,
          0.02380759996594861,
          0.025186299986671656,
          0.02677390002645552,
          0.026711199956480414,
          0.026864800020121038,
          0.027125700027681887,
          0.028031299996655434
         ],
         "yaxis": "y",
         "type": "scatter"
        },
        {
         "hovertemplate": "Algoritmo di ordinamento=insertion_sort<br>Tipo di input=sorted<br>Dimensione array=%{x}<br>Time (s)=%{y}<extra></extra>",
         "legendgroup": "insertion_sort",
         "line": {
          "color": "#636efa",
          "dash": "solid"
         },
         "marker": {
          "symbol": "circle"
         },
         "mode": "lines",
         "name": "insertion_sort",
         "orientation": "v",
         "showlegend": false,
         "x": [
          10,
          20,
          30,
          40,
          50,
          60,
          70,
          80,
          90,
          100,
          110,
          120,
          130,
          140,
          150,
          160,
          170,
          180,
          190,
          200,
          210,
          220,
          230,
          240,
          250,
          260,
          270,
          280,
          290,
          300,
          310,
          320,
          330,
          340,
          350,
          360,
          370,
          380,
          390,
          400,
          410,
          420,
          430,
          440,
          450,
          460,
          470,
          480,
          490,
          500,
          510,
          520,
          530,
          540,
          550,
          560,
          570,
          580,
          590,
          600,
          610,
          620,
          630,
          640,
          650,
          660,
          670,
          680,
          690,
          700,
          710,
          720,
          730,
          740,
          750,
          760,
          770,
          780,
          790,
          800,
          810,
          820,
          830,
          840,
          850,
          860,
          870,
          880,
          890,
          900,
          910,
          920,
          930,
          940,
          950,
          960,
          970,
          980,
          990
         ],
         "xaxis": "x2",
         "y": [
          2.3999600671231747E-6,
          3.100023604929447E-6,
          3.999972250312567E-6,
          5.299982149153948E-6,
          6.199989002197981E-6,
          7.499998901039362E-6,
          8.600007276982069E-6,
          9.700015652924776E-6,
          1.0800024028867483E-5,
          1.209997572004795E-5,
          1.309998333454132E-5,
          1.4299992471933365E-5,
          1.5300000086426735E-5,
          1.650000922381878E-5,
          1.7600017599761486E-5,
          1.8900027498602867E-5,
          1.9899976905435324E-5,
          2.1199986804276705E-5,
          2.2199994418770075E-5,
          2.340000355616212E-5,
          2.4399952962994576E-5,
          2.559996210038662E-5,
          2.670002868399024E-5,
          2.7999980375170708E-5,
          2.8999987989664078E-5,
          3.0800001695752144E-5,
          3.189995186403394E-5,
          3.319996176287532E-5,
          3.4800032153725624E-5,
          3.579998156055808E-5,
          3.739999374374747E-5,
          3.880000440403819E-5,
          4.010001430287957E-5,
          4.139996599406004E-5,
          4.269997589290142E-5,
          4.410004476085305E-5,
          4.5900000259280205E-5,
          4.6900007873773575E-5,
          4.799995804205537E-5,
          4.9600028432905674E-5,
          5.089998012408614E-5,
          5.219999002292752E-5,
          5.360000068321824E-5,
          5.470000905916095E-5,
          5.5999960750341415E-5,
          5.7299970649182796E-5,
          5.9299985878169537E-5,
          6.009999196976423E-5,
          6.150000263005495E-5,
          6.289995508268476E-5,
          6.40999642200768E-5,
          6.539997411891818E-5,
          6.67999847792089E-5,
          6.86999992467463E-5,
          7.00999516993761E-5,
          7.120001828297973E-5,
          1.0000000474974513E-4,
          7.450004341080785E-5,
          7.750000804662704E-5,
          7.609999738633633E-5,
          7.750000804662704E-5,
          7.869995897635818E-5,
          8.289999095723033E-5,
          8.140003774315119E-5,
          8.299999171867967E-5,
          8.430000161752105E-5,
          8.899997919797897E-5,
          8.690002141520381E-5,
          8.840003283694386E-5,
          8.909997995942831E-5,
          9.049999061971903E-5,
          1.4080002438277006E-4,
          9.320001117885113E-5,
          9.549997048452497E-5,
          9.61000332608819E-5,
          9.71999834291637E-5,
          9.869999485090375E-5,
          9.970000246539712E-5,
          1.0130001464858651E-4,
          1.0270002530887723E-4,
          1.0389997623860836E-4,
          1.0539998766034842E-4,
          1.066999975591898E-4,
          1.0820000898092985E-4,
          1.0959996143355966E-4,
          1.107999705709517E-4,
          1.1199997970834374E-4,
          1.1360005009919405E-4,
          1.126999850384891E-4,
          1.1670001549646258E-4,
          1.1840002844110131E-4,
          1.1930003529414535E-4,
          1.2099999003112316E-4,
          1.2229999992996454E-4,
          1.233000075444579E-4,
          1.248999615199864E-4,
          1.262999721802771E-4,
          1.2860004790127277E-4,
          1.2909999350085855E-4
         ],
         "yaxis": "y2",
         "type": "scatter"
        },
        {
         "hovertemplate": "Algoritmo di ordinamento=insertion_sort<br>Tipo di input=reversed<br>Dimensione array=%{x}<br>Time (s)=%{y}<extra></extra>",
         "legendgroup": "insertion_sort",
         "line": {
          "color": "#636efa",
          "dash": "solid"
         },
         "marker": {
          "symbol": "circle"
         },
         "mode": "lines",
         "name": "insertion_sort",
         "orientation": "v",
         "showlegend": false,
         "x": [
          10,
          20,
          30,
          40,
          50,
          60,
          70,
          80,
          90,
          100,
          110,
          120,
          130,
          140,
          150,
          160,
          170,
          180,
          190,
          200,
          210,
          220,
          230,
          240,
          250,
          260,
          270,
          280,
          290,
          300,
          310,
          320,
          330,
          340,
          350,
          360,
          370,
          380,
          390,
          400,
          410,
          420,
          430,
          440,
          450,
          460,
          470,
          480,
          490,
          500,
          510,
          520,
          530,
          540,
          550,
          560,
          570,
          580,
          590,
          600,
          610,
          620,
          630,
          640,
          650,
          660,
          670,
          680,
          690,
          700,
          710,
          720,
          730,
          740,
          750,
          760,
          770,
          780,
          790,
          800,
          810,
          820,
          830,
          840,
          850,
          860,
          870,
          880,
          890,
          900,
          910,
          920,
          930,
          940,
          950,
          960,
          970,
          980,
          990
         ],
         "xaxis": "x3",
         "y": [
          7.399998139590025E-6,
          2.269999822601676E-5,
          4.88999648950994E-5,
          8.560001151636243E-5,
          1.3280002167448401E-4,
          1.9019999308511615E-4,
          2.5839998852461576E-4,
          3.3599999733269215E-4,
          4.2349996510893106E-4,
          5.231000250205398E-4,
          6.32000039331615E-4,
          7.525000255554914E-4,
          8.82800028193742E-4,
          0.0010218999814242125,
          0.0011766999959945679,
          0.001337299996521324,
          0.001564500038512051,
          0.0016985000111162663,
          0.001877599977888167,
          0.0020723000052385032,
          0.002279900014400482,
          0.0025063000502996147,
          0.0027286999975331128,
          0.003006999962963164,
          0.0032454999745823443,
          0.0034860000014305115,
          0.00377209996804595,
          0.0041309999651275575,
          0.004369600035715848,
          0.004666899971198291,
          0.005044299992732704,
          0.005321899952832609,
          0.005666300014127046,
          0.006066100031603128,
          0.006396699987817556,
          0.00681700004497543,
          0.007162199995946139,
          0.00761550001334399,
          0.008005700015928596,
          0.00846129999263212,
          0.008843999996315688,
          0.009342500008642673,
          0.009865099971648306,
          0.01027339999563992,
          0.010801199998240918,
          0.011690200015436858,
          0.011835799959953874,
          0.012287200021091849,
          0.01292120001744479,
          0.01349460001802072,
          0.014010799990501255,
          0.014181000005919486,
          0.015006800007540733,
          0.01568879996193573,
          0.01628999999957159,
          0.01689610001631081,
          0.01746950001688674,
          0.01806250005029142,
          0.01944150001509115,
          0.01946079998742789,
          0.02012739999918267,
          0.020831800007726997,
          0.020877000002656132,
          0.02191010001115501,
          0.022257399978116155,
          0.02328919997671619,
          0.023954799980856478,
          0.02506150002591312,
          0.025595400016754866,
          0.026342299999669194,
          0.02669829997466877,
          0.02786869998089969,
          0.028948099992703646,
          0.029872999992221594,
          0.030637599993497133,
          0.03146480000577867,
          0.032343899947591126,
          0.03322700003627688,
          0.034439000010024756,
          0.03511900000739843,
          0.036030300019774586,
          0.037219899997580796,
          0.03794870001729578,
          0.039685599971562624,
          0.04043130000354722,
          0.040516500012017787,
          0.04166470002382994,
          0.04275779996532947,
          0.04384410002967343,
          0.044857499946374446,
          0.046213499968871474,
          0.04686469997977838,
          0.04682009998941794,
          0.046729099994990975,
          0.04698300000745803,
          0.05022960004862398,
          0.05111709999619052,
          0.050738199963234365,
          0.05361140001332387
         ],
         "yaxis": "y3",
         "type": "scatter"
        },
        {
         "hovertemplate": "Algoritmo di ordinamento=counting_sort<br>Tipo di input=random<br>Dimensione array=%{x}<br>Time (s)=%{y}<extra></extra>",
         "legendgroup": "counting_sort",
         "line": {
          "color": "#EF553B",
          "dash": "solid"
         },
         "marker": {
          "symbol": "circle"
         },
         "mode": "lines",
         "name": "counting_sort",
         "orientation": "v",
         "showlegend": true,
         "x": [
          10,
          20,
          30,
          40,
          50,
          60,
          70,
          80,
          90,
          100,
          110,
          120,
          130,
          140,
          150,
          160,
          170,
          180,
          190,
          200,
          210,
          220,
          230,
          240,
          250,
          260,
          270,
          280,
          290,
          300,
          310,
          320,
          330,
          340,
          350,
          360,
          370,
          380,
          390,
          400,
          410,
          420,
          430,
          440,
          450,
          460,
          470,
          480,
          490,
          500,
          510,
          520,
          530,
          540,
          550,
          560,
          570,
          580,
          590,
          600,
          610,
          620,
          630,
          640,
          650,
          660,
          670,
          680,
          690,
          700,
          710,
          720,
          730,
          740,
          750,
          760,
          770,
          780,
          790,
          800,
          810,
          820,
          830,
          840,
          850,
          860,
          870,
          880,
          890,
          900,
          910,
          920,
          930,
          940,
          950,
          960,
          970,
          980,
          990
         ],
         "xaxis": "x",
         "y": [
          8.521000272594392E-4,
          8.895000210031867E-4,
          8.745999657548964E-4,
          8.571000071242452E-4,
          8.789999992586672E-4,
          9.154999861493707E-4,
          9.301999816671014E-4,
          9.092999971471727E-4,
          9.150999831035733E-4,
          9.189000120386481E-4,
          9.077999857254326E-4,
          9.163999930024147E-4,
          9.189000120386481E-4,
          9.069999796338379E-4,
          8.94299999345094E-4,
          9.31900052819401E-4,
          9.564000065438449E-4,
          9.024000028148293E-4,
          9.294000337831676E-4,
          9.256000048480928E-4,
          9.02900006622076E-4,
          9.260000078938901E-4,
          9.472999954596162E-4,
          9.376999805681407E-4,
          9.305000421591103E-4,
          9.305999847128987E-4,
          9.41599952057004E-4,
          9.440999710932374E-4,
          9.70599998254329E-4,
          9.401999996043742E-4,
          9.645000100135803E-4,
          9.860999998636544E-4,
          9.559000027365983E-4,
          0.0010183000122196972,
          9.85399994533509E-4,
          9.82099969405681E-4,
          9.840999846346676E-4,
          9.732000180520117E-4,
          0.0010108000133186579,
          9.763000416569412E-4,
          9.949000086635351E-4,
          0.0010145999840460718,
          0.0010082999942824244,
          0.0010362999746575952,
          9.97499970253557E-4,
          0.001005799975246191,
          0.0010041000205092132,
          9.954000124707818E-4,
          0.0010444999788887799,
          0.001013200031593442,
          0.0010278000263497233,
          0.0010543999960646033,
          0.0010363999754190445,
          0.001031799998600036,
          0.0010349000222049654,
          0.0010349000222049654,
          0.0010450000409036875,
          0.001040400005877018,
          0.001036300032865256,
          0.0010315999970771372,
          0.0010357999708503485,
          0.0010384999914094806,
          0.001229099987540394,
          0.0010600999812595546,
          0.0010488000116311014,
          0.0010504000238142908,
          0.0010913999867625535,
          0.0010925999958999455,
          0.0010708000045269728,
          0.001070300000719726,
          0.0011317000025883317,
          0.0010730000212788582,
          0.001086799951735884,
          0.0010720000136643648,
          0.0010828999802470207,
          0.0011142999865114689,
          0.0011570000206120312,
          0.0010765999904833734,
          0.0010929999989457428,
          0.00108299998100847,
          0.0010890000266954303,
          0.0010884000221267343,
          0.0011053000343963504,
          0.0010902000358328223,
          0.0010881000198423862,
          0.0011045000283047557,
          0.0010923999943770468,
          0.001110800018068403,
          0.0011289999820291996,
          0.0011540999985300004,
          0.0011335000162944198,
          0.0011086000013165176,
          0.0011274000280536711,
          0.0011330999550409615,
          0.0011203999747522175,
          0.001115199993364513,
          0.0011075999937020242,
          0.0011206000344827771,
          0.0011289999820291996
         ],
         "yaxis": "y",
         "type": "scatter"
        },
        {
         "hovertemplate": "Algoritmo di ordinamento=counting_sort<br>Tipo di input=sorted<br>Dimensione array=%{x}<br>Time (s)=%{y}<extra></extra>",
         "legendgroup": "counting_sort",
         "line": {
          "color": "#EF553B",
          "dash": "solid"
         },
         "marker": {
          "symbol": "circle"
         },
         "mode": "lines",
         "name": "counting_sort",
         "orientation": "v",
         "showlegend": false,
         "x": [
          10,
          20,
          30,
          40,
          50,
          60,
          70,
          80,
          90,
          100,
          110,
          120,
          130,
          140,
          150,
          160,
          170,
          180,
          190,
          200,
          210,
          220,
          230,
          240,
          250,
          260,
          270,
          280,
          290,
          300,
          310,
          320,
          330,
          340,
          350,
          360,
          370,
          380,
          390,
          400,
          410,
          420,
          430,
          440,
          450,
          460,
          470,
          480,
          490,
          500,
          510,
          520,
          530,
          540,
          550,
          560,
          570,
          580,
          590,
          600,
          610,
          620,
          630,
          640,
          650,
          660,
          670,
          680,
          690,
          700,
          710,
          720,
          730,
          740,
          750,
          760,
          770,
          780,
          790,
          800,
          810,
          820,
          830,
          840,
          850,
          860,
          870,
          880,
          890,
          900,
          910,
          920,
          930,
          940,
          950,
          960,
          970,
          980,
          990
         ],
         "xaxis": "x2",
         "y": [
          8.357000187970698E-4,
          9.042000165209174E-4,
          8.759000338613987E-4,
          8.438000222668052E-4,
          8.720000041648746E-4,
          9.291000314988196E-4,
          8.703000494278967E-4,
          8.904999704100192E-4,
          8.897000225260854E-4,
          8.979999693110585E-4,
          8.569000056013465E-4,
          8.956999517977238E-4,
          9.01999999769032E-4,
          9.088999941013753E-4,
          8.996999822556973E-4,
          9.041000157594681E-4,
          8.961999556049705E-4,
          9.115000138990581E-4,
          9.053999674506485E-4,
          9.012999944388866E-4,
          9.067999781109393E-4,
          9.583000210113823E-4,
          9.450999787077308E-4,
          9.2889997176826E-4,
          9.218999766744673E-4,
          9.377000387758017E-4,
          9.188000112771988E-4,
          9.384999866597354E-4,
          9.373000357300043E-4,
          9.664000244811177E-4,
          9.657999617047608E-4,
          9.572000126354396E-4,
          9.550999966450036E-4,
          9.626999963074923E-4,
          9.556000004522502E-4,
          9.516000282019377E-4,
          9.714000043459237E-4,
          9.591999696567655E-4,
          0.0013024999643675983,
          0.0010175000061281025,
          9.753999765962362E-4,
          9.900000295601785E-4,
          9.93399997241795E-4,
          0.0010337000130675733,
          9.93699999526143E-4,
          9.780999971553683E-4,
          9.89199965260923E-4,
          9.777999948710203E-4,
          9.87500010523945E-4,
          9.892000234685838E-4,
          0.0010273000225424767,
          9.982000337913632E-4,
          0.0010469999979250133,
          0.0010395999997854233,
          0.0010231999913230538,
          0.0010238999966531992,
          0.0010376999853178859,
          0.0010510000283829868,
          0.0010162999969907105,
          0.001019700022879988,
          0.0010257000103592873,
          0.0010325000039301813,
          0.001034499960951507,
          0.001055200002156198,
          0.0010479000047780573,
          0.0010365000343881547,
          0.0010687000467441976,
          0.001033300010021776,
          0.0010606000432744622,
          0.0010865000076591969,
          0.0010553000029176474,
          0.0010496999602764845,
          0.0010617999942041934,
          0.0010525999823585153,
          0.0010667999740689993,
          0.0010828000376932323,
          0.0010593999759294093,
          0.00105640001129359,
          0.0010808000224642456,
          0.0010531999869272113,
          0.0011091000051237643,
          0.0011425000266171992,
          0.0011086000013165176,
          0.0010869999532587826,
          0.0010674999793991446,
          0.001081199967302382,
          0.0010973000316880643,
          0.0010816999711096287,
          0.0011001999955624342,
          0.001089799974579364,
          0.0010926999966613948,
          0.0010789999505504966,
          0.001066999975591898,
          0.001108399999793619,
          0.0011889999732375145,
          0.0011232999968342483,
          0.0011006999993696809,
          0.0011051999754272401,
          0.0010939000057987869
         ],
         "yaxis": "y2",
         "type": "scatter"
        },
        {
         "hovertemplate": "Algoritmo di ordinamento=counting_sort<br>Tipo di input=reversed<br>Dimensione array=%{x}<br>Time (s)=%{y}<extra></extra>",
         "legendgroup": "counting_sort",
         "line": {
          "color": "#EF553B",
          "dash": "solid"
         },
         "marker": {
          "symbol": "circle"
         },
         "mode": "lines",
         "name": "counting_sort",
         "orientation": "v",
         "showlegend": false,
         "x": [
          10,
          20,
          30,
          40,
          50,
          60,
          70,
          80,
          90,
          100,
          110,
          120,
          130,
          140,
          150,
          160,
          170,
          180,
          190,
          200,
          210,
          220,
          230,
          240,
          250,
          260,
          270,
          280,
          290,
          300,
          310,
          320,
          330,
          340,
          350,
          360,
          370,
          380,
          390,
          400,
          410,
          420,
          430,
          440,
          450,
          460,
          470,
          480,
          490,
          500,
          510,
          520,
          530,
          540,
          550,
          560,
          570,
          580,
          590,
          600,
          610,
          620,
          630,
          640,
          650,
          660,
          670,
          680,
          690,
          700,
          710,
          720,
          730,
          740,
          750,
          760,
          770,
          780,
          790,
          800,
          810,
          820,
          830,
          840,
          850,
          860,
          870,
          880,
          890,
          900,
          910,
          920,
          930,
          940,
          950,
          960,
          970,
          980,
          990
         ],
         "xaxis": "x3",
         "y": [
          8.833999745547771E-4,
          8.710999973118305E-4,
          8.415000047534704E-4,
          8.811999578028917E-4,
          8.759999764151871E-4,
          8.87800008058548E-4,
          8.655000128783286E-4,
          9.324999991804361E-4,
          9.046999621205032E-4,
          8.908000309020281E-4,
          9.02900006622076E-4,
          9.575000149197876E-4,
          9.045000188052654E-4,
          8.944000001065433E-4,
          9.012999944388866E-4,
          9.004000457935035E-4,
          8.968000183813274E-4,
          8.994999807327986E-4,
          8.974999655038118E-4,
          9.069000370800495E-4,
          9.02600004337728E-4,
          9.137999732047319E-4,
          9.186000097543001E-4,
          9.391999919898808E-4,
          9.23299987334758E-4,
          9.168999968096614E-4,
          9.219999774359167E-4,
          9.526999783702195E-4,
          9.725000127218664E-4,
          9.864000021480024E-4,
          9.569000103510916E-4,
          9.530999814160168E-4,
          9.941000025719404E-4,
          9.692000458016992E-4,
          9.612999856472015E-4,
          9.680999792180955E-4,
          9.727999567985535E-4,
          9.672000305727124E-4,
          0.0010387999936938286,
          9.892000234685838E-4,
          0.0010068999836221337,
          9.81000019237399E-4,
          9.914999827742577E-4,
          0.0012302999966777861,
          0.001003399956971407,
          0.0010026000090874732,
          9.902000310830772E-4,
          9.905000333674252E-4,
          9.914999827742577E-4,
          0.0010178000084124506,
          0.001020600029733032,
          0.0010083999950438738,
          0.0010367999784648418,
          9.912000386975706E-4,
          0.0010113000171259046,
          0.0010002999915741384,
          0.0010177000076510012,
          0.0011098000104539096,
          0.0010306999902240932,
          0.001056100009009242,
          0.0010183999547734857,
          0.0010322000016458333,
          0.0010237999958917499,
          0.0010517999762669206,
          0.0010473000002093613,
          0.0010351999662816525,
          0.001055500004440546,
          0.0010558999492786825,
          0.0010469999979250133,
          0.0010538999922573566,
          0.0010689999908208847,
          0.001062900002580136,
          0.0012851000064983964,
          0.0010556000052019954,
          0.001042500021867454,
          0.0010560000082477927,
          0.0011136999819427729,
          0.0010656999656930566,
          0.001058399968314916,
          0.00105489999987185,
          0.0010943000088445842,
          0.0010772999958135188,
          0.001088000019080937,
          0.001081800030078739,
          0.0010735000250861049,
          0.001076199987437576,
          0.0011918999953195453,
          0.0011631000088527799,
          0.0010942000080831349,
          0.001095700019504875,
          0.0011000999948009849,
          0.0010923999943770468,
          0.0011508999741636217,
          0.0010979999788105488,
          0.0011354999733157456,
          0.001123499998357147,
          0.0011032000184059143,
          0.0011334999580867589,
          0.0011137999827042222
         ],
         "yaxis": "y3",
         "type": "scatter"
        }
       ],
       "layout": {
        "template": {
         "data": {
          "histogram2dcontour": [
           {
            "type": "histogram2dcontour",
            "colorbar": {
             "outlinewidth": 0,
             "ticks": ""
            },
            "colorscale": [
             [
              0.0,
              "#0d0887"
             ],
             [
              0.1111111111111111,
              "#46039f"
             ],
             [
              0.2222222222222222,
              "#7201a8"
             ],
             [
              0.3333333333333333,
              "#9c179e"
             ],
             [
              0.4444444444444444,
              "#bd3786"
             ],
             [
              0.5555555555555556,
              "#d8576b"
             ],
             [
              0.6666666666666666,
              "#ed7953"
             ],
             [
              0.7777777777777778,
              "#fb9f3a"
             ],
             [
              0.8888888888888888,
              "#fdca26"
             ],
             [
              1.0,
              "#f0f921"
             ]
            ]
           }
          ],
          "choropleth": [
           {
            "type": "choropleth",
            "colorbar": {
             "outlinewidth": 0,
             "ticks": ""
            }
           }
          ],
          "histogram2d": [
           {
            "type": "histogram2d",
            "colorbar": {
             "outlinewidth": 0,
             "ticks": ""
            },
            "colorscale": [
             [
              0.0,
              "#0d0887"
             ],
             [
              0.1111111111111111,
              "#46039f"
             ],
             [
              0.2222222222222222,
              "#7201a8"
             ],
             [
              0.3333333333333333,
              "#9c179e"
             ],
             [
              0.4444444444444444,
              "#bd3786"
             ],
             [
              0.5555555555555556,
              "#d8576b"
             ],
             [
              0.6666666666666666,
              "#ed7953"
             ],
             [
              0.7777777777777778,
              "#fb9f3a"
             ],
             [
              0.8888888888888888,
              "#fdca26"
             ],
             [
              1.0,
              "#f0f921"
             ]
            ]
           }
          ],
          "heatmap": [
           {
            "type": "heatmap",
            "colorbar": {
             "outlinewidth": 0,
             "ticks": ""
            },
            "colorscale": [
             [
              0.0,
              "#0d0887"
             ],
             [
              0.1111111111111111,
              "#46039f"
             ],
             [
              0.2222222222222222,
              "#7201a8"
             ],
             [
              0.3333333333333333,
              "#9c179e"
             ],
             [
              0.4444444444444444,
              "#bd3786"
             ],
             [
              0.5555555555555556,
              "#d8576b"
             ],
             [
              0.6666666666666666,
              "#ed7953"
             ],
             [
              0.7777777777777778,
              "#fb9f3a"
             ],
             [
              0.8888888888888888,
              "#fdca26"
             ],
             [
              1.0,
              "#f0f921"
             ]
            ]
           }
          ],
          "heatmapgl": [
           {
            "type": "heatmapgl",
            "colorbar": {
             "outlinewidth": 0,
             "ticks": ""
            },
            "colorscale": [
             [
              0.0,
              "#0d0887"
             ],
             [
              0.1111111111111111,
              "#46039f"
             ],
             [
              0.2222222222222222,
              "#7201a8"
             ],
             [
              0.3333333333333333,
              "#9c179e"
             ],
             [
              0.4444444444444444,
              "#bd3786"
             ],
             [
              0.5555555555555556,
              "#d8576b"
             ],
             [
              0.6666666666666666,
              "#ed7953"
             ],
             [
              0.7777777777777778,
              "#fb9f3a"
             ],
             [
              0.8888888888888888,
              "#fdca26"
             ],
             [
              1.0,
              "#f0f921"
             ]
            ]
           }
          ],
          "contourcarpet": [
           {
            "type": "contourcarpet",
            "colorbar": {
             "outlinewidth": 0,
             "ticks": ""
            }
           }
          ],
          "contour": [
           {
            "type": "contour",
            "colorbar": {
             "outlinewidth": 0,
             "ticks": ""
            },
            "colorscale": [
             [
              0.0,
              "#0d0887"
             ],
             [
              0.1111111111111111,
              "#46039f"
             ],
             [
              0.2222222222222222,
              "#7201a8"
             ],
             [
              0.3333333333333333,
              "#9c179e"
             ],
             [
              0.4444444444444444,
              "#bd3786"
             ],
             [
              0.5555555555555556,
              "#d8576b"
             ],
             [
              0.6666666666666666,
              "#ed7953"
             ],
             [
              0.7777777777777778,
              "#fb9f3a"
             ],
             [
              0.8888888888888888,
              "#fdca26"
             ],
             [
              1.0,
              "#f0f921"
             ]
            ]
           }
          ],
          "surface": [
           {
            "type": "surface",
            "colorbar": {
             "outlinewidth": 0,
             "ticks": ""
            },
            "colorscale": [
             [
              0.0,
              "#0d0887"
             ],
             [
              0.1111111111111111,
              "#46039f"
             ],
             [
              0.2222222222222222,
              "#7201a8"
             ],
             [
              0.3333333333333333,
              "#9c179e"
             ],
             [
              0.4444444444444444,
              "#bd3786"
             ],
             [
              0.5555555555555556,
              "#d8576b"
             ],
             [
              0.6666666666666666,
              "#ed7953"
             ],
             [
              0.7777777777777778,
              "#fb9f3a"
             ],
             [
              0.8888888888888888,
              "#fdca26"
             ],
             [
              1.0,
              "#f0f921"
             ]
            ]
           }
          ],
          "mesh3d": [
           {
            "type": "mesh3d",
            "colorbar": {
             "outlinewidth": 0,
             "ticks": ""
            }
           }
          ],
          "scatter": [
           {
            "marker": {
             "line": {
              "color": "#283442"
             }
            },
            "type": "scatter"
           }
          ],
          "parcoords": [
           {
            "type": "parcoords",
            "line": {
             "colorbar": {
              "outlinewidth": 0,
              "ticks": ""
             }
            }
           }
          ],
          "scatterpolargl": [
           {
            "type": "scatterpolargl",
            "marker": {
             "colorbar": {
              "outlinewidth": 0,
              "ticks": ""
             }
            }
           }
          ],
          "bar": [
           {
            "error_x": {
             "color": "#f2f5fa"
            },
            "error_y": {
             "color": "#f2f5fa"
            },
            "marker": {
             "line": {
              "color": "rgb(17,17,17)",
              "width": 0.5
             },
             "pattern": {
              "fillmode": "overlay",
              "size": 10,
              "solidity": 0.2
             }
            },
            "type": "bar"
           }
          ],
          "scattergeo": [
           {
            "type": "scattergeo",
            "marker": {
             "colorbar": {
              "outlinewidth": 0,
              "ticks": ""
             }
            }
           }
          ],
          "scatterpolar": [
           {
            "type": "scatterpolar",
            "marker": {
             "colorbar": {
              "outlinewidth": 0,
              "ticks": ""
             }
            }
           }
          ],
          "histogram": [
           {
            "marker": {
             "pattern": {
              "fillmode": "overlay",
              "size": 10,
              "solidity": 0.2
             }
            },
            "type": "histogram"
           }
          ],
          "scattergl": [
           {
            "marker": {
             "line": {
              "color": "#283442"
             }
            },
            "type": "scattergl"
           }
          ],
          "scatter3d": [
           {
            "type": "scatter3d",
            "line": {
             "colorbar": {
              "outlinewidth": 0,
              "ticks": ""
             }
            },
            "marker": {
             "colorbar": {
              "outlinewidth": 0,
              "ticks": ""
             }
            }
           }
          ],
          "scattermapbox": [
           {
            "type": "scattermapbox",
            "marker": {
             "colorbar": {
              "outlinewidth": 0,
              "ticks": ""
             }
            }
           }
          ],
          "scatterternary": [
           {
            "type": "scatterternary",
            "marker": {
             "colorbar": {
              "outlinewidth": 0,
              "ticks": ""
             }
            }
           }
          ],
          "scattercarpet": [
           {
            "type": "scattercarpet",
            "marker": {
             "colorbar": {
              "outlinewidth": 0,
              "ticks": ""
             }
            }
           }
          ],
          "carpet": [
           {
            "aaxis": {
             "endlinecolor": "#A2B1C6",
             "gridcolor": "#506784",
             "linecolor": "#506784",
             "minorgridcolor": "#506784",
             "startlinecolor": "#A2B1C6"
            },
            "baxis": {
             "endlinecolor": "#A2B1C6",
             "gridcolor": "#506784",
             "linecolor": "#506784",
             "minorgridcolor": "#506784",
             "startlinecolor": "#A2B1C6"
            },
            "type": "carpet"
           }
          ],
          "table": [
           {
            "cells": {
             "fill": {
              "color": "#506784"
             },
             "line": {
              "color": "rgb(17,17,17)"
             }
            },
            "header": {
             "fill": {
              "color": "#2a3f5f"
             },
             "line": {
              "color": "rgb(17,17,17)"
             }
            },
            "type": "table"
           }
          ],
          "barpolar": [
           {
            "marker": {
             "line": {
              "color": "rgb(17,17,17)",
              "width": 0.5
             },
             "pattern": {
              "fillmode": "overlay",
              "size": 10,
              "solidity": 0.2
             }
            },
            "type": "barpolar"
           }
          ],
          "pie": [
           {
            "automargin": true,
            "type": "pie"
           }
          ]
         },
         "layout": {
          "autotypenumbers": "strict",
          "colorway": [
           "#636efa",
           "#EF553B",
           "#00cc96",
           "#ab63fa",
           "#FFA15A",
           "#19d3f3",
           "#FF6692",
           "#B6E880",
           "#FF97FF",
           "#FECB52"
          ],
          "font": {
           "color": "#f2f5fa"
          },
          "hovermode": "closest",
          "hoverlabel": {
           "align": "left"
          },
          "paper_bgcolor": "rgb(17,17,17)",
          "plot_bgcolor": "rgb(17,17,17)",
          "polar": {
           "bgcolor": "rgb(17,17,17)",
           "angularaxis": {
            "gridcolor": "#506784",
            "linecolor": "#506784",
            "ticks": ""
           },
           "radialaxis": {
            "gridcolor": "#506784",
            "linecolor": "#506784",
            "ticks": ""
           }
          },
          "ternary": {
           "bgcolor": "rgb(17,17,17)",
           "aaxis": {
            "gridcolor": "#506784",
            "linecolor": "#506784",
            "ticks": ""
           },
           "baxis": {
            "gridcolor": "#506784",
            "linecolor": "#506784",
            "ticks": ""
           },
           "caxis": {
            "gridcolor": "#506784",
            "linecolor": "#506784",
            "ticks": ""
           }
          },
          "coloraxis": {
           "colorbar": {
            "outlinewidth": 0,
            "ticks": ""
           }
          },
          "colorscale": {
           "sequential": [
            [
             0.0,
             "#0d0887"
            ],
            [
             0.1111111111111111,
             "#46039f"
            ],
            [
             0.2222222222222222,
             "#7201a8"
            ],
            [
             0.3333333333333333,
             "#9c179e"
            ],
            [
             0.4444444444444444,
             "#bd3786"
            ],
            [
             0.5555555555555556,
             "#d8576b"
            ],
            [
             0.6666666666666666,
             "#ed7953"
            ],
            [
             0.7777777777777778,
             "#fb9f3a"
            ],
            [
             0.8888888888888888,
             "#fdca26"
            ],
            [
             1.0,
             "#f0f921"
            ]
           ],
           "sequentialminus": [
            [
             0.0,
             "#0d0887"
            ],
            [
             0.1111111111111111,
             "#46039f"
            ],
            [
             0.2222222222222222,
             "#7201a8"
            ],
            [
             0.3333333333333333,
             "#9c179e"
            ],
            [
             0.4444444444444444,
             "#bd3786"
            ],
            [
             0.5555555555555556,
             "#d8576b"
            ],
            [
             0.6666666666666666,
             "#ed7953"
            ],
            [
             0.7777777777777778,
             "#fb9f3a"
            ],
            [
             0.8888888888888888,
             "#fdca26"
            ],
            [
             1.0,
             "#f0f921"
            ]
           ],
           "diverging": [
            [
             0,
             "#8e0152"
            ],
            [
             0.1,
             "#c51b7d"
            ],
            [
             0.2,
             "#de77ae"
            ],
            [
             0.3,
             "#f1b6da"
            ],
            [
             0.4,
             "#fde0ef"
            ],
            [
             0.5,
             "#f7f7f7"
            ],
            [
             0.6,
             "#e6f5d0"
            ],
            [
             0.7,
             "#b8e186"
            ],
            [
             0.8,
             "#7fbc41"
            ],
            [
             0.9,
             "#4d9221"
            ],
            [
             1,
             "#276419"
            ]
           ]
          },
          "xaxis": {
           "gridcolor": "#283442",
           "linecolor": "#506784",
           "ticks": "",
           "title": {
            "standoff": 15
           },
           "zerolinecolor": "#283442",
           "automargin": true,
           "zerolinewidth": 2
          },
          "yaxis": {
           "gridcolor": "#283442",
           "linecolor": "#506784",
           "ticks": "",
           "title": {
            "standoff": 15
           },
           "zerolinecolor": "#283442",
           "automargin": true,
           "zerolinewidth": 2
          },
          "scene": {
           "xaxis": {
            "backgroundcolor": "rgb(17,17,17)",
            "gridcolor": "#506784",
            "linecolor": "#506784",
            "showbackground": true,
            "ticks": "",
            "zerolinecolor": "#C8D4E3",
            "gridwidth": 2
           },
           "yaxis": {
            "backgroundcolor": "rgb(17,17,17)",
            "gridcolor": "#506784",
            "linecolor": "#506784",
            "showbackground": true,
            "ticks": "",
            "zerolinecolor": "#C8D4E3",
            "gridwidth": 2
           },
           "zaxis": {
            "backgroundcolor": "rgb(17,17,17)",
            "gridcolor": "#506784",
            "linecolor": "#506784",
            "showbackground": true,
            "ticks": "",
            "zerolinecolor": "#C8D4E3",
            "gridwidth": 2
           }
          },
          "shapedefaults": {
           "line": {
            "color": "#f2f5fa"
           }
          },
          "annotationdefaults": {
           "arrowcolor": "#f2f5fa",
           "arrowhead": 0,
           "arrowwidth": 1
          },
          "geo": {
           "bgcolor": "rgb(17,17,17)",
           "landcolor": "rgb(17,17,17)",
           "subunitcolor": "#506784",
           "showland": true,
           "showlakes": true,
           "lakecolor": "rgb(17,17,17)"
          },
          "title": {
           "x": 0.05
          },
          "updatemenudefaults": {
           "bgcolor": "#506784",
           "borderwidth": 0
          },
          "sliderdefaults": {
           "bgcolor": "#C8D4E3",
           "borderwidth": 1,
           "bordercolor": "rgb(17,17,17)",
           "tickwidth": 0
          },
          "mapbox": {
           "style": "dark"
          }
         }
        },
        "xaxis": {
         "anchor": "y",
         "domain": [
          0.0,
          0.31999999999999995
         ],
         "title": {
          "text": "Dimensione array"
         }
        },
        "yaxis": {
         "anchor": "x",
         "domain": [
          0.0,
          1.0
         ],
         "title": {
          "text": "Time (s)"
         }
        },
        "xaxis2": {
         "anchor": "y2",
         "domain": [
          0.33999999999999997,
          0.6599999999999999
         ],
         "matches": "x",
         "title": {
          "text": "Dimensione array"
         }
        },
        "yaxis2": {
         "anchor": "x2",
         "domain": [
          0.0,
          1.0
         ],
         "matches": "y",
         "showticklabels": false
        },
        "xaxis3": {
         "anchor": "y3",
         "domain": [
          0.6799999999999999,
          0.9999999999999999
         ],
         "matches": "x",
         "title": {
          "text": "Dimensione array"
         }
        },
        "yaxis3": {
         "anchor": "x3",
         "domain": [
          0.0,
          1.0
         ],
         "matches": "y",
         "showticklabels": false
        },
        "annotations": [
         {
          "font": {},
          "showarrow": false,
          "text": "Tipo di input=random",
          "x": 0.15999999999999998,
          "xanchor": "center",
          "xref": "paper",
          "y": 1.0,
          "yanchor": "bottom",
          "yref": "paper"
         },
         {
          "font": {},
          "showarrow": false,
          "text": "Tipo di input=sorted",
          "x": 0.49999999999999994,
          "xanchor": "center",
          "xref": "paper",
          "y": 1.0,
          "yanchor": "bottom",
          "yref": "paper"
         },
         {
          "font": {},
          "showarrow": false,
          "text": "Tipo di input=reversed",
          "x": 0.8399999999999999,
          "xanchor": "center",
          "xref": "paper",
          "y": 1.0,
          "yanchor": "bottom",
          "yref": "paper"
         }
        ],
        "legend": {
         "title": {
          "text": "Algoritmo di ordinamento"
         },
         "tracegroupgap": 0
        },
        "title": {
         "text": "Sorting algorithms"
        }
       },
       "config": {
        "plotlyServerURL": "https://plot.ly"
       }
      },
      "text/html": "<div>                            <div id=\"09e01748-9eff-4a21-9804-73c71f0a6eb0\" class=\"plotly-graph-div\" style=\"height:525px; width:100%;\"></div>            <script type=\"text/javascript\">                require([\"plotly\"], function(Plotly) {                    window.PLOTLYENV=window.PLOTLYENV || {};                                    if (document.getElementById(\"09e01748-9eff-4a21-9804-73c71f0a6eb0\")) {                    Plotly.newPlot(                        \"09e01748-9eff-4a21-9804-73c71f0a6eb0\",                        [{\"hovertemplate\":\"Algoritmo di ordinamento=insertion_sort<br>Tipo di input=random<br>Dimensione array=%{x}<br>Time (s)=%{y}<extra></extra>\",\"legendgroup\":\"insertion_sort\",\"line\":{\"color\":\"#636efa\",\"dash\":\"solid\"},\"marker\":{\"symbol\":\"circle\"},\"mode\":\"lines\",\"name\":\"insertion_sort\",\"orientation\":\"v\",\"showlegend\":true,\"x\":[10,20,30,40,50,60,70,80,90,100,110,120,130,140,150,160,170,180,190,200,210,220,230,240,250,260,270,280,290,300,310,320,330,340,350,360,370,380,390,400,410,420,430,440,450,460,470,480,490,500,510,520,530,540,550,560,570,580,590,600,610,620,630,640,650,660,670,680,690,700,710,720,730,740,750,760,770,780,790,800,810,820,830,840,850,860,870,880,890,900,910,920,930,940,950,960,970,980,990],\"xaxis\":\"x\",\"y\":[6.099988240748644e-06,1.3299984857439995e-05,2.4999957531690598e-05,4.7600013203918934e-05,8.410000009462237e-05,0.00010010000551119447,0.00012839998817071319,0.0001572000328451395,0.0002001000102609396,0.0002604000037536025,0.00033819995587691665,0.00036340003134682775,0.00043109996477141976,0.0005081999697722495,0.0005646999925374985,0.0008416000055149198,0.0011323000071570277,0.0008100999984890223,0.0009254000033251941,0.0009348000166937709,0.0010065999813377857,0.0012820000411011279,0.0012701000086963177,0.001424000016413629,0.00165940000442788,0.0015970999957062304,0.0017634000396355987,0.0021152999834157526,0.002023800043389201,0.002746200014371425,0.003970899968408048,0.003531399997882545,0.0029651999939233065,0.0028236000216566026,0.0031458999728783965,0.003285100043285638,0.0035651999642141163,0.003696699975989759,0.0038970999885350466,0.004017299972474575,0.0042310000280849636,0.004626200010534376,0.004928199981804937,0.005163000023458153,0.005182499997317791,0.00533959997119382,0.005694199993740767,0.006406800006516278,0.006645999965257943,0.006978199991863221,0.007358999981079251,0.007428899989463389,0.007961499970406294,0.00804070004960522,0.00800070003606379,0.008735699986573309,0.009145100018940866,0.009047199971973896,0.009669599996414036,0.010007100005168468,0.010614000027999282,0.010848000005353242,0.01075349998427555,0.01126030000159517,0.01171349996002391,0.012045800045598298,0.012748700042720884,0.012985900044441223,0.017396500043105334,0.018880599993281066,0.015553200035355985,0.018034600012470037,0.018012900021858513,0.026651900028809905,0.029727799992542714,0.023809000034816563,0.02363889996195212,0.02029650000622496,0.030059200013056397,0.018191800045315176,0.017369900015182793,0.01956729998346418,0.018885100027546287,0.018108699994627386,0.02032289997441694,0.019838300009723753,0.021242900053039193,0.02196660003392026,0.021852800040505826,0.022263800026848912,0.0218106999527663,0.022814799973275512,0.02380759996594861,0.025186299986671656,0.02677390002645552,0.026711199956480414,0.026864800020121038,0.027125700027681887,0.028031299996655434],\"yaxis\":\"y\",\"type\":\"scatter\"},{\"hovertemplate\":\"Algoritmo di ordinamento=insertion_sort<br>Tipo di input=sorted<br>Dimensione array=%{x}<br>Time (s)=%{y}<extra></extra>\",\"legendgroup\":\"insertion_sort\",\"line\":{\"color\":\"#636efa\",\"dash\":\"solid\"},\"marker\":{\"symbol\":\"circle\"},\"mode\":\"lines\",\"name\":\"insertion_sort\",\"orientation\":\"v\",\"showlegend\":false,\"x\":[10,20,30,40,50,60,70,80,90,100,110,120,130,140,150,160,170,180,190,200,210,220,230,240,250,260,270,280,290,300,310,320,330,340,350,360,370,380,390,400,410,420,430,440,450,460,470,480,490,500,510,520,530,540,550,560,570,580,590,600,610,620,630,640,650,660,670,680,690,700,710,720,730,740,750,760,770,780,790,800,810,820,830,840,850,860,870,880,890,900,910,920,930,940,950,960,970,980,990],\"xaxis\":\"x2\",\"y\":[2.3999600671231747e-06,3.100023604929447e-06,3.999972250312567e-06,5.299982149153948e-06,6.199989002197981e-06,7.499998901039362e-06,8.600007276982069e-06,9.700015652924776e-06,1.0800024028867483e-05,1.209997572004795e-05,1.309998333454132e-05,1.4299992471933365e-05,1.5300000086426735e-05,1.650000922381878e-05,1.7600017599761486e-05,1.8900027498602867e-05,1.9899976905435324e-05,2.1199986804276705e-05,2.2199994418770075e-05,2.340000355616212e-05,2.4399952962994576e-05,2.559996210038662e-05,2.670002868399024e-05,2.7999980375170708e-05,2.8999987989664078e-05,3.0800001695752144e-05,3.189995186403394e-05,3.319996176287532e-05,3.4800032153725624e-05,3.579998156055808e-05,3.739999374374747e-05,3.880000440403819e-05,4.010001430287957e-05,4.139996599406004e-05,4.269997589290142e-05,4.410004476085305e-05,4.5900000259280205e-05,4.6900007873773575e-05,4.799995804205537e-05,4.9600028432905674e-05,5.089998012408614e-05,5.219999002292752e-05,5.360000068321824e-05,5.470000905916095e-05,5.5999960750341415e-05,5.7299970649182796e-05,5.9299985878169537e-05,6.009999196976423e-05,6.150000263005495e-05,6.289995508268476e-05,6.40999642200768e-05,6.539997411891818e-05,6.67999847792089e-05,6.86999992467463e-05,7.00999516993761e-05,7.120001828297973e-05,0.00010000000474974513,7.450004341080785e-05,7.750000804662704e-05,7.609999738633633e-05,7.750000804662704e-05,7.869995897635818e-05,8.289999095723033e-05,8.140003774315119e-05,8.299999171867967e-05,8.430000161752105e-05,8.899997919797897e-05,8.690002141520381e-05,8.840003283694386e-05,8.909997995942831e-05,9.049999061971903e-05,0.00014080002438277006,9.320001117885113e-05,9.549997048452497e-05,9.61000332608819e-05,9.71999834291637e-05,9.869999485090375e-05,9.970000246539712e-05,0.00010130001464858651,0.00010270002530887723,0.00010389997623860836,0.00010539998766034842,0.0001066999975591898,0.00010820000898092985,0.00010959996143355966,0.0001107999705709517,0.00011199997970834374,0.00011360005009919405,0.0001126999850384891,0.00011670001549646258,0.00011840002844110131,0.00011930003529414535,0.00012099999003112316,0.00012229999992996454,0.0001233000075444579,0.0001248999615199864,0.0001262999721802771,0.00012860004790127277,0.00012909999350085855],\"yaxis\":\"y2\",\"type\":\"scatter\"},{\"hovertemplate\":\"Algoritmo di ordinamento=insertion_sort<br>Tipo di input=reversed<br>Dimensione array=%{x}<br>Time (s)=%{y}<extra></extra>\",\"legendgroup\":\"insertion_sort\",\"line\":{\"color\":\"#636efa\",\"dash\":\"solid\"},\"marker\":{\"symbol\":\"circle\"},\"mode\":\"lines\",\"name\":\"insertion_sort\",\"orientation\":\"v\",\"showlegend\":false,\"x\":[10,20,30,40,50,60,70,80,90,100,110,120,130,140,150,160,170,180,190,200,210,220,230,240,250,260,270,280,290,300,310,320,330,340,350,360,370,380,390,400,410,420,430,440,450,460,470,480,490,500,510,520,530,540,550,560,570,580,590,600,610,620,630,640,650,660,670,680,690,700,710,720,730,740,750,760,770,780,790,800,810,820,830,840,850,860,870,880,890,900,910,920,930,940,950,960,970,980,990],\"xaxis\":\"x3\",\"y\":[7.399998139590025e-06,2.269999822601676e-05,4.88999648950994e-05,8.560001151636243e-05,0.00013280002167448401,0.00019019999308511615,0.00025839998852461576,0.00033599999733269215,0.00042349996510893106,0.0005231000250205398,0.000632000039331615,0.0007525000255554914,0.000882800028193742,0.0010218999814242125,0.0011766999959945679,0.001337299996521324,0.001564500038512051,0.0016985000111162663,0.001877599977888167,0.0020723000052385032,0.002279900014400482,0.0025063000502996147,0.0027286999975331128,0.003006999962963164,0.0032454999745823443,0.0034860000014305115,0.00377209996804595,0.0041309999651275575,0.004369600035715848,0.004666899971198291,0.005044299992732704,0.005321899952832609,0.005666300014127046,0.006066100031603128,0.006396699987817556,0.00681700004497543,0.007162199995946139,0.00761550001334399,0.008005700015928596,0.00846129999263212,0.008843999996315688,0.009342500008642673,0.009865099971648306,0.01027339999563992,0.010801199998240918,0.011690200015436858,0.011835799959953874,0.012287200021091849,0.01292120001744479,0.01349460001802072,0.014010799990501255,0.014181000005919486,0.015006800007540733,0.01568879996193573,0.01628999999957159,0.01689610001631081,0.01746950001688674,0.01806250005029142,0.01944150001509115,0.01946079998742789,0.02012739999918267,0.020831800007726997,0.020877000002656132,0.02191010001115501,0.022257399978116155,0.02328919997671619,0.023954799980856478,0.02506150002591312,0.025595400016754866,0.026342299999669194,0.02669829997466877,0.02786869998089969,0.028948099992703646,0.029872999992221594,0.030637599993497133,0.03146480000577867,0.032343899947591126,0.03322700003627688,0.034439000010024756,0.03511900000739843,0.036030300019774586,0.037219899997580796,0.03794870001729578,0.039685599971562624,0.04043130000354722,0.040516500012017787,0.04166470002382994,0.04275779996532947,0.04384410002967343,0.044857499946374446,0.046213499968871474,0.04686469997977838,0.04682009998941794,0.046729099994990975,0.04698300000745803,0.05022960004862398,0.05111709999619052,0.050738199963234365,0.05361140001332387],\"yaxis\":\"y3\",\"type\":\"scatter\"},{\"hovertemplate\":\"Algoritmo di ordinamento=counting_sort<br>Tipo di input=random<br>Dimensione array=%{x}<br>Time (s)=%{y}<extra></extra>\",\"legendgroup\":\"counting_sort\",\"line\":{\"color\":\"#EF553B\",\"dash\":\"solid\"},\"marker\":{\"symbol\":\"circle\"},\"mode\":\"lines\",\"name\":\"counting_sort\",\"orientation\":\"v\",\"showlegend\":true,\"x\":[10,20,30,40,50,60,70,80,90,100,110,120,130,140,150,160,170,180,190,200,210,220,230,240,250,260,270,280,290,300,310,320,330,340,350,360,370,380,390,400,410,420,430,440,450,460,470,480,490,500,510,520,530,540,550,560,570,580,590,600,610,620,630,640,650,660,670,680,690,700,710,720,730,740,750,760,770,780,790,800,810,820,830,840,850,860,870,880,890,900,910,920,930,940,950,960,970,980,990],\"xaxis\":\"x\",\"y\":[0.0008521000272594392,0.0008895000210031867,0.0008745999657548964,0.0008571000071242452,0.0008789999992586672,0.0009154999861493707,0.0009301999816671014,0.0009092999971471727,0.0009150999831035733,0.0009189000120386481,0.0009077999857254326,0.0009163999930024147,0.0009189000120386481,0.0009069999796338379,0.000894299999345094,0.000931900052819401,0.0009564000065438449,0.0009024000028148293,0.0009294000337831676,0.0009256000048480928,0.000902900006622076,0.0009260000078938901,0.0009472999954596162,0.0009376999805681407,0.0009305000421591103,0.0009305999847128987,0.000941599952057004,0.0009440999710932374,0.000970599998254329,0.0009401999996043742,0.0009645000100135803,0.0009860999998636544,0.0009559000027365983,0.0010183000122196972,0.000985399994533509,0.000982099969405681,0.0009840999846346676,0.0009732000180520117,0.0010108000133186579,0.0009763000416569412,0.0009949000086635351,0.0010145999840460718,0.0010082999942824244,0.0010362999746575952,0.000997499970253557,0.001005799975246191,0.0010041000205092132,0.0009954000124707818,0.0010444999788887799,0.001013200031593442,0.0010278000263497233,0.0010543999960646033,0.0010363999754190445,0.001031799998600036,0.0010349000222049654,0.0010349000222049654,0.0010450000409036875,0.001040400005877018,0.001036300032865256,0.0010315999970771372,0.0010357999708503485,0.0010384999914094806,0.001229099987540394,0.0010600999812595546,0.0010488000116311014,0.0010504000238142908,0.0010913999867625535,0.0010925999958999455,0.0010708000045269728,0.001070300000719726,0.0011317000025883317,0.0010730000212788582,0.001086799951735884,0.0010720000136643648,0.0010828999802470207,0.0011142999865114689,0.0011570000206120312,0.0010765999904833734,0.0010929999989457428,0.00108299998100847,0.0010890000266954303,0.0010884000221267343,0.0011053000343963504,0.0010902000358328223,0.0010881000198423862,0.0011045000283047557,0.0010923999943770468,0.001110800018068403,0.0011289999820291996,0.0011540999985300004,0.0011335000162944198,0.0011086000013165176,0.0011274000280536711,0.0011330999550409615,0.0011203999747522175,0.001115199993364513,0.0011075999937020242,0.0011206000344827771,0.0011289999820291996],\"yaxis\":\"y\",\"type\":\"scatter\"},{\"hovertemplate\":\"Algoritmo di ordinamento=counting_sort<br>Tipo di input=sorted<br>Dimensione array=%{x}<br>Time (s)=%{y}<extra></extra>\",\"legendgroup\":\"counting_sort\",\"line\":{\"color\":\"#EF553B\",\"dash\":\"solid\"},\"marker\":{\"symbol\":\"circle\"},\"mode\":\"lines\",\"name\":\"counting_sort\",\"orientation\":\"v\",\"showlegend\":false,\"x\":[10,20,30,40,50,60,70,80,90,100,110,120,130,140,150,160,170,180,190,200,210,220,230,240,250,260,270,280,290,300,310,320,330,340,350,360,370,380,390,400,410,420,430,440,450,460,470,480,490,500,510,520,530,540,550,560,570,580,590,600,610,620,630,640,650,660,670,680,690,700,710,720,730,740,750,760,770,780,790,800,810,820,830,840,850,860,870,880,890,900,910,920,930,940,950,960,970,980,990],\"xaxis\":\"x2\",\"y\":[0.0008357000187970698,0.0009042000165209174,0.0008759000338613987,0.0008438000222668052,0.0008720000041648746,0.0009291000314988196,0.0008703000494278967,0.0008904999704100192,0.0008897000225260854,0.0008979999693110585,0.0008569000056013465,0.0008956999517977238,0.000901999999769032,0.0009088999941013753,0.0008996999822556973,0.0009041000157594681,0.0008961999556049705,0.0009115000138990581,0.0009053999674506485,0.0009012999944388866,0.0009067999781109393,0.0009583000210113823,0.0009450999787077308,0.00092889997176826,0.0009218999766744673,0.0009377000387758017,0.0009188000112771988,0.0009384999866597354,0.0009373000357300043,0.0009664000244811177,0.0009657999617047608,0.0009572000126354396,0.0009550999966450036,0.0009626999963074923,0.0009556000004522502,0.0009516000282019377,0.0009714000043459237,0.0009591999696567655,0.0013024999643675983,0.0010175000061281025,0.0009753999765962362,0.0009900000295601785,0.000993399997241795,0.0010337000130675733,0.000993699999526143,0.0009780999971553683,0.000989199965260923,0.0009777999948710203,0.000987500010523945,0.0009892000234685838,0.0010273000225424767,0.0009982000337913632,0.0010469999979250133,0.0010395999997854233,0.0010231999913230538,0.0010238999966531992,0.0010376999853178859,0.0010510000283829868,0.0010162999969907105,0.001019700022879988,0.0010257000103592873,0.0010325000039301813,0.001034499960951507,0.001055200002156198,0.0010479000047780573,0.0010365000343881547,0.0010687000467441976,0.001033300010021776,0.0010606000432744622,0.0010865000076591969,0.0010553000029176474,0.0010496999602764845,0.0010617999942041934,0.0010525999823585153,0.0010667999740689993,0.0010828000376932323,0.0010593999759294093,0.00105640001129359,0.0010808000224642456,0.0010531999869272113,0.0011091000051237643,0.0011425000266171992,0.0011086000013165176,0.0010869999532587826,0.0010674999793991446,0.001081199967302382,0.0010973000316880643,0.0010816999711096287,0.0011001999955624342,0.001089799974579364,0.0010926999966613948,0.0010789999505504966,0.001066999975591898,0.001108399999793619,0.0011889999732375145,0.0011232999968342483,0.0011006999993696809,0.0011051999754272401,0.0010939000057987869],\"yaxis\":\"y2\",\"type\":\"scatter\"},{\"hovertemplate\":\"Algoritmo di ordinamento=counting_sort<br>Tipo di input=reversed<br>Dimensione array=%{x}<br>Time (s)=%{y}<extra></extra>\",\"legendgroup\":\"counting_sort\",\"line\":{\"color\":\"#EF553B\",\"dash\":\"solid\"},\"marker\":{\"symbol\":\"circle\"},\"mode\":\"lines\",\"name\":\"counting_sort\",\"orientation\":\"v\",\"showlegend\":false,\"x\":[10,20,30,40,50,60,70,80,90,100,110,120,130,140,150,160,170,180,190,200,210,220,230,240,250,260,270,280,290,300,310,320,330,340,350,360,370,380,390,400,410,420,430,440,450,460,470,480,490,500,510,520,530,540,550,560,570,580,590,600,610,620,630,640,650,660,670,680,690,700,710,720,730,740,750,760,770,780,790,800,810,820,830,840,850,860,870,880,890,900,910,920,930,940,950,960,970,980,990],\"xaxis\":\"x3\",\"y\":[0.0008833999745547771,0.0008710999973118305,0.0008415000047534704,0.0008811999578028917,0.0008759999764151871,0.000887800008058548,0.0008655000128783286,0.0009324999991804361,0.0009046999621205032,0.0008908000309020281,0.000902900006622076,0.0009575000149197876,0.0009045000188052654,0.0008944000001065433,0.0009012999944388866,0.0009004000457935035,0.0008968000183813274,0.0008994999807327986,0.0008974999655038118,0.0009069000370800495,0.000902600004337728,0.0009137999732047319,0.0009186000097543001,0.0009391999919898808,0.000923299987334758,0.0009168999968096614,0.0009219999774359167,0.0009526999783702195,0.0009725000127218664,0.0009864000021480024,0.0009569000103510916,0.0009530999814160168,0.0009941000025719404,0.0009692000458016992,0.0009612999856472015,0.0009680999792180955,0.0009727999567985535,0.0009672000305727124,0.0010387999936938286,0.0009892000234685838,0.0010068999836221337,0.000981000019237399,0.0009914999827742577,0.0012302999966777861,0.001003399956971407,0.0010026000090874732,0.0009902000310830772,0.0009905000333674252,0.0009914999827742577,0.0010178000084124506,0.001020600029733032,0.0010083999950438738,0.0010367999784648418,0.0009912000386975706,0.0010113000171259046,0.0010002999915741384,0.0010177000076510012,0.0011098000104539096,0.0010306999902240932,0.001056100009009242,0.0010183999547734857,0.0010322000016458333,0.0010237999958917499,0.0010517999762669206,0.0010473000002093613,0.0010351999662816525,0.001055500004440546,0.0010558999492786825,0.0010469999979250133,0.0010538999922573566,0.0010689999908208847,0.001062900002580136,0.0012851000064983964,0.0010556000052019954,0.001042500021867454,0.0010560000082477927,0.0011136999819427729,0.0010656999656930566,0.001058399968314916,0.00105489999987185,0.0010943000088445842,0.0010772999958135188,0.001088000019080937,0.001081800030078739,0.0010735000250861049,0.001076199987437576,0.0011918999953195453,0.0011631000088527799,0.0010942000080831349,0.001095700019504875,0.0011000999948009849,0.0010923999943770468,0.0011508999741636217,0.0010979999788105488,0.0011354999733157456,0.001123499998357147,0.0011032000184059143,0.0011334999580867589,0.0011137999827042222],\"yaxis\":\"y3\",\"type\":\"scatter\"}],                        {\"template\":{\"data\":{\"histogram2dcontour\":[{\"type\":\"histogram2dcontour\",\"colorbar\":{\"outlinewidth\":0,\"ticks\":\"\"},\"colorscale\":[[0.0,\"#0d0887\"],[0.1111111111111111,\"#46039f\"],[0.2222222222222222,\"#7201a8\"],[0.3333333333333333,\"#9c179e\"],[0.4444444444444444,\"#bd3786\"],[0.5555555555555556,\"#d8576b\"],[0.6666666666666666,\"#ed7953\"],[0.7777777777777778,\"#fb9f3a\"],[0.8888888888888888,\"#fdca26\"],[1.0,\"#f0f921\"]]}],\"choropleth\":[{\"type\":\"choropleth\",\"colorbar\":{\"outlinewidth\":0,\"ticks\":\"\"}}],\"histogram2d\":[{\"type\":\"histogram2d\",\"colorbar\":{\"outlinewidth\":0,\"ticks\":\"\"},\"colorscale\":[[0.0,\"#0d0887\"],[0.1111111111111111,\"#46039f\"],[0.2222222222222222,\"#7201a8\"],[0.3333333333333333,\"#9c179e\"],[0.4444444444444444,\"#bd3786\"],[0.5555555555555556,\"#d8576b\"],[0.6666666666666666,\"#ed7953\"],[0.7777777777777778,\"#fb9f3a\"],[0.8888888888888888,\"#fdca26\"],[1.0,\"#f0f921\"]]}],\"heatmap\":[{\"type\":\"heatmap\",\"colorbar\":{\"outlinewidth\":0,\"ticks\":\"\"},\"colorscale\":[[0.0,\"#0d0887\"],[0.1111111111111111,\"#46039f\"],[0.2222222222222222,\"#7201a8\"],[0.3333333333333333,\"#9c179e\"],[0.4444444444444444,\"#bd3786\"],[0.5555555555555556,\"#d8576b\"],[0.6666666666666666,\"#ed7953\"],[0.7777777777777778,\"#fb9f3a\"],[0.8888888888888888,\"#fdca26\"],[1.0,\"#f0f921\"]]}],\"heatmapgl\":[{\"type\":\"heatmapgl\",\"colorbar\":{\"outlinewidth\":0,\"ticks\":\"\"},\"colorscale\":[[0.0,\"#0d0887\"],[0.1111111111111111,\"#46039f\"],[0.2222222222222222,\"#7201a8\"],[0.3333333333333333,\"#9c179e\"],[0.4444444444444444,\"#bd3786\"],[0.5555555555555556,\"#d8576b\"],[0.6666666666666666,\"#ed7953\"],[0.7777777777777778,\"#fb9f3a\"],[0.8888888888888888,\"#fdca26\"],[1.0,\"#f0f921\"]]}],\"contourcarpet\":[{\"type\":\"contourcarpet\",\"colorbar\":{\"outlinewidth\":0,\"ticks\":\"\"}}],\"contour\":[{\"type\":\"contour\",\"colorbar\":{\"outlinewidth\":0,\"ticks\":\"\"},\"colorscale\":[[0.0,\"#0d0887\"],[0.1111111111111111,\"#46039f\"],[0.2222222222222222,\"#7201a8\"],[0.3333333333333333,\"#9c179e\"],[0.4444444444444444,\"#bd3786\"],[0.5555555555555556,\"#d8576b\"],[0.6666666666666666,\"#ed7953\"],[0.7777777777777778,\"#fb9f3a\"],[0.8888888888888888,\"#fdca26\"],[1.0,\"#f0f921\"]]}],\"surface\":[{\"type\":\"surface\",\"colorbar\":{\"outlinewidth\":0,\"ticks\":\"\"},\"colorscale\":[[0.0,\"#0d0887\"],[0.1111111111111111,\"#46039f\"],[0.2222222222222222,\"#7201a8\"],[0.3333333333333333,\"#9c179e\"],[0.4444444444444444,\"#bd3786\"],[0.5555555555555556,\"#d8576b\"],[0.6666666666666666,\"#ed7953\"],[0.7777777777777778,\"#fb9f3a\"],[0.8888888888888888,\"#fdca26\"],[1.0,\"#f0f921\"]]}],\"mesh3d\":[{\"type\":\"mesh3d\",\"colorbar\":{\"outlinewidth\":0,\"ticks\":\"\"}}],\"scatter\":[{\"marker\":{\"line\":{\"color\":\"#283442\"}},\"type\":\"scatter\"}],\"parcoords\":[{\"type\":\"parcoords\",\"line\":{\"colorbar\":{\"outlinewidth\":0,\"ticks\":\"\"}}}],\"scatterpolargl\":[{\"type\":\"scatterpolargl\",\"marker\":{\"colorbar\":{\"outlinewidth\":0,\"ticks\":\"\"}}}],\"bar\":[{\"error_x\":{\"color\":\"#f2f5fa\"},\"error_y\":{\"color\":\"#f2f5fa\"},\"marker\":{\"line\":{\"color\":\"rgb(17,17,17)\",\"width\":0.5},\"pattern\":{\"fillmode\":\"overlay\",\"size\":10,\"solidity\":0.2}},\"type\":\"bar\"}],\"scattergeo\":[{\"type\":\"scattergeo\",\"marker\":{\"colorbar\":{\"outlinewidth\":0,\"ticks\":\"\"}}}],\"scatterpolar\":[{\"type\":\"scatterpolar\",\"marker\":{\"colorbar\":{\"outlinewidth\":0,\"ticks\":\"\"}}}],\"histogram\":[{\"marker\":{\"pattern\":{\"fillmode\":\"overlay\",\"size\":10,\"solidity\":0.2}},\"type\":\"histogram\"}],\"scattergl\":[{\"marker\":{\"line\":{\"color\":\"#283442\"}},\"type\":\"scattergl\"}],\"scatter3d\":[{\"type\":\"scatter3d\",\"line\":{\"colorbar\":{\"outlinewidth\":0,\"ticks\":\"\"}},\"marker\":{\"colorbar\":{\"outlinewidth\":0,\"ticks\":\"\"}}}],\"scattermapbox\":[{\"type\":\"scattermapbox\",\"marker\":{\"colorbar\":{\"outlinewidth\":0,\"ticks\":\"\"}}}],\"scatterternary\":[{\"type\":\"scatterternary\",\"marker\":{\"colorbar\":{\"outlinewidth\":0,\"ticks\":\"\"}}}],\"scattercarpet\":[{\"type\":\"scattercarpet\",\"marker\":{\"colorbar\":{\"outlinewidth\":0,\"ticks\":\"\"}}}],\"carpet\":[{\"aaxis\":{\"endlinecolor\":\"#A2B1C6\",\"gridcolor\":\"#506784\",\"linecolor\":\"#506784\",\"minorgridcolor\":\"#506784\",\"startlinecolor\":\"#A2B1C6\"},\"baxis\":{\"endlinecolor\":\"#A2B1C6\",\"gridcolor\":\"#506784\",\"linecolor\":\"#506784\",\"minorgridcolor\":\"#506784\",\"startlinecolor\":\"#A2B1C6\"},\"type\":\"carpet\"}],\"table\":[{\"cells\":{\"fill\":{\"color\":\"#506784\"},\"line\":{\"color\":\"rgb(17,17,17)\"}},\"header\":{\"fill\":{\"color\":\"#2a3f5f\"},\"line\":{\"color\":\"rgb(17,17,17)\"}},\"type\":\"table\"}],\"barpolar\":[{\"marker\":{\"line\":{\"color\":\"rgb(17,17,17)\",\"width\":0.5},\"pattern\":{\"fillmode\":\"overlay\",\"size\":10,\"solidity\":0.2}},\"type\":\"barpolar\"}],\"pie\":[{\"automargin\":true,\"type\":\"pie\"}]},\"layout\":{\"autotypenumbers\":\"strict\",\"colorway\":[\"#636efa\",\"#EF553B\",\"#00cc96\",\"#ab63fa\",\"#FFA15A\",\"#19d3f3\",\"#FF6692\",\"#B6E880\",\"#FF97FF\",\"#FECB52\"],\"font\":{\"color\":\"#f2f5fa\"},\"hovermode\":\"closest\",\"hoverlabel\":{\"align\":\"left\"},\"paper_bgcolor\":\"rgb(17,17,17)\",\"plot_bgcolor\":\"rgb(17,17,17)\",\"polar\":{\"bgcolor\":\"rgb(17,17,17)\",\"angularaxis\":{\"gridcolor\":\"#506784\",\"linecolor\":\"#506784\",\"ticks\":\"\"},\"radialaxis\":{\"gridcolor\":\"#506784\",\"linecolor\":\"#506784\",\"ticks\":\"\"}},\"ternary\":{\"bgcolor\":\"rgb(17,17,17)\",\"aaxis\":{\"gridcolor\":\"#506784\",\"linecolor\":\"#506784\",\"ticks\":\"\"},\"baxis\":{\"gridcolor\":\"#506784\",\"linecolor\":\"#506784\",\"ticks\":\"\"},\"caxis\":{\"gridcolor\":\"#506784\",\"linecolor\":\"#506784\",\"ticks\":\"\"}},\"coloraxis\":{\"colorbar\":{\"outlinewidth\":0,\"ticks\":\"\"}},\"colorscale\":{\"sequential\":[[0.0,\"#0d0887\"],[0.1111111111111111,\"#46039f\"],[0.2222222222222222,\"#7201a8\"],[0.3333333333333333,\"#9c179e\"],[0.4444444444444444,\"#bd3786\"],[0.5555555555555556,\"#d8576b\"],[0.6666666666666666,\"#ed7953\"],[0.7777777777777778,\"#fb9f3a\"],[0.8888888888888888,\"#fdca26\"],[1.0,\"#f0f921\"]],\"sequentialminus\":[[0.0,\"#0d0887\"],[0.1111111111111111,\"#46039f\"],[0.2222222222222222,\"#7201a8\"],[0.3333333333333333,\"#9c179e\"],[0.4444444444444444,\"#bd3786\"],[0.5555555555555556,\"#d8576b\"],[0.6666666666666666,\"#ed7953\"],[0.7777777777777778,\"#fb9f3a\"],[0.8888888888888888,\"#fdca26\"],[1.0,\"#f0f921\"]],\"diverging\":[[0,\"#8e0152\"],[0.1,\"#c51b7d\"],[0.2,\"#de77ae\"],[0.3,\"#f1b6da\"],[0.4,\"#fde0ef\"],[0.5,\"#f7f7f7\"],[0.6,\"#e6f5d0\"],[0.7,\"#b8e186\"],[0.8,\"#7fbc41\"],[0.9,\"#4d9221\"],[1,\"#276419\"]]},\"xaxis\":{\"gridcolor\":\"#283442\",\"linecolor\":\"#506784\",\"ticks\":\"\",\"title\":{\"standoff\":15},\"zerolinecolor\":\"#283442\",\"automargin\":true,\"zerolinewidth\":2},\"yaxis\":{\"gridcolor\":\"#283442\",\"linecolor\":\"#506784\",\"ticks\":\"\",\"title\":{\"standoff\":15},\"zerolinecolor\":\"#283442\",\"automargin\":true,\"zerolinewidth\":2},\"scene\":{\"xaxis\":{\"backgroundcolor\":\"rgb(17,17,17)\",\"gridcolor\":\"#506784\",\"linecolor\":\"#506784\",\"showbackground\":true,\"ticks\":\"\",\"zerolinecolor\":\"#C8D4E3\",\"gridwidth\":2},\"yaxis\":{\"backgroundcolor\":\"rgb(17,17,17)\",\"gridcolor\":\"#506784\",\"linecolor\":\"#506784\",\"showbackground\":true,\"ticks\":\"\",\"zerolinecolor\":\"#C8D4E3\",\"gridwidth\":2},\"zaxis\":{\"backgroundcolor\":\"rgb(17,17,17)\",\"gridcolor\":\"#506784\",\"linecolor\":\"#506784\",\"showbackground\":true,\"ticks\":\"\",\"zerolinecolor\":\"#C8D4E3\",\"gridwidth\":2}},\"shapedefaults\":{\"line\":{\"color\":\"#f2f5fa\"}},\"annotationdefaults\":{\"arrowcolor\":\"#f2f5fa\",\"arrowhead\":0,\"arrowwidth\":1},\"geo\":{\"bgcolor\":\"rgb(17,17,17)\",\"landcolor\":\"rgb(17,17,17)\",\"subunitcolor\":\"#506784\",\"showland\":true,\"showlakes\":true,\"lakecolor\":\"rgb(17,17,17)\"},\"title\":{\"x\":0.05},\"updatemenudefaults\":{\"bgcolor\":\"#506784\",\"borderwidth\":0},\"sliderdefaults\":{\"bgcolor\":\"#C8D4E3\",\"borderwidth\":1,\"bordercolor\":\"rgb(17,17,17)\",\"tickwidth\":0},\"mapbox\":{\"style\":\"dark\"}}},\"xaxis\":{\"anchor\":\"y\",\"domain\":[0.0,0.31999999999999995],\"title\":{\"text\":\"Dimensione array\"}},\"yaxis\":{\"anchor\":\"x\",\"domain\":[0.0,1.0],\"title\":{\"text\":\"Time (s)\"}},\"xaxis2\":{\"anchor\":\"y2\",\"domain\":[0.33999999999999997,0.6599999999999999],\"matches\":\"x\",\"title\":{\"text\":\"Dimensione array\"}},\"yaxis2\":{\"anchor\":\"x2\",\"domain\":[0.0,1.0],\"matches\":\"y\",\"showticklabels\":false},\"xaxis3\":{\"anchor\":\"y3\",\"domain\":[0.6799999999999999,0.9999999999999999],\"matches\":\"x\",\"title\":{\"text\":\"Dimensione array\"}},\"yaxis3\":{\"anchor\":\"x3\",\"domain\":[0.0,1.0],\"matches\":\"y\",\"showticklabels\":false},\"annotations\":[{\"font\":{},\"showarrow\":false,\"text\":\"Tipo di input=random\",\"x\":0.15999999999999998,\"xanchor\":\"center\",\"xref\":\"paper\",\"y\":1.0,\"yanchor\":\"bottom\",\"yref\":\"paper\"},{\"font\":{},\"showarrow\":false,\"text\":\"Tipo di input=sorted\",\"x\":0.49999999999999994,\"xanchor\":\"center\",\"xref\":\"paper\",\"y\":1.0,\"yanchor\":\"bottom\",\"yref\":\"paper\"},{\"font\":{},\"showarrow\":false,\"text\":\"Tipo di input=reversed\",\"x\":0.8399999999999999,\"xanchor\":\"center\",\"xref\":\"paper\",\"y\":1.0,\"yanchor\":\"bottom\",\"yref\":\"paper\"}],\"legend\":{\"title\":{\"text\":\"Algoritmo di ordinamento\"},\"tracegroupgap\":0},\"title\":{\"text\":\"Sorting algorithms\"}},                        {\"responsive\": true}                    ).then(function(){\n                            \nvar gd = document.getElementById('09e01748-9eff-4a21-9804-73c71f0a6eb0');\nvar x = new MutationObserver(function (mutations, observer) {{\n        var display = window.getComputedStyle(gd).display;\n        if (!display || display === 'none') {{\n            console.log([gd, 'removed!']);\n            Plotly.purge(gd);\n            observer.disconnect();\n        }}\n}});\n\n// Listen for the removal of the full notebook cells\nvar notebookContainer = gd.closest('#notebook-container');\nif (notebookContainer) {{\n    x.observe(notebookContainer, {childList: true});\n}}\n\n// Listen for the clearing of the current output cell\nvar outputEl = gd.closest('.output');\nif (outputEl) {{\n    x.observe(outputEl, {childList: true});\n}}\n\n                        })                };                });            </script>        </div>"
     },
     "metadata": {},
     "output_type": "display_data"
    }
   ],
   "source": [
    "figure = px.line(df.query(\"num_samples > 0\"),\n",
    "                 x=\"num_samples\",\n",
    "                 y=\"time\",\n",
    "                 color=\"test_type\",\n",
    "                 facet_col=\"input_type\",\n",
    "                 title=\"Sorting algorithms\",\n",
    "                 labels={\"num_samples\": \"Dimensione array\", \"time\": \"Time (s)\", \"test_type\": \"Algoritmo di ordinamento\", \"input_type\": \"Tipo di input\"})\n",
    "figure.show()"
   ],
   "metadata": {
    "collapsed": false
   }
  },
  {
   "cell_type": "markdown",
   "source": [
    "Notiamo che in questo caso è molto più evidente il fatto che la complessità computazionale dell' _insertion sort_ è _O(n^2)_, in quanto il tempo impiegato per ordinare l'array cresce in modo quadratico. Nel caso del _counting sort_, invece, notiamo che il tempo impiegato per ordinare l'array è lineare (deselezionando _insetion_sort_ nel menù a destra), in quanto l'array viene ordinato in tempo _O(n+k)_, senza alcuna operazione di confronto tra elementi. Notiamo che in questo caso il costo computazionale del _counting sort_ è particolarmente basso, in quanto legato al range di generazione dei numeri, che è ancora piuttosto piccolo rispetto alla dimensione dell'array (da 0 a 10000). L'aumento del costo computazionale sarà ancora più visibile nel caso di array di grandi dimensioni ma anche nei casi con range di generazione dei numeri più grandi."
   ],
   "metadata": {
    "collapsed": false
   }
  },
  {
   "cell_type": "markdown",
   "source": [
    "#### Array di dimensione 1000 con range da 0 a 100000"
   ],
   "metadata": {
    "collapsed": false
   }
  },
  {
   "cell_type": "code",
   "execution_count": 195,
   "outputs": [],
   "source": [
    "df = plot_results(1000, 10, (0, 100000))"
   ],
   "metadata": {
    "collapsed": false
   }
  },
  {
   "cell_type": "code",
   "execution_count": 196,
   "outputs": [
    {
     "data": {
      "application/vnd.plotly.v1+json": {
       "data": [
        {
         "hovertemplate": "Algoritmo di ordinamento=insertion_sort<br>Tipo di input=random<br>Dimensione array=%{x}<br>Time (s)=%{y}<extra></extra>",
         "legendgroup": "insertion_sort",
         "line": {
          "color": "#636efa",
          "dash": "solid"
         },
         "marker": {
          "symbol": "circle"
         },
         "mode": "lines",
         "name": "insertion_sort",
         "orientation": "v",
         "showlegend": true,
         "x": [
          10,
          20,
          30,
          40,
          50,
          60,
          70,
          80,
          90,
          100,
          110,
          120,
          130,
          140,
          150,
          160,
          170,
          180,
          190,
          200,
          210,
          220,
          230,
          240,
          250,
          260,
          270,
          280,
          290,
          300,
          310,
          320,
          330,
          340,
          350,
          360,
          370,
          380,
          390,
          400,
          410,
          420,
          430,
          440,
          450,
          460,
          470,
          480,
          490,
          500,
          510,
          520,
          530,
          540,
          550,
          560,
          570,
          580,
          590,
          600,
          610,
          620,
          630,
          640,
          650,
          660,
          670,
          680,
          690,
          700,
          710,
          720,
          730,
          740,
          750,
          760,
          770,
          780,
          790,
          800,
          810,
          820,
          830,
          840,
          850,
          860,
          870,
          880,
          890,
          900,
          910,
          920,
          930,
          940,
          950,
          960,
          970,
          980,
          990
         ],
         "xaxis": "x",
         "y": [
          4.299974534660578E-6,
          1.0699965059757233E-5,
          2.2099993657320738E-5,
          4.229997284710407E-5,
          6.120000034570694E-5,
          8.180004078894854E-5,
          1.270999782718718E-4,
          1.601999974809587E-4,
          2.133999951183796E-4,
          2.5049998657777905E-4,
          3.0970002990216017E-4,
          3.3160002203658223E-4,
          4.3679994996637106E-4,
          4.732999950647354E-4,
          5.583000020124018E-4,
          6.209000130183995E-4,
          7.337999995797873E-4,
          8.157000411301851E-4,
          9.29799978621304E-4,
          9.615999879315495E-4,
          0.001073499966878444,
          0.0011548000038601458,
          0.0013398000155575573,
          0.0013780000153928995,
          0.0014505000435747206,
          0.0017087999731302261,
          0.0017723999917507172,
          0.0018902000156231225,
          0.0020690999808721244,
          0.0023521999828517437,
          0.002283999987412244,
          0.002613400050904602,
          0.0027184999780729413,
          0.0031068000243976712,
          0.003207199973985553,
          0.003453299985267222,
          0.0037968000397086143,
          0.0037749999901279807,
          0.003796100034378469,
          0.004213100008200854,
          0.004483399970922619,
          0.004715599992778152,
          0.004856400017160922,
          0.005223700019996613,
          0.005258499993942678,
          0.00531310000224039,
          0.005964400013908744,
          0.006319099979009479,
          0.006437700008973479,
          0.007055499998386949,
          0.006963199994061142,
          0.006726400053594261,
          0.0073853000067174435,
          0.008140399993862957,
          0.008213200024329126,
          0.008408399997279048,
          0.009489299962297082,
          0.009233899996615946,
          0.008788999984972179,
          0.009257199999410659,
          0.009730999998282641,
          0.010676699981559068,
          0.010627999959979206,
          0.011317200027406216,
          0.011821199965197593,
          0.012105899979360402,
          0.011768999975174665,
          0.012560000002849847,
          0.01321429997915402,
          0.01319520000834018,
          0.013634599978104234,
          0.015522500034421682,
          0.014688300027046353,
          0.016721900028642267,
          0.014636899984907359,
          0.016976799990516156,
          0.016426999995019287,
          0.017129599989857525,
          0.01770240004407242,
          0.018045299977529794,
          0.017960299970582128,
          0.018735899997409433,
          0.01955710002221167,
          0.021625800000037998,
          0.01950100000249222,
          0.020716099999845028,
          0.02277239999966696,
          0.021564099995885044,
          0.02252459997544065,
          0.023249799967743456,
          0.023874900012742728,
          0.023794899985659868,
          0.024256500008050352,
          0.02491769997868687,
          0.02465089998440817,
          0.026990999991539866,
          0.026572100003249943,
          0.02691919996868819,
          0.028287699969951063
         ],
         "yaxis": "y",
         "type": "scatter"
        },
        {
         "hovertemplate": "Algoritmo di ordinamento=insertion_sort<br>Tipo di input=sorted<br>Dimensione array=%{x}<br>Time (s)=%{y}<extra></extra>",
         "legendgroup": "insertion_sort",
         "line": {
          "color": "#636efa",
          "dash": "solid"
         },
         "marker": {
          "symbol": "circle"
         },
         "mode": "lines",
         "name": "insertion_sort",
         "orientation": "v",
         "showlegend": false,
         "x": [
          10,
          20,
          30,
          40,
          50,
          60,
          70,
          80,
          90,
          100,
          110,
          120,
          130,
          140,
          150,
          160,
          170,
          180,
          190,
          200,
          210,
          220,
          230,
          240,
          250,
          260,
          270,
          280,
          290,
          300,
          310,
          320,
          330,
          340,
          350,
          360,
          370,
          380,
          390,
          400,
          410,
          420,
          430,
          440,
          450,
          460,
          470,
          480,
          490,
          500,
          510,
          520,
          530,
          540,
          550,
          560,
          570,
          580,
          590,
          600,
          610,
          620,
          630,
          640,
          650,
          660,
          670,
          680,
          690,
          700,
          710,
          720,
          730,
          740,
          750,
          760,
          770,
          780,
          790,
          800,
          810,
          820,
          830,
          840,
          850,
          860,
          870,
          880,
          890,
          900,
          910,
          920,
          930,
          940,
          950,
          960,
          970,
          980,
          990
         ],
         "xaxis": "x2",
         "y": [
          2.400018274784088E-6,
          3.0999653972685337E-6,
          4.100031219422817E-6,
          5.199981387704611E-6,
          6.399990525096655E-6,
          7.399998139590025E-6,
          8.600007276982069E-6,
          9.699957445263863E-6,
          1.0800024028867483E-5,
          1.1999974958598614E-5,
          1.309998333454132E-5,
          1.4199991710484028E-5,
          1.5400000847876072E-5,
          1.6499951016157866E-5,
          1.750001683831215E-5,
          1.880002673715353E-5,
          2.0000035874545574E-5,
          2.080004196614027E-5,
          2.2199994418770075E-5,
          2.3300002794712782E-5,
          2.4300010409206152E-5,
          2.5600020308047533E-5,
          2.6699970476329327E-5,
          2.7800037059932947E-5,
          2.9099988751113415E-5,
          3.090000245720148E-5,
          3.160000778734684E-5,
          3.3599964808672667E-5,
          3.4800032153725624E-5,
          3.570003900676966E-5,
          3.739999374374747E-5,
          3.879994619637728E-5,
          4.0700018871575594E-5,
          4.150002496317029E-5,
          4.340003943070769E-5,
          4.39999857917428E-5,
          4.630000330507755E-5,
          4.680000711232424E-5,
          5.299999611452222E-5,
          4.929996794089675E-5,
          5.0799979362636805E-5,
          5.169998621568084E-5,
          5.339999916031957E-5,
          5.470000905916095E-5,
          5.619996227324009E-5,
          5.7500030379742384E-5,
          5.8800040278583765E-5,
          5.9699988923966885E-5,
          6.160000339150429E-5,
          6.290001329034567E-5,
          6.420002318918705E-5,
          6.559997564181685E-5,
          6.73000467941165E-5,
          6.829999620094895E-5,
          6.969994865357876E-5,
          7.100001676008105E-5,
          7.239996921271086E-5,
          7.379997987300158E-5,
          7.449998520314693E-5,
          7.579999510198832E-5,
          7.730000652372837E-5,
          7.869995897635818E-5,
          7.930002175271511E-5,
          8.11999780125916E-5,
          8.239998714998364E-5,
          8.370005525648594E-5,
          8.510000770911574E-5,
          8.629995863884687E-5,
          8.759996853768826E-5,
          8.899997919797897E-5,
          9.029998909682035E-5,
          9.169999975711107E-5,
          9.309995220974088E-5,
          9.429996134713292E-5,
          9.659997886046767E-5,
          9.710004087537527E-5,
          9.819999104365706E-5,
          9.970000246539712E-5,
          1.0089995339512825E-4,
          1.0249996557831764E-4,
          1.59399991389364E-4,
          1.9069999689236283E-4,
          1.0760000441223383E-4,
          1.0890001431107521E-4,
          1.0990002192556858E-4,
          1.1149997590109706E-4,
          1.1310004629194736E-4,
          1.1369999265298247E-4,
          1.1520000407472253E-4,
          1.1650001397356391E-4,
          1.1780002387240529E-4,
          1.191999763250351E-4,
          1.2049998622387648E-4,
          1.218999968841672E-4,
          1.2310000602155924E-4,
          1.2430001515895128E-4,
          1.2510002125054598E-4,
          1.2859998969361186E-4,
          1.278999843634665E-4
         ],
         "yaxis": "y2",
         "type": "scatter"
        },
        {
         "hovertemplate": "Algoritmo di ordinamento=insertion_sort<br>Tipo di input=reversed<br>Dimensione array=%{x}<br>Time (s)=%{y}<extra></extra>",
         "legendgroup": "insertion_sort",
         "line": {
          "color": "#636efa",
          "dash": "solid"
         },
         "marker": {
          "symbol": "circle"
         },
         "mode": "lines",
         "name": "insertion_sort",
         "orientation": "v",
         "showlegend": false,
         "x": [
          10,
          20,
          30,
          40,
          50,
          60,
          70,
          80,
          90,
          100,
          110,
          120,
          130,
          140,
          150,
          160,
          170,
          180,
          190,
          200,
          210,
          220,
          230,
          240,
          250,
          260,
          270,
          280,
          290,
          300,
          310,
          320,
          330,
          340,
          350,
          360,
          370,
          380,
          390,
          400,
          410,
          420,
          430,
          440,
          450,
          460,
          470,
          480,
          490,
          500,
          510,
          520,
          530,
          540,
          550,
          560,
          570,
          580,
          590,
          600,
          610,
          620,
          630,
          640,
          650,
          660,
          670,
          680,
          690,
          700,
          710,
          720,
          730,
          740,
          750,
          760,
          770,
          780,
          790,
          800,
          810,
          820,
          830,
          840,
          850,
          860,
          870,
          880,
          890,
          900,
          910,
          920,
          930,
          940,
          950,
          960,
          970,
          980,
          990
         ],
         "xaxis": "x3",
         "y": [
          7.199996616691351E-6,
          2.2599997464567423E-5,
          4.8900023102760315E-5,
          8.530000923201442E-5,
          1.3200001558288932E-4,
          1.8929998623207211E-4,
          2.5670003378763795E-4,
          3.3409998286515474E-4,
          4.221999552100897E-4,
          5.204000044614077E-4,
          6.287000142037868E-4,
          7.892000139690936E-4,
          8.773999870754778E-4,
          0.001014099980238825,
          0.001164300017990172,
          0.001323699951171875,
          0.0014931999612599611,
          0.0016831000102683902,
          0.001875900023151189,
          0.0020735999569296837,
          0.0022809000220149755,
          0.0025228000013157725,
          0.0027341999812051654,
          0.0029887999990023673,
          0.003237800032366067,
          0.0035063999821431935,
          0.003812899987678975,
          0.004017199971713126,
          0.004326900001615286,
          0.004646399989724159,
          0.004975599993485957,
          0.005334099987521768,
          0.0056868999963626266,
          0.005969699996057898,
          0.006346300011500716,
          0.006769200030248612,
          0.007208299997728318,
          0.007515900011640042,
          0.008043800015002489,
          0.008393700001761317,
          0.008877999964170158,
          0.0092898000148125,
          0.011149999976623803,
          0.010145200008992106,
          0.010074399993754923,
          0.010631199984345585,
          0.01116240001283586,
          0.011661100026685745,
          0.012212499976158142,
          0.012689499999396503,
          0.0132601999794133,
          0.013781299989204854,
          0.014465499960351735,
          0.014888500038068742,
          0.015546699985861778,
          0.01611409999895841,
          0.016714399971533567,
          0.017698800016660243,
          0.017983999976422638,
          0.01858090003952384,
          0.019310600007884204,
          0.020364299998618662,
          0.020933099964167923,
          0.021584900037851185,
          0.022332000022288412,
          0.02218829997582361,
          0.023178900009952486,
          0.02393110003322363,
          0.024651499988976866,
          0.025555800006259233,
          0.026171899982728064,
          0.02689979999559,
          0.02753550000488758,
          0.02824369998415932,
          0.029192499991040677,
          0.02988119999645278,
          0.03114619996631518,
          0.03143219999037683,
          0.0328575000166893,
          0.033545699960086495,
          0.03423290001228452,
          0.03523869998753071,
          0.036223099974449724,
          0.036907400004565716,
          0.037545899976976216,
          0.03919549996498972,
          0.040110700007062405,
          0.040577300009317696,
          0.040836800006218255,
          0.04242870002053678,
          0.04338609997648746,
          0.04473540000617504,
          0.04595340002560988,
          0.04591819999041036,
          0.04684379999525845,
          0.04893280001124367,
          0.050015199987683445,
          0.04983490001177415,
          0.051895499986130744
         ],
         "yaxis": "y3",
         "type": "scatter"
        },
        {
         "hovertemplate": "Algoritmo di ordinamento=counting_sort<br>Tipo di input=random<br>Dimensione array=%{x}<br>Time (s)=%{y}<extra></extra>",
         "legendgroup": "counting_sort",
         "line": {
          "color": "#EF553B",
          "dash": "solid"
         },
         "marker": {
          "symbol": "circle"
         },
         "mode": "lines",
         "name": "counting_sort",
         "orientation": "v",
         "showlegend": true,
         "x": [
          10,
          20,
          30,
          40,
          50,
          60,
          70,
          80,
          90,
          100,
          110,
          120,
          130,
          140,
          150,
          160,
          170,
          180,
          190,
          200,
          210,
          220,
          230,
          240,
          250,
          260,
          270,
          280,
          290,
          300,
          310,
          320,
          330,
          340,
          350,
          360,
          370,
          380,
          390,
          400,
          410,
          420,
          430,
          440,
          450,
          460,
          470,
          480,
          490,
          500,
          510,
          520,
          530,
          540,
          550,
          560,
          570,
          580,
          590,
          600,
          610,
          620,
          630,
          640,
          650,
          660,
          670,
          680,
          690,
          700,
          710,
          720,
          730,
          740,
          750,
          760,
          770,
          780,
          790,
          800,
          810,
          820,
          830,
          840,
          850,
          860,
          870,
          880,
          890,
          900,
          910,
          920,
          930,
          940,
          950,
          960,
          970,
          980,
          990
         ],
         "xaxis": "x",
         "y": [
          0.007539200014434755,
          0.00803759996779263,
          0.008088700007647276,
          0.008601500012446195,
          0.008508300001267344,
          0.008558600035030395,
          0.008624700014479458,
          0.00860820000525564,
          0.008597499981988221,
          0.008684100001119077,
          0.008590300043579191,
          0.008676500001456589,
          0.008582299982663244,
          0.008549500023946166,
          0.00878439994994551,
          0.008603400026913732,
          0.00893559999531135,
          0.008656600024551153,
          0.008746400009840727,
          0.008655599958728999,
          0.00873539998428896,
          0.008844700001645833,
          0.008591599995270371,
          0.008759699994698167,
          0.008598299988079816,
          0.008856399974320084,
          0.008869800018146634,
          0.009520700026769191,
          0.009606999985408038,
          0.008898300002329051,
          0.008922000008169562,
          0.008860900008585304,
          0.009109699982218444,
          0.008918899984564632,
          0.008947499969508499,
          0.009026899992022663,
          0.00909829995362088,
          0.008881799993105233,
          0.008997400000225753,
          0.009323400037828833,
          0.009178999986033887,
          0.009408599988091737,
          0.009114500018768013,
          0.009302499995101243,
          0.009199800028000027,
          0.009068099956493825,
          0.009357200004160404,
          0.009560100035741925,
          0.008926299982704222,
          0.009364199999254197,
          0.00925259996438399,
          0.009201399981975555,
          0.009267099958378822,
          0.00907179998466745,
          0.009432199993170798,
          0.009765500028152019,
          0.009818100021220744,
          0.010009999969042838,
          0.009733899962157011,
          0.009823300002608448,
          0.009964599972590804,
          0.009896499977912754,
          0.010064999980386347,
          0.010016400017775595,
          0.010101800027769059,
          0.010033899976406246,
          0.010199700016528368,
          0.010567800025455654,
          0.010242000047583133,
          0.010274600004777312,
          0.009967599995434284,
          0.010415200027637184,
          0.01009569998132065,
          0.010447800043039024,
          0.010334899998269975,
          0.010269299964420497,
          0.010168299952056259,
          0.010626500006765127,
          0.010382700012996793,
          0.010264200042001903,
          0.010391600022558123,
          0.01039950002450496,
          0.010352900018915534,
          0.010597400018014014,
          0.010386299982201308,
          0.0104050999507308,
          0.010640699998475611,
          0.010561099974438548,
          0.010263600037433207,
          0.010449399997014552,
          0.01043049996951595,
          0.010438200028147548,
          0.010619699954986572,
          0.010644700028933585,
          0.0106794000021182,
          0.01053710002452135,
          0.011023400002159178,
          0.01047929999185726,
          0.010424999985843897
         ],
         "yaxis": "y",
         "type": "scatter"
        },
        {
         "hovertemplate": "Algoritmo di ordinamento=counting_sort<br>Tipo di input=sorted<br>Dimensione array=%{x}<br>Time (s)=%{y}<extra></extra>",
         "legendgroup": "counting_sort",
         "line": {
          "color": "#EF553B",
          "dash": "solid"
         },
         "marker": {
          "symbol": "circle"
         },
         "mode": "lines",
         "name": "counting_sort",
         "orientation": "v",
         "showlegend": false,
         "x": [
          10,
          20,
          30,
          40,
          50,
          60,
          70,
          80,
          90,
          100,
          110,
          120,
          130,
          140,
          150,
          160,
          170,
          180,
          190,
          200,
          210,
          220,
          230,
          240,
          250,
          260,
          270,
          280,
          290,
          300,
          310,
          320,
          330,
          340,
          350,
          360,
          370,
          380,
          390,
          400,
          410,
          420,
          430,
          440,
          450,
          460,
          470,
          480,
          490,
          500,
          510,
          520,
          530,
          540,
          550,
          560,
          570,
          580,
          590,
          600,
          610,
          620,
          630,
          640,
          650,
          660,
          670,
          680,
          690,
          700,
          710,
          720,
          730,
          740,
          750,
          760,
          770,
          780,
          790,
          800,
          810,
          820,
          830,
          840,
          850,
          860,
          870,
          880,
          890,
          900,
          910,
          920,
          930,
          940,
          950,
          960,
          970,
          980,
          990
         ],
         "xaxis": "x2",
         "y": [
          0.007290699984878302,
          0.008143899962306023,
          0.00868369999807328,
          0.008647200011182576,
          0.00870890001533553,
          0.008850700047332793,
          0.008944000001065433,
          0.008965899993199855,
          0.008887100033462048,
          0.008973499992862344,
          0.008857399981934577,
          0.008915799960959703,
          0.008976399956736714,
          0.009003899991512299,
          0.008963999978732318,
          0.009004199993796647,
          0.00898279994726181,
          0.008906700008083135,
          0.008961400017142296,
          0.009075100009795278,
          0.00893700000597164,
          0.009001800033729523,
          0.00895619997754693,
          0.009052000008523464,
          0.00904219999210909,
          0.009075699956156313,
          0.009265500004403293,
          0.009311200003139675,
          0.009324899991042912,
          0.009439499990548939,
          0.009408599988091737,
          0.010101200023200363,
          0.009674400032963604,
          0.009857000026386231,
          0.009956300025805831,
          0.009835399978328496,
          0.009953200002200902,
          0.010175900009926409,
          0.009940399962943047,
          0.009970400016754866,
          0.010318499989807606,
          0.010010400030296296,
          0.010119899990968406,
          0.010338999971281737,
          0.010060500004328787,
          0.010191300010774285,
          0.010195599985308945,
          0.010453200025949627,
          0.01074310002150014,
          0.010383600019849837,
          0.010397600010037422,
          0.01054019998991862,
          0.010450200003106147,
          0.010481499950401485,
          0.010287599987350404,
          0.010221400007139891,
          0.0105743000167422,
          0.0104243999812752,
          0.010452000016812235,
          0.010010599973611534,
          0.01013569999486208,
          0.009938400005921721,
          0.01041270000860095,
          0.010199800017289817,
          0.010482200013939291,
          0.010191500012297183,
          0.010344800015445799,
          0.010214699956122786,
          0.010332399979233742,
          0.010453899973072112,
          0.010226400045212358,
          0.010202999983448535,
          0.010609099990688264,
          0.010374600009527057,
          0.010685100045520812,
          0.010465600003954023,
          0.010378799983300269,
          0.010479000047780573,
          0.010470999986864626,
          0.01054909999947995,
          0.010461099969688803,
          0.010330400022212416,
          0.010657500009983778,
          0.010424500040244311,
          0.010195399983786047,
          0.010309599980246276,
          0.010203299985732883,
          0.010448499990161508,
          0.010438799974508584,
          0.010520200012251735,
          0.010621000023093075,
          0.010891499987337738,
          0.01040240004658699,
          0.01053129998035729,
          0.010668600036296993,
          0.010450000001583248,
          0.010651999968104064,
          0.010737500037066638,
          0.010713700030464679
         ],
         "yaxis": "y2",
         "type": "scatter"
        },
        {
         "hovertemplate": "Algoritmo di ordinamento=counting_sort<br>Tipo di input=reversed<br>Dimensione array=%{x}<br>Time (s)=%{y}<extra></extra>",
         "legendgroup": "counting_sort",
         "line": {
          "color": "#EF553B",
          "dash": "solid"
         },
         "marker": {
          "symbol": "circle"
         },
         "mode": "lines",
         "name": "counting_sort",
         "orientation": "v",
         "showlegend": false,
         "x": [
          10,
          20,
          30,
          40,
          50,
          60,
          70,
          80,
          90,
          100,
          110,
          120,
          130,
          140,
          150,
          160,
          170,
          180,
          190,
          200,
          210,
          220,
          230,
          240,
          250,
          260,
          270,
          280,
          290,
          300,
          310,
          320,
          330,
          340,
          350,
          360,
          370,
          380,
          390,
          400,
          410,
          420,
          430,
          440,
          450,
          460,
          470,
          480,
          490,
          500,
          510,
          520,
          530,
          540,
          550,
          560,
          570,
          580,
          590,
          600,
          610,
          620,
          630,
          640,
          650,
          660,
          670,
          680,
          690,
          700,
          710,
          720,
          730,
          740,
          750,
          760,
          770,
          780,
          790,
          800,
          810,
          820,
          830,
          840,
          850,
          860,
          870,
          880,
          890,
          900,
          910,
          920,
          930,
          940,
          950,
          960,
          970,
          980,
          990
         ],
         "xaxis": "x3",
         "y": [
          0.008558200031984597,
          0.009034199989400804,
          0.009161900030449033,
          0.008949099981691688,
          0.008968000009190291,
          0.009035299997776747,
          0.009095100045669824,
          0.008976400014944375,
          0.00935179996304214,
          0.00905570003669709,
          0.009101199975702912,
          0.009106200013775378,
          0.00913560000481084,
          0.008939599967561662,
          0.009082799952011555,
          0.008942299988120794,
          0.009125599986873567,
          0.008972100040409714,
          0.009155599982477725,
          0.00903620000462979,
          0.009032199974171817,
          0.009009999979753047,
          0.00923019996844232,
          0.00903790001757443,
          0.00904080003965646,
          0.009051300003193319,
          0.009285799984354526,
          0.009300999983679503,
          0.009425399999599904,
          0.009400000039022416,
          0.009511000011116266,
          0.009444200026337057,
          0.009745499992277473,
          0.009503900015261024,
          0.009867199987638742,
          0.009910900029353797,
          0.009795700025279075,
          0.009734400024171919,
          0.009849499969277531,
          0.00992069998756051,
          0.0097550000064075,
          0.01048820000141859,
          0.009939399955328554,
          0.010330799967050552,
          0.010191800014581531,
          0.009886600018944591,
          0.009984800009988248,
          0.00990020000608638,
          0.010339099972043186,
          0.010138400015421212,
          0.010225699981674552,
          0.01025859999936074,
          0.010253599961288273,
          0.010255099972710013,
          0.010355899983551353,
          0.010195299983024597,
          0.010276099957991391,
          0.010237400012556463,
          0.010495399998035282,
          0.010247900034300983,
          0.010450700006913394,
          0.010465900006238371,
          0.010380599997006357,
          0.01038910000352189,
          0.010397600010037422,
          0.010461400030180812,
          0.01038019999396056,
          0.010880599962547421,
          0.01068229996599257,
          0.010377299971878529,
          0.010294699983205646,
          0.011234599980525672,
          0.01092550001339987,
          0.010322900023311377,
          0.010436300013680011,
          0.010888999968301505,
          0.010869899997487664,
          0.01050299999769777,
          0.010434399999212474,
          0.010772200010251254,
          0.010604000010062009,
          0.010734900017268956,
          0.010808799997903407,
          0.010606500029098243,
          0.010566400014795363,
          0.010594599996693432,
          0.010438099969178438,
          0.011490199947729707,
          0.010926100017968565,
          0.010893600003328174,
          0.010975899989716709,
          0.010780799959320575,
          0.01122159999795258,
          0.010796100017614663,
          0.010957299964502454,
          0.01097719999961555,
          0.010920100030489266,
          0.010798399976920336,
          0.010972000018227845
         ],
         "yaxis": "y3",
         "type": "scatter"
        }
       ],
       "layout": {
        "template": {
         "data": {
          "histogram2dcontour": [
           {
            "type": "histogram2dcontour",
            "colorbar": {
             "outlinewidth": 0,
             "ticks": ""
            },
            "colorscale": [
             [
              0.0,
              "#0d0887"
             ],
             [
              0.1111111111111111,
              "#46039f"
             ],
             [
              0.2222222222222222,
              "#7201a8"
             ],
             [
              0.3333333333333333,
              "#9c179e"
             ],
             [
              0.4444444444444444,
              "#bd3786"
             ],
             [
              0.5555555555555556,
              "#d8576b"
             ],
             [
              0.6666666666666666,
              "#ed7953"
             ],
             [
              0.7777777777777778,
              "#fb9f3a"
             ],
             [
              0.8888888888888888,
              "#fdca26"
             ],
             [
              1.0,
              "#f0f921"
             ]
            ]
           }
          ],
          "choropleth": [
           {
            "type": "choropleth",
            "colorbar": {
             "outlinewidth": 0,
             "ticks": ""
            }
           }
          ],
          "histogram2d": [
           {
            "type": "histogram2d",
            "colorbar": {
             "outlinewidth": 0,
             "ticks": ""
            },
            "colorscale": [
             [
              0.0,
              "#0d0887"
             ],
             [
              0.1111111111111111,
              "#46039f"
             ],
             [
              0.2222222222222222,
              "#7201a8"
             ],
             [
              0.3333333333333333,
              "#9c179e"
             ],
             [
              0.4444444444444444,
              "#bd3786"
             ],
             [
              0.5555555555555556,
              "#d8576b"
             ],
             [
              0.6666666666666666,
              "#ed7953"
             ],
             [
              0.7777777777777778,
              "#fb9f3a"
             ],
             [
              0.8888888888888888,
              "#fdca26"
             ],
             [
              1.0,
              "#f0f921"
             ]
            ]
           }
          ],
          "heatmap": [
           {
            "type": "heatmap",
            "colorbar": {
             "outlinewidth": 0,
             "ticks": ""
            },
            "colorscale": [
             [
              0.0,
              "#0d0887"
             ],
             [
              0.1111111111111111,
              "#46039f"
             ],
             [
              0.2222222222222222,
              "#7201a8"
             ],
             [
              0.3333333333333333,
              "#9c179e"
             ],
             [
              0.4444444444444444,
              "#bd3786"
             ],
             [
              0.5555555555555556,
              "#d8576b"
             ],
             [
              0.6666666666666666,
              "#ed7953"
             ],
             [
              0.7777777777777778,
              "#fb9f3a"
             ],
             [
              0.8888888888888888,
              "#fdca26"
             ],
             [
              1.0,
              "#f0f921"
             ]
            ]
           }
          ],
          "heatmapgl": [
           {
            "type": "heatmapgl",
            "colorbar": {
             "outlinewidth": 0,
             "ticks": ""
            },
            "colorscale": [
             [
              0.0,
              "#0d0887"
             ],
             [
              0.1111111111111111,
              "#46039f"
             ],
             [
              0.2222222222222222,
              "#7201a8"
             ],
             [
              0.3333333333333333,
              "#9c179e"
             ],
             [
              0.4444444444444444,
              "#bd3786"
             ],
             [
              0.5555555555555556,
              "#d8576b"
             ],
             [
              0.6666666666666666,
              "#ed7953"
             ],
             [
              0.7777777777777778,
              "#fb9f3a"
             ],
             [
              0.8888888888888888,
              "#fdca26"
             ],
             [
              1.0,
              "#f0f921"
             ]
            ]
           }
          ],
          "contourcarpet": [
           {
            "type": "contourcarpet",
            "colorbar": {
             "outlinewidth": 0,
             "ticks": ""
            }
           }
          ],
          "contour": [
           {
            "type": "contour",
            "colorbar": {
             "outlinewidth": 0,
             "ticks": ""
            },
            "colorscale": [
             [
              0.0,
              "#0d0887"
             ],
             [
              0.1111111111111111,
              "#46039f"
             ],
             [
              0.2222222222222222,
              "#7201a8"
             ],
             [
              0.3333333333333333,
              "#9c179e"
             ],
             [
              0.4444444444444444,
              "#bd3786"
             ],
             [
              0.5555555555555556,
              "#d8576b"
             ],
             [
              0.6666666666666666,
              "#ed7953"
             ],
             [
              0.7777777777777778,
              "#fb9f3a"
             ],
             [
              0.8888888888888888,
              "#fdca26"
             ],
             [
              1.0,
              "#f0f921"
             ]
            ]
           }
          ],
          "surface": [
           {
            "type": "surface",
            "colorbar": {
             "outlinewidth": 0,
             "ticks": ""
            },
            "colorscale": [
             [
              0.0,
              "#0d0887"
             ],
             [
              0.1111111111111111,
              "#46039f"
             ],
             [
              0.2222222222222222,
              "#7201a8"
             ],
             [
              0.3333333333333333,
              "#9c179e"
             ],
             [
              0.4444444444444444,
              "#bd3786"
             ],
             [
              0.5555555555555556,
              "#d8576b"
             ],
             [
              0.6666666666666666,
              "#ed7953"
             ],
             [
              0.7777777777777778,
              "#fb9f3a"
             ],
             [
              0.8888888888888888,
              "#fdca26"
             ],
             [
              1.0,
              "#f0f921"
             ]
            ]
           }
          ],
          "mesh3d": [
           {
            "type": "mesh3d",
            "colorbar": {
             "outlinewidth": 0,
             "ticks": ""
            }
           }
          ],
          "scatter": [
           {
            "marker": {
             "line": {
              "color": "#283442"
             }
            },
            "type": "scatter"
           }
          ],
          "parcoords": [
           {
            "type": "parcoords",
            "line": {
             "colorbar": {
              "outlinewidth": 0,
              "ticks": ""
             }
            }
           }
          ],
          "scatterpolargl": [
           {
            "type": "scatterpolargl",
            "marker": {
             "colorbar": {
              "outlinewidth": 0,
              "ticks": ""
             }
            }
           }
          ],
          "bar": [
           {
            "error_x": {
             "color": "#f2f5fa"
            },
            "error_y": {
             "color": "#f2f5fa"
            },
            "marker": {
             "line": {
              "color": "rgb(17,17,17)",
              "width": 0.5
             },
             "pattern": {
              "fillmode": "overlay",
              "size": 10,
              "solidity": 0.2
             }
            },
            "type": "bar"
           }
          ],
          "scattergeo": [
           {
            "type": "scattergeo",
            "marker": {
             "colorbar": {
              "outlinewidth": 0,
              "ticks": ""
             }
            }
           }
          ],
          "scatterpolar": [
           {
            "type": "scatterpolar",
            "marker": {
             "colorbar": {
              "outlinewidth": 0,
              "ticks": ""
             }
            }
           }
          ],
          "histogram": [
           {
            "marker": {
             "pattern": {
              "fillmode": "overlay",
              "size": 10,
              "solidity": 0.2
             }
            },
            "type": "histogram"
           }
          ],
          "scattergl": [
           {
            "marker": {
             "line": {
              "color": "#283442"
             }
            },
            "type": "scattergl"
           }
          ],
          "scatter3d": [
           {
            "type": "scatter3d",
            "line": {
             "colorbar": {
              "outlinewidth": 0,
              "ticks": ""
             }
            },
            "marker": {
             "colorbar": {
              "outlinewidth": 0,
              "ticks": ""
             }
            }
           }
          ],
          "scattermapbox": [
           {
            "type": "scattermapbox",
            "marker": {
             "colorbar": {
              "outlinewidth": 0,
              "ticks": ""
             }
            }
           }
          ],
          "scatterternary": [
           {
            "type": "scatterternary",
            "marker": {
             "colorbar": {
              "outlinewidth": 0,
              "ticks": ""
             }
            }
           }
          ],
          "scattercarpet": [
           {
            "type": "scattercarpet",
            "marker": {
             "colorbar": {
              "outlinewidth": 0,
              "ticks": ""
             }
            }
           }
          ],
          "carpet": [
           {
            "aaxis": {
             "endlinecolor": "#A2B1C6",
             "gridcolor": "#506784",
             "linecolor": "#506784",
             "minorgridcolor": "#506784",
             "startlinecolor": "#A2B1C6"
            },
            "baxis": {
             "endlinecolor": "#A2B1C6",
             "gridcolor": "#506784",
             "linecolor": "#506784",
             "minorgridcolor": "#506784",
             "startlinecolor": "#A2B1C6"
            },
            "type": "carpet"
           }
          ],
          "table": [
           {
            "cells": {
             "fill": {
              "color": "#506784"
             },
             "line": {
              "color": "rgb(17,17,17)"
             }
            },
            "header": {
             "fill": {
              "color": "#2a3f5f"
             },
             "line": {
              "color": "rgb(17,17,17)"
             }
            },
            "type": "table"
           }
          ],
          "barpolar": [
           {
            "marker": {
             "line": {
              "color": "rgb(17,17,17)",
              "width": 0.5
             },
             "pattern": {
              "fillmode": "overlay",
              "size": 10,
              "solidity": 0.2
             }
            },
            "type": "barpolar"
           }
          ],
          "pie": [
           {
            "automargin": true,
            "type": "pie"
           }
          ]
         },
         "layout": {
          "autotypenumbers": "strict",
          "colorway": [
           "#636efa",
           "#EF553B",
           "#00cc96",
           "#ab63fa",
           "#FFA15A",
           "#19d3f3",
           "#FF6692",
           "#B6E880",
           "#FF97FF",
           "#FECB52"
          ],
          "font": {
           "color": "#f2f5fa"
          },
          "hovermode": "closest",
          "hoverlabel": {
           "align": "left"
          },
          "paper_bgcolor": "rgb(17,17,17)",
          "plot_bgcolor": "rgb(17,17,17)",
          "polar": {
           "bgcolor": "rgb(17,17,17)",
           "angularaxis": {
            "gridcolor": "#506784",
            "linecolor": "#506784",
            "ticks": ""
           },
           "radialaxis": {
            "gridcolor": "#506784",
            "linecolor": "#506784",
            "ticks": ""
           }
          },
          "ternary": {
           "bgcolor": "rgb(17,17,17)",
           "aaxis": {
            "gridcolor": "#506784",
            "linecolor": "#506784",
            "ticks": ""
           },
           "baxis": {
            "gridcolor": "#506784",
            "linecolor": "#506784",
            "ticks": ""
           },
           "caxis": {
            "gridcolor": "#506784",
            "linecolor": "#506784",
            "ticks": ""
           }
          },
          "coloraxis": {
           "colorbar": {
            "outlinewidth": 0,
            "ticks": ""
           }
          },
          "colorscale": {
           "sequential": [
            [
             0.0,
             "#0d0887"
            ],
            [
             0.1111111111111111,
             "#46039f"
            ],
            [
             0.2222222222222222,
             "#7201a8"
            ],
            [
             0.3333333333333333,
             "#9c179e"
            ],
            [
             0.4444444444444444,
             "#bd3786"
            ],
            [
             0.5555555555555556,
             "#d8576b"
            ],
            [
             0.6666666666666666,
             "#ed7953"
            ],
            [
             0.7777777777777778,
             "#fb9f3a"
            ],
            [
             0.8888888888888888,
             "#fdca26"
            ],
            [
             1.0,
             "#f0f921"
            ]
           ],
           "sequentialminus": [
            [
             0.0,
             "#0d0887"
            ],
            [
             0.1111111111111111,
             "#46039f"
            ],
            [
             0.2222222222222222,
             "#7201a8"
            ],
            [
             0.3333333333333333,
             "#9c179e"
            ],
            [
             0.4444444444444444,
             "#bd3786"
            ],
            [
             0.5555555555555556,
             "#d8576b"
            ],
            [
             0.6666666666666666,
             "#ed7953"
            ],
            [
             0.7777777777777778,
             "#fb9f3a"
            ],
            [
             0.8888888888888888,
             "#fdca26"
            ],
            [
             1.0,
             "#f0f921"
            ]
           ],
           "diverging": [
            [
             0,
             "#8e0152"
            ],
            [
             0.1,
             "#c51b7d"
            ],
            [
             0.2,
             "#de77ae"
            ],
            [
             0.3,
             "#f1b6da"
            ],
            [
             0.4,
             "#fde0ef"
            ],
            [
             0.5,
             "#f7f7f7"
            ],
            [
             0.6,
             "#e6f5d0"
            ],
            [
             0.7,
             "#b8e186"
            ],
            [
             0.8,
             "#7fbc41"
            ],
            [
             0.9,
             "#4d9221"
            ],
            [
             1,
             "#276419"
            ]
           ]
          },
          "xaxis": {
           "gridcolor": "#283442",
           "linecolor": "#506784",
           "ticks": "",
           "title": {
            "standoff": 15
           },
           "zerolinecolor": "#283442",
           "automargin": true,
           "zerolinewidth": 2
          },
          "yaxis": {
           "gridcolor": "#283442",
           "linecolor": "#506784",
           "ticks": "",
           "title": {
            "standoff": 15
           },
           "zerolinecolor": "#283442",
           "automargin": true,
           "zerolinewidth": 2
          },
          "scene": {
           "xaxis": {
            "backgroundcolor": "rgb(17,17,17)",
            "gridcolor": "#506784",
            "linecolor": "#506784",
            "showbackground": true,
            "ticks": "",
            "zerolinecolor": "#C8D4E3",
            "gridwidth": 2
           },
           "yaxis": {
            "backgroundcolor": "rgb(17,17,17)",
            "gridcolor": "#506784",
            "linecolor": "#506784",
            "showbackground": true,
            "ticks": "",
            "zerolinecolor": "#C8D4E3",
            "gridwidth": 2
           },
           "zaxis": {
            "backgroundcolor": "rgb(17,17,17)",
            "gridcolor": "#506784",
            "linecolor": "#506784",
            "showbackground": true,
            "ticks": "",
            "zerolinecolor": "#C8D4E3",
            "gridwidth": 2
           }
          },
          "shapedefaults": {
           "line": {
            "color": "#f2f5fa"
           }
          },
          "annotationdefaults": {
           "arrowcolor": "#f2f5fa",
           "arrowhead": 0,
           "arrowwidth": 1
          },
          "geo": {
           "bgcolor": "rgb(17,17,17)",
           "landcolor": "rgb(17,17,17)",
           "subunitcolor": "#506784",
           "showland": true,
           "showlakes": true,
           "lakecolor": "rgb(17,17,17)"
          },
          "title": {
           "x": 0.05
          },
          "updatemenudefaults": {
           "bgcolor": "#506784",
           "borderwidth": 0
          },
          "sliderdefaults": {
           "bgcolor": "#C8D4E3",
           "borderwidth": 1,
           "bordercolor": "rgb(17,17,17)",
           "tickwidth": 0
          },
          "mapbox": {
           "style": "dark"
          }
         }
        },
        "xaxis": {
         "anchor": "y",
         "domain": [
          0.0,
          0.31999999999999995
         ],
         "title": {
          "text": "Dimensione array"
         }
        },
        "yaxis": {
         "anchor": "x",
         "domain": [
          0.0,
          1.0
         ],
         "title": {
          "text": "Time (s)"
         }
        },
        "xaxis2": {
         "anchor": "y2",
         "domain": [
          0.33999999999999997,
          0.6599999999999999
         ],
         "matches": "x",
         "title": {
          "text": "Dimensione array"
         }
        },
        "yaxis2": {
         "anchor": "x2",
         "domain": [
          0.0,
          1.0
         ],
         "matches": "y",
         "showticklabels": false
        },
        "xaxis3": {
         "anchor": "y3",
         "domain": [
          0.6799999999999999,
          0.9999999999999999
         ],
         "matches": "x",
         "title": {
          "text": "Dimensione array"
         }
        },
        "yaxis3": {
         "anchor": "x3",
         "domain": [
          0.0,
          1.0
         ],
         "matches": "y",
         "showticklabels": false
        },
        "annotations": [
         {
          "font": {},
          "showarrow": false,
          "text": "Tipo di input=random",
          "x": 0.15999999999999998,
          "xanchor": "center",
          "xref": "paper",
          "y": 1.0,
          "yanchor": "bottom",
          "yref": "paper"
         },
         {
          "font": {},
          "showarrow": false,
          "text": "Tipo di input=sorted",
          "x": 0.49999999999999994,
          "xanchor": "center",
          "xref": "paper",
          "y": 1.0,
          "yanchor": "bottom",
          "yref": "paper"
         },
         {
          "font": {},
          "showarrow": false,
          "text": "Tipo di input=reversed",
          "x": 0.8399999999999999,
          "xanchor": "center",
          "xref": "paper",
          "y": 1.0,
          "yanchor": "bottom",
          "yref": "paper"
         }
        ],
        "legend": {
         "title": {
          "text": "Algoritmo di ordinamento"
         },
         "tracegroupgap": 0
        },
        "title": {
         "text": "Sorting algorithms"
        }
       },
       "config": {
        "plotlyServerURL": "https://plot.ly"
       }
      },
      "text/html": "<div>                            <div id=\"bc309598-13ee-43e1-926c-cd774f534555\" class=\"plotly-graph-div\" style=\"height:525px; width:100%;\"></div>            <script type=\"text/javascript\">                require([\"plotly\"], function(Plotly) {                    window.PLOTLYENV=window.PLOTLYENV || {};                                    if (document.getElementById(\"bc309598-13ee-43e1-926c-cd774f534555\")) {                    Plotly.newPlot(                        \"bc309598-13ee-43e1-926c-cd774f534555\",                        [{\"hovertemplate\":\"Algoritmo di ordinamento=insertion_sort<br>Tipo di input=random<br>Dimensione array=%{x}<br>Time (s)=%{y}<extra></extra>\",\"legendgroup\":\"insertion_sort\",\"line\":{\"color\":\"#636efa\",\"dash\":\"solid\"},\"marker\":{\"symbol\":\"circle\"},\"mode\":\"lines\",\"name\":\"insertion_sort\",\"orientation\":\"v\",\"showlegend\":true,\"x\":[10,20,30,40,50,60,70,80,90,100,110,120,130,140,150,160,170,180,190,200,210,220,230,240,250,260,270,280,290,300,310,320,330,340,350,360,370,380,390,400,410,420,430,440,450,460,470,480,490,500,510,520,530,540,550,560,570,580,590,600,610,620,630,640,650,660,670,680,690,700,710,720,730,740,750,760,770,780,790,800,810,820,830,840,850,860,870,880,890,900,910,920,930,940,950,960,970,980,990],\"xaxis\":\"x\",\"y\":[4.299974534660578e-06,1.0699965059757233e-05,2.2099993657320738e-05,4.229997284710407e-05,6.120000034570694e-05,8.180004078894854e-05,0.0001270999782718718,0.0001601999974809587,0.0002133999951183796,0.00025049998657777905,0.00030970002990216017,0.00033160002203658223,0.00043679994996637106,0.0004732999950647354,0.0005583000020124018,0.0006209000130183995,0.0007337999995797873,0.0008157000411301851,0.000929799978621304,0.0009615999879315495,0.001073499966878444,0.0011548000038601458,0.0013398000155575573,0.0013780000153928995,0.0014505000435747206,0.0017087999731302261,0.0017723999917507172,0.0018902000156231225,0.0020690999808721244,0.0023521999828517437,0.002283999987412244,0.002613400050904602,0.0027184999780729413,0.0031068000243976712,0.003207199973985553,0.003453299985267222,0.0037968000397086143,0.0037749999901279807,0.003796100034378469,0.004213100008200854,0.004483399970922619,0.004715599992778152,0.004856400017160922,0.005223700019996613,0.005258499993942678,0.00531310000224039,0.005964400013908744,0.006319099979009479,0.006437700008973479,0.007055499998386949,0.006963199994061142,0.006726400053594261,0.0073853000067174435,0.008140399993862957,0.008213200024329126,0.008408399997279048,0.009489299962297082,0.009233899996615946,0.008788999984972179,0.009257199999410659,0.009730999998282641,0.010676699981559068,0.010627999959979206,0.011317200027406216,0.011821199965197593,0.012105899979360402,0.011768999975174665,0.012560000002849847,0.01321429997915402,0.01319520000834018,0.013634599978104234,0.015522500034421682,0.014688300027046353,0.016721900028642267,0.014636899984907359,0.016976799990516156,0.016426999995019287,0.017129599989857525,0.01770240004407242,0.018045299977529794,0.017960299970582128,0.018735899997409433,0.01955710002221167,0.021625800000037998,0.01950100000249222,0.020716099999845028,0.02277239999966696,0.021564099995885044,0.02252459997544065,0.023249799967743456,0.023874900012742728,0.023794899985659868,0.024256500008050352,0.02491769997868687,0.02465089998440817,0.026990999991539866,0.026572100003249943,0.02691919996868819,0.028287699969951063],\"yaxis\":\"y\",\"type\":\"scatter\"},{\"hovertemplate\":\"Algoritmo di ordinamento=insertion_sort<br>Tipo di input=sorted<br>Dimensione array=%{x}<br>Time (s)=%{y}<extra></extra>\",\"legendgroup\":\"insertion_sort\",\"line\":{\"color\":\"#636efa\",\"dash\":\"solid\"},\"marker\":{\"symbol\":\"circle\"},\"mode\":\"lines\",\"name\":\"insertion_sort\",\"orientation\":\"v\",\"showlegend\":false,\"x\":[10,20,30,40,50,60,70,80,90,100,110,120,130,140,150,160,170,180,190,200,210,220,230,240,250,260,270,280,290,300,310,320,330,340,350,360,370,380,390,400,410,420,430,440,450,460,470,480,490,500,510,520,530,540,550,560,570,580,590,600,610,620,630,640,650,660,670,680,690,700,710,720,730,740,750,760,770,780,790,800,810,820,830,840,850,860,870,880,890,900,910,920,930,940,950,960,970,980,990],\"xaxis\":\"x2\",\"y\":[2.400018274784088e-06,3.0999653972685337e-06,4.100031219422817e-06,5.199981387704611e-06,6.399990525096655e-06,7.399998139590025e-06,8.600007276982069e-06,9.699957445263863e-06,1.0800024028867483e-05,1.1999974958598614e-05,1.309998333454132e-05,1.4199991710484028e-05,1.5400000847876072e-05,1.6499951016157866e-05,1.750001683831215e-05,1.880002673715353e-05,2.0000035874545574e-05,2.080004196614027e-05,2.2199994418770075e-05,2.3300002794712782e-05,2.4300010409206152e-05,2.5600020308047533e-05,2.6699970476329327e-05,2.7800037059932947e-05,2.9099988751113415e-05,3.090000245720148e-05,3.160000778734684e-05,3.3599964808672667e-05,3.4800032153725624e-05,3.570003900676966e-05,3.739999374374747e-05,3.879994619637728e-05,4.0700018871575594e-05,4.150002496317029e-05,4.340003943070769e-05,4.39999857917428e-05,4.630000330507755e-05,4.680000711232424e-05,5.299999611452222e-05,4.929996794089675e-05,5.0799979362636805e-05,5.169998621568084e-05,5.339999916031957e-05,5.470000905916095e-05,5.619996227324009e-05,5.7500030379742384e-05,5.8800040278583765e-05,5.9699988923966885e-05,6.160000339150429e-05,6.290001329034567e-05,6.420002318918705e-05,6.559997564181685e-05,6.73000467941165e-05,6.829999620094895e-05,6.969994865357876e-05,7.100001676008105e-05,7.239996921271086e-05,7.379997987300158e-05,7.449998520314693e-05,7.579999510198832e-05,7.730000652372837e-05,7.869995897635818e-05,7.930002175271511e-05,8.11999780125916e-05,8.239998714998364e-05,8.370005525648594e-05,8.510000770911574e-05,8.629995863884687e-05,8.759996853768826e-05,8.899997919797897e-05,9.029998909682035e-05,9.169999975711107e-05,9.309995220974088e-05,9.429996134713292e-05,9.659997886046767e-05,9.710004087537527e-05,9.819999104365706e-05,9.970000246539712e-05,0.00010089995339512825,0.00010249996557831764,0.000159399991389364,0.00019069999689236283,0.00010760000441223383,0.00010890001431107521,0.00010990002192556858,0.00011149997590109706,0.00011310004629194736,0.00011369999265298247,0.00011520000407472253,0.00011650001397356391,0.00011780002387240529,0.0001191999763250351,0.00012049998622387648,0.0001218999968841672,0.00012310000602155924,0.00012430001515895128,0.00012510002125054598,0.00012859998969361186,0.0001278999843634665],\"yaxis\":\"y2\",\"type\":\"scatter\"},{\"hovertemplate\":\"Algoritmo di ordinamento=insertion_sort<br>Tipo di input=reversed<br>Dimensione array=%{x}<br>Time (s)=%{y}<extra></extra>\",\"legendgroup\":\"insertion_sort\",\"line\":{\"color\":\"#636efa\",\"dash\":\"solid\"},\"marker\":{\"symbol\":\"circle\"},\"mode\":\"lines\",\"name\":\"insertion_sort\",\"orientation\":\"v\",\"showlegend\":false,\"x\":[10,20,30,40,50,60,70,80,90,100,110,120,130,140,150,160,170,180,190,200,210,220,230,240,250,260,270,280,290,300,310,320,330,340,350,360,370,380,390,400,410,420,430,440,450,460,470,480,490,500,510,520,530,540,550,560,570,580,590,600,610,620,630,640,650,660,670,680,690,700,710,720,730,740,750,760,770,780,790,800,810,820,830,840,850,860,870,880,890,900,910,920,930,940,950,960,970,980,990],\"xaxis\":\"x3\",\"y\":[7.199996616691351e-06,2.2599997464567423e-05,4.8900023102760315e-05,8.530000923201442e-05,0.00013200001558288932,0.00018929998623207211,0.00025670003378763795,0.00033409998286515474,0.0004221999552100897,0.0005204000044614077,0.0006287000142037868,0.0007892000139690936,0.0008773999870754778,0.001014099980238825,0.001164300017990172,0.001323699951171875,0.0014931999612599611,0.0016831000102683902,0.001875900023151189,0.0020735999569296837,0.0022809000220149755,0.0025228000013157725,0.0027341999812051654,0.0029887999990023673,0.003237800032366067,0.0035063999821431935,0.003812899987678975,0.004017199971713126,0.004326900001615286,0.004646399989724159,0.004975599993485957,0.005334099987521768,0.0056868999963626266,0.005969699996057898,0.006346300011500716,0.006769200030248612,0.007208299997728318,0.007515900011640042,0.008043800015002489,0.008393700001761317,0.008877999964170158,0.0092898000148125,0.011149999976623803,0.010145200008992106,0.010074399993754923,0.010631199984345585,0.01116240001283586,0.011661100026685745,0.012212499976158142,0.012689499999396503,0.0132601999794133,0.013781299989204854,0.014465499960351735,0.014888500038068742,0.015546699985861778,0.01611409999895841,0.016714399971533567,0.017698800016660243,0.017983999976422638,0.01858090003952384,0.019310600007884204,0.020364299998618662,0.020933099964167923,0.021584900037851185,0.022332000022288412,0.02218829997582361,0.023178900009952486,0.02393110003322363,0.024651499988976866,0.025555800006259233,0.026171899982728064,0.02689979999559,0.02753550000488758,0.02824369998415932,0.029192499991040677,0.02988119999645278,0.03114619996631518,0.03143219999037683,0.0328575000166893,0.033545699960086495,0.03423290001228452,0.03523869998753071,0.036223099974449724,0.036907400004565716,0.037545899976976216,0.03919549996498972,0.040110700007062405,0.040577300009317696,0.040836800006218255,0.04242870002053678,0.04338609997648746,0.04473540000617504,0.04595340002560988,0.04591819999041036,0.04684379999525845,0.04893280001124367,0.050015199987683445,0.04983490001177415,0.051895499986130744],\"yaxis\":\"y3\",\"type\":\"scatter\"},{\"hovertemplate\":\"Algoritmo di ordinamento=counting_sort<br>Tipo di input=random<br>Dimensione array=%{x}<br>Time (s)=%{y}<extra></extra>\",\"legendgroup\":\"counting_sort\",\"line\":{\"color\":\"#EF553B\",\"dash\":\"solid\"},\"marker\":{\"symbol\":\"circle\"},\"mode\":\"lines\",\"name\":\"counting_sort\",\"orientation\":\"v\",\"showlegend\":true,\"x\":[10,20,30,40,50,60,70,80,90,100,110,120,130,140,150,160,170,180,190,200,210,220,230,240,250,260,270,280,290,300,310,320,330,340,350,360,370,380,390,400,410,420,430,440,450,460,470,480,490,500,510,520,530,540,550,560,570,580,590,600,610,620,630,640,650,660,670,680,690,700,710,720,730,740,750,760,770,780,790,800,810,820,830,840,850,860,870,880,890,900,910,920,930,940,950,960,970,980,990],\"xaxis\":\"x\",\"y\":[0.007539200014434755,0.00803759996779263,0.008088700007647276,0.008601500012446195,0.008508300001267344,0.008558600035030395,0.008624700014479458,0.00860820000525564,0.008597499981988221,0.008684100001119077,0.008590300043579191,0.008676500001456589,0.008582299982663244,0.008549500023946166,0.00878439994994551,0.008603400026913732,0.00893559999531135,0.008656600024551153,0.008746400009840727,0.008655599958728999,0.00873539998428896,0.008844700001645833,0.008591599995270371,0.008759699994698167,0.008598299988079816,0.008856399974320084,0.008869800018146634,0.009520700026769191,0.009606999985408038,0.008898300002329051,0.008922000008169562,0.008860900008585304,0.009109699982218444,0.008918899984564632,0.008947499969508499,0.009026899992022663,0.00909829995362088,0.008881799993105233,0.008997400000225753,0.009323400037828833,0.009178999986033887,0.009408599988091737,0.009114500018768013,0.009302499995101243,0.009199800028000027,0.009068099956493825,0.009357200004160404,0.009560100035741925,0.008926299982704222,0.009364199999254197,0.00925259996438399,0.009201399981975555,0.009267099958378822,0.00907179998466745,0.009432199993170798,0.009765500028152019,0.009818100021220744,0.010009999969042838,0.009733899962157011,0.009823300002608448,0.009964599972590804,0.009896499977912754,0.010064999980386347,0.010016400017775595,0.010101800027769059,0.010033899976406246,0.010199700016528368,0.010567800025455654,0.010242000047583133,0.010274600004777312,0.009967599995434284,0.010415200027637184,0.01009569998132065,0.010447800043039024,0.010334899998269975,0.010269299964420497,0.010168299952056259,0.010626500006765127,0.010382700012996793,0.010264200042001903,0.010391600022558123,0.01039950002450496,0.010352900018915534,0.010597400018014014,0.010386299982201308,0.0104050999507308,0.010640699998475611,0.010561099974438548,0.010263600037433207,0.010449399997014552,0.01043049996951595,0.010438200028147548,0.010619699954986572,0.010644700028933585,0.0106794000021182,0.01053710002452135,0.011023400002159178,0.01047929999185726,0.010424999985843897],\"yaxis\":\"y\",\"type\":\"scatter\"},{\"hovertemplate\":\"Algoritmo di ordinamento=counting_sort<br>Tipo di input=sorted<br>Dimensione array=%{x}<br>Time (s)=%{y}<extra></extra>\",\"legendgroup\":\"counting_sort\",\"line\":{\"color\":\"#EF553B\",\"dash\":\"solid\"},\"marker\":{\"symbol\":\"circle\"},\"mode\":\"lines\",\"name\":\"counting_sort\",\"orientation\":\"v\",\"showlegend\":false,\"x\":[10,20,30,40,50,60,70,80,90,100,110,120,130,140,150,160,170,180,190,200,210,220,230,240,250,260,270,280,290,300,310,320,330,340,350,360,370,380,390,400,410,420,430,440,450,460,470,480,490,500,510,520,530,540,550,560,570,580,590,600,610,620,630,640,650,660,670,680,690,700,710,720,730,740,750,760,770,780,790,800,810,820,830,840,850,860,870,880,890,900,910,920,930,940,950,960,970,980,990],\"xaxis\":\"x2\",\"y\":[0.007290699984878302,0.008143899962306023,0.00868369999807328,0.008647200011182576,0.00870890001533553,0.008850700047332793,0.008944000001065433,0.008965899993199855,0.008887100033462048,0.008973499992862344,0.008857399981934577,0.008915799960959703,0.008976399956736714,0.009003899991512299,0.008963999978732318,0.009004199993796647,0.00898279994726181,0.008906700008083135,0.008961400017142296,0.009075100009795278,0.00893700000597164,0.009001800033729523,0.00895619997754693,0.009052000008523464,0.00904219999210909,0.009075699956156313,0.009265500004403293,0.009311200003139675,0.009324899991042912,0.009439499990548939,0.009408599988091737,0.010101200023200363,0.009674400032963604,0.009857000026386231,0.009956300025805831,0.009835399978328496,0.009953200002200902,0.010175900009926409,0.009940399962943047,0.009970400016754866,0.010318499989807606,0.010010400030296296,0.010119899990968406,0.010338999971281737,0.010060500004328787,0.010191300010774285,0.010195599985308945,0.010453200025949627,0.01074310002150014,0.010383600019849837,0.010397600010037422,0.01054019998991862,0.010450200003106147,0.010481499950401485,0.010287599987350404,0.010221400007139891,0.0105743000167422,0.0104243999812752,0.010452000016812235,0.010010599973611534,0.01013569999486208,0.009938400005921721,0.01041270000860095,0.010199800017289817,0.010482200013939291,0.010191500012297183,0.010344800015445799,0.010214699956122786,0.010332399979233742,0.010453899973072112,0.010226400045212358,0.010202999983448535,0.010609099990688264,0.010374600009527057,0.010685100045520812,0.010465600003954023,0.010378799983300269,0.010479000047780573,0.010470999986864626,0.01054909999947995,0.010461099969688803,0.010330400022212416,0.010657500009983778,0.010424500040244311,0.010195399983786047,0.010309599980246276,0.010203299985732883,0.010448499990161508,0.010438799974508584,0.010520200012251735,0.010621000023093075,0.010891499987337738,0.01040240004658699,0.01053129998035729,0.010668600036296993,0.010450000001583248,0.010651999968104064,0.010737500037066638,0.010713700030464679],\"yaxis\":\"y2\",\"type\":\"scatter\"},{\"hovertemplate\":\"Algoritmo di ordinamento=counting_sort<br>Tipo di input=reversed<br>Dimensione array=%{x}<br>Time (s)=%{y}<extra></extra>\",\"legendgroup\":\"counting_sort\",\"line\":{\"color\":\"#EF553B\",\"dash\":\"solid\"},\"marker\":{\"symbol\":\"circle\"},\"mode\":\"lines\",\"name\":\"counting_sort\",\"orientation\":\"v\",\"showlegend\":false,\"x\":[10,20,30,40,50,60,70,80,90,100,110,120,130,140,150,160,170,180,190,200,210,220,230,240,250,260,270,280,290,300,310,320,330,340,350,360,370,380,390,400,410,420,430,440,450,460,470,480,490,500,510,520,530,540,550,560,570,580,590,600,610,620,630,640,650,660,670,680,690,700,710,720,730,740,750,760,770,780,790,800,810,820,830,840,850,860,870,880,890,900,910,920,930,940,950,960,970,980,990],\"xaxis\":\"x3\",\"y\":[0.008558200031984597,0.009034199989400804,0.009161900030449033,0.008949099981691688,0.008968000009190291,0.009035299997776747,0.009095100045669824,0.008976400014944375,0.00935179996304214,0.00905570003669709,0.009101199975702912,0.009106200013775378,0.00913560000481084,0.008939599967561662,0.009082799952011555,0.008942299988120794,0.009125599986873567,0.008972100040409714,0.009155599982477725,0.00903620000462979,0.009032199974171817,0.009009999979753047,0.00923019996844232,0.00903790001757443,0.00904080003965646,0.009051300003193319,0.009285799984354526,0.009300999983679503,0.009425399999599904,0.009400000039022416,0.009511000011116266,0.009444200026337057,0.009745499992277473,0.009503900015261024,0.009867199987638742,0.009910900029353797,0.009795700025279075,0.009734400024171919,0.009849499969277531,0.00992069998756051,0.0097550000064075,0.01048820000141859,0.009939399955328554,0.010330799967050552,0.010191800014581531,0.009886600018944591,0.009984800009988248,0.00990020000608638,0.010339099972043186,0.010138400015421212,0.010225699981674552,0.01025859999936074,0.010253599961288273,0.010255099972710013,0.010355899983551353,0.010195299983024597,0.010276099957991391,0.010237400012556463,0.010495399998035282,0.010247900034300983,0.010450700006913394,0.010465900006238371,0.010380599997006357,0.01038910000352189,0.010397600010037422,0.010461400030180812,0.01038019999396056,0.010880599962547421,0.01068229996599257,0.010377299971878529,0.010294699983205646,0.011234599980525672,0.01092550001339987,0.010322900023311377,0.010436300013680011,0.010888999968301505,0.010869899997487664,0.01050299999769777,0.010434399999212474,0.010772200010251254,0.010604000010062009,0.010734900017268956,0.010808799997903407,0.010606500029098243,0.010566400014795363,0.010594599996693432,0.010438099969178438,0.011490199947729707,0.010926100017968565,0.010893600003328174,0.010975899989716709,0.010780799959320575,0.01122159999795258,0.010796100017614663,0.010957299964502454,0.01097719999961555,0.010920100030489266,0.010798399976920336,0.010972000018227845],\"yaxis\":\"y3\",\"type\":\"scatter\"}],                        {\"template\":{\"data\":{\"histogram2dcontour\":[{\"type\":\"histogram2dcontour\",\"colorbar\":{\"outlinewidth\":0,\"ticks\":\"\"},\"colorscale\":[[0.0,\"#0d0887\"],[0.1111111111111111,\"#46039f\"],[0.2222222222222222,\"#7201a8\"],[0.3333333333333333,\"#9c179e\"],[0.4444444444444444,\"#bd3786\"],[0.5555555555555556,\"#d8576b\"],[0.6666666666666666,\"#ed7953\"],[0.7777777777777778,\"#fb9f3a\"],[0.8888888888888888,\"#fdca26\"],[1.0,\"#f0f921\"]]}],\"choropleth\":[{\"type\":\"choropleth\",\"colorbar\":{\"outlinewidth\":0,\"ticks\":\"\"}}],\"histogram2d\":[{\"type\":\"histogram2d\",\"colorbar\":{\"outlinewidth\":0,\"ticks\":\"\"},\"colorscale\":[[0.0,\"#0d0887\"],[0.1111111111111111,\"#46039f\"],[0.2222222222222222,\"#7201a8\"],[0.3333333333333333,\"#9c179e\"],[0.4444444444444444,\"#bd3786\"],[0.5555555555555556,\"#d8576b\"],[0.6666666666666666,\"#ed7953\"],[0.7777777777777778,\"#fb9f3a\"],[0.8888888888888888,\"#fdca26\"],[1.0,\"#f0f921\"]]}],\"heatmap\":[{\"type\":\"heatmap\",\"colorbar\":{\"outlinewidth\":0,\"ticks\":\"\"},\"colorscale\":[[0.0,\"#0d0887\"],[0.1111111111111111,\"#46039f\"],[0.2222222222222222,\"#7201a8\"],[0.3333333333333333,\"#9c179e\"],[0.4444444444444444,\"#bd3786\"],[0.5555555555555556,\"#d8576b\"],[0.6666666666666666,\"#ed7953\"],[0.7777777777777778,\"#fb9f3a\"],[0.8888888888888888,\"#fdca26\"],[1.0,\"#f0f921\"]]}],\"heatmapgl\":[{\"type\":\"heatmapgl\",\"colorbar\":{\"outlinewidth\":0,\"ticks\":\"\"},\"colorscale\":[[0.0,\"#0d0887\"],[0.1111111111111111,\"#46039f\"],[0.2222222222222222,\"#7201a8\"],[0.3333333333333333,\"#9c179e\"],[0.4444444444444444,\"#bd3786\"],[0.5555555555555556,\"#d8576b\"],[0.6666666666666666,\"#ed7953\"],[0.7777777777777778,\"#fb9f3a\"],[0.8888888888888888,\"#fdca26\"],[1.0,\"#f0f921\"]]}],\"contourcarpet\":[{\"type\":\"contourcarpet\",\"colorbar\":{\"outlinewidth\":0,\"ticks\":\"\"}}],\"contour\":[{\"type\":\"contour\",\"colorbar\":{\"outlinewidth\":0,\"ticks\":\"\"},\"colorscale\":[[0.0,\"#0d0887\"],[0.1111111111111111,\"#46039f\"],[0.2222222222222222,\"#7201a8\"],[0.3333333333333333,\"#9c179e\"],[0.4444444444444444,\"#bd3786\"],[0.5555555555555556,\"#d8576b\"],[0.6666666666666666,\"#ed7953\"],[0.7777777777777778,\"#fb9f3a\"],[0.8888888888888888,\"#fdca26\"],[1.0,\"#f0f921\"]]}],\"surface\":[{\"type\":\"surface\",\"colorbar\":{\"outlinewidth\":0,\"ticks\":\"\"},\"colorscale\":[[0.0,\"#0d0887\"],[0.1111111111111111,\"#46039f\"],[0.2222222222222222,\"#7201a8\"],[0.3333333333333333,\"#9c179e\"],[0.4444444444444444,\"#bd3786\"],[0.5555555555555556,\"#d8576b\"],[0.6666666666666666,\"#ed7953\"],[0.7777777777777778,\"#fb9f3a\"],[0.8888888888888888,\"#fdca26\"],[1.0,\"#f0f921\"]]}],\"mesh3d\":[{\"type\":\"mesh3d\",\"colorbar\":{\"outlinewidth\":0,\"ticks\":\"\"}}],\"scatter\":[{\"marker\":{\"line\":{\"color\":\"#283442\"}},\"type\":\"scatter\"}],\"parcoords\":[{\"type\":\"parcoords\",\"line\":{\"colorbar\":{\"outlinewidth\":0,\"ticks\":\"\"}}}],\"scatterpolargl\":[{\"type\":\"scatterpolargl\",\"marker\":{\"colorbar\":{\"outlinewidth\":0,\"ticks\":\"\"}}}],\"bar\":[{\"error_x\":{\"color\":\"#f2f5fa\"},\"error_y\":{\"color\":\"#f2f5fa\"},\"marker\":{\"line\":{\"color\":\"rgb(17,17,17)\",\"width\":0.5},\"pattern\":{\"fillmode\":\"overlay\",\"size\":10,\"solidity\":0.2}},\"type\":\"bar\"}],\"scattergeo\":[{\"type\":\"scattergeo\",\"marker\":{\"colorbar\":{\"outlinewidth\":0,\"ticks\":\"\"}}}],\"scatterpolar\":[{\"type\":\"scatterpolar\",\"marker\":{\"colorbar\":{\"outlinewidth\":0,\"ticks\":\"\"}}}],\"histogram\":[{\"marker\":{\"pattern\":{\"fillmode\":\"overlay\",\"size\":10,\"solidity\":0.2}},\"type\":\"histogram\"}],\"scattergl\":[{\"marker\":{\"line\":{\"color\":\"#283442\"}},\"type\":\"scattergl\"}],\"scatter3d\":[{\"type\":\"scatter3d\",\"line\":{\"colorbar\":{\"outlinewidth\":0,\"ticks\":\"\"}},\"marker\":{\"colorbar\":{\"outlinewidth\":0,\"ticks\":\"\"}}}],\"scattermapbox\":[{\"type\":\"scattermapbox\",\"marker\":{\"colorbar\":{\"outlinewidth\":0,\"ticks\":\"\"}}}],\"scatterternary\":[{\"type\":\"scatterternary\",\"marker\":{\"colorbar\":{\"outlinewidth\":0,\"ticks\":\"\"}}}],\"scattercarpet\":[{\"type\":\"scattercarpet\",\"marker\":{\"colorbar\":{\"outlinewidth\":0,\"ticks\":\"\"}}}],\"carpet\":[{\"aaxis\":{\"endlinecolor\":\"#A2B1C6\",\"gridcolor\":\"#506784\",\"linecolor\":\"#506784\",\"minorgridcolor\":\"#506784\",\"startlinecolor\":\"#A2B1C6\"},\"baxis\":{\"endlinecolor\":\"#A2B1C6\",\"gridcolor\":\"#506784\",\"linecolor\":\"#506784\",\"minorgridcolor\":\"#506784\",\"startlinecolor\":\"#A2B1C6\"},\"type\":\"carpet\"}],\"table\":[{\"cells\":{\"fill\":{\"color\":\"#506784\"},\"line\":{\"color\":\"rgb(17,17,17)\"}},\"header\":{\"fill\":{\"color\":\"#2a3f5f\"},\"line\":{\"color\":\"rgb(17,17,17)\"}},\"type\":\"table\"}],\"barpolar\":[{\"marker\":{\"line\":{\"color\":\"rgb(17,17,17)\",\"width\":0.5},\"pattern\":{\"fillmode\":\"overlay\",\"size\":10,\"solidity\":0.2}},\"type\":\"barpolar\"}],\"pie\":[{\"automargin\":true,\"type\":\"pie\"}]},\"layout\":{\"autotypenumbers\":\"strict\",\"colorway\":[\"#636efa\",\"#EF553B\",\"#00cc96\",\"#ab63fa\",\"#FFA15A\",\"#19d3f3\",\"#FF6692\",\"#B6E880\",\"#FF97FF\",\"#FECB52\"],\"font\":{\"color\":\"#f2f5fa\"},\"hovermode\":\"closest\",\"hoverlabel\":{\"align\":\"left\"},\"paper_bgcolor\":\"rgb(17,17,17)\",\"plot_bgcolor\":\"rgb(17,17,17)\",\"polar\":{\"bgcolor\":\"rgb(17,17,17)\",\"angularaxis\":{\"gridcolor\":\"#506784\",\"linecolor\":\"#506784\",\"ticks\":\"\"},\"radialaxis\":{\"gridcolor\":\"#506784\",\"linecolor\":\"#506784\",\"ticks\":\"\"}},\"ternary\":{\"bgcolor\":\"rgb(17,17,17)\",\"aaxis\":{\"gridcolor\":\"#506784\",\"linecolor\":\"#506784\",\"ticks\":\"\"},\"baxis\":{\"gridcolor\":\"#506784\",\"linecolor\":\"#506784\",\"ticks\":\"\"},\"caxis\":{\"gridcolor\":\"#506784\",\"linecolor\":\"#506784\",\"ticks\":\"\"}},\"coloraxis\":{\"colorbar\":{\"outlinewidth\":0,\"ticks\":\"\"}},\"colorscale\":{\"sequential\":[[0.0,\"#0d0887\"],[0.1111111111111111,\"#46039f\"],[0.2222222222222222,\"#7201a8\"],[0.3333333333333333,\"#9c179e\"],[0.4444444444444444,\"#bd3786\"],[0.5555555555555556,\"#d8576b\"],[0.6666666666666666,\"#ed7953\"],[0.7777777777777778,\"#fb9f3a\"],[0.8888888888888888,\"#fdca26\"],[1.0,\"#f0f921\"]],\"sequentialminus\":[[0.0,\"#0d0887\"],[0.1111111111111111,\"#46039f\"],[0.2222222222222222,\"#7201a8\"],[0.3333333333333333,\"#9c179e\"],[0.4444444444444444,\"#bd3786\"],[0.5555555555555556,\"#d8576b\"],[0.6666666666666666,\"#ed7953\"],[0.7777777777777778,\"#fb9f3a\"],[0.8888888888888888,\"#fdca26\"],[1.0,\"#f0f921\"]],\"diverging\":[[0,\"#8e0152\"],[0.1,\"#c51b7d\"],[0.2,\"#de77ae\"],[0.3,\"#f1b6da\"],[0.4,\"#fde0ef\"],[0.5,\"#f7f7f7\"],[0.6,\"#e6f5d0\"],[0.7,\"#b8e186\"],[0.8,\"#7fbc41\"],[0.9,\"#4d9221\"],[1,\"#276419\"]]},\"xaxis\":{\"gridcolor\":\"#283442\",\"linecolor\":\"#506784\",\"ticks\":\"\",\"title\":{\"standoff\":15},\"zerolinecolor\":\"#283442\",\"automargin\":true,\"zerolinewidth\":2},\"yaxis\":{\"gridcolor\":\"#283442\",\"linecolor\":\"#506784\",\"ticks\":\"\",\"title\":{\"standoff\":15},\"zerolinecolor\":\"#283442\",\"automargin\":true,\"zerolinewidth\":2},\"scene\":{\"xaxis\":{\"backgroundcolor\":\"rgb(17,17,17)\",\"gridcolor\":\"#506784\",\"linecolor\":\"#506784\",\"showbackground\":true,\"ticks\":\"\",\"zerolinecolor\":\"#C8D4E3\",\"gridwidth\":2},\"yaxis\":{\"backgroundcolor\":\"rgb(17,17,17)\",\"gridcolor\":\"#506784\",\"linecolor\":\"#506784\",\"showbackground\":true,\"ticks\":\"\",\"zerolinecolor\":\"#C8D4E3\",\"gridwidth\":2},\"zaxis\":{\"backgroundcolor\":\"rgb(17,17,17)\",\"gridcolor\":\"#506784\",\"linecolor\":\"#506784\",\"showbackground\":true,\"ticks\":\"\",\"zerolinecolor\":\"#C8D4E3\",\"gridwidth\":2}},\"shapedefaults\":{\"line\":{\"color\":\"#f2f5fa\"}},\"annotationdefaults\":{\"arrowcolor\":\"#f2f5fa\",\"arrowhead\":0,\"arrowwidth\":1},\"geo\":{\"bgcolor\":\"rgb(17,17,17)\",\"landcolor\":\"rgb(17,17,17)\",\"subunitcolor\":\"#506784\",\"showland\":true,\"showlakes\":true,\"lakecolor\":\"rgb(17,17,17)\"},\"title\":{\"x\":0.05},\"updatemenudefaults\":{\"bgcolor\":\"#506784\",\"borderwidth\":0},\"sliderdefaults\":{\"bgcolor\":\"#C8D4E3\",\"borderwidth\":1,\"bordercolor\":\"rgb(17,17,17)\",\"tickwidth\":0},\"mapbox\":{\"style\":\"dark\"}}},\"xaxis\":{\"anchor\":\"y\",\"domain\":[0.0,0.31999999999999995],\"title\":{\"text\":\"Dimensione array\"}},\"yaxis\":{\"anchor\":\"x\",\"domain\":[0.0,1.0],\"title\":{\"text\":\"Time (s)\"}},\"xaxis2\":{\"anchor\":\"y2\",\"domain\":[0.33999999999999997,0.6599999999999999],\"matches\":\"x\",\"title\":{\"text\":\"Dimensione array\"}},\"yaxis2\":{\"anchor\":\"x2\",\"domain\":[0.0,1.0],\"matches\":\"y\",\"showticklabels\":false},\"xaxis3\":{\"anchor\":\"y3\",\"domain\":[0.6799999999999999,0.9999999999999999],\"matches\":\"x\",\"title\":{\"text\":\"Dimensione array\"}},\"yaxis3\":{\"anchor\":\"x3\",\"domain\":[0.0,1.0],\"matches\":\"y\",\"showticklabels\":false},\"annotations\":[{\"font\":{},\"showarrow\":false,\"text\":\"Tipo di input=random\",\"x\":0.15999999999999998,\"xanchor\":\"center\",\"xref\":\"paper\",\"y\":1.0,\"yanchor\":\"bottom\",\"yref\":\"paper\"},{\"font\":{},\"showarrow\":false,\"text\":\"Tipo di input=sorted\",\"x\":0.49999999999999994,\"xanchor\":\"center\",\"xref\":\"paper\",\"y\":1.0,\"yanchor\":\"bottom\",\"yref\":\"paper\"},{\"font\":{},\"showarrow\":false,\"text\":\"Tipo di input=reversed\",\"x\":0.8399999999999999,\"xanchor\":\"center\",\"xref\":\"paper\",\"y\":1.0,\"yanchor\":\"bottom\",\"yref\":\"paper\"}],\"legend\":{\"title\":{\"text\":\"Algoritmo di ordinamento\"},\"tracegroupgap\":0},\"title\":{\"text\":\"Sorting algorithms\"}},                        {\"responsive\": true}                    ).then(function(){\n                            \nvar gd = document.getElementById('bc309598-13ee-43e1-926c-cd774f534555');\nvar x = new MutationObserver(function (mutations, observer) {{\n        var display = window.getComputedStyle(gd).display;\n        if (!display || display === 'none') {{\n            console.log([gd, 'removed!']);\n            Plotly.purge(gd);\n            observer.disconnect();\n        }}\n}});\n\n// Listen for the removal of the full notebook cells\nvar notebookContainer = gd.closest('#notebook-container');\nif (notebookContainer) {{\n    x.observe(notebookContainer, {childList: true});\n}}\n\n// Listen for the clearing of the current output cell\nvar outputEl = gd.closest('.output');\nif (outputEl) {{\n    x.observe(outputEl, {childList: true});\n}}\n\n                        })                };                });            </script>        </div>"
     },
     "metadata": {},
     "output_type": "display_data"
    }
   ],
   "source": [
    "figure = px.line(df.query(\"num_samples > 0\"),\n",
    "                 x=\"num_samples\",\n",
    "                 y=\"time\",\n",
    "                 color=\"test_type\",\n",
    "                 facet_col=\"input_type\",\n",
    "                 title=\"Sorting algorithms\",\n",
    "                 labels={\"num_samples\": \"Dimensione array\", \"time\": \"Time (s)\", \"test_type\": \"Algoritmo di ordinamento\", \"input_type\": \"Tipo di input\"})\n",
    "figure.show()"
   ],
   "metadata": {
    "collapsed": false
   }
  },
  {
   "cell_type": "markdown",
   "source": [
    "Aumentando il range di generazione dei numeri, il tempo impiegato dal _counting sort_ per ordinare l'array è molto più elevato, in quanto il costo computazionale del _counting sort_ è legato al range di generazione dei numeri; più è elevato il valore massimo dell'array, più il costo computazionale sarà elevato. Notiamo che comunque il tempo impiegato dal _counting sort_ è sempre lineare, aldilà di qualche piccola variazione nell'andamento nell'ordine dei millisecondi, dovuta probabilmente anche al fatto che il tempo impiegato per eseguire il test è molto basso."
   ],
   "metadata": {
    "collapsed": false
   }
  },
  {
   "cell_type": "markdown",
   "source": [
    "#### Array di dimensione 1000 con range da 0 a 1000000"
   ],
   "metadata": {
    "collapsed": false
   }
  },
  {
   "cell_type": "code",
   "execution_count": 199,
   "outputs": [],
   "source": [
    "df = plot_results(1000, 10, (0, 1000000))"
   ],
   "metadata": {
    "collapsed": false
   }
  },
  {
   "cell_type": "code",
   "execution_count": 200,
   "outputs": [
    {
     "data": {
      "application/vnd.plotly.v1+json": {
       "data": [
        {
         "hovertemplate": "Algoritmo di ordinamento=insertion_sort<br>Tipo di input=random<br>Dimensione array=%{x}<br>Time (s)=%{y}<extra></extra>",
         "legendgroup": "insertion_sort",
         "line": {
          "color": "#636efa",
          "dash": "solid"
         },
         "marker": {
          "symbol": "circle"
         },
         "mode": "lines",
         "name": "insertion_sort",
         "orientation": "v",
         "showlegend": true,
         "x": [
          10,
          20,
          30,
          40,
          50,
          60,
          70,
          80,
          90,
          100,
          110,
          120,
          130,
          140,
          150,
          160,
          170,
          180,
          190,
          200,
          210,
          220,
          230,
          240,
          250,
          260,
          270,
          280,
          290,
          300,
          310,
          320,
          330,
          340,
          350,
          360,
          370,
          380,
          390,
          400,
          410,
          420,
          430,
          440,
          450,
          460,
          470,
          480,
          490,
          500,
          510,
          520,
          530,
          540,
          550,
          560,
          570,
          580,
          590,
          600,
          610,
          620,
          630,
          640,
          650,
          660,
          670,
          680,
          690,
          700,
          710,
          720,
          730,
          740,
          750,
          760,
          770,
          780,
          790,
          800,
          810,
          820,
          830,
          840,
          850,
          860,
          870,
          880,
          890,
          900,
          910,
          920,
          930,
          940,
          950,
          960,
          970,
          980,
          990
         ],
         "xaxis": "x",
         "y": [
          5.599984433501959E-6,
          1.3800046872347593E-5,
          2.719997428357601E-5,
          3.91000066883862E-5,
          6.220000796020031E-5,
          9.290000889450312E-5,
          1.2799998512491584E-4,
          1.517999917268753E-4,
          2.125999890267849E-4,
          2.530000056140125E-4,
          2.8089998522773385E-4,
          4.7450000420212746E-4,
          4.759000148624182E-4,
          5.14900020789355E-4,
          7.042000070214272E-4,
          7.000000332482159E-4,
          7.377000292763114E-4,
          7.970000151544809E-4,
          9.175000013783574E-4,
          0.0010085999965667725,
          0.0011458999942988157,
          0.0011418999638408422,
          0.0012102999608032405,
          0.0013768000062555075,
          0.001513299997895956,
          0.0016740999999456108,
          0.0017536000232212245,
          0.0018438000115565956,
          0.0019041000050492585,
          0.0023467999999411404,
          0.0023706000065431,
          0.0025786999613046646,
          0.0028851000242866576,
          0.002900000021327287,
          0.0031698999810032547,
          0.003240999998524785,
          0.0035151999909430742,
          0.0035764999920502305,
          0.0038293999969027936,
          0.004363699990790337,
          0.004467999970074743,
          0.004503400006797165,
          0.004958299978170544,
          0.004839500004891306,
          0.005090599996037781,
          0.005446699971798807,
          0.00635599996894598,
          0.006221699994057417,
          0.006699100020341575,
          0.006787099991925061,
          0.006644799956120551,
          0.007207899994682521,
          0.007163300004322082,
          0.008034400001633912,
          0.008233899949118495,
          0.008326199953444302,
          0.008494899957440794,
          0.00911790004465729,
          0.009394399996381253,
          0.009541199950035661,
          0.010058999992907047,
          0.010561800037976354,
          0.010704200016334653,
          0.01081279997015372,
          0.011686099984217435,
          0.012057900021318346,
          0.012441099970601499,
          0.013003300002310425,
          0.013714600005187094,
          0.013979700044728816,
          0.014006000012159348,
          0.014459700032602996,
          0.014511300018057227,
          0.015955599956214428,
          0.015289800008758903,
          0.015691199980210513,
          0.01690960000269115,
          0.01673030003439635,
          0.017436699999962002,
          0.017452200001571327,
          0.01910839998163283,
          0.01909810001961887,
          0.01917670003604144,
          0.01929930003825575,
          0.02069639996625483,
          0.020769499999005347,
          0.021276800020132214,
          0.022373399988282472,
          0.021063399966806173,
          0.022554000024683774,
          0.022666800010483712,
          0.02373840002110228,
          0.02309400000376627,
          0.023663700034376234,
          0.02379469998413697,
          0.02690600004279986,
          0.029550899984315038,
          0.02792850002879277,
          0.029293700004927814
         ],
         "yaxis": "y",
         "type": "scatter"
        },
        {
         "hovertemplate": "Algoritmo di ordinamento=insertion_sort<br>Tipo di input=sorted<br>Dimensione array=%{x}<br>Time (s)=%{y}<extra></extra>",
         "legendgroup": "insertion_sort",
         "line": {
          "color": "#636efa",
          "dash": "solid"
         },
         "marker": {
          "symbol": "circle"
         },
         "mode": "lines",
         "name": "insertion_sort",
         "orientation": "v",
         "showlegend": false,
         "x": [
          10,
          20,
          30,
          40,
          50,
          60,
          70,
          80,
          90,
          100,
          110,
          120,
          130,
          140,
          150,
          160,
          170,
          180,
          190,
          200,
          210,
          220,
          230,
          240,
          250,
          260,
          270,
          280,
          290,
          300,
          310,
          320,
          330,
          340,
          350,
          360,
          370,
          380,
          390,
          400,
          410,
          420,
          430,
          440,
          450,
          460,
          470,
          480,
          490,
          500,
          510,
          520,
          530,
          540,
          550,
          560,
          570,
          580,
          590,
          600,
          610,
          620,
          630,
          640,
          650,
          660,
          670,
          680,
          690,
          700,
          710,
          720,
          730,
          740,
          750,
          760,
          770,
          780,
          790,
          800,
          810,
          820,
          830,
          840,
          850,
          860,
          870,
          880,
          890,
          900,
          910,
          920,
          930,
          940,
          950,
          960,
          970,
          980,
          990
         ],
         "xaxis": "x2",
         "y": [
          2.300017513334751E-6,
          3.00002284348011E-6,
          4.099973011761904E-6,
          5.200039595365524E-6,
          6.199989002197981E-6,
          7.399998139590025E-6,
          8.400005754083395E-6,
          9.600014891475439E-6,
          1.0699965059757233E-5,
          1.190003240481019E-5,
          1.2999982573091984E-5,
          1.4199991710484028E-5,
          1.5300000086426735E-5,
          1.650000922381878E-5,
          1.7599959392100573E-5,
          1.880002673715353E-5,
          1.9900035113096237E-5,
          2.099998528137803E-5,
          3.7699996028095484E-5,
          2.859998494386673E-5,
          3.739999374374747E-5,
          2.5600020308047533E-5,
          2.659996971487999E-5,
          2.759997732937336E-5,
          2.8799986466765404E-5,
          3.0399998649954796E-5,
          3.200001083314419E-5,
          4.5900000259280205E-5,
          3.4299970138818026E-5,
          3.549997927621007E-5,
          3.6699988413602114E-5,
          3.7999998312443495E-5,
          3.950000973418355E-5,
          4.080001963302493E-5,
          4.279997665435076E-5,
          4.360004095360637E-5,
          4.539999645203352E-5,
          4.640000406652689E-5,
          4.7600013203918934E-5,
          4.8799964133650064E-5,
          5.0200033001601696E-5,
          5.749997217208147E-5,
          5.329999839887023E-5,
          5.460000829771161E-5,
          5.570001667365432E-5,
          5.709996912628412E-5,
          5.8299978263676167E-5,
          5.960004637017846E-5,
          6.0999998822808266E-5,
          6.240000948309898E-5,
          6.370001938194036E-5,
          6.500002928078175E-5,
          6.639998173341155E-5,
          6.75999908708036E-5,
          6.880000000819564E-5,
          7.010000990703702E-5,
          7.14000198058784E-5,
          7.290003122761846E-5,
          7.409998215734959E-5,
          7.539999205619097E-5,
          7.700000423938036E-5,
          7.84999574534595E-5,
          7.979996735230088E-5,
          8.130003698170185E-5,
          8.279999019578099E-5,
          8.410000009462237E-5,
          8.530000923201442E-5,
          8.650001836940646E-5,
          1.0099995415657759E-4,
          8.949998300522566E-5,
          9.06999921426177E-5,
          9.190000128000975E-5,
          9.329995373263955E-5,
          9.47999651543796E-5,
          9.649997809901834E-5,
          9.789998875930905E-5,
          9.919999865815043E-5,
          1.0060000931844115E-4,
          1.0189996100962162E-4,
          1.0279996786266565E-4,
          1.039999770000577E-4,
          1.0539998766034842E-4,
          1.0679999832063913E-4,
          1.0810000821948051E-4,
          1.094000181183219E-4,
          1.1090002954006195E-4,
          1.1219998123124242E-4,
          1.1399999493733048E-4,
          1.1490000179037452E-4,
          1.162000116892159E-4,
          1.1850002920255065E-4,
          1.18900032248348E-4,
          1.2019998393952847E-4,
          1.221999991685152E-4,
          1.2290000449866056E-4,
          1.2430001515895128E-4,
          1.2559996685013175E-4,
          1.2690003495663404E-4,
          1.2839998817071319E-4
         ],
         "yaxis": "y2",
         "type": "scatter"
        },
        {
         "hovertemplate": "Algoritmo di ordinamento=insertion_sort<br>Tipo di input=reversed<br>Dimensione array=%{x}<br>Time (s)=%{y}<extra></extra>",
         "legendgroup": "insertion_sort",
         "line": {
          "color": "#636efa",
          "dash": "solid"
         },
         "marker": {
          "symbol": "circle"
         },
         "mode": "lines",
         "name": "insertion_sort",
         "orientation": "v",
         "showlegend": false,
         "x": [
          10,
          20,
          30,
          40,
          50,
          60,
          70,
          80,
          90,
          100,
          110,
          120,
          130,
          140,
          150,
          160,
          170,
          180,
          190,
          200,
          210,
          220,
          230,
          240,
          250,
          260,
          270,
          280,
          290,
          300,
          310,
          320,
          330,
          340,
          350,
          360,
          370,
          380,
          390,
          400,
          410,
          420,
          430,
          440,
          450,
          460,
          470,
          480,
          490,
          500,
          510,
          520,
          530,
          540,
          550,
          560,
          570,
          580,
          590,
          600,
          610,
          620,
          630,
          640,
          650,
          660,
          670,
          680,
          690,
          700,
          710,
          720,
          730,
          740,
          750,
          760,
          770,
          780,
          790,
          800,
          810,
          820,
          830,
          840,
          850,
          860,
          870,
          880,
          890,
          900,
          910,
          920,
          930,
          940,
          950,
          960,
          970,
          980,
          990
         ],
         "xaxis": "x3",
         "y": [
          7.200054824352264E-6,
          2.220005262643099E-5,
          4.829996032640338E-5,
          8.47000046633184E-5,
          1.3120000949129462E-4,
          2.267000381834805E-4,
          2.571999793872237E-4,
          3.7209998117759824E-4,
          4.2319996282458305E-4,
          5.212000105530024E-4,
          6.278000073507428E-4,
          7.485999958589673E-4,
          9.118000161834061E-4,
          0.0010226999875158072,
          0.0011678999871946871,
          0.0013289999915286899,
          0.0015077999560162425,
          0.001693099969998002,
          0.0018983000190928578,
          0.00206979998620227,
          0.0026424999814480543,
          0.002577600011136383,
          0.0027378000086173415,
          0.0030094999819993973,
          0.0032500000088475645,
          0.003582799981813878,
          0.0038170000188983977,
          0.004064999986439943,
          0.004385100037325174,
          0.005167500057723373,
          0.004928199981804937,
          0.005290199944283813,
          0.005594100046437234,
          0.006181600037962198,
          0.006311099976301193,
          0.007280100020579994,
          0.0081783999921754,
          0.007446100004017353,
          0.007842999999411404,
          0.008532900013960898,
          0.008699400001205504,
          0.009454999992158264,
          0.00963330001104623,
          0.011925900005735457,
          0.010702100000344217,
          0.011036299983970821,
          0.012116400001104921,
          0.01238459994783625,
          0.013867700006812811,
          0.014279199996963143,
          0.01487670000642538,
          0.016571999993175268,
          0.014982799999415874,
          0.016469999973196536,
          0.01600890001282096,
          0.017424700025003403,
          0.017571299977134913,
          0.018345999997109175,
          0.018509000015910715,
          0.01905220001935959,
          0.01988450001226738,
          0.02057479997165501,
          0.021121199999470264,
          0.02191740000853315,
          0.022673800005577505,
          0.023510399973019958,
          0.023880799999460578,
          0.02506730001186952,
          0.025856099964585155,
          0.025213600019924343,
          0.02578569995239377,
          0.026736099971458316,
          0.027509999985340983,
          0.028550199989695102,
          0.029188300017267466,
          0.030091699969489127,
          0.031028199999127537,
          0.03185709996614605,
          0.032544099958613515,
          0.03358539997134358,
          0.034283699991647154,
          0.035074599960353225,
          0.036064499989151955,
          0.03721919999225065,
          0.03709530003834516,
          0.03895900002680719,
          0.04171650001080707,
          0.042875600047409534,
          0.04360650002490729,
          0.0446714999852702,
          0.04830179997952655,
          0.0522060000221245,
          0.048468399967532605,
          0.05240490002324805,
          0.057925399974919856,
          0.07031899999128655,
          0.0564509000396356,
          0.052197800017893314,
          0.0731231999816373
         ],
         "yaxis": "y3",
         "type": "scatter"
        },
        {
         "hovertemplate": "Algoritmo di ordinamento=counting_sort<br>Tipo di input=random<br>Dimensione array=%{x}<br>Time (s)=%{y}<extra></extra>",
         "legendgroup": "counting_sort",
         "line": {
          "color": "#EF553B",
          "dash": "solid"
         },
         "marker": {
          "symbol": "circle"
         },
         "mode": "lines",
         "name": "counting_sort",
         "orientation": "v",
         "showlegend": true,
         "x": [
          10,
          20,
          30,
          40,
          50,
          60,
          70,
          80,
          90,
          100,
          110,
          120,
          130,
          140,
          150,
          160,
          170,
          180,
          190,
          200,
          210,
          220,
          230,
          240,
          250,
          260,
          270,
          280,
          290,
          300,
          310,
          320,
          330,
          340,
          350,
          360,
          370,
          380,
          390,
          400,
          410,
          420,
          430,
          440,
          450,
          460,
          470,
          480,
          490,
          500,
          510,
          520,
          530,
          540,
          550,
          560,
          570,
          580,
          590,
          600,
          610,
          620,
          630,
          640,
          650,
          660,
          670,
          680,
          690,
          700,
          710,
          720,
          730,
          740,
          750,
          760,
          770,
          780,
          790,
          800,
          810,
          820,
          830,
          840,
          850,
          860,
          870,
          880,
          890,
          900,
          910,
          920,
          930,
          940,
          950,
          960,
          970,
          980,
          990
         ],
         "xaxis": "x",
         "y": [
          0.08909889997448772,
          0.0875448000151664,
          0.10308400000212714,
          0.08421020000241697,
          0.09168569999746978,
          0.08665410004323348,
          0.0903004000429064,
          0.08182530000340194,
          0.08844319998752326,
          0.08732160000363365,
          0.09001260000513867,
          0.08046520000789315,
          0.09519239998189732,
          0.0823934999643825,
          0.0851744000101462,
          0.09325640002498403,
          0.09910380002111197,
          0.09125789999961853,
          0.09317780000856146,
          0.09243279998190701,
          0.09628060000250116,
          0.08458339999197051,
          0.09097279998240992,
          0.09755120001500472,
          0.11182769999140874,
          0.08977319998666644,
          0.09051730000646785,
          0.09170230000745505,
          0.09497510001529008,
          0.09870899998350069,
          0.10459529998479411,
          0.1050987999769859,
          0.12147999997250736,
          0.09083369997097179,
          0.11182230000849813,
          0.09011809999356046,
          0.08991979999700561,
          0.09230819996446371,
          0.09410610003396869,
          0.1112489000079222,
          0.09414800000377,
          0.10079580004094169,
          0.09950429998571053,
          0.1007615000125952,
          0.10185600002296269,
          0.09407650004141033,
          0.0973985999589786,
          0.09433570003602654,
          0.09371479996480048,
          0.09577840002020821,
          0.11055319994920865,
          0.13530040002660826,
          0.09889019996626303,
          0.10050550004234537,
          0.09651600004872307,
          0.09952560003148392,
          0.10124970000470057,
          0.09928129997570068,
          0.09812249999959022,
          0.10037180001381785,
          0.09633239998947829,
          0.09802220005076379,
          0.09385499998461455,
          0.10301060002529994,
          0.0964729999541305,
          0.10298090003198013,
          0.09760749997803941,
          0.09614300000248477,
          0.09841360000427812,
          0.10068309999769554,
          0.0980832000495866,
          0.10205159999895841,
          0.14123750000726432,
          0.09657919994788244,
          0.09366199997020885,
          0.0964803000097163,
          0.0972015000297688,
          0.09799109998857602,
          0.09681740001542494,
          0.09554160002153367,
          0.09823290002532303,
          0.09723969997139648,
          0.09709689998999238,
          0.09427790000336245,
          0.09501039999304339,
          0.09451750002335757,
          0.09787099994719028,
          0.09937630000058562,
          0.09422959998482838,
          0.10444689996074885,
          0.09993570001097396,
          0.10042459995020181,
          0.09969509998336434,
          0.10606150003150105,
          0.0976533000357449,
          0.09637149999616668,
          0.09612050000578165,
          0.10966720001306385,
          0.10047950001899153
         ],
         "yaxis": "y",
         "type": "scatter"
        },
        {
         "hovertemplate": "Algoritmo di ordinamento=counting_sort<br>Tipo di input=sorted<br>Dimensione array=%{x}<br>Time (s)=%{y}<extra></extra>",
         "legendgroup": "counting_sort",
         "line": {
          "color": "#EF553B",
          "dash": "solid"
         },
         "marker": {
          "symbol": "circle"
         },
         "mode": "lines",
         "name": "counting_sort",
         "orientation": "v",
         "showlegend": false,
         "x": [
          10,
          20,
          30,
          40,
          50,
          60,
          70,
          80,
          90,
          100,
          110,
          120,
          130,
          140,
          150,
          160,
          170,
          180,
          190,
          200,
          210,
          220,
          230,
          240,
          250,
          260,
          270,
          280,
          290,
          300,
          310,
          320,
          330,
          340,
          350,
          360,
          370,
          380,
          390,
          400,
          410,
          420,
          430,
          440,
          450,
          460,
          470,
          480,
          490,
          500,
          510,
          520,
          530,
          540,
          550,
          560,
          570,
          580,
          590,
          600,
          610,
          620,
          630,
          640,
          650,
          660,
          670,
          680,
          690,
          700,
          710,
          720,
          730,
          740,
          750,
          760,
          770,
          780,
          790,
          800,
          810,
          820,
          830,
          840,
          850,
          860,
          870,
          880,
          890,
          900,
          910,
          920,
          930,
          940,
          950,
          960,
          970,
          980,
          990
         ],
         "xaxis": "x2",
         "y": [
          0.08257009997032583,
          0.08381169999483973,
          0.08298210002249107,
          0.08132100000511855,
          0.0860611000098288,
          0.08387769997352734,
          0.09781030000885949,
          0.08395489997928962,
          0.08466329996008426,
          0.09126650000689551,
          0.08795519999694079,
          0.08484819997102022,
          0.08356739999726415,
          0.08735029998933896,
          0.08711329998914152,
          0.08494949998566881,
          0.08731919998535886,
          0.08757019997574389,
          0.08880830003181472,
          0.08649690001038834,
          0.08887809998122975,
          0.0875252999830991,
          0.1014312999905087,
          0.08480980002786964,
          0.08973120001610368,
          0.0893563999561593,
          0.09075070003746077,
          0.09075559995835647,
          0.09476080001331866,
          0.09385209996253252,
          0.09054160001687706,
          0.08884909999324009,
          0.09110999997938052,
          0.09830179996788502,
          0.09001210000133142,
          0.09342769999057055,
          0.0929935000021942,
          0.09330609999597073,
          0.09084249997977167,
          0.09457609994569793,
          0.09463569999206811,
          0.09557760000461712,
          0.09388930001296103,
          0.09501829999499023,
          0.09361619997071102,
          0.10017349995905533,
          0.10478779999539256,
          0.09271019999869168,
          0.09521589998621494,
          0.10032170003978536,
          0.09378930000821128,
          0.09528690000297502,
          0.1018243000144139,
          0.09489800001028925,
          0.09504739998374134,
          0.0966723000165075,
          0.0972874999861233,
          0.09491260000504553,
          0.09175040002446622,
          0.09600079996744171,
          0.10107229999266565,
          0.09882820001803339,
          0.09478759998455644,
          0.09652139997342601,
          0.14434940001228824,
          0.09772879997035488,
          0.09342689998447895,
          0.09978669998236,
          0.09665819996735081,
          0.09665370004950091,
          0.09605310001643375,
          0.09774440003093332,
          0.09476100001484156,
          0.09648790000937879,
          0.09822340001119301,
          0.09953579999273643,
          0.09980969998287037,
          0.09672929998487234,
          0.10018100001616403,
          0.10210650000954047,
          0.10118100000545382,
          0.09654689999297261,
          0.09578289999626577,
          0.09759060002397746,
          0.09701790002873167,
          0.11026429996127263,
          0.09764829999767244,
          0.09912099997745827,
          0.09622359997592866,
          0.09649470000294968,
          0.10263790003955364,
          0.09807879995787516,
          0.0952324999962002,
          0.09737859998131171,
          0.09763319999910891,
          0.09865940001327544,
          0.1040822000359185,
          0.10070860001724213,
          0.10318419995019212
         ],
         "yaxis": "y2",
         "type": "scatter"
        },
        {
         "hovertemplate": "Algoritmo di ordinamento=counting_sort<br>Tipo di input=reversed<br>Dimensione array=%{x}<br>Time (s)=%{y}<extra></extra>",
         "legendgroup": "counting_sort",
         "line": {
          "color": "#EF553B",
          "dash": "solid"
         },
         "marker": {
          "symbol": "circle"
         },
         "mode": "lines",
         "name": "counting_sort",
         "orientation": "v",
         "showlegend": false,
         "x": [
          10,
          20,
          30,
          40,
          50,
          60,
          70,
          80,
          90,
          100,
          110,
          120,
          130,
          140,
          150,
          160,
          170,
          180,
          190,
          200,
          210,
          220,
          230,
          240,
          250,
          260,
          270,
          280,
          290,
          300,
          310,
          320,
          330,
          340,
          350,
          360,
          370,
          380,
          390,
          400,
          410,
          420,
          430,
          440,
          450,
          460,
          470,
          480,
          490,
          500,
          510,
          520,
          530,
          540,
          550,
          560,
          570,
          580,
          590,
          600,
          610,
          620,
          630,
          640,
          650,
          660,
          670,
          680,
          690,
          700,
          710,
          720,
          730,
          740,
          750,
          760,
          770,
          780,
          790,
          800,
          810,
          820,
          830,
          840,
          850,
          860,
          870,
          880,
          890,
          900,
          910,
          920,
          930,
          940,
          950,
          960,
          970,
          980,
          990
         ],
         "xaxis": "x3",
         "y": [
          0.0911389000248164,
          0.08525069995084777,
          0.0804278000141494,
          0.08363990002544597,
          0.0883031000266783,
          0.08001259999582544,
          0.09332179999910295,
          0.09233779995702207,
          0.08262050000485033,
          0.08842889999505132,
          0.08953189995372668,
          0.09400139999343082,
          0.10886680003022775,
          0.09654749999754131,
          0.09492070000851527,
          0.08941469999263063,
          0.10196179995546117,
          0.09578030003467575,
          0.09235809999518096,
          0.10077249997993931,
          0.09605789999477565,
          0.08988580002915114,
          0.0893443999812007,
          0.10616189998108894,
          0.10454329999629408,
          0.0863039999967441,
          0.09044669999275357,
          0.08732890000101179,
          0.09152610000455752,
          0.09172009996837005,
          0.0923546000267379,
          0.09338690002914518,
          0.09234309999737889,
          0.09297009999863803,
          0.09351199999218807,
          0.09417009999742731,
          0.09634469996672124,
          0.09363279998069629,
          0.09493299998575822,
          0.09490620001452044,
          0.0901519000180997,
          0.09580090001691133,
          0.09526829997776076,
          0.1149540999904275,
          0.09562509995885193,
          0.09619969996856526,
          0.09769399999640882,
          0.1045799000421539,
          0.09732000000076368,
          0.09503680001944304,
          0.0968210999853909,
          0.09647419996326789,
          0.09734579996438697,
          0.09770209999987856,
          0.10368479997850955,
          0.10060150001663715,
          0.09908800001721829,
          0.10751669999444857,
          0.09897679998539388,
          0.0933165000169538,
          0.0966914999880828,
          0.09640759998001158,
          0.09651750000193715,
          0.09717359999194741,
          0.09543960000155494,
          0.09339980001095682,
          0.09771840000757948,
          0.09612959995865822,
          0.09763599996222183,
          0.09836439997889102,
          0.0980750999879092,
          0.09310060000279918,
          0.09742140001617372,
          0.09312139998655766,
          0.09807230002479628,
          0.09707910002907738,
          0.09887450002133846,
          0.09849199996097013,
          0.09779169998364523,
          0.09603570000035688,
          0.09857349999947473,
          0.09629479999421164,
          0.09619059995748103,
          0.10168140003224835,
          0.09794710000278428,
          0.09637739998288453,
          0.10162059997674078,
          0.09639209997840226,
          0.10053579998202622,
          0.09799949999433011,
          0.09956040000542998,
          0.10145389998797327,
          0.10166829999070615,
          0.09985420003067702,
          0.09633999998914078,
          0.09869999997317791,
          0.09974980005063117,
          0.09935059997951612,
          0.09928429999854416
         ],
         "yaxis": "y3",
         "type": "scatter"
        }
       ],
       "layout": {
        "template": {
         "data": {
          "histogram2dcontour": [
           {
            "type": "histogram2dcontour",
            "colorbar": {
             "outlinewidth": 0,
             "ticks": ""
            },
            "colorscale": [
             [
              0.0,
              "#0d0887"
             ],
             [
              0.1111111111111111,
              "#46039f"
             ],
             [
              0.2222222222222222,
              "#7201a8"
             ],
             [
              0.3333333333333333,
              "#9c179e"
             ],
             [
              0.4444444444444444,
              "#bd3786"
             ],
             [
              0.5555555555555556,
              "#d8576b"
             ],
             [
              0.6666666666666666,
              "#ed7953"
             ],
             [
              0.7777777777777778,
              "#fb9f3a"
             ],
             [
              0.8888888888888888,
              "#fdca26"
             ],
             [
              1.0,
              "#f0f921"
             ]
            ]
           }
          ],
          "choropleth": [
           {
            "type": "choropleth",
            "colorbar": {
             "outlinewidth": 0,
             "ticks": ""
            }
           }
          ],
          "histogram2d": [
           {
            "type": "histogram2d",
            "colorbar": {
             "outlinewidth": 0,
             "ticks": ""
            },
            "colorscale": [
             [
              0.0,
              "#0d0887"
             ],
             [
              0.1111111111111111,
              "#46039f"
             ],
             [
              0.2222222222222222,
              "#7201a8"
             ],
             [
              0.3333333333333333,
              "#9c179e"
             ],
             [
              0.4444444444444444,
              "#bd3786"
             ],
             [
              0.5555555555555556,
              "#d8576b"
             ],
             [
              0.6666666666666666,
              "#ed7953"
             ],
             [
              0.7777777777777778,
              "#fb9f3a"
             ],
             [
              0.8888888888888888,
              "#fdca26"
             ],
             [
              1.0,
              "#f0f921"
             ]
            ]
           }
          ],
          "heatmap": [
           {
            "type": "heatmap",
            "colorbar": {
             "outlinewidth": 0,
             "ticks": ""
            },
            "colorscale": [
             [
              0.0,
              "#0d0887"
             ],
             [
              0.1111111111111111,
              "#46039f"
             ],
             [
              0.2222222222222222,
              "#7201a8"
             ],
             [
              0.3333333333333333,
              "#9c179e"
             ],
             [
              0.4444444444444444,
              "#bd3786"
             ],
             [
              0.5555555555555556,
              "#d8576b"
             ],
             [
              0.6666666666666666,
              "#ed7953"
             ],
             [
              0.7777777777777778,
              "#fb9f3a"
             ],
             [
              0.8888888888888888,
              "#fdca26"
             ],
             [
              1.0,
              "#f0f921"
             ]
            ]
           }
          ],
          "heatmapgl": [
           {
            "type": "heatmapgl",
            "colorbar": {
             "outlinewidth": 0,
             "ticks": ""
            },
            "colorscale": [
             [
              0.0,
              "#0d0887"
             ],
             [
              0.1111111111111111,
              "#46039f"
             ],
             [
              0.2222222222222222,
              "#7201a8"
             ],
             [
              0.3333333333333333,
              "#9c179e"
             ],
             [
              0.4444444444444444,
              "#bd3786"
             ],
             [
              0.5555555555555556,
              "#d8576b"
             ],
             [
              0.6666666666666666,
              "#ed7953"
             ],
             [
              0.7777777777777778,
              "#fb9f3a"
             ],
             [
              0.8888888888888888,
              "#fdca26"
             ],
             [
              1.0,
              "#f0f921"
             ]
            ]
           }
          ],
          "contourcarpet": [
           {
            "type": "contourcarpet",
            "colorbar": {
             "outlinewidth": 0,
             "ticks": ""
            }
           }
          ],
          "contour": [
           {
            "type": "contour",
            "colorbar": {
             "outlinewidth": 0,
             "ticks": ""
            },
            "colorscale": [
             [
              0.0,
              "#0d0887"
             ],
             [
              0.1111111111111111,
              "#46039f"
             ],
             [
              0.2222222222222222,
              "#7201a8"
             ],
             [
              0.3333333333333333,
              "#9c179e"
             ],
             [
              0.4444444444444444,
              "#bd3786"
             ],
             [
              0.5555555555555556,
              "#d8576b"
             ],
             [
              0.6666666666666666,
              "#ed7953"
             ],
             [
              0.7777777777777778,
              "#fb9f3a"
             ],
             [
              0.8888888888888888,
              "#fdca26"
             ],
             [
              1.0,
              "#f0f921"
             ]
            ]
           }
          ],
          "surface": [
           {
            "type": "surface",
            "colorbar": {
             "outlinewidth": 0,
             "ticks": ""
            },
            "colorscale": [
             [
              0.0,
              "#0d0887"
             ],
             [
              0.1111111111111111,
              "#46039f"
             ],
             [
              0.2222222222222222,
              "#7201a8"
             ],
             [
              0.3333333333333333,
              "#9c179e"
             ],
             [
              0.4444444444444444,
              "#bd3786"
             ],
             [
              0.5555555555555556,
              "#d8576b"
             ],
             [
              0.6666666666666666,
              "#ed7953"
             ],
             [
              0.7777777777777778,
              "#fb9f3a"
             ],
             [
              0.8888888888888888,
              "#fdca26"
             ],
             [
              1.0,
              "#f0f921"
             ]
            ]
           }
          ],
          "mesh3d": [
           {
            "type": "mesh3d",
            "colorbar": {
             "outlinewidth": 0,
             "ticks": ""
            }
           }
          ],
          "scatter": [
           {
            "marker": {
             "line": {
              "color": "#283442"
             }
            },
            "type": "scatter"
           }
          ],
          "parcoords": [
           {
            "type": "parcoords",
            "line": {
             "colorbar": {
              "outlinewidth": 0,
              "ticks": ""
             }
            }
           }
          ],
          "scatterpolargl": [
           {
            "type": "scatterpolargl",
            "marker": {
             "colorbar": {
              "outlinewidth": 0,
              "ticks": ""
             }
            }
           }
          ],
          "bar": [
           {
            "error_x": {
             "color": "#f2f5fa"
            },
            "error_y": {
             "color": "#f2f5fa"
            },
            "marker": {
             "line": {
              "color": "rgb(17,17,17)",
              "width": 0.5
             },
             "pattern": {
              "fillmode": "overlay",
              "size": 10,
              "solidity": 0.2
             }
            },
            "type": "bar"
           }
          ],
          "scattergeo": [
           {
            "type": "scattergeo",
            "marker": {
             "colorbar": {
              "outlinewidth": 0,
              "ticks": ""
             }
            }
           }
          ],
          "scatterpolar": [
           {
            "type": "scatterpolar",
            "marker": {
             "colorbar": {
              "outlinewidth": 0,
              "ticks": ""
             }
            }
           }
          ],
          "histogram": [
           {
            "marker": {
             "pattern": {
              "fillmode": "overlay",
              "size": 10,
              "solidity": 0.2
             }
            },
            "type": "histogram"
           }
          ],
          "scattergl": [
           {
            "marker": {
             "line": {
              "color": "#283442"
             }
            },
            "type": "scattergl"
           }
          ],
          "scatter3d": [
           {
            "type": "scatter3d",
            "line": {
             "colorbar": {
              "outlinewidth": 0,
              "ticks": ""
             }
            },
            "marker": {
             "colorbar": {
              "outlinewidth": 0,
              "ticks": ""
             }
            }
           }
          ],
          "scattermapbox": [
           {
            "type": "scattermapbox",
            "marker": {
             "colorbar": {
              "outlinewidth": 0,
              "ticks": ""
             }
            }
           }
          ],
          "scatterternary": [
           {
            "type": "scatterternary",
            "marker": {
             "colorbar": {
              "outlinewidth": 0,
              "ticks": ""
             }
            }
           }
          ],
          "scattercarpet": [
           {
            "type": "scattercarpet",
            "marker": {
             "colorbar": {
              "outlinewidth": 0,
              "ticks": ""
             }
            }
           }
          ],
          "carpet": [
           {
            "aaxis": {
             "endlinecolor": "#A2B1C6",
             "gridcolor": "#506784",
             "linecolor": "#506784",
             "minorgridcolor": "#506784",
             "startlinecolor": "#A2B1C6"
            },
            "baxis": {
             "endlinecolor": "#A2B1C6",
             "gridcolor": "#506784",
             "linecolor": "#506784",
             "minorgridcolor": "#506784",
             "startlinecolor": "#A2B1C6"
            },
            "type": "carpet"
           }
          ],
          "table": [
           {
            "cells": {
             "fill": {
              "color": "#506784"
             },
             "line": {
              "color": "rgb(17,17,17)"
             }
            },
            "header": {
             "fill": {
              "color": "#2a3f5f"
             },
             "line": {
              "color": "rgb(17,17,17)"
             }
            },
            "type": "table"
           }
          ],
          "barpolar": [
           {
            "marker": {
             "line": {
              "color": "rgb(17,17,17)",
              "width": 0.5
             },
             "pattern": {
              "fillmode": "overlay",
              "size": 10,
              "solidity": 0.2
             }
            },
            "type": "barpolar"
           }
          ],
          "pie": [
           {
            "automargin": true,
            "type": "pie"
           }
          ]
         },
         "layout": {
          "autotypenumbers": "strict",
          "colorway": [
           "#636efa",
           "#EF553B",
           "#00cc96",
           "#ab63fa",
           "#FFA15A",
           "#19d3f3",
           "#FF6692",
           "#B6E880",
           "#FF97FF",
           "#FECB52"
          ],
          "font": {
           "color": "#f2f5fa"
          },
          "hovermode": "closest",
          "hoverlabel": {
           "align": "left"
          },
          "paper_bgcolor": "rgb(17,17,17)",
          "plot_bgcolor": "rgb(17,17,17)",
          "polar": {
           "bgcolor": "rgb(17,17,17)",
           "angularaxis": {
            "gridcolor": "#506784",
            "linecolor": "#506784",
            "ticks": ""
           },
           "radialaxis": {
            "gridcolor": "#506784",
            "linecolor": "#506784",
            "ticks": ""
           }
          },
          "ternary": {
           "bgcolor": "rgb(17,17,17)",
           "aaxis": {
            "gridcolor": "#506784",
            "linecolor": "#506784",
            "ticks": ""
           },
           "baxis": {
            "gridcolor": "#506784",
            "linecolor": "#506784",
            "ticks": ""
           },
           "caxis": {
            "gridcolor": "#506784",
            "linecolor": "#506784",
            "ticks": ""
           }
          },
          "coloraxis": {
           "colorbar": {
            "outlinewidth": 0,
            "ticks": ""
           }
          },
          "colorscale": {
           "sequential": [
            [
             0.0,
             "#0d0887"
            ],
            [
             0.1111111111111111,
             "#46039f"
            ],
            [
             0.2222222222222222,
             "#7201a8"
            ],
            [
             0.3333333333333333,
             "#9c179e"
            ],
            [
             0.4444444444444444,
             "#bd3786"
            ],
            [
             0.5555555555555556,
             "#d8576b"
            ],
            [
             0.6666666666666666,
             "#ed7953"
            ],
            [
             0.7777777777777778,
             "#fb9f3a"
            ],
            [
             0.8888888888888888,
             "#fdca26"
            ],
            [
             1.0,
             "#f0f921"
            ]
           ],
           "sequentialminus": [
            [
             0.0,
             "#0d0887"
            ],
            [
             0.1111111111111111,
             "#46039f"
            ],
            [
             0.2222222222222222,
             "#7201a8"
            ],
            [
             0.3333333333333333,
             "#9c179e"
            ],
            [
             0.4444444444444444,
             "#bd3786"
            ],
            [
             0.5555555555555556,
             "#d8576b"
            ],
            [
             0.6666666666666666,
             "#ed7953"
            ],
            [
             0.7777777777777778,
             "#fb9f3a"
            ],
            [
             0.8888888888888888,
             "#fdca26"
            ],
            [
             1.0,
             "#f0f921"
            ]
           ],
           "diverging": [
            [
             0,
             "#8e0152"
            ],
            [
             0.1,
             "#c51b7d"
            ],
            [
             0.2,
             "#de77ae"
            ],
            [
             0.3,
             "#f1b6da"
            ],
            [
             0.4,
             "#fde0ef"
            ],
            [
             0.5,
             "#f7f7f7"
            ],
            [
             0.6,
             "#e6f5d0"
            ],
            [
             0.7,
             "#b8e186"
            ],
            [
             0.8,
             "#7fbc41"
            ],
            [
             0.9,
             "#4d9221"
            ],
            [
             1,
             "#276419"
            ]
           ]
          },
          "xaxis": {
           "gridcolor": "#283442",
           "linecolor": "#506784",
           "ticks": "",
           "title": {
            "standoff": 15
           },
           "zerolinecolor": "#283442",
           "automargin": true,
           "zerolinewidth": 2
          },
          "yaxis": {
           "gridcolor": "#283442",
           "linecolor": "#506784",
           "ticks": "",
           "title": {
            "standoff": 15
           },
           "zerolinecolor": "#283442",
           "automargin": true,
           "zerolinewidth": 2
          },
          "scene": {
           "xaxis": {
            "backgroundcolor": "rgb(17,17,17)",
            "gridcolor": "#506784",
            "linecolor": "#506784",
            "showbackground": true,
            "ticks": "",
            "zerolinecolor": "#C8D4E3",
            "gridwidth": 2
           },
           "yaxis": {
            "backgroundcolor": "rgb(17,17,17)",
            "gridcolor": "#506784",
            "linecolor": "#506784",
            "showbackground": true,
            "ticks": "",
            "zerolinecolor": "#C8D4E3",
            "gridwidth": 2
           },
           "zaxis": {
            "backgroundcolor": "rgb(17,17,17)",
            "gridcolor": "#506784",
            "linecolor": "#506784",
            "showbackground": true,
            "ticks": "",
            "zerolinecolor": "#C8D4E3",
            "gridwidth": 2
           }
          },
          "shapedefaults": {
           "line": {
            "color": "#f2f5fa"
           }
          },
          "annotationdefaults": {
           "arrowcolor": "#f2f5fa",
           "arrowhead": 0,
           "arrowwidth": 1
          },
          "geo": {
           "bgcolor": "rgb(17,17,17)",
           "landcolor": "rgb(17,17,17)",
           "subunitcolor": "#506784",
           "showland": true,
           "showlakes": true,
           "lakecolor": "rgb(17,17,17)"
          },
          "title": {
           "x": 0.05
          },
          "updatemenudefaults": {
           "bgcolor": "#506784",
           "borderwidth": 0
          },
          "sliderdefaults": {
           "bgcolor": "#C8D4E3",
           "borderwidth": 1,
           "bordercolor": "rgb(17,17,17)",
           "tickwidth": 0
          },
          "mapbox": {
           "style": "dark"
          }
         }
        },
        "xaxis": {
         "anchor": "y",
         "domain": [
          0.0,
          0.31999999999999995
         ],
         "title": {
          "text": "Dimensione array"
         }
        },
        "yaxis": {
         "anchor": "x",
         "domain": [
          0.0,
          1.0
         ],
         "title": {
          "text": "Time (s)"
         }
        },
        "xaxis2": {
         "anchor": "y2",
         "domain": [
          0.33999999999999997,
          0.6599999999999999
         ],
         "matches": "x",
         "title": {
          "text": "Dimensione array"
         }
        },
        "yaxis2": {
         "anchor": "x2",
         "domain": [
          0.0,
          1.0
         ],
         "matches": "y",
         "showticklabels": false
        },
        "xaxis3": {
         "anchor": "y3",
         "domain": [
          0.6799999999999999,
          0.9999999999999999
         ],
         "matches": "x",
         "title": {
          "text": "Dimensione array"
         }
        },
        "yaxis3": {
         "anchor": "x3",
         "domain": [
          0.0,
          1.0
         ],
         "matches": "y",
         "showticklabels": false
        },
        "annotations": [
         {
          "font": {},
          "showarrow": false,
          "text": "Tipo di input=random",
          "x": 0.15999999999999998,
          "xanchor": "center",
          "xref": "paper",
          "y": 1.0,
          "yanchor": "bottom",
          "yref": "paper"
         },
         {
          "font": {},
          "showarrow": false,
          "text": "Tipo di input=sorted",
          "x": 0.49999999999999994,
          "xanchor": "center",
          "xref": "paper",
          "y": 1.0,
          "yanchor": "bottom",
          "yref": "paper"
         },
         {
          "font": {},
          "showarrow": false,
          "text": "Tipo di input=reversed",
          "x": 0.8399999999999999,
          "xanchor": "center",
          "xref": "paper",
          "y": 1.0,
          "yanchor": "bottom",
          "yref": "paper"
         }
        ],
        "legend": {
         "title": {
          "text": "Algoritmo di ordinamento"
         },
         "tracegroupgap": 0
        },
        "title": {
         "text": "Sorting algorithms"
        }
       },
       "config": {
        "plotlyServerURL": "https://plot.ly"
       }
      },
      "text/html": "<div>                            <div id=\"f73a769b-de48-4e98-bebd-74f78330be6e\" class=\"plotly-graph-div\" style=\"height:525px; width:100%;\"></div>            <script type=\"text/javascript\">                require([\"plotly\"], function(Plotly) {                    window.PLOTLYENV=window.PLOTLYENV || {};                                    if (document.getElementById(\"f73a769b-de48-4e98-bebd-74f78330be6e\")) {                    Plotly.newPlot(                        \"f73a769b-de48-4e98-bebd-74f78330be6e\",                        [{\"hovertemplate\":\"Algoritmo di ordinamento=insertion_sort<br>Tipo di input=random<br>Dimensione array=%{x}<br>Time (s)=%{y}<extra></extra>\",\"legendgroup\":\"insertion_sort\",\"line\":{\"color\":\"#636efa\",\"dash\":\"solid\"},\"marker\":{\"symbol\":\"circle\"},\"mode\":\"lines\",\"name\":\"insertion_sort\",\"orientation\":\"v\",\"showlegend\":true,\"x\":[10,20,30,40,50,60,70,80,90,100,110,120,130,140,150,160,170,180,190,200,210,220,230,240,250,260,270,280,290,300,310,320,330,340,350,360,370,380,390,400,410,420,430,440,450,460,470,480,490,500,510,520,530,540,550,560,570,580,590,600,610,620,630,640,650,660,670,680,690,700,710,720,730,740,750,760,770,780,790,800,810,820,830,840,850,860,870,880,890,900,910,920,930,940,950,960,970,980,990],\"xaxis\":\"x\",\"y\":[5.599984433501959e-06,1.3800046872347593e-05,2.719997428357601e-05,3.91000066883862e-05,6.220000796020031e-05,9.290000889450312e-05,0.00012799998512491584,0.0001517999917268753,0.0002125999890267849,0.0002530000056140125,0.00028089998522773385,0.00047450000420212746,0.0004759000148624182,0.000514900020789355,0.0007042000070214272,0.0007000000332482159,0.0007377000292763114,0.0007970000151544809,0.0009175000013783574,0.0010085999965667725,0.0011458999942988157,0.0011418999638408422,0.0012102999608032405,0.0013768000062555075,0.001513299997895956,0.0016740999999456108,0.0017536000232212245,0.0018438000115565956,0.0019041000050492585,0.0023467999999411404,0.0023706000065431,0.0025786999613046646,0.0028851000242866576,0.002900000021327287,0.0031698999810032547,0.003240999998524785,0.0035151999909430742,0.0035764999920502305,0.0038293999969027936,0.004363699990790337,0.004467999970074743,0.004503400006797165,0.004958299978170544,0.004839500004891306,0.005090599996037781,0.005446699971798807,0.00635599996894598,0.006221699994057417,0.006699100020341575,0.006787099991925061,0.006644799956120551,0.007207899994682521,0.007163300004322082,0.008034400001633912,0.008233899949118495,0.008326199953444302,0.008494899957440794,0.00911790004465729,0.009394399996381253,0.009541199950035661,0.010058999992907047,0.010561800037976354,0.010704200016334653,0.01081279997015372,0.011686099984217435,0.012057900021318346,0.012441099970601499,0.013003300002310425,0.013714600005187094,0.013979700044728816,0.014006000012159348,0.014459700032602996,0.014511300018057227,0.015955599956214428,0.015289800008758903,0.015691199980210513,0.01690960000269115,0.01673030003439635,0.017436699999962002,0.017452200001571327,0.01910839998163283,0.01909810001961887,0.01917670003604144,0.01929930003825575,0.02069639996625483,0.020769499999005347,0.021276800020132214,0.022373399988282472,0.021063399966806173,0.022554000024683774,0.022666800010483712,0.02373840002110228,0.02309400000376627,0.023663700034376234,0.02379469998413697,0.02690600004279986,0.029550899984315038,0.02792850002879277,0.029293700004927814],\"yaxis\":\"y\",\"type\":\"scatter\"},{\"hovertemplate\":\"Algoritmo di ordinamento=insertion_sort<br>Tipo di input=sorted<br>Dimensione array=%{x}<br>Time (s)=%{y}<extra></extra>\",\"legendgroup\":\"insertion_sort\",\"line\":{\"color\":\"#636efa\",\"dash\":\"solid\"},\"marker\":{\"symbol\":\"circle\"},\"mode\":\"lines\",\"name\":\"insertion_sort\",\"orientation\":\"v\",\"showlegend\":false,\"x\":[10,20,30,40,50,60,70,80,90,100,110,120,130,140,150,160,170,180,190,200,210,220,230,240,250,260,270,280,290,300,310,320,330,340,350,360,370,380,390,400,410,420,430,440,450,460,470,480,490,500,510,520,530,540,550,560,570,580,590,600,610,620,630,640,650,660,670,680,690,700,710,720,730,740,750,760,770,780,790,800,810,820,830,840,850,860,870,880,890,900,910,920,930,940,950,960,970,980,990],\"xaxis\":\"x2\",\"y\":[2.300017513334751e-06,3.00002284348011e-06,4.099973011761904e-06,5.200039595365524e-06,6.199989002197981e-06,7.399998139590025e-06,8.400005754083395e-06,9.600014891475439e-06,1.0699965059757233e-05,1.190003240481019e-05,1.2999982573091984e-05,1.4199991710484028e-05,1.5300000086426735e-05,1.650000922381878e-05,1.7599959392100573e-05,1.880002673715353e-05,1.9900035113096237e-05,2.099998528137803e-05,3.7699996028095484e-05,2.859998494386673e-05,3.739999374374747e-05,2.5600020308047533e-05,2.659996971487999e-05,2.759997732937336e-05,2.8799986466765404e-05,3.0399998649954796e-05,3.200001083314419e-05,4.5900000259280205e-05,3.4299970138818026e-05,3.549997927621007e-05,3.6699988413602114e-05,3.7999998312443495e-05,3.950000973418355e-05,4.080001963302493e-05,4.279997665435076e-05,4.360004095360637e-05,4.539999645203352e-05,4.640000406652689e-05,4.7600013203918934e-05,4.8799964133650064e-05,5.0200033001601696e-05,5.749997217208147e-05,5.329999839887023e-05,5.460000829771161e-05,5.570001667365432e-05,5.709996912628412e-05,5.8299978263676167e-05,5.960004637017846e-05,6.0999998822808266e-05,6.240000948309898e-05,6.370001938194036e-05,6.500002928078175e-05,6.639998173341155e-05,6.75999908708036e-05,6.880000000819564e-05,7.010000990703702e-05,7.14000198058784e-05,7.290003122761846e-05,7.409998215734959e-05,7.539999205619097e-05,7.700000423938036e-05,7.84999574534595e-05,7.979996735230088e-05,8.130003698170185e-05,8.279999019578099e-05,8.410000009462237e-05,8.530000923201442e-05,8.650001836940646e-05,0.00010099995415657759,8.949998300522566e-05,9.06999921426177e-05,9.190000128000975e-05,9.329995373263955e-05,9.47999651543796e-05,9.649997809901834e-05,9.789998875930905e-05,9.919999865815043e-05,0.00010060000931844115,0.00010189996100962162,0.00010279996786266565,0.0001039999770000577,0.00010539998766034842,0.00010679999832063913,0.00010810000821948051,0.0001094000181183219,0.00011090002954006195,0.00011219998123124242,0.00011399999493733048,0.00011490000179037452,0.0001162000116892159,0.00011850002920255065,0.000118900032248348,0.00012019998393952847,0.0001221999991685152,0.00012290000449866056,0.00012430001515895128,0.00012559996685013175,0.00012690003495663404,0.00012839998817071319],\"yaxis\":\"y2\",\"type\":\"scatter\"},{\"hovertemplate\":\"Algoritmo di ordinamento=insertion_sort<br>Tipo di input=reversed<br>Dimensione array=%{x}<br>Time (s)=%{y}<extra></extra>\",\"legendgroup\":\"insertion_sort\",\"line\":{\"color\":\"#636efa\",\"dash\":\"solid\"},\"marker\":{\"symbol\":\"circle\"},\"mode\":\"lines\",\"name\":\"insertion_sort\",\"orientation\":\"v\",\"showlegend\":false,\"x\":[10,20,30,40,50,60,70,80,90,100,110,120,130,140,150,160,170,180,190,200,210,220,230,240,250,260,270,280,290,300,310,320,330,340,350,360,370,380,390,400,410,420,430,440,450,460,470,480,490,500,510,520,530,540,550,560,570,580,590,600,610,620,630,640,650,660,670,680,690,700,710,720,730,740,750,760,770,780,790,800,810,820,830,840,850,860,870,880,890,900,910,920,930,940,950,960,970,980,990],\"xaxis\":\"x3\",\"y\":[7.200054824352264e-06,2.220005262643099e-05,4.829996032640338e-05,8.47000046633184e-05,0.00013120000949129462,0.0002267000381834805,0.0002571999793872237,0.00037209998117759824,0.00042319996282458305,0.0005212000105530024,0.0006278000073507428,0.0007485999958589673,0.0009118000161834061,0.0010226999875158072,0.0011678999871946871,0.0013289999915286899,0.0015077999560162425,0.001693099969998002,0.0018983000190928578,0.00206979998620227,0.0026424999814480543,0.002577600011136383,0.0027378000086173415,0.0030094999819993973,0.0032500000088475645,0.003582799981813878,0.0038170000188983977,0.004064999986439943,0.004385100037325174,0.005167500057723373,0.004928199981804937,0.005290199944283813,0.005594100046437234,0.006181600037962198,0.006311099976301193,0.007280100020579994,0.0081783999921754,0.007446100004017353,0.007842999999411404,0.008532900013960898,0.008699400001205504,0.009454999992158264,0.00963330001104623,0.011925900005735457,0.010702100000344217,0.011036299983970821,0.012116400001104921,0.01238459994783625,0.013867700006812811,0.014279199996963143,0.01487670000642538,0.016571999993175268,0.014982799999415874,0.016469999973196536,0.01600890001282096,0.017424700025003403,0.017571299977134913,0.018345999997109175,0.018509000015910715,0.01905220001935959,0.01988450001226738,0.02057479997165501,0.021121199999470264,0.02191740000853315,0.022673800005577505,0.023510399973019958,0.023880799999460578,0.02506730001186952,0.025856099964585155,0.025213600019924343,0.02578569995239377,0.026736099971458316,0.027509999985340983,0.028550199989695102,0.029188300017267466,0.030091699969489127,0.031028199999127537,0.03185709996614605,0.032544099958613515,0.03358539997134358,0.034283699991647154,0.035074599960353225,0.036064499989151955,0.03721919999225065,0.03709530003834516,0.03895900002680719,0.04171650001080707,0.042875600047409534,0.04360650002490729,0.0446714999852702,0.04830179997952655,0.0522060000221245,0.048468399967532605,0.05240490002324805,0.057925399974919856,0.07031899999128655,0.0564509000396356,0.052197800017893314,0.0731231999816373],\"yaxis\":\"y3\",\"type\":\"scatter\"},{\"hovertemplate\":\"Algoritmo di ordinamento=counting_sort<br>Tipo di input=random<br>Dimensione array=%{x}<br>Time (s)=%{y}<extra></extra>\",\"legendgroup\":\"counting_sort\",\"line\":{\"color\":\"#EF553B\",\"dash\":\"solid\"},\"marker\":{\"symbol\":\"circle\"},\"mode\":\"lines\",\"name\":\"counting_sort\",\"orientation\":\"v\",\"showlegend\":true,\"x\":[10,20,30,40,50,60,70,80,90,100,110,120,130,140,150,160,170,180,190,200,210,220,230,240,250,260,270,280,290,300,310,320,330,340,350,360,370,380,390,400,410,420,430,440,450,460,470,480,490,500,510,520,530,540,550,560,570,580,590,600,610,620,630,640,650,660,670,680,690,700,710,720,730,740,750,760,770,780,790,800,810,820,830,840,850,860,870,880,890,900,910,920,930,940,950,960,970,980,990],\"xaxis\":\"x\",\"y\":[0.08909889997448772,0.0875448000151664,0.10308400000212714,0.08421020000241697,0.09168569999746978,0.08665410004323348,0.0903004000429064,0.08182530000340194,0.08844319998752326,0.08732160000363365,0.09001260000513867,0.08046520000789315,0.09519239998189732,0.0823934999643825,0.0851744000101462,0.09325640002498403,0.09910380002111197,0.09125789999961853,0.09317780000856146,0.09243279998190701,0.09628060000250116,0.08458339999197051,0.09097279998240992,0.09755120001500472,0.11182769999140874,0.08977319998666644,0.09051730000646785,0.09170230000745505,0.09497510001529008,0.09870899998350069,0.10459529998479411,0.1050987999769859,0.12147999997250736,0.09083369997097179,0.11182230000849813,0.09011809999356046,0.08991979999700561,0.09230819996446371,0.09410610003396869,0.1112489000079222,0.09414800000377,0.10079580004094169,0.09950429998571053,0.1007615000125952,0.10185600002296269,0.09407650004141033,0.0973985999589786,0.09433570003602654,0.09371479996480048,0.09577840002020821,0.11055319994920865,0.13530040002660826,0.09889019996626303,0.10050550004234537,0.09651600004872307,0.09952560003148392,0.10124970000470057,0.09928129997570068,0.09812249999959022,0.10037180001381785,0.09633239998947829,0.09802220005076379,0.09385499998461455,0.10301060002529994,0.0964729999541305,0.10298090003198013,0.09760749997803941,0.09614300000248477,0.09841360000427812,0.10068309999769554,0.0980832000495866,0.10205159999895841,0.14123750000726432,0.09657919994788244,0.09366199997020885,0.0964803000097163,0.0972015000297688,0.09799109998857602,0.09681740001542494,0.09554160002153367,0.09823290002532303,0.09723969997139648,0.09709689998999238,0.09427790000336245,0.09501039999304339,0.09451750002335757,0.09787099994719028,0.09937630000058562,0.09422959998482838,0.10444689996074885,0.09993570001097396,0.10042459995020181,0.09969509998336434,0.10606150003150105,0.0976533000357449,0.09637149999616668,0.09612050000578165,0.10966720001306385,0.10047950001899153],\"yaxis\":\"y\",\"type\":\"scatter\"},{\"hovertemplate\":\"Algoritmo di ordinamento=counting_sort<br>Tipo di input=sorted<br>Dimensione array=%{x}<br>Time (s)=%{y}<extra></extra>\",\"legendgroup\":\"counting_sort\",\"line\":{\"color\":\"#EF553B\",\"dash\":\"solid\"},\"marker\":{\"symbol\":\"circle\"},\"mode\":\"lines\",\"name\":\"counting_sort\",\"orientation\":\"v\",\"showlegend\":false,\"x\":[10,20,30,40,50,60,70,80,90,100,110,120,130,140,150,160,170,180,190,200,210,220,230,240,250,260,270,280,290,300,310,320,330,340,350,360,370,380,390,400,410,420,430,440,450,460,470,480,490,500,510,520,530,540,550,560,570,580,590,600,610,620,630,640,650,660,670,680,690,700,710,720,730,740,750,760,770,780,790,800,810,820,830,840,850,860,870,880,890,900,910,920,930,940,950,960,970,980,990],\"xaxis\":\"x2\",\"y\":[0.08257009997032583,0.08381169999483973,0.08298210002249107,0.08132100000511855,0.0860611000098288,0.08387769997352734,0.09781030000885949,0.08395489997928962,0.08466329996008426,0.09126650000689551,0.08795519999694079,0.08484819997102022,0.08356739999726415,0.08735029998933896,0.08711329998914152,0.08494949998566881,0.08731919998535886,0.08757019997574389,0.08880830003181472,0.08649690001038834,0.08887809998122975,0.0875252999830991,0.1014312999905087,0.08480980002786964,0.08973120001610368,0.0893563999561593,0.09075070003746077,0.09075559995835647,0.09476080001331866,0.09385209996253252,0.09054160001687706,0.08884909999324009,0.09110999997938052,0.09830179996788502,0.09001210000133142,0.09342769999057055,0.0929935000021942,0.09330609999597073,0.09084249997977167,0.09457609994569793,0.09463569999206811,0.09557760000461712,0.09388930001296103,0.09501829999499023,0.09361619997071102,0.10017349995905533,0.10478779999539256,0.09271019999869168,0.09521589998621494,0.10032170003978536,0.09378930000821128,0.09528690000297502,0.1018243000144139,0.09489800001028925,0.09504739998374134,0.0966723000165075,0.0972874999861233,0.09491260000504553,0.09175040002446622,0.09600079996744171,0.10107229999266565,0.09882820001803339,0.09478759998455644,0.09652139997342601,0.14434940001228824,0.09772879997035488,0.09342689998447895,0.09978669998236,0.09665819996735081,0.09665370004950091,0.09605310001643375,0.09774440003093332,0.09476100001484156,0.09648790000937879,0.09822340001119301,0.09953579999273643,0.09980969998287037,0.09672929998487234,0.10018100001616403,0.10210650000954047,0.10118100000545382,0.09654689999297261,0.09578289999626577,0.09759060002397746,0.09701790002873167,0.11026429996127263,0.09764829999767244,0.09912099997745827,0.09622359997592866,0.09649470000294968,0.10263790003955364,0.09807879995787516,0.0952324999962002,0.09737859998131171,0.09763319999910891,0.09865940001327544,0.1040822000359185,0.10070860001724213,0.10318419995019212],\"yaxis\":\"y2\",\"type\":\"scatter\"},{\"hovertemplate\":\"Algoritmo di ordinamento=counting_sort<br>Tipo di input=reversed<br>Dimensione array=%{x}<br>Time (s)=%{y}<extra></extra>\",\"legendgroup\":\"counting_sort\",\"line\":{\"color\":\"#EF553B\",\"dash\":\"solid\"},\"marker\":{\"symbol\":\"circle\"},\"mode\":\"lines\",\"name\":\"counting_sort\",\"orientation\":\"v\",\"showlegend\":false,\"x\":[10,20,30,40,50,60,70,80,90,100,110,120,130,140,150,160,170,180,190,200,210,220,230,240,250,260,270,280,290,300,310,320,330,340,350,360,370,380,390,400,410,420,430,440,450,460,470,480,490,500,510,520,530,540,550,560,570,580,590,600,610,620,630,640,650,660,670,680,690,700,710,720,730,740,750,760,770,780,790,800,810,820,830,840,850,860,870,880,890,900,910,920,930,940,950,960,970,980,990],\"xaxis\":\"x3\",\"y\":[0.0911389000248164,0.08525069995084777,0.0804278000141494,0.08363990002544597,0.0883031000266783,0.08001259999582544,0.09332179999910295,0.09233779995702207,0.08262050000485033,0.08842889999505132,0.08953189995372668,0.09400139999343082,0.10886680003022775,0.09654749999754131,0.09492070000851527,0.08941469999263063,0.10196179995546117,0.09578030003467575,0.09235809999518096,0.10077249997993931,0.09605789999477565,0.08988580002915114,0.0893443999812007,0.10616189998108894,0.10454329999629408,0.0863039999967441,0.09044669999275357,0.08732890000101179,0.09152610000455752,0.09172009996837005,0.0923546000267379,0.09338690002914518,0.09234309999737889,0.09297009999863803,0.09351199999218807,0.09417009999742731,0.09634469996672124,0.09363279998069629,0.09493299998575822,0.09490620001452044,0.0901519000180997,0.09580090001691133,0.09526829997776076,0.1149540999904275,0.09562509995885193,0.09619969996856526,0.09769399999640882,0.1045799000421539,0.09732000000076368,0.09503680001944304,0.0968210999853909,0.09647419996326789,0.09734579996438697,0.09770209999987856,0.10368479997850955,0.10060150001663715,0.09908800001721829,0.10751669999444857,0.09897679998539388,0.0933165000169538,0.0966914999880828,0.09640759998001158,0.09651750000193715,0.09717359999194741,0.09543960000155494,0.09339980001095682,0.09771840000757948,0.09612959995865822,0.09763599996222183,0.09836439997889102,0.0980750999879092,0.09310060000279918,0.09742140001617372,0.09312139998655766,0.09807230002479628,0.09707910002907738,0.09887450002133846,0.09849199996097013,0.09779169998364523,0.09603570000035688,0.09857349999947473,0.09629479999421164,0.09619059995748103,0.10168140003224835,0.09794710000278428,0.09637739998288453,0.10162059997674078,0.09639209997840226,0.10053579998202622,0.09799949999433011,0.09956040000542998,0.10145389998797327,0.10166829999070615,0.09985420003067702,0.09633999998914078,0.09869999997317791,0.09974980005063117,0.09935059997951612,0.09928429999854416],\"yaxis\":\"y3\",\"type\":\"scatter\"}],                        {\"template\":{\"data\":{\"histogram2dcontour\":[{\"type\":\"histogram2dcontour\",\"colorbar\":{\"outlinewidth\":0,\"ticks\":\"\"},\"colorscale\":[[0.0,\"#0d0887\"],[0.1111111111111111,\"#46039f\"],[0.2222222222222222,\"#7201a8\"],[0.3333333333333333,\"#9c179e\"],[0.4444444444444444,\"#bd3786\"],[0.5555555555555556,\"#d8576b\"],[0.6666666666666666,\"#ed7953\"],[0.7777777777777778,\"#fb9f3a\"],[0.8888888888888888,\"#fdca26\"],[1.0,\"#f0f921\"]]}],\"choropleth\":[{\"type\":\"choropleth\",\"colorbar\":{\"outlinewidth\":0,\"ticks\":\"\"}}],\"histogram2d\":[{\"type\":\"histogram2d\",\"colorbar\":{\"outlinewidth\":0,\"ticks\":\"\"},\"colorscale\":[[0.0,\"#0d0887\"],[0.1111111111111111,\"#46039f\"],[0.2222222222222222,\"#7201a8\"],[0.3333333333333333,\"#9c179e\"],[0.4444444444444444,\"#bd3786\"],[0.5555555555555556,\"#d8576b\"],[0.6666666666666666,\"#ed7953\"],[0.7777777777777778,\"#fb9f3a\"],[0.8888888888888888,\"#fdca26\"],[1.0,\"#f0f921\"]]}],\"heatmap\":[{\"type\":\"heatmap\",\"colorbar\":{\"outlinewidth\":0,\"ticks\":\"\"},\"colorscale\":[[0.0,\"#0d0887\"],[0.1111111111111111,\"#46039f\"],[0.2222222222222222,\"#7201a8\"],[0.3333333333333333,\"#9c179e\"],[0.4444444444444444,\"#bd3786\"],[0.5555555555555556,\"#d8576b\"],[0.6666666666666666,\"#ed7953\"],[0.7777777777777778,\"#fb9f3a\"],[0.8888888888888888,\"#fdca26\"],[1.0,\"#f0f921\"]]}],\"heatmapgl\":[{\"type\":\"heatmapgl\",\"colorbar\":{\"outlinewidth\":0,\"ticks\":\"\"},\"colorscale\":[[0.0,\"#0d0887\"],[0.1111111111111111,\"#46039f\"],[0.2222222222222222,\"#7201a8\"],[0.3333333333333333,\"#9c179e\"],[0.4444444444444444,\"#bd3786\"],[0.5555555555555556,\"#d8576b\"],[0.6666666666666666,\"#ed7953\"],[0.7777777777777778,\"#fb9f3a\"],[0.8888888888888888,\"#fdca26\"],[1.0,\"#f0f921\"]]}],\"contourcarpet\":[{\"type\":\"contourcarpet\",\"colorbar\":{\"outlinewidth\":0,\"ticks\":\"\"}}],\"contour\":[{\"type\":\"contour\",\"colorbar\":{\"outlinewidth\":0,\"ticks\":\"\"},\"colorscale\":[[0.0,\"#0d0887\"],[0.1111111111111111,\"#46039f\"],[0.2222222222222222,\"#7201a8\"],[0.3333333333333333,\"#9c179e\"],[0.4444444444444444,\"#bd3786\"],[0.5555555555555556,\"#d8576b\"],[0.6666666666666666,\"#ed7953\"],[0.7777777777777778,\"#fb9f3a\"],[0.8888888888888888,\"#fdca26\"],[1.0,\"#f0f921\"]]}],\"surface\":[{\"type\":\"surface\",\"colorbar\":{\"outlinewidth\":0,\"ticks\":\"\"},\"colorscale\":[[0.0,\"#0d0887\"],[0.1111111111111111,\"#46039f\"],[0.2222222222222222,\"#7201a8\"],[0.3333333333333333,\"#9c179e\"],[0.4444444444444444,\"#bd3786\"],[0.5555555555555556,\"#d8576b\"],[0.6666666666666666,\"#ed7953\"],[0.7777777777777778,\"#fb9f3a\"],[0.8888888888888888,\"#fdca26\"],[1.0,\"#f0f921\"]]}],\"mesh3d\":[{\"type\":\"mesh3d\",\"colorbar\":{\"outlinewidth\":0,\"ticks\":\"\"}}],\"scatter\":[{\"marker\":{\"line\":{\"color\":\"#283442\"}},\"type\":\"scatter\"}],\"parcoords\":[{\"type\":\"parcoords\",\"line\":{\"colorbar\":{\"outlinewidth\":0,\"ticks\":\"\"}}}],\"scatterpolargl\":[{\"type\":\"scatterpolargl\",\"marker\":{\"colorbar\":{\"outlinewidth\":0,\"ticks\":\"\"}}}],\"bar\":[{\"error_x\":{\"color\":\"#f2f5fa\"},\"error_y\":{\"color\":\"#f2f5fa\"},\"marker\":{\"line\":{\"color\":\"rgb(17,17,17)\",\"width\":0.5},\"pattern\":{\"fillmode\":\"overlay\",\"size\":10,\"solidity\":0.2}},\"type\":\"bar\"}],\"scattergeo\":[{\"type\":\"scattergeo\",\"marker\":{\"colorbar\":{\"outlinewidth\":0,\"ticks\":\"\"}}}],\"scatterpolar\":[{\"type\":\"scatterpolar\",\"marker\":{\"colorbar\":{\"outlinewidth\":0,\"ticks\":\"\"}}}],\"histogram\":[{\"marker\":{\"pattern\":{\"fillmode\":\"overlay\",\"size\":10,\"solidity\":0.2}},\"type\":\"histogram\"}],\"scattergl\":[{\"marker\":{\"line\":{\"color\":\"#283442\"}},\"type\":\"scattergl\"}],\"scatter3d\":[{\"type\":\"scatter3d\",\"line\":{\"colorbar\":{\"outlinewidth\":0,\"ticks\":\"\"}},\"marker\":{\"colorbar\":{\"outlinewidth\":0,\"ticks\":\"\"}}}],\"scattermapbox\":[{\"type\":\"scattermapbox\",\"marker\":{\"colorbar\":{\"outlinewidth\":0,\"ticks\":\"\"}}}],\"scatterternary\":[{\"type\":\"scatterternary\",\"marker\":{\"colorbar\":{\"outlinewidth\":0,\"ticks\":\"\"}}}],\"scattercarpet\":[{\"type\":\"scattercarpet\",\"marker\":{\"colorbar\":{\"outlinewidth\":0,\"ticks\":\"\"}}}],\"carpet\":[{\"aaxis\":{\"endlinecolor\":\"#A2B1C6\",\"gridcolor\":\"#506784\",\"linecolor\":\"#506784\",\"minorgridcolor\":\"#506784\",\"startlinecolor\":\"#A2B1C6\"},\"baxis\":{\"endlinecolor\":\"#A2B1C6\",\"gridcolor\":\"#506784\",\"linecolor\":\"#506784\",\"minorgridcolor\":\"#506784\",\"startlinecolor\":\"#A2B1C6\"},\"type\":\"carpet\"}],\"table\":[{\"cells\":{\"fill\":{\"color\":\"#506784\"},\"line\":{\"color\":\"rgb(17,17,17)\"}},\"header\":{\"fill\":{\"color\":\"#2a3f5f\"},\"line\":{\"color\":\"rgb(17,17,17)\"}},\"type\":\"table\"}],\"barpolar\":[{\"marker\":{\"line\":{\"color\":\"rgb(17,17,17)\",\"width\":0.5},\"pattern\":{\"fillmode\":\"overlay\",\"size\":10,\"solidity\":0.2}},\"type\":\"barpolar\"}],\"pie\":[{\"automargin\":true,\"type\":\"pie\"}]},\"layout\":{\"autotypenumbers\":\"strict\",\"colorway\":[\"#636efa\",\"#EF553B\",\"#00cc96\",\"#ab63fa\",\"#FFA15A\",\"#19d3f3\",\"#FF6692\",\"#B6E880\",\"#FF97FF\",\"#FECB52\"],\"font\":{\"color\":\"#f2f5fa\"},\"hovermode\":\"closest\",\"hoverlabel\":{\"align\":\"left\"},\"paper_bgcolor\":\"rgb(17,17,17)\",\"plot_bgcolor\":\"rgb(17,17,17)\",\"polar\":{\"bgcolor\":\"rgb(17,17,17)\",\"angularaxis\":{\"gridcolor\":\"#506784\",\"linecolor\":\"#506784\",\"ticks\":\"\"},\"radialaxis\":{\"gridcolor\":\"#506784\",\"linecolor\":\"#506784\",\"ticks\":\"\"}},\"ternary\":{\"bgcolor\":\"rgb(17,17,17)\",\"aaxis\":{\"gridcolor\":\"#506784\",\"linecolor\":\"#506784\",\"ticks\":\"\"},\"baxis\":{\"gridcolor\":\"#506784\",\"linecolor\":\"#506784\",\"ticks\":\"\"},\"caxis\":{\"gridcolor\":\"#506784\",\"linecolor\":\"#506784\",\"ticks\":\"\"}},\"coloraxis\":{\"colorbar\":{\"outlinewidth\":0,\"ticks\":\"\"}},\"colorscale\":{\"sequential\":[[0.0,\"#0d0887\"],[0.1111111111111111,\"#46039f\"],[0.2222222222222222,\"#7201a8\"],[0.3333333333333333,\"#9c179e\"],[0.4444444444444444,\"#bd3786\"],[0.5555555555555556,\"#d8576b\"],[0.6666666666666666,\"#ed7953\"],[0.7777777777777778,\"#fb9f3a\"],[0.8888888888888888,\"#fdca26\"],[1.0,\"#f0f921\"]],\"sequentialminus\":[[0.0,\"#0d0887\"],[0.1111111111111111,\"#46039f\"],[0.2222222222222222,\"#7201a8\"],[0.3333333333333333,\"#9c179e\"],[0.4444444444444444,\"#bd3786\"],[0.5555555555555556,\"#d8576b\"],[0.6666666666666666,\"#ed7953\"],[0.7777777777777778,\"#fb9f3a\"],[0.8888888888888888,\"#fdca26\"],[1.0,\"#f0f921\"]],\"diverging\":[[0,\"#8e0152\"],[0.1,\"#c51b7d\"],[0.2,\"#de77ae\"],[0.3,\"#f1b6da\"],[0.4,\"#fde0ef\"],[0.5,\"#f7f7f7\"],[0.6,\"#e6f5d0\"],[0.7,\"#b8e186\"],[0.8,\"#7fbc41\"],[0.9,\"#4d9221\"],[1,\"#276419\"]]},\"xaxis\":{\"gridcolor\":\"#283442\",\"linecolor\":\"#506784\",\"ticks\":\"\",\"title\":{\"standoff\":15},\"zerolinecolor\":\"#283442\",\"automargin\":true,\"zerolinewidth\":2},\"yaxis\":{\"gridcolor\":\"#283442\",\"linecolor\":\"#506784\",\"ticks\":\"\",\"title\":{\"standoff\":15},\"zerolinecolor\":\"#283442\",\"automargin\":true,\"zerolinewidth\":2},\"scene\":{\"xaxis\":{\"backgroundcolor\":\"rgb(17,17,17)\",\"gridcolor\":\"#506784\",\"linecolor\":\"#506784\",\"showbackground\":true,\"ticks\":\"\",\"zerolinecolor\":\"#C8D4E3\",\"gridwidth\":2},\"yaxis\":{\"backgroundcolor\":\"rgb(17,17,17)\",\"gridcolor\":\"#506784\",\"linecolor\":\"#506784\",\"showbackground\":true,\"ticks\":\"\",\"zerolinecolor\":\"#C8D4E3\",\"gridwidth\":2},\"zaxis\":{\"backgroundcolor\":\"rgb(17,17,17)\",\"gridcolor\":\"#506784\",\"linecolor\":\"#506784\",\"showbackground\":true,\"ticks\":\"\",\"zerolinecolor\":\"#C8D4E3\",\"gridwidth\":2}},\"shapedefaults\":{\"line\":{\"color\":\"#f2f5fa\"}},\"annotationdefaults\":{\"arrowcolor\":\"#f2f5fa\",\"arrowhead\":0,\"arrowwidth\":1},\"geo\":{\"bgcolor\":\"rgb(17,17,17)\",\"landcolor\":\"rgb(17,17,17)\",\"subunitcolor\":\"#506784\",\"showland\":true,\"showlakes\":true,\"lakecolor\":\"rgb(17,17,17)\"},\"title\":{\"x\":0.05},\"updatemenudefaults\":{\"bgcolor\":\"#506784\",\"borderwidth\":0},\"sliderdefaults\":{\"bgcolor\":\"#C8D4E3\",\"borderwidth\":1,\"bordercolor\":\"rgb(17,17,17)\",\"tickwidth\":0},\"mapbox\":{\"style\":\"dark\"}}},\"xaxis\":{\"anchor\":\"y\",\"domain\":[0.0,0.31999999999999995],\"title\":{\"text\":\"Dimensione array\"}},\"yaxis\":{\"anchor\":\"x\",\"domain\":[0.0,1.0],\"title\":{\"text\":\"Time (s)\"}},\"xaxis2\":{\"anchor\":\"y2\",\"domain\":[0.33999999999999997,0.6599999999999999],\"matches\":\"x\",\"title\":{\"text\":\"Dimensione array\"}},\"yaxis2\":{\"anchor\":\"x2\",\"domain\":[0.0,1.0],\"matches\":\"y\",\"showticklabels\":false},\"xaxis3\":{\"anchor\":\"y3\",\"domain\":[0.6799999999999999,0.9999999999999999],\"matches\":\"x\",\"title\":{\"text\":\"Dimensione array\"}},\"yaxis3\":{\"anchor\":\"x3\",\"domain\":[0.0,1.0],\"matches\":\"y\",\"showticklabels\":false},\"annotations\":[{\"font\":{},\"showarrow\":false,\"text\":\"Tipo di input=random\",\"x\":0.15999999999999998,\"xanchor\":\"center\",\"xref\":\"paper\",\"y\":1.0,\"yanchor\":\"bottom\",\"yref\":\"paper\"},{\"font\":{},\"showarrow\":false,\"text\":\"Tipo di input=sorted\",\"x\":0.49999999999999994,\"xanchor\":\"center\",\"xref\":\"paper\",\"y\":1.0,\"yanchor\":\"bottom\",\"yref\":\"paper\"},{\"font\":{},\"showarrow\":false,\"text\":\"Tipo di input=reversed\",\"x\":0.8399999999999999,\"xanchor\":\"center\",\"xref\":\"paper\",\"y\":1.0,\"yanchor\":\"bottom\",\"yref\":\"paper\"}],\"legend\":{\"title\":{\"text\":\"Algoritmo di ordinamento\"},\"tracegroupgap\":0},\"title\":{\"text\":\"Sorting algorithms\"}},                        {\"responsive\": true}                    ).then(function(){\n                            \nvar gd = document.getElementById('f73a769b-de48-4e98-bebd-74f78330be6e');\nvar x = new MutationObserver(function (mutations, observer) {{\n        var display = window.getComputedStyle(gd).display;\n        if (!display || display === 'none') {{\n            console.log([gd, 'removed!']);\n            Plotly.purge(gd);\n            observer.disconnect();\n        }}\n}});\n\n// Listen for the removal of the full notebook cells\nvar notebookContainer = gd.closest('#notebook-container');\nif (notebookContainer) {{\n    x.observe(notebookContainer, {childList: true});\n}}\n\n// Listen for the clearing of the current output cell\nvar outputEl = gd.closest('.output');\nif (outputEl) {{\n    x.observe(outputEl, {childList: true});\n}}\n\n                        })                };                });            </script>        </div>"
     },
     "metadata": {},
     "output_type": "display_data"
    }
   ],
   "source": [
    "figure = px.line(df.query(\"num_samples > 0\"),\n",
    "                 x=\"num_samples\",\n",
    "                 y=\"time\",\n",
    "                 color=\"test_type\",\n",
    "                 facet_col=\"input_type\",\n",
    "                 title=\"Sorting algorithms\",\n",
    "                 labels={\"num_samples\": \"Dimensione array\", \"time\": \"Time (s)\", \"test_type\": \"Algoritmo di ordinamento\", \"input_type\": \"Tipo di input\"})\n",
    "figure.show()"
   ],
   "metadata": {
    "collapsed": false
   }
  },
  {
   "cell_type": "markdown",
   "source": [
    "In quest'ultimo test aumentiamo in modo considerevole il range rispetto alla dimensione dell'array e il risultato è evidente; il costo computazionale del _counting sort_ è molto elevato, in quanto il tempo impiegato per ordinare l'array è molto più elevato rispetto ai casi precedenti. Notiamo che il tempo impiegato dal _counting sort_ è sempre lineare, ma di gran lunga superiore rispetto al costo computazionale dell' _insertion sort_ e rispetto ai casi precedenti."
   ],
   "metadata": {
    "collapsed": false
   }
  },
  {
   "cell_type": "markdown",
   "source": [
    "### 3. Array di dimensione 10000"
   ],
   "metadata": {
    "collapsed": false
   }
  },
  {
   "cell_type": "markdown",
   "source": [
    "In questa sezione di test, analizziamo i test eseguiti su array di dimensione 10000 con passo pari a 100 e range di generazione dei numeri da 0 a 10000 e da 0 a 100000. I grafici mostrano i risultati dei test di insertion sort e counting sort in base al tipo di input utilizzato. Aumentiamo quindi in modo considerevole sia la dimensione dell'array che il range di generazione dei numeri."
   ],
   "metadata": {
    "collapsed": false
   }
  },
  {
   "cell_type": "markdown",
   "source": [
    "#### Array di dimensione 10000 con range da 0 a 100000"
   ],
   "metadata": {
    "collapsed": false
   }
  },
  {
   "cell_type": "code",
   "execution_count": 204,
   "outputs": [],
   "source": [
    "df = plot_results(10000, 100, (0, 100000))"
   ],
   "metadata": {
    "collapsed": false
   }
  },
  {
   "cell_type": "code",
   "execution_count": 205,
   "outputs": [
    {
     "data": {
      "application/vnd.plotly.v1+json": {
       "data": [
        {
         "hovertemplate": "Algoritmo di ordinamento=insertion_sort<br>Tipo di input=random<br>Dimensione array=%{x}<br>Time (s)=%{y}<extra></extra>",
         "legendgroup": "insertion_sort",
         "line": {
          "color": "#636efa",
          "dash": "solid"
         },
         "marker": {
          "symbol": "circle"
         },
         "mode": "lines",
         "name": "insertion_sort",
         "orientation": "v",
         "showlegend": true,
         "x": [
          100,
          200,
          300,
          400,
          500,
          600,
          700,
          800,
          900,
          1000,
          1100,
          1200,
          1300,
          1400,
          1500,
          1600,
          1700,
          1800,
          1900,
          2000,
          2100,
          2200,
          2300,
          2400,
          2500,
          2600,
          2700,
          2800,
          2900,
          3000,
          3100,
          3200,
          3300,
          3400,
          3500,
          3600,
          3700,
          3800,
          3900,
          4000,
          4100,
          4200,
          4300,
          4400,
          4500,
          4600,
          4700,
          4800,
          4900,
          5000,
          5100,
          5200,
          5300,
          5400,
          5500,
          5600,
          5700,
          5800,
          5900,
          6000,
          6100,
          6200,
          6300,
          6400,
          6500,
          6600,
          6700,
          6800,
          6900,
          7000,
          7100,
          7200,
          7300,
          7400,
          7500,
          7600,
          7700,
          7800,
          7900,
          8000,
          8100,
          8200,
          8300,
          8400,
          8500,
          8600,
          8700,
          8800,
          8900,
          9000,
          9100,
          9200,
          9300,
          9400,
          9500,
          9600,
          9700,
          9800,
          9900
         ],
         "xaxis": "x",
         "y": [
          2.644999767653644E-4,
          9.584000217728317E-4,
          0.0024231999996118248,
          0.004063899978064001,
          0.006714800023473799,
          0.011310900037642568,
          0.013115100038703531,
          0.023330099997110665,
          0.021694499999284744,
          0.03517590003320947,
          0.038978700002189726,
          0.042579200002364814,
          0.05205159995239228,
          0.06329559994628653,
          0.07245539996074513,
          0.09644509997451678,
          0.08648719999473542,
          0.09033889998681843,
          0.1048770000343211,
          0.11517419997835532,
          0.1275372999953106,
          0.16147960000671446,
          0.1544452999951318,
          0.18536709999898449,
          0.19406250002793968,
          0.20230309996986762,
          0.22488569997949526,
          0.21746660000644624,
          0.23585479997564107,
          0.26645379996625707,
          0.2883556000306271,
          0.276457300002221,
          0.30040900001768023,
          0.3533608999568969,
          0.3371839000028558,
          0.35937810002360493,
          0.3881157000432722,
          0.4014465000363998,
          0.46477979997871444,
          0.4351260000257753,
          0.5040412999805994,
          0.5124160000123084,
          0.5296297000022605,
          0.6464215000160038,
          0.6383950999588706,
          0.6542984999832697,
          0.7059479999588802,
          0.6866445000050589,
          0.75416640000185,
          0.8046813000109978,
          0.7334722999949008,
          0.7478828000021167,
          0.8334049999830313,
          0.816936600022018,
          0.8932468999992125,
          0.8799752000486478,
          0.989230300008785,
          1.035076999978628,
          1.0616345999878831,
          1.0793249999987893,
          1.1128628000151366,
          1.0903677999740466,
          1.1083082999684848,
          1.1792133999988437,
          1.1614713000017218,
          1.223701200040523,
          1.369628400017973,
          1.4373575000208803,
          1.4139523999765515,
          1.3443699999479577,
          1.3848346999729984,
          1.449372700008098,
          1.5118277999572456,
          1.6086707000504248,
          1.728481099999044,
          1.6728064000490122,
          1.6565347000141628,
          1.7119913999922574,
          1.7488692000042647,
          2.053572000004351,
          2.0698452000506222,
          1.9186933999881148,
          1.9404205000028014,
          2.0577616000082344,
          2.2442918999586254,
          2.129423999984283,
          2.1064795999554917,
          2.140658500022255,
          2.350849099981133,
          2.4846122000017203,
          2.4154887000331655,
          2.654798400006257,
          2.3718589000054635,
          2.5621149000362493,
          2.5934807999874465,
          2.6093399000237696,
          2.7502788999699987,
          2.7681334000080824,
          2.765459100017324
         ],
         "yaxis": "y",
         "type": "scatter"
        },
        {
         "hovertemplate": "Algoritmo di ordinamento=insertion_sort<br>Tipo di input=sorted<br>Dimensione array=%{x}<br>Time (s)=%{y}<extra></extra>",
         "legendgroup": "insertion_sort",
         "line": {
          "color": "#636efa",
          "dash": "solid"
         },
         "marker": {
          "symbol": "circle"
         },
         "mode": "lines",
         "name": "insertion_sort",
         "orientation": "v",
         "showlegend": false,
         "x": [
          100,
          200,
          300,
          400,
          500,
          600,
          700,
          800,
          900,
          1000,
          1100,
          1200,
          1300,
          1400,
          1500,
          1600,
          1700,
          1800,
          1900,
          2000,
          2100,
          2200,
          2300,
          2400,
          2500,
          2600,
          2700,
          2800,
          2900,
          3000,
          3100,
          3200,
          3300,
          3400,
          3500,
          3600,
          3700,
          3800,
          3900,
          4000,
          4100,
          4200,
          4300,
          4400,
          4500,
          4600,
          4700,
          4800,
          4900,
          5000,
          5100,
          5200,
          5300,
          5400,
          5500,
          5600,
          5700,
          5800,
          5900,
          6000,
          6100,
          6200,
          6300,
          6400,
          6500,
          6600,
          6700,
          6800,
          6900,
          7000,
          7100,
          7200,
          7300,
          7400,
          7500,
          7600,
          7700,
          7800,
          7900,
          8000,
          8100,
          8200,
          8300,
          8400,
          8500,
          8600,
          8700,
          8800,
          8900,
          9000,
          9100,
          9200,
          9300,
          9400,
          9500,
          9600,
          9700,
          9800,
          9900
         ],
         "xaxis": "x2",
         "y": [
          1.2199976481497288E-5,
          2.2799998987466097E-5,
          3.609998384490609E-5,
          4.780001472681761E-5,
          6.10999995842576E-5,
          7.390003884211183E-5,
          8.829997386783361E-5,
          1.370999962091446E-4,
          1.1379999341443181E-4,
          1.2910005170851946E-4,
          1.4080002438277006E-4,
          1.561000244691968E-4,
          1.697000116109848E-4,
          1.8079997971653938E-4,
          1.970999874174595E-4,
          2.066000015474856E-4,
          2.1889997879043221E-4,
          2.3279996821656823E-4,
          2.4530000519007444E-4,
          2.578999847173691E-4,
          2.704999642446637E-4,
          2.869999734684825E-4,
          3.0099996365606785E-4,
          3.106999793089926E-4,
          3.2400002237409353E-4,
          3.3520004944875836E-4,
          3.5180000122636557E-4,
          3.61400016117841E-4,
          3.861000295728445E-4,
          3.893999964930117E-4,
          4.034999874420464E-4,
          4.165000282227993E-4,
          4.8509996850043535E-4,
          4.3869996443390846E-4,
          4.866000381298363E-4,
          4.697999684140086E-4,
          4.825000069104135E-4,
          4.930999712087214E-4,
          5.311000277288258E-4,
          5.483999848365784E-4,
          5.35300001502037E-4,
          5.47999981790781E-4,
          5.7640002341941E-4,
          5.718999891541898E-4,
          5.862999823875725E-4,
          6.018999847583473E-4,
          6.170000415295362E-4,
          6.337999948300421E-4,
          6.413999944925308E-4,
          6.575000006705523E-4,
          6.664000102318823E-4,
          6.806000019423664E-4,
          7.273000082932413E-4,
          7.128000142984092E-4,
          7.121000089682639E-4,
          9.732000180520117E-4,
          0.001275799993891269,
          0.0013199999812059104,
          8.382000378333032E-4,
          9.758999804034829E-4,
          8.459999808110297E-4,
          8.372999727725983E-4,
          8.618999854661524E-4,
          8.611999801360071E-4,
          0.001436699996702373,
          0.0010037000174634159,
          9.108000085689127E-4,
          9.240999934263527E-4,
          9.376000380143523E-4,
          9.485000045970082E-4,
          9.604999795556068E-4,
          9.813000215217471E-4,
          9.905999759212136E-4,
          0.0010076999897137284,
          0.0010402000043541193,
          0.001033000007737428,
          0.0010442000348120928,
          0.0010520000359974802,
          0.0010743000311776996,
          0.0010777999996207654,
          0.001094500010367483,
          0.0011114999651908875,
          0.0011331000132486224,
          0.0010597999789752066,
          0.001226999971549958,
          0.0011137000401504338,
          0.0011192000238224864,
          0.0011436000349931419,
          0.0011501000262796879,
          0.0011687999940477312,
          0.00118090002797544,
          0.0012091000098735094,
          0.0012156000011600554,
          0.0012381999986246228,
          0.001572399982251227,
          0.0013291999930515885,
          0.0012640999630093575,
          0.0012824999867007136,
          0.0012984999921172857
         ],
         "yaxis": "y2",
         "type": "scatter"
        },
        {
         "hovertemplate": "Algoritmo di ordinamento=insertion_sort<br>Tipo di input=reversed<br>Dimensione array=%{x}<br>Time (s)=%{y}<extra></extra>",
         "legendgroup": "insertion_sort",
         "line": {
          "color": "#636efa",
          "dash": "solid"
         },
         "marker": {
          "symbol": "circle"
         },
         "mode": "lines",
         "name": "insertion_sort",
         "orientation": "v",
         "showlegend": false,
         "x": [
          100,
          200,
          300,
          400,
          500,
          600,
          700,
          800,
          900,
          1000,
          1100,
          1200,
          1300,
          1400,
          1500,
          1600,
          1700,
          1800,
          1900,
          2000,
          2100,
          2200,
          2300,
          2400,
          2500,
          2600,
          2700,
          2800,
          2900,
          3000,
          3100,
          3200,
          3300,
          3400,
          3500,
          3600,
          3700,
          3800,
          3900,
          4000,
          4100,
          4200,
          4300,
          4400,
          4500,
          4600,
          4700,
          4800,
          4900,
          5000,
          5100,
          5200,
          5300,
          5400,
          5500,
          5600,
          5700,
          5800,
          5900,
          6000,
          6100,
          6200,
          6300,
          6400,
          6500,
          6600,
          6700,
          6800,
          6900,
          7000,
          7100,
          7200,
          7300,
          7400,
          7500,
          7600,
          7700,
          7800,
          7900,
          8000,
          8100,
          8200,
          8300,
          8400,
          8500,
          8600,
          8700,
          8800,
          8900,
          9000,
          9100,
          9200,
          9300,
          9400,
          9500,
          9600,
          9700,
          9800,
          9900
         ],
         "xaxis": "x3",
         "y": [
          4.911000141873956E-4,
          0.0019676000229083,
          0.00448329997016117,
          0.008154300041496754,
          0.012776399962604046,
          0.018718199979048222,
          0.027942599961534142,
          0.03452129999641329,
          0.04414569999789819,
          0.05449090001638979,
          0.06357380002737045,
          0.07912440004292876,
          0.09562239999650046,
          0.16079620004165918,
          0.12071069999365136,
          0.14122210000641644,
          0.16740109998499975,
          0.1750768999918364,
          0.19124399998690933,
          0.22031549998791888,
          0.2459235000424087,
          0.2662519000004977,
          0.2874645999982022,
          0.3694486999884248,
          0.33873710001353174,
          0.37537939997855574,
          0.39900129998568445,
          0.4402251000283286,
          0.4751308999839239,
          0.5350024999934249,
          0.527390800009016,
          0.5680232000304386,
          0.6472987000015564,
          0.6389578999951482,
          0.707977399986703,
          0.7558771999902092,
          0.7631993000395596,
          0.8347088000155054,
          0.8975237000267953,
          0.9175611999817193,
          0.9902800999698229,
          0.9813682999811135,
          1.110768900020048,
          1.0811342999804765,
          1.17674620001344,
          1.1750489000114612,
          1.266578999988269,
          1.2652010999736376,
          1.4319117999984883,
          1.4497671999852173,
          1.4748457000241615,
          1.552639800007455,
          1.6122322999872267,
          1.6597273999941535,
          1.6769903000094928,
          1.7849005000316538,
          1.8731366000138223,
          1.9656304999953136,
          1.9837577000143938,
          2.058939400012605,
          2.121595399978105,
          2.2044384999899194,
          2.2231412999681197,
          2.344689300050959,
          2.401228899951093,
          2.5551368999877013,
          2.5335461999638937,
          2.653707299963571,
          2.7135079999570735,
          2.8044958999962546,
          2.9105673999874853,
          3.0561838999856263,
          3.0401108999503776,
          3.289946199976839,
          3.221191300021019,
          3.3352153000305407,
          3.3854406000464223,
          3.4605209000292234,
          3.5825263000442646,
          3.595805899996776,
          3.781202599988319,
          3.874087700038217,
          3.9713494000025094,
          4.0516373999998905,
          4.110324700013734,
          4.229372899979353,
          4.318189000012353,
          4.431117900006939,
          4.565608000033535,
          4.633815000008326,
          4.743951400043443,
          4.798388099996373,
          4.938734199968167,
          4.98919280001428,
          5.128159500018228,
          5.251156199956313,
          5.363660200033337,
          5.486595100024715,
          5.572888700000476
         ],
         "yaxis": "y3",
         "type": "scatter"
        },
        {
         "hovertemplate": "Algoritmo di ordinamento=counting_sort<br>Tipo di input=random<br>Dimensione array=%{x}<br>Time (s)=%{y}<extra></extra>",
         "legendgroup": "counting_sort",
         "line": {
          "color": "#EF553B",
          "dash": "solid"
         },
         "marker": {
          "symbol": "circle"
         },
         "mode": "lines",
         "name": "counting_sort",
         "orientation": "v",
         "showlegend": true,
         "x": [
          100,
          200,
          300,
          400,
          500,
          600,
          700,
          800,
          900,
          1000,
          1100,
          1200,
          1300,
          1400,
          1500,
          1600,
          1700,
          1800,
          1900,
          2000,
          2100,
          2200,
          2300,
          2400,
          2500,
          2600,
          2700,
          2800,
          2900,
          3000,
          3100,
          3200,
          3300,
          3400,
          3500,
          3600,
          3700,
          3800,
          3900,
          4000,
          4100,
          4200,
          4300,
          4400,
          4500,
          4600,
          4700,
          4800,
          4900,
          5000,
          5100,
          5200,
          5300,
          5400,
          5500,
          5600,
          5700,
          5800,
          5900,
          6000,
          6100,
          6200,
          6300,
          6400,
          6500,
          6600,
          6700,
          6800,
          6900,
          7000,
          7100,
          7200,
          7300,
          7400,
          7500,
          7600,
          7700,
          7800,
          7900,
          8000,
          8100,
          8200,
          8300,
          8400,
          8500,
          8600,
          8700,
          8800,
          8900,
          9000,
          9100,
          9200,
          9300,
          9400,
          9500,
          9600,
          9700,
          9800,
          9900
         ],
         "xaxis": "x",
         "y": [
          0.009041200042702258,
          0.008943499997258186,
          0.009157199994660914,
          0.009464800008572638,
          0.00967200001468882,
          0.009395300003234297,
          0.009593199996743351,
          0.009633900015614927,
          0.009657900023739785,
          0.009652500040829182,
          0.009577599994372576,
          0.009529399976599962,
          0.010543899959884584,
          0.009759599983226508,
          0.00980380002874881,
          0.00986460002604872,
          0.01073420001193881,
          0.010538100032135844,
          0.010141699982341379,
          0.010347100032959133,
          0.010752399975899607,
          0.01739839999936521,
          0.01823409995995462,
          0.017633499985095114,
          0.012082799978088588,
          0.01275360002182424,
          0.016844800033140928,
          0.01776760001666844,
          0.018372599966824055,
          0.014989799994509667,
          0.010553000029176474,
          0.010536400019191206,
          0.010320100001990795,
          0.010487099993042648,
          0.010781200020574033,
          0.010260600014589727,
          0.010799900046549737,
          0.011122700001578778,
          0.010899899993091822,
          0.010715600044932216,
          0.01063500001328066,
          0.010941799962893128,
          0.01078749995213002,
          0.010745300038252026,
          0.010983799991663545,
          0.011164600029587746,
          0.010862800001632422,
          0.01286050002090633,
          0.011232900025788695,
          0.010628300020471215,
          0.010906799987424165,
          0.011813400022219867,
          0.011262600019108504,
          0.01057280000532046,
          0.011345900013111532,
          0.012757699994836003,
          0.010868500045035034,
          0.011040300014428794,
          0.011838600039482117,
          0.01138630002969876,
          0.010777799994684756,
          0.011179799970705062,
          0.012069799995515496,
          0.011392699962016195,
          0.010799999989103526,
          0.011903800012078136,
          0.011624399980064481,
          0.011459500005003065,
          0.011008600005879998,
          0.012263799959328026,
          0.011308900022413582,
          0.011444700008723885,
          0.011920600023586303,
          0.011310299974866211,
          0.011388599989004433,
          0.01262029999634251,
          0.011291900009382516,
          0.011369000014383346,
          0.011339800024870783,
          0.012353099999018013,
          0.011417600035201758,
          0.011970599996857345,
          0.012660200009122491,
          0.012003299954812974,
          0.011839000042527914,
          0.012450299982447177,
          0.011565099994186312,
          0.012189500033855438,
          0.012091100041288882,
          0.012057500018272549,
          0.011587799992412329,
          0.011997299967333674,
          0.013085099984891713,
          0.011798600025940686,
          0.011582300008740276,
          0.012666399998124689,
          0.012200700002722442,
          0.012341199966613203,
          0.012924199982080609
         ],
         "yaxis": "y",
         "type": "scatter"
        },
        {
         "hovertemplate": "Algoritmo di ordinamento=counting_sort<br>Tipo di input=sorted<br>Dimensione array=%{x}<br>Time (s)=%{y}<extra></extra>",
         "legendgroup": "counting_sort",
         "line": {
          "color": "#EF553B",
          "dash": "solid"
         },
         "marker": {
          "symbol": "circle"
         },
         "mode": "lines",
         "name": "counting_sort",
         "orientation": "v",
         "showlegend": false,
         "x": [
          100,
          200,
          300,
          400,
          500,
          600,
          700,
          800,
          900,
          1000,
          1100,
          1200,
          1300,
          1400,
          1500,
          1600,
          1700,
          1800,
          1900,
          2000,
          2100,
          2200,
          2300,
          2400,
          2500,
          2600,
          2700,
          2800,
          2900,
          3000,
          3100,
          3200,
          3300,
          3400,
          3500,
          3600,
          3700,
          3800,
          3900,
          4000,
          4100,
          4200,
          4300,
          4400,
          4500,
          4600,
          4700,
          4800,
          4900,
          5000,
          5100,
          5200,
          5300,
          5400,
          5500,
          5600,
          5700,
          5800,
          5900,
          6000,
          6100,
          6200,
          6300,
          6400,
          6500,
          6600,
          6700,
          6800,
          6900,
          7000,
          7100,
          7200,
          7300,
          7400,
          7500,
          7600,
          7700,
          7800,
          7900,
          8000,
          8100,
          8200,
          8300,
          8400,
          8500,
          8600,
          8700,
          8800,
          8900,
          9000,
          9100,
          9200,
          9300,
          9400,
          9500,
          9600,
          9700,
          9800,
          9900
         ],
         "xaxis": "x2",
         "y": [
          0.008967200003098696,
          0.00937859999248758,
          0.00922289997106418,
          0.00981709995539859,
          0.009896400035358965,
          0.009671100007835776,
          0.009839600010309368,
          0.009891599998809397,
          0.010077100014314055,
          0.009645999991334975,
          0.0096244000014849,
          0.010940900014247745,
          0.010124200023710728,
          0.00988680002046749,
          0.010267700010444969,
          0.010385700035840273,
          0.009974399989005178,
          0.010344000009354204,
          0.010383499960880727,
          0.010688800015486777,
          0.010075800004415214,
          0.010465400002431124,
          0.010160400008317083,
          0.011306800006423146,
          0.010512899956665933,
          0.010106600006110966,
          0.011069600004702806,
          0.010319499997422099,
          0.010365499998442829,
          0.010500599979422987,
          0.01083779998589307,
          0.010468799970112741,
          0.01034899998921901,
          0.010411800001747906,
          0.012083699984941632,
          0.010521400021389127,
          0.010510099993553013,
          0.01166169997304678,
          0.010392500029411167,
          0.010420500009786338,
          0.010604400013107806,
          0.010992499999701977,
          0.010317500040400773,
          0.010928800038527697,
          0.010804499965161085,
          0.010933299956377596,
          0.010768599982839078,
          0.010644800029695034,
          0.0105236999806948,
          0.011117600020952523,
          0.011247800022829324,
          0.010788500017952174,
          0.011804399953689426,
          0.010661899985279888,
          0.010988399968482554,
          0.011047599953599274,
          0.011025500018149614,
          0.010815899993758649,
          0.010978200007230043,
          0.011337100004311651,
          0.010746999992989004,
          0.01110619999235496,
          0.011704500007908791,
          0.011108300008345395,
          0.01093259995104745,
          0.011996100016403943,
          0.011252600001171231,
          0.011029699991922826,
          0.01117719995090738,
          0.012182200036477298,
          0.011660499963909388,
          0.011160099995322526,
          0.011212200042791665,
          0.01147049997234717,
          0.011550099996384233,
          0.011301799968350679,
          0.011394900036975741,
          0.011341499979607761,
          0.011840199993457645,
          0.012899300025310367,
          0.011330100009217858,
          0.011292100010905415,
          0.011355300026480108,
          0.011970499996095896,
          0.011225899972487241,
          0.011619299999438226,
          0.01210170000558719,
          0.011537700018379837,
          0.011412199994083494,
          0.011936600029002875,
          0.011434600048232824,
          0.011752599966712296,
          0.012640099972486496,
          0.011408900027163327,
          0.011195800034329295,
          0.01130159996682778,
          0.012106999987736344,
          0.011193200014531612,
          0.012776899966411293
         ],
         "yaxis": "y2",
         "type": "scatter"
        },
        {
         "hovertemplate": "Algoritmo di ordinamento=counting_sort<br>Tipo di input=reversed<br>Dimensione array=%{x}<br>Time (s)=%{y}<extra></extra>",
         "legendgroup": "counting_sort",
         "line": {
          "color": "#EF553B",
          "dash": "solid"
         },
         "marker": {
          "symbol": "circle"
         },
         "mode": "lines",
         "name": "counting_sort",
         "orientation": "v",
         "showlegend": false,
         "x": [
          100,
          200,
          300,
          400,
          500,
          600,
          700,
          800,
          900,
          1000,
          1100,
          1200,
          1300,
          1400,
          1500,
          1600,
          1700,
          1800,
          1900,
          2000,
          2100,
          2200,
          2300,
          2400,
          2500,
          2600,
          2700,
          2800,
          2900,
          3000,
          3100,
          3200,
          3300,
          3400,
          3500,
          3600,
          3700,
          3800,
          3900,
          4000,
          4100,
          4200,
          4300,
          4400,
          4500,
          4600,
          4700,
          4800,
          4900,
          5000,
          5100,
          5200,
          5300,
          5400,
          5500,
          5600,
          5700,
          5800,
          5900,
          6000,
          6100,
          6200,
          6300,
          6400,
          6500,
          6600,
          6700,
          6800,
          6900,
          7000,
          7100,
          7200,
          7300,
          7400,
          7500,
          7600,
          7700,
          7800,
          7900,
          8000,
          8100,
          8200,
          8300,
          8400,
          8500,
          8600,
          8700,
          8800,
          8900,
          9000,
          9100,
          9200,
          9300,
          9400,
          9500,
          9600,
          9700,
          9800,
          9900
         ],
         "xaxis": "x3",
         "y": [
          0.009077499969862401,
          0.009081600001081824,
          0.009334400005172938,
          0.009998699999414384,
          0.009903399972245097,
          0.009600600053090602,
          0.009732900012750179,
          0.00971650000428781,
          0.012920000008307397,
          0.01766929996665567,
          0.0158604999887757,
          0.01619559997925535,
          0.017991999979130924,
          0.01680869999108836,
          0.01758650003466755,
          0.01811409997753799,
          0.016998799983412027,
          0.010173399990890175,
          0.0109208999783732,
          0.010199200012721121,
          0.010514599969610572,
          0.010203000041656196,
          0.01357010001083836,
          0.010603500006254762,
          0.010544000018853694,
          0.010660600033588707,
          0.010420500009786338,
          0.012242099968716502,
          0.010697899968363345,
          0.011223800014704466,
          0.01070169999729842,
          0.010352600016631186,
          0.011120199982542545,
          0.010558399953879416,
          0.011131500010378659,
          0.010853999992832541,
          0.010970200004521757,
          0.010738400043919683,
          0.010493800044059753,
          0.010653099976480007,
          0.010849400016013533,
          0.010847600002307445,
          0.011194400023669004,
          0.011020699981600046,
          0.01092400000197813,
          0.01099510001949966,
          0.010696100012864918,
          0.01145120000001043,
          0.01303959998767823,
          0.01068970002233982,
          0.011722199968062341,
          0.010938099992927164,
          0.010802100005093962,
          0.012269600003492087,
          0.01082470000255853,
          0.011256200028583407,
          0.01130459998967126,
          0.011140700022224337,
          0.010871900012716651,
          0.011223500012420118,
          0.011761099973227829,
          0.010675500030629337,
          0.010973999975249171,
          0.012105500034522265,
          0.010956200014334172,
          0.010782499972265214,
          0.011609299981500953,
          0.011640099983196706,
          0.011252099997363985,
          0.011109899962320924,
          0.01144700002623722,
          0.011306900007184595,
          0.011202899971976876,
          0.012174700037576258,
          0.011797700019087642,
          0.011280199978500605,
          0.011229499999899417,
          0.011406300007365644,
          0.011213099991437048,
          0.011444200004916638,
          0.011850400012917817,
          0.011218099971301854,
          0.011391200008802116,
          0.012059499975293875,
          0.011803200002759695,
          0.011215500009711832,
          0.011417899979278445,
          0.012288999976590276,
          0.011751100013498217,
          0.01155360002303496,
          0.011770799988880754,
          0.01240549999056384,
          0.01184110000031069,
          0.012152599985711277,
          0.011784600035753101,
          0.011543400003574789,
          0.012153999996371567,
          0.012118400016333908,
          0.011930299981031567
         ],
         "yaxis": "y3",
         "type": "scatter"
        }
       ],
       "layout": {
        "template": {
         "data": {
          "histogram2dcontour": [
           {
            "type": "histogram2dcontour",
            "colorbar": {
             "outlinewidth": 0,
             "ticks": ""
            },
            "colorscale": [
             [
              0.0,
              "#0d0887"
             ],
             [
              0.1111111111111111,
              "#46039f"
             ],
             [
              0.2222222222222222,
              "#7201a8"
             ],
             [
              0.3333333333333333,
              "#9c179e"
             ],
             [
              0.4444444444444444,
              "#bd3786"
             ],
             [
              0.5555555555555556,
              "#d8576b"
             ],
             [
              0.6666666666666666,
              "#ed7953"
             ],
             [
              0.7777777777777778,
              "#fb9f3a"
             ],
             [
              0.8888888888888888,
              "#fdca26"
             ],
             [
              1.0,
              "#f0f921"
             ]
            ]
           }
          ],
          "choropleth": [
           {
            "type": "choropleth",
            "colorbar": {
             "outlinewidth": 0,
             "ticks": ""
            }
           }
          ],
          "histogram2d": [
           {
            "type": "histogram2d",
            "colorbar": {
             "outlinewidth": 0,
             "ticks": ""
            },
            "colorscale": [
             [
              0.0,
              "#0d0887"
             ],
             [
              0.1111111111111111,
              "#46039f"
             ],
             [
              0.2222222222222222,
              "#7201a8"
             ],
             [
              0.3333333333333333,
              "#9c179e"
             ],
             [
              0.4444444444444444,
              "#bd3786"
             ],
             [
              0.5555555555555556,
              "#d8576b"
             ],
             [
              0.6666666666666666,
              "#ed7953"
             ],
             [
              0.7777777777777778,
              "#fb9f3a"
             ],
             [
              0.8888888888888888,
              "#fdca26"
             ],
             [
              1.0,
              "#f0f921"
             ]
            ]
           }
          ],
          "heatmap": [
           {
            "type": "heatmap",
            "colorbar": {
             "outlinewidth": 0,
             "ticks": ""
            },
            "colorscale": [
             [
              0.0,
              "#0d0887"
             ],
             [
              0.1111111111111111,
              "#46039f"
             ],
             [
              0.2222222222222222,
              "#7201a8"
             ],
             [
              0.3333333333333333,
              "#9c179e"
             ],
             [
              0.4444444444444444,
              "#bd3786"
             ],
             [
              0.5555555555555556,
              "#d8576b"
             ],
             [
              0.6666666666666666,
              "#ed7953"
             ],
             [
              0.7777777777777778,
              "#fb9f3a"
             ],
             [
              0.8888888888888888,
              "#fdca26"
             ],
             [
              1.0,
              "#f0f921"
             ]
            ]
           }
          ],
          "heatmapgl": [
           {
            "type": "heatmapgl",
            "colorbar": {
             "outlinewidth": 0,
             "ticks": ""
            },
            "colorscale": [
             [
              0.0,
              "#0d0887"
             ],
             [
              0.1111111111111111,
              "#46039f"
             ],
             [
              0.2222222222222222,
              "#7201a8"
             ],
             [
              0.3333333333333333,
              "#9c179e"
             ],
             [
              0.4444444444444444,
              "#bd3786"
             ],
             [
              0.5555555555555556,
              "#d8576b"
             ],
             [
              0.6666666666666666,
              "#ed7953"
             ],
             [
              0.7777777777777778,
              "#fb9f3a"
             ],
             [
              0.8888888888888888,
              "#fdca26"
             ],
             [
              1.0,
              "#f0f921"
             ]
            ]
           }
          ],
          "contourcarpet": [
           {
            "type": "contourcarpet",
            "colorbar": {
             "outlinewidth": 0,
             "ticks": ""
            }
           }
          ],
          "contour": [
           {
            "type": "contour",
            "colorbar": {
             "outlinewidth": 0,
             "ticks": ""
            },
            "colorscale": [
             [
              0.0,
              "#0d0887"
             ],
             [
              0.1111111111111111,
              "#46039f"
             ],
             [
              0.2222222222222222,
              "#7201a8"
             ],
             [
              0.3333333333333333,
              "#9c179e"
             ],
             [
              0.4444444444444444,
              "#bd3786"
             ],
             [
              0.5555555555555556,
              "#d8576b"
             ],
             [
              0.6666666666666666,
              "#ed7953"
             ],
             [
              0.7777777777777778,
              "#fb9f3a"
             ],
             [
              0.8888888888888888,
              "#fdca26"
             ],
             [
              1.0,
              "#f0f921"
             ]
            ]
           }
          ],
          "surface": [
           {
            "type": "surface",
            "colorbar": {
             "outlinewidth": 0,
             "ticks": ""
            },
            "colorscale": [
             [
              0.0,
              "#0d0887"
             ],
             [
              0.1111111111111111,
              "#46039f"
             ],
             [
              0.2222222222222222,
              "#7201a8"
             ],
             [
              0.3333333333333333,
              "#9c179e"
             ],
             [
              0.4444444444444444,
              "#bd3786"
             ],
             [
              0.5555555555555556,
              "#d8576b"
             ],
             [
              0.6666666666666666,
              "#ed7953"
             ],
             [
              0.7777777777777778,
              "#fb9f3a"
             ],
             [
              0.8888888888888888,
              "#fdca26"
             ],
             [
              1.0,
              "#f0f921"
             ]
            ]
           }
          ],
          "mesh3d": [
           {
            "type": "mesh3d",
            "colorbar": {
             "outlinewidth": 0,
             "ticks": ""
            }
           }
          ],
          "scatter": [
           {
            "marker": {
             "line": {
              "color": "#283442"
             }
            },
            "type": "scatter"
           }
          ],
          "parcoords": [
           {
            "type": "parcoords",
            "line": {
             "colorbar": {
              "outlinewidth": 0,
              "ticks": ""
             }
            }
           }
          ],
          "scatterpolargl": [
           {
            "type": "scatterpolargl",
            "marker": {
             "colorbar": {
              "outlinewidth": 0,
              "ticks": ""
             }
            }
           }
          ],
          "bar": [
           {
            "error_x": {
             "color": "#f2f5fa"
            },
            "error_y": {
             "color": "#f2f5fa"
            },
            "marker": {
             "line": {
              "color": "rgb(17,17,17)",
              "width": 0.5
             },
             "pattern": {
              "fillmode": "overlay",
              "size": 10,
              "solidity": 0.2
             }
            },
            "type": "bar"
           }
          ],
          "scattergeo": [
           {
            "type": "scattergeo",
            "marker": {
             "colorbar": {
              "outlinewidth": 0,
              "ticks": ""
             }
            }
           }
          ],
          "scatterpolar": [
           {
            "type": "scatterpolar",
            "marker": {
             "colorbar": {
              "outlinewidth": 0,
              "ticks": ""
             }
            }
           }
          ],
          "histogram": [
           {
            "marker": {
             "pattern": {
              "fillmode": "overlay",
              "size": 10,
              "solidity": 0.2
             }
            },
            "type": "histogram"
           }
          ],
          "scattergl": [
           {
            "marker": {
             "line": {
              "color": "#283442"
             }
            },
            "type": "scattergl"
           }
          ],
          "scatter3d": [
           {
            "type": "scatter3d",
            "line": {
             "colorbar": {
              "outlinewidth": 0,
              "ticks": ""
             }
            },
            "marker": {
             "colorbar": {
              "outlinewidth": 0,
              "ticks": ""
             }
            }
           }
          ],
          "scattermapbox": [
           {
            "type": "scattermapbox",
            "marker": {
             "colorbar": {
              "outlinewidth": 0,
              "ticks": ""
             }
            }
           }
          ],
          "scatterternary": [
           {
            "type": "scatterternary",
            "marker": {
             "colorbar": {
              "outlinewidth": 0,
              "ticks": ""
             }
            }
           }
          ],
          "scattercarpet": [
           {
            "type": "scattercarpet",
            "marker": {
             "colorbar": {
              "outlinewidth": 0,
              "ticks": ""
             }
            }
           }
          ],
          "carpet": [
           {
            "aaxis": {
             "endlinecolor": "#A2B1C6",
             "gridcolor": "#506784",
             "linecolor": "#506784",
             "minorgridcolor": "#506784",
             "startlinecolor": "#A2B1C6"
            },
            "baxis": {
             "endlinecolor": "#A2B1C6",
             "gridcolor": "#506784",
             "linecolor": "#506784",
             "minorgridcolor": "#506784",
             "startlinecolor": "#A2B1C6"
            },
            "type": "carpet"
           }
          ],
          "table": [
           {
            "cells": {
             "fill": {
              "color": "#506784"
             },
             "line": {
              "color": "rgb(17,17,17)"
             }
            },
            "header": {
             "fill": {
              "color": "#2a3f5f"
             },
             "line": {
              "color": "rgb(17,17,17)"
             }
            },
            "type": "table"
           }
          ],
          "barpolar": [
           {
            "marker": {
             "line": {
              "color": "rgb(17,17,17)",
              "width": 0.5
             },
             "pattern": {
              "fillmode": "overlay",
              "size": 10,
              "solidity": 0.2
             }
            },
            "type": "barpolar"
           }
          ],
          "pie": [
           {
            "automargin": true,
            "type": "pie"
           }
          ]
         },
         "layout": {
          "autotypenumbers": "strict",
          "colorway": [
           "#636efa",
           "#EF553B",
           "#00cc96",
           "#ab63fa",
           "#FFA15A",
           "#19d3f3",
           "#FF6692",
           "#B6E880",
           "#FF97FF",
           "#FECB52"
          ],
          "font": {
           "color": "#f2f5fa"
          },
          "hovermode": "closest",
          "hoverlabel": {
           "align": "left"
          },
          "paper_bgcolor": "rgb(17,17,17)",
          "plot_bgcolor": "rgb(17,17,17)",
          "polar": {
           "bgcolor": "rgb(17,17,17)",
           "angularaxis": {
            "gridcolor": "#506784",
            "linecolor": "#506784",
            "ticks": ""
           },
           "radialaxis": {
            "gridcolor": "#506784",
            "linecolor": "#506784",
            "ticks": ""
           }
          },
          "ternary": {
           "bgcolor": "rgb(17,17,17)",
           "aaxis": {
            "gridcolor": "#506784",
            "linecolor": "#506784",
            "ticks": ""
           },
           "baxis": {
            "gridcolor": "#506784",
            "linecolor": "#506784",
            "ticks": ""
           },
           "caxis": {
            "gridcolor": "#506784",
            "linecolor": "#506784",
            "ticks": ""
           }
          },
          "coloraxis": {
           "colorbar": {
            "outlinewidth": 0,
            "ticks": ""
           }
          },
          "colorscale": {
           "sequential": [
            [
             0.0,
             "#0d0887"
            ],
            [
             0.1111111111111111,
             "#46039f"
            ],
            [
             0.2222222222222222,
             "#7201a8"
            ],
            [
             0.3333333333333333,
             "#9c179e"
            ],
            [
             0.4444444444444444,
             "#bd3786"
            ],
            [
             0.5555555555555556,
             "#d8576b"
            ],
            [
             0.6666666666666666,
             "#ed7953"
            ],
            [
             0.7777777777777778,
             "#fb9f3a"
            ],
            [
             0.8888888888888888,
             "#fdca26"
            ],
            [
             1.0,
             "#f0f921"
            ]
           ],
           "sequentialminus": [
            [
             0.0,
             "#0d0887"
            ],
            [
             0.1111111111111111,
             "#46039f"
            ],
            [
             0.2222222222222222,
             "#7201a8"
            ],
            [
             0.3333333333333333,
             "#9c179e"
            ],
            [
             0.4444444444444444,
             "#bd3786"
            ],
            [
             0.5555555555555556,
             "#d8576b"
            ],
            [
             0.6666666666666666,
             "#ed7953"
            ],
            [
             0.7777777777777778,
             "#fb9f3a"
            ],
            [
             0.8888888888888888,
             "#fdca26"
            ],
            [
             1.0,
             "#f0f921"
            ]
           ],
           "diverging": [
            [
             0,
             "#8e0152"
            ],
            [
             0.1,
             "#c51b7d"
            ],
            [
             0.2,
             "#de77ae"
            ],
            [
             0.3,
             "#f1b6da"
            ],
            [
             0.4,
             "#fde0ef"
            ],
            [
             0.5,
             "#f7f7f7"
            ],
            [
             0.6,
             "#e6f5d0"
            ],
            [
             0.7,
             "#b8e186"
            ],
            [
             0.8,
             "#7fbc41"
            ],
            [
             0.9,
             "#4d9221"
            ],
            [
             1,
             "#276419"
            ]
           ]
          },
          "xaxis": {
           "gridcolor": "#283442",
           "linecolor": "#506784",
           "ticks": "",
           "title": {
            "standoff": 15
           },
           "zerolinecolor": "#283442",
           "automargin": true,
           "zerolinewidth": 2
          },
          "yaxis": {
           "gridcolor": "#283442",
           "linecolor": "#506784",
           "ticks": "",
           "title": {
            "standoff": 15
           },
           "zerolinecolor": "#283442",
           "automargin": true,
           "zerolinewidth": 2
          },
          "scene": {
           "xaxis": {
            "backgroundcolor": "rgb(17,17,17)",
            "gridcolor": "#506784",
            "linecolor": "#506784",
            "showbackground": true,
            "ticks": "",
            "zerolinecolor": "#C8D4E3",
            "gridwidth": 2
           },
           "yaxis": {
            "backgroundcolor": "rgb(17,17,17)",
            "gridcolor": "#506784",
            "linecolor": "#506784",
            "showbackground": true,
            "ticks": "",
            "zerolinecolor": "#C8D4E3",
            "gridwidth": 2
           },
           "zaxis": {
            "backgroundcolor": "rgb(17,17,17)",
            "gridcolor": "#506784",
            "linecolor": "#506784",
            "showbackground": true,
            "ticks": "",
            "zerolinecolor": "#C8D4E3",
            "gridwidth": 2
           }
          },
          "shapedefaults": {
           "line": {
            "color": "#f2f5fa"
           }
          },
          "annotationdefaults": {
           "arrowcolor": "#f2f5fa",
           "arrowhead": 0,
           "arrowwidth": 1
          },
          "geo": {
           "bgcolor": "rgb(17,17,17)",
           "landcolor": "rgb(17,17,17)",
           "subunitcolor": "#506784",
           "showland": true,
           "showlakes": true,
           "lakecolor": "rgb(17,17,17)"
          },
          "title": {
           "x": 0.05
          },
          "updatemenudefaults": {
           "bgcolor": "#506784",
           "borderwidth": 0
          },
          "sliderdefaults": {
           "bgcolor": "#C8D4E3",
           "borderwidth": 1,
           "bordercolor": "rgb(17,17,17)",
           "tickwidth": 0
          },
          "mapbox": {
           "style": "dark"
          }
         }
        },
        "xaxis": {
         "anchor": "y",
         "domain": [
          0.0,
          0.31999999999999995
         ],
         "title": {
          "text": "Dimensione array"
         }
        },
        "yaxis": {
         "anchor": "x",
         "domain": [
          0.0,
          1.0
         ],
         "title": {
          "text": "Time (s)"
         }
        },
        "xaxis2": {
         "anchor": "y2",
         "domain": [
          0.33999999999999997,
          0.6599999999999999
         ],
         "matches": "x",
         "title": {
          "text": "Dimensione array"
         }
        },
        "yaxis2": {
         "anchor": "x2",
         "domain": [
          0.0,
          1.0
         ],
         "matches": "y",
         "showticklabels": false
        },
        "xaxis3": {
         "anchor": "y3",
         "domain": [
          0.6799999999999999,
          0.9999999999999999
         ],
         "matches": "x",
         "title": {
          "text": "Dimensione array"
         }
        },
        "yaxis3": {
         "anchor": "x3",
         "domain": [
          0.0,
          1.0
         ],
         "matches": "y",
         "showticklabels": false
        },
        "annotations": [
         {
          "font": {},
          "showarrow": false,
          "text": "Tipo di input=random",
          "x": 0.15999999999999998,
          "xanchor": "center",
          "xref": "paper",
          "y": 1.0,
          "yanchor": "bottom",
          "yref": "paper"
         },
         {
          "font": {},
          "showarrow": false,
          "text": "Tipo di input=sorted",
          "x": 0.49999999999999994,
          "xanchor": "center",
          "xref": "paper",
          "y": 1.0,
          "yanchor": "bottom",
          "yref": "paper"
         },
         {
          "font": {},
          "showarrow": false,
          "text": "Tipo di input=reversed",
          "x": 0.8399999999999999,
          "xanchor": "center",
          "xref": "paper",
          "y": 1.0,
          "yanchor": "bottom",
          "yref": "paper"
         }
        ],
        "legend": {
         "title": {
          "text": "Algoritmo di ordinamento"
         },
         "tracegroupgap": 0
        },
        "title": {
         "text": "Sorting algorithms"
        }
       },
       "config": {
        "plotlyServerURL": "https://plot.ly"
       }
      },
      "text/html": "<div>                            <div id=\"9c110ad5-f009-4cfb-92c7-487a7b702b7a\" class=\"plotly-graph-div\" style=\"height:525px; width:100%;\"></div>            <script type=\"text/javascript\">                require([\"plotly\"], function(Plotly) {                    window.PLOTLYENV=window.PLOTLYENV || {};                                    if (document.getElementById(\"9c110ad5-f009-4cfb-92c7-487a7b702b7a\")) {                    Plotly.newPlot(                        \"9c110ad5-f009-4cfb-92c7-487a7b702b7a\",                        [{\"hovertemplate\":\"Algoritmo di ordinamento=insertion_sort<br>Tipo di input=random<br>Dimensione array=%{x}<br>Time (s)=%{y}<extra></extra>\",\"legendgroup\":\"insertion_sort\",\"line\":{\"color\":\"#636efa\",\"dash\":\"solid\"},\"marker\":{\"symbol\":\"circle\"},\"mode\":\"lines\",\"name\":\"insertion_sort\",\"orientation\":\"v\",\"showlegend\":true,\"x\":[100,200,300,400,500,600,700,800,900,1000,1100,1200,1300,1400,1500,1600,1700,1800,1900,2000,2100,2200,2300,2400,2500,2600,2700,2800,2900,3000,3100,3200,3300,3400,3500,3600,3700,3800,3900,4000,4100,4200,4300,4400,4500,4600,4700,4800,4900,5000,5100,5200,5300,5400,5500,5600,5700,5800,5900,6000,6100,6200,6300,6400,6500,6600,6700,6800,6900,7000,7100,7200,7300,7400,7500,7600,7700,7800,7900,8000,8100,8200,8300,8400,8500,8600,8700,8800,8900,9000,9100,9200,9300,9400,9500,9600,9700,9800,9900],\"xaxis\":\"x\",\"y\":[0.0002644999767653644,0.0009584000217728317,0.0024231999996118248,0.004063899978064001,0.006714800023473799,0.011310900037642568,0.013115100038703531,0.023330099997110665,0.021694499999284744,0.03517590003320947,0.038978700002189726,0.042579200002364814,0.05205159995239228,0.06329559994628653,0.07245539996074513,0.09644509997451678,0.08648719999473542,0.09033889998681843,0.1048770000343211,0.11517419997835532,0.1275372999953106,0.16147960000671446,0.1544452999951318,0.18536709999898449,0.19406250002793968,0.20230309996986762,0.22488569997949526,0.21746660000644624,0.23585479997564107,0.26645379996625707,0.2883556000306271,0.276457300002221,0.30040900001768023,0.3533608999568969,0.3371839000028558,0.35937810002360493,0.3881157000432722,0.4014465000363998,0.46477979997871444,0.4351260000257753,0.5040412999805994,0.5124160000123084,0.5296297000022605,0.6464215000160038,0.6383950999588706,0.6542984999832697,0.7059479999588802,0.6866445000050589,0.75416640000185,0.8046813000109978,0.7334722999949008,0.7478828000021167,0.8334049999830313,0.816936600022018,0.8932468999992125,0.8799752000486478,0.989230300008785,1.035076999978628,1.0616345999878831,1.0793249999987893,1.1128628000151366,1.0903677999740466,1.1083082999684848,1.1792133999988437,1.1614713000017218,1.223701200040523,1.369628400017973,1.4373575000208803,1.4139523999765515,1.3443699999479577,1.3848346999729984,1.449372700008098,1.5118277999572456,1.6086707000504248,1.728481099999044,1.6728064000490122,1.6565347000141628,1.7119913999922574,1.7488692000042647,2.053572000004351,2.0698452000506222,1.9186933999881148,1.9404205000028014,2.0577616000082344,2.2442918999586254,2.129423999984283,2.1064795999554917,2.140658500022255,2.350849099981133,2.4846122000017203,2.4154887000331655,2.654798400006257,2.3718589000054635,2.5621149000362493,2.5934807999874465,2.6093399000237696,2.7502788999699987,2.7681334000080824,2.765459100017324],\"yaxis\":\"y\",\"type\":\"scatter\"},{\"hovertemplate\":\"Algoritmo di ordinamento=insertion_sort<br>Tipo di input=sorted<br>Dimensione array=%{x}<br>Time (s)=%{y}<extra></extra>\",\"legendgroup\":\"insertion_sort\",\"line\":{\"color\":\"#636efa\",\"dash\":\"solid\"},\"marker\":{\"symbol\":\"circle\"},\"mode\":\"lines\",\"name\":\"insertion_sort\",\"orientation\":\"v\",\"showlegend\":false,\"x\":[100,200,300,400,500,600,700,800,900,1000,1100,1200,1300,1400,1500,1600,1700,1800,1900,2000,2100,2200,2300,2400,2500,2600,2700,2800,2900,3000,3100,3200,3300,3400,3500,3600,3700,3800,3900,4000,4100,4200,4300,4400,4500,4600,4700,4800,4900,5000,5100,5200,5300,5400,5500,5600,5700,5800,5900,6000,6100,6200,6300,6400,6500,6600,6700,6800,6900,7000,7100,7200,7300,7400,7500,7600,7700,7800,7900,8000,8100,8200,8300,8400,8500,8600,8700,8800,8900,9000,9100,9200,9300,9400,9500,9600,9700,9800,9900],\"xaxis\":\"x2\",\"y\":[1.2199976481497288e-05,2.2799998987466097e-05,3.609998384490609e-05,4.780001472681761e-05,6.10999995842576e-05,7.390003884211183e-05,8.829997386783361e-05,0.0001370999962091446,0.00011379999341443181,0.00012910005170851946,0.00014080002438277006,0.0001561000244691968,0.0001697000116109848,0.00018079997971653938,0.0001970999874174595,0.0002066000015474856,0.00021889997879043221,0.00023279996821656823,0.00024530000519007444,0.0002578999847173691,0.0002704999642446637,0.0002869999734684825,0.00030099996365606785,0.0003106999793089926,0.00032400002237409353,0.00033520004944875836,0.00035180000122636557,0.000361400016117841,0.0003861000295728445,0.0003893999964930117,0.0004034999874420464,0.0004165000282227993,0.00048509996850043535,0.00043869996443390846,0.0004866000381298363,0.0004697999684140086,0.0004825000069104135,0.0004930999712087214,0.0005311000277288258,0.0005483999848365784,0.000535300001502037,0.000547999981790781,0.00057640002341941,0.0005718999891541898,0.0005862999823875725,0.0006018999847583473,0.0006170000415295362,0.0006337999948300421,0.0006413999944925308,0.0006575000006705523,0.0006664000102318823,0.0006806000019423664,0.0007273000082932413,0.0007128000142984092,0.0007121000089682639,0.0009732000180520117,0.001275799993891269,0.0013199999812059104,0.0008382000378333032,0.0009758999804034829,0.0008459999808110297,0.0008372999727725983,0.0008618999854661524,0.0008611999801360071,0.001436699996702373,0.0010037000174634159,0.0009108000085689127,0.0009240999934263527,0.0009376000380143523,0.0009485000045970082,0.0009604999795556068,0.0009813000215217471,0.0009905999759212136,0.0010076999897137284,0.0010402000043541193,0.001033000007737428,0.0010442000348120928,0.0010520000359974802,0.0010743000311776996,0.0010777999996207654,0.001094500010367483,0.0011114999651908875,0.0011331000132486224,0.0010597999789752066,0.001226999971549958,0.0011137000401504338,0.0011192000238224864,0.0011436000349931419,0.0011501000262796879,0.0011687999940477312,0.00118090002797544,0.0012091000098735094,0.0012156000011600554,0.0012381999986246228,0.001572399982251227,0.0013291999930515885,0.0012640999630093575,0.0012824999867007136,0.0012984999921172857],\"yaxis\":\"y2\",\"type\":\"scatter\"},{\"hovertemplate\":\"Algoritmo di ordinamento=insertion_sort<br>Tipo di input=reversed<br>Dimensione array=%{x}<br>Time (s)=%{y}<extra></extra>\",\"legendgroup\":\"insertion_sort\",\"line\":{\"color\":\"#636efa\",\"dash\":\"solid\"},\"marker\":{\"symbol\":\"circle\"},\"mode\":\"lines\",\"name\":\"insertion_sort\",\"orientation\":\"v\",\"showlegend\":false,\"x\":[100,200,300,400,500,600,700,800,900,1000,1100,1200,1300,1400,1500,1600,1700,1800,1900,2000,2100,2200,2300,2400,2500,2600,2700,2800,2900,3000,3100,3200,3300,3400,3500,3600,3700,3800,3900,4000,4100,4200,4300,4400,4500,4600,4700,4800,4900,5000,5100,5200,5300,5400,5500,5600,5700,5800,5900,6000,6100,6200,6300,6400,6500,6600,6700,6800,6900,7000,7100,7200,7300,7400,7500,7600,7700,7800,7900,8000,8100,8200,8300,8400,8500,8600,8700,8800,8900,9000,9100,9200,9300,9400,9500,9600,9700,9800,9900],\"xaxis\":\"x3\",\"y\":[0.0004911000141873956,0.0019676000229083,0.00448329997016117,0.008154300041496754,0.012776399962604046,0.018718199979048222,0.027942599961534142,0.03452129999641329,0.04414569999789819,0.05449090001638979,0.06357380002737045,0.07912440004292876,0.09562239999650046,0.16079620004165918,0.12071069999365136,0.14122210000641644,0.16740109998499975,0.1750768999918364,0.19124399998690933,0.22031549998791888,0.2459235000424087,0.2662519000004977,0.2874645999982022,0.3694486999884248,0.33873710001353174,0.37537939997855574,0.39900129998568445,0.4402251000283286,0.4751308999839239,0.5350024999934249,0.527390800009016,0.5680232000304386,0.6472987000015564,0.6389578999951482,0.707977399986703,0.7558771999902092,0.7631993000395596,0.8347088000155054,0.8975237000267953,0.9175611999817193,0.9902800999698229,0.9813682999811135,1.110768900020048,1.0811342999804765,1.17674620001344,1.1750489000114612,1.266578999988269,1.2652010999736376,1.4319117999984883,1.4497671999852173,1.4748457000241615,1.552639800007455,1.6122322999872267,1.6597273999941535,1.6769903000094928,1.7849005000316538,1.8731366000138223,1.9656304999953136,1.9837577000143938,2.058939400012605,2.121595399978105,2.2044384999899194,2.2231412999681197,2.344689300050959,2.401228899951093,2.5551368999877013,2.5335461999638937,2.653707299963571,2.7135079999570735,2.8044958999962546,2.9105673999874853,3.0561838999856263,3.0401108999503776,3.289946199976839,3.221191300021019,3.3352153000305407,3.3854406000464223,3.4605209000292234,3.5825263000442646,3.595805899996776,3.781202599988319,3.874087700038217,3.9713494000025094,4.0516373999998905,4.110324700013734,4.229372899979353,4.318189000012353,4.431117900006939,4.565608000033535,4.633815000008326,4.743951400043443,4.798388099996373,4.938734199968167,4.98919280001428,5.128159500018228,5.251156199956313,5.363660200033337,5.486595100024715,5.572888700000476],\"yaxis\":\"y3\",\"type\":\"scatter\"},{\"hovertemplate\":\"Algoritmo di ordinamento=counting_sort<br>Tipo di input=random<br>Dimensione array=%{x}<br>Time (s)=%{y}<extra></extra>\",\"legendgroup\":\"counting_sort\",\"line\":{\"color\":\"#EF553B\",\"dash\":\"solid\"},\"marker\":{\"symbol\":\"circle\"},\"mode\":\"lines\",\"name\":\"counting_sort\",\"orientation\":\"v\",\"showlegend\":true,\"x\":[100,200,300,400,500,600,700,800,900,1000,1100,1200,1300,1400,1500,1600,1700,1800,1900,2000,2100,2200,2300,2400,2500,2600,2700,2800,2900,3000,3100,3200,3300,3400,3500,3600,3700,3800,3900,4000,4100,4200,4300,4400,4500,4600,4700,4800,4900,5000,5100,5200,5300,5400,5500,5600,5700,5800,5900,6000,6100,6200,6300,6400,6500,6600,6700,6800,6900,7000,7100,7200,7300,7400,7500,7600,7700,7800,7900,8000,8100,8200,8300,8400,8500,8600,8700,8800,8900,9000,9100,9200,9300,9400,9500,9600,9700,9800,9900],\"xaxis\":\"x\",\"y\":[0.009041200042702258,0.008943499997258186,0.009157199994660914,0.009464800008572638,0.00967200001468882,0.009395300003234297,0.009593199996743351,0.009633900015614927,0.009657900023739785,0.009652500040829182,0.009577599994372576,0.009529399976599962,0.010543899959884584,0.009759599983226508,0.00980380002874881,0.00986460002604872,0.01073420001193881,0.010538100032135844,0.010141699982341379,0.010347100032959133,0.010752399975899607,0.01739839999936521,0.01823409995995462,0.017633499985095114,0.012082799978088588,0.01275360002182424,0.016844800033140928,0.01776760001666844,0.018372599966824055,0.014989799994509667,0.010553000029176474,0.010536400019191206,0.010320100001990795,0.010487099993042648,0.010781200020574033,0.010260600014589727,0.010799900046549737,0.011122700001578778,0.010899899993091822,0.010715600044932216,0.01063500001328066,0.010941799962893128,0.01078749995213002,0.010745300038252026,0.010983799991663545,0.011164600029587746,0.010862800001632422,0.01286050002090633,0.011232900025788695,0.010628300020471215,0.010906799987424165,0.011813400022219867,0.011262600019108504,0.01057280000532046,0.011345900013111532,0.012757699994836003,0.010868500045035034,0.011040300014428794,0.011838600039482117,0.01138630002969876,0.010777799994684756,0.011179799970705062,0.012069799995515496,0.011392699962016195,0.010799999989103526,0.011903800012078136,0.011624399980064481,0.011459500005003065,0.011008600005879998,0.012263799959328026,0.011308900022413582,0.011444700008723885,0.011920600023586303,0.011310299974866211,0.011388599989004433,0.01262029999634251,0.011291900009382516,0.011369000014383346,0.011339800024870783,0.012353099999018013,0.011417600035201758,0.011970599996857345,0.012660200009122491,0.012003299954812974,0.011839000042527914,0.012450299982447177,0.011565099994186312,0.012189500033855438,0.012091100041288882,0.012057500018272549,0.011587799992412329,0.011997299967333674,0.013085099984891713,0.011798600025940686,0.011582300008740276,0.012666399998124689,0.012200700002722442,0.012341199966613203,0.012924199982080609],\"yaxis\":\"y\",\"type\":\"scatter\"},{\"hovertemplate\":\"Algoritmo di ordinamento=counting_sort<br>Tipo di input=sorted<br>Dimensione array=%{x}<br>Time (s)=%{y}<extra></extra>\",\"legendgroup\":\"counting_sort\",\"line\":{\"color\":\"#EF553B\",\"dash\":\"solid\"},\"marker\":{\"symbol\":\"circle\"},\"mode\":\"lines\",\"name\":\"counting_sort\",\"orientation\":\"v\",\"showlegend\":false,\"x\":[100,200,300,400,500,600,700,800,900,1000,1100,1200,1300,1400,1500,1600,1700,1800,1900,2000,2100,2200,2300,2400,2500,2600,2700,2800,2900,3000,3100,3200,3300,3400,3500,3600,3700,3800,3900,4000,4100,4200,4300,4400,4500,4600,4700,4800,4900,5000,5100,5200,5300,5400,5500,5600,5700,5800,5900,6000,6100,6200,6300,6400,6500,6600,6700,6800,6900,7000,7100,7200,7300,7400,7500,7600,7700,7800,7900,8000,8100,8200,8300,8400,8500,8600,8700,8800,8900,9000,9100,9200,9300,9400,9500,9600,9700,9800,9900],\"xaxis\":\"x2\",\"y\":[0.008967200003098696,0.00937859999248758,0.00922289997106418,0.00981709995539859,0.009896400035358965,0.009671100007835776,0.009839600010309368,0.009891599998809397,0.010077100014314055,0.009645999991334975,0.0096244000014849,0.010940900014247745,0.010124200023710728,0.00988680002046749,0.010267700010444969,0.010385700035840273,0.009974399989005178,0.010344000009354204,0.010383499960880727,0.010688800015486777,0.010075800004415214,0.010465400002431124,0.010160400008317083,0.011306800006423146,0.010512899956665933,0.010106600006110966,0.011069600004702806,0.010319499997422099,0.010365499998442829,0.010500599979422987,0.01083779998589307,0.010468799970112741,0.01034899998921901,0.010411800001747906,0.012083699984941632,0.010521400021389127,0.010510099993553013,0.01166169997304678,0.010392500029411167,0.010420500009786338,0.010604400013107806,0.010992499999701977,0.010317500040400773,0.010928800038527697,0.010804499965161085,0.010933299956377596,0.010768599982839078,0.010644800029695034,0.0105236999806948,0.011117600020952523,0.011247800022829324,0.010788500017952174,0.011804399953689426,0.010661899985279888,0.010988399968482554,0.011047599953599274,0.011025500018149614,0.010815899993758649,0.010978200007230043,0.011337100004311651,0.010746999992989004,0.01110619999235496,0.011704500007908791,0.011108300008345395,0.01093259995104745,0.011996100016403943,0.011252600001171231,0.011029699991922826,0.01117719995090738,0.012182200036477298,0.011660499963909388,0.011160099995322526,0.011212200042791665,0.01147049997234717,0.011550099996384233,0.011301799968350679,0.011394900036975741,0.011341499979607761,0.011840199993457645,0.012899300025310367,0.011330100009217858,0.011292100010905415,0.011355300026480108,0.011970499996095896,0.011225899972487241,0.011619299999438226,0.01210170000558719,0.011537700018379837,0.011412199994083494,0.011936600029002875,0.011434600048232824,0.011752599966712296,0.012640099972486496,0.011408900027163327,0.011195800034329295,0.01130159996682778,0.012106999987736344,0.011193200014531612,0.012776899966411293],\"yaxis\":\"y2\",\"type\":\"scatter\"},{\"hovertemplate\":\"Algoritmo di ordinamento=counting_sort<br>Tipo di input=reversed<br>Dimensione array=%{x}<br>Time (s)=%{y}<extra></extra>\",\"legendgroup\":\"counting_sort\",\"line\":{\"color\":\"#EF553B\",\"dash\":\"solid\"},\"marker\":{\"symbol\":\"circle\"},\"mode\":\"lines\",\"name\":\"counting_sort\",\"orientation\":\"v\",\"showlegend\":false,\"x\":[100,200,300,400,500,600,700,800,900,1000,1100,1200,1300,1400,1500,1600,1700,1800,1900,2000,2100,2200,2300,2400,2500,2600,2700,2800,2900,3000,3100,3200,3300,3400,3500,3600,3700,3800,3900,4000,4100,4200,4300,4400,4500,4600,4700,4800,4900,5000,5100,5200,5300,5400,5500,5600,5700,5800,5900,6000,6100,6200,6300,6400,6500,6600,6700,6800,6900,7000,7100,7200,7300,7400,7500,7600,7700,7800,7900,8000,8100,8200,8300,8400,8500,8600,8700,8800,8900,9000,9100,9200,9300,9400,9500,9600,9700,9800,9900],\"xaxis\":\"x3\",\"y\":[0.009077499969862401,0.009081600001081824,0.009334400005172938,0.009998699999414384,0.009903399972245097,0.009600600053090602,0.009732900012750179,0.00971650000428781,0.012920000008307397,0.01766929996665567,0.0158604999887757,0.01619559997925535,0.017991999979130924,0.01680869999108836,0.01758650003466755,0.01811409997753799,0.016998799983412027,0.010173399990890175,0.0109208999783732,0.010199200012721121,0.010514599969610572,0.010203000041656196,0.01357010001083836,0.010603500006254762,0.010544000018853694,0.010660600033588707,0.010420500009786338,0.012242099968716502,0.010697899968363345,0.011223800014704466,0.01070169999729842,0.010352600016631186,0.011120199982542545,0.010558399953879416,0.011131500010378659,0.010853999992832541,0.010970200004521757,0.010738400043919683,0.010493800044059753,0.010653099976480007,0.010849400016013533,0.010847600002307445,0.011194400023669004,0.011020699981600046,0.01092400000197813,0.01099510001949966,0.010696100012864918,0.01145120000001043,0.01303959998767823,0.01068970002233982,0.011722199968062341,0.010938099992927164,0.010802100005093962,0.012269600003492087,0.01082470000255853,0.011256200028583407,0.01130459998967126,0.011140700022224337,0.010871900012716651,0.011223500012420118,0.011761099973227829,0.010675500030629337,0.010973999975249171,0.012105500034522265,0.010956200014334172,0.010782499972265214,0.011609299981500953,0.011640099983196706,0.011252099997363985,0.011109899962320924,0.01144700002623722,0.011306900007184595,0.011202899971976876,0.012174700037576258,0.011797700019087642,0.011280199978500605,0.011229499999899417,0.011406300007365644,0.011213099991437048,0.011444200004916638,0.011850400012917817,0.011218099971301854,0.011391200008802116,0.012059499975293875,0.011803200002759695,0.011215500009711832,0.011417899979278445,0.012288999976590276,0.011751100013498217,0.01155360002303496,0.011770799988880754,0.01240549999056384,0.01184110000031069,0.012152599985711277,0.011784600035753101,0.011543400003574789,0.012153999996371567,0.012118400016333908,0.011930299981031567],\"yaxis\":\"y3\",\"type\":\"scatter\"}],                        {\"template\":{\"data\":{\"histogram2dcontour\":[{\"type\":\"histogram2dcontour\",\"colorbar\":{\"outlinewidth\":0,\"ticks\":\"\"},\"colorscale\":[[0.0,\"#0d0887\"],[0.1111111111111111,\"#46039f\"],[0.2222222222222222,\"#7201a8\"],[0.3333333333333333,\"#9c179e\"],[0.4444444444444444,\"#bd3786\"],[0.5555555555555556,\"#d8576b\"],[0.6666666666666666,\"#ed7953\"],[0.7777777777777778,\"#fb9f3a\"],[0.8888888888888888,\"#fdca26\"],[1.0,\"#f0f921\"]]}],\"choropleth\":[{\"type\":\"choropleth\",\"colorbar\":{\"outlinewidth\":0,\"ticks\":\"\"}}],\"histogram2d\":[{\"type\":\"histogram2d\",\"colorbar\":{\"outlinewidth\":0,\"ticks\":\"\"},\"colorscale\":[[0.0,\"#0d0887\"],[0.1111111111111111,\"#46039f\"],[0.2222222222222222,\"#7201a8\"],[0.3333333333333333,\"#9c179e\"],[0.4444444444444444,\"#bd3786\"],[0.5555555555555556,\"#d8576b\"],[0.6666666666666666,\"#ed7953\"],[0.7777777777777778,\"#fb9f3a\"],[0.8888888888888888,\"#fdca26\"],[1.0,\"#f0f921\"]]}],\"heatmap\":[{\"type\":\"heatmap\",\"colorbar\":{\"outlinewidth\":0,\"ticks\":\"\"},\"colorscale\":[[0.0,\"#0d0887\"],[0.1111111111111111,\"#46039f\"],[0.2222222222222222,\"#7201a8\"],[0.3333333333333333,\"#9c179e\"],[0.4444444444444444,\"#bd3786\"],[0.5555555555555556,\"#d8576b\"],[0.6666666666666666,\"#ed7953\"],[0.7777777777777778,\"#fb9f3a\"],[0.8888888888888888,\"#fdca26\"],[1.0,\"#f0f921\"]]}],\"heatmapgl\":[{\"type\":\"heatmapgl\",\"colorbar\":{\"outlinewidth\":0,\"ticks\":\"\"},\"colorscale\":[[0.0,\"#0d0887\"],[0.1111111111111111,\"#46039f\"],[0.2222222222222222,\"#7201a8\"],[0.3333333333333333,\"#9c179e\"],[0.4444444444444444,\"#bd3786\"],[0.5555555555555556,\"#d8576b\"],[0.6666666666666666,\"#ed7953\"],[0.7777777777777778,\"#fb9f3a\"],[0.8888888888888888,\"#fdca26\"],[1.0,\"#f0f921\"]]}],\"contourcarpet\":[{\"type\":\"contourcarpet\",\"colorbar\":{\"outlinewidth\":0,\"ticks\":\"\"}}],\"contour\":[{\"type\":\"contour\",\"colorbar\":{\"outlinewidth\":0,\"ticks\":\"\"},\"colorscale\":[[0.0,\"#0d0887\"],[0.1111111111111111,\"#46039f\"],[0.2222222222222222,\"#7201a8\"],[0.3333333333333333,\"#9c179e\"],[0.4444444444444444,\"#bd3786\"],[0.5555555555555556,\"#d8576b\"],[0.6666666666666666,\"#ed7953\"],[0.7777777777777778,\"#fb9f3a\"],[0.8888888888888888,\"#fdca26\"],[1.0,\"#f0f921\"]]}],\"surface\":[{\"type\":\"surface\",\"colorbar\":{\"outlinewidth\":0,\"ticks\":\"\"},\"colorscale\":[[0.0,\"#0d0887\"],[0.1111111111111111,\"#46039f\"],[0.2222222222222222,\"#7201a8\"],[0.3333333333333333,\"#9c179e\"],[0.4444444444444444,\"#bd3786\"],[0.5555555555555556,\"#d8576b\"],[0.6666666666666666,\"#ed7953\"],[0.7777777777777778,\"#fb9f3a\"],[0.8888888888888888,\"#fdca26\"],[1.0,\"#f0f921\"]]}],\"mesh3d\":[{\"type\":\"mesh3d\",\"colorbar\":{\"outlinewidth\":0,\"ticks\":\"\"}}],\"scatter\":[{\"marker\":{\"line\":{\"color\":\"#283442\"}},\"type\":\"scatter\"}],\"parcoords\":[{\"type\":\"parcoords\",\"line\":{\"colorbar\":{\"outlinewidth\":0,\"ticks\":\"\"}}}],\"scatterpolargl\":[{\"type\":\"scatterpolargl\",\"marker\":{\"colorbar\":{\"outlinewidth\":0,\"ticks\":\"\"}}}],\"bar\":[{\"error_x\":{\"color\":\"#f2f5fa\"},\"error_y\":{\"color\":\"#f2f5fa\"},\"marker\":{\"line\":{\"color\":\"rgb(17,17,17)\",\"width\":0.5},\"pattern\":{\"fillmode\":\"overlay\",\"size\":10,\"solidity\":0.2}},\"type\":\"bar\"}],\"scattergeo\":[{\"type\":\"scattergeo\",\"marker\":{\"colorbar\":{\"outlinewidth\":0,\"ticks\":\"\"}}}],\"scatterpolar\":[{\"type\":\"scatterpolar\",\"marker\":{\"colorbar\":{\"outlinewidth\":0,\"ticks\":\"\"}}}],\"histogram\":[{\"marker\":{\"pattern\":{\"fillmode\":\"overlay\",\"size\":10,\"solidity\":0.2}},\"type\":\"histogram\"}],\"scattergl\":[{\"marker\":{\"line\":{\"color\":\"#283442\"}},\"type\":\"scattergl\"}],\"scatter3d\":[{\"type\":\"scatter3d\",\"line\":{\"colorbar\":{\"outlinewidth\":0,\"ticks\":\"\"}},\"marker\":{\"colorbar\":{\"outlinewidth\":0,\"ticks\":\"\"}}}],\"scattermapbox\":[{\"type\":\"scattermapbox\",\"marker\":{\"colorbar\":{\"outlinewidth\":0,\"ticks\":\"\"}}}],\"scatterternary\":[{\"type\":\"scatterternary\",\"marker\":{\"colorbar\":{\"outlinewidth\":0,\"ticks\":\"\"}}}],\"scattercarpet\":[{\"type\":\"scattercarpet\",\"marker\":{\"colorbar\":{\"outlinewidth\":0,\"ticks\":\"\"}}}],\"carpet\":[{\"aaxis\":{\"endlinecolor\":\"#A2B1C6\",\"gridcolor\":\"#506784\",\"linecolor\":\"#506784\",\"minorgridcolor\":\"#506784\",\"startlinecolor\":\"#A2B1C6\"},\"baxis\":{\"endlinecolor\":\"#A2B1C6\",\"gridcolor\":\"#506784\",\"linecolor\":\"#506784\",\"minorgridcolor\":\"#506784\",\"startlinecolor\":\"#A2B1C6\"},\"type\":\"carpet\"}],\"table\":[{\"cells\":{\"fill\":{\"color\":\"#506784\"},\"line\":{\"color\":\"rgb(17,17,17)\"}},\"header\":{\"fill\":{\"color\":\"#2a3f5f\"},\"line\":{\"color\":\"rgb(17,17,17)\"}},\"type\":\"table\"}],\"barpolar\":[{\"marker\":{\"line\":{\"color\":\"rgb(17,17,17)\",\"width\":0.5},\"pattern\":{\"fillmode\":\"overlay\",\"size\":10,\"solidity\":0.2}},\"type\":\"barpolar\"}],\"pie\":[{\"automargin\":true,\"type\":\"pie\"}]},\"layout\":{\"autotypenumbers\":\"strict\",\"colorway\":[\"#636efa\",\"#EF553B\",\"#00cc96\",\"#ab63fa\",\"#FFA15A\",\"#19d3f3\",\"#FF6692\",\"#B6E880\",\"#FF97FF\",\"#FECB52\"],\"font\":{\"color\":\"#f2f5fa\"},\"hovermode\":\"closest\",\"hoverlabel\":{\"align\":\"left\"},\"paper_bgcolor\":\"rgb(17,17,17)\",\"plot_bgcolor\":\"rgb(17,17,17)\",\"polar\":{\"bgcolor\":\"rgb(17,17,17)\",\"angularaxis\":{\"gridcolor\":\"#506784\",\"linecolor\":\"#506784\",\"ticks\":\"\"},\"radialaxis\":{\"gridcolor\":\"#506784\",\"linecolor\":\"#506784\",\"ticks\":\"\"}},\"ternary\":{\"bgcolor\":\"rgb(17,17,17)\",\"aaxis\":{\"gridcolor\":\"#506784\",\"linecolor\":\"#506784\",\"ticks\":\"\"},\"baxis\":{\"gridcolor\":\"#506784\",\"linecolor\":\"#506784\",\"ticks\":\"\"},\"caxis\":{\"gridcolor\":\"#506784\",\"linecolor\":\"#506784\",\"ticks\":\"\"}},\"coloraxis\":{\"colorbar\":{\"outlinewidth\":0,\"ticks\":\"\"}},\"colorscale\":{\"sequential\":[[0.0,\"#0d0887\"],[0.1111111111111111,\"#46039f\"],[0.2222222222222222,\"#7201a8\"],[0.3333333333333333,\"#9c179e\"],[0.4444444444444444,\"#bd3786\"],[0.5555555555555556,\"#d8576b\"],[0.6666666666666666,\"#ed7953\"],[0.7777777777777778,\"#fb9f3a\"],[0.8888888888888888,\"#fdca26\"],[1.0,\"#f0f921\"]],\"sequentialminus\":[[0.0,\"#0d0887\"],[0.1111111111111111,\"#46039f\"],[0.2222222222222222,\"#7201a8\"],[0.3333333333333333,\"#9c179e\"],[0.4444444444444444,\"#bd3786\"],[0.5555555555555556,\"#d8576b\"],[0.6666666666666666,\"#ed7953\"],[0.7777777777777778,\"#fb9f3a\"],[0.8888888888888888,\"#fdca26\"],[1.0,\"#f0f921\"]],\"diverging\":[[0,\"#8e0152\"],[0.1,\"#c51b7d\"],[0.2,\"#de77ae\"],[0.3,\"#f1b6da\"],[0.4,\"#fde0ef\"],[0.5,\"#f7f7f7\"],[0.6,\"#e6f5d0\"],[0.7,\"#b8e186\"],[0.8,\"#7fbc41\"],[0.9,\"#4d9221\"],[1,\"#276419\"]]},\"xaxis\":{\"gridcolor\":\"#283442\",\"linecolor\":\"#506784\",\"ticks\":\"\",\"title\":{\"standoff\":15},\"zerolinecolor\":\"#283442\",\"automargin\":true,\"zerolinewidth\":2},\"yaxis\":{\"gridcolor\":\"#283442\",\"linecolor\":\"#506784\",\"ticks\":\"\",\"title\":{\"standoff\":15},\"zerolinecolor\":\"#283442\",\"automargin\":true,\"zerolinewidth\":2},\"scene\":{\"xaxis\":{\"backgroundcolor\":\"rgb(17,17,17)\",\"gridcolor\":\"#506784\",\"linecolor\":\"#506784\",\"showbackground\":true,\"ticks\":\"\",\"zerolinecolor\":\"#C8D4E3\",\"gridwidth\":2},\"yaxis\":{\"backgroundcolor\":\"rgb(17,17,17)\",\"gridcolor\":\"#506784\",\"linecolor\":\"#506784\",\"showbackground\":true,\"ticks\":\"\",\"zerolinecolor\":\"#C8D4E3\",\"gridwidth\":2},\"zaxis\":{\"backgroundcolor\":\"rgb(17,17,17)\",\"gridcolor\":\"#506784\",\"linecolor\":\"#506784\",\"showbackground\":true,\"ticks\":\"\",\"zerolinecolor\":\"#C8D4E3\",\"gridwidth\":2}},\"shapedefaults\":{\"line\":{\"color\":\"#f2f5fa\"}},\"annotationdefaults\":{\"arrowcolor\":\"#f2f5fa\",\"arrowhead\":0,\"arrowwidth\":1},\"geo\":{\"bgcolor\":\"rgb(17,17,17)\",\"landcolor\":\"rgb(17,17,17)\",\"subunitcolor\":\"#506784\",\"showland\":true,\"showlakes\":true,\"lakecolor\":\"rgb(17,17,17)\"},\"title\":{\"x\":0.05},\"updatemenudefaults\":{\"bgcolor\":\"#506784\",\"borderwidth\":0},\"sliderdefaults\":{\"bgcolor\":\"#C8D4E3\",\"borderwidth\":1,\"bordercolor\":\"rgb(17,17,17)\",\"tickwidth\":0},\"mapbox\":{\"style\":\"dark\"}}},\"xaxis\":{\"anchor\":\"y\",\"domain\":[0.0,0.31999999999999995],\"title\":{\"text\":\"Dimensione array\"}},\"yaxis\":{\"anchor\":\"x\",\"domain\":[0.0,1.0],\"title\":{\"text\":\"Time (s)\"}},\"xaxis2\":{\"anchor\":\"y2\",\"domain\":[0.33999999999999997,0.6599999999999999],\"matches\":\"x\",\"title\":{\"text\":\"Dimensione array\"}},\"yaxis2\":{\"anchor\":\"x2\",\"domain\":[0.0,1.0],\"matches\":\"y\",\"showticklabels\":false},\"xaxis3\":{\"anchor\":\"y3\",\"domain\":[0.6799999999999999,0.9999999999999999],\"matches\":\"x\",\"title\":{\"text\":\"Dimensione array\"}},\"yaxis3\":{\"anchor\":\"x3\",\"domain\":[0.0,1.0],\"matches\":\"y\",\"showticklabels\":false},\"annotations\":[{\"font\":{},\"showarrow\":false,\"text\":\"Tipo di input=random\",\"x\":0.15999999999999998,\"xanchor\":\"center\",\"xref\":\"paper\",\"y\":1.0,\"yanchor\":\"bottom\",\"yref\":\"paper\"},{\"font\":{},\"showarrow\":false,\"text\":\"Tipo di input=sorted\",\"x\":0.49999999999999994,\"xanchor\":\"center\",\"xref\":\"paper\",\"y\":1.0,\"yanchor\":\"bottom\",\"yref\":\"paper\"},{\"font\":{},\"showarrow\":false,\"text\":\"Tipo di input=reversed\",\"x\":0.8399999999999999,\"xanchor\":\"center\",\"xref\":\"paper\",\"y\":1.0,\"yanchor\":\"bottom\",\"yref\":\"paper\"}],\"legend\":{\"title\":{\"text\":\"Algoritmo di ordinamento\"},\"tracegroupgap\":0},\"title\":{\"text\":\"Sorting algorithms\"}},                        {\"responsive\": true}                    ).then(function(){\n                            \nvar gd = document.getElementById('9c110ad5-f009-4cfb-92c7-487a7b702b7a');\nvar x = new MutationObserver(function (mutations, observer) {{\n        var display = window.getComputedStyle(gd).display;\n        if (!display || display === 'none') {{\n            console.log([gd, 'removed!']);\n            Plotly.purge(gd);\n            observer.disconnect();\n        }}\n}});\n\n// Listen for the removal of the full notebook cells\nvar notebookContainer = gd.closest('#notebook-container');\nif (notebookContainer) {{\n    x.observe(notebookContainer, {childList: true});\n}}\n\n// Listen for the clearing of the current output cell\nvar outputEl = gd.closest('.output');\nif (outputEl) {{\n    x.observe(outputEl, {childList: true});\n}}\n\n                        })                };                });            </script>        </div>"
     },
     "metadata": {},
     "output_type": "display_data"
    }
   ],
   "source": [
    "figure = px.line(df.query(\"num_samples > 0\"),\n",
    "                 x=\"num_samples\",\n",
    "                 y=\"time\",\n",
    "                 color=\"test_type\",\n",
    "                 facet_col=\"input_type\",\n",
    "                 title=\"Sorting algorithms\",\n",
    "                 labels={\"num_samples\": \"Dimensione array\", \"time\": \"Time (s)\", \"test_type\": \"Algoritmo di ordinamento\", \"input_type\": \"Tipo di input\"})\n",
    "figure.show()"
   ],
   "metadata": {
    "collapsed": false
   }
  },
  {
   "cell_type": "markdown",
   "source": [
    "Notiamo che in ogni caso mantenendo il range di generazione dei numeri minore o uguale alla dimensione dell'array, il costo compurazionale del _counting sort_ si mantiene piuttosto basso o comunque in ogni caso molto inferiore rispetto al costo di _insertion sort_, che è sempre _O(n^2)_. Ovviamente l'unica differenza sta nel caso di input ordinato, nel quale anche il costo di _insertion sort_ è lineare e quindi molto inferiore rispetto al caso di input random o inversamente ordinato."
   ],
   "metadata": {
    "collapsed": false
   }
  },
  {
   "cell_type": "markdown",
   "source": [
    "#### Array di dimensione 10000 con range da 0 a 1000000"
   ],
   "metadata": {
    "collapsed": false
   }
  },
  {
   "cell_type": "code",
   "execution_count": 206,
   "outputs": [],
   "source": [
    "df = plot_results(10000, 100, (0, 1000000))"
   ],
   "metadata": {
    "collapsed": false
   }
  },
  {
   "cell_type": "code",
   "execution_count": 207,
   "outputs": [
    {
     "data": {
      "application/vnd.plotly.v1+json": {
       "data": [
        {
         "hovertemplate": "Algoritmo di ordinamento=insertion_sort<br>Tipo di input=random<br>Dimensione array=%{x}<br>Time (s)=%{y}<extra></extra>",
         "legendgroup": "insertion_sort",
         "line": {
          "color": "#636efa",
          "dash": "solid"
         },
         "marker": {
          "symbol": "circle"
         },
         "mode": "lines",
         "name": "insertion_sort",
         "orientation": "v",
         "showlegend": true,
         "x": [
          100,
          200,
          300,
          400,
          500,
          600,
          700,
          800,
          900,
          1000,
          1100,
          1200,
          1300,
          1400,
          1500,
          1600,
          1700,
          1800,
          1900,
          2000,
          2100,
          2200,
          2300,
          2400,
          2500,
          2600,
          2700,
          2800,
          2900,
          3000,
          3100,
          3200,
          3300,
          3400,
          3500,
          3600,
          3700,
          3800,
          3900,
          4000,
          4100,
          4200,
          4300,
          4400,
          4500,
          4600,
          4700,
          4800,
          4900,
          5000,
          5100,
          5200,
          5300,
          5400,
          5500,
          5600,
          5700,
          5800,
          5900,
          6000,
          6100,
          6200,
          6300,
          6400,
          6500,
          6600,
          6700,
          6800,
          6900,
          7000,
          7100,
          7200,
          7300,
          7400,
          7500,
          7600,
          7700,
          7800,
          7900,
          8000,
          8100,
          8200,
          8300,
          8400,
          8500,
          8600,
          8700,
          8800,
          8900,
          9000,
          9100,
          9200,
          9300,
          9400,
          9500,
          9600,
          9700,
          9800,
          9900
         ],
         "xaxis": "x",
         "y": [
          3.4770002821460366E-4,
          0.001011700020171702,
          0.002263600006699562,
          0.004031599964946508,
          0.007434499973896891,
          0.010952599986921996,
          0.013958800002001226,
          0.018552099994849414,
          0.02457260002847761,
          0.031348599994089454,
          0.039358300040476024,
          0.04351170000154525,
          0.05361070000799373,
          0.055672099988441914,
          0.12533820001408458,
          0.08861620002426207,
          0.0859067999990657,
          0.0941966000245884,
          0.10658159997547045,
          0.15229980001458898,
          0.1592917999951169,
          0.1505371000384912,
          0.16169420001097023,
          0.2004255000501871,
          0.18417500000214204,
          0.18412869999883696,
          0.20132310001645237,
          0.21511439996538684,
          0.23378629999933764,
          0.25479199999244884,
          0.2851338000036776,
          0.3773040000232868,
          0.3098467999952845,
          0.31707099999766797,
          0.3386508999974467,
          0.35503920004703104,
          0.3733191000064835,
          0.3958836000529118,
          0.41956589999608696,
          0.434057800041046,
          0.45571200002450496,
          0.4860772000392899,
          0.5152659000013955,
          0.5445341999875382,
          0.5745532999862917,
          0.5782200999674387,
          0.5907102000201121,
          0.6682370000053197,
          0.6585575999924913,
          0.6970979999750853,
          0.7122568000340834,
          0.7383475999813527,
          0.7891976999817416,
          0.8046725000021979,
          0.843009100004565,
          0.8741003000177443,
          0.9687308000284247,
          0.9567957000108436,
          0.9806837000069208,
          1.038145500002429,
          1.0664759999490343,
          1.0626407000236213,
          1.1007331000291742,
          1.1556851000059396,
          1.1676919999881648,
          1.2253691999940202,
          1.2407861999818124,
          1.3187084000092,
          1.3442231999943033,
          1.3614527999889106,
          1.384672500018496,
          1.4355341999907978,
          1.4498758999980055,
          1.5556272999965586,
          1.5945966999861412,
          1.648473399982322,
          1.6360820999834687,
          1.6758860999834724,
          1.7268435999867506,
          1.7964470000006258,
          1.814376300026197,
          1.9148314000340179,
          1.9152124000247568,
          1.974321800051257,
          2.0316109000123106,
          2.092062499956228,
          2.133218999952078,
          2.1177440999890678,
          2.1792265999829397,
          2.3501351000159048,
          2.3270171000040136,
          2.3435106999822892,
          2.4138979999697767,
          2.4177661999710836,
          2.550754699972458,
          2.6186457999865524,
          2.6065570999635383,
          2.7999729000148363,
          2.757945999968797
         ],
         "yaxis": "y",
         "type": "scatter"
        },
        {
         "hovertemplate": "Algoritmo di ordinamento=insertion_sort<br>Tipo di input=sorted<br>Dimensione array=%{x}<br>Time (s)=%{y}<extra></extra>",
         "legendgroup": "insertion_sort",
         "line": {
          "color": "#636efa",
          "dash": "solid"
         },
         "marker": {
          "symbol": "circle"
         },
         "mode": "lines",
         "name": "insertion_sort",
         "orientation": "v",
         "showlegend": false,
         "x": [
          100,
          200,
          300,
          400,
          500,
          600,
          700,
          800,
          900,
          1000,
          1100,
          1200,
          1300,
          1400,
          1500,
          1600,
          1700,
          1800,
          1900,
          2000,
          2100,
          2200,
          2300,
          2400,
          2500,
          2600,
          2700,
          2800,
          2900,
          3000,
          3100,
          3200,
          3300,
          3400,
          3500,
          3600,
          3700,
          3800,
          3900,
          4000,
          4100,
          4200,
          4300,
          4400,
          4500,
          4600,
          4700,
          4800,
          4900,
          5000,
          5100,
          5200,
          5300,
          5400,
          5500,
          5600,
          5700,
          5800,
          5900,
          6000,
          6100,
          6200,
          6300,
          6400,
          6500,
          6600,
          6700,
          6800,
          6900,
          7000,
          7100,
          7200,
          7300,
          7400,
          7500,
          7600,
          7700,
          7800,
          7900,
          8000,
          8100,
          8200,
          8300,
          8400,
          8500,
          8600,
          8700,
          8800,
          8900,
          9000,
          9100,
          9200,
          9300,
          9400,
          9500,
          9600,
          9700,
          9800,
          9900
         ],
         "xaxis": "x2",
         "y": [
          1.8000020645558834E-5,
          2.3200002033263445E-5,
          3.42000275850296E-5,
          4.810001701116562E-5,
          5.959998816251755E-5,
          7.250002818182111E-5,
          8.85000335983932E-5,
          9.809999028220773E-5,
          1.1219998123124242E-4,
          1.238000113517046E-4,
          1.7129996558651328E-4,
          1.4999997802078724E-4,
          1.6280001727864146E-4,
          1.7519999528303742E-4,
          2.004000125452876E-4,
          2.0020001102238894E-4,
          2.1269998978823423E-4,
          2.663999912329018E-4,
          2.6509998133406043E-4,
          2.519999979995191E-4,
          3.1070003751665354E-4,
          2.7730001602321863E-4,
          3.1590001890435815E-4,
          3.0479999259114265E-4,
          3.1620002118870616E-4,
          3.279999946244061E-4,
          3.4110003616660833E-4,
          3.5909999860450625E-4,
          3.6810000892728567E-4,
          3.831000067293644E-4,
          3.926000208593905E-4,
          4.265000461600721E-4,
          4.4380000326782465E-4,
          4.322000313550234E-4,
          5.299000185914338E-4,
          4.911000141873956E-4,
          4.7199998516589403E-4,
          0.001018200011458248,
          8.493000059388578E-4,
          8.706999942660332E-4,
          8.985000313259661E-4,
          9.396999957971275E-4,
          9.015999967232347E-4,
          5.738000036217272E-4,
          7.779999868944287E-4,
          5.942000425420702E-4,
          6.080999737605453E-4,
          6.18099991697818E-4,
          0.0010331000084988773,
          0.0010920999920926988,
          0.0011710000107996166,
          8.542000432498753E-4,
          7.15400034096092E-4,
          7.294000242836773E-4,
          7.447000243701041E-4,
          7.48799997381866E-4,
          7.604000275023282E-4,
          7.69499980378896E-4,
          7.856000447645783E-4,
          7.970000151544809E-4,
          8.120000129565597E-4,
          8.245999924838543E-4,
          8.356999605894089E-4,
          8.519000257365406E-4,
          8.566000033169985E-4,
          9.124000207521021E-4,
          8.740999619476497E-4,
          8.857999928295612E-4,
          8.89300019480288E-4,
          8.976000244729221E-4,
          9.141000336967409E-4,
          9.325999999418855E-4,
          9.390999912284315E-4,
          9.492000099271536E-4,
          9.654999594204128E-4,
          9.873000090010464E-4,
          9.93099994957447E-4,
          0.0010223000426776707,
          0.0011156999971717596,
          0.0010709999478422105,
          0.0010601000394672155,
          0.001048700010869652,
          0.0010701999999582767,
          0.0010843999916687608,
          0.0010970999719575047,
          0.0011464999988675117,
          0.001125600014347583,
          0.0011267999652773142,
          0.0011915999930351973,
          0.0011627000058069825,
          0.0011728000245057046,
          0.0011765999952331185,
          0.001194800017401576,
          0.0012063999893143773,
          0.0012266000267118216,
          0.001227299973834306,
          0.001260999997612089,
          0.0012706000125035644,
          0.0013642999692820013
         ],
         "yaxis": "y2",
         "type": "scatter"
        },
        {
         "hovertemplate": "Algoritmo di ordinamento=insertion_sort<br>Tipo di input=reversed<br>Dimensione array=%{x}<br>Time (s)=%{y}<extra></extra>",
         "legendgroup": "insertion_sort",
         "line": {
          "color": "#636efa",
          "dash": "solid"
         },
         "marker": {
          "symbol": "circle"
         },
         "mode": "lines",
         "name": "insertion_sort",
         "orientation": "v",
         "showlegend": false,
         "x": [
          100,
          200,
          300,
          400,
          500,
          600,
          700,
          800,
          900,
          1000,
          1100,
          1200,
          1300,
          1400,
          1500,
          1600,
          1700,
          1800,
          1900,
          2000,
          2100,
          2200,
          2300,
          2400,
          2500,
          2600,
          2700,
          2800,
          2900,
          3000,
          3100,
          3200,
          3300,
          3400,
          3500,
          3600,
          3700,
          3800,
          3900,
          4000,
          4100,
          4200,
          4300,
          4400,
          4500,
          4600,
          4700,
          4800,
          4900,
          5000,
          5100,
          5200,
          5300,
          5400,
          5500,
          5600,
          5700,
          5800,
          5900,
          6000,
          6100,
          6200,
          6300,
          6400,
          6500,
          6600,
          6700,
          6800,
          6900,
          7000,
          7100,
          7200,
          7300,
          7400,
          7500,
          7600,
          7700,
          7800,
          7900,
          8000,
          8100,
          8200,
          8300,
          8400,
          8500,
          8600,
          8700,
          8800,
          8900,
          9000,
          9100,
          9200,
          9300,
          9400,
          9500,
          9600,
          9700,
          9800,
          9900
         ],
         "xaxis": "x3",
         "y": [
          5.138999549672008E-4,
          0.0020290000247769058,
          0.004563599999528378,
          0.008291799982544035,
          0.013092299981508404,
          0.019496200024150312,
          0.02490120002767071,
          0.03331890003755689,
          0.04271439998410642,
          0.05447850003838539,
          0.0626868000254035,
          0.0759962999727577,
          0.09042490000138059,
          0.10655980004230514,
          0.11896439996780828,
          0.13705389999086037,
          0.15516399999614805,
          0.1740113000269048,
          0.2017418000032194,
          0.221728999982588,
          0.23602280003251508,
          0.2631766999838874,
          0.28380690002813935,
          0.31285119999665767,
          0.346026899991557,
          0.3673494000104256,
          0.4070907999994233,
          0.4253737000399269,
          0.46029630000703037,
          0.4931718000443652,
          0.516368699958548,
          0.5479943000245839,
          0.5798199999844655,
          0.6212076999945566,
          0.6798842999851331,
          0.7150007999734953,
          0.7486187000176869,
          0.8127091000205837,
          0.8348384000128135,
          0.8712794000166468,
          0.9201596999773756,
          0.941888100001961,
          1.0294409000198357,
          1.0772312000044622,
          1.1616659999708645,
          1.1917126000043936,
          1.2359427000046708,
          1.3038167000049725,
          1.2933050999999978,
          1.3702042999793775,
          1.4182869999785908,
          1.517799399967771,
          1.5448984000249766,
          1.5983622000203468,
          1.6608097999705933,
          1.725103200005833,
          1.799200799956452,
          1.9402784999692813,
          1.9255647999816574,
          1.9818619000143372,
          2.0296235000132583,
          2.2115014999872074,
          2.190117200021632,
          2.330193199974019,
          2.396209899976384,
          2.5602623999584466,
          2.600127900019288,
          2.6994699999922886,
          2.64525970001705,
          2.694435400015209,
          2.768826099985745,
          2.9501942000351846,
          3.0724982999963686,
          3.071175600052811,
          3.1303478999761865,
          3.3203397000324912,
          3.3616085999528877,
          3.452184900001157,
          3.5139230000204407,
          3.654356699960772,
          3.738438500033226,
          3.843287000025157,
          3.8720547999837436,
          3.9740323000005446,
          4.158124900015537,
          4.175720900006127,
          4.26173619995825,
          4.418452900019474,
          4.486028599960264,
          4.653691500017885,
          4.71664460003376,
          4.872031900042202,
          4.884727799973916,
          5.05362719995901,
          5.187412800034508,
          5.29456469998695,
          5.412072799983434,
          5.455184300022665,
          5.655912199988961
         ],
         "yaxis": "y3",
         "type": "scatter"
        },
        {
         "hovertemplate": "Algoritmo di ordinamento=counting_sort<br>Tipo di input=random<br>Dimensione array=%{x}<br>Time (s)=%{y}<extra></extra>",
         "legendgroup": "counting_sort",
         "line": {
          "color": "#EF553B",
          "dash": "solid"
         },
         "marker": {
          "symbol": "circle"
         },
         "mode": "lines",
         "name": "counting_sort",
         "orientation": "v",
         "showlegend": true,
         "x": [
          100,
          200,
          300,
          400,
          500,
          600,
          700,
          800,
          900,
          1000,
          1100,
          1200,
          1300,
          1400,
          1500,
          1600,
          1700,
          1800,
          1900,
          2000,
          2100,
          2200,
          2300,
          2400,
          2500,
          2600,
          2700,
          2800,
          2900,
          3000,
          3100,
          3200,
          3300,
          3400,
          3500,
          3600,
          3700,
          3800,
          3900,
          4000,
          4100,
          4200,
          4300,
          4400,
          4500,
          4600,
          4700,
          4800,
          4900,
          5000,
          5100,
          5200,
          5300,
          5400,
          5500,
          5600,
          5700,
          5800,
          5900,
          6000,
          6100,
          6200,
          6300,
          6400,
          6500,
          6600,
          6700,
          6800,
          6900,
          7000,
          7100,
          7200,
          7300,
          7400,
          7500,
          7600,
          7700,
          7800,
          7900,
          8000,
          8100,
          8200,
          8300,
          8400,
          8500,
          8600,
          8700,
          8800,
          8900,
          9000,
          9100,
          9200,
          9300,
          9400,
          9500,
          9600,
          9700,
          9800,
          9900
         ],
         "xaxis": "x",
         "y": [
          0.08836809999775141,
          0.09093509998638183,
          0.0925029999925755,
          0.09914730000309646,
          0.09192789997905493,
          0.09629240003414452,
          0.10188160004327074,
          0.10190449998481199,
          0.09898219996830449,
          0.10453640000196174,
          0.12346199998864904,
          0.12808029999723658,
          0.10467939998488873,
          0.1001661000191234,
          0.10107400000561029,
          0.1027114000171423,
          0.10034620005171746,
          0.1069310000166297,
          0.10373189998790622,
          0.10212049999972805,
          0.1034745000069961,
          0.10561759996926412,
          0.10384029999841005,
          0.10648280003806576,
          0.10381160001270473,
          0.10482400003820658,
          0.10309599997708574,
          0.10635769995860755,
          0.10687600000528619,
          0.10573319997638464,
          0.10622309998143464,
          0.14740150002762675,
          0.10574790003011003,
          0.11808310000924394,
          0.10217470000497997,
          0.10567489999812096,
          0.10656980000203475,
          0.10193890001391992,
          0.10177060001296923,
          0.10559190000640228,
          0.10035309998784214,
          0.10366889997385442,
          0.0996682999539189,
          0.10295850003603846,
          0.10219689999939874,
          0.10039279999909922,
          0.10236230003647506,
          0.10583349998341873,
          0.10240520001389086,
          0.10454409994417801,
          0.10188390000257641,
          0.12763279996579513,
          0.12458730000071228,
          0.10344870004337281,
          0.10277579998364672,
          0.10078280000016093,
          0.10464289999799803,
          0.10291469999356195,
          0.10749219998251647,
          0.1020958999870345,
          0.10264270001789555,
          0.10566729999845847,
          0.10416230000555515,
          0.10335900000063702,
          0.1052235999959521,
          0.1045589999994263,
          0.10314240003935993,
          0.10512379999272525,
          0.10953330004122108,
          0.10540379997109994,
          0.10518040001625195,
          0.13610379997408018,
          0.10318269999697804,
          0.10524920001626015,
          0.10845190001418814,
          0.10699579998617992,
          0.10657970001921058,
          0.1048511000117287,
          0.10488769999938086,
          0.10274280002340674,
          0.10698749998118728,
          0.10526599996956065,
          0.10457490000408143,
          0.10720079997554421,
          0.10602129995822906,
          0.10984419996384531,
          0.10860420000972226,
          0.11043169995537028,
          0.11395219998667017,
          0.11942800000542775,
          0.12112840003101155,
          0.1543653000262566,
          0.12070730002596974,
          0.12411779997637495,
          0.11021979997167364,
          0.11019749997649342,
          0.11175989999901503,
          0.10545209998963401,
          0.11649579997174442
         ],
         "yaxis": "y",
         "type": "scatter"
        },
        {
         "hovertemplate": "Algoritmo di ordinamento=counting_sort<br>Tipo di input=sorted<br>Dimensione array=%{x}<br>Time (s)=%{y}<extra></extra>",
         "legendgroup": "counting_sort",
         "line": {
          "color": "#EF553B",
          "dash": "solid"
         },
         "marker": {
          "symbol": "circle"
         },
         "mode": "lines",
         "name": "counting_sort",
         "orientation": "v",
         "showlegend": false,
         "x": [
          100,
          200,
          300,
          400,
          500,
          600,
          700,
          800,
          900,
          1000,
          1100,
          1200,
          1300,
          1400,
          1500,
          1600,
          1700,
          1800,
          1900,
          2000,
          2100,
          2200,
          2300,
          2400,
          2500,
          2600,
          2700,
          2800,
          2900,
          3000,
          3100,
          3200,
          3300,
          3400,
          3500,
          3600,
          3700,
          3800,
          3900,
          4000,
          4100,
          4200,
          4300,
          4400,
          4500,
          4600,
          4700,
          4800,
          4900,
          5000,
          5100,
          5200,
          5300,
          5400,
          5500,
          5600,
          5700,
          5800,
          5900,
          6000,
          6100,
          6200,
          6300,
          6400,
          6500,
          6600,
          6700,
          6800,
          6900,
          7000,
          7100,
          7200,
          7300,
          7400,
          7500,
          7600,
          7700,
          7800,
          7900,
          8000,
          8100,
          8200,
          8300,
          8400,
          8500,
          8600,
          8700,
          8800,
          8900,
          9000,
          9100,
          9200,
          9300,
          9400,
          9500,
          9600,
          9700,
          9800,
          9900
         ],
         "xaxis": "x2",
         "y": [
          0.08890520001295954,
          0.08602899999823421,
          0.09069510002154857,
          0.09465240000281483,
          0.10003859997959808,
          0.09875149995787069,
          0.10250749997794628,
          0.09828390000620857,
          0.10173769999528304,
          0.10174130002269521,
          0.10431710002012551,
          0.0994271999807097,
          0.12005729996599257,
          0.13077329995576292,
          0.101989799994044,
          0.10142259998247027,
          0.10650510003324598,
          0.10238890000618994,
          0.10397319996263832,
          0.10430370003450662,
          0.10122350003803149,
          0.10476449999259785,
          0.10327330004656687,
          0.1024384000338614,
          0.10378800000762567,
          0.10460020002210513,
          0.10319980001077056,
          0.10346489999210462,
          0.1050060999696143,
          0.10368990001734346,
          0.10330949997296557,
          0.10122379998210818,
          0.10967840004013851,
          0.1444037000183016,
          0.1035913999658078,
          0.10586509999120608,
          0.10270059999311343,
          0.10264259995892644,
          0.10181140003260225,
          0.1010048000025563,
          0.10354000004008412,
          0.11112980003235862,
          0.10193199996137992,
          0.10265570000046864,
          0.10262149997288361,
          0.10323629999766126,
          0.10229010001057759,
          0.10330529999919236,
          0.10285650001605973,
          0.09977600001730025,
          0.10448280000127852,
          0.10394479997921735,
          0.10511530004441738,
          0.14185159996850416,
          0.11393839999800548,
          0.10492680000606924,
          0.10582179995253682,
          0.10208700003568083,
          0.10086519998731092,
          0.10168500000145286,
          0.10428590001538396,
          0.10334380000131205,
          0.10056079999776557,
          0.1067697000107728,
          0.10741409996990114,
          0.104311500035692,
          0.10360520001268014,
          0.10373679996700957,
          0.10478689998853952,
          0.10486500000115484,
          0.1044483000296168,
          0.10111599997617304,
          0.10422360000666231,
          0.12620679999236017,
          0.11439210001844913,
          0.10505750001175329,
          0.10570080002071336,
          0.10458680003648624,
          0.10520249995170161,
          0.10698219999903813,
          0.10483050002949312,
          0.10545580001780763,
          0.10949579998850822,
          0.10834700003033504,
          0.10855330002959818,
          0.10757770005147904,
          0.10766999999759719,
          0.10663680004654452,
          0.10755140002584085,
          0.10994120000395924,
          0.1082938999752514,
          0.11073640000540763,
          0.10920389997772872,
          0.13950729998759925,
          0.11653540004044771,
          0.11149880004813895,
          0.13487419998273253,
          0.1177097000181675,
          0.11123789998237044
         ],
         "yaxis": "y2",
         "type": "scatter"
        },
        {
         "hovertemplate": "Algoritmo di ordinamento=counting_sort<br>Tipo di input=reversed<br>Dimensione array=%{x}<br>Time (s)=%{y}<extra></extra>",
         "legendgroup": "counting_sort",
         "line": {
          "color": "#EF553B",
          "dash": "solid"
         },
         "marker": {
          "symbol": "circle"
         },
         "mode": "lines",
         "name": "counting_sort",
         "orientation": "v",
         "showlegend": false,
         "x": [
          100,
          200,
          300,
          400,
          500,
          600,
          700,
          800,
          900,
          1000,
          1100,
          1200,
          1300,
          1400,
          1500,
          1600,
          1700,
          1800,
          1900,
          2000,
          2100,
          2200,
          2300,
          2400,
          2500,
          2600,
          2700,
          2800,
          2900,
          3000,
          3100,
          3200,
          3300,
          3400,
          3500,
          3600,
          3700,
          3800,
          3900,
          4000,
          4100,
          4200,
          4300,
          4400,
          4500,
          4600,
          4700,
          4800,
          4900,
          5000,
          5100,
          5200,
          5300,
          5400,
          5500,
          5600,
          5700,
          5800,
          5900,
          6000,
          6100,
          6200,
          6300,
          6400,
          6500,
          6600,
          6700,
          6800,
          6900,
          7000,
          7100,
          7200,
          7300,
          7400,
          7500,
          7600,
          7700,
          7800,
          7900,
          8000,
          8100,
          8200,
          8300,
          8400,
          8500,
          8600,
          8700,
          8800,
          8900,
          9000,
          9100,
          9200,
          9300,
          9400,
          9500,
          9600,
          9700,
          9800,
          9900
         ],
         "xaxis": "x3",
         "y": [
          0.09223369997926056,
          0.08896079997066408,
          0.09236769995186478,
          0.09096159995533526,
          0.09670969995204359,
          0.0987701999838464,
          0.10050820000469685,
          0.10056029999395832,
          0.10418189998017624,
          0.09842669998761266,
          0.10374389996286482,
          0.105874800006859,
          0.104118799965363,
          0.10547680000308901,
          0.13792219996685162,
          0.12114390003262088,
          0.10222289996454492,
          0.09957919997395948,
          0.10506349999923259,
          0.10146929998882115,
          0.10755179997067899,
          0.10734839999349788,
          0.10360850003780797,
          0.10515270003816113,
          0.10200549999717623,
          0.10429579997435212,
          0.10795239999424666,
          0.10567839996656403,
          0.10415709996595979,
          0.09913950000191107,
          0.10225009999703616,
          0.10432619997300208,
          0.10227179998764768,
          0.10413589997915551,
          0.11414870002772659,
          0.14911060000304133,
          0.10060930001782253,
          0.10241029999451712,
          0.1050078000407666,
          0.104105599981267,
          0.10724579996895045,
          0.10515060002217069,
          0.10126820002915338,
          0.10440999997081235,
          0.10398379998514429,
          0.10142080002697185,
          0.10362519999034703,
          0.0989248999976553,
          0.10613570001441985,
          0.10738180001499131,
          0.10730800003511831,
          0.1051669999724254,
          0.10348839999642223,
          0.10591619997285306,
          0.11457420000806451,
          0.14034169999649748,
          0.10494809999363497,
          0.10239070001989603,
          0.10493410000344738,
          0.10786489996826276,
          0.10679999995045364,
          0.10168500000145286,
          0.10081259999424219,
          0.10272650001570582,
          0.10742479999316856,
          0.10107200004858896,
          0.10750599997118115,
          0.1064971000305377,
          0.10270799999125302,
          0.1046904000104405,
          0.10671369999181479,
          0.10422709997510538,
          0.10189140000147745,
          0.10610330000054091,
          0.10330109996721148,
          0.15959070000099018,
          0.11014099995372817,
          0.11589580000145361,
          0.10563140001613647,
          0.10849559999769554,
          0.10892520000925288,
          0.10912119998829439,
          0.10881940001854673,
          0.10929260001285002,
          0.10949899995466694,
          0.11055829998804256,
          0.10875219997251406,
          0.10940349998418242,
          0.10723170003620908,
          0.1078741000383161,
          0.11359029996674508,
          0.10670179995940998,
          0.11051450000377372,
          0.10889400000451133,
          0.15538919996470213,
          0.11857220000820234,
          0.10654339997563511,
          0.1129318000166677,
          0.11149840004509315
         ],
         "yaxis": "y3",
         "type": "scatter"
        }
       ],
       "layout": {
        "template": {
         "data": {
          "histogram2dcontour": [
           {
            "type": "histogram2dcontour",
            "colorbar": {
             "outlinewidth": 0,
             "ticks": ""
            },
            "colorscale": [
             [
              0.0,
              "#0d0887"
             ],
             [
              0.1111111111111111,
              "#46039f"
             ],
             [
              0.2222222222222222,
              "#7201a8"
             ],
             [
              0.3333333333333333,
              "#9c179e"
             ],
             [
              0.4444444444444444,
              "#bd3786"
             ],
             [
              0.5555555555555556,
              "#d8576b"
             ],
             [
              0.6666666666666666,
              "#ed7953"
             ],
             [
              0.7777777777777778,
              "#fb9f3a"
             ],
             [
              0.8888888888888888,
              "#fdca26"
             ],
             [
              1.0,
              "#f0f921"
             ]
            ]
           }
          ],
          "choropleth": [
           {
            "type": "choropleth",
            "colorbar": {
             "outlinewidth": 0,
             "ticks": ""
            }
           }
          ],
          "histogram2d": [
           {
            "type": "histogram2d",
            "colorbar": {
             "outlinewidth": 0,
             "ticks": ""
            },
            "colorscale": [
             [
              0.0,
              "#0d0887"
             ],
             [
              0.1111111111111111,
              "#46039f"
             ],
             [
              0.2222222222222222,
              "#7201a8"
             ],
             [
              0.3333333333333333,
              "#9c179e"
             ],
             [
              0.4444444444444444,
              "#bd3786"
             ],
             [
              0.5555555555555556,
              "#d8576b"
             ],
             [
              0.6666666666666666,
              "#ed7953"
             ],
             [
              0.7777777777777778,
              "#fb9f3a"
             ],
             [
              0.8888888888888888,
              "#fdca26"
             ],
             [
              1.0,
              "#f0f921"
             ]
            ]
           }
          ],
          "heatmap": [
           {
            "type": "heatmap",
            "colorbar": {
             "outlinewidth": 0,
             "ticks": ""
            },
            "colorscale": [
             [
              0.0,
              "#0d0887"
             ],
             [
              0.1111111111111111,
              "#46039f"
             ],
             [
              0.2222222222222222,
              "#7201a8"
             ],
             [
              0.3333333333333333,
              "#9c179e"
             ],
             [
              0.4444444444444444,
              "#bd3786"
             ],
             [
              0.5555555555555556,
              "#d8576b"
             ],
             [
              0.6666666666666666,
              "#ed7953"
             ],
             [
              0.7777777777777778,
              "#fb9f3a"
             ],
             [
              0.8888888888888888,
              "#fdca26"
             ],
             [
              1.0,
              "#f0f921"
             ]
            ]
           }
          ],
          "heatmapgl": [
           {
            "type": "heatmapgl",
            "colorbar": {
             "outlinewidth": 0,
             "ticks": ""
            },
            "colorscale": [
             [
              0.0,
              "#0d0887"
             ],
             [
              0.1111111111111111,
              "#46039f"
             ],
             [
              0.2222222222222222,
              "#7201a8"
             ],
             [
              0.3333333333333333,
              "#9c179e"
             ],
             [
              0.4444444444444444,
              "#bd3786"
             ],
             [
              0.5555555555555556,
              "#d8576b"
             ],
             [
              0.6666666666666666,
              "#ed7953"
             ],
             [
              0.7777777777777778,
              "#fb9f3a"
             ],
             [
              0.8888888888888888,
              "#fdca26"
             ],
             [
              1.0,
              "#f0f921"
             ]
            ]
           }
          ],
          "contourcarpet": [
           {
            "type": "contourcarpet",
            "colorbar": {
             "outlinewidth": 0,
             "ticks": ""
            }
           }
          ],
          "contour": [
           {
            "type": "contour",
            "colorbar": {
             "outlinewidth": 0,
             "ticks": ""
            },
            "colorscale": [
             [
              0.0,
              "#0d0887"
             ],
             [
              0.1111111111111111,
              "#46039f"
             ],
             [
              0.2222222222222222,
              "#7201a8"
             ],
             [
              0.3333333333333333,
              "#9c179e"
             ],
             [
              0.4444444444444444,
              "#bd3786"
             ],
             [
              0.5555555555555556,
              "#d8576b"
             ],
             [
              0.6666666666666666,
              "#ed7953"
             ],
             [
              0.7777777777777778,
              "#fb9f3a"
             ],
             [
              0.8888888888888888,
              "#fdca26"
             ],
             [
              1.0,
              "#f0f921"
             ]
            ]
           }
          ],
          "surface": [
           {
            "type": "surface",
            "colorbar": {
             "outlinewidth": 0,
             "ticks": ""
            },
            "colorscale": [
             [
              0.0,
              "#0d0887"
             ],
             [
              0.1111111111111111,
              "#46039f"
             ],
             [
              0.2222222222222222,
              "#7201a8"
             ],
             [
              0.3333333333333333,
              "#9c179e"
             ],
             [
              0.4444444444444444,
              "#bd3786"
             ],
             [
              0.5555555555555556,
              "#d8576b"
             ],
             [
              0.6666666666666666,
              "#ed7953"
             ],
             [
              0.7777777777777778,
              "#fb9f3a"
             ],
             [
              0.8888888888888888,
              "#fdca26"
             ],
             [
              1.0,
              "#f0f921"
             ]
            ]
           }
          ],
          "mesh3d": [
           {
            "type": "mesh3d",
            "colorbar": {
             "outlinewidth": 0,
             "ticks": ""
            }
           }
          ],
          "scatter": [
           {
            "marker": {
             "line": {
              "color": "#283442"
             }
            },
            "type": "scatter"
           }
          ],
          "parcoords": [
           {
            "type": "parcoords",
            "line": {
             "colorbar": {
              "outlinewidth": 0,
              "ticks": ""
             }
            }
           }
          ],
          "scatterpolargl": [
           {
            "type": "scatterpolargl",
            "marker": {
             "colorbar": {
              "outlinewidth": 0,
              "ticks": ""
             }
            }
           }
          ],
          "bar": [
           {
            "error_x": {
             "color": "#f2f5fa"
            },
            "error_y": {
             "color": "#f2f5fa"
            },
            "marker": {
             "line": {
              "color": "rgb(17,17,17)",
              "width": 0.5
             },
             "pattern": {
              "fillmode": "overlay",
              "size": 10,
              "solidity": 0.2
             }
            },
            "type": "bar"
           }
          ],
          "scattergeo": [
           {
            "type": "scattergeo",
            "marker": {
             "colorbar": {
              "outlinewidth": 0,
              "ticks": ""
             }
            }
           }
          ],
          "scatterpolar": [
           {
            "type": "scatterpolar",
            "marker": {
             "colorbar": {
              "outlinewidth": 0,
              "ticks": ""
             }
            }
           }
          ],
          "histogram": [
           {
            "marker": {
             "pattern": {
              "fillmode": "overlay",
              "size": 10,
              "solidity": 0.2
             }
            },
            "type": "histogram"
           }
          ],
          "scattergl": [
           {
            "marker": {
             "line": {
              "color": "#283442"
             }
            },
            "type": "scattergl"
           }
          ],
          "scatter3d": [
           {
            "type": "scatter3d",
            "line": {
             "colorbar": {
              "outlinewidth": 0,
              "ticks": ""
             }
            },
            "marker": {
             "colorbar": {
              "outlinewidth": 0,
              "ticks": ""
             }
            }
           }
          ],
          "scattermapbox": [
           {
            "type": "scattermapbox",
            "marker": {
             "colorbar": {
              "outlinewidth": 0,
              "ticks": ""
             }
            }
           }
          ],
          "scatterternary": [
           {
            "type": "scatterternary",
            "marker": {
             "colorbar": {
              "outlinewidth": 0,
              "ticks": ""
             }
            }
           }
          ],
          "scattercarpet": [
           {
            "type": "scattercarpet",
            "marker": {
             "colorbar": {
              "outlinewidth": 0,
              "ticks": ""
             }
            }
           }
          ],
          "carpet": [
           {
            "aaxis": {
             "endlinecolor": "#A2B1C6",
             "gridcolor": "#506784",
             "linecolor": "#506784",
             "minorgridcolor": "#506784",
             "startlinecolor": "#A2B1C6"
            },
            "baxis": {
             "endlinecolor": "#A2B1C6",
             "gridcolor": "#506784",
             "linecolor": "#506784",
             "minorgridcolor": "#506784",
             "startlinecolor": "#A2B1C6"
            },
            "type": "carpet"
           }
          ],
          "table": [
           {
            "cells": {
             "fill": {
              "color": "#506784"
             },
             "line": {
              "color": "rgb(17,17,17)"
             }
            },
            "header": {
             "fill": {
              "color": "#2a3f5f"
             },
             "line": {
              "color": "rgb(17,17,17)"
             }
            },
            "type": "table"
           }
          ],
          "barpolar": [
           {
            "marker": {
             "line": {
              "color": "rgb(17,17,17)",
              "width": 0.5
             },
             "pattern": {
              "fillmode": "overlay",
              "size": 10,
              "solidity": 0.2
             }
            },
            "type": "barpolar"
           }
          ],
          "pie": [
           {
            "automargin": true,
            "type": "pie"
           }
          ]
         },
         "layout": {
          "autotypenumbers": "strict",
          "colorway": [
           "#636efa",
           "#EF553B",
           "#00cc96",
           "#ab63fa",
           "#FFA15A",
           "#19d3f3",
           "#FF6692",
           "#B6E880",
           "#FF97FF",
           "#FECB52"
          ],
          "font": {
           "color": "#f2f5fa"
          },
          "hovermode": "closest",
          "hoverlabel": {
           "align": "left"
          },
          "paper_bgcolor": "rgb(17,17,17)",
          "plot_bgcolor": "rgb(17,17,17)",
          "polar": {
           "bgcolor": "rgb(17,17,17)",
           "angularaxis": {
            "gridcolor": "#506784",
            "linecolor": "#506784",
            "ticks": ""
           },
           "radialaxis": {
            "gridcolor": "#506784",
            "linecolor": "#506784",
            "ticks": ""
           }
          },
          "ternary": {
           "bgcolor": "rgb(17,17,17)",
           "aaxis": {
            "gridcolor": "#506784",
            "linecolor": "#506784",
            "ticks": ""
           },
           "baxis": {
            "gridcolor": "#506784",
            "linecolor": "#506784",
            "ticks": ""
           },
           "caxis": {
            "gridcolor": "#506784",
            "linecolor": "#506784",
            "ticks": ""
           }
          },
          "coloraxis": {
           "colorbar": {
            "outlinewidth": 0,
            "ticks": ""
           }
          },
          "colorscale": {
           "sequential": [
            [
             0.0,
             "#0d0887"
            ],
            [
             0.1111111111111111,
             "#46039f"
            ],
            [
             0.2222222222222222,
             "#7201a8"
            ],
            [
             0.3333333333333333,
             "#9c179e"
            ],
            [
             0.4444444444444444,
             "#bd3786"
            ],
            [
             0.5555555555555556,
             "#d8576b"
            ],
            [
             0.6666666666666666,
             "#ed7953"
            ],
            [
             0.7777777777777778,
             "#fb9f3a"
            ],
            [
             0.8888888888888888,
             "#fdca26"
            ],
            [
             1.0,
             "#f0f921"
            ]
           ],
           "sequentialminus": [
            [
             0.0,
             "#0d0887"
            ],
            [
             0.1111111111111111,
             "#46039f"
            ],
            [
             0.2222222222222222,
             "#7201a8"
            ],
            [
             0.3333333333333333,
             "#9c179e"
            ],
            [
             0.4444444444444444,
             "#bd3786"
            ],
            [
             0.5555555555555556,
             "#d8576b"
            ],
            [
             0.6666666666666666,
             "#ed7953"
            ],
            [
             0.7777777777777778,
             "#fb9f3a"
            ],
            [
             0.8888888888888888,
             "#fdca26"
            ],
            [
             1.0,
             "#f0f921"
            ]
           ],
           "diverging": [
            [
             0,
             "#8e0152"
            ],
            [
             0.1,
             "#c51b7d"
            ],
            [
             0.2,
             "#de77ae"
            ],
            [
             0.3,
             "#f1b6da"
            ],
            [
             0.4,
             "#fde0ef"
            ],
            [
             0.5,
             "#f7f7f7"
            ],
            [
             0.6,
             "#e6f5d0"
            ],
            [
             0.7,
             "#b8e186"
            ],
            [
             0.8,
             "#7fbc41"
            ],
            [
             0.9,
             "#4d9221"
            ],
            [
             1,
             "#276419"
            ]
           ]
          },
          "xaxis": {
           "gridcolor": "#283442",
           "linecolor": "#506784",
           "ticks": "",
           "title": {
            "standoff": 15
           },
           "zerolinecolor": "#283442",
           "automargin": true,
           "zerolinewidth": 2
          },
          "yaxis": {
           "gridcolor": "#283442",
           "linecolor": "#506784",
           "ticks": "",
           "title": {
            "standoff": 15
           },
           "zerolinecolor": "#283442",
           "automargin": true,
           "zerolinewidth": 2
          },
          "scene": {
           "xaxis": {
            "backgroundcolor": "rgb(17,17,17)",
            "gridcolor": "#506784",
            "linecolor": "#506784",
            "showbackground": true,
            "ticks": "",
            "zerolinecolor": "#C8D4E3",
            "gridwidth": 2
           },
           "yaxis": {
            "backgroundcolor": "rgb(17,17,17)",
            "gridcolor": "#506784",
            "linecolor": "#506784",
            "showbackground": true,
            "ticks": "",
            "zerolinecolor": "#C8D4E3",
            "gridwidth": 2
           },
           "zaxis": {
            "backgroundcolor": "rgb(17,17,17)",
            "gridcolor": "#506784",
            "linecolor": "#506784",
            "showbackground": true,
            "ticks": "",
            "zerolinecolor": "#C8D4E3",
            "gridwidth": 2
           }
          },
          "shapedefaults": {
           "line": {
            "color": "#f2f5fa"
           }
          },
          "annotationdefaults": {
           "arrowcolor": "#f2f5fa",
           "arrowhead": 0,
           "arrowwidth": 1
          },
          "geo": {
           "bgcolor": "rgb(17,17,17)",
           "landcolor": "rgb(17,17,17)",
           "subunitcolor": "#506784",
           "showland": true,
           "showlakes": true,
           "lakecolor": "rgb(17,17,17)"
          },
          "title": {
           "x": 0.05
          },
          "updatemenudefaults": {
           "bgcolor": "#506784",
           "borderwidth": 0
          },
          "sliderdefaults": {
           "bgcolor": "#C8D4E3",
           "borderwidth": 1,
           "bordercolor": "rgb(17,17,17)",
           "tickwidth": 0
          },
          "mapbox": {
           "style": "dark"
          }
         }
        },
        "xaxis": {
         "anchor": "y",
         "domain": [
          0.0,
          0.31999999999999995
         ],
         "title": {
          "text": "Dimensione array"
         }
        },
        "yaxis": {
         "anchor": "x",
         "domain": [
          0.0,
          1.0
         ],
         "title": {
          "text": "Time (s)"
         }
        },
        "xaxis2": {
         "anchor": "y2",
         "domain": [
          0.33999999999999997,
          0.6599999999999999
         ],
         "matches": "x",
         "title": {
          "text": "Dimensione array"
         }
        },
        "yaxis2": {
         "anchor": "x2",
         "domain": [
          0.0,
          1.0
         ],
         "matches": "y",
         "showticklabels": false
        },
        "xaxis3": {
         "anchor": "y3",
         "domain": [
          0.6799999999999999,
          0.9999999999999999
         ],
         "matches": "x",
         "title": {
          "text": "Dimensione array"
         }
        },
        "yaxis3": {
         "anchor": "x3",
         "domain": [
          0.0,
          1.0
         ],
         "matches": "y",
         "showticklabels": false
        },
        "annotations": [
         {
          "font": {},
          "showarrow": false,
          "text": "Tipo di input=random",
          "x": 0.15999999999999998,
          "xanchor": "center",
          "xref": "paper",
          "y": 1.0,
          "yanchor": "bottom",
          "yref": "paper"
         },
         {
          "font": {},
          "showarrow": false,
          "text": "Tipo di input=sorted",
          "x": 0.49999999999999994,
          "xanchor": "center",
          "xref": "paper",
          "y": 1.0,
          "yanchor": "bottom",
          "yref": "paper"
         },
         {
          "font": {},
          "showarrow": false,
          "text": "Tipo di input=reversed",
          "x": 0.8399999999999999,
          "xanchor": "center",
          "xref": "paper",
          "y": 1.0,
          "yanchor": "bottom",
          "yref": "paper"
         }
        ],
        "legend": {
         "title": {
          "text": "Algoritmo di ordinamento"
         },
         "tracegroupgap": 0
        },
        "title": {
         "text": "Sorting algorithms"
        }
       },
       "config": {
        "plotlyServerURL": "https://plot.ly"
       }
      },
      "text/html": "<div>                            <div id=\"5b60377f-4ad8-4a2a-a276-300ac7550b0b\" class=\"plotly-graph-div\" style=\"height:525px; width:100%;\"></div>            <script type=\"text/javascript\">                require([\"plotly\"], function(Plotly) {                    window.PLOTLYENV=window.PLOTLYENV || {};                                    if (document.getElementById(\"5b60377f-4ad8-4a2a-a276-300ac7550b0b\")) {                    Plotly.newPlot(                        \"5b60377f-4ad8-4a2a-a276-300ac7550b0b\",                        [{\"hovertemplate\":\"Algoritmo di ordinamento=insertion_sort<br>Tipo di input=random<br>Dimensione array=%{x}<br>Time (s)=%{y}<extra></extra>\",\"legendgroup\":\"insertion_sort\",\"line\":{\"color\":\"#636efa\",\"dash\":\"solid\"},\"marker\":{\"symbol\":\"circle\"},\"mode\":\"lines\",\"name\":\"insertion_sort\",\"orientation\":\"v\",\"showlegend\":true,\"x\":[100,200,300,400,500,600,700,800,900,1000,1100,1200,1300,1400,1500,1600,1700,1800,1900,2000,2100,2200,2300,2400,2500,2600,2700,2800,2900,3000,3100,3200,3300,3400,3500,3600,3700,3800,3900,4000,4100,4200,4300,4400,4500,4600,4700,4800,4900,5000,5100,5200,5300,5400,5500,5600,5700,5800,5900,6000,6100,6200,6300,6400,6500,6600,6700,6800,6900,7000,7100,7200,7300,7400,7500,7600,7700,7800,7900,8000,8100,8200,8300,8400,8500,8600,8700,8800,8900,9000,9100,9200,9300,9400,9500,9600,9700,9800,9900],\"xaxis\":\"x\",\"y\":[0.00034770002821460366,0.001011700020171702,0.002263600006699562,0.004031599964946508,0.007434499973896891,0.010952599986921996,0.013958800002001226,0.018552099994849414,0.02457260002847761,0.031348599994089454,0.039358300040476024,0.04351170000154525,0.05361070000799373,0.055672099988441914,0.12533820001408458,0.08861620002426207,0.0859067999990657,0.0941966000245884,0.10658159997547045,0.15229980001458898,0.1592917999951169,0.1505371000384912,0.16169420001097023,0.2004255000501871,0.18417500000214204,0.18412869999883696,0.20132310001645237,0.21511439996538684,0.23378629999933764,0.25479199999244884,0.2851338000036776,0.3773040000232868,0.3098467999952845,0.31707099999766797,0.3386508999974467,0.35503920004703104,0.3733191000064835,0.3958836000529118,0.41956589999608696,0.434057800041046,0.45571200002450496,0.4860772000392899,0.5152659000013955,0.5445341999875382,0.5745532999862917,0.5782200999674387,0.5907102000201121,0.6682370000053197,0.6585575999924913,0.6970979999750853,0.7122568000340834,0.7383475999813527,0.7891976999817416,0.8046725000021979,0.843009100004565,0.8741003000177443,0.9687308000284247,0.9567957000108436,0.9806837000069208,1.038145500002429,1.0664759999490343,1.0626407000236213,1.1007331000291742,1.1556851000059396,1.1676919999881648,1.2253691999940202,1.2407861999818124,1.3187084000092,1.3442231999943033,1.3614527999889106,1.384672500018496,1.4355341999907978,1.4498758999980055,1.5556272999965586,1.5945966999861412,1.648473399982322,1.6360820999834687,1.6758860999834724,1.7268435999867506,1.7964470000006258,1.814376300026197,1.9148314000340179,1.9152124000247568,1.974321800051257,2.0316109000123106,2.092062499956228,2.133218999952078,2.1177440999890678,2.1792265999829397,2.3501351000159048,2.3270171000040136,2.3435106999822892,2.4138979999697767,2.4177661999710836,2.550754699972458,2.6186457999865524,2.6065570999635383,2.7999729000148363,2.757945999968797],\"yaxis\":\"y\",\"type\":\"scatter\"},{\"hovertemplate\":\"Algoritmo di ordinamento=insertion_sort<br>Tipo di input=sorted<br>Dimensione array=%{x}<br>Time (s)=%{y}<extra></extra>\",\"legendgroup\":\"insertion_sort\",\"line\":{\"color\":\"#636efa\",\"dash\":\"solid\"},\"marker\":{\"symbol\":\"circle\"},\"mode\":\"lines\",\"name\":\"insertion_sort\",\"orientation\":\"v\",\"showlegend\":false,\"x\":[100,200,300,400,500,600,700,800,900,1000,1100,1200,1300,1400,1500,1600,1700,1800,1900,2000,2100,2200,2300,2400,2500,2600,2700,2800,2900,3000,3100,3200,3300,3400,3500,3600,3700,3800,3900,4000,4100,4200,4300,4400,4500,4600,4700,4800,4900,5000,5100,5200,5300,5400,5500,5600,5700,5800,5900,6000,6100,6200,6300,6400,6500,6600,6700,6800,6900,7000,7100,7200,7300,7400,7500,7600,7700,7800,7900,8000,8100,8200,8300,8400,8500,8600,8700,8800,8900,9000,9100,9200,9300,9400,9500,9600,9700,9800,9900],\"xaxis\":\"x2\",\"y\":[1.8000020645558834e-05,2.3200002033263445e-05,3.42000275850296e-05,4.810001701116562e-05,5.959998816251755e-05,7.250002818182111e-05,8.85000335983932e-05,9.809999028220773e-05,0.00011219998123124242,0.0001238000113517046,0.00017129996558651328,0.00014999997802078724,0.00016280001727864146,0.00017519999528303742,0.0002004000125452876,0.00020020001102238894,0.00021269998978823423,0.0002663999912329018,0.00026509998133406043,0.0002519999979995191,0.00031070003751665354,0.00027730001602321863,0.00031590001890435815,0.00030479999259114265,0.00031620002118870616,0.0003279999946244061,0.00034110003616660833,0.00035909999860450625,0.00036810000892728567,0.0003831000067293644,0.0003926000208593905,0.0004265000461600721,0.00044380000326782465,0.0004322000313550234,0.0005299000185914338,0.0004911000141873956,0.00047199998516589403,0.001018200011458248,0.0008493000059388578,0.0008706999942660332,0.0008985000313259661,0.0009396999957971275,0.0009015999967232347,0.0005738000036217272,0.0007779999868944287,0.0005942000425420702,0.0006080999737605453,0.000618099991697818,0.0010331000084988773,0.0010920999920926988,0.0011710000107996166,0.0008542000432498753,0.000715400034096092,0.0007294000242836773,0.0007447000243701041,0.000748799997381866,0.0007604000275023282,0.000769499980378896,0.0007856000447645783,0.0007970000151544809,0.0008120000129565597,0.0008245999924838543,0.0008356999605894089,0.0008519000257365406,0.0008566000033169985,0.0009124000207521021,0.0008740999619476497,0.0008857999928295612,0.000889300019480288,0.0008976000244729221,0.0009141000336967409,0.0009325999999418855,0.0009390999912284315,0.0009492000099271536,0.0009654999594204128,0.0009873000090010464,0.000993099994957447,0.0010223000426776707,0.0011156999971717596,0.0010709999478422105,0.0010601000394672155,0.001048700010869652,0.0010701999999582767,0.0010843999916687608,0.0010970999719575047,0.0011464999988675117,0.001125600014347583,0.0011267999652773142,0.0011915999930351973,0.0011627000058069825,0.0011728000245057046,0.0011765999952331185,0.001194800017401576,0.0012063999893143773,0.0012266000267118216,0.001227299973834306,0.001260999997612089,0.0012706000125035644,0.0013642999692820013],\"yaxis\":\"y2\",\"type\":\"scatter\"},{\"hovertemplate\":\"Algoritmo di ordinamento=insertion_sort<br>Tipo di input=reversed<br>Dimensione array=%{x}<br>Time (s)=%{y}<extra></extra>\",\"legendgroup\":\"insertion_sort\",\"line\":{\"color\":\"#636efa\",\"dash\":\"solid\"},\"marker\":{\"symbol\":\"circle\"},\"mode\":\"lines\",\"name\":\"insertion_sort\",\"orientation\":\"v\",\"showlegend\":false,\"x\":[100,200,300,400,500,600,700,800,900,1000,1100,1200,1300,1400,1500,1600,1700,1800,1900,2000,2100,2200,2300,2400,2500,2600,2700,2800,2900,3000,3100,3200,3300,3400,3500,3600,3700,3800,3900,4000,4100,4200,4300,4400,4500,4600,4700,4800,4900,5000,5100,5200,5300,5400,5500,5600,5700,5800,5900,6000,6100,6200,6300,6400,6500,6600,6700,6800,6900,7000,7100,7200,7300,7400,7500,7600,7700,7800,7900,8000,8100,8200,8300,8400,8500,8600,8700,8800,8900,9000,9100,9200,9300,9400,9500,9600,9700,9800,9900],\"xaxis\":\"x3\",\"y\":[0.0005138999549672008,0.0020290000247769058,0.004563599999528378,0.008291799982544035,0.013092299981508404,0.019496200024150312,0.02490120002767071,0.03331890003755689,0.04271439998410642,0.05447850003838539,0.0626868000254035,0.0759962999727577,0.09042490000138059,0.10655980004230514,0.11896439996780828,0.13705389999086037,0.15516399999614805,0.1740113000269048,0.2017418000032194,0.221728999982588,0.23602280003251508,0.2631766999838874,0.28380690002813935,0.31285119999665767,0.346026899991557,0.3673494000104256,0.4070907999994233,0.4253737000399269,0.46029630000703037,0.4931718000443652,0.516368699958548,0.5479943000245839,0.5798199999844655,0.6212076999945566,0.6798842999851331,0.7150007999734953,0.7486187000176869,0.8127091000205837,0.8348384000128135,0.8712794000166468,0.9201596999773756,0.941888100001961,1.0294409000198357,1.0772312000044622,1.1616659999708645,1.1917126000043936,1.2359427000046708,1.3038167000049725,1.2933050999999978,1.3702042999793775,1.4182869999785908,1.517799399967771,1.5448984000249766,1.5983622000203468,1.6608097999705933,1.725103200005833,1.799200799956452,1.9402784999692813,1.9255647999816574,1.9818619000143372,2.0296235000132583,2.2115014999872074,2.190117200021632,2.330193199974019,2.396209899976384,2.5602623999584466,2.600127900019288,2.6994699999922886,2.64525970001705,2.694435400015209,2.768826099985745,2.9501942000351846,3.0724982999963686,3.071175600052811,3.1303478999761865,3.3203397000324912,3.3616085999528877,3.452184900001157,3.5139230000204407,3.654356699960772,3.738438500033226,3.843287000025157,3.8720547999837436,3.9740323000005446,4.158124900015537,4.175720900006127,4.26173619995825,4.418452900019474,4.486028599960264,4.653691500017885,4.71664460003376,4.872031900042202,4.884727799973916,5.05362719995901,5.187412800034508,5.29456469998695,5.412072799983434,5.455184300022665,5.655912199988961],\"yaxis\":\"y3\",\"type\":\"scatter\"},{\"hovertemplate\":\"Algoritmo di ordinamento=counting_sort<br>Tipo di input=random<br>Dimensione array=%{x}<br>Time (s)=%{y}<extra></extra>\",\"legendgroup\":\"counting_sort\",\"line\":{\"color\":\"#EF553B\",\"dash\":\"solid\"},\"marker\":{\"symbol\":\"circle\"},\"mode\":\"lines\",\"name\":\"counting_sort\",\"orientation\":\"v\",\"showlegend\":true,\"x\":[100,200,300,400,500,600,700,800,900,1000,1100,1200,1300,1400,1500,1600,1700,1800,1900,2000,2100,2200,2300,2400,2500,2600,2700,2800,2900,3000,3100,3200,3300,3400,3500,3600,3700,3800,3900,4000,4100,4200,4300,4400,4500,4600,4700,4800,4900,5000,5100,5200,5300,5400,5500,5600,5700,5800,5900,6000,6100,6200,6300,6400,6500,6600,6700,6800,6900,7000,7100,7200,7300,7400,7500,7600,7700,7800,7900,8000,8100,8200,8300,8400,8500,8600,8700,8800,8900,9000,9100,9200,9300,9400,9500,9600,9700,9800,9900],\"xaxis\":\"x\",\"y\":[0.08836809999775141,0.09093509998638183,0.0925029999925755,0.09914730000309646,0.09192789997905493,0.09629240003414452,0.10188160004327074,0.10190449998481199,0.09898219996830449,0.10453640000196174,0.12346199998864904,0.12808029999723658,0.10467939998488873,0.1001661000191234,0.10107400000561029,0.1027114000171423,0.10034620005171746,0.1069310000166297,0.10373189998790622,0.10212049999972805,0.1034745000069961,0.10561759996926412,0.10384029999841005,0.10648280003806576,0.10381160001270473,0.10482400003820658,0.10309599997708574,0.10635769995860755,0.10687600000528619,0.10573319997638464,0.10622309998143464,0.14740150002762675,0.10574790003011003,0.11808310000924394,0.10217470000497997,0.10567489999812096,0.10656980000203475,0.10193890001391992,0.10177060001296923,0.10559190000640228,0.10035309998784214,0.10366889997385442,0.0996682999539189,0.10295850003603846,0.10219689999939874,0.10039279999909922,0.10236230003647506,0.10583349998341873,0.10240520001389086,0.10454409994417801,0.10188390000257641,0.12763279996579513,0.12458730000071228,0.10344870004337281,0.10277579998364672,0.10078280000016093,0.10464289999799803,0.10291469999356195,0.10749219998251647,0.1020958999870345,0.10264270001789555,0.10566729999845847,0.10416230000555515,0.10335900000063702,0.1052235999959521,0.1045589999994263,0.10314240003935993,0.10512379999272525,0.10953330004122108,0.10540379997109994,0.10518040001625195,0.13610379997408018,0.10318269999697804,0.10524920001626015,0.10845190001418814,0.10699579998617992,0.10657970001921058,0.1048511000117287,0.10488769999938086,0.10274280002340674,0.10698749998118728,0.10526599996956065,0.10457490000408143,0.10720079997554421,0.10602129995822906,0.10984419996384531,0.10860420000972226,0.11043169995537028,0.11395219998667017,0.11942800000542775,0.12112840003101155,0.1543653000262566,0.12070730002596974,0.12411779997637495,0.11021979997167364,0.11019749997649342,0.11175989999901503,0.10545209998963401,0.11649579997174442],\"yaxis\":\"y\",\"type\":\"scatter\"},{\"hovertemplate\":\"Algoritmo di ordinamento=counting_sort<br>Tipo di input=sorted<br>Dimensione array=%{x}<br>Time (s)=%{y}<extra></extra>\",\"legendgroup\":\"counting_sort\",\"line\":{\"color\":\"#EF553B\",\"dash\":\"solid\"},\"marker\":{\"symbol\":\"circle\"},\"mode\":\"lines\",\"name\":\"counting_sort\",\"orientation\":\"v\",\"showlegend\":false,\"x\":[100,200,300,400,500,600,700,800,900,1000,1100,1200,1300,1400,1500,1600,1700,1800,1900,2000,2100,2200,2300,2400,2500,2600,2700,2800,2900,3000,3100,3200,3300,3400,3500,3600,3700,3800,3900,4000,4100,4200,4300,4400,4500,4600,4700,4800,4900,5000,5100,5200,5300,5400,5500,5600,5700,5800,5900,6000,6100,6200,6300,6400,6500,6600,6700,6800,6900,7000,7100,7200,7300,7400,7500,7600,7700,7800,7900,8000,8100,8200,8300,8400,8500,8600,8700,8800,8900,9000,9100,9200,9300,9400,9500,9600,9700,9800,9900],\"xaxis\":\"x2\",\"y\":[0.08890520001295954,0.08602899999823421,0.09069510002154857,0.09465240000281483,0.10003859997959808,0.09875149995787069,0.10250749997794628,0.09828390000620857,0.10173769999528304,0.10174130002269521,0.10431710002012551,0.0994271999807097,0.12005729996599257,0.13077329995576292,0.101989799994044,0.10142259998247027,0.10650510003324598,0.10238890000618994,0.10397319996263832,0.10430370003450662,0.10122350003803149,0.10476449999259785,0.10327330004656687,0.1024384000338614,0.10378800000762567,0.10460020002210513,0.10319980001077056,0.10346489999210462,0.1050060999696143,0.10368990001734346,0.10330949997296557,0.10122379998210818,0.10967840004013851,0.1444037000183016,0.1035913999658078,0.10586509999120608,0.10270059999311343,0.10264259995892644,0.10181140003260225,0.1010048000025563,0.10354000004008412,0.11112980003235862,0.10193199996137992,0.10265570000046864,0.10262149997288361,0.10323629999766126,0.10229010001057759,0.10330529999919236,0.10285650001605973,0.09977600001730025,0.10448280000127852,0.10394479997921735,0.10511530004441738,0.14185159996850416,0.11393839999800548,0.10492680000606924,0.10582179995253682,0.10208700003568083,0.10086519998731092,0.10168500000145286,0.10428590001538396,0.10334380000131205,0.10056079999776557,0.1067697000107728,0.10741409996990114,0.104311500035692,0.10360520001268014,0.10373679996700957,0.10478689998853952,0.10486500000115484,0.1044483000296168,0.10111599997617304,0.10422360000666231,0.12620679999236017,0.11439210001844913,0.10505750001175329,0.10570080002071336,0.10458680003648624,0.10520249995170161,0.10698219999903813,0.10483050002949312,0.10545580001780763,0.10949579998850822,0.10834700003033504,0.10855330002959818,0.10757770005147904,0.10766999999759719,0.10663680004654452,0.10755140002584085,0.10994120000395924,0.1082938999752514,0.11073640000540763,0.10920389997772872,0.13950729998759925,0.11653540004044771,0.11149880004813895,0.13487419998273253,0.1177097000181675,0.11123789998237044],\"yaxis\":\"y2\",\"type\":\"scatter\"},{\"hovertemplate\":\"Algoritmo di ordinamento=counting_sort<br>Tipo di input=reversed<br>Dimensione array=%{x}<br>Time (s)=%{y}<extra></extra>\",\"legendgroup\":\"counting_sort\",\"line\":{\"color\":\"#EF553B\",\"dash\":\"solid\"},\"marker\":{\"symbol\":\"circle\"},\"mode\":\"lines\",\"name\":\"counting_sort\",\"orientation\":\"v\",\"showlegend\":false,\"x\":[100,200,300,400,500,600,700,800,900,1000,1100,1200,1300,1400,1500,1600,1700,1800,1900,2000,2100,2200,2300,2400,2500,2600,2700,2800,2900,3000,3100,3200,3300,3400,3500,3600,3700,3800,3900,4000,4100,4200,4300,4400,4500,4600,4700,4800,4900,5000,5100,5200,5300,5400,5500,5600,5700,5800,5900,6000,6100,6200,6300,6400,6500,6600,6700,6800,6900,7000,7100,7200,7300,7400,7500,7600,7700,7800,7900,8000,8100,8200,8300,8400,8500,8600,8700,8800,8900,9000,9100,9200,9300,9400,9500,9600,9700,9800,9900],\"xaxis\":\"x3\",\"y\":[0.09223369997926056,0.08896079997066408,0.09236769995186478,0.09096159995533526,0.09670969995204359,0.0987701999838464,0.10050820000469685,0.10056029999395832,0.10418189998017624,0.09842669998761266,0.10374389996286482,0.105874800006859,0.104118799965363,0.10547680000308901,0.13792219996685162,0.12114390003262088,0.10222289996454492,0.09957919997395948,0.10506349999923259,0.10146929998882115,0.10755179997067899,0.10734839999349788,0.10360850003780797,0.10515270003816113,0.10200549999717623,0.10429579997435212,0.10795239999424666,0.10567839996656403,0.10415709996595979,0.09913950000191107,0.10225009999703616,0.10432619997300208,0.10227179998764768,0.10413589997915551,0.11414870002772659,0.14911060000304133,0.10060930001782253,0.10241029999451712,0.1050078000407666,0.104105599981267,0.10724579996895045,0.10515060002217069,0.10126820002915338,0.10440999997081235,0.10398379998514429,0.10142080002697185,0.10362519999034703,0.0989248999976553,0.10613570001441985,0.10738180001499131,0.10730800003511831,0.1051669999724254,0.10348839999642223,0.10591619997285306,0.11457420000806451,0.14034169999649748,0.10494809999363497,0.10239070001989603,0.10493410000344738,0.10786489996826276,0.10679999995045364,0.10168500000145286,0.10081259999424219,0.10272650001570582,0.10742479999316856,0.10107200004858896,0.10750599997118115,0.1064971000305377,0.10270799999125302,0.1046904000104405,0.10671369999181479,0.10422709997510538,0.10189140000147745,0.10610330000054091,0.10330109996721148,0.15959070000099018,0.11014099995372817,0.11589580000145361,0.10563140001613647,0.10849559999769554,0.10892520000925288,0.10912119998829439,0.10881940001854673,0.10929260001285002,0.10949899995466694,0.11055829998804256,0.10875219997251406,0.10940349998418242,0.10723170003620908,0.1078741000383161,0.11359029996674508,0.10670179995940998,0.11051450000377372,0.10889400000451133,0.15538919996470213,0.11857220000820234,0.10654339997563511,0.1129318000166677,0.11149840004509315],\"yaxis\":\"y3\",\"type\":\"scatter\"}],                        {\"template\":{\"data\":{\"histogram2dcontour\":[{\"type\":\"histogram2dcontour\",\"colorbar\":{\"outlinewidth\":0,\"ticks\":\"\"},\"colorscale\":[[0.0,\"#0d0887\"],[0.1111111111111111,\"#46039f\"],[0.2222222222222222,\"#7201a8\"],[0.3333333333333333,\"#9c179e\"],[0.4444444444444444,\"#bd3786\"],[0.5555555555555556,\"#d8576b\"],[0.6666666666666666,\"#ed7953\"],[0.7777777777777778,\"#fb9f3a\"],[0.8888888888888888,\"#fdca26\"],[1.0,\"#f0f921\"]]}],\"choropleth\":[{\"type\":\"choropleth\",\"colorbar\":{\"outlinewidth\":0,\"ticks\":\"\"}}],\"histogram2d\":[{\"type\":\"histogram2d\",\"colorbar\":{\"outlinewidth\":0,\"ticks\":\"\"},\"colorscale\":[[0.0,\"#0d0887\"],[0.1111111111111111,\"#46039f\"],[0.2222222222222222,\"#7201a8\"],[0.3333333333333333,\"#9c179e\"],[0.4444444444444444,\"#bd3786\"],[0.5555555555555556,\"#d8576b\"],[0.6666666666666666,\"#ed7953\"],[0.7777777777777778,\"#fb9f3a\"],[0.8888888888888888,\"#fdca26\"],[1.0,\"#f0f921\"]]}],\"heatmap\":[{\"type\":\"heatmap\",\"colorbar\":{\"outlinewidth\":0,\"ticks\":\"\"},\"colorscale\":[[0.0,\"#0d0887\"],[0.1111111111111111,\"#46039f\"],[0.2222222222222222,\"#7201a8\"],[0.3333333333333333,\"#9c179e\"],[0.4444444444444444,\"#bd3786\"],[0.5555555555555556,\"#d8576b\"],[0.6666666666666666,\"#ed7953\"],[0.7777777777777778,\"#fb9f3a\"],[0.8888888888888888,\"#fdca26\"],[1.0,\"#f0f921\"]]}],\"heatmapgl\":[{\"type\":\"heatmapgl\",\"colorbar\":{\"outlinewidth\":0,\"ticks\":\"\"},\"colorscale\":[[0.0,\"#0d0887\"],[0.1111111111111111,\"#46039f\"],[0.2222222222222222,\"#7201a8\"],[0.3333333333333333,\"#9c179e\"],[0.4444444444444444,\"#bd3786\"],[0.5555555555555556,\"#d8576b\"],[0.6666666666666666,\"#ed7953\"],[0.7777777777777778,\"#fb9f3a\"],[0.8888888888888888,\"#fdca26\"],[1.0,\"#f0f921\"]]}],\"contourcarpet\":[{\"type\":\"contourcarpet\",\"colorbar\":{\"outlinewidth\":0,\"ticks\":\"\"}}],\"contour\":[{\"type\":\"contour\",\"colorbar\":{\"outlinewidth\":0,\"ticks\":\"\"},\"colorscale\":[[0.0,\"#0d0887\"],[0.1111111111111111,\"#46039f\"],[0.2222222222222222,\"#7201a8\"],[0.3333333333333333,\"#9c179e\"],[0.4444444444444444,\"#bd3786\"],[0.5555555555555556,\"#d8576b\"],[0.6666666666666666,\"#ed7953\"],[0.7777777777777778,\"#fb9f3a\"],[0.8888888888888888,\"#fdca26\"],[1.0,\"#f0f921\"]]}],\"surface\":[{\"type\":\"surface\",\"colorbar\":{\"outlinewidth\":0,\"ticks\":\"\"},\"colorscale\":[[0.0,\"#0d0887\"],[0.1111111111111111,\"#46039f\"],[0.2222222222222222,\"#7201a8\"],[0.3333333333333333,\"#9c179e\"],[0.4444444444444444,\"#bd3786\"],[0.5555555555555556,\"#d8576b\"],[0.6666666666666666,\"#ed7953\"],[0.7777777777777778,\"#fb9f3a\"],[0.8888888888888888,\"#fdca26\"],[1.0,\"#f0f921\"]]}],\"mesh3d\":[{\"type\":\"mesh3d\",\"colorbar\":{\"outlinewidth\":0,\"ticks\":\"\"}}],\"scatter\":[{\"marker\":{\"line\":{\"color\":\"#283442\"}},\"type\":\"scatter\"}],\"parcoords\":[{\"type\":\"parcoords\",\"line\":{\"colorbar\":{\"outlinewidth\":0,\"ticks\":\"\"}}}],\"scatterpolargl\":[{\"type\":\"scatterpolargl\",\"marker\":{\"colorbar\":{\"outlinewidth\":0,\"ticks\":\"\"}}}],\"bar\":[{\"error_x\":{\"color\":\"#f2f5fa\"},\"error_y\":{\"color\":\"#f2f5fa\"},\"marker\":{\"line\":{\"color\":\"rgb(17,17,17)\",\"width\":0.5},\"pattern\":{\"fillmode\":\"overlay\",\"size\":10,\"solidity\":0.2}},\"type\":\"bar\"}],\"scattergeo\":[{\"type\":\"scattergeo\",\"marker\":{\"colorbar\":{\"outlinewidth\":0,\"ticks\":\"\"}}}],\"scatterpolar\":[{\"type\":\"scatterpolar\",\"marker\":{\"colorbar\":{\"outlinewidth\":0,\"ticks\":\"\"}}}],\"histogram\":[{\"marker\":{\"pattern\":{\"fillmode\":\"overlay\",\"size\":10,\"solidity\":0.2}},\"type\":\"histogram\"}],\"scattergl\":[{\"marker\":{\"line\":{\"color\":\"#283442\"}},\"type\":\"scattergl\"}],\"scatter3d\":[{\"type\":\"scatter3d\",\"line\":{\"colorbar\":{\"outlinewidth\":0,\"ticks\":\"\"}},\"marker\":{\"colorbar\":{\"outlinewidth\":0,\"ticks\":\"\"}}}],\"scattermapbox\":[{\"type\":\"scattermapbox\",\"marker\":{\"colorbar\":{\"outlinewidth\":0,\"ticks\":\"\"}}}],\"scatterternary\":[{\"type\":\"scatterternary\",\"marker\":{\"colorbar\":{\"outlinewidth\":0,\"ticks\":\"\"}}}],\"scattercarpet\":[{\"type\":\"scattercarpet\",\"marker\":{\"colorbar\":{\"outlinewidth\":0,\"ticks\":\"\"}}}],\"carpet\":[{\"aaxis\":{\"endlinecolor\":\"#A2B1C6\",\"gridcolor\":\"#506784\",\"linecolor\":\"#506784\",\"minorgridcolor\":\"#506784\",\"startlinecolor\":\"#A2B1C6\"},\"baxis\":{\"endlinecolor\":\"#A2B1C6\",\"gridcolor\":\"#506784\",\"linecolor\":\"#506784\",\"minorgridcolor\":\"#506784\",\"startlinecolor\":\"#A2B1C6\"},\"type\":\"carpet\"}],\"table\":[{\"cells\":{\"fill\":{\"color\":\"#506784\"},\"line\":{\"color\":\"rgb(17,17,17)\"}},\"header\":{\"fill\":{\"color\":\"#2a3f5f\"},\"line\":{\"color\":\"rgb(17,17,17)\"}},\"type\":\"table\"}],\"barpolar\":[{\"marker\":{\"line\":{\"color\":\"rgb(17,17,17)\",\"width\":0.5},\"pattern\":{\"fillmode\":\"overlay\",\"size\":10,\"solidity\":0.2}},\"type\":\"barpolar\"}],\"pie\":[{\"automargin\":true,\"type\":\"pie\"}]},\"layout\":{\"autotypenumbers\":\"strict\",\"colorway\":[\"#636efa\",\"#EF553B\",\"#00cc96\",\"#ab63fa\",\"#FFA15A\",\"#19d3f3\",\"#FF6692\",\"#B6E880\",\"#FF97FF\",\"#FECB52\"],\"font\":{\"color\":\"#f2f5fa\"},\"hovermode\":\"closest\",\"hoverlabel\":{\"align\":\"left\"},\"paper_bgcolor\":\"rgb(17,17,17)\",\"plot_bgcolor\":\"rgb(17,17,17)\",\"polar\":{\"bgcolor\":\"rgb(17,17,17)\",\"angularaxis\":{\"gridcolor\":\"#506784\",\"linecolor\":\"#506784\",\"ticks\":\"\"},\"radialaxis\":{\"gridcolor\":\"#506784\",\"linecolor\":\"#506784\",\"ticks\":\"\"}},\"ternary\":{\"bgcolor\":\"rgb(17,17,17)\",\"aaxis\":{\"gridcolor\":\"#506784\",\"linecolor\":\"#506784\",\"ticks\":\"\"},\"baxis\":{\"gridcolor\":\"#506784\",\"linecolor\":\"#506784\",\"ticks\":\"\"},\"caxis\":{\"gridcolor\":\"#506784\",\"linecolor\":\"#506784\",\"ticks\":\"\"}},\"coloraxis\":{\"colorbar\":{\"outlinewidth\":0,\"ticks\":\"\"}},\"colorscale\":{\"sequential\":[[0.0,\"#0d0887\"],[0.1111111111111111,\"#46039f\"],[0.2222222222222222,\"#7201a8\"],[0.3333333333333333,\"#9c179e\"],[0.4444444444444444,\"#bd3786\"],[0.5555555555555556,\"#d8576b\"],[0.6666666666666666,\"#ed7953\"],[0.7777777777777778,\"#fb9f3a\"],[0.8888888888888888,\"#fdca26\"],[1.0,\"#f0f921\"]],\"sequentialminus\":[[0.0,\"#0d0887\"],[0.1111111111111111,\"#46039f\"],[0.2222222222222222,\"#7201a8\"],[0.3333333333333333,\"#9c179e\"],[0.4444444444444444,\"#bd3786\"],[0.5555555555555556,\"#d8576b\"],[0.6666666666666666,\"#ed7953\"],[0.7777777777777778,\"#fb9f3a\"],[0.8888888888888888,\"#fdca26\"],[1.0,\"#f0f921\"]],\"diverging\":[[0,\"#8e0152\"],[0.1,\"#c51b7d\"],[0.2,\"#de77ae\"],[0.3,\"#f1b6da\"],[0.4,\"#fde0ef\"],[0.5,\"#f7f7f7\"],[0.6,\"#e6f5d0\"],[0.7,\"#b8e186\"],[0.8,\"#7fbc41\"],[0.9,\"#4d9221\"],[1,\"#276419\"]]},\"xaxis\":{\"gridcolor\":\"#283442\",\"linecolor\":\"#506784\",\"ticks\":\"\",\"title\":{\"standoff\":15},\"zerolinecolor\":\"#283442\",\"automargin\":true,\"zerolinewidth\":2},\"yaxis\":{\"gridcolor\":\"#283442\",\"linecolor\":\"#506784\",\"ticks\":\"\",\"title\":{\"standoff\":15},\"zerolinecolor\":\"#283442\",\"automargin\":true,\"zerolinewidth\":2},\"scene\":{\"xaxis\":{\"backgroundcolor\":\"rgb(17,17,17)\",\"gridcolor\":\"#506784\",\"linecolor\":\"#506784\",\"showbackground\":true,\"ticks\":\"\",\"zerolinecolor\":\"#C8D4E3\",\"gridwidth\":2},\"yaxis\":{\"backgroundcolor\":\"rgb(17,17,17)\",\"gridcolor\":\"#506784\",\"linecolor\":\"#506784\",\"showbackground\":true,\"ticks\":\"\",\"zerolinecolor\":\"#C8D4E3\",\"gridwidth\":2},\"zaxis\":{\"backgroundcolor\":\"rgb(17,17,17)\",\"gridcolor\":\"#506784\",\"linecolor\":\"#506784\",\"showbackground\":true,\"ticks\":\"\",\"zerolinecolor\":\"#C8D4E3\",\"gridwidth\":2}},\"shapedefaults\":{\"line\":{\"color\":\"#f2f5fa\"}},\"annotationdefaults\":{\"arrowcolor\":\"#f2f5fa\",\"arrowhead\":0,\"arrowwidth\":1},\"geo\":{\"bgcolor\":\"rgb(17,17,17)\",\"landcolor\":\"rgb(17,17,17)\",\"subunitcolor\":\"#506784\",\"showland\":true,\"showlakes\":true,\"lakecolor\":\"rgb(17,17,17)\"},\"title\":{\"x\":0.05},\"updatemenudefaults\":{\"bgcolor\":\"#506784\",\"borderwidth\":0},\"sliderdefaults\":{\"bgcolor\":\"#C8D4E3\",\"borderwidth\":1,\"bordercolor\":\"rgb(17,17,17)\",\"tickwidth\":0},\"mapbox\":{\"style\":\"dark\"}}},\"xaxis\":{\"anchor\":\"y\",\"domain\":[0.0,0.31999999999999995],\"title\":{\"text\":\"Dimensione array\"}},\"yaxis\":{\"anchor\":\"x\",\"domain\":[0.0,1.0],\"title\":{\"text\":\"Time (s)\"}},\"xaxis2\":{\"anchor\":\"y2\",\"domain\":[0.33999999999999997,0.6599999999999999],\"matches\":\"x\",\"title\":{\"text\":\"Dimensione array\"}},\"yaxis2\":{\"anchor\":\"x2\",\"domain\":[0.0,1.0],\"matches\":\"y\",\"showticklabels\":false},\"xaxis3\":{\"anchor\":\"y3\",\"domain\":[0.6799999999999999,0.9999999999999999],\"matches\":\"x\",\"title\":{\"text\":\"Dimensione array\"}},\"yaxis3\":{\"anchor\":\"x3\",\"domain\":[0.0,1.0],\"matches\":\"y\",\"showticklabels\":false},\"annotations\":[{\"font\":{},\"showarrow\":false,\"text\":\"Tipo di input=random\",\"x\":0.15999999999999998,\"xanchor\":\"center\",\"xref\":\"paper\",\"y\":1.0,\"yanchor\":\"bottom\",\"yref\":\"paper\"},{\"font\":{},\"showarrow\":false,\"text\":\"Tipo di input=sorted\",\"x\":0.49999999999999994,\"xanchor\":\"center\",\"xref\":\"paper\",\"y\":1.0,\"yanchor\":\"bottom\",\"yref\":\"paper\"},{\"font\":{},\"showarrow\":false,\"text\":\"Tipo di input=reversed\",\"x\":0.8399999999999999,\"xanchor\":\"center\",\"xref\":\"paper\",\"y\":1.0,\"yanchor\":\"bottom\",\"yref\":\"paper\"}],\"legend\":{\"title\":{\"text\":\"Algoritmo di ordinamento\"},\"tracegroupgap\":0},\"title\":{\"text\":\"Sorting algorithms\"}},                        {\"responsive\": true}                    ).then(function(){\n                            \nvar gd = document.getElementById('5b60377f-4ad8-4a2a-a276-300ac7550b0b');\nvar x = new MutationObserver(function (mutations, observer) {{\n        var display = window.getComputedStyle(gd).display;\n        if (!display || display === 'none') {{\n            console.log([gd, 'removed!']);\n            Plotly.purge(gd);\n            observer.disconnect();\n        }}\n}});\n\n// Listen for the removal of the full notebook cells\nvar notebookContainer = gd.closest('#notebook-container');\nif (notebookContainer) {{\n    x.observe(notebookContainer, {childList: true});\n}}\n\n// Listen for the clearing of the current output cell\nvar outputEl = gd.closest('.output');\nif (outputEl) {{\n    x.observe(outputEl, {childList: true});\n}}\n\n                        })                };                });            </script>        </div>"
     },
     "metadata": {},
     "output_type": "display_data"
    }
   ],
   "source": [
    "figure = px.line(df.query(\"num_samples > 0\"),\n",
    "                 x=\"num_samples\",\n",
    "                 y=\"time\",\n",
    "                 color=\"test_type\",\n",
    "                 facet_col=\"input_type\",\n",
    "                 title=\"Sorting algorithms\",\n",
    "                 labels={\"num_samples\": \"Dimensione array\", \"time\": \"Time (s)\", \"test_type\": \"Algoritmo di ordinamento\", \"input_type\": \"Tipo di input\"})\n",
    "figure.show()"
   ],
   "metadata": {
    "collapsed": false
   }
  },
  {
   "cell_type": "markdown",
   "source": [
    "Notiamo che anche decuplicando il range di generazione dei numeri, il costo computazionale del _counting sort_ aumenta, ma in modo molto meno evidente rispetto al caso precedente, soprattutto in relazione al costo di _insertion sort_, che per un numero di elementi elevato aumenta considerevolmente.\n",
    "Di conseguenza per array di grandi dimensioni, dovremmo aumentare il range di generazione dei numeri in modo considerevole per ottenere un costo computazionale del _counting sort_ simile o superiore a quello di _insertion sort_."
   ],
   "metadata": {
    "collapsed": false
   }
  },
  {
   "cell_type": "markdown",
   "source": [
    "## Analisi dei risultati dei test e conclusioni"
   ],
   "metadata": {
    "collapsed": false
   }
  },
  {
   "cell_type": "markdown",
   "source": [
    "I nostri test hanno dimostrato che il costo computazionale del _counting sort_ è lineare (in particolare _O(n+k)_) in quanto il tempo impiegato per ordinare l'array è sempre proporzionale alla dimensione dell'array e al range di generazione dei numeri. Inoltre, il costo computazionale del _counting sort_ è generalmente molto inferiore rispetto al costo computazionale dell' _insertion sort_, che è sempre _O(n^2)_. Ovviamente le uniche \"anomalie\" sono:\n",
    "   * caso di input ordinato, che è il caso migliore per l'esecuzione dell'algortimo di _insertion sort_, in cui il costo computazionale è lineare e quindi molto inferiore rispetto al caso di input random o inversamente ordinato.\n",
    "   * caso di input con range di generazione dei numeri molto maggiore della dimensione dell'array, in cui il costo computazionale del _counting sort_ è molto elevato, potenzialmente anche di più dell'algoritmo di _insertion sort_.\n",
    "\n",
    "In conclusione, possiamo dire che il _counting sort_ è un algoritmo molto efficiente, in quanto il costo computazionale è lineare e quindi generalmente molto inferiore rispetto al caso di _insertion sort_, che è sempre _O(n^2)_. Ricordiamo però che l'utilizzo del _counting sort_ è limitato al fatto che l'array di input deve contenere solo numeri interi positivi, in quanto il suo funzionamento è basato sul conteggio degli elementi presenti nell'array. Ovviamente, l'algoritmo _counting sort_ non è consigliato nei due casi precedenti, ma sicuramente è molto utile per ordinare array di numeri interi, in particolare per array di grandi dimensioni."
   ],
   "metadata": {
    "collapsed": false
   }
  },
  {
   "cell_type": "code",
   "execution_count": null,
   "outputs": [],
   "source": [],
   "metadata": {
    "collapsed": false
   }
  }
 ],
 "metadata": {
  "kernelspec": {
   "display_name": "Python 3 (ipykernel)",
   "language": "python",
   "name": "python3"
  },
  "language_info": {
   "codemirror_mode": {
    "name": "ipython",
    "version": 3
   },
   "file_extension": ".py",
   "mimetype": "text/x-python",
   "name": "python",
   "nbconvert_exporter": "python",
   "pygments_lexer": "ipython3",
   "version": "3.9.16"
  }
 },
 "nbformat": 4,
 "nbformat_minor": 5
}

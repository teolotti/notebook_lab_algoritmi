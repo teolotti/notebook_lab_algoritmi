{
 "cells": [
  {
   "cell_type": "markdown",
   "id": "6fce8b6c",
   "metadata": {},
   "source": [
    "# Confronto tra Insertion Sort e Counting Sort\n",
    "## Matteo Lotti\n",
    "### Marzo-Aprile 2023"
   ]
  },
  {
   "cell_type": "markdown",
   "id": "78c55621",
   "metadata": {},
   "source": [
    "In questo notebook ci poniamo l'obiettivo di impostare e effettuare un confronto tra due algoritmi di ordinamento. In particolare, i due algoritmi in questione saranno:\n",
    "\n",
    "- __Insertion Sort__\n",
    "\n",
    "- __Counting Sort__\n",
    "\n",
    "Il notebook sarà sviluppato in questo modo:\n",
    "\n",
    "1. Nelle celle successive saranno presenti le implementazioni dei due algoritmi seguiti rispettivamente da una breve spiegazione messa in relazione con le evidenze teoriche conosciute.\n",
    "\n",
    "2. Successivamente sarà presente una cella nella quale sarà implementata la funzione di test, seguita da un'opportuna spiegazione del codice e dei test che saranno eseguiti\n",
    "\n",
    "3. Saranno effettuati e descritti i dovuti test e i rispettivi risultati\n",
    "\n",
    "4. Nella chiusura tireremo le somme dei risultati ottenuti dagli esperimenti svolti"
   ]
  },
  {
   "cell_type": "markdown",
   "id": "594e3065",
   "metadata": {},
   "source": [
    "## Implementazioni degli algoritmi\n",
    "### Insertion Sort"
   ]
  },
  {
   "cell_type": "code",
   "execution_count": 26,
   "id": "0b68115e",
   "metadata": {},
   "outputs": [],
   "source": [
    "def insertion_sort(arr):\n",
    "    \"\"\"Insertion sort algorithm.\n",
    "\n",
    "    Args:\n",
    "        arr (list): Array to be sorted.\n",
    "\n",
    "    Returns:\n",
    "        list: Sorted array.\n",
    "\n",
    "    Time complexity: O(n^2)\n",
    "    \"\"\"\n",
    "    for i in range(1, len(arr)):\n",
    "        key = arr[i]\n",
    "        j = i - 1\n",
    "        while j >= 0 and key < arr[j]:\n",
    "            arr[j + 1] = arr[j]\n",
    "            j -= 1\n",
    "        arr[j + 1] = key\n",
    "    return arr"
   ]
  },
  {
   "cell_type": "markdown",
   "id": "cd3db634",
   "metadata": {},
   "source": [
    "Nella cella sovrastante possiamo vedere l'implementazione dell'algoritmo di ordinamento __Insertion Sort__. L'algoritmo si basa su un ciclo _for_ iniziale nel quale si inizializza la variabile _key_ con il valore all'indice _i_ dell'array da ordinare. All'interno del _for_ un ciclo _while_ ci permette di iterare sugli elementi precedenti a _key_ in modo tale da posizionare il valore di _key_ nella posizione corretta. Al termine di ogni esecuzione del ciclo _for_, i primi _i_ elementi saranno ordinati e quando termina l'algoritmo tutto l'array sarà ordinato correttamente."
   ]
  },
  {
   "cell_type": "markdown",
   "id": "7af2bd67",
   "metadata": {},
   "source": [
    "### Counting Sort"
   ]
  },
  {
   "cell_type": "code",
   "execution_count": 27,
   "id": "d1e62f77",
   "metadata": {},
   "outputs": [],
   "source": [
    "def counting_sort(arr):\n",
    "    \"\"\"Counting sort algorithm.\n",
    "\n",
    "    Args:\n",
    "        arr (list): Array to be sorted.\n",
    "\n",
    "    Returns:\n",
    "        list: Sorted array.\n",
    "\n",
    "    Time complexity: O(n+k)\n",
    "\n",
    "    k is the value of the maximum element in the array.\n",
    "    \"\"\"\n",
    "    if not arr:\n",
    "        return arr\n",
    "    max_element = max(arr) #k\n",
    "    count_array = [0] * (max_element + 1) #primo for\n",
    "\n",
    "    for element in arr:\n",
    "        count_array[element] += 1\n",
    "\n",
    "    for i in range(1, len(count_array)):\n",
    "        count_array[i] += count_array[i-1]\n",
    "\n",
    "    sorted_array = [0] * len(arr)\n",
    "    for element in reversed(arr):\n",
    "        sorted_array[count_array[element]-1] = element #-1 perché indicizzazione parte da 0\n",
    "        count_array[element] -= 1\n",
    "\n",
    "    return sorted_array\n"
   ]
  },
  {
   "cell_type": "markdown",
   "id": "23fb1f6b",
   "metadata": {},
   "source": [
    "Nella cella sovrastante troviamo l'algoritmo di ordinamento __Counting Sort__. Sottlineamo il fatto che questo algoritmi è utilizzabile solo per liste di numeri interi. Non è un algoritmo che opera per confronti, ma si basa sul determinare la posizione di ogni elemento nell'array ordinato in base a quanti sono gli elementi minori o uguali ad esso. In particolare, è necessario un array di appoggio di dimensione _max_element_, dove _max_element_ non è altro che il valore massimo presente nell'array di partenza. Successivamente, dopo aver inzializzato quest'array con tutti 0, incrementiamo di 1 l'elemento di indice _i_ per ogni elemento uguale a _i_ nell'array iniziale; poi scorriamo l'array di appoggio sommando ad ogni elemento tutti gli elementi ad esso precedenti. Quello che otteniamo dopo queste due operazioni non è altro che un array di appoggio in cui l'elemento di indice _x_ ha come valore il numero di elementi minori o uguali a _x_ nell'array iniziale. L'ultimo passaggio è quello di copiare su un nuovo array gli elementi ordinati, considerando che nell'array di appoggio l'elemento con indice _x_ risulta essere la posizione di _x_ nell'array ordinato. Decrementando poi progressivamente i valori dell'array di appoggio si riescono a gestire anche ventuali copie multiple di uno stesso valore."
   ]
  },
  {
   "cell_type": "markdown",
   "id": "71f0e1a4",
   "metadata": {},
   "source": [
    "## Implementazione e spiegazione dei test"
   ]
  },
  {
   "cell_type": "code",
   "execution_count": 28,
   "id": "d05763a2",
   "metadata": {},
   "outputs": [],
   "source": [
    "import pandas as pd\n",
    "import plotly.express as px\n",
    "from enum import Enum\n",
    "from dataclasses import dataclass, field\n",
    "from timeit import default_timer as timer\n",
    "import numpy as np\n",
    "\n",
    "\n",
    "class InputType(Enum):\n",
    "    \"\"\"Select the type of input.\"\"\"\n",
    "\n",
    "    random = 1\n",
    "    \"\"\"Random input.\"\"\"\n",
    "    sorted = 2\n",
    "    \"\"\"Sorted input.\"\"\"\n",
    "    reversed = 3\n",
    "    \"\"\"Reversed input.\"\"\"\n",
    "\n",
    "class SelectTestType(Enum):\n",
    "    \"\"\"Select the type of sorting test.\"\"\"\n",
    "\n",
    "    insertion_sort = 1\n",
    "    \"\"\"Insertion sort.\"\"\"\n",
    "    counting_sort = 2\n",
    "    \"\"\"Counting sort.\"\"\"\n",
    "\n",
    "@dataclass\n",
    "class InputConfig:\n",
    "    \"\"\"Input configuration.\"\"\"\n",
    "\n",
    "    num_samples: int = 1000\n",
    "    \"\"\"Number of samples.\"\"\"\n",
    "    sample_range: tuple[int, int] = (0, 5000)\n",
    "    \"\"\"Range of the samples.\"\"\"\n",
    "    input_type: InputType = InputType.random\n",
    "    \"\"\"Type of input.\"\"\"\n",
    "\n",
    "\n",
    "@dataclass\n",
    "class InputGenerator:\n",
    "    \"\"\"Input generator.\"\"\"\n",
    "\n",
    "    input_config: InputConfig = InputConfig()\n",
    "    \"\"\"Input configuration.\"\"\"\n",
    "\n",
    "    data: list[int] = field(init=False, default_factory=list)\n",
    "    \"\"\"Data to be used for the tests.\"\"\"\n",
    "\n",
    "    def __post_init__(self):\n",
    "        \"\"\"Initialize the data.\"\"\"\n",
    "        self.data = self._generate()\n",
    "\n",
    "    def _generate(self) -> list[int]:\n",
    "        \"\"\"Generate the data.\"\"\"\n",
    "        match self.input_config.input_type:\n",
    "            case InputType.random:\n",
    "                data = np.random.randint(\n",
    "                    self.input_config.sample_range[0],\n",
    "                    self.input_config.sample_range[1],\n",
    "                    self.input_config.num_samples,\n",
    "                )\n",
    "            case InputType.sorted:\n",
    "                data = np.sort(np.random.randint(\n",
    "                    self.input_config.sample_range[0],\n",
    "                    self.input_config.sample_range[1],\n",
    "                    self.input_config.num_samples,\n",
    "                ))\n",
    "            case InputType.reversed:\n",
    "                data = np.sort(np.random.randint(\n",
    "                    self.input_config.sample_range[0],\n",
    "                    self.input_config.sample_range[1],\n",
    "                    self.input_config.num_samples,\n",
    "                ))\n",
    "                data = data[::-1]\n",
    "            case _:\n",
    "                raise ValueError(\"Invalid input type.\")\n",
    "        return data.tolist()\n",
    "\n",
    "def insertion_test(input_data: list[int]) -> float:\n",
    "    \"\"\"Test the insertion sort algorithm.\"\"\"\n",
    "    start = timer()\n",
    "    insertion_sort(input_data)\n",
    "    end = timer()\n",
    "    return end - start\n",
    "\n",
    "def counting_test(input_data: list[int]) -> float:\n",
    "    \"\"\"Test the counting sort algorithm.\"\"\"\n",
    "    start = timer()\n",
    "    counting_sort(input_data)\n",
    "    end = timer()\n",
    "    return end - start\n",
    "\n",
    "def test(test_type: SelectTestType, input_type: InputType, num_samples: int, sample_range: tuple[int, int], step: int) -> pd.DataFrame:\n",
    "    \"\"\"Test the sorting algorithms.\n",
    "\n",
    "    Args:\n",
    "        test_type (SelectTestType): Type of sorting algorithm to test.\n",
    "        input_type (InputType): Type of input.\n",
    "        num_samples (int): Number of elements to sort.\n",
    "        sample_range (tuple[int, int]): Range of the elements.\n",
    "        step (int): Step to increase the number of elements.\n",
    "\n",
    "        Returns:\n",
    "            pd.DataFrame: Dataframe containing the results.\"\"\"\n",
    "\n",
    "    match test_type:\n",
    "        case SelectTestType.insertion_sort:\n",
    "            test_func = insertion_test\n",
    "        case SelectTestType.counting_sort:\n",
    "            test_func = counting_test\n",
    "        case _:\n",
    "            raise ValueError(\"Invalid queue type.\")\n",
    "    match input_type:\n",
    "        case InputType.random:\n",
    "            input_config = InputConfig(num_samples=num_samples, sample_range=sample_range, input_type=InputType.random)\n",
    "        case InputType.sorted:\n",
    "            input_config = InputConfig(num_samples=num_samples, sample_range=sample_range, input_type=InputType.sorted)\n",
    "        case InputType.reversed:\n",
    "            input_config = InputConfig(num_samples=num_samples, sample_range=sample_range, input_type=InputType.reversed)\n",
    "        case _:\n",
    "            raise ValueError(\"Invalid input type.\")\n",
    "\n",
    "    it = []\n",
    "    for i in np.arange(0, num_samples, step):\n",
    "        input_config.num_samples = i\n",
    "        input_gen = InputGenerator(input_config=input_config)\n",
    "        it.append(test_func(input_gen.data))\n",
    "\n",
    "    times_df = pd.DataFrame(data={\n",
    "        \"num_samples\": np.arange(0, num_samples, step),\n",
    "        \"time\": it,\n",
    "    })\n",
    "    times_df[\"test_type\"] = test_type.name\n",
    "    times_df[\"input_type\"] = input_type.name\n",
    "    return times_df\n",
    "\n",
    "\n"
   ]
  },
  {
   "cell_type": "markdown",
   "id": "6f25c88d",
   "metadata": {},
   "source": [
    "Nella cella sovrastante sono state definite le funzioni e le classi necessarie per eseguire i test. In particolare, sono state definite le seguenti classi:\n",
    "* _SelectTestType_: enum che contiene i tipi di test disponibili (insertion sort e counting sort)\n",
    "* _InputType_: enum che contiene i tipi di input disponibili\n",
    "* _InputConfig_: contiene i parametri necessari per generare l'input (numero di elementi, range degli elementi, tipo di input)\n",
    "* _InputGenerator_: genera l'input in base ai parametri specificati\n",
    "\n",
    "Inoltre, sono state definite le seguenti funzioni:\n",
    "* _insertion_test_: esegue il test dell'algoritmo di insertion sort\n",
    "* _counting_test_: esegue il test dell'algoritmo di counting sort\n",
    "* _test_: esegue il test di uno dei due algoritmi di ordinamento, in base al tipo di test e di input scelti dall'utente. In particolare, questa funzione:\n",
    "    * in base al tipo di test scelto, assegna alla variabile _test_func_ la funzione di test corrispondente\n",
    "    * in base al tipo di input scelto, crea un oggetto _InputConfig_ con i parametri corrispondenti\n",
    "    * i test vengono eseguiti su un numero di elementi che va da 0 a _num_samples_ con passo _step_\n",
    "    * crea un oggetto _InputGenerator_ con l'oggetto _InputConfig_ creato precedentemente\n",
    "    * esegue il test _test_func_ sull'input generato\n",
    "    * crea un dataframe contenente i risultati del test e lo restituisce\n",
    "\n",
    "    Il dataframe contiene le seguenti colonne:\n",
    "        * _num_samples_: numero di elementi ordinati\n",
    "        * _time_: tempo impiegato per ordinare i dati\n",
    "        * _test_type_: tipo di test eseguito (insertion sort o counting sort)\n",
    "        * _input_type_: tipo di input utilizzato (random, ordinato o inversamente ordinato)"
   ]
  },
  {
   "cell_type": "code",
   "execution_count": 29,
   "id": "5038b541",
   "metadata": {},
   "outputs": [],
   "source": [
    "def plot_results(num_samples: int, step: int, sample_range: tuple[int, int]):\n",
    "    \"\"\"Plot the results.\"\"\"\n",
    "\n",
    "    \"\"\"Insertion sort tests\"\"\"\n",
    "\n",
    "    df_ins_1 = test(SelectTestType.insertion_sort, InputType.random, num_samples, sample_range, step)\n",
    "    df_ins_2 = test(SelectTestType.insertion_sort, InputType.sorted, num_samples, sample_range, step)\n",
    "    df_ins_3 = test(SelectTestType.insertion_sort, InputType.reversed, num_samples, sample_range, step)\n",
    "\n",
    "    \"\"\"Counting sort tests\"\"\"\n",
    "\n",
    "    df_cnt_1 = test(SelectTestType.counting_sort, InputType.random, num_samples, sample_range, step)\n",
    "    df_cnt_2 = test(SelectTestType.counting_sort, InputType.sorted, num_samples, sample_range, step)\n",
    "    df_cnt_3 = test(SelectTestType.counting_sort, InputType.reversed, num_samples, sample_range, step)\n",
    "\n",
    "    df = pd.concat([df_ins_1, df_ins_2, df_ins_3, df_cnt_1, df_cnt_2, df_cnt_3], ignore_index=True)\n",
    "\n",
    "    return df\n",
    "\n"
   ]
  },
  {
   "cell_type": "markdown",
   "source": [
    "Nella cella sovrastante è stata definita la funzione _plot_results_ che esegue tutti i test prendendo in input il numero di elementi dell'array, il passo con il quale devono essere eseguiti i test e il range di generazione dei numeri; restituisce un dataframe Pandas contenente i risultati dei test.\n",
    "Nelle celle successive in cui viene eseguito codice, si mostrano i grafici voluti in base ai parametri scelti dall'utente.\n",
    "In particolare, tramite il framework _plotly_ è possibile creare grafici interattivi che consentono di visualizzare i risultati dei test in maniera più chiara e comprensibile."
   ],
   "metadata": {
    "collapsed": false
   }
  },
  {
   "cell_type": "code",
   "execution_count": 30,
   "outputs": [
    {
     "data": {
      "application/vnd.plotly.v1+json": {
       "data": [
        {
         "hovertemplate": "test_type=insertion_sort<br>input_type=random<br>Dimensione array=%{x}<br>Time (s)=%{y}<extra></extra>",
         "legendgroup": "insertion_sort",
         "line": {
          "color": "#636efa",
          "dash": "solid"
         },
         "marker": {
          "symbol": "circle"
         },
         "mode": "lines",
         "name": "insertion_sort",
         "orientation": "v",
         "showlegend": true,
         "x": [
          10,
          20,
          30,
          40,
          50,
          60,
          70,
          80,
          90,
          100,
          110,
          120,
          130,
          140,
          150,
          160,
          170,
          180,
          190,
          200,
          210,
          220,
          230,
          240,
          250,
          260,
          270,
          280,
          290,
          300,
          310,
          320,
          330,
          340,
          350,
          360,
          370,
          380,
          390,
          400,
          410,
          420,
          430,
          440,
          450,
          460,
          470,
          480,
          490,
          500,
          510,
          520,
          530,
          540,
          550,
          560,
          570,
          580,
          590,
          600,
          610,
          620,
          630,
          640,
          650,
          660,
          670,
          680,
          690,
          700,
          710,
          720,
          730,
          740,
          750,
          760,
          770,
          780,
          790,
          800,
          810,
          820,
          830,
          840,
          850,
          860,
          870,
          880,
          890,
          900,
          910,
          920,
          930,
          940,
          950,
          960,
          970,
          980,
          990
         ],
         "xaxis": "x",
         "y": [
          5.599984433501959E-6,
          1.2200005585327744E-5,
          2.5599991204217076E-5,
          4.069998976774514E-5,
          5.669999518431723E-5,
          1.0450000991113484E-4,
          1.246000174432993E-4,
          1.7669997760094702E-4,
          1.9880000036209822E-4,
          2.4870000197552145E-4,
          2.8249999741092324E-4,
          3.964999923482537E-4,
          3.929999948013574E-4,
          4.867999814450741E-4,
          5.34699996933341E-4,
          6.715999916195869E-4,
          7.108999998308718E-4,
          8.551000209990889E-4,
          8.744999940972775E-4,
          0.0010223999852314591,
          0.0010288000048603863,
          0.0011617999989539385,
          0.0013218999956734478,
          0.0013985999976284802,
          0.001412999990861863,
          0.0017035999917425215,
          0.0022258000099100173,
          0.0020570000051520765,
          0.002091900008963421,
          0.0023970000038389117,
          0.00250239999149926,
          0.0026299000019207597,
          0.0028891999972984195,
          0.00408330000936985,
          0.00320770000689663,
          0.003536300006089732,
          0.0034937000018544495,
          0.004035399993881583,
          0.004140799981541932,
          0.0043221999949309975,
          0.004716900002676994,
          0.004540499998256564,
          0.004803699994226918,
          0.005640299990773201,
          0.005384299991419539,
          0.005199100007303059,
          0.005780700012110174,
          0.006197800015797839,
          0.006565899995621294,
          0.008790499996393919,
          0.006814499996835366,
          0.007296600000699982,
          0.007619000010890886,
          0.007153799990192056,
          0.00837560000945814,
          0.008253900014096871,
          0.008733700000448152,
          0.009232100012013689,
          0.009421199996722862,
          0.011120700015453622,
          0.01019040000392124,
          0.011464999988675117,
          0.01325139999971725,
          0.01137130000279285,
          0.011871599999722093,
          0.012131600000429899,
          0.012683300010394305,
          0.013084600010188296,
          0.013228399999206886,
          0.017551500000990927,
          0.014447800000198185,
          0.017180399998323992,
          0.022325900004943833,
          0.03778090002015233,
          0.017919099977007136,
          0.02213980001397431,
          0.01597909998963587,
          0.016406699985964224,
          0.019135700014885515,
          0.018083399976603687,
          0.01769009997951798,
          0.018233999988297,
          0.019032999989576638,
          0.0186622999899555,
          0.019642599974758923,
          0.020211099996231496,
          0.02069380000466481,
          0.020602700009476393,
          0.021320599975297228,
          0.021412900008726865,
          0.022527399996761233,
          0.022168700001202524,
          0.023186400008853525,
          0.024210200004745275,
          0.023587800009408966,
          0.025299400003859773,
          0.025319600012153387,
          0.025884100003167987,
          0.028262800013180822
         ],
         "yaxis": "y",
         "type": "scatter"
        },
        {
         "hovertemplate": "test_type=insertion_sort<br>input_type=sorted<br>Dimensione array=%{x}<br>Time (s)=%{y}<extra></extra>",
         "legendgroup": "insertion_sort",
         "line": {
          "color": "#636efa",
          "dash": "solid"
         },
         "marker": {
          "symbol": "circle"
         },
         "mode": "lines",
         "name": "insertion_sort",
         "orientation": "v",
         "showlegend": false,
         "x": [
          10,
          20,
          30,
          40,
          50,
          60,
          70,
          80,
          90,
          100,
          110,
          120,
          130,
          140,
          150,
          160,
          170,
          180,
          190,
          200,
          210,
          220,
          230,
          240,
          250,
          260,
          270,
          280,
          290,
          300,
          310,
          320,
          330,
          340,
          350,
          360,
          370,
          380,
          390,
          400,
          410,
          420,
          430,
          440,
          450,
          460,
          470,
          480,
          490,
          500,
          510,
          520,
          530,
          540,
          550,
          560,
          570,
          580,
          590,
          600,
          610,
          620,
          630,
          640,
          650,
          660,
          670,
          680,
          690,
          700,
          710,
          720,
          730,
          740,
          750,
          760,
          770,
          780,
          790,
          800,
          810,
          820,
          830,
          840,
          850,
          860,
          870,
          880,
          890,
          900,
          910,
          920,
          930,
          940,
          950,
          960,
          970,
          980,
          990
         ],
         "xaxis": "x2",
         "y": [
          2.3999891709536314E-6,
          3.0999945010989904E-6,
          3.9000005926936865E-6,
          5.0000089686363935E-6,
          6.000016583129764E-6,
          7.099995855242014E-6,
          8.200004231184721E-6,
          9.300012607127428E-6,
          1.0499992640689015E-5,
          1.1299998732283711E-5,
          1.2599979527294636E-5,
          1.3599987141788006E-5,
          1.4699995517730713E-5,
          1.580000389367342E-5,
          1.6999983927235007E-5,
          1.8000020645558834E-5,
          1.8999999156221747E-5,
          2.0100007532164454E-5,
          2.120001590810716E-5,
          2.19999928958714E-5,
          2.3500004317611456E-5,
          2.4500011932104826E-5,
          2.5600020308047533E-5,
          2.6699999580159783E-5,
          2.7700007194653153E-5,
          2.9499991796910763E-5,
          3.060000017285347E-5,
          3.200001083314419E-5,
          3.320001997053623E-5,
          3.4500000765547156E-5,
          3.5699980799108744E-5,
          3.6999990697950125E-5,
          3.920000744983554E-5,
          3.960001049563289E-5,
          4.1799998143687844E-5,
          4.230000195093453E-5,
          4.360001184977591E-5,
          4.499999340623617E-5,
          4.630000330507755E-5,
          4.73999825771898E-5,
          4.8600020818412304E-5,
          4.990000161342323E-5,
          5.1300012273713946E-5,
          5.289999535307288E-5,
          5.390000296756625E-5,
          5.520001286640763E-5,
          5.6199991377070546E-5,
          5.7199998991563916E-5,
          5.9200014220550656E-5,
          6.04000233579427E-5,
          6.180000491440296E-5,
          6.309998570941389E-5,
          6.479999865405262E-5,
          6.579997716471553E-5,
          6.700001540593803E-5,
          6.839999696239829E-5,
          6.970000686123967E-5,
          7.03000114299357E-5,
          7.159999222494662E-5,
          7.380000897683203E-5,
          7.430001278407872E-5,
          7.559999357908964E-5,
          7.830001413822174E-5,
          7.899999036453664E-5,
          8.030000026337802E-5,
          8.16000101622194E-5,
          8.289999095723033E-5,
          8.420000085607171E-5,
          8.560001151636243E-5,
          8.679999154992402E-5,
          8.81000014487654E-5,
          8.960001287050545E-5,
          9.08000220078975E-5,
          9.139999747276306E-5,
          9.350001346319914E-5,
          9.460002183914185E-5,
          9.68000094871968E-5,
          9.699998190626502E-5,
          9.790001786313951E-5,
          1.275000104214996E-4,
          1.6070000128820539E-4,
          1.260999997612089E-4,
          1.0390000534243882E-4,
          1.3390000094659626E-4,
          1.0659999679774046E-4,
          1.0809997911565006E-4,
          1.0879998444579542E-4,
          1.100999943446368E-4,
          1.1210000957362354E-4,
          1.1419999646022916E-4,
          1.1379999341443181E-4,
          1.1520000407472253E-4,
          1.1650001397356391E-4,
          1.1829999857582152E-4,
          1.1850000009872019E-4,
          1.1969998013228178E-4,
          1.210999907925725E-4,
          1.2229999992996454E-4,
          1.2379998224787414E-4
         ],
         "yaxis": "y2",
         "type": "scatter"
        },
        {
         "hovertemplate": "test_type=insertion_sort<br>input_type=reversed<br>Dimensione array=%{x}<br>Time (s)=%{y}<extra></extra>",
         "legendgroup": "insertion_sort",
         "line": {
          "color": "#636efa",
          "dash": "solid"
         },
         "marker": {
          "symbol": "circle"
         },
         "mode": "lines",
         "name": "insertion_sort",
         "orientation": "v",
         "showlegend": false,
         "x": [
          10,
          20,
          30,
          40,
          50,
          60,
          70,
          80,
          90,
          100,
          110,
          120,
          130,
          140,
          150,
          160,
          170,
          180,
          190,
          200,
          210,
          220,
          230,
          240,
          250,
          260,
          270,
          280,
          290,
          300,
          310,
          320,
          330,
          340,
          350,
          360,
          370,
          380,
          390,
          400,
          410,
          420,
          430,
          440,
          450,
          460,
          470,
          480,
          490,
          500,
          510,
          520,
          530,
          540,
          550,
          560,
          570,
          580,
          590,
          600,
          610,
          620,
          630,
          640,
          650,
          660,
          670,
          680,
          690,
          700,
          710,
          720,
          730,
          740,
          750,
          760,
          770,
          780,
          790,
          800,
          810,
          820,
          830,
          840,
          850,
          860,
          870,
          880,
          890,
          900,
          910,
          920,
          930,
          940,
          950,
          960,
          970,
          980,
          990
         ],
         "xaxis": "x3",
         "y": [
          6.999995093792677E-6,
          2.1199986804276705E-5,
          4.610000178217888E-5,
          8.030000026337802E-5,
          1.2519999290816486E-4,
          1.7870002193376422E-4,
          2.42499983869493E-4,
          3.1599999056197703E-4,
          3.992999845650047E-4,
          5.879999953322113E-4,
          6.465000042226166E-4,
          7.573000038973987E-4,
          8.233000116888434E-4,
          0.0010368000075686723,
          0.0012295999913476408,
          0.001333899999735877,
          0.0015276999911293387,
          0.0017376999894622713,
          0.002056199999060482,
          0.002110100002028048,
          0.002377199998591095,
          0.0027439999976195395,
          0.002961399994092062,
          0.0032140999974217266,
          0.003336900001158938,
          0.003614199988078326,
          0.00426560000050813,
          0.004267899988917634,
          0.00456339999800548,
          0.0050159999809693545,
          0.006607299990719184,
          0.0062686000019311905,
          0.005877399991732091,
          0.00627170002553612,
          0.006948599999304861,
          0.006919999985257164,
          0.00746730001992546,
          0.00806890000239946,
          0.008340800006408244,
          0.008890800003428012,
          0.009636499977204949,
          0.008785199985140935,
          0.009204899979522452,
          0.010032699996372685,
          0.010160500009078532,
          0.010814900015247986,
          0.011259499995503575,
          0.011970899999141693,
          0.012158700003055856,
          0.012780700024450198,
          0.013437000015983358,
          0.013925399980507791,
          0.014296800014562905,
          0.014633000013418496,
          0.015115800022613257,
          0.015773699997225776,
          0.01675519999116659,
          0.0170372000138741,
          0.018488200003048405,
          0.018051300023216754,
          0.01913200001581572,
          0.019542800000635907,
          0.0213219000142999,
          0.021512200008146465,
          0.022226300003239885,
          0.02293550001922995,
          0.023601300024893135,
          0.024401400005444884,
          0.025353700009873137,
          0.025910999975167215,
          0.026987099990947172,
          0.027564300020458177,
          0.028378899995004758,
          0.029884399991715327,
          0.03090169999632053,
          0.03023639999446459,
          0.031944199989084154,
          0.033016700006555766,
          0.034320499980822206,
          0.034606800007168204,
          0.03588479998870753,
          0.03714930001297034,
          0.037863099976675585,
          0.03891709999879822,
          0.04196079997927882,
          0.041184800007613376,
          0.04062899999553338,
          0.04231129999971017,
          0.04094659999827854,
          0.04320829999051057,
          0.04373710000072606,
          0.04501989998971112,
          0.0463445000059437,
          0.04607840001699515,
          0.04712649999419227,
          0.049644799990346655,
          0.05097759998170659,
          0.05180389998713508,
          0.052802200021687895
         ],
         "yaxis": "y3",
         "type": "scatter"
        },
        {
         "hovertemplate": "test_type=counting_sort<br>input_type=random<br>Dimensione array=%{x}<br>Time (s)=%{y}<extra></extra>",
         "legendgroup": "counting_sort",
         "line": {
          "color": "#EF553B",
          "dash": "solid"
         },
         "marker": {
          "symbol": "circle"
         },
         "mode": "lines",
         "name": "counting_sort",
         "orientation": "v",
         "showlegend": true,
         "x": [
          10,
          20,
          30,
          40,
          50,
          60,
          70,
          80,
          90,
          100,
          110,
          120,
          130,
          140,
          150,
          160,
          170,
          180,
          190,
          200,
          210,
          220,
          230,
          240,
          250,
          260,
          270,
          280,
          290,
          300,
          310,
          320,
          330,
          340,
          350,
          360,
          370,
          380,
          390,
          400,
          410,
          420,
          430,
          440,
          450,
          460,
          470,
          480,
          490,
          500,
          510,
          520,
          530,
          540,
          550,
          560,
          570,
          580,
          590,
          600,
          610,
          620,
          630,
          640,
          650,
          660,
          670,
          680,
          690,
          700,
          710,
          720,
          730,
          740,
          750,
          760,
          770,
          780,
          790,
          800,
          810,
          820,
          830,
          840,
          850,
          860,
          870,
          880,
          890,
          900,
          910,
          920,
          930,
          940,
          950,
          960,
          970,
          980,
          990
         ],
         "xaxis": "x",
         "y": [
          0.008419399993726984,
          0.008456199982902035,
          0.008331899996846914,
          0.008562700008042157,
          0.0080168999847956,
          0.008405600005062297,
          0.00888959999429062,
          0.008682699990458786,
          0.008704100007889792,
          0.008694999996805564,
          0.008896300016203895,
          0.00864509999519214,
          0.008642700006021187,
          0.008761500008404255,
          0.008603900001617149,
          0.008751000015763566,
          0.008814500004518777,
          0.008790899999439716,
          0.008744799997657537,
          0.009049099986441433,
          0.008755000017117709,
          0.008764800004428253,
          0.008730700006708503,
          0.008750999986659735,
          0.010764999984530732,
          0.008896399987861514,
          0.00882740001543425,
          0.008915299986256287,
          0.008893300022464246,
          0.009030599991092458,
          0.008769399981247261,
          0.008971999981440604,
          0.009067300008609891,
          0.009111599996685982,
          0.008910899981856346,
          0.008911100012483075,
          0.00901109998812899,
          0.008928499999456108,
          0.008968600013758987,
          0.009336299990536645,
          0.009046999999554828,
          0.00926439999602735,
          0.008999399986350909,
          0.009538000012980774,
          0.009592699992936105,
          0.009253700001863763,
          0.009292200003983453,
          0.009262299980036914,
          0.009299600002123043,
          0.009129400015808642,
          0.009317599993664771,
          0.009341299999505281,
          0.009087800019187853,
          0.009290299989515916,
          0.00938159998622723,
          0.009240099985618144,
          0.009675899986177683,
          0.009252999996533617,
          0.009106400015298277,
          0.009260199993150309,
          0.009430000005522743,
          0.009211800002958626,
          0.00915339999482967,
          0.009221099986461923,
          0.009298399992985651,
          0.009294600022258237,
          0.009148399985861033,
          0.009345300000859424,
          0.009189500007778406,
          0.009678300004452467,
          0.009372400003485382,
          0.00923340002191253,
          0.009571499977027997,
          0.00953409998328425,
          0.009702100011054426,
          0.00966599999810569,
          0.009554999996908009,
          0.00966750000952743,
          0.009506500005954877,
          0.009464300004765391,
          0.009595200011972338,
          0.009388300008140504,
          0.009307900007115677,
          0.009528900001896545,
          0.009232499985955656,
          0.009645699989050627,
          0.009549999987939373,
          0.009704099997179583,
          0.009716900007333606,
          0.009601500001735985,
          0.009387300000526011,
          0.009523099986836314,
          0.009389799990458414,
          0.009624800004530698,
          0.009527999995043501,
          0.009757599997101352,
          0.009395700006280094,
          0.009655300003942102,
          0.009411300008650869
         ],
         "yaxis": "y",
         "type": "scatter"
        },
        {
         "hovertemplate": "test_type=counting_sort<br>input_type=sorted<br>Dimensione array=%{x}<br>Time (s)=%{y}<extra></extra>",
         "legendgroup": "counting_sort",
         "line": {
          "color": "#EF553B",
          "dash": "solid"
         },
         "marker": {
          "symbol": "circle"
         },
         "mode": "lines",
         "name": "counting_sort",
         "orientation": "v",
         "showlegend": false,
         "x": [
          10,
          20,
          30,
          40,
          50,
          60,
          70,
          80,
          90,
          100,
          110,
          120,
          130,
          140,
          150,
          160,
          170,
          180,
          190,
          200,
          210,
          220,
          230,
          240,
          250,
          260,
          270,
          280,
          290,
          300,
          310,
          320,
          330,
          340,
          350,
          360,
          370,
          380,
          390,
          400,
          410,
          420,
          430,
          440,
          450,
          460,
          470,
          480,
          490,
          500,
          510,
          520,
          530,
          540,
          550,
          560,
          570,
          580,
          590,
          600,
          610,
          620,
          630,
          640,
          650,
          660,
          670,
          680,
          690,
          700,
          710,
          720,
          730,
          740,
          750,
          760,
          770,
          780,
          790,
          800,
          810,
          820,
          830,
          840,
          850,
          860,
          870,
          880,
          890,
          900,
          910,
          920,
          930,
          940,
          950,
          960,
          970,
          980,
          990
         ],
         "xaxis": "x2",
         "y": [
          0.008410799986450002,
          0.008070099982433021,
          0.008790599997155368,
          0.008314100006828085,
          0.00862450001295656,
          0.00862880001659505,
          0.00835469999583438,
          0.00867340000695549,
          0.00855769999907352,
          0.00849690000177361,
          0.008337600011145696,
          0.008461199991870672,
          0.008615400001872331,
          0.008513500011758879,
          0.00853399999323301,
          0.008738100004848093,
          0.00853409999399446,
          0.00871640001423657,
          0.008536799985449761,
          0.008842600014759228,
          0.00856230000499636,
          0.008628699986729771,
          0.008665200002724305,
          0.00874580000527203,
          0.008446000021649525,
          0.008819199982099235,
          0.008666499983519316,
          0.00902289999066852,
          0.008794499997748062,
          0.008760500000789762,
          0.008839999994961545,
          0.008772800007136539,
          0.009065499994903803,
          0.009007299988297746,
          0.008980499987956136,
          0.009045600017998368,
          0.00908229997730814,
          0.009033200010890141,
          0.008895900013158098,
          0.009002400009194389,
          0.008910900010960177,
          0.00919770001200959,
          0.009102100011659786,
          0.00901849998626858,
          0.009286100015742704,
          0.00903929999913089,
          0.009075000009033829,
          0.009293699986301363,
          0.009103799995500594,
          0.009348399995360523,
          0.009231500007444993,
          0.009373200009576976,
          0.009043199999723583,
          0.009365499980049208,
          0.009683299984317273,
          0.009476000006543472,
          0.00947800002177246,
          0.009367099992232397,
          0.00921399999060668,
          0.00934600000618957,
          0.009185300004901364,
          0.009452300000702962,
          0.009427999990293756,
          0.00927769998088479,
          0.009387800004333258,
          0.009486499999184161,
          0.009488299983786419,
          0.009528900001896545,
          0.009360299998661503,
          0.009332999994512647,
          0.009624900005292147,
          0.0096614999929443,
          0.009429700003238395,
          0.009285900014219806,
          0.009321000019554049,
          0.00915200001327321,
          0.009345600003143772,
          0.009454699989873916,
          0.009198000014293939,
          0.010993000003509223,
          0.0093324999907054,
          0.009507599985226989,
          0.009367999999085441,
          0.009342699981061742,
          0.009471600002143532,
          0.009325700026238337,
          0.009775400016224012,
          0.009460600005695596,
          0.009400299983099103,
          0.009676799993030727,
          0.00932660000398755,
          0.009517099999357015,
          0.009358000010251999,
          0.009380699979374185,
          0.009610200009774417,
          0.009318799973698333,
          0.009404099982930347,
          0.009380700008478016,
          0.010270700004184619
         ],
         "yaxis": "y2",
         "type": "scatter"
        },
        {
         "hovertemplate": "test_type=counting_sort<br>input_type=reversed<br>Dimensione array=%{x}<br>Time (s)=%{y}<extra></extra>",
         "legendgroup": "counting_sort",
         "line": {
          "color": "#EF553B",
          "dash": "solid"
         },
         "marker": {
          "symbol": "circle"
         },
         "mode": "lines",
         "name": "counting_sort",
         "orientation": "v",
         "showlegend": false,
         "x": [
          10,
          20,
          30,
          40,
          50,
          60,
          70,
          80,
          90,
          100,
          110,
          120,
          130,
          140,
          150,
          160,
          170,
          180,
          190,
          200,
          210,
          220,
          230,
          240,
          250,
          260,
          270,
          280,
          290,
          300,
          310,
          320,
          330,
          340,
          350,
          360,
          370,
          380,
          390,
          400,
          410,
          420,
          430,
          440,
          450,
          460,
          470,
          480,
          490,
          500,
          510,
          520,
          530,
          540,
          550,
          560,
          570,
          580,
          590,
          600,
          610,
          620,
          630,
          640,
          650,
          660,
          670,
          680,
          690,
          700,
          710,
          720,
          730,
          740,
          750,
          760,
          770,
          780,
          790,
          800,
          810,
          820,
          830,
          840,
          850,
          860,
          870,
          880,
          890,
          900,
          910,
          920,
          930,
          940,
          950,
          960,
          970,
          980,
          990
         ],
         "xaxis": "x3",
         "y": [
          0.008640199986984953,
          0.008680500002810732,
          0.007499999977881089,
          0.008623700006864965,
          0.00869109999621287,
          0.008635899983346462,
          0.009749499993631616,
          0.008954599994467571,
          0.008823899988783523,
          0.00875619999715127,
          0.008552899991627783,
          0.008726100000785664,
          0.008821800001896918,
          0.008911599987186491,
          0.008745599974645302,
          0.00861109999823384,
          0.008816399989882484,
          0.008828000020002946,
          0.008756499999435619,
          0.008734999981243163,
          0.008761300006881356,
          0.00876219998463057,
          0.009157299995422363,
          0.008994300005724654,
          0.008830800012219697,
          0.008815400011371821,
          0.008825999975670129,
          0.009173900005407631,
          0.008965600020019338,
          0.008908699994208291,
          0.008928999974159524,
          0.008934899989981204,
          0.008843000017805025,
          0.008986100001493469,
          0.009143299976130947,
          0.009165399998892099,
          0.009108199999900535,
          0.009145399992121384,
          0.009091899992199615,
          0.009143600007519126,
          0.009216000005835667,
          0.009357899980386719,
          0.009199099993566051,
          0.009945400001015514,
          0.00904969999101013,
          0.009057799994479865,
          0.009156699990853667,
          0.009040100005222484,
          0.009289000008720905,
          0.009054299996932968,
          0.009143499977653846,
          0.009143700008280575,
          0.009059699979843572,
          0.00917850001133047,
          0.009031299996422604,
          0.009217899991199374,
          0.009227799979271367,
          0.00928359999670647,
          0.009254199976567179,
          0.009145699994405732,
          0.009306899999501184,
          0.009121700015384704,
          0.00932219999958761,
          0.009555600001476705,
          0.00924519999534823,
          0.009273100004065782,
          0.00940529999206774,
          0.009383299999171868,
          0.009435700019821525,
          0.00921710001421161,
          0.009243300009984523,
          0.00946590001694858,
          0.009518800012301654,
          0.009376700007123873,
          0.009313800022937357,
          0.009880600002361462,
          0.009570900001563132,
          0.00952069999766536,
          0.009551399998599663,
          0.009521900006802753,
          0.009685799974249676,
          0.009571600006893277,
          0.009513199998764321,
          0.00972669999464415,
          0.009478399995714426,
          0.009481500019319355,
          0.00952969997888431,
          0.009575000003678724,
          0.009681700001237914,
          0.010472800000570714,
          0.009717500011902303,
          0.009654299996327609,
          0.009636099974159151,
          0.009509700001217425,
          0.009647900005802512,
          0.009604399994714186,
          0.011687499994877726,
          0.009622400015359744,
          0.009619600023142993
         ],
         "yaxis": "y3",
         "type": "scatter"
        }
       ],
       "layout": {
        "template": {
         "data": {
          "histogram2dcontour": [
           {
            "type": "histogram2dcontour",
            "colorbar": {
             "outlinewidth": 0,
             "ticks": ""
            },
            "colorscale": [
             [
              0.0,
              "#0d0887"
             ],
             [
              0.1111111111111111,
              "#46039f"
             ],
             [
              0.2222222222222222,
              "#7201a8"
             ],
             [
              0.3333333333333333,
              "#9c179e"
             ],
             [
              0.4444444444444444,
              "#bd3786"
             ],
             [
              0.5555555555555556,
              "#d8576b"
             ],
             [
              0.6666666666666666,
              "#ed7953"
             ],
             [
              0.7777777777777778,
              "#fb9f3a"
             ],
             [
              0.8888888888888888,
              "#fdca26"
             ],
             [
              1.0,
              "#f0f921"
             ]
            ]
           }
          ],
          "choropleth": [
           {
            "type": "choropleth",
            "colorbar": {
             "outlinewidth": 0,
             "ticks": ""
            }
           }
          ],
          "histogram2d": [
           {
            "type": "histogram2d",
            "colorbar": {
             "outlinewidth": 0,
             "ticks": ""
            },
            "colorscale": [
             [
              0.0,
              "#0d0887"
             ],
             [
              0.1111111111111111,
              "#46039f"
             ],
             [
              0.2222222222222222,
              "#7201a8"
             ],
             [
              0.3333333333333333,
              "#9c179e"
             ],
             [
              0.4444444444444444,
              "#bd3786"
             ],
             [
              0.5555555555555556,
              "#d8576b"
             ],
             [
              0.6666666666666666,
              "#ed7953"
             ],
             [
              0.7777777777777778,
              "#fb9f3a"
             ],
             [
              0.8888888888888888,
              "#fdca26"
             ],
             [
              1.0,
              "#f0f921"
             ]
            ]
           }
          ],
          "heatmap": [
           {
            "type": "heatmap",
            "colorbar": {
             "outlinewidth": 0,
             "ticks": ""
            },
            "colorscale": [
             [
              0.0,
              "#0d0887"
             ],
             [
              0.1111111111111111,
              "#46039f"
             ],
             [
              0.2222222222222222,
              "#7201a8"
             ],
             [
              0.3333333333333333,
              "#9c179e"
             ],
             [
              0.4444444444444444,
              "#bd3786"
             ],
             [
              0.5555555555555556,
              "#d8576b"
             ],
             [
              0.6666666666666666,
              "#ed7953"
             ],
             [
              0.7777777777777778,
              "#fb9f3a"
             ],
             [
              0.8888888888888888,
              "#fdca26"
             ],
             [
              1.0,
              "#f0f921"
             ]
            ]
           }
          ],
          "heatmapgl": [
           {
            "type": "heatmapgl",
            "colorbar": {
             "outlinewidth": 0,
             "ticks": ""
            },
            "colorscale": [
             [
              0.0,
              "#0d0887"
             ],
             [
              0.1111111111111111,
              "#46039f"
             ],
             [
              0.2222222222222222,
              "#7201a8"
             ],
             [
              0.3333333333333333,
              "#9c179e"
             ],
             [
              0.4444444444444444,
              "#bd3786"
             ],
             [
              0.5555555555555556,
              "#d8576b"
             ],
             [
              0.6666666666666666,
              "#ed7953"
             ],
             [
              0.7777777777777778,
              "#fb9f3a"
             ],
             [
              0.8888888888888888,
              "#fdca26"
             ],
             [
              1.0,
              "#f0f921"
             ]
            ]
           }
          ],
          "contourcarpet": [
           {
            "type": "contourcarpet",
            "colorbar": {
             "outlinewidth": 0,
             "ticks": ""
            }
           }
          ],
          "contour": [
           {
            "type": "contour",
            "colorbar": {
             "outlinewidth": 0,
             "ticks": ""
            },
            "colorscale": [
             [
              0.0,
              "#0d0887"
             ],
             [
              0.1111111111111111,
              "#46039f"
             ],
             [
              0.2222222222222222,
              "#7201a8"
             ],
             [
              0.3333333333333333,
              "#9c179e"
             ],
             [
              0.4444444444444444,
              "#bd3786"
             ],
             [
              0.5555555555555556,
              "#d8576b"
             ],
             [
              0.6666666666666666,
              "#ed7953"
             ],
             [
              0.7777777777777778,
              "#fb9f3a"
             ],
             [
              0.8888888888888888,
              "#fdca26"
             ],
             [
              1.0,
              "#f0f921"
             ]
            ]
           }
          ],
          "surface": [
           {
            "type": "surface",
            "colorbar": {
             "outlinewidth": 0,
             "ticks": ""
            },
            "colorscale": [
             [
              0.0,
              "#0d0887"
             ],
             [
              0.1111111111111111,
              "#46039f"
             ],
             [
              0.2222222222222222,
              "#7201a8"
             ],
             [
              0.3333333333333333,
              "#9c179e"
             ],
             [
              0.4444444444444444,
              "#bd3786"
             ],
             [
              0.5555555555555556,
              "#d8576b"
             ],
             [
              0.6666666666666666,
              "#ed7953"
             ],
             [
              0.7777777777777778,
              "#fb9f3a"
             ],
             [
              0.8888888888888888,
              "#fdca26"
             ],
             [
              1.0,
              "#f0f921"
             ]
            ]
           }
          ],
          "mesh3d": [
           {
            "type": "mesh3d",
            "colorbar": {
             "outlinewidth": 0,
             "ticks": ""
            }
           }
          ],
          "scatter": [
           {
            "marker": {
             "line": {
              "color": "#283442"
             }
            },
            "type": "scatter"
           }
          ],
          "parcoords": [
           {
            "type": "parcoords",
            "line": {
             "colorbar": {
              "outlinewidth": 0,
              "ticks": ""
             }
            }
           }
          ],
          "scatterpolargl": [
           {
            "type": "scatterpolargl",
            "marker": {
             "colorbar": {
              "outlinewidth": 0,
              "ticks": ""
             }
            }
           }
          ],
          "bar": [
           {
            "error_x": {
             "color": "#f2f5fa"
            },
            "error_y": {
             "color": "#f2f5fa"
            },
            "marker": {
             "line": {
              "color": "rgb(17,17,17)",
              "width": 0.5
             },
             "pattern": {
              "fillmode": "overlay",
              "size": 10,
              "solidity": 0.2
             }
            },
            "type": "bar"
           }
          ],
          "scattergeo": [
           {
            "type": "scattergeo",
            "marker": {
             "colorbar": {
              "outlinewidth": 0,
              "ticks": ""
             }
            }
           }
          ],
          "scatterpolar": [
           {
            "type": "scatterpolar",
            "marker": {
             "colorbar": {
              "outlinewidth": 0,
              "ticks": ""
             }
            }
           }
          ],
          "histogram": [
           {
            "marker": {
             "pattern": {
              "fillmode": "overlay",
              "size": 10,
              "solidity": 0.2
             }
            },
            "type": "histogram"
           }
          ],
          "scattergl": [
           {
            "marker": {
             "line": {
              "color": "#283442"
             }
            },
            "type": "scattergl"
           }
          ],
          "scatter3d": [
           {
            "type": "scatter3d",
            "line": {
             "colorbar": {
              "outlinewidth": 0,
              "ticks": ""
             }
            },
            "marker": {
             "colorbar": {
              "outlinewidth": 0,
              "ticks": ""
             }
            }
           }
          ],
          "scattermapbox": [
           {
            "type": "scattermapbox",
            "marker": {
             "colorbar": {
              "outlinewidth": 0,
              "ticks": ""
             }
            }
           }
          ],
          "scatterternary": [
           {
            "type": "scatterternary",
            "marker": {
             "colorbar": {
              "outlinewidth": 0,
              "ticks": ""
             }
            }
           }
          ],
          "scattercarpet": [
           {
            "type": "scattercarpet",
            "marker": {
             "colorbar": {
              "outlinewidth": 0,
              "ticks": ""
             }
            }
           }
          ],
          "carpet": [
           {
            "aaxis": {
             "endlinecolor": "#A2B1C6",
             "gridcolor": "#506784",
             "linecolor": "#506784",
             "minorgridcolor": "#506784",
             "startlinecolor": "#A2B1C6"
            },
            "baxis": {
             "endlinecolor": "#A2B1C6",
             "gridcolor": "#506784",
             "linecolor": "#506784",
             "minorgridcolor": "#506784",
             "startlinecolor": "#A2B1C6"
            },
            "type": "carpet"
           }
          ],
          "table": [
           {
            "cells": {
             "fill": {
              "color": "#506784"
             },
             "line": {
              "color": "rgb(17,17,17)"
             }
            },
            "header": {
             "fill": {
              "color": "#2a3f5f"
             },
             "line": {
              "color": "rgb(17,17,17)"
             }
            },
            "type": "table"
           }
          ],
          "barpolar": [
           {
            "marker": {
             "line": {
              "color": "rgb(17,17,17)",
              "width": 0.5
             },
             "pattern": {
              "fillmode": "overlay",
              "size": 10,
              "solidity": 0.2
             }
            },
            "type": "barpolar"
           }
          ],
          "pie": [
           {
            "automargin": true,
            "type": "pie"
           }
          ]
         },
         "layout": {
          "autotypenumbers": "strict",
          "colorway": [
           "#636efa",
           "#EF553B",
           "#00cc96",
           "#ab63fa",
           "#FFA15A",
           "#19d3f3",
           "#FF6692",
           "#B6E880",
           "#FF97FF",
           "#FECB52"
          ],
          "font": {
           "color": "#f2f5fa"
          },
          "hovermode": "closest",
          "hoverlabel": {
           "align": "left"
          },
          "paper_bgcolor": "rgb(17,17,17)",
          "plot_bgcolor": "rgb(17,17,17)",
          "polar": {
           "bgcolor": "rgb(17,17,17)",
           "angularaxis": {
            "gridcolor": "#506784",
            "linecolor": "#506784",
            "ticks": ""
           },
           "radialaxis": {
            "gridcolor": "#506784",
            "linecolor": "#506784",
            "ticks": ""
           }
          },
          "ternary": {
           "bgcolor": "rgb(17,17,17)",
           "aaxis": {
            "gridcolor": "#506784",
            "linecolor": "#506784",
            "ticks": ""
           },
           "baxis": {
            "gridcolor": "#506784",
            "linecolor": "#506784",
            "ticks": ""
           },
           "caxis": {
            "gridcolor": "#506784",
            "linecolor": "#506784",
            "ticks": ""
           }
          },
          "coloraxis": {
           "colorbar": {
            "outlinewidth": 0,
            "ticks": ""
           }
          },
          "colorscale": {
           "sequential": [
            [
             0.0,
             "#0d0887"
            ],
            [
             0.1111111111111111,
             "#46039f"
            ],
            [
             0.2222222222222222,
             "#7201a8"
            ],
            [
             0.3333333333333333,
             "#9c179e"
            ],
            [
             0.4444444444444444,
             "#bd3786"
            ],
            [
             0.5555555555555556,
             "#d8576b"
            ],
            [
             0.6666666666666666,
             "#ed7953"
            ],
            [
             0.7777777777777778,
             "#fb9f3a"
            ],
            [
             0.8888888888888888,
             "#fdca26"
            ],
            [
             1.0,
             "#f0f921"
            ]
           ],
           "sequentialminus": [
            [
             0.0,
             "#0d0887"
            ],
            [
             0.1111111111111111,
             "#46039f"
            ],
            [
             0.2222222222222222,
             "#7201a8"
            ],
            [
             0.3333333333333333,
             "#9c179e"
            ],
            [
             0.4444444444444444,
             "#bd3786"
            ],
            [
             0.5555555555555556,
             "#d8576b"
            ],
            [
             0.6666666666666666,
             "#ed7953"
            ],
            [
             0.7777777777777778,
             "#fb9f3a"
            ],
            [
             0.8888888888888888,
             "#fdca26"
            ],
            [
             1.0,
             "#f0f921"
            ]
           ],
           "diverging": [
            [
             0,
             "#8e0152"
            ],
            [
             0.1,
             "#c51b7d"
            ],
            [
             0.2,
             "#de77ae"
            ],
            [
             0.3,
             "#f1b6da"
            ],
            [
             0.4,
             "#fde0ef"
            ],
            [
             0.5,
             "#f7f7f7"
            ],
            [
             0.6,
             "#e6f5d0"
            ],
            [
             0.7,
             "#b8e186"
            ],
            [
             0.8,
             "#7fbc41"
            ],
            [
             0.9,
             "#4d9221"
            ],
            [
             1,
             "#276419"
            ]
           ]
          },
          "xaxis": {
           "gridcolor": "#283442",
           "linecolor": "#506784",
           "ticks": "",
           "title": {
            "standoff": 15
           },
           "zerolinecolor": "#283442",
           "automargin": true,
           "zerolinewidth": 2
          },
          "yaxis": {
           "gridcolor": "#283442",
           "linecolor": "#506784",
           "ticks": "",
           "title": {
            "standoff": 15
           },
           "zerolinecolor": "#283442",
           "automargin": true,
           "zerolinewidth": 2
          },
          "scene": {
           "xaxis": {
            "backgroundcolor": "rgb(17,17,17)",
            "gridcolor": "#506784",
            "linecolor": "#506784",
            "showbackground": true,
            "ticks": "",
            "zerolinecolor": "#C8D4E3",
            "gridwidth": 2
           },
           "yaxis": {
            "backgroundcolor": "rgb(17,17,17)",
            "gridcolor": "#506784",
            "linecolor": "#506784",
            "showbackground": true,
            "ticks": "",
            "zerolinecolor": "#C8D4E3",
            "gridwidth": 2
           },
           "zaxis": {
            "backgroundcolor": "rgb(17,17,17)",
            "gridcolor": "#506784",
            "linecolor": "#506784",
            "showbackground": true,
            "ticks": "",
            "zerolinecolor": "#C8D4E3",
            "gridwidth": 2
           }
          },
          "shapedefaults": {
           "line": {
            "color": "#f2f5fa"
           }
          },
          "annotationdefaults": {
           "arrowcolor": "#f2f5fa",
           "arrowhead": 0,
           "arrowwidth": 1
          },
          "geo": {
           "bgcolor": "rgb(17,17,17)",
           "landcolor": "rgb(17,17,17)",
           "subunitcolor": "#506784",
           "showland": true,
           "showlakes": true,
           "lakecolor": "rgb(17,17,17)"
          },
          "title": {
           "x": 0.05
          },
          "updatemenudefaults": {
           "bgcolor": "#506784",
           "borderwidth": 0
          },
          "sliderdefaults": {
           "bgcolor": "#C8D4E3",
           "borderwidth": 1,
           "bordercolor": "rgb(17,17,17)",
           "tickwidth": 0
          },
          "mapbox": {
           "style": "dark"
          }
         }
        },
        "xaxis": {
         "anchor": "y",
         "domain": [
          0.0,
          0.31999999999999995
         ],
         "title": {
          "text": "Dimensione array"
         }
        },
        "yaxis": {
         "anchor": "x",
         "domain": [
          0.0,
          1.0
         ],
         "title": {
          "text": "Time (s)"
         }
        },
        "xaxis2": {
         "anchor": "y2",
         "domain": [
          0.33999999999999997,
          0.6599999999999999
         ],
         "matches": "x",
         "title": {
          "text": "Dimensione array"
         }
        },
        "yaxis2": {
         "anchor": "x2",
         "domain": [
          0.0,
          1.0
         ],
         "matches": "y",
         "showticklabels": false
        },
        "xaxis3": {
         "anchor": "y3",
         "domain": [
          0.6799999999999999,
          0.9999999999999999
         ],
         "matches": "x",
         "title": {
          "text": "Dimensione array"
         }
        },
        "yaxis3": {
         "anchor": "x3",
         "domain": [
          0.0,
          1.0
         ],
         "matches": "y",
         "showticklabels": false
        },
        "annotations": [
         {
          "font": {},
          "showarrow": false,
          "text": "input_type=random",
          "x": 0.15999999999999998,
          "xanchor": "center",
          "xref": "paper",
          "y": 1.0,
          "yanchor": "bottom",
          "yref": "paper"
         },
         {
          "font": {},
          "showarrow": false,
          "text": "input_type=sorted",
          "x": 0.49999999999999994,
          "xanchor": "center",
          "xref": "paper",
          "y": 1.0,
          "yanchor": "bottom",
          "yref": "paper"
         },
         {
          "font": {},
          "showarrow": false,
          "text": "input_type=reversed",
          "x": 0.8399999999999999,
          "xanchor": "center",
          "xref": "paper",
          "y": 1.0,
          "yanchor": "bottom",
          "yref": "paper"
         }
        ],
        "legend": {
         "title": {
          "text": "test_type"
         },
         "tracegroupgap": 0
        },
        "title": {
         "text": "Sorting algorithms"
        }
       },
       "config": {
        "plotlyServerURL": "https://plot.ly"
       }
      },
      "text/html": "<div>                            <div id=\"6559d67b-73c5-4a39-8195-49bfa3feed56\" class=\"plotly-graph-div\" style=\"height:525px; width:100%;\"></div>            <script type=\"text/javascript\">                require([\"plotly\"], function(Plotly) {                    window.PLOTLYENV=window.PLOTLYENV || {};                                    if (document.getElementById(\"6559d67b-73c5-4a39-8195-49bfa3feed56\")) {                    Plotly.newPlot(                        \"6559d67b-73c5-4a39-8195-49bfa3feed56\",                        [{\"hovertemplate\":\"test_type=insertion_sort<br>input_type=random<br>Dimensione array=%{x}<br>Time (s)=%{y}<extra></extra>\",\"legendgroup\":\"insertion_sort\",\"line\":{\"color\":\"#636efa\",\"dash\":\"solid\"},\"marker\":{\"symbol\":\"circle\"},\"mode\":\"lines\",\"name\":\"insertion_sort\",\"orientation\":\"v\",\"showlegend\":true,\"x\":[10,20,30,40,50,60,70,80,90,100,110,120,130,140,150,160,170,180,190,200,210,220,230,240,250,260,270,280,290,300,310,320,330,340,350,360,370,380,390,400,410,420,430,440,450,460,470,480,490,500,510,520,530,540,550,560,570,580,590,600,610,620,630,640,650,660,670,680,690,700,710,720,730,740,750,760,770,780,790,800,810,820,830,840,850,860,870,880,890,900,910,920,930,940,950,960,970,980,990],\"xaxis\":\"x\",\"y\":[5.599984433501959e-06,1.2200005585327744e-05,2.5599991204217076e-05,4.069998976774514e-05,5.669999518431723e-05,0.00010450000991113484,0.0001246000174432993,0.00017669997760094702,0.00019880000036209822,0.00024870000197552145,0.00028249999741092324,0.0003964999923482537,0.0003929999948013574,0.0004867999814450741,0.000534699996933341,0.0006715999916195869,0.0007108999998308718,0.0008551000209990889,0.0008744999940972775,0.0010223999852314591,0.0010288000048603863,0.0011617999989539385,0.0013218999956734478,0.0013985999976284802,0.001412999990861863,0.0017035999917425215,0.0022258000099100173,0.0020570000051520765,0.002091900008963421,0.0023970000038389117,0.00250239999149926,0.0026299000019207597,0.0028891999972984195,0.00408330000936985,0.00320770000689663,0.003536300006089732,0.0034937000018544495,0.004035399993881583,0.004140799981541932,0.0043221999949309975,0.004716900002676994,0.004540499998256564,0.004803699994226918,0.005640299990773201,0.005384299991419539,0.005199100007303059,0.005780700012110174,0.006197800015797839,0.006565899995621294,0.008790499996393919,0.006814499996835366,0.007296600000699982,0.007619000010890886,0.007153799990192056,0.00837560000945814,0.008253900014096871,0.008733700000448152,0.009232100012013689,0.009421199996722862,0.011120700015453622,0.01019040000392124,0.011464999988675117,0.01325139999971725,0.01137130000279285,0.011871599999722093,0.012131600000429899,0.012683300010394305,0.013084600010188296,0.013228399999206886,0.017551500000990927,0.014447800000198185,0.017180399998323992,0.022325900004943833,0.03778090002015233,0.017919099977007136,0.02213980001397431,0.01597909998963587,0.016406699985964224,0.019135700014885515,0.018083399976603687,0.01769009997951798,0.018233999988297,0.019032999989576638,0.0186622999899555,0.019642599974758923,0.020211099996231496,0.02069380000466481,0.020602700009476393,0.021320599975297228,0.021412900008726865,0.022527399996761233,0.022168700001202524,0.023186400008853525,0.024210200004745275,0.023587800009408966,0.025299400003859773,0.025319600012153387,0.025884100003167987,0.028262800013180822],\"yaxis\":\"y\",\"type\":\"scatter\"},{\"hovertemplate\":\"test_type=insertion_sort<br>input_type=sorted<br>Dimensione array=%{x}<br>Time (s)=%{y}<extra></extra>\",\"legendgroup\":\"insertion_sort\",\"line\":{\"color\":\"#636efa\",\"dash\":\"solid\"},\"marker\":{\"symbol\":\"circle\"},\"mode\":\"lines\",\"name\":\"insertion_sort\",\"orientation\":\"v\",\"showlegend\":false,\"x\":[10,20,30,40,50,60,70,80,90,100,110,120,130,140,150,160,170,180,190,200,210,220,230,240,250,260,270,280,290,300,310,320,330,340,350,360,370,380,390,400,410,420,430,440,450,460,470,480,490,500,510,520,530,540,550,560,570,580,590,600,610,620,630,640,650,660,670,680,690,700,710,720,730,740,750,760,770,780,790,800,810,820,830,840,850,860,870,880,890,900,910,920,930,940,950,960,970,980,990],\"xaxis\":\"x2\",\"y\":[2.3999891709536314e-06,3.0999945010989904e-06,3.9000005926936865e-06,5.0000089686363935e-06,6.000016583129764e-06,7.099995855242014e-06,8.200004231184721e-06,9.300012607127428e-06,1.0499992640689015e-05,1.1299998732283711e-05,1.2599979527294636e-05,1.3599987141788006e-05,1.4699995517730713e-05,1.580000389367342e-05,1.6999983927235007e-05,1.8000020645558834e-05,1.8999999156221747e-05,2.0100007532164454e-05,2.120001590810716e-05,2.19999928958714e-05,2.3500004317611456e-05,2.4500011932104826e-05,2.5600020308047533e-05,2.6699999580159783e-05,2.7700007194653153e-05,2.9499991796910763e-05,3.060000017285347e-05,3.200001083314419e-05,3.320001997053623e-05,3.4500000765547156e-05,3.5699980799108744e-05,3.6999990697950125e-05,3.920000744983554e-05,3.960001049563289e-05,4.1799998143687844e-05,4.230000195093453e-05,4.360001184977591e-05,4.499999340623617e-05,4.630000330507755e-05,4.73999825771898e-05,4.8600020818412304e-05,4.990000161342323e-05,5.1300012273713946e-05,5.289999535307288e-05,5.390000296756625e-05,5.520001286640763e-05,5.6199991377070546e-05,5.7199998991563916e-05,5.9200014220550656e-05,6.04000233579427e-05,6.180000491440296e-05,6.309998570941389e-05,6.479999865405262e-05,6.579997716471553e-05,6.700001540593803e-05,6.839999696239829e-05,6.970000686123967e-05,7.03000114299357e-05,7.159999222494662e-05,7.380000897683203e-05,7.430001278407872e-05,7.559999357908964e-05,7.830001413822174e-05,7.899999036453664e-05,8.030000026337802e-05,8.16000101622194e-05,8.289999095723033e-05,8.420000085607171e-05,8.560001151636243e-05,8.679999154992402e-05,8.81000014487654e-05,8.960001287050545e-05,9.08000220078975e-05,9.139999747276306e-05,9.350001346319914e-05,9.460002183914185e-05,9.68000094871968e-05,9.699998190626502e-05,9.790001786313951e-05,0.0001275000104214996,0.00016070000128820539,0.0001260999997612089,0.00010390000534243882,0.00013390000094659626,0.00010659999679774046,0.00010809997911565006,0.00010879998444579542,0.0001100999943446368,0.00011210000957362354,0.00011419999646022916,0.00011379999341443181,0.00011520000407472253,0.00011650001397356391,0.00011829999857582152,0.00011850000009872019,0.00011969998013228178,0.0001210999907925725,0.00012229999992996454,0.00012379998224787414],\"yaxis\":\"y2\",\"type\":\"scatter\"},{\"hovertemplate\":\"test_type=insertion_sort<br>input_type=reversed<br>Dimensione array=%{x}<br>Time (s)=%{y}<extra></extra>\",\"legendgroup\":\"insertion_sort\",\"line\":{\"color\":\"#636efa\",\"dash\":\"solid\"},\"marker\":{\"symbol\":\"circle\"},\"mode\":\"lines\",\"name\":\"insertion_sort\",\"orientation\":\"v\",\"showlegend\":false,\"x\":[10,20,30,40,50,60,70,80,90,100,110,120,130,140,150,160,170,180,190,200,210,220,230,240,250,260,270,280,290,300,310,320,330,340,350,360,370,380,390,400,410,420,430,440,450,460,470,480,490,500,510,520,530,540,550,560,570,580,590,600,610,620,630,640,650,660,670,680,690,700,710,720,730,740,750,760,770,780,790,800,810,820,830,840,850,860,870,880,890,900,910,920,930,940,950,960,970,980,990],\"xaxis\":\"x3\",\"y\":[6.999995093792677e-06,2.1199986804276705e-05,4.610000178217888e-05,8.030000026337802e-05,0.00012519999290816486,0.00017870002193376422,0.000242499983869493,0.00031599999056197703,0.0003992999845650047,0.0005879999953322113,0.0006465000042226166,0.0007573000038973987,0.0008233000116888434,0.0010368000075686723,0.0012295999913476408,0.001333899999735877,0.0015276999911293387,0.0017376999894622713,0.002056199999060482,0.002110100002028048,0.002377199998591095,0.0027439999976195395,0.002961399994092062,0.0032140999974217266,0.003336900001158938,0.003614199988078326,0.00426560000050813,0.004267899988917634,0.00456339999800548,0.0050159999809693545,0.006607299990719184,0.0062686000019311905,0.005877399991732091,0.00627170002553612,0.006948599999304861,0.006919999985257164,0.00746730001992546,0.00806890000239946,0.008340800006408244,0.008890800003428012,0.009636499977204949,0.008785199985140935,0.009204899979522452,0.010032699996372685,0.010160500009078532,0.010814900015247986,0.011259499995503575,0.011970899999141693,0.012158700003055856,0.012780700024450198,0.013437000015983358,0.013925399980507791,0.014296800014562905,0.014633000013418496,0.015115800022613257,0.015773699997225776,0.01675519999116659,0.0170372000138741,0.018488200003048405,0.018051300023216754,0.01913200001581572,0.019542800000635907,0.0213219000142999,0.021512200008146465,0.022226300003239885,0.02293550001922995,0.023601300024893135,0.024401400005444884,0.025353700009873137,0.025910999975167215,0.026987099990947172,0.027564300020458177,0.028378899995004758,0.029884399991715327,0.03090169999632053,0.03023639999446459,0.031944199989084154,0.033016700006555766,0.034320499980822206,0.034606800007168204,0.03588479998870753,0.03714930001297034,0.037863099976675585,0.03891709999879822,0.04196079997927882,0.041184800007613376,0.04062899999553338,0.04231129999971017,0.04094659999827854,0.04320829999051057,0.04373710000072606,0.04501989998971112,0.0463445000059437,0.04607840001699515,0.04712649999419227,0.049644799990346655,0.05097759998170659,0.05180389998713508,0.052802200021687895],\"yaxis\":\"y3\",\"type\":\"scatter\"},{\"hovertemplate\":\"test_type=counting_sort<br>input_type=random<br>Dimensione array=%{x}<br>Time (s)=%{y}<extra></extra>\",\"legendgroup\":\"counting_sort\",\"line\":{\"color\":\"#EF553B\",\"dash\":\"solid\"},\"marker\":{\"symbol\":\"circle\"},\"mode\":\"lines\",\"name\":\"counting_sort\",\"orientation\":\"v\",\"showlegend\":true,\"x\":[10,20,30,40,50,60,70,80,90,100,110,120,130,140,150,160,170,180,190,200,210,220,230,240,250,260,270,280,290,300,310,320,330,340,350,360,370,380,390,400,410,420,430,440,450,460,470,480,490,500,510,520,530,540,550,560,570,580,590,600,610,620,630,640,650,660,670,680,690,700,710,720,730,740,750,760,770,780,790,800,810,820,830,840,850,860,870,880,890,900,910,920,930,940,950,960,970,980,990],\"xaxis\":\"x\",\"y\":[0.008419399993726984,0.008456199982902035,0.008331899996846914,0.008562700008042157,0.0080168999847956,0.008405600005062297,0.00888959999429062,0.008682699990458786,0.008704100007889792,0.008694999996805564,0.008896300016203895,0.00864509999519214,0.008642700006021187,0.008761500008404255,0.008603900001617149,0.008751000015763566,0.008814500004518777,0.008790899999439716,0.008744799997657537,0.009049099986441433,0.008755000017117709,0.008764800004428253,0.008730700006708503,0.008750999986659735,0.010764999984530732,0.008896399987861514,0.00882740001543425,0.008915299986256287,0.008893300022464246,0.009030599991092458,0.008769399981247261,0.008971999981440604,0.009067300008609891,0.009111599996685982,0.008910899981856346,0.008911100012483075,0.00901109998812899,0.008928499999456108,0.008968600013758987,0.009336299990536645,0.009046999999554828,0.00926439999602735,0.008999399986350909,0.009538000012980774,0.009592699992936105,0.009253700001863763,0.009292200003983453,0.009262299980036914,0.009299600002123043,0.009129400015808642,0.009317599993664771,0.009341299999505281,0.009087800019187853,0.009290299989515916,0.00938159998622723,0.009240099985618144,0.009675899986177683,0.009252999996533617,0.009106400015298277,0.009260199993150309,0.009430000005522743,0.009211800002958626,0.00915339999482967,0.009221099986461923,0.009298399992985651,0.009294600022258237,0.009148399985861033,0.009345300000859424,0.009189500007778406,0.009678300004452467,0.009372400003485382,0.00923340002191253,0.009571499977027997,0.00953409998328425,0.009702100011054426,0.00966599999810569,0.009554999996908009,0.00966750000952743,0.009506500005954877,0.009464300004765391,0.009595200011972338,0.009388300008140504,0.009307900007115677,0.009528900001896545,0.009232499985955656,0.009645699989050627,0.009549999987939373,0.009704099997179583,0.009716900007333606,0.009601500001735985,0.009387300000526011,0.009523099986836314,0.009389799990458414,0.009624800004530698,0.009527999995043501,0.009757599997101352,0.009395700006280094,0.009655300003942102,0.009411300008650869],\"yaxis\":\"y\",\"type\":\"scatter\"},{\"hovertemplate\":\"test_type=counting_sort<br>input_type=sorted<br>Dimensione array=%{x}<br>Time (s)=%{y}<extra></extra>\",\"legendgroup\":\"counting_sort\",\"line\":{\"color\":\"#EF553B\",\"dash\":\"solid\"},\"marker\":{\"symbol\":\"circle\"},\"mode\":\"lines\",\"name\":\"counting_sort\",\"orientation\":\"v\",\"showlegend\":false,\"x\":[10,20,30,40,50,60,70,80,90,100,110,120,130,140,150,160,170,180,190,200,210,220,230,240,250,260,270,280,290,300,310,320,330,340,350,360,370,380,390,400,410,420,430,440,450,460,470,480,490,500,510,520,530,540,550,560,570,580,590,600,610,620,630,640,650,660,670,680,690,700,710,720,730,740,750,760,770,780,790,800,810,820,830,840,850,860,870,880,890,900,910,920,930,940,950,960,970,980,990],\"xaxis\":\"x2\",\"y\":[0.008410799986450002,0.008070099982433021,0.008790599997155368,0.008314100006828085,0.00862450001295656,0.00862880001659505,0.00835469999583438,0.00867340000695549,0.00855769999907352,0.00849690000177361,0.008337600011145696,0.008461199991870672,0.008615400001872331,0.008513500011758879,0.00853399999323301,0.008738100004848093,0.00853409999399446,0.00871640001423657,0.008536799985449761,0.008842600014759228,0.00856230000499636,0.008628699986729771,0.008665200002724305,0.00874580000527203,0.008446000021649525,0.008819199982099235,0.008666499983519316,0.00902289999066852,0.008794499997748062,0.008760500000789762,0.008839999994961545,0.008772800007136539,0.009065499994903803,0.009007299988297746,0.008980499987956136,0.009045600017998368,0.00908229997730814,0.009033200010890141,0.008895900013158098,0.009002400009194389,0.008910900010960177,0.00919770001200959,0.009102100011659786,0.00901849998626858,0.009286100015742704,0.00903929999913089,0.009075000009033829,0.009293699986301363,0.009103799995500594,0.009348399995360523,0.009231500007444993,0.009373200009576976,0.009043199999723583,0.009365499980049208,0.009683299984317273,0.009476000006543472,0.00947800002177246,0.009367099992232397,0.00921399999060668,0.00934600000618957,0.009185300004901364,0.009452300000702962,0.009427999990293756,0.00927769998088479,0.009387800004333258,0.009486499999184161,0.009488299983786419,0.009528900001896545,0.009360299998661503,0.009332999994512647,0.009624900005292147,0.0096614999929443,0.009429700003238395,0.009285900014219806,0.009321000019554049,0.00915200001327321,0.009345600003143772,0.009454699989873916,0.009198000014293939,0.010993000003509223,0.0093324999907054,0.009507599985226989,0.009367999999085441,0.009342699981061742,0.009471600002143532,0.009325700026238337,0.009775400016224012,0.009460600005695596,0.009400299983099103,0.009676799993030727,0.00932660000398755,0.009517099999357015,0.009358000010251999,0.009380699979374185,0.009610200009774417,0.009318799973698333,0.009404099982930347,0.009380700008478016,0.010270700004184619],\"yaxis\":\"y2\",\"type\":\"scatter\"},{\"hovertemplate\":\"test_type=counting_sort<br>input_type=reversed<br>Dimensione array=%{x}<br>Time (s)=%{y}<extra></extra>\",\"legendgroup\":\"counting_sort\",\"line\":{\"color\":\"#EF553B\",\"dash\":\"solid\"},\"marker\":{\"symbol\":\"circle\"},\"mode\":\"lines\",\"name\":\"counting_sort\",\"orientation\":\"v\",\"showlegend\":false,\"x\":[10,20,30,40,50,60,70,80,90,100,110,120,130,140,150,160,170,180,190,200,210,220,230,240,250,260,270,280,290,300,310,320,330,340,350,360,370,380,390,400,410,420,430,440,450,460,470,480,490,500,510,520,530,540,550,560,570,580,590,600,610,620,630,640,650,660,670,680,690,700,710,720,730,740,750,760,770,780,790,800,810,820,830,840,850,860,870,880,890,900,910,920,930,940,950,960,970,980,990],\"xaxis\":\"x3\",\"y\":[0.008640199986984953,0.008680500002810732,0.007499999977881089,0.008623700006864965,0.00869109999621287,0.008635899983346462,0.009749499993631616,0.008954599994467571,0.008823899988783523,0.00875619999715127,0.008552899991627783,0.008726100000785664,0.008821800001896918,0.008911599987186491,0.008745599974645302,0.00861109999823384,0.008816399989882484,0.008828000020002946,0.008756499999435619,0.008734999981243163,0.008761300006881356,0.00876219998463057,0.009157299995422363,0.008994300005724654,0.008830800012219697,0.008815400011371821,0.008825999975670129,0.009173900005407631,0.008965600020019338,0.008908699994208291,0.008928999974159524,0.008934899989981204,0.008843000017805025,0.008986100001493469,0.009143299976130947,0.009165399998892099,0.009108199999900535,0.009145399992121384,0.009091899992199615,0.009143600007519126,0.009216000005835667,0.009357899980386719,0.009199099993566051,0.009945400001015514,0.00904969999101013,0.009057799994479865,0.009156699990853667,0.009040100005222484,0.009289000008720905,0.009054299996932968,0.009143499977653846,0.009143700008280575,0.009059699979843572,0.00917850001133047,0.009031299996422604,0.009217899991199374,0.009227799979271367,0.00928359999670647,0.009254199976567179,0.009145699994405732,0.009306899999501184,0.009121700015384704,0.00932219999958761,0.009555600001476705,0.00924519999534823,0.009273100004065782,0.00940529999206774,0.009383299999171868,0.009435700019821525,0.00921710001421161,0.009243300009984523,0.00946590001694858,0.009518800012301654,0.009376700007123873,0.009313800022937357,0.009880600002361462,0.009570900001563132,0.00952069999766536,0.009551399998599663,0.009521900006802753,0.009685799974249676,0.009571600006893277,0.009513199998764321,0.00972669999464415,0.009478399995714426,0.009481500019319355,0.00952969997888431,0.009575000003678724,0.009681700001237914,0.010472800000570714,0.009717500011902303,0.009654299996327609,0.009636099974159151,0.009509700001217425,0.009647900005802512,0.009604399994714186,0.011687499994877726,0.009622400015359744,0.009619600023142993],\"yaxis\":\"y3\",\"type\":\"scatter\"}],                        {\"template\":{\"data\":{\"histogram2dcontour\":[{\"type\":\"histogram2dcontour\",\"colorbar\":{\"outlinewidth\":0,\"ticks\":\"\"},\"colorscale\":[[0.0,\"#0d0887\"],[0.1111111111111111,\"#46039f\"],[0.2222222222222222,\"#7201a8\"],[0.3333333333333333,\"#9c179e\"],[0.4444444444444444,\"#bd3786\"],[0.5555555555555556,\"#d8576b\"],[0.6666666666666666,\"#ed7953\"],[0.7777777777777778,\"#fb9f3a\"],[0.8888888888888888,\"#fdca26\"],[1.0,\"#f0f921\"]]}],\"choropleth\":[{\"type\":\"choropleth\",\"colorbar\":{\"outlinewidth\":0,\"ticks\":\"\"}}],\"histogram2d\":[{\"type\":\"histogram2d\",\"colorbar\":{\"outlinewidth\":0,\"ticks\":\"\"},\"colorscale\":[[0.0,\"#0d0887\"],[0.1111111111111111,\"#46039f\"],[0.2222222222222222,\"#7201a8\"],[0.3333333333333333,\"#9c179e\"],[0.4444444444444444,\"#bd3786\"],[0.5555555555555556,\"#d8576b\"],[0.6666666666666666,\"#ed7953\"],[0.7777777777777778,\"#fb9f3a\"],[0.8888888888888888,\"#fdca26\"],[1.0,\"#f0f921\"]]}],\"heatmap\":[{\"type\":\"heatmap\",\"colorbar\":{\"outlinewidth\":0,\"ticks\":\"\"},\"colorscale\":[[0.0,\"#0d0887\"],[0.1111111111111111,\"#46039f\"],[0.2222222222222222,\"#7201a8\"],[0.3333333333333333,\"#9c179e\"],[0.4444444444444444,\"#bd3786\"],[0.5555555555555556,\"#d8576b\"],[0.6666666666666666,\"#ed7953\"],[0.7777777777777778,\"#fb9f3a\"],[0.8888888888888888,\"#fdca26\"],[1.0,\"#f0f921\"]]}],\"heatmapgl\":[{\"type\":\"heatmapgl\",\"colorbar\":{\"outlinewidth\":0,\"ticks\":\"\"},\"colorscale\":[[0.0,\"#0d0887\"],[0.1111111111111111,\"#46039f\"],[0.2222222222222222,\"#7201a8\"],[0.3333333333333333,\"#9c179e\"],[0.4444444444444444,\"#bd3786\"],[0.5555555555555556,\"#d8576b\"],[0.6666666666666666,\"#ed7953\"],[0.7777777777777778,\"#fb9f3a\"],[0.8888888888888888,\"#fdca26\"],[1.0,\"#f0f921\"]]}],\"contourcarpet\":[{\"type\":\"contourcarpet\",\"colorbar\":{\"outlinewidth\":0,\"ticks\":\"\"}}],\"contour\":[{\"type\":\"contour\",\"colorbar\":{\"outlinewidth\":0,\"ticks\":\"\"},\"colorscale\":[[0.0,\"#0d0887\"],[0.1111111111111111,\"#46039f\"],[0.2222222222222222,\"#7201a8\"],[0.3333333333333333,\"#9c179e\"],[0.4444444444444444,\"#bd3786\"],[0.5555555555555556,\"#d8576b\"],[0.6666666666666666,\"#ed7953\"],[0.7777777777777778,\"#fb9f3a\"],[0.8888888888888888,\"#fdca26\"],[1.0,\"#f0f921\"]]}],\"surface\":[{\"type\":\"surface\",\"colorbar\":{\"outlinewidth\":0,\"ticks\":\"\"},\"colorscale\":[[0.0,\"#0d0887\"],[0.1111111111111111,\"#46039f\"],[0.2222222222222222,\"#7201a8\"],[0.3333333333333333,\"#9c179e\"],[0.4444444444444444,\"#bd3786\"],[0.5555555555555556,\"#d8576b\"],[0.6666666666666666,\"#ed7953\"],[0.7777777777777778,\"#fb9f3a\"],[0.8888888888888888,\"#fdca26\"],[1.0,\"#f0f921\"]]}],\"mesh3d\":[{\"type\":\"mesh3d\",\"colorbar\":{\"outlinewidth\":0,\"ticks\":\"\"}}],\"scatter\":[{\"marker\":{\"line\":{\"color\":\"#283442\"}},\"type\":\"scatter\"}],\"parcoords\":[{\"type\":\"parcoords\",\"line\":{\"colorbar\":{\"outlinewidth\":0,\"ticks\":\"\"}}}],\"scatterpolargl\":[{\"type\":\"scatterpolargl\",\"marker\":{\"colorbar\":{\"outlinewidth\":0,\"ticks\":\"\"}}}],\"bar\":[{\"error_x\":{\"color\":\"#f2f5fa\"},\"error_y\":{\"color\":\"#f2f5fa\"},\"marker\":{\"line\":{\"color\":\"rgb(17,17,17)\",\"width\":0.5},\"pattern\":{\"fillmode\":\"overlay\",\"size\":10,\"solidity\":0.2}},\"type\":\"bar\"}],\"scattergeo\":[{\"type\":\"scattergeo\",\"marker\":{\"colorbar\":{\"outlinewidth\":0,\"ticks\":\"\"}}}],\"scatterpolar\":[{\"type\":\"scatterpolar\",\"marker\":{\"colorbar\":{\"outlinewidth\":0,\"ticks\":\"\"}}}],\"histogram\":[{\"marker\":{\"pattern\":{\"fillmode\":\"overlay\",\"size\":10,\"solidity\":0.2}},\"type\":\"histogram\"}],\"scattergl\":[{\"marker\":{\"line\":{\"color\":\"#283442\"}},\"type\":\"scattergl\"}],\"scatter3d\":[{\"type\":\"scatter3d\",\"line\":{\"colorbar\":{\"outlinewidth\":0,\"ticks\":\"\"}},\"marker\":{\"colorbar\":{\"outlinewidth\":0,\"ticks\":\"\"}}}],\"scattermapbox\":[{\"type\":\"scattermapbox\",\"marker\":{\"colorbar\":{\"outlinewidth\":0,\"ticks\":\"\"}}}],\"scatterternary\":[{\"type\":\"scatterternary\",\"marker\":{\"colorbar\":{\"outlinewidth\":0,\"ticks\":\"\"}}}],\"scattercarpet\":[{\"type\":\"scattercarpet\",\"marker\":{\"colorbar\":{\"outlinewidth\":0,\"ticks\":\"\"}}}],\"carpet\":[{\"aaxis\":{\"endlinecolor\":\"#A2B1C6\",\"gridcolor\":\"#506784\",\"linecolor\":\"#506784\",\"minorgridcolor\":\"#506784\",\"startlinecolor\":\"#A2B1C6\"},\"baxis\":{\"endlinecolor\":\"#A2B1C6\",\"gridcolor\":\"#506784\",\"linecolor\":\"#506784\",\"minorgridcolor\":\"#506784\",\"startlinecolor\":\"#A2B1C6\"},\"type\":\"carpet\"}],\"table\":[{\"cells\":{\"fill\":{\"color\":\"#506784\"},\"line\":{\"color\":\"rgb(17,17,17)\"}},\"header\":{\"fill\":{\"color\":\"#2a3f5f\"},\"line\":{\"color\":\"rgb(17,17,17)\"}},\"type\":\"table\"}],\"barpolar\":[{\"marker\":{\"line\":{\"color\":\"rgb(17,17,17)\",\"width\":0.5},\"pattern\":{\"fillmode\":\"overlay\",\"size\":10,\"solidity\":0.2}},\"type\":\"barpolar\"}],\"pie\":[{\"automargin\":true,\"type\":\"pie\"}]},\"layout\":{\"autotypenumbers\":\"strict\",\"colorway\":[\"#636efa\",\"#EF553B\",\"#00cc96\",\"#ab63fa\",\"#FFA15A\",\"#19d3f3\",\"#FF6692\",\"#B6E880\",\"#FF97FF\",\"#FECB52\"],\"font\":{\"color\":\"#f2f5fa\"},\"hovermode\":\"closest\",\"hoverlabel\":{\"align\":\"left\"},\"paper_bgcolor\":\"rgb(17,17,17)\",\"plot_bgcolor\":\"rgb(17,17,17)\",\"polar\":{\"bgcolor\":\"rgb(17,17,17)\",\"angularaxis\":{\"gridcolor\":\"#506784\",\"linecolor\":\"#506784\",\"ticks\":\"\"},\"radialaxis\":{\"gridcolor\":\"#506784\",\"linecolor\":\"#506784\",\"ticks\":\"\"}},\"ternary\":{\"bgcolor\":\"rgb(17,17,17)\",\"aaxis\":{\"gridcolor\":\"#506784\",\"linecolor\":\"#506784\",\"ticks\":\"\"},\"baxis\":{\"gridcolor\":\"#506784\",\"linecolor\":\"#506784\",\"ticks\":\"\"},\"caxis\":{\"gridcolor\":\"#506784\",\"linecolor\":\"#506784\",\"ticks\":\"\"}},\"coloraxis\":{\"colorbar\":{\"outlinewidth\":0,\"ticks\":\"\"}},\"colorscale\":{\"sequential\":[[0.0,\"#0d0887\"],[0.1111111111111111,\"#46039f\"],[0.2222222222222222,\"#7201a8\"],[0.3333333333333333,\"#9c179e\"],[0.4444444444444444,\"#bd3786\"],[0.5555555555555556,\"#d8576b\"],[0.6666666666666666,\"#ed7953\"],[0.7777777777777778,\"#fb9f3a\"],[0.8888888888888888,\"#fdca26\"],[1.0,\"#f0f921\"]],\"sequentialminus\":[[0.0,\"#0d0887\"],[0.1111111111111111,\"#46039f\"],[0.2222222222222222,\"#7201a8\"],[0.3333333333333333,\"#9c179e\"],[0.4444444444444444,\"#bd3786\"],[0.5555555555555556,\"#d8576b\"],[0.6666666666666666,\"#ed7953\"],[0.7777777777777778,\"#fb9f3a\"],[0.8888888888888888,\"#fdca26\"],[1.0,\"#f0f921\"]],\"diverging\":[[0,\"#8e0152\"],[0.1,\"#c51b7d\"],[0.2,\"#de77ae\"],[0.3,\"#f1b6da\"],[0.4,\"#fde0ef\"],[0.5,\"#f7f7f7\"],[0.6,\"#e6f5d0\"],[0.7,\"#b8e186\"],[0.8,\"#7fbc41\"],[0.9,\"#4d9221\"],[1,\"#276419\"]]},\"xaxis\":{\"gridcolor\":\"#283442\",\"linecolor\":\"#506784\",\"ticks\":\"\",\"title\":{\"standoff\":15},\"zerolinecolor\":\"#283442\",\"automargin\":true,\"zerolinewidth\":2},\"yaxis\":{\"gridcolor\":\"#283442\",\"linecolor\":\"#506784\",\"ticks\":\"\",\"title\":{\"standoff\":15},\"zerolinecolor\":\"#283442\",\"automargin\":true,\"zerolinewidth\":2},\"scene\":{\"xaxis\":{\"backgroundcolor\":\"rgb(17,17,17)\",\"gridcolor\":\"#506784\",\"linecolor\":\"#506784\",\"showbackground\":true,\"ticks\":\"\",\"zerolinecolor\":\"#C8D4E3\",\"gridwidth\":2},\"yaxis\":{\"backgroundcolor\":\"rgb(17,17,17)\",\"gridcolor\":\"#506784\",\"linecolor\":\"#506784\",\"showbackground\":true,\"ticks\":\"\",\"zerolinecolor\":\"#C8D4E3\",\"gridwidth\":2},\"zaxis\":{\"backgroundcolor\":\"rgb(17,17,17)\",\"gridcolor\":\"#506784\",\"linecolor\":\"#506784\",\"showbackground\":true,\"ticks\":\"\",\"zerolinecolor\":\"#C8D4E3\",\"gridwidth\":2}},\"shapedefaults\":{\"line\":{\"color\":\"#f2f5fa\"}},\"annotationdefaults\":{\"arrowcolor\":\"#f2f5fa\",\"arrowhead\":0,\"arrowwidth\":1},\"geo\":{\"bgcolor\":\"rgb(17,17,17)\",\"landcolor\":\"rgb(17,17,17)\",\"subunitcolor\":\"#506784\",\"showland\":true,\"showlakes\":true,\"lakecolor\":\"rgb(17,17,17)\"},\"title\":{\"x\":0.05},\"updatemenudefaults\":{\"bgcolor\":\"#506784\",\"borderwidth\":0},\"sliderdefaults\":{\"bgcolor\":\"#C8D4E3\",\"borderwidth\":1,\"bordercolor\":\"rgb(17,17,17)\",\"tickwidth\":0},\"mapbox\":{\"style\":\"dark\"}}},\"xaxis\":{\"anchor\":\"y\",\"domain\":[0.0,0.31999999999999995],\"title\":{\"text\":\"Dimensione array\"}},\"yaxis\":{\"anchor\":\"x\",\"domain\":[0.0,1.0],\"title\":{\"text\":\"Time (s)\"}},\"xaxis2\":{\"anchor\":\"y2\",\"domain\":[0.33999999999999997,0.6599999999999999],\"matches\":\"x\",\"title\":{\"text\":\"Dimensione array\"}},\"yaxis2\":{\"anchor\":\"x2\",\"domain\":[0.0,1.0],\"matches\":\"y\",\"showticklabels\":false},\"xaxis3\":{\"anchor\":\"y3\",\"domain\":[0.6799999999999999,0.9999999999999999],\"matches\":\"x\",\"title\":{\"text\":\"Dimensione array\"}},\"yaxis3\":{\"anchor\":\"x3\",\"domain\":[0.0,1.0],\"matches\":\"y\",\"showticklabels\":false},\"annotations\":[{\"font\":{},\"showarrow\":false,\"text\":\"input_type=random\",\"x\":0.15999999999999998,\"xanchor\":\"center\",\"xref\":\"paper\",\"y\":1.0,\"yanchor\":\"bottom\",\"yref\":\"paper\"},{\"font\":{},\"showarrow\":false,\"text\":\"input_type=sorted\",\"x\":0.49999999999999994,\"xanchor\":\"center\",\"xref\":\"paper\",\"y\":1.0,\"yanchor\":\"bottom\",\"yref\":\"paper\"},{\"font\":{},\"showarrow\":false,\"text\":\"input_type=reversed\",\"x\":0.8399999999999999,\"xanchor\":\"center\",\"xref\":\"paper\",\"y\":1.0,\"yanchor\":\"bottom\",\"yref\":\"paper\"}],\"legend\":{\"title\":{\"text\":\"test_type\"},\"tracegroupgap\":0},\"title\":{\"text\":\"Sorting algorithms\"}},                        {\"responsive\": true}                    ).then(function(){\n                            \nvar gd = document.getElementById('6559d67b-73c5-4a39-8195-49bfa3feed56');\nvar x = new MutationObserver(function (mutations, observer) {{\n        var display = window.getComputedStyle(gd).display;\n        if (!display || display === 'none') {{\n            console.log([gd, 'removed!']);\n            Plotly.purge(gd);\n            observer.disconnect();\n        }}\n}});\n\n// Listen for the removal of the full notebook cells\nvar notebookContainer = gd.closest('#notebook-container');\nif (notebookContainer) {{\n    x.observe(notebookContainer, {childList: true});\n}}\n\n// Listen for the clearing of the current output cell\nvar outputEl = gd.closest('.output');\nif (outputEl) {{\n    x.observe(outputEl, {childList: true});\n}}\n\n                        })                };                });            </script>        </div>"
     },
     "metadata": {},
     "output_type": "display_data"
    }
   ],
   "source": [
    "df = plot_results(1000, 10, (0, 100000))\n",
    "\n",
    "figure = px.line(df.loc[df[\"num_samples\"] > 0],\n",
    "                 x=\"num_samples\",\n",
    "                 y=\"time\",\n",
    "                 color=\"test_type\",\n",
    "                 facet_col=\"input_type\",\n",
    "                 title=\"Sorting algorithms\",\n",
    "                 labels={\"num_samples\": \"Dimensione array\", \"time\": \"Time (s)\"})\n",
    "\n",
    "figure.show()"
   ],
   "metadata": {
    "collapsed": false
   }
  }
 ],
 "metadata": {
  "kernelspec": {
   "display_name": "Python 3 (ipykernel)",
   "language": "python",
   "name": "python3"
  },
  "language_info": {
   "codemirror_mode": {
    "name": "ipython",
    "version": 3
   },
   "file_extension": ".py",
   "mimetype": "text/x-python",
   "name": "python",
   "nbconvert_exporter": "python",
   "pygments_lexer": "ipython3",
   "version": "3.10.10"
  }
 },
 "nbformat": 4,
 "nbformat_minor": 5
}

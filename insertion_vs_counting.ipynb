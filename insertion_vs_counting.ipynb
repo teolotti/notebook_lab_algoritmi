{
 "cells": [
  {
   "cell_type": "markdown",
   "id": "6fce8b6c",
   "metadata": {},
   "source": [
    "# Confronto tra Insertion Sort e Counting Sort\n",
    "## Matteo Lotti\n",
    "### Marzo-Aprile 2023"
   ]
  },
  {
   "cell_type": "markdown",
   "id": "78c55621",
   "metadata": {},
   "source": [
    "In questo notebook ci poniamo l'obiettivo di impostare e effettuare un confronto tra due algoritmi di ordinamento. In particolare, i due algoritmi in questione saranno:\n",
    "\n",
    "- __Insertion Sort__\n",
    "\n",
    "- __Counting Sort__\n",
    "\n",
    "Il notebook sarà sviluppato in questo modo:\n",
    "\n",
    "1. Nelle celle successive saranno presenti le implementazioni dei due algoritmi seguiti rispettivamente da una breve spiegazione messa in relazione con le evidenze teoriche conosciute.\n",
    "\n",
    "2. Successivamente sarà presente una cella nella quale sarà implementata la funzione di test, seguita da un'opportuna spiegazione del codice e dei test che saranno eseguiti\n",
    "\n",
    "3. Saranno effettuati e descritti i dovuti test e i rispettivi risultati\n",
    "\n",
    "4. Nella chiusura tireremo le somme dei risultati ottenuti dagli esperimenti svolti"
   ]
  },
  {
   "cell_type": "markdown",
   "id": "594e3065",
   "metadata": {},
   "source": [
    "## Implementazioni degli algoritmi\n",
    "### Insertion Sort"
   ]
  },
  {
   "cell_type": "code",
   "execution_count": 294,
   "id": "0b68115e",
   "metadata": {},
   "outputs": [],
   "source": [
    "def insertion_sort(arr):\n",
    "    \"\"\"Insertion sort algorithm.\n",
    "\n",
    "    Args:\n",
    "        arr (list): Array to be sorted.\n",
    "\n",
    "    Returns:\n",
    "        list: Sorted array.\n",
    "\n",
    "    Time complexity: O(n^2)\n",
    "    \"\"\"\n",
    "    for i in range(1, len(arr)):\n",
    "        key = arr[i]\n",
    "        j = i - 1\n",
    "        while j >= 0 and key < arr[j]:\n",
    "            arr[j + 1] = arr[j]\n",
    "            j -= 1\n",
    "        arr[j + 1] = key\n",
    "    return arr"
   ]
  },
  {
   "cell_type": "markdown",
   "id": "cd3db634",
   "metadata": {},
   "source": [
    "Nella cella sovrastante possiamo vedere l'implementazione dell'algoritmo di ordinamento __Insertion Sort__. L'algoritmo si basa su un ciclo _for_ iniziale nel quale si inizializza la variabile _key_ con il valore all'indice _i_ dell'array da ordinare. All'interno del _for_ un ciclo _while_ ci permette di iterare sugli elementi precedenti a _key_ in modo tale da posizionare il valore di _key_ nella posizione corretta. Al termine di ogni esecuzione del ciclo _for_, i primi _i_ elementi saranno ordinati e quando termina l'algoritmo tutto l'array sarà ordinato correttamente."
   ]
  },
  {
   "cell_type": "markdown",
   "id": "7af2bd67",
   "metadata": {},
   "source": [
    "### Counting Sort"
   ]
  },
  {
   "cell_type": "code",
   "execution_count": 295,
   "id": "d1e62f77",
   "metadata": {},
   "outputs": [],
   "source": [
    "def counting_sort(arr):\n",
    "    \"\"\"Counting sort algorithm.\n",
    "\n",
    "    Args:\n",
    "        arr (list): Array to be sorted.\n",
    "\n",
    "    Returns:\n",
    "        list: Sorted array.\n",
    "\n",
    "    Time complexity: O(n+k)\n",
    "\n",
    "    k is the value of the maximum element in the array.\n",
    "    \"\"\"\n",
    "    max_element = max(arr) #k\n",
    "    count_array = [0] * (max_element + 1) #primo for\n",
    "\n",
    "    for element in arr:\n",
    "        count_array[element] += 1\n",
    "\n",
    "    for i in range(1, len(count_array)):\n",
    "        count_array[i] += count_array[i-1]\n",
    "\n",
    "    sorted_array = [0] * len(arr)\n",
    "    for element in reversed(arr):\n",
    "        sorted_array[count_array[element]-1] = element #-1 perché indicizzazione parte da 0\n",
    "        count_array[element] -= 1\n",
    "\n",
    "    return sorted_array\n"
   ]
  },
  {
   "cell_type": "markdown",
   "id": "23fb1f6b",
   "metadata": {},
   "source": [
    "Nella cella sovrastante troviamo l'algoritmo di ordinamento __Counting Sort__. Sottlineamo il fatto che questo algoritmi è utilizzabile solo per liste di numeri interi. Non è un algoritmo che opera per confronti, ma si basa sul determinare la posizione di ogni elemento nell'array ordinato in base a quanti sono gli elementi minori o uguali ad esso. In particolare, è necessario un array di appoggio di dimensione _max_element_, dove _max_element_ non è altro che il valore massimo presente nell'array di partenza. Successivamente, dopo aver inzializzato quest'array con tutti 0, incrementiamo di 1 l'elemento di indice _i_ per ogni elemento uguale a _i_ nell'array iniziale; poi scorriamo l'array di appoggio sommando ad ogni elemento tutti gli elementi ad esso precedenti. Quello che otteniamo dopo queste due operazioni non è altro che un array di appoggio in cui l'elemento di indice _x_ ha come valore il numero di elementi minori o uguali a _x_ nell'array iniziale. L'ultimo passaggio è quello di copiare su un nuovo array gli elementi ordinati, considerando che nell'array di appoggio l'elemento con indice _x_ risulta essere la posizione di _x_ nell'array ordinato. Decrementando poi progressivamente i valori dell'array di appoggio si riescono a gestire anche ventuali copie multiple di uno stesso valore."
   ]
  },
  {
   "cell_type": "markdown",
   "id": "71f0e1a4",
   "metadata": {},
   "source": [
    "## Implementazione e spiegazione dei test"
   ]
  },
  {
   "cell_type": "code",
   "execution_count": 296,
   "id": "d05763a2",
   "metadata": {},
   "outputs": [],
   "source": [
    "import pandas as pd\n",
    "import plotly.express as px\n",
    "from enum import Enum\n",
    "from dataclasses import dataclass, field\n",
    "from timeit import default_timer as timer\n",
    "import numpy as np\n",
    "\n",
    "\n",
    "class InputType(Enum):\n",
    "    \"\"\"Select the type of input.\"\"\"\n",
    "\n",
    "    random = 1\n",
    "    \"\"\"Random input.\"\"\"\n",
    "    sorted = 2\n",
    "    \"\"\"Sorted input.\"\"\"\n",
    "    reversed = 3\n",
    "    \"\"\"Reversed input.\"\"\"\n",
    "\n",
    "class SelectTestType(Enum):\n",
    "    \"\"\"Select the type of sorting test.\"\"\"\n",
    "\n",
    "    insertion_sort = 1\n",
    "    \"\"\"Insertion sort.\"\"\"\n",
    "    counting_sort = 2\n",
    "    \"\"\"Counting sort.\"\"\"\n",
    "\n",
    "@dataclass\n",
    "class InputConfig:\n",
    "    \"\"\"Input configuration.\"\"\"\n",
    "\n",
    "    num_samples: int = 1000\n",
    "    \"\"\"Number of samples.\"\"\"\n",
    "    sample_range: tuple[int, int] = (0, 5000)\n",
    "    \"\"\"Range of the samples.\"\"\"\n",
    "    input_type: InputType = InputType.random\n",
    "    \"\"\"Type of input.\"\"\"\n",
    "\n",
    "\n",
    "@dataclass\n",
    "class InputGenerator:\n",
    "    \"\"\"Input generator.\"\"\"\n",
    "\n",
    "    input_config: InputConfig = InputConfig()\n",
    "    \"\"\"Input configuration.\"\"\"\n",
    "\n",
    "    data: list[int] = field(init=False, default_factory=list)\n",
    "    \"\"\"Data to be used for the tests.\"\"\"\n",
    "\n",
    "    def __post_init__(self):\n",
    "        \"\"\"Initialize the data.\"\"\"\n",
    "        self.data = self._generate()\n",
    "\n",
    "    def _generate(self) -> list[int]:\n",
    "        \"\"\"Generate the data.\"\"\"\n",
    "        match self.input_config.input_type:\n",
    "            case InputType.random:\n",
    "                data = np.random.randint(\n",
    "                    self.input_config.sample_range[0],\n",
    "                    self.input_config.sample_range[1],\n",
    "                    self.input_config.num_samples,\n",
    "                )\n",
    "            case InputType.sorted:\n",
    "                data = np.arange(self.input_config.num_samples)\n",
    "            case InputType.reversed:\n",
    "                data = np.arange(self.input_config.num_samples)[::-1]\n",
    "            case _:\n",
    "                raise ValueError(\"Invalid input type.\")\n",
    "        return data.tolist()\n",
    "\n",
    "def insertion_test(input_data: list[int]) -> float:\n",
    "    \"\"\"Test the insertion sort algorithm.\"\"\"\n",
    "    start = timer()\n",
    "    insertion_sort(input_data)\n",
    "    end = timer()\n",
    "    return end - start\n",
    "\n",
    "def counting_test(input_data: list[int]) -> float:\n",
    "    \"\"\"Test the counting sort algorithm.\"\"\"\n",
    "    start = timer()\n",
    "    counting_sort(input_data)\n",
    "    end = timer()\n",
    "    return end - start\n",
    "\n",
    "def test(test_type: SelectTestType, input_type: InputType, num_samples: int, sample_range: tuple[int, int], step: int) -> pd.DataFrame:\n",
    "    \"\"\"Test the sorting algorithms.\n",
    "\n",
    "    Args:\n",
    "        test_type (SelectTestType): Type of sorting algorithm to test.\n",
    "        input_type (InputType): Type of input.\n",
    "        num_samples (int): Number of elements to sort.\n",
    "        sample_range (tuple[int, int]): Range of the elements.\n",
    "        step (int): Step to increase the number of elements.\n",
    "\n",
    "        Returns:\n",
    "            pd.DataFrame: Dataframe containing the results.\"\"\"\n",
    "\n",
    "    match test_type:\n",
    "        case SelectTestType.insertion_sort:\n",
    "            test_func = insertion_test\n",
    "        case SelectTestType.counting_sort:\n",
    "            test_func = counting_test\n",
    "        case _:\n",
    "            raise ValueError(\"Invalid queue type.\")\n",
    "    match input_type:\n",
    "        case InputType.random:\n",
    "            input_config = InputConfig(num_samples=num_samples, sample_range=sample_range, input_type=InputType.random)\n",
    "        case InputType.sorted:\n",
    "            input_config = InputConfig(num_samples=num_samples, sample_range=sample_range, input_type=InputType.sorted)\n",
    "        case InputType.reversed:\n",
    "            input_config = InputConfig(num_samples=num_samples, sample_range=sample_range, input_type=InputType.reversed)\n",
    "        case _:\n",
    "            raise ValueError(\"Invalid input type.\")\n",
    "\n",
    "    it = []\n",
    "    for i in np.arange(0, num_samples, step):\n",
    "        input_config.num_samples = i\n",
    "        input_gen = InputGenerator(input_config=input_config)\n",
    "        it.append(test_func(input_gen.data))\n",
    "\n",
    "    times_df = pd.DataFrame(data={\n",
    "        \"num_samples\": np.arange(0, num_samples, step),\n",
    "        \"time\": it,\n",
    "    })\n",
    "    times_df[\"test_type\"] = test_type.name\n",
    "    times_df[\"input_type\"] = input_type.name\n",
    "    return times_df\n",
    "\n",
    "\n"
   ]
  },
  {
   "cell_type": "markdown",
   "id": "6f25c88d",
   "metadata": {},
   "source": []
  },
  {
   "cell_type": "code",
   "execution_count": 297,
   "id": "5038b541",
   "metadata": {},
   "outputs": [],
   "source": [
    "def plot_results():\n",
    "    \"\"\"Plot the results.\"\"\"\n",
    "    num_samples = 1000\n",
    "    step = 100\n",
    "    sample_range = (0, 5000)\n",
    "\n",
    "    \"\"\"Insertion sort tests\"\"\"\n",
    "\n",
    "    df_ins_1 = test(SelectTestType.insertion_sort, InputType.random, num_samples, sample_range, step)\n",
    "    df_ins_2 = test(SelectTestType.insertion_sort, InputType.sorted, num_samples, sample_range, step)\n",
    "    df_ins_3 = test(SelectTestType.insertion_sort, InputType.reversed, num_samples, sample_range, step)\n",
    "\n",
    "    \"\"\"Counting sort tests\"\"\"\n",
    "\n",
    "    df_cnt_1 = test(SelectTestType.counting_sort, InputType.random, num_samples, sample_range, step)\n",
    "    df_cnt_2 = test(SelectTestType.counting_sort, InputType.sorted, num_samples, sample_range, step)\n",
    "    df_cnt_3 = test(SelectTestType.counting_sort, InputType.reversed, num_samples, sample_range, step)\n",
    "\n",
    "    df = pd.concat([df_ins_1, df_ins_2, df_ins_3, df_cnt_1, df_cnt_2, df_cnt_3], ignore_index=True)\n",
    "\n",
    "    figure = px.line(df, x=\"num_samples\", y=\"time\", color=\"test_type\", facet_col=\"input_type\", title=\"Sorting algorithms\", labels={\"num_samples\": \"Dimensione array\", \"time\": \"Time (s)\"})\n",
    "\n",
    "    figure.show()"
   ]
  },
  {
   "cell_type": "code",
   "execution_count": 298,
   "id": "2afd6a0b",
   "metadata": {},
   "outputs": [
    {
     "data": {
      "application/vnd.plotly.v1+json": {
       "data": [
        {
         "hovertemplate": "test_type=insertion_sort<br>Tipo di input=random<br>Dimensione array=%{x}<br>Time (s)=%{y}<extra></extra>",
         "legendgroup": "insertion_sort",
         "line": {
          "color": "#636efa",
          "dash": "solid"
         },
         "marker": {
          "symbol": "circle"
         },
         "mode": "lines",
         "name": "insertion_sort",
         "orientation": "v",
         "showlegend": true,
         "x": [
          10,
          20,
          30,
          40,
          50,
          60,
          70,
          80,
          90,
          100,
          110,
          120,
          130,
          140,
          150,
          160,
          170,
          180,
          190,
          200,
          210,
          220,
          230,
          240,
          250,
          260,
          270,
          280,
          290,
          300,
          310,
          320,
          330,
          340,
          350,
          360,
          370,
          380,
          390,
          400,
          410,
          420,
          430,
          440,
          450,
          460,
          470,
          480,
          490,
          500,
          510,
          520,
          530,
          540,
          550,
          560,
          570,
          580,
          590,
          600,
          610,
          620,
          630,
          640,
          650,
          660,
          670,
          680,
          690,
          700,
          710,
          720,
          730,
          740,
          750,
          760,
          770,
          780,
          790,
          800,
          810,
          820,
          830,
          840,
          850,
          860,
          870,
          880,
          890,
          900,
          910,
          920,
          930,
          940,
          950,
          960,
          970,
          980,
          990
         ],
         "xaxis": "x",
         "y": [
          4.8999791033566E-6,
          1.300001167692244E-5,
          2.7400004910305142E-5,
          4.6200002543628216E-5,
          7.700000423938036E-5,
          1.0060000931844115E-4,
          1.3729999773204327E-4,
          1.7759998445399106E-4,
          2.2190000163391232E-4,
          2.741000207606703E-4,
          3.0780001543462276E-4,
          4.227000172249973E-4,
          4.6209999709390104E-4,
          4.957999917678535E-4,
          5.055999790783972E-4,
          6.678999925497919E-4,
          0.0012271000014152378,
          8.094000222627074E-4,
          0.0012923000031150877,
          9.160000190604478E-4,
          0.0010909000120591372,
          0.001565800019307062,
          0.001378899993142113,
          0.0013578000070992857,
          0.0016121000226121396,
          0.0016672000056132674,
          0.001792299997759983,
          0.001973400008864701,
          0.0020570000051520765,
          0.002291200013132766,
          0.0025670999893918633,
          0.003181600011885166,
          0.0028618999931495637,
          0.002739599993219599,
          0.003090200014412403,
          0.0032103999983519316,
          0.003488200018182397,
          0.0035676999832503498,
          0.003947899997001514,
          0.003815300005953759,
          0.004789099999470636,
          0.004857299994910136,
          0.00487889998476021,
          0.005239199992502108,
          0.005651900020893663,
          0.005183400004170835,
          0.005988899996737018,
          0.006079999991925433,
          0.006244599993806332,
          0.00891189998947084,
          0.007209400006104261,
          0.008223400014685467,
          0.007810300012351945,
          0.008233700005803257,
          0.008627200004411861,
          0.008082899992587045,
          0.00847929998417385,
          0.009334399976069108,
          0.010243199998512864,
          0.01078750001033768,
          0.011593200004426762,
          0.013282300002174452,
          0.011140899994643405,
          0.01242769998498261,
          0.011194399994565174,
          0.01235070000984706,
          0.013004500011447817,
          0.019697499985340983,
          0.014964999980293214,
          0.014842100004898384,
          0.031570700026350096,
          0.01624439997249283,
          0.018110600009094924,
          0.016286400001263246,
          0.015992900007404387,
          0.015695700014475733,
          0.016116200014948845,
          0.01709170002141036,
          0.018186300003435463,
          0.021159900003112853,
          0.019931399991037324,
          0.01923579999129288,
          0.018942800001241267,
          0.020004899997729808,
          0.021688100008759648,
          0.02067600001464598,
          0.022313900000881404,
          0.02138550000381656,
          0.021325899986550212,
          0.02273070000228472,
          0.023586700001033023,
          0.024164299975382164,
          0.02337989999796264,
          0.024611300003016368,
          0.024880999990273267,
          0.0250168000056874,
          0.026856000011321157,
          0.025399800011655316,
          0.027061200002208352
         ],
         "yaxis": "y",
         "type": "scatter"
        },
        {
         "hovertemplate": "test_type=insertion_sort<br>Tipo di input=sorted<br>Dimensione array=%{x}<br>Time (s)=%{y}<extra></extra>",
         "legendgroup": "insertion_sort",
         "line": {
          "color": "#636efa",
          "dash": "solid"
         },
         "marker": {
          "symbol": "circle"
         },
         "mode": "lines",
         "name": "insertion_sort",
         "orientation": "v",
         "showlegend": false,
         "x": [
          10,
          20,
          30,
          40,
          50,
          60,
          70,
          80,
          90,
          100,
          110,
          120,
          130,
          140,
          150,
          160,
          170,
          180,
          190,
          200,
          210,
          220,
          230,
          240,
          250,
          260,
          270,
          280,
          290,
          300,
          310,
          320,
          330,
          340,
          350,
          360,
          370,
          380,
          390,
          400,
          410,
          420,
          430,
          440,
          450,
          460,
          470,
          480,
          490,
          500,
          510,
          520,
          530,
          540,
          550,
          560,
          570,
          580,
          590,
          600,
          610,
          620,
          630,
          640,
          650,
          660,
          670,
          680,
          690,
          700,
          710,
          720,
          730,
          740,
          750,
          760,
          770,
          780,
          790,
          800,
          810,
          820,
          830,
          840,
          850,
          860,
          870,
          880,
          890,
          900,
          910,
          920,
          930,
          940,
          950,
          960,
          970,
          980,
          990
         ],
         "xaxis": "x2",
         "y": [
          2.400018274784088E-6,
          2.900022082030773E-6,
          4.1000021155923605E-6,
          5.2000104915350676E-6,
          6.099988240748644E-6,
          7.300026481971145E-6,
          8.499977411702275E-6,
          9.600014891475439E-6,
          1.0599993402138352E-5,
          1.170000177808106E-5,
          1.2899981811642647E-5,
          1.5700003132224083E-5,
          1.5099998563528061E-5,
          1.6299978597089648E-5,
          1.7400016076862812E-5,
          1.8499995348975062E-5,
          1.969997538253665E-5,
          2.0800012862309813E-5,
          2.1899992134422064E-5,
          2.3100001271814108E-5,
          2.4200009647756815E-5,
          2.5300018023699522E-5,
          2.6399997295811772E-5,
          2.750000567175448E-5,
          2.8699985705316067E-5,
          3.070000093430281E-5,
          3.190001007169485E-5,
          3.320001997053623E-5,
          3.399999695830047E-5,
          3.549997927621007E-5,
          3.6699988413602114E-5,
          3.789999755099416E-5,
          3.920000744983554E-5,
          4.060001811012626E-5,
          4.189999890513718E-5,
          4.300000728107989E-5,
          4.429998807609081E-5,
          4.579999949783087E-5,
          4.710000939667225E-5,
          4.839999019168317E-5,
          4.959999932907522E-5,
          5.1000009989365935E-5,
          5.2300019888207316E-5,
          8.299999171867967E-5,
          5.549998604692519E-5,
          5.880001117475331E-5,
          5.780000356025994E-5,
          5.910001345910132E-5,
          6.04000233579427E-5,
          6.169997504912317E-5,
          6.310001481324434E-5,
          6.44999963697046E-5,
          6.580000626854599E-5,
          6.72000169288367E-5,
          6.930000381544232E-5,
          6.980000762268901E-5,
          7.320000440813601E-5,
          7.259999983943999E-5,
          7.420001202262938E-5,
          7.539999205619097E-5,
          7.69999751355499E-5,
          7.829998503439128E-5,
          7.959999493323267E-5,
          8.100000559352338E-5,
          8.220001473091543E-5,
          8.359999628737569E-5,
          8.479997632093728E-5,
          8.629998774267733E-5,
          8.769999840296805E-5,
          8.900000830180943E-5,
          9.040001896210015E-5,
          9.169999975711107E-5,
          9.329998283647001E-5,
          9.389998740516603E-5,
          9.839999256655574E-5,
          9.670000872574747E-5,
          9.810001938603818E-5,
          9.940000018104911E-5,
          1.0080001084133983E-4,
          1.0210002074018121E-4,
          1.0340000153519213E-4,
          1.0470001143403351E-4,
          1.0599999222904444E-4,
          1.0740000288933516E-4,
          1.086000120267272E-4,
          1.1010002344846725E-4,
          1.1170000652782619E-4,
          1.1279998579993844E-4,
          1.1809999705292284E-4,
          1.154000055976212E-4,
          1.1680001625791192E-4,
          1.1809999705292284E-4,
          1.1950000771321356E-4,
          1.2089998926967382E-4,
          1.2199999764561653E-4,
          1.233999792020768E-4,
          1.2509999214671552E-4,
          1.2670000432990491E-4,
          1.281999866478145E-4
         ],
         "yaxis": "y2",
         "type": "scatter"
        },
        {
         "hovertemplate": "test_type=insertion_sort<br>Tipo di input=reversed<br>Dimensione array=%{x}<br>Time (s)=%{y}<extra></extra>",
         "legendgroup": "insertion_sort",
         "line": {
          "color": "#636efa",
          "dash": "solid"
         },
         "marker": {
          "symbol": "circle"
         },
         "mode": "lines",
         "name": "insertion_sort",
         "orientation": "v",
         "showlegend": false,
         "x": [
          10,
          20,
          30,
          40,
          50,
          60,
          70,
          80,
          90,
          100,
          110,
          120,
          130,
          140,
          150,
          160,
          170,
          180,
          190,
          200,
          210,
          220,
          230,
          240,
          250,
          260,
          270,
          280,
          290,
          300,
          310,
          320,
          330,
          340,
          350,
          360,
          370,
          380,
          390,
          400,
          410,
          420,
          430,
          440,
          450,
          460,
          470,
          480,
          490,
          500,
          510,
          520,
          530,
          540,
          550,
          560,
          570,
          580,
          590,
          600,
          610,
          620,
          630,
          640,
          650,
          660,
          670,
          680,
          690,
          700,
          710,
          720,
          730,
          740,
          750,
          760,
          770,
          780,
          790,
          800,
          810,
          820,
          830,
          840,
          850,
          860,
          870,
          880,
          890,
          900,
          910,
          920,
          930,
          940,
          950,
          960,
          970,
          980,
          990
         ],
         "xaxis": "x3",
         "y": [
          7.199996616691351E-6,
          2.19999928958714E-5,
          4.7200010158121586E-5,
          8.220001473091543E-5,
          1.2779998360201716E-4,
          1.826000225264579E-4,
          2.9409999842755497E-4,
          3.226000117138028E-4,
          4.0839999564923346E-4,
          5.017999792471528E-4,
          6.058999861124903E-4,
          7.243000145535916E-4,
          8.447000000160187E-4,
          9.803999855648726E-4,
          0.0011257999867666513,
          0.0014049999881535769,
          0.001670500001637265,
          0.001819099998101592,
          0.0017690999957267195,
          0.0019496000022627413,
          0.0021807000157423317,
          0.0023929000017233193,
          0.0026171999925281852,
          0.003700900007970631,
          0.003373899991856888,
          0.003346799989230931,
          0.0035943999828305095,
          0.003971500002080575,
          0.0043187999981455505,
          0.0046857999986968935,
          0.004797800007509068,
          0.005095799977425486,
          0.0067214999871794134,
          0.005816899996716529,
          0.007124700001440942,
          0.006649099988862872,
          0.007274800009327009,
          0.00725100000272505,
          0.008489100000588223,
          0.009587100008502603,
          0.009135000000242144,
          0.009322600002633408,
          0.01079800000297837,
          0.010486099985428154,
          0.01057880002190359,
          0.012828899984015152,
          0.012792399997124448,
          0.01378790001035668,
          0.0161468000151217,
          0.012518600007751957,
          0.01322169997729361,
          0.013619200006360188,
          0.014198399992892519,
          0.01635219997842796,
          0.016585500008659437,
          0.018033100001048297,
          0.017993799992837012,
          0.0178056999866385,
          0.018585000012535602,
          0.01919000002089888,
          0.021887200011406094,
          0.021464499994181097,
          0.02205240001785569,
          0.023031899996567518,
          0.022224600019399077,
          0.023828099976526573,
          0.024435200000880286,
          0.024328699975740165,
          0.025725400017108768,
          0.026395199995022267,
          0.027044299989938736,
          0.03180820000125095,
          0.043361200019717216,
          0.03794189999462105,
          0.04801840000436641,
          0.046211900014895946,
          0.03424899998935871,
          0.033702999993693084,
          0.04225709999445826,
          0.03603439999278635,
          0.037110600009327754,
          0.03787759999977425,
          0.04495459998724982,
          0.0405025000218302,
          0.04114169999957085,
          0.03853680001338944,
          0.04141829998116009,
          0.041641100018750876,
          0.04052360000787303,
          0.042519899987382814,
          0.04417710000416264,
          0.04631519998656586,
          0.04739039999549277,
          0.04733279999345541,
          0.04757170000812039,
          0.048567899997578934,
          0.05025900001055561,
          0.05630959998234175,
          0.05388290001428686
         ],
         "yaxis": "y3",
         "type": "scatter"
        }
       ],
       "layout": {
        "template": {
         "data": {
          "histogram2dcontour": [
           {
            "type": "histogram2dcontour",
            "colorbar": {
             "outlinewidth": 0,
             "ticks": ""
            },
            "colorscale": [
             [
              0.0,
              "#0d0887"
             ],
             [
              0.1111111111111111,
              "#46039f"
             ],
             [
              0.2222222222222222,
              "#7201a8"
             ],
             [
              0.3333333333333333,
              "#9c179e"
             ],
             [
              0.4444444444444444,
              "#bd3786"
             ],
             [
              0.5555555555555556,
              "#d8576b"
             ],
             [
              0.6666666666666666,
              "#ed7953"
             ],
             [
              0.7777777777777778,
              "#fb9f3a"
             ],
             [
              0.8888888888888888,
              "#fdca26"
             ],
             [
              1.0,
              "#f0f921"
             ]
            ]
           }
          ],
          "choropleth": [
           {
            "type": "choropleth",
            "colorbar": {
             "outlinewidth": 0,
             "ticks": ""
            }
           }
          ],
          "histogram2d": [
           {
            "type": "histogram2d",
            "colorbar": {
             "outlinewidth": 0,
             "ticks": ""
            },
            "colorscale": [
             [
              0.0,
              "#0d0887"
             ],
             [
              0.1111111111111111,
              "#46039f"
             ],
             [
              0.2222222222222222,
              "#7201a8"
             ],
             [
              0.3333333333333333,
              "#9c179e"
             ],
             [
              0.4444444444444444,
              "#bd3786"
             ],
             [
              0.5555555555555556,
              "#d8576b"
             ],
             [
              0.6666666666666666,
              "#ed7953"
             ],
             [
              0.7777777777777778,
              "#fb9f3a"
             ],
             [
              0.8888888888888888,
              "#fdca26"
             ],
             [
              1.0,
              "#f0f921"
             ]
            ]
           }
          ],
          "heatmap": [
           {
            "type": "heatmap",
            "colorbar": {
             "outlinewidth": 0,
             "ticks": ""
            },
            "colorscale": [
             [
              0.0,
              "#0d0887"
             ],
             [
              0.1111111111111111,
              "#46039f"
             ],
             [
              0.2222222222222222,
              "#7201a8"
             ],
             [
              0.3333333333333333,
              "#9c179e"
             ],
             [
              0.4444444444444444,
              "#bd3786"
             ],
             [
              0.5555555555555556,
              "#d8576b"
             ],
             [
              0.6666666666666666,
              "#ed7953"
             ],
             [
              0.7777777777777778,
              "#fb9f3a"
             ],
             [
              0.8888888888888888,
              "#fdca26"
             ],
             [
              1.0,
              "#f0f921"
             ]
            ]
           }
          ],
          "heatmapgl": [
           {
            "type": "heatmapgl",
            "colorbar": {
             "outlinewidth": 0,
             "ticks": ""
            },
            "colorscale": [
             [
              0.0,
              "#0d0887"
             ],
             [
              0.1111111111111111,
              "#46039f"
             ],
             [
              0.2222222222222222,
              "#7201a8"
             ],
             [
              0.3333333333333333,
              "#9c179e"
             ],
             [
              0.4444444444444444,
              "#bd3786"
             ],
             [
              0.5555555555555556,
              "#d8576b"
             ],
             [
              0.6666666666666666,
              "#ed7953"
             ],
             [
              0.7777777777777778,
              "#fb9f3a"
             ],
             [
              0.8888888888888888,
              "#fdca26"
             ],
             [
              1.0,
              "#f0f921"
             ]
            ]
           }
          ],
          "contourcarpet": [
           {
            "type": "contourcarpet",
            "colorbar": {
             "outlinewidth": 0,
             "ticks": ""
            }
           }
          ],
          "contour": [
           {
            "type": "contour",
            "colorbar": {
             "outlinewidth": 0,
             "ticks": ""
            },
            "colorscale": [
             [
              0.0,
              "#0d0887"
             ],
             [
              0.1111111111111111,
              "#46039f"
             ],
             [
              0.2222222222222222,
              "#7201a8"
             ],
             [
              0.3333333333333333,
              "#9c179e"
             ],
             [
              0.4444444444444444,
              "#bd3786"
             ],
             [
              0.5555555555555556,
              "#d8576b"
             ],
             [
              0.6666666666666666,
              "#ed7953"
             ],
             [
              0.7777777777777778,
              "#fb9f3a"
             ],
             [
              0.8888888888888888,
              "#fdca26"
             ],
             [
              1.0,
              "#f0f921"
             ]
            ]
           }
          ],
          "surface": [
           {
            "type": "surface",
            "colorbar": {
             "outlinewidth": 0,
             "ticks": ""
            },
            "colorscale": [
             [
              0.0,
              "#0d0887"
             ],
             [
              0.1111111111111111,
              "#46039f"
             ],
             [
              0.2222222222222222,
              "#7201a8"
             ],
             [
              0.3333333333333333,
              "#9c179e"
             ],
             [
              0.4444444444444444,
              "#bd3786"
             ],
             [
              0.5555555555555556,
              "#d8576b"
             ],
             [
              0.6666666666666666,
              "#ed7953"
             ],
             [
              0.7777777777777778,
              "#fb9f3a"
             ],
             [
              0.8888888888888888,
              "#fdca26"
             ],
             [
              1.0,
              "#f0f921"
             ]
            ]
           }
          ],
          "mesh3d": [
           {
            "type": "mesh3d",
            "colorbar": {
             "outlinewidth": 0,
             "ticks": ""
            }
           }
          ],
          "scatter": [
           {
            "marker": {
             "line": {
              "color": "#283442"
             }
            },
            "type": "scatter"
           }
          ],
          "parcoords": [
           {
            "type": "parcoords",
            "line": {
             "colorbar": {
              "outlinewidth": 0,
              "ticks": ""
             }
            }
           }
          ],
          "scatterpolargl": [
           {
            "type": "scatterpolargl",
            "marker": {
             "colorbar": {
              "outlinewidth": 0,
              "ticks": ""
             }
            }
           }
          ],
          "bar": [
           {
            "error_x": {
             "color": "#f2f5fa"
            },
            "error_y": {
             "color": "#f2f5fa"
            },
            "marker": {
             "line": {
              "color": "rgb(17,17,17)",
              "width": 0.5
             },
             "pattern": {
              "fillmode": "overlay",
              "size": 10,
              "solidity": 0.2
             }
            },
            "type": "bar"
           }
          ],
          "scattergeo": [
           {
            "type": "scattergeo",
            "marker": {
             "colorbar": {
              "outlinewidth": 0,
              "ticks": ""
             }
            }
           }
          ],
          "scatterpolar": [
           {
            "type": "scatterpolar",
            "marker": {
             "colorbar": {
              "outlinewidth": 0,
              "ticks": ""
             }
            }
           }
          ],
          "histogram": [
           {
            "marker": {
             "pattern": {
              "fillmode": "overlay",
              "size": 10,
              "solidity": 0.2
             }
            },
            "type": "histogram"
           }
          ],
          "scattergl": [
           {
            "marker": {
             "line": {
              "color": "#283442"
             }
            },
            "type": "scattergl"
           }
          ],
          "scatter3d": [
           {
            "type": "scatter3d",
            "line": {
             "colorbar": {
              "outlinewidth": 0,
              "ticks": ""
             }
            },
            "marker": {
             "colorbar": {
              "outlinewidth": 0,
              "ticks": ""
             }
            }
           }
          ],
          "scattermapbox": [
           {
            "type": "scattermapbox",
            "marker": {
             "colorbar": {
              "outlinewidth": 0,
              "ticks": ""
             }
            }
           }
          ],
          "scatterternary": [
           {
            "type": "scatterternary",
            "marker": {
             "colorbar": {
              "outlinewidth": 0,
              "ticks": ""
             }
            }
           }
          ],
          "scattercarpet": [
           {
            "type": "scattercarpet",
            "marker": {
             "colorbar": {
              "outlinewidth": 0,
              "ticks": ""
             }
            }
           }
          ],
          "carpet": [
           {
            "aaxis": {
             "endlinecolor": "#A2B1C6",
             "gridcolor": "#506784",
             "linecolor": "#506784",
             "minorgridcolor": "#506784",
             "startlinecolor": "#A2B1C6"
            },
            "baxis": {
             "endlinecolor": "#A2B1C6",
             "gridcolor": "#506784",
             "linecolor": "#506784",
             "minorgridcolor": "#506784",
             "startlinecolor": "#A2B1C6"
            },
            "type": "carpet"
           }
          ],
          "table": [
           {
            "cells": {
             "fill": {
              "color": "#506784"
             },
             "line": {
              "color": "rgb(17,17,17)"
             }
            },
            "header": {
             "fill": {
              "color": "#2a3f5f"
             },
             "line": {
              "color": "rgb(17,17,17)"
             }
            },
            "type": "table"
           }
          ],
          "barpolar": [
           {
            "marker": {
             "line": {
              "color": "rgb(17,17,17)",
              "width": 0.5
             },
             "pattern": {
              "fillmode": "overlay",
              "size": 10,
              "solidity": 0.2
             }
            },
            "type": "barpolar"
           }
          ],
          "pie": [
           {
            "automargin": true,
            "type": "pie"
           }
          ]
         },
         "layout": {
          "autotypenumbers": "strict",
          "colorway": [
           "#636efa",
           "#EF553B",
           "#00cc96",
           "#ab63fa",
           "#FFA15A",
           "#19d3f3",
           "#FF6692",
           "#B6E880",
           "#FF97FF",
           "#FECB52"
          ],
          "font": {
           "color": "#f2f5fa"
          },
          "hovermode": "closest",
          "hoverlabel": {
           "align": "left"
          },
          "paper_bgcolor": "rgb(17,17,17)",
          "plot_bgcolor": "rgb(17,17,17)",
          "polar": {
           "bgcolor": "rgb(17,17,17)",
           "angularaxis": {
            "gridcolor": "#506784",
            "linecolor": "#506784",
            "ticks": ""
           },
           "radialaxis": {
            "gridcolor": "#506784",
            "linecolor": "#506784",
            "ticks": ""
           }
          },
          "ternary": {
           "bgcolor": "rgb(17,17,17)",
           "aaxis": {
            "gridcolor": "#506784",
            "linecolor": "#506784",
            "ticks": ""
           },
           "baxis": {
            "gridcolor": "#506784",
            "linecolor": "#506784",
            "ticks": ""
           },
           "caxis": {
            "gridcolor": "#506784",
            "linecolor": "#506784",
            "ticks": ""
           }
          },
          "coloraxis": {
           "colorbar": {
            "outlinewidth": 0,
            "ticks": ""
           }
          },
          "colorscale": {
           "sequential": [
            [
             0.0,
             "#0d0887"
            ],
            [
             0.1111111111111111,
             "#46039f"
            ],
            [
             0.2222222222222222,
             "#7201a8"
            ],
            [
             0.3333333333333333,
             "#9c179e"
            ],
            [
             0.4444444444444444,
             "#bd3786"
            ],
            [
             0.5555555555555556,
             "#d8576b"
            ],
            [
             0.6666666666666666,
             "#ed7953"
            ],
            [
             0.7777777777777778,
             "#fb9f3a"
            ],
            [
             0.8888888888888888,
             "#fdca26"
            ],
            [
             1.0,
             "#f0f921"
            ]
           ],
           "sequentialminus": [
            [
             0.0,
             "#0d0887"
            ],
            [
             0.1111111111111111,
             "#46039f"
            ],
            [
             0.2222222222222222,
             "#7201a8"
            ],
            [
             0.3333333333333333,
             "#9c179e"
            ],
            [
             0.4444444444444444,
             "#bd3786"
            ],
            [
             0.5555555555555556,
             "#d8576b"
            ],
            [
             0.6666666666666666,
             "#ed7953"
            ],
            [
             0.7777777777777778,
             "#fb9f3a"
            ],
            [
             0.8888888888888888,
             "#fdca26"
            ],
            [
             1.0,
             "#f0f921"
            ]
           ],
           "diverging": [
            [
             0,
             "#8e0152"
            ],
            [
             0.1,
             "#c51b7d"
            ],
            [
             0.2,
             "#de77ae"
            ],
            [
             0.3,
             "#f1b6da"
            ],
            [
             0.4,
             "#fde0ef"
            ],
            [
             0.5,
             "#f7f7f7"
            ],
            [
             0.6,
             "#e6f5d0"
            ],
            [
             0.7,
             "#b8e186"
            ],
            [
             0.8,
             "#7fbc41"
            ],
            [
             0.9,
             "#4d9221"
            ],
            [
             1,
             "#276419"
            ]
           ]
          },
          "xaxis": {
           "gridcolor": "#283442",
           "linecolor": "#506784",
           "ticks": "",
           "title": {
            "standoff": 15
           },
           "zerolinecolor": "#283442",
           "automargin": true,
           "zerolinewidth": 2
          },
          "yaxis": {
           "gridcolor": "#283442",
           "linecolor": "#506784",
           "ticks": "",
           "title": {
            "standoff": 15
           },
           "zerolinecolor": "#283442",
           "automargin": true,
           "zerolinewidth": 2
          },
          "scene": {
           "xaxis": {
            "backgroundcolor": "rgb(17,17,17)",
            "gridcolor": "#506784",
            "linecolor": "#506784",
            "showbackground": true,
            "ticks": "",
            "zerolinecolor": "#C8D4E3",
            "gridwidth": 2
           },
           "yaxis": {
            "backgroundcolor": "rgb(17,17,17)",
            "gridcolor": "#506784",
            "linecolor": "#506784",
            "showbackground": true,
            "ticks": "",
            "zerolinecolor": "#C8D4E3",
            "gridwidth": 2
           },
           "zaxis": {
            "backgroundcolor": "rgb(17,17,17)",
            "gridcolor": "#506784",
            "linecolor": "#506784",
            "showbackground": true,
            "ticks": "",
            "zerolinecolor": "#C8D4E3",
            "gridwidth": 2
           }
          },
          "shapedefaults": {
           "line": {
            "color": "#f2f5fa"
           }
          },
          "annotationdefaults": {
           "arrowcolor": "#f2f5fa",
           "arrowhead": 0,
           "arrowwidth": 1
          },
          "geo": {
           "bgcolor": "rgb(17,17,17)",
           "landcolor": "rgb(17,17,17)",
           "subunitcolor": "#506784",
           "showland": true,
           "showlakes": true,
           "lakecolor": "rgb(17,17,17)"
          },
          "title": {
           "x": 0.05
          },
          "updatemenudefaults": {
           "bgcolor": "#506784",
           "borderwidth": 0
          },
          "sliderdefaults": {
           "bgcolor": "#C8D4E3",
           "borderwidth": 1,
           "bordercolor": "rgb(17,17,17)",
           "tickwidth": 0
          },
          "mapbox": {
           "style": "dark"
          }
         }
        },
        "xaxis": {
         "anchor": "y",
         "domain": [
          0.0,
          0.31999999999999995
         ],
         "title": {
          "text": "Dimensione array"
         }
        },
        "yaxis": {
         "anchor": "x",
         "domain": [
          0.0,
          1.0
         ],
         "title": {
          "text": "Time (s)"
         }
        },
        "xaxis2": {
         "anchor": "y2",
         "domain": [
          0.33999999999999997,
          0.6599999999999999
         ],
         "matches": "x",
         "title": {
          "text": "Dimensione array"
         }
        },
        "yaxis2": {
         "anchor": "x2",
         "domain": [
          0.0,
          1.0
         ],
         "matches": "y",
         "showticklabels": false
        },
        "xaxis3": {
         "anchor": "y3",
         "domain": [
          0.6799999999999999,
          0.9999999999999999
         ],
         "matches": "x",
         "title": {
          "text": "Dimensione array"
         }
        },
        "yaxis3": {
         "anchor": "x3",
         "domain": [
          0.0,
          1.0
         ],
         "matches": "y",
         "showticklabels": false
        },
        "annotations": [
         {
          "font": {},
          "showarrow": false,
          "text": "Tipo di input=random",
          "x": 0.15999999999999998,
          "xanchor": "center",
          "xref": "paper",
          "y": 1.0,
          "yanchor": "bottom",
          "yref": "paper"
         },
         {
          "font": {},
          "showarrow": false,
          "text": "Tipo di input=sorted",
          "x": 0.49999999999999994,
          "xanchor": "center",
          "xref": "paper",
          "y": 1.0,
          "yanchor": "bottom",
          "yref": "paper"
         },
         {
          "font": {},
          "showarrow": false,
          "text": "Tipo di input=reversed",
          "x": 0.8399999999999999,
          "xanchor": "center",
          "xref": "paper",
          "y": 1.0,
          "yanchor": "bottom",
          "yref": "paper"
         }
        ],
        "legend": {
         "title": {
          "text": "test_type"
         },
         "tracegroupgap": 0
        },
        "title": {
         "text": "Sorting algorithms"
        }
       },
       "config": {
        "plotlyServerURL": "https://plot.ly"
       }
      },
      "text/html": "<div>                            <div id=\"36f025d7-9da0-41f1-838b-aeeb4a817aec\" class=\"plotly-graph-div\" style=\"height:525px; width:100%;\"></div>            <script type=\"text/javascript\">                require([\"plotly\"], function(Plotly) {                    window.PLOTLYENV=window.PLOTLYENV || {};                                    if (document.getElementById(\"36f025d7-9da0-41f1-838b-aeeb4a817aec\")) {                    Plotly.newPlot(                        \"36f025d7-9da0-41f1-838b-aeeb4a817aec\",                        [{\"hovertemplate\":\"test_type=insertion_sort<br>Tipo di input=random<br>Dimensione array=%{x}<br>Time (s)=%{y}<extra></extra>\",\"legendgroup\":\"insertion_sort\",\"line\":{\"color\":\"#636efa\",\"dash\":\"solid\"},\"marker\":{\"symbol\":\"circle\"},\"mode\":\"lines\",\"name\":\"insertion_sort\",\"orientation\":\"v\",\"showlegend\":true,\"x\":[10,20,30,40,50,60,70,80,90,100,110,120,130,140,150,160,170,180,190,200,210,220,230,240,250,260,270,280,290,300,310,320,330,340,350,360,370,380,390,400,410,420,430,440,450,460,470,480,490,500,510,520,530,540,550,560,570,580,590,600,610,620,630,640,650,660,670,680,690,700,710,720,730,740,750,760,770,780,790,800,810,820,830,840,850,860,870,880,890,900,910,920,930,940,950,960,970,980,990],\"xaxis\":\"x\",\"y\":[4.8999791033566e-06,1.300001167692244e-05,2.7400004910305142e-05,4.6200002543628216e-05,7.700000423938036e-05,0.00010060000931844115,0.00013729999773204327,0.00017759998445399106,0.00022190000163391232,0.0002741000207606703,0.00030780001543462276,0.0004227000172249973,0.00046209999709390104,0.0004957999917678535,0.0005055999790783972,0.0006678999925497919,0.0012271000014152378,0.0008094000222627074,0.0012923000031150877,0.0009160000190604478,0.0010909000120591372,0.001565800019307062,0.001378899993142113,0.0013578000070992857,0.0016121000226121396,0.0016672000056132674,0.001792299997759983,0.001973400008864701,0.0020570000051520765,0.002291200013132766,0.0025670999893918633,0.003181600011885166,0.0028618999931495637,0.002739599993219599,0.003090200014412403,0.0032103999983519316,0.003488200018182397,0.0035676999832503498,0.003947899997001514,0.003815300005953759,0.004789099999470636,0.004857299994910136,0.00487889998476021,0.005239199992502108,0.005651900020893663,0.005183400004170835,0.005988899996737018,0.006079999991925433,0.006244599993806332,0.00891189998947084,0.007209400006104261,0.008223400014685467,0.007810300012351945,0.008233700005803257,0.008627200004411861,0.008082899992587045,0.00847929998417385,0.009334399976069108,0.010243199998512864,0.01078750001033768,0.011593200004426762,0.013282300002174452,0.011140899994643405,0.01242769998498261,0.011194399994565174,0.01235070000984706,0.013004500011447817,0.019697499985340983,0.014964999980293214,0.014842100004898384,0.031570700026350096,0.01624439997249283,0.018110600009094924,0.016286400001263246,0.015992900007404387,0.015695700014475733,0.016116200014948845,0.01709170002141036,0.018186300003435463,0.021159900003112853,0.019931399991037324,0.01923579999129288,0.018942800001241267,0.020004899997729808,0.021688100008759648,0.02067600001464598,0.022313900000881404,0.02138550000381656,0.021325899986550212,0.02273070000228472,0.023586700001033023,0.024164299975382164,0.02337989999796264,0.024611300003016368,0.024880999990273267,0.0250168000056874,0.026856000011321157,0.025399800011655316,0.027061200002208352],\"yaxis\":\"y\",\"type\":\"scatter\"},{\"hovertemplate\":\"test_type=insertion_sort<br>Tipo di input=sorted<br>Dimensione array=%{x}<br>Time (s)=%{y}<extra></extra>\",\"legendgroup\":\"insertion_sort\",\"line\":{\"color\":\"#636efa\",\"dash\":\"solid\"},\"marker\":{\"symbol\":\"circle\"},\"mode\":\"lines\",\"name\":\"insertion_sort\",\"orientation\":\"v\",\"showlegend\":false,\"x\":[10,20,30,40,50,60,70,80,90,100,110,120,130,140,150,160,170,180,190,200,210,220,230,240,250,260,270,280,290,300,310,320,330,340,350,360,370,380,390,400,410,420,430,440,450,460,470,480,490,500,510,520,530,540,550,560,570,580,590,600,610,620,630,640,650,660,670,680,690,700,710,720,730,740,750,760,770,780,790,800,810,820,830,840,850,860,870,880,890,900,910,920,930,940,950,960,970,980,990],\"xaxis\":\"x2\",\"y\":[2.400018274784088e-06,2.900022082030773e-06,4.1000021155923605e-06,5.2000104915350676e-06,6.099988240748644e-06,7.300026481971145e-06,8.499977411702275e-06,9.600014891475439e-06,1.0599993402138352e-05,1.170000177808106e-05,1.2899981811642647e-05,1.5700003132224083e-05,1.5099998563528061e-05,1.6299978597089648e-05,1.7400016076862812e-05,1.8499995348975062e-05,1.969997538253665e-05,2.0800012862309813e-05,2.1899992134422064e-05,2.3100001271814108e-05,2.4200009647756815e-05,2.5300018023699522e-05,2.6399997295811772e-05,2.750000567175448e-05,2.8699985705316067e-05,3.070000093430281e-05,3.190001007169485e-05,3.320001997053623e-05,3.399999695830047e-05,3.549997927621007e-05,3.6699988413602114e-05,3.789999755099416e-05,3.920000744983554e-05,4.060001811012626e-05,4.189999890513718e-05,4.300000728107989e-05,4.429998807609081e-05,4.579999949783087e-05,4.710000939667225e-05,4.839999019168317e-05,4.959999932907522e-05,5.1000009989365935e-05,5.2300019888207316e-05,8.299999171867967e-05,5.549998604692519e-05,5.880001117475331e-05,5.780000356025994e-05,5.910001345910132e-05,6.04000233579427e-05,6.169997504912317e-05,6.310001481324434e-05,6.44999963697046e-05,6.580000626854599e-05,6.72000169288367e-05,6.930000381544232e-05,6.980000762268901e-05,7.320000440813601e-05,7.259999983943999e-05,7.420001202262938e-05,7.539999205619097e-05,7.69999751355499e-05,7.829998503439128e-05,7.959999493323267e-05,8.100000559352338e-05,8.220001473091543e-05,8.359999628737569e-05,8.479997632093728e-05,8.629998774267733e-05,8.769999840296805e-05,8.900000830180943e-05,9.040001896210015e-05,9.169999975711107e-05,9.329998283647001e-05,9.389998740516603e-05,9.839999256655574e-05,9.670000872574747e-05,9.810001938603818e-05,9.940000018104911e-05,0.00010080001084133983,0.00010210002074018121,0.00010340000153519213,0.00010470001143403351,0.00010599999222904444,0.00010740000288933516,0.0001086000120267272,0.00011010002344846725,0.00011170000652782619,0.00011279998579993844,0.00011809999705292284,0.0001154000055976212,0.00011680001625791192,0.00011809999705292284,0.00011950000771321356,0.00012089998926967382,0.00012199999764561653,0.0001233999792020768,0.00012509999214671552,0.00012670000432990491,0.0001281999866478145],\"yaxis\":\"y2\",\"type\":\"scatter\"},{\"hovertemplate\":\"test_type=insertion_sort<br>Tipo di input=reversed<br>Dimensione array=%{x}<br>Time (s)=%{y}<extra></extra>\",\"legendgroup\":\"insertion_sort\",\"line\":{\"color\":\"#636efa\",\"dash\":\"solid\"},\"marker\":{\"symbol\":\"circle\"},\"mode\":\"lines\",\"name\":\"insertion_sort\",\"orientation\":\"v\",\"showlegend\":false,\"x\":[10,20,30,40,50,60,70,80,90,100,110,120,130,140,150,160,170,180,190,200,210,220,230,240,250,260,270,280,290,300,310,320,330,340,350,360,370,380,390,400,410,420,430,440,450,460,470,480,490,500,510,520,530,540,550,560,570,580,590,600,610,620,630,640,650,660,670,680,690,700,710,720,730,740,750,760,770,780,790,800,810,820,830,840,850,860,870,880,890,900,910,920,930,940,950,960,970,980,990],\"xaxis\":\"x3\",\"y\":[7.199996616691351e-06,2.19999928958714e-05,4.7200010158121586e-05,8.220001473091543e-05,0.00012779998360201716,0.0001826000225264579,0.00029409999842755497,0.0003226000117138028,0.00040839999564923346,0.0005017999792471528,0.0006058999861124903,0.0007243000145535916,0.0008447000000160187,0.0009803999855648726,0.0011257999867666513,0.0014049999881535769,0.001670500001637265,0.001819099998101592,0.0017690999957267195,0.0019496000022627413,0.0021807000157423317,0.0023929000017233193,0.0026171999925281852,0.003700900007970631,0.003373899991856888,0.003346799989230931,0.0035943999828305095,0.003971500002080575,0.0043187999981455505,0.0046857999986968935,0.004797800007509068,0.005095799977425486,0.0067214999871794134,0.005816899996716529,0.007124700001440942,0.006649099988862872,0.007274800009327009,0.00725100000272505,0.008489100000588223,0.009587100008502603,0.009135000000242144,0.009322600002633408,0.01079800000297837,0.010486099985428154,0.01057880002190359,0.012828899984015152,0.012792399997124448,0.01378790001035668,0.0161468000151217,0.012518600007751957,0.01322169997729361,0.013619200006360188,0.014198399992892519,0.01635219997842796,0.016585500008659437,0.018033100001048297,0.017993799992837012,0.0178056999866385,0.018585000012535602,0.01919000002089888,0.021887200011406094,0.021464499994181097,0.02205240001785569,0.023031899996567518,0.022224600019399077,0.023828099976526573,0.024435200000880286,0.024328699975740165,0.025725400017108768,0.026395199995022267,0.027044299989938736,0.03180820000125095,0.043361200019717216,0.03794189999462105,0.04801840000436641,0.046211900014895946,0.03424899998935871,0.033702999993693084,0.04225709999445826,0.03603439999278635,0.037110600009327754,0.03787759999977425,0.04495459998724982,0.0405025000218302,0.04114169999957085,0.03853680001338944,0.04141829998116009,0.041641100018750876,0.04052360000787303,0.042519899987382814,0.04417710000416264,0.04631519998656586,0.04739039999549277,0.04733279999345541,0.04757170000812039,0.048567899997578934,0.05025900001055561,0.05630959998234175,0.05388290001428686],\"yaxis\":\"y3\",\"type\":\"scatter\"}],                        {\"template\":{\"data\":{\"histogram2dcontour\":[{\"type\":\"histogram2dcontour\",\"colorbar\":{\"outlinewidth\":0,\"ticks\":\"\"},\"colorscale\":[[0.0,\"#0d0887\"],[0.1111111111111111,\"#46039f\"],[0.2222222222222222,\"#7201a8\"],[0.3333333333333333,\"#9c179e\"],[0.4444444444444444,\"#bd3786\"],[0.5555555555555556,\"#d8576b\"],[0.6666666666666666,\"#ed7953\"],[0.7777777777777778,\"#fb9f3a\"],[0.8888888888888888,\"#fdca26\"],[1.0,\"#f0f921\"]]}],\"choropleth\":[{\"type\":\"choropleth\",\"colorbar\":{\"outlinewidth\":0,\"ticks\":\"\"}}],\"histogram2d\":[{\"type\":\"histogram2d\",\"colorbar\":{\"outlinewidth\":0,\"ticks\":\"\"},\"colorscale\":[[0.0,\"#0d0887\"],[0.1111111111111111,\"#46039f\"],[0.2222222222222222,\"#7201a8\"],[0.3333333333333333,\"#9c179e\"],[0.4444444444444444,\"#bd3786\"],[0.5555555555555556,\"#d8576b\"],[0.6666666666666666,\"#ed7953\"],[0.7777777777777778,\"#fb9f3a\"],[0.8888888888888888,\"#fdca26\"],[1.0,\"#f0f921\"]]}],\"heatmap\":[{\"type\":\"heatmap\",\"colorbar\":{\"outlinewidth\":0,\"ticks\":\"\"},\"colorscale\":[[0.0,\"#0d0887\"],[0.1111111111111111,\"#46039f\"],[0.2222222222222222,\"#7201a8\"],[0.3333333333333333,\"#9c179e\"],[0.4444444444444444,\"#bd3786\"],[0.5555555555555556,\"#d8576b\"],[0.6666666666666666,\"#ed7953\"],[0.7777777777777778,\"#fb9f3a\"],[0.8888888888888888,\"#fdca26\"],[1.0,\"#f0f921\"]]}],\"heatmapgl\":[{\"type\":\"heatmapgl\",\"colorbar\":{\"outlinewidth\":0,\"ticks\":\"\"},\"colorscale\":[[0.0,\"#0d0887\"],[0.1111111111111111,\"#46039f\"],[0.2222222222222222,\"#7201a8\"],[0.3333333333333333,\"#9c179e\"],[0.4444444444444444,\"#bd3786\"],[0.5555555555555556,\"#d8576b\"],[0.6666666666666666,\"#ed7953\"],[0.7777777777777778,\"#fb9f3a\"],[0.8888888888888888,\"#fdca26\"],[1.0,\"#f0f921\"]]}],\"contourcarpet\":[{\"type\":\"contourcarpet\",\"colorbar\":{\"outlinewidth\":0,\"ticks\":\"\"}}],\"contour\":[{\"type\":\"contour\",\"colorbar\":{\"outlinewidth\":0,\"ticks\":\"\"},\"colorscale\":[[0.0,\"#0d0887\"],[0.1111111111111111,\"#46039f\"],[0.2222222222222222,\"#7201a8\"],[0.3333333333333333,\"#9c179e\"],[0.4444444444444444,\"#bd3786\"],[0.5555555555555556,\"#d8576b\"],[0.6666666666666666,\"#ed7953\"],[0.7777777777777778,\"#fb9f3a\"],[0.8888888888888888,\"#fdca26\"],[1.0,\"#f0f921\"]]}],\"surface\":[{\"type\":\"surface\",\"colorbar\":{\"outlinewidth\":0,\"ticks\":\"\"},\"colorscale\":[[0.0,\"#0d0887\"],[0.1111111111111111,\"#46039f\"],[0.2222222222222222,\"#7201a8\"],[0.3333333333333333,\"#9c179e\"],[0.4444444444444444,\"#bd3786\"],[0.5555555555555556,\"#d8576b\"],[0.6666666666666666,\"#ed7953\"],[0.7777777777777778,\"#fb9f3a\"],[0.8888888888888888,\"#fdca26\"],[1.0,\"#f0f921\"]]}],\"mesh3d\":[{\"type\":\"mesh3d\",\"colorbar\":{\"outlinewidth\":0,\"ticks\":\"\"}}],\"scatter\":[{\"marker\":{\"line\":{\"color\":\"#283442\"}},\"type\":\"scatter\"}],\"parcoords\":[{\"type\":\"parcoords\",\"line\":{\"colorbar\":{\"outlinewidth\":0,\"ticks\":\"\"}}}],\"scatterpolargl\":[{\"type\":\"scatterpolargl\",\"marker\":{\"colorbar\":{\"outlinewidth\":0,\"ticks\":\"\"}}}],\"bar\":[{\"error_x\":{\"color\":\"#f2f5fa\"},\"error_y\":{\"color\":\"#f2f5fa\"},\"marker\":{\"line\":{\"color\":\"rgb(17,17,17)\",\"width\":0.5},\"pattern\":{\"fillmode\":\"overlay\",\"size\":10,\"solidity\":0.2}},\"type\":\"bar\"}],\"scattergeo\":[{\"type\":\"scattergeo\",\"marker\":{\"colorbar\":{\"outlinewidth\":0,\"ticks\":\"\"}}}],\"scatterpolar\":[{\"type\":\"scatterpolar\",\"marker\":{\"colorbar\":{\"outlinewidth\":0,\"ticks\":\"\"}}}],\"histogram\":[{\"marker\":{\"pattern\":{\"fillmode\":\"overlay\",\"size\":10,\"solidity\":0.2}},\"type\":\"histogram\"}],\"scattergl\":[{\"marker\":{\"line\":{\"color\":\"#283442\"}},\"type\":\"scattergl\"}],\"scatter3d\":[{\"type\":\"scatter3d\",\"line\":{\"colorbar\":{\"outlinewidth\":0,\"ticks\":\"\"}},\"marker\":{\"colorbar\":{\"outlinewidth\":0,\"ticks\":\"\"}}}],\"scattermapbox\":[{\"type\":\"scattermapbox\",\"marker\":{\"colorbar\":{\"outlinewidth\":0,\"ticks\":\"\"}}}],\"scatterternary\":[{\"type\":\"scatterternary\",\"marker\":{\"colorbar\":{\"outlinewidth\":0,\"ticks\":\"\"}}}],\"scattercarpet\":[{\"type\":\"scattercarpet\",\"marker\":{\"colorbar\":{\"outlinewidth\":0,\"ticks\":\"\"}}}],\"carpet\":[{\"aaxis\":{\"endlinecolor\":\"#A2B1C6\",\"gridcolor\":\"#506784\",\"linecolor\":\"#506784\",\"minorgridcolor\":\"#506784\",\"startlinecolor\":\"#A2B1C6\"},\"baxis\":{\"endlinecolor\":\"#A2B1C6\",\"gridcolor\":\"#506784\",\"linecolor\":\"#506784\",\"minorgridcolor\":\"#506784\",\"startlinecolor\":\"#A2B1C6\"},\"type\":\"carpet\"}],\"table\":[{\"cells\":{\"fill\":{\"color\":\"#506784\"},\"line\":{\"color\":\"rgb(17,17,17)\"}},\"header\":{\"fill\":{\"color\":\"#2a3f5f\"},\"line\":{\"color\":\"rgb(17,17,17)\"}},\"type\":\"table\"}],\"barpolar\":[{\"marker\":{\"line\":{\"color\":\"rgb(17,17,17)\",\"width\":0.5},\"pattern\":{\"fillmode\":\"overlay\",\"size\":10,\"solidity\":0.2}},\"type\":\"barpolar\"}],\"pie\":[{\"automargin\":true,\"type\":\"pie\"}]},\"layout\":{\"autotypenumbers\":\"strict\",\"colorway\":[\"#636efa\",\"#EF553B\",\"#00cc96\",\"#ab63fa\",\"#FFA15A\",\"#19d3f3\",\"#FF6692\",\"#B6E880\",\"#FF97FF\",\"#FECB52\"],\"font\":{\"color\":\"#f2f5fa\"},\"hovermode\":\"closest\",\"hoverlabel\":{\"align\":\"left\"},\"paper_bgcolor\":\"rgb(17,17,17)\",\"plot_bgcolor\":\"rgb(17,17,17)\",\"polar\":{\"bgcolor\":\"rgb(17,17,17)\",\"angularaxis\":{\"gridcolor\":\"#506784\",\"linecolor\":\"#506784\",\"ticks\":\"\"},\"radialaxis\":{\"gridcolor\":\"#506784\",\"linecolor\":\"#506784\",\"ticks\":\"\"}},\"ternary\":{\"bgcolor\":\"rgb(17,17,17)\",\"aaxis\":{\"gridcolor\":\"#506784\",\"linecolor\":\"#506784\",\"ticks\":\"\"},\"baxis\":{\"gridcolor\":\"#506784\",\"linecolor\":\"#506784\",\"ticks\":\"\"},\"caxis\":{\"gridcolor\":\"#506784\",\"linecolor\":\"#506784\",\"ticks\":\"\"}},\"coloraxis\":{\"colorbar\":{\"outlinewidth\":0,\"ticks\":\"\"}},\"colorscale\":{\"sequential\":[[0.0,\"#0d0887\"],[0.1111111111111111,\"#46039f\"],[0.2222222222222222,\"#7201a8\"],[0.3333333333333333,\"#9c179e\"],[0.4444444444444444,\"#bd3786\"],[0.5555555555555556,\"#d8576b\"],[0.6666666666666666,\"#ed7953\"],[0.7777777777777778,\"#fb9f3a\"],[0.8888888888888888,\"#fdca26\"],[1.0,\"#f0f921\"]],\"sequentialminus\":[[0.0,\"#0d0887\"],[0.1111111111111111,\"#46039f\"],[0.2222222222222222,\"#7201a8\"],[0.3333333333333333,\"#9c179e\"],[0.4444444444444444,\"#bd3786\"],[0.5555555555555556,\"#d8576b\"],[0.6666666666666666,\"#ed7953\"],[0.7777777777777778,\"#fb9f3a\"],[0.8888888888888888,\"#fdca26\"],[1.0,\"#f0f921\"]],\"diverging\":[[0,\"#8e0152\"],[0.1,\"#c51b7d\"],[0.2,\"#de77ae\"],[0.3,\"#f1b6da\"],[0.4,\"#fde0ef\"],[0.5,\"#f7f7f7\"],[0.6,\"#e6f5d0\"],[0.7,\"#b8e186\"],[0.8,\"#7fbc41\"],[0.9,\"#4d9221\"],[1,\"#276419\"]]},\"xaxis\":{\"gridcolor\":\"#283442\",\"linecolor\":\"#506784\",\"ticks\":\"\",\"title\":{\"standoff\":15},\"zerolinecolor\":\"#283442\",\"automargin\":true,\"zerolinewidth\":2},\"yaxis\":{\"gridcolor\":\"#283442\",\"linecolor\":\"#506784\",\"ticks\":\"\",\"title\":{\"standoff\":15},\"zerolinecolor\":\"#283442\",\"automargin\":true,\"zerolinewidth\":2},\"scene\":{\"xaxis\":{\"backgroundcolor\":\"rgb(17,17,17)\",\"gridcolor\":\"#506784\",\"linecolor\":\"#506784\",\"showbackground\":true,\"ticks\":\"\",\"zerolinecolor\":\"#C8D4E3\",\"gridwidth\":2},\"yaxis\":{\"backgroundcolor\":\"rgb(17,17,17)\",\"gridcolor\":\"#506784\",\"linecolor\":\"#506784\",\"showbackground\":true,\"ticks\":\"\",\"zerolinecolor\":\"#C8D4E3\",\"gridwidth\":2},\"zaxis\":{\"backgroundcolor\":\"rgb(17,17,17)\",\"gridcolor\":\"#506784\",\"linecolor\":\"#506784\",\"showbackground\":true,\"ticks\":\"\",\"zerolinecolor\":\"#C8D4E3\",\"gridwidth\":2}},\"shapedefaults\":{\"line\":{\"color\":\"#f2f5fa\"}},\"annotationdefaults\":{\"arrowcolor\":\"#f2f5fa\",\"arrowhead\":0,\"arrowwidth\":1},\"geo\":{\"bgcolor\":\"rgb(17,17,17)\",\"landcolor\":\"rgb(17,17,17)\",\"subunitcolor\":\"#506784\",\"showland\":true,\"showlakes\":true,\"lakecolor\":\"rgb(17,17,17)\"},\"title\":{\"x\":0.05},\"updatemenudefaults\":{\"bgcolor\":\"#506784\",\"borderwidth\":0},\"sliderdefaults\":{\"bgcolor\":\"#C8D4E3\",\"borderwidth\":1,\"bordercolor\":\"rgb(17,17,17)\",\"tickwidth\":0},\"mapbox\":{\"style\":\"dark\"}}},\"xaxis\":{\"anchor\":\"y\",\"domain\":[0.0,0.31999999999999995],\"title\":{\"text\":\"Dimensione array\"}},\"yaxis\":{\"anchor\":\"x\",\"domain\":[0.0,1.0],\"title\":{\"text\":\"Time (s)\"}},\"xaxis2\":{\"anchor\":\"y2\",\"domain\":[0.33999999999999997,0.6599999999999999],\"matches\":\"x\",\"title\":{\"text\":\"Dimensione array\"}},\"yaxis2\":{\"anchor\":\"x2\",\"domain\":[0.0,1.0],\"matches\":\"y\",\"showticklabels\":false},\"xaxis3\":{\"anchor\":\"y3\",\"domain\":[0.6799999999999999,0.9999999999999999],\"matches\":\"x\",\"title\":{\"text\":\"Dimensione array\"}},\"yaxis3\":{\"anchor\":\"x3\",\"domain\":[0.0,1.0],\"matches\":\"y\",\"showticklabels\":false},\"annotations\":[{\"font\":{},\"showarrow\":false,\"text\":\"Tipo di input=random\",\"x\":0.15999999999999998,\"xanchor\":\"center\",\"xref\":\"paper\",\"y\":1.0,\"yanchor\":\"bottom\",\"yref\":\"paper\"},{\"font\":{},\"showarrow\":false,\"text\":\"Tipo di input=sorted\",\"x\":0.49999999999999994,\"xanchor\":\"center\",\"xref\":\"paper\",\"y\":1.0,\"yanchor\":\"bottom\",\"yref\":\"paper\"},{\"font\":{},\"showarrow\":false,\"text\":\"Tipo di input=reversed\",\"x\":0.8399999999999999,\"xanchor\":\"center\",\"xref\":\"paper\",\"y\":1.0,\"yanchor\":\"bottom\",\"yref\":\"paper\"}],\"legend\":{\"title\":{\"text\":\"test_type\"},\"tracegroupgap\":0},\"title\":{\"text\":\"Sorting algorithms\"}},                        {\"responsive\": true}                    ).then(function(){\n                            \nvar gd = document.getElementById('36f025d7-9da0-41f1-838b-aeeb4a817aec');\nvar x = new MutationObserver(function (mutations, observer) {{\n        var display = window.getComputedStyle(gd).display;\n        if (!display || display === 'none') {{\n            console.log([gd, 'removed!']);\n            Plotly.purge(gd);\n            observer.disconnect();\n        }}\n}});\n\n// Listen for the removal of the full notebook cells\nvar notebookContainer = gd.closest('#notebook-container');\nif (notebookContainer) {{\n    x.observe(notebookContainer, {childList: true});\n}}\n\n// Listen for the clearing of the current output cell\nvar outputEl = gd.closest('.output');\nif (outputEl) {{\n    x.observe(outputEl, {childList: true});\n}}\n\n                        })                };                });            </script>        </div>"
     },
     "metadata": {},
     "output_type": "display_data"
    },
    {
     "name": "stdout",
     "output_type": "stream",
     "text": [
      "    num_samples      time       test_type input_type\n",
      "1            10  0.000005  insertion_sort     random\n",
      "2            20  0.000013  insertion_sort     random\n",
      "3            30  0.000027  insertion_sort     random\n",
      "4            40  0.000046  insertion_sort     random\n",
      "5            50  0.000077  insertion_sort     random\n",
      "..          ...       ...             ...        ...\n",
      "95          950  0.024881  insertion_sort     random\n",
      "96          960  0.025017  insertion_sort     random\n",
      "97          970  0.026856  insertion_sort     random\n",
      "98          980  0.025400  insertion_sort     random\n",
      "99          990  0.027061  insertion_sort     random\n",
      "\n",
      "[99 rows x 4 columns]\n"
     ]
    }
   ],
   "source": []
  }
 ],
 "metadata": {
  "kernelspec": {
   "display_name": "Python 3 (ipykernel)",
   "language": "python",
   "name": "python3"
  },
  "language_info": {
   "codemirror_mode": {
    "name": "ipython",
    "version": 3
   },
   "file_extension": ".py",
   "mimetype": "text/x-python",
   "name": "python",
   "nbconvert_exporter": "python",
   "pygments_lexer": "ipython3",
   "version": "3.10.10"
  }
 },
 "nbformat": 4,
 "nbformat_minor": 5
}

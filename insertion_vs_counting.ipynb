{
 "cells": [
  {
   "cell_type": "markdown",
   "id": "6fce8b6c",
   "metadata": {},
   "source": [
    "# Confronto tra Insertion Sort e Counting Sort\n",
    "## Matteo Lotti\n",
    "### Marzo-Aprile 2023"
   ]
  },
  {
   "cell_type": "markdown",
   "id": "78c55621",
   "metadata": {},
   "source": [
    "In questo notebook ci poniamo l'obiettivo di impostare e effettuare un confronto tra due algoritmi di ordinamento. In particolare, i due algoritmi in questione saranno:\n",
    "\n",
    "- __Insertion Sort__\n",
    "\n",
    "- __Counting Sort__\n",
    "\n",
    "Il notebook sarà sviluppato in questo modo:\n",
    "\n",
    "1. Nelle celle successive saranno presenti le implementazioni dei due algoritmi seguiti rispettivamente da una breve spiegazione messa in relazione con le evidenze teoriche conosciute.\n",
    "\n",
    "2. Successivamente sarà presente una cella nella quale saranno implementate le funzioni di test, seguita da un'opportuna spiegazione del codice e dei test che saranno eseguiti\n",
    "\n",
    "3. Saranno effettuati e descritti i dovuti test e i rispettivi risultati\n",
    "\n",
    "4. Nella chiusura tireremo le somme dei risultati ottenuti dagli esperimenti svolti"
   ]
  },
  {
   "cell_type": "markdown",
   "id": "594e3065",
   "metadata": {},
   "source": [
    "## Implementazioni degli algoritmi\n",
    "### Insertion Sort"
   ]
  },
  {
   "cell_type": "code",
   "execution_count": 208,
   "id": "0b68115e",
   "metadata": {},
   "outputs": [],
   "source": [
    "def insertion_sort(arr):\n",
    "    \"\"\"Insertion sort algorithm.\n",
    "\n",
    "    Args:\n",
    "        arr (list): Array to be sorted.\n",
    "\n",
    "    Returns:\n",
    "        list: Sorted array.\n",
    "\n",
    "    Time complexity: O(n^2)\n",
    "    \"\"\"\n",
    "    for i in range(1, len(arr)):\n",
    "        key = arr[i]\n",
    "        j = i - 1\n",
    "        while j >= 0 and key < arr[j]:\n",
    "            arr[j + 1] = arr[j]\n",
    "            j -= 1\n",
    "        arr[j + 1] = key\n",
    "    return arr"
   ]
  },
  {
   "cell_type": "markdown",
   "id": "cd3db634",
   "metadata": {},
   "source": [
    "Nella cella sovrastante possiamo vedere l'implementazione dell'algoritmo di ordinamento __Insertion Sort__. L'algoritmo si basa su un ciclo _for_ iniziale nel quale si inizializza la variabile _key_ con il valore all'indice _i_ dell'array da ordinare. All'interno del _for_ un ciclo _while_ ci permette di iterare sugli elementi precedenti a _key_ in modo tale da posizionare il valore di _key_ correttamente. Al termine di ogni esecuzione del ciclo _for_, i primi _i_ elementi saranno ordinati e quando termina l'algoritmo tutto l'array sarà ordinato correttamente.\n",
    "\n",
    "Il tempo di esecuzione dell'algoritmo è pari a _O(n^2)_ in quanto ogni elemento viene confrontato con tutti gli elementi precedenti a lui.\n",
    "\n",
    "Nel caso peggiore, l'array è ordinato in modo inverso, quindi l'algoritmo dovrà effettuare _n-1_ confronti per il primo elemento, _n-2_ per il secondo, _n-3_ per il terzo e così via. Quindi il numero totale di confronti sarà pari a: $$\\sum_{i=1}^{n-1} i = \\frac{(n-1)(n)}{2} = \\frac{n^2-n}{2}$$\n",
    "e il tempo di esecuzione sarà pari a: $$\\frac{n^2-n}{2} \\cdot c$$ dove _c_ è il tempo di esecuzione di un singolo confronto. Percò il tempo di esecuzione è sempre pari a _Θ(n^2)_.\n",
    "\n",
    "Nel caso migliore, l'array è già ordinato, quindi l'algoritmo non dovrà effettuare alcun confronto. Quindi il tempo di esecuzione sarà pari a: $$n \\cdot c$$ dove _c_ è il tempo di esecuzione di un singolo confronto."
   ]
  },
  {
   "cell_type": "markdown",
   "id": "7af2bd67",
   "metadata": {},
   "source": [
    "### Counting Sort"
   ]
  },
  {
   "cell_type": "code",
   "execution_count": 209,
   "id": "d1e62f77",
   "metadata": {},
   "outputs": [],
   "source": [
    "def counting_sort(arr):\n",
    "    \"\"\"Counting sort algorithm.\n",
    "\n",
    "    Args:\n",
    "        arr (list): Array to be sorted.\n",
    "\n",
    "    Returns:\n",
    "        list: Sorted array.\n",
    "\n",
    "    Time complexity: O(n+k)\n",
    "\n",
    "    k is the value of the maximum element in the array.\n",
    "    \"\"\"\n",
    "    if not arr:\n",
    "        return arr\n",
    "    max_element = max(arr) #k\n",
    "    count_array = [0] * (max_element + 1) #primo for\n",
    "\n",
    "    for element in arr:\n",
    "        count_array[element] += 1\n",
    "\n",
    "    for i in range(1, len(count_array)):\n",
    "        count_array[i] += count_array[i-1]\n",
    "\n",
    "    sorted_array = [0] * len(arr)\n",
    "    for element in reversed(arr):\n",
    "        sorted_array[count_array[element]-1] = element #-1 perché indicizzazione parte da 0\n",
    "        count_array[element] -= 1\n",
    "\n",
    "    return sorted_array\n"
   ]
  },
  {
   "cell_type": "markdown",
   "id": "23fb1f6b",
   "metadata": {},
   "source": [
    "Nella cella sovrastante troviamo l'algoritmo di ordinamento __Counting Sort__. Sottlineamo il fatto che questo algoritmi è utilizzabile solo per liste di numeri interi. Non è un algoritmo che opera per confronti, ma si basa sul determinare la posizione di ogni elemento nell'array ordinato in base a quanti sono gli elementi minori o uguali ad esso. In particolare, è necessario un array di appoggio di dimensione _max_element_, dove _max_element_ non è altro che il valore massimo presente nell'array di partenza. Successivamente, dopo aver inzializzato quest'array con tutti 0, incrementiamo di 1 l'elemento di indice _i_ per ogni elemento uguale a _i_ nell'array iniziale; poi scorriamo l'array di appoggio sommando ad ogni elemento tutti gli elementi ad esso precedenti. Quello che otteniamo dopo queste due operazioni non è altro che un array di appoggio in cui l'elemento di indice _x_ ha come valore il numero di elementi minori o uguali a _x_ nell'array iniziale. L'ultimo passaggio è quello di copiare su un nuovo array gli elementi ordinati, considerando che nell'array di appoggio l'elemento con indice _x_ risulta essere la posizione di _x_ nell'array ordinato. Decrementando poi progressivamente i valori dell'array di appoggio si riescono a gestire anche ventuali copie multiple di uno stesso valore.\n",
    "\n",
    "L'algoritmo scorre per due volte l'array iniziale e per due volte l'array di appoggio. Per l'array iniziale il costo sarà _Θ(n)_ dove _n_ è la dimensione dell'array, mentre per l'array di appoggio il costo sarà _Θ(k)_ dove _k_ non è altro che il massimo valore presente nell'array iniziale. Quindi il tempo di esecuzione è sempre pari a _Θ(n+k)_, che diventa _Θ(n)_ nel caso in cui _k=O(n)_."
   ]
  },
  {
   "cell_type": "markdown",
   "id": "71f0e1a4",
   "metadata": {},
   "source": [
    "## Implementazione e spiegazione delle funzioni di test"
   ]
  },
  {
   "cell_type": "code",
   "execution_count": 210,
   "id": "d05763a2",
   "metadata": {},
   "outputs": [],
   "source": [
    "import pandas as pd\n",
    "import plotly.express as px\n",
    "from enum import Enum\n",
    "from dataclasses import dataclass, field\n",
    "from timeit import default_timer as timer\n",
    "import numpy as np\n",
    "\n",
    "\n",
    "class InputType(Enum):\n",
    "    \"\"\"Select the type of input.\"\"\"\n",
    "\n",
    "    random = 1\n",
    "    \"\"\"Random input.\"\"\"\n",
    "    sorted = 2\n",
    "    \"\"\"Sorted input.\"\"\"\n",
    "    reversed = 3\n",
    "    \"\"\"Reversed input.\"\"\"\n",
    "\n",
    "class SelectTestType(Enum):\n",
    "    \"\"\"Select the type of sorting test.\"\"\"\n",
    "\n",
    "    insertion_sort = 1\n",
    "    \"\"\"Insertion sort.\"\"\"\n",
    "    counting_sort = 2\n",
    "    \"\"\"Counting sort.\"\"\"\n",
    "\n",
    "@dataclass\n",
    "class InputConfig:\n",
    "    \"\"\"Input configuration.\"\"\"\n",
    "\n",
    "    num_samples: int = 1000\n",
    "    \"\"\"Number of samples.\"\"\"\n",
    "    sample_range: tuple[int, int] = (0, 5000)\n",
    "    \"\"\"Range of the samples.\"\"\"\n",
    "    input_type: InputType = InputType.random\n",
    "    \"\"\"Type of input.\"\"\"\n",
    "\n",
    "\n",
    "@dataclass\n",
    "class InputGenerator:\n",
    "    \"\"\"Input generator.\"\"\"\n",
    "\n",
    "    input_config: InputConfig = InputConfig()\n",
    "    \"\"\"Input configuration.\"\"\"\n",
    "\n",
    "    data: list[int] = field(init=False, default_factory=list)\n",
    "    \"\"\"Data to be used for the tests.\"\"\"\n",
    "\n",
    "    def __post_init__(self):\n",
    "        \"\"\"Initialize the data.\"\"\"\n",
    "        self.data = self._generate()\n",
    "\n",
    "    def _generate(self) -> list[int]:\n",
    "        \"\"\"Generate the data.\"\"\"\n",
    "        match self.input_config.input_type:\n",
    "            case InputType.random:\n",
    "                data = np.random.randint(\n",
    "                    self.input_config.sample_range[0],\n",
    "                    self.input_config.sample_range[1],\n",
    "                    self.input_config.num_samples,\n",
    "                )\n",
    "            case InputType.sorted:\n",
    "                data = np.sort(np.random.randint(\n",
    "                    self.input_config.sample_range[0],\n",
    "                    self.input_config.sample_range[1],\n",
    "                    self.input_config.num_samples,\n",
    "                ))\n",
    "            case InputType.reversed:\n",
    "                data = np.sort(np.random.randint(\n",
    "                    self.input_config.sample_range[0],\n",
    "                    self.input_config.sample_range[1],\n",
    "                    self.input_config.num_samples,\n",
    "                ))\n",
    "                data = data[::-1]\n",
    "            case _:\n",
    "                raise ValueError(\"Invalid input type.\")\n",
    "        return data.tolist()\n",
    "\n",
    "def insertion_test(input_data: list[int]) -> float:\n",
    "    \"\"\"Test the insertion sort algorithm.\"\"\"\n",
    "    start = timer()\n",
    "    insertion_sort(input_data)\n",
    "    end = timer()\n",
    "    return end - start\n",
    "\n",
    "def counting_test(input_data: list[int]) -> float:\n",
    "    \"\"\"Test the counting sort algorithm.\"\"\"\n",
    "    start = timer()\n",
    "    counting_sort(input_data)\n",
    "    end = timer()\n",
    "    return end - start\n",
    "\n",
    "def test(test_type: SelectTestType, input_type: InputType, num_samples: int, sample_range: tuple[int, int], step: int) -> pd.DataFrame:\n",
    "    \"\"\"Test the sorting algorithms.\n",
    "\n",
    "    Args:\n",
    "        test_type (SelectTestType): Type of sorting algorithm to test.\n",
    "        input_type (InputType): Type of input.\n",
    "        num_samples (int): Number of elements to sort.\n",
    "        sample_range (tuple[int, int]): Range of the elements.\n",
    "        step (int): Step to increase the number of elements.\n",
    "\n",
    "        Returns:\n",
    "            pd.DataFrame: Dataframe containing the results.\"\"\"\n",
    "\n",
    "    match test_type:\n",
    "        case SelectTestType.insertion_sort:\n",
    "            test_func = insertion_test\n",
    "        case SelectTestType.counting_sort:\n",
    "            test_func = counting_test\n",
    "        case _:\n",
    "            raise ValueError(\"Invalid queue type.\")\n",
    "    match input_type:\n",
    "        case InputType.random:\n",
    "            input_config = InputConfig(num_samples=num_samples, sample_range=sample_range, input_type=InputType.random)\n",
    "        case InputType.sorted:\n",
    "            input_config = InputConfig(num_samples=num_samples, sample_range=sample_range, input_type=InputType.sorted)\n",
    "        case InputType.reversed:\n",
    "            input_config = InputConfig(num_samples=num_samples, sample_range=sample_range, input_type=InputType.reversed)\n",
    "        case _:\n",
    "            raise ValueError(\"Invalid input type.\")\n",
    "\n",
    "    it = []\n",
    "    for i in np.arange(0, num_samples, step):\n",
    "        input_config.num_samples = i\n",
    "        input_gen = InputGenerator(input_config=input_config)\n",
    "        it.append(test_func(input_gen.data))\n",
    "\n",
    "    times_df = pd.DataFrame(data={\n",
    "        \"num_samples\": np.arange(0, num_samples, step),\n",
    "        \"time\": it,\n",
    "    })\n",
    "    times_df[\"test_type\"] = test_type.name\n",
    "    times_df[\"input_type\"] = input_type.name\n",
    "    return times_df\n",
    "\n",
    "\n"
   ]
  },
  {
   "cell_type": "markdown",
   "id": "6f25c88d",
   "metadata": {},
   "source": [
    "Nella cella sovrastante sono state definite le funzioni e le classi necessarie per eseguire i test. In particolare, sono state definite le seguenti classi:\n",
    "* _SelectTestType_: enum che contiene i tipi di test disponibili (insertion sort e counting sort)\n",
    "* _InputType_: enum che contiene i tipi di input disponibili (random, ordinato, inversamente ordinato)\n",
    "* _InputConfig_: contiene i parametri necessari per generare l'input (numero di elementi, range degli elementi, tipo di input)\n",
    "* _InputGenerator_: genera l'input in base ai parametri specificati\n",
    "\n",
    "Inoltre, sono state definite le seguenti funzioni:\n",
    "* _insertion_test_: esegue il test dell'algoritmo di insertion sort\n",
    "* _counting_test_: esegue il test dell'algoritmo di counting sort\n",
    "* _test_: esegue il test di uno dei due algoritmi di ordinamento, in base al tipo di test e di input scelti dall'utente. In particolare, questa funzione:\n",
    "    * in base al tipo di test scelto, assegna alla variabile _test_func_ la funzione di test corrispondente\n",
    "    * in base al tipo di input scelto, crea un oggetto _InputConfig_ con i parametri corrispondenti\n",
    "    * i test vengono eseguiti su un numero di elementi che va da 0 a _num_samples_ con passo _step_\n",
    "    * crea un oggetto _InputGenerator_ con l'oggetto _InputConfig_ creato precedentemente\n",
    "    * esegue il test _test_func_ sull'input generato\n",
    "    * crea un dataframe contenente i risultati del test e lo restituisce\n",
    "\n",
    "    Il dataframe contiene le seguenti colonne:\n",
    "    * _num_samples_: numero di elementi ordinati\n",
    "    * _time_: tempo impiegato per ordinare gli elementi\n",
    "    * _test_type_: tipo di test eseguito (insertion sort o counting sort)\n",
    "    * _input_type_: tipo di input utilizzato (random, ordinato o inversamente ordinato)"
   ]
  },
  {
   "cell_type": "code",
   "execution_count": 211,
   "id": "5038b541",
   "metadata": {},
   "outputs": [],
   "source": [
    "def plot_results(num_samples: int, step: int, sample_range: tuple[int, int]):\n",
    "    \"\"\"Plot the results.\"\"\"\n",
    "\n",
    "    \"\"\"Insertion sort tests\"\"\"\n",
    "\n",
    "    df_ins_1 = test(SelectTestType.insertion_sort, InputType.random, num_samples, sample_range, step)\n",
    "    df_ins_2 = test(SelectTestType.insertion_sort, InputType.sorted, num_samples, sample_range, step)\n",
    "    df_ins_3 = test(SelectTestType.insertion_sort, InputType.reversed, num_samples, sample_range, step)\n",
    "\n",
    "    \"\"\"Counting sort tests\"\"\"\n",
    "\n",
    "    df_cnt_1 = test(SelectTestType.counting_sort, InputType.random, num_samples, sample_range, step)\n",
    "    df_cnt_2 = test(SelectTestType.counting_sort, InputType.sorted, num_samples, sample_range, step)\n",
    "    df_cnt_3 = test(SelectTestType.counting_sort, InputType.reversed, num_samples, sample_range, step)\n",
    "\n",
    "    df = pd.concat([df_ins_1, df_ins_2, df_ins_3, df_cnt_1, df_cnt_2, df_cnt_3], ignore_index=True)\n",
    "\n",
    "    return df\n",
    "\n"
   ]
  },
  {
   "cell_type": "markdown",
   "id": "a225a793",
   "metadata": {},
   "source": [
    "Nella cella sovrastante è stata definita la funzione _plot_results_ che esegue tutti i test prendendo in input il numero di elementi dell'array, il passo con il quale devono essere eseguiti i test e il range di generazione dei numeri; restituisce un dataframe _pandas_ contenente i risultati dei test.\n",
    "Nelle celle successive in cui viene eseguito codice, si mostrano i grafici voluti in base ai parametri scelti dall'utente.\n",
    "In particolare, tramite il framework _plotly_ è possibile creare grafici interattivi che consentono di visualizzare i risultati dei test in maniera più chiara e comprensibile."
   ]
  },
  {
   "cell_type": "markdown",
   "id": "d50f21b2",
   "metadata": {},
   "source": [
    "## Esecuzione dei test"
   ]
  },
  {
   "cell_type": "markdown",
   "id": "9c6202a8",
   "metadata": {},
   "source": [
    "In questa sezione vengono eseguiti i test di ordinamento e vengono mostrati i grafici relativi ai risultati ottenuti. Nello specifico sono stati eseguiti i seguenti test:\n",
    "\n",
    "* Array di dimensione 100 con passo pari a 10 e range di generazione dei numeri da 0 a 100 e da 0 a 1000\n",
    "* Array di dimensione 1000 con passo pari a 10 e range di generazione dei numeri da 0 a 10000, da 0 a 100000, da 0 a 1000000\n",
    "* Array di dimensione 10000 con passo pari a 100 e range di generazione dei numeri da 0 a 100000 e da 0 a 1000000\n",
    "\n",
    "In tutti i casi, i test sono stati eseguiti su array di numeri casuali, ordinati e inversamente ordinati.\n",
    "I grafici saranno interattivi in modo da poter visualizzare i risultati dei test di insetrtion sort e counting sort anche in maniera separata.\n",
    "\n",
    "La scelta delle dimensioni degli input è stata fatta in modo da poter avere un panoramica completa sui risultati dei test, sia per array di piccole dimensioni, sia per array di grandi dimensioni; analoga scelta è stata fatta per il range di generazione dei numeri, che risulterà di particolare importanza nel caso dell'algoritmo _counting sort_.\n",
    "\n",
    "Sottolineiamo inoltre che al momento della visulizzazione dei grafici è stato scelto di escludere il test su array di dimensione 0 poiché, essendo il caso di array vuoto, il tempo di esecuzione risulta essere sempre nullo.\n"
   ]
  },
  {
   "cell_type": "markdown",
   "id": "cedb8c51",
   "metadata": {},
   "source": [
    "### 1. Array di dimensione 100"
   ]
  },
  {
   "cell_type": "markdown",
   "id": "67feaf55",
   "metadata": {},
   "source": [
    "Analizziamo i test eseguiti su array di dimensione 100 con passo pari a 10 e range di generazione dei numeri da 0 a 100 e da 0 a 1000.\n",
    "I grafici mostrano i risultati dei test di insertion sort e counting sort in base al tipo di input utilizzato. Per questo caso è stato scelto di utilizzare grafici a dispersione, in modo da poter visualizzare in maniera più chiara i risultati dei test."
   ]
  },
  {
   "cell_type": "markdown",
   "source": [
    "#### Array di dimensione 100 con range da 0 a 100"
   ],
   "metadata": {
    "collapsed": false
   }
  },
  {
   "cell_type": "code",
   "execution_count": 212,
   "id": "64882870",
   "metadata": {},
   "outputs": [],
   "source": [
    "df = plot_results(100, 10, (0, 100))"
   ]
  },
  {
   "cell_type": "code",
   "execution_count": 213,
   "id": "b0aec926",
   "metadata": {},
   "outputs": [
    {
     "data": {
      "application/vnd.plotly.v1+json": {
       "data": [
        {
         "hovertemplate": "Algoritmo di ordinamento=insertion_sort<br>Tipo di input=random<br>Dimensione array=%{x}<br>Time (s)=%{y}<extra></extra>",
         "legendgroup": "insertion_sort",
         "marker": {
          "color": "#636efa",
          "symbol": "circle"
         },
         "mode": "markers",
         "name": "insertion_sort",
         "orientation": "v",
         "showlegend": true,
         "x": [
          10,
          20,
          30,
          40,
          50,
          60,
          70,
          80,
          90
         ],
         "xaxis": "x",
         "y": [
          8.600007276982069E-6,
          1.7000013031065464E-5,
          2.95999925583601E-5,
          4.840001929551363E-5,
          7.899996126070619E-5,
          1.0720000136643648E-4,
          1.3800000306218863E-4,
          1.963000395335257E-4,
          1.7690000822767615E-4
         ],
         "yaxis": "y",
         "type": "scatter"
        },
        {
         "hovertemplate": "Algoritmo di ordinamento=insertion_sort<br>Tipo di input=sorted<br>Dimensione array=%{x}<br>Time (s)=%{y}<extra></extra>",
         "legendgroup": "insertion_sort",
         "marker": {
          "color": "#636efa",
          "symbol": "circle"
         },
         "mode": "markers",
         "name": "insertion_sort",
         "orientation": "v",
         "showlegend": false,
         "x": [
          10,
          20,
          30,
          40,
          50,
          60,
          70,
          80,
          90
         ],
         "xaxis": "x2",
         "y": [
          5.299982149153948E-6,
          6.599992047995329E-6,
          7.700000423938036E-6,
          1.0599964298307896E-5,
          7.099995855242014E-6,
          9.700015652924776E-6,
          9.000010322779417E-6,
          9.700015652924776E-6,
          1.0600022505968809E-5
         ],
         "yaxis": "y2",
         "type": "scatter"
        },
        {
         "hovertemplate": "Algoritmo di ordinamento=insertion_sort<br>Tipo di input=reversed<br>Dimensione array=%{x}<br>Time (s)=%{y}<extra></extra>",
         "legendgroup": "insertion_sort",
         "marker": {
          "color": "#636efa",
          "symbol": "circle"
         },
         "mode": "markers",
         "name": "insertion_sort",
         "orientation": "v",
         "showlegend": false,
         "x": [
          10,
          20,
          30,
          40,
          50,
          60,
          70,
          80,
          90
         ],
         "xaxis": "x3",
         "y": [
          7.099995855242014E-6,
          2.139998832717538E-5,
          4.549999721348286E-5,
          8.09000339359045E-5,
          1.2450001668184996E-4,
          1.7809995915740728E-4,
          2.5430001551285386E-4,
          3.1430000672116876E-4,
          4.341000458225608E-4
         ],
         "yaxis": "y3",
         "type": "scatter"
        },
        {
         "hovertemplate": "Algoritmo di ordinamento=counting_sort<br>Tipo di input=random<br>Dimensione array=%{x}<br>Time (s)=%{y}<extra></extra>",
         "legendgroup": "counting_sort",
         "marker": {
          "color": "#EF553B",
          "symbol": "circle"
         },
         "mode": "markers",
         "name": "counting_sort",
         "orientation": "v",
         "showlegend": true,
         "x": [
          10,
          20,
          30,
          40,
          50,
          60,
          70,
          80,
          90
         ],
         "xaxis": "x",
         "y": [
          1.3999990187585354E-5,
          1.2999982573091984E-5,
          1.4099990949034691E-5,
          1.4800054486840963E-5,
          1.6200006939470768E-5,
          1.799996243789792E-5,
          1.910002902150154E-5,
          2.0499981474131346E-5,
          2.2099993657320738E-5
         ],
         "yaxis": "y",
         "type": "scatter"
        },
        {
         "hovertemplate": "Algoritmo di ordinamento=counting_sort<br>Tipo di input=sorted<br>Dimensione array=%{x}<br>Time (s)=%{y}<extra></extra>",
         "legendgroup": "counting_sort",
         "marker": {
          "color": "#EF553B",
          "symbol": "circle"
         },
         "mode": "markers",
         "name": "counting_sort",
         "orientation": "v",
         "showlegend": false,
         "x": [
          10,
          20,
          30,
          40,
          50,
          60,
          70,
          80,
          90
         ],
         "xaxis": "x2",
         "y": [
          1.8600025214254856E-5,
          2.0799983758479357E-5,
          2.2599997464567423E-5,
          2.4300010409206152E-5,
          2.7500034775584936E-5,
          3.5100034438073635E-5,
          3.1800009310245514E-5,
          3.450002986937761E-5,
          3.6999990697950125E-5
         ],
         "yaxis": "y2",
         "type": "scatter"
        },
        {
         "hovertemplate": "Algoritmo di ordinamento=counting_sort<br>Tipo di input=reversed<br>Dimensione array=%{x}<br>Time (s)=%{y}<extra></extra>",
         "legendgroup": "counting_sort",
         "marker": {
          "color": "#EF553B",
          "symbol": "circle"
         },
         "mode": "markers",
         "name": "counting_sort",
         "orientation": "v",
         "showlegend": false,
         "x": [
          10,
          20,
          30,
          40,
          50,
          60,
          70,
          80,
          90
         ],
         "xaxis": "x3",
         "y": [
          2.0899984519928694E-5,
          2.2299995180219412E-5,
          2.3900007363408804E-5,
          2.6500027161091566E-5,
          2.7999980375170708E-5,
          3.1800009310245514E-5,
          3.489997470751405E-5,
          3.91000066883862E-5,
          3.980001201853156E-5
         ],
         "yaxis": "y3",
         "type": "scatter"
        }
       ],
       "layout": {
        "template": {
         "data": {
          "histogram2dcontour": [
           {
            "type": "histogram2dcontour",
            "colorbar": {
             "outlinewidth": 0,
             "ticks": ""
            },
            "colorscale": [
             [
              0.0,
              "#0d0887"
             ],
             [
              0.1111111111111111,
              "#46039f"
             ],
             [
              0.2222222222222222,
              "#7201a8"
             ],
             [
              0.3333333333333333,
              "#9c179e"
             ],
             [
              0.4444444444444444,
              "#bd3786"
             ],
             [
              0.5555555555555556,
              "#d8576b"
             ],
             [
              0.6666666666666666,
              "#ed7953"
             ],
             [
              0.7777777777777778,
              "#fb9f3a"
             ],
             [
              0.8888888888888888,
              "#fdca26"
             ],
             [
              1.0,
              "#f0f921"
             ]
            ]
           }
          ],
          "choropleth": [
           {
            "type": "choropleth",
            "colorbar": {
             "outlinewidth": 0,
             "ticks": ""
            }
           }
          ],
          "histogram2d": [
           {
            "type": "histogram2d",
            "colorbar": {
             "outlinewidth": 0,
             "ticks": ""
            },
            "colorscale": [
             [
              0.0,
              "#0d0887"
             ],
             [
              0.1111111111111111,
              "#46039f"
             ],
             [
              0.2222222222222222,
              "#7201a8"
             ],
             [
              0.3333333333333333,
              "#9c179e"
             ],
             [
              0.4444444444444444,
              "#bd3786"
             ],
             [
              0.5555555555555556,
              "#d8576b"
             ],
             [
              0.6666666666666666,
              "#ed7953"
             ],
             [
              0.7777777777777778,
              "#fb9f3a"
             ],
             [
              0.8888888888888888,
              "#fdca26"
             ],
             [
              1.0,
              "#f0f921"
             ]
            ]
           }
          ],
          "heatmap": [
           {
            "type": "heatmap",
            "colorbar": {
             "outlinewidth": 0,
             "ticks": ""
            },
            "colorscale": [
             [
              0.0,
              "#0d0887"
             ],
             [
              0.1111111111111111,
              "#46039f"
             ],
             [
              0.2222222222222222,
              "#7201a8"
             ],
             [
              0.3333333333333333,
              "#9c179e"
             ],
             [
              0.4444444444444444,
              "#bd3786"
             ],
             [
              0.5555555555555556,
              "#d8576b"
             ],
             [
              0.6666666666666666,
              "#ed7953"
             ],
             [
              0.7777777777777778,
              "#fb9f3a"
             ],
             [
              0.8888888888888888,
              "#fdca26"
             ],
             [
              1.0,
              "#f0f921"
             ]
            ]
           }
          ],
          "heatmapgl": [
           {
            "type": "heatmapgl",
            "colorbar": {
             "outlinewidth": 0,
             "ticks": ""
            },
            "colorscale": [
             [
              0.0,
              "#0d0887"
             ],
             [
              0.1111111111111111,
              "#46039f"
             ],
             [
              0.2222222222222222,
              "#7201a8"
             ],
             [
              0.3333333333333333,
              "#9c179e"
             ],
             [
              0.4444444444444444,
              "#bd3786"
             ],
             [
              0.5555555555555556,
              "#d8576b"
             ],
             [
              0.6666666666666666,
              "#ed7953"
             ],
             [
              0.7777777777777778,
              "#fb9f3a"
             ],
             [
              0.8888888888888888,
              "#fdca26"
             ],
             [
              1.0,
              "#f0f921"
             ]
            ]
           }
          ],
          "contourcarpet": [
           {
            "type": "contourcarpet",
            "colorbar": {
             "outlinewidth": 0,
             "ticks": ""
            }
           }
          ],
          "contour": [
           {
            "type": "contour",
            "colorbar": {
             "outlinewidth": 0,
             "ticks": ""
            },
            "colorscale": [
             [
              0.0,
              "#0d0887"
             ],
             [
              0.1111111111111111,
              "#46039f"
             ],
             [
              0.2222222222222222,
              "#7201a8"
             ],
             [
              0.3333333333333333,
              "#9c179e"
             ],
             [
              0.4444444444444444,
              "#bd3786"
             ],
             [
              0.5555555555555556,
              "#d8576b"
             ],
             [
              0.6666666666666666,
              "#ed7953"
             ],
             [
              0.7777777777777778,
              "#fb9f3a"
             ],
             [
              0.8888888888888888,
              "#fdca26"
             ],
             [
              1.0,
              "#f0f921"
             ]
            ]
           }
          ],
          "surface": [
           {
            "type": "surface",
            "colorbar": {
             "outlinewidth": 0,
             "ticks": ""
            },
            "colorscale": [
             [
              0.0,
              "#0d0887"
             ],
             [
              0.1111111111111111,
              "#46039f"
             ],
             [
              0.2222222222222222,
              "#7201a8"
             ],
             [
              0.3333333333333333,
              "#9c179e"
             ],
             [
              0.4444444444444444,
              "#bd3786"
             ],
             [
              0.5555555555555556,
              "#d8576b"
             ],
             [
              0.6666666666666666,
              "#ed7953"
             ],
             [
              0.7777777777777778,
              "#fb9f3a"
             ],
             [
              0.8888888888888888,
              "#fdca26"
             ],
             [
              1.0,
              "#f0f921"
             ]
            ]
           }
          ],
          "mesh3d": [
           {
            "type": "mesh3d",
            "colorbar": {
             "outlinewidth": 0,
             "ticks": ""
            }
           }
          ],
          "scatter": [
           {
            "marker": {
             "line": {
              "color": "#283442"
             }
            },
            "type": "scatter"
           }
          ],
          "parcoords": [
           {
            "type": "parcoords",
            "line": {
             "colorbar": {
              "outlinewidth": 0,
              "ticks": ""
             }
            }
           }
          ],
          "scatterpolargl": [
           {
            "type": "scatterpolargl",
            "marker": {
             "colorbar": {
              "outlinewidth": 0,
              "ticks": ""
             }
            }
           }
          ],
          "bar": [
           {
            "error_x": {
             "color": "#f2f5fa"
            },
            "error_y": {
             "color": "#f2f5fa"
            },
            "marker": {
             "line": {
              "color": "rgb(17,17,17)",
              "width": 0.5
             },
             "pattern": {
              "fillmode": "overlay",
              "size": 10,
              "solidity": 0.2
             }
            },
            "type": "bar"
           }
          ],
          "scattergeo": [
           {
            "type": "scattergeo",
            "marker": {
             "colorbar": {
              "outlinewidth": 0,
              "ticks": ""
             }
            }
           }
          ],
          "scatterpolar": [
           {
            "type": "scatterpolar",
            "marker": {
             "colorbar": {
              "outlinewidth": 0,
              "ticks": ""
             }
            }
           }
          ],
          "histogram": [
           {
            "marker": {
             "pattern": {
              "fillmode": "overlay",
              "size": 10,
              "solidity": 0.2
             }
            },
            "type": "histogram"
           }
          ],
          "scattergl": [
           {
            "marker": {
             "line": {
              "color": "#283442"
             }
            },
            "type": "scattergl"
           }
          ],
          "scatter3d": [
           {
            "type": "scatter3d",
            "line": {
             "colorbar": {
              "outlinewidth": 0,
              "ticks": ""
             }
            },
            "marker": {
             "colorbar": {
              "outlinewidth": 0,
              "ticks": ""
             }
            }
           }
          ],
          "scattermapbox": [
           {
            "type": "scattermapbox",
            "marker": {
             "colorbar": {
              "outlinewidth": 0,
              "ticks": ""
             }
            }
           }
          ],
          "scatterternary": [
           {
            "type": "scatterternary",
            "marker": {
             "colorbar": {
              "outlinewidth": 0,
              "ticks": ""
             }
            }
           }
          ],
          "scattercarpet": [
           {
            "type": "scattercarpet",
            "marker": {
             "colorbar": {
              "outlinewidth": 0,
              "ticks": ""
             }
            }
           }
          ],
          "carpet": [
           {
            "aaxis": {
             "endlinecolor": "#A2B1C6",
             "gridcolor": "#506784",
             "linecolor": "#506784",
             "minorgridcolor": "#506784",
             "startlinecolor": "#A2B1C6"
            },
            "baxis": {
             "endlinecolor": "#A2B1C6",
             "gridcolor": "#506784",
             "linecolor": "#506784",
             "minorgridcolor": "#506784",
             "startlinecolor": "#A2B1C6"
            },
            "type": "carpet"
           }
          ],
          "table": [
           {
            "cells": {
             "fill": {
              "color": "#506784"
             },
             "line": {
              "color": "rgb(17,17,17)"
             }
            },
            "header": {
             "fill": {
              "color": "#2a3f5f"
             },
             "line": {
              "color": "rgb(17,17,17)"
             }
            },
            "type": "table"
           }
          ],
          "barpolar": [
           {
            "marker": {
             "line": {
              "color": "rgb(17,17,17)",
              "width": 0.5
             },
             "pattern": {
              "fillmode": "overlay",
              "size": 10,
              "solidity": 0.2
             }
            },
            "type": "barpolar"
           }
          ],
          "pie": [
           {
            "automargin": true,
            "type": "pie"
           }
          ]
         },
         "layout": {
          "autotypenumbers": "strict",
          "colorway": [
           "#636efa",
           "#EF553B",
           "#00cc96",
           "#ab63fa",
           "#FFA15A",
           "#19d3f3",
           "#FF6692",
           "#B6E880",
           "#FF97FF",
           "#FECB52"
          ],
          "font": {
           "color": "#f2f5fa"
          },
          "hovermode": "closest",
          "hoverlabel": {
           "align": "left"
          },
          "paper_bgcolor": "rgb(17,17,17)",
          "plot_bgcolor": "rgb(17,17,17)",
          "polar": {
           "bgcolor": "rgb(17,17,17)",
           "angularaxis": {
            "gridcolor": "#506784",
            "linecolor": "#506784",
            "ticks": ""
           },
           "radialaxis": {
            "gridcolor": "#506784",
            "linecolor": "#506784",
            "ticks": ""
           }
          },
          "ternary": {
           "bgcolor": "rgb(17,17,17)",
           "aaxis": {
            "gridcolor": "#506784",
            "linecolor": "#506784",
            "ticks": ""
           },
           "baxis": {
            "gridcolor": "#506784",
            "linecolor": "#506784",
            "ticks": ""
           },
           "caxis": {
            "gridcolor": "#506784",
            "linecolor": "#506784",
            "ticks": ""
           }
          },
          "coloraxis": {
           "colorbar": {
            "outlinewidth": 0,
            "ticks": ""
           }
          },
          "colorscale": {
           "sequential": [
            [
             0.0,
             "#0d0887"
            ],
            [
             0.1111111111111111,
             "#46039f"
            ],
            [
             0.2222222222222222,
             "#7201a8"
            ],
            [
             0.3333333333333333,
             "#9c179e"
            ],
            [
             0.4444444444444444,
             "#bd3786"
            ],
            [
             0.5555555555555556,
             "#d8576b"
            ],
            [
             0.6666666666666666,
             "#ed7953"
            ],
            [
             0.7777777777777778,
             "#fb9f3a"
            ],
            [
             0.8888888888888888,
             "#fdca26"
            ],
            [
             1.0,
             "#f0f921"
            ]
           ],
           "sequentialminus": [
            [
             0.0,
             "#0d0887"
            ],
            [
             0.1111111111111111,
             "#46039f"
            ],
            [
             0.2222222222222222,
             "#7201a8"
            ],
            [
             0.3333333333333333,
             "#9c179e"
            ],
            [
             0.4444444444444444,
             "#bd3786"
            ],
            [
             0.5555555555555556,
             "#d8576b"
            ],
            [
             0.6666666666666666,
             "#ed7953"
            ],
            [
             0.7777777777777778,
             "#fb9f3a"
            ],
            [
             0.8888888888888888,
             "#fdca26"
            ],
            [
             1.0,
             "#f0f921"
            ]
           ],
           "diverging": [
            [
             0,
             "#8e0152"
            ],
            [
             0.1,
             "#c51b7d"
            ],
            [
             0.2,
             "#de77ae"
            ],
            [
             0.3,
             "#f1b6da"
            ],
            [
             0.4,
             "#fde0ef"
            ],
            [
             0.5,
             "#f7f7f7"
            ],
            [
             0.6,
             "#e6f5d0"
            ],
            [
             0.7,
             "#b8e186"
            ],
            [
             0.8,
             "#7fbc41"
            ],
            [
             0.9,
             "#4d9221"
            ],
            [
             1,
             "#276419"
            ]
           ]
          },
          "xaxis": {
           "gridcolor": "#283442",
           "linecolor": "#506784",
           "ticks": "",
           "title": {
            "standoff": 15
           },
           "zerolinecolor": "#283442",
           "automargin": true,
           "zerolinewidth": 2
          },
          "yaxis": {
           "gridcolor": "#283442",
           "linecolor": "#506784",
           "ticks": "",
           "title": {
            "standoff": 15
           },
           "zerolinecolor": "#283442",
           "automargin": true,
           "zerolinewidth": 2
          },
          "scene": {
           "xaxis": {
            "backgroundcolor": "rgb(17,17,17)",
            "gridcolor": "#506784",
            "linecolor": "#506784",
            "showbackground": true,
            "ticks": "",
            "zerolinecolor": "#C8D4E3",
            "gridwidth": 2
           },
           "yaxis": {
            "backgroundcolor": "rgb(17,17,17)",
            "gridcolor": "#506784",
            "linecolor": "#506784",
            "showbackground": true,
            "ticks": "",
            "zerolinecolor": "#C8D4E3",
            "gridwidth": 2
           },
           "zaxis": {
            "backgroundcolor": "rgb(17,17,17)",
            "gridcolor": "#506784",
            "linecolor": "#506784",
            "showbackground": true,
            "ticks": "",
            "zerolinecolor": "#C8D4E3",
            "gridwidth": 2
           }
          },
          "shapedefaults": {
           "line": {
            "color": "#f2f5fa"
           }
          },
          "annotationdefaults": {
           "arrowcolor": "#f2f5fa",
           "arrowhead": 0,
           "arrowwidth": 1
          },
          "geo": {
           "bgcolor": "rgb(17,17,17)",
           "landcolor": "rgb(17,17,17)",
           "subunitcolor": "#506784",
           "showland": true,
           "showlakes": true,
           "lakecolor": "rgb(17,17,17)"
          },
          "title": {
           "x": 0.05
          },
          "updatemenudefaults": {
           "bgcolor": "#506784",
           "borderwidth": 0
          },
          "sliderdefaults": {
           "bgcolor": "#C8D4E3",
           "borderwidth": 1,
           "bordercolor": "rgb(17,17,17)",
           "tickwidth": 0
          },
          "mapbox": {
           "style": "dark"
          }
         }
        },
        "xaxis": {
         "anchor": "y",
         "domain": [
          0.0,
          0.31999999999999995
         ],
         "title": {
          "text": "Dimensione array"
         }
        },
        "yaxis": {
         "anchor": "x",
         "domain": [
          0.0,
          1.0
         ],
         "title": {
          "text": "Time (s)"
         }
        },
        "xaxis2": {
         "anchor": "y2",
         "domain": [
          0.33999999999999997,
          0.6599999999999999
         ],
         "matches": "x",
         "title": {
          "text": "Dimensione array"
         }
        },
        "yaxis2": {
         "anchor": "x2",
         "domain": [
          0.0,
          1.0
         ],
         "matches": "y",
         "showticklabels": false
        },
        "xaxis3": {
         "anchor": "y3",
         "domain": [
          0.6799999999999999,
          0.9999999999999999
         ],
         "matches": "x",
         "title": {
          "text": "Dimensione array"
         }
        },
        "yaxis3": {
         "anchor": "x3",
         "domain": [
          0.0,
          1.0
         ],
         "matches": "y",
         "showticklabels": false
        },
        "annotations": [
         {
          "font": {},
          "showarrow": false,
          "text": "Tipo di input=random",
          "x": 0.15999999999999998,
          "xanchor": "center",
          "xref": "paper",
          "y": 1.0,
          "yanchor": "bottom",
          "yref": "paper"
         },
         {
          "font": {},
          "showarrow": false,
          "text": "Tipo di input=sorted",
          "x": 0.49999999999999994,
          "xanchor": "center",
          "xref": "paper",
          "y": 1.0,
          "yanchor": "bottom",
          "yref": "paper"
         },
         {
          "font": {},
          "showarrow": false,
          "text": "Tipo di input=reversed",
          "x": 0.8399999999999999,
          "xanchor": "center",
          "xref": "paper",
          "y": 1.0,
          "yanchor": "bottom",
          "yref": "paper"
         }
        ],
        "legend": {
         "title": {
          "text": "Algoritmo di ordinamento"
         },
         "tracegroupgap": 0
        },
        "title": {
         "text": "Sorting algorithms"
        }
       },
       "config": {
        "plotlyServerURL": "https://plot.ly"
       }
      },
      "text/html": "<div>                            <div id=\"54334723-efec-45ee-a9c4-405c7ffc634c\" class=\"plotly-graph-div\" style=\"height:525px; width:100%;\"></div>            <script type=\"text/javascript\">                require([\"plotly\"], function(Plotly) {                    window.PLOTLYENV=window.PLOTLYENV || {};                                    if (document.getElementById(\"54334723-efec-45ee-a9c4-405c7ffc634c\")) {                    Plotly.newPlot(                        \"54334723-efec-45ee-a9c4-405c7ffc634c\",                        [{\"hovertemplate\":\"Algoritmo di ordinamento=insertion_sort<br>Tipo di input=random<br>Dimensione array=%{x}<br>Time (s)=%{y}<extra></extra>\",\"legendgroup\":\"insertion_sort\",\"marker\":{\"color\":\"#636efa\",\"symbol\":\"circle\"},\"mode\":\"markers\",\"name\":\"insertion_sort\",\"orientation\":\"v\",\"showlegend\":true,\"x\":[10,20,30,40,50,60,70,80,90],\"xaxis\":\"x\",\"y\":[8.600007276982069e-06,1.7000013031065464e-05,2.95999925583601e-05,4.840001929551363e-05,7.899996126070619e-05,0.00010720000136643648,0.00013800000306218863,0.0001963000395335257,0.00017690000822767615],\"yaxis\":\"y\",\"type\":\"scatter\"},{\"hovertemplate\":\"Algoritmo di ordinamento=insertion_sort<br>Tipo di input=sorted<br>Dimensione array=%{x}<br>Time (s)=%{y}<extra></extra>\",\"legendgroup\":\"insertion_sort\",\"marker\":{\"color\":\"#636efa\",\"symbol\":\"circle\"},\"mode\":\"markers\",\"name\":\"insertion_sort\",\"orientation\":\"v\",\"showlegend\":false,\"x\":[10,20,30,40,50,60,70,80,90],\"xaxis\":\"x2\",\"y\":[5.299982149153948e-06,6.599992047995329e-06,7.700000423938036e-06,1.0599964298307896e-05,7.099995855242014e-06,9.700015652924776e-06,9.000010322779417e-06,9.700015652924776e-06,1.0600022505968809e-05],\"yaxis\":\"y2\",\"type\":\"scatter\"},{\"hovertemplate\":\"Algoritmo di ordinamento=insertion_sort<br>Tipo di input=reversed<br>Dimensione array=%{x}<br>Time (s)=%{y}<extra></extra>\",\"legendgroup\":\"insertion_sort\",\"marker\":{\"color\":\"#636efa\",\"symbol\":\"circle\"},\"mode\":\"markers\",\"name\":\"insertion_sort\",\"orientation\":\"v\",\"showlegend\":false,\"x\":[10,20,30,40,50,60,70,80,90],\"xaxis\":\"x3\",\"y\":[7.099995855242014e-06,2.139998832717538e-05,4.549999721348286e-05,8.09000339359045e-05,0.00012450001668184996,0.00017809995915740728,0.00025430001551285386,0.00031430000672116876,0.0004341000458225608],\"yaxis\":\"y3\",\"type\":\"scatter\"},{\"hovertemplate\":\"Algoritmo di ordinamento=counting_sort<br>Tipo di input=random<br>Dimensione array=%{x}<br>Time (s)=%{y}<extra></extra>\",\"legendgroup\":\"counting_sort\",\"marker\":{\"color\":\"#EF553B\",\"symbol\":\"circle\"},\"mode\":\"markers\",\"name\":\"counting_sort\",\"orientation\":\"v\",\"showlegend\":true,\"x\":[10,20,30,40,50,60,70,80,90],\"xaxis\":\"x\",\"y\":[1.3999990187585354e-05,1.2999982573091984e-05,1.4099990949034691e-05,1.4800054486840963e-05,1.6200006939470768e-05,1.799996243789792e-05,1.910002902150154e-05,2.0499981474131346e-05,2.2099993657320738e-05],\"yaxis\":\"y\",\"type\":\"scatter\"},{\"hovertemplate\":\"Algoritmo di ordinamento=counting_sort<br>Tipo di input=sorted<br>Dimensione array=%{x}<br>Time (s)=%{y}<extra></extra>\",\"legendgroup\":\"counting_sort\",\"marker\":{\"color\":\"#EF553B\",\"symbol\":\"circle\"},\"mode\":\"markers\",\"name\":\"counting_sort\",\"orientation\":\"v\",\"showlegend\":false,\"x\":[10,20,30,40,50,60,70,80,90],\"xaxis\":\"x2\",\"y\":[1.8600025214254856e-05,2.0799983758479357e-05,2.2599997464567423e-05,2.4300010409206152e-05,2.7500034775584936e-05,3.5100034438073635e-05,3.1800009310245514e-05,3.450002986937761e-05,3.6999990697950125e-05],\"yaxis\":\"y2\",\"type\":\"scatter\"},{\"hovertemplate\":\"Algoritmo di ordinamento=counting_sort<br>Tipo di input=reversed<br>Dimensione array=%{x}<br>Time (s)=%{y}<extra></extra>\",\"legendgroup\":\"counting_sort\",\"marker\":{\"color\":\"#EF553B\",\"symbol\":\"circle\"},\"mode\":\"markers\",\"name\":\"counting_sort\",\"orientation\":\"v\",\"showlegend\":false,\"x\":[10,20,30,40,50,60,70,80,90],\"xaxis\":\"x3\",\"y\":[2.0899984519928694e-05,2.2299995180219412e-05,2.3900007363408804e-05,2.6500027161091566e-05,2.7999980375170708e-05,3.1800009310245514e-05,3.489997470751405e-05,3.91000066883862e-05,3.980001201853156e-05],\"yaxis\":\"y3\",\"type\":\"scatter\"}],                        {\"template\":{\"data\":{\"histogram2dcontour\":[{\"type\":\"histogram2dcontour\",\"colorbar\":{\"outlinewidth\":0,\"ticks\":\"\"},\"colorscale\":[[0.0,\"#0d0887\"],[0.1111111111111111,\"#46039f\"],[0.2222222222222222,\"#7201a8\"],[0.3333333333333333,\"#9c179e\"],[0.4444444444444444,\"#bd3786\"],[0.5555555555555556,\"#d8576b\"],[0.6666666666666666,\"#ed7953\"],[0.7777777777777778,\"#fb9f3a\"],[0.8888888888888888,\"#fdca26\"],[1.0,\"#f0f921\"]]}],\"choropleth\":[{\"type\":\"choropleth\",\"colorbar\":{\"outlinewidth\":0,\"ticks\":\"\"}}],\"histogram2d\":[{\"type\":\"histogram2d\",\"colorbar\":{\"outlinewidth\":0,\"ticks\":\"\"},\"colorscale\":[[0.0,\"#0d0887\"],[0.1111111111111111,\"#46039f\"],[0.2222222222222222,\"#7201a8\"],[0.3333333333333333,\"#9c179e\"],[0.4444444444444444,\"#bd3786\"],[0.5555555555555556,\"#d8576b\"],[0.6666666666666666,\"#ed7953\"],[0.7777777777777778,\"#fb9f3a\"],[0.8888888888888888,\"#fdca26\"],[1.0,\"#f0f921\"]]}],\"heatmap\":[{\"type\":\"heatmap\",\"colorbar\":{\"outlinewidth\":0,\"ticks\":\"\"},\"colorscale\":[[0.0,\"#0d0887\"],[0.1111111111111111,\"#46039f\"],[0.2222222222222222,\"#7201a8\"],[0.3333333333333333,\"#9c179e\"],[0.4444444444444444,\"#bd3786\"],[0.5555555555555556,\"#d8576b\"],[0.6666666666666666,\"#ed7953\"],[0.7777777777777778,\"#fb9f3a\"],[0.8888888888888888,\"#fdca26\"],[1.0,\"#f0f921\"]]}],\"heatmapgl\":[{\"type\":\"heatmapgl\",\"colorbar\":{\"outlinewidth\":0,\"ticks\":\"\"},\"colorscale\":[[0.0,\"#0d0887\"],[0.1111111111111111,\"#46039f\"],[0.2222222222222222,\"#7201a8\"],[0.3333333333333333,\"#9c179e\"],[0.4444444444444444,\"#bd3786\"],[0.5555555555555556,\"#d8576b\"],[0.6666666666666666,\"#ed7953\"],[0.7777777777777778,\"#fb9f3a\"],[0.8888888888888888,\"#fdca26\"],[1.0,\"#f0f921\"]]}],\"contourcarpet\":[{\"type\":\"contourcarpet\",\"colorbar\":{\"outlinewidth\":0,\"ticks\":\"\"}}],\"contour\":[{\"type\":\"contour\",\"colorbar\":{\"outlinewidth\":0,\"ticks\":\"\"},\"colorscale\":[[0.0,\"#0d0887\"],[0.1111111111111111,\"#46039f\"],[0.2222222222222222,\"#7201a8\"],[0.3333333333333333,\"#9c179e\"],[0.4444444444444444,\"#bd3786\"],[0.5555555555555556,\"#d8576b\"],[0.6666666666666666,\"#ed7953\"],[0.7777777777777778,\"#fb9f3a\"],[0.8888888888888888,\"#fdca26\"],[1.0,\"#f0f921\"]]}],\"surface\":[{\"type\":\"surface\",\"colorbar\":{\"outlinewidth\":0,\"ticks\":\"\"},\"colorscale\":[[0.0,\"#0d0887\"],[0.1111111111111111,\"#46039f\"],[0.2222222222222222,\"#7201a8\"],[0.3333333333333333,\"#9c179e\"],[0.4444444444444444,\"#bd3786\"],[0.5555555555555556,\"#d8576b\"],[0.6666666666666666,\"#ed7953\"],[0.7777777777777778,\"#fb9f3a\"],[0.8888888888888888,\"#fdca26\"],[1.0,\"#f0f921\"]]}],\"mesh3d\":[{\"type\":\"mesh3d\",\"colorbar\":{\"outlinewidth\":0,\"ticks\":\"\"}}],\"scatter\":[{\"marker\":{\"line\":{\"color\":\"#283442\"}},\"type\":\"scatter\"}],\"parcoords\":[{\"type\":\"parcoords\",\"line\":{\"colorbar\":{\"outlinewidth\":0,\"ticks\":\"\"}}}],\"scatterpolargl\":[{\"type\":\"scatterpolargl\",\"marker\":{\"colorbar\":{\"outlinewidth\":0,\"ticks\":\"\"}}}],\"bar\":[{\"error_x\":{\"color\":\"#f2f5fa\"},\"error_y\":{\"color\":\"#f2f5fa\"},\"marker\":{\"line\":{\"color\":\"rgb(17,17,17)\",\"width\":0.5},\"pattern\":{\"fillmode\":\"overlay\",\"size\":10,\"solidity\":0.2}},\"type\":\"bar\"}],\"scattergeo\":[{\"type\":\"scattergeo\",\"marker\":{\"colorbar\":{\"outlinewidth\":0,\"ticks\":\"\"}}}],\"scatterpolar\":[{\"type\":\"scatterpolar\",\"marker\":{\"colorbar\":{\"outlinewidth\":0,\"ticks\":\"\"}}}],\"histogram\":[{\"marker\":{\"pattern\":{\"fillmode\":\"overlay\",\"size\":10,\"solidity\":0.2}},\"type\":\"histogram\"}],\"scattergl\":[{\"marker\":{\"line\":{\"color\":\"#283442\"}},\"type\":\"scattergl\"}],\"scatter3d\":[{\"type\":\"scatter3d\",\"line\":{\"colorbar\":{\"outlinewidth\":0,\"ticks\":\"\"}},\"marker\":{\"colorbar\":{\"outlinewidth\":0,\"ticks\":\"\"}}}],\"scattermapbox\":[{\"type\":\"scattermapbox\",\"marker\":{\"colorbar\":{\"outlinewidth\":0,\"ticks\":\"\"}}}],\"scatterternary\":[{\"type\":\"scatterternary\",\"marker\":{\"colorbar\":{\"outlinewidth\":0,\"ticks\":\"\"}}}],\"scattercarpet\":[{\"type\":\"scattercarpet\",\"marker\":{\"colorbar\":{\"outlinewidth\":0,\"ticks\":\"\"}}}],\"carpet\":[{\"aaxis\":{\"endlinecolor\":\"#A2B1C6\",\"gridcolor\":\"#506784\",\"linecolor\":\"#506784\",\"minorgridcolor\":\"#506784\",\"startlinecolor\":\"#A2B1C6\"},\"baxis\":{\"endlinecolor\":\"#A2B1C6\",\"gridcolor\":\"#506784\",\"linecolor\":\"#506784\",\"minorgridcolor\":\"#506784\",\"startlinecolor\":\"#A2B1C6\"},\"type\":\"carpet\"}],\"table\":[{\"cells\":{\"fill\":{\"color\":\"#506784\"},\"line\":{\"color\":\"rgb(17,17,17)\"}},\"header\":{\"fill\":{\"color\":\"#2a3f5f\"},\"line\":{\"color\":\"rgb(17,17,17)\"}},\"type\":\"table\"}],\"barpolar\":[{\"marker\":{\"line\":{\"color\":\"rgb(17,17,17)\",\"width\":0.5},\"pattern\":{\"fillmode\":\"overlay\",\"size\":10,\"solidity\":0.2}},\"type\":\"barpolar\"}],\"pie\":[{\"automargin\":true,\"type\":\"pie\"}]},\"layout\":{\"autotypenumbers\":\"strict\",\"colorway\":[\"#636efa\",\"#EF553B\",\"#00cc96\",\"#ab63fa\",\"#FFA15A\",\"#19d3f3\",\"#FF6692\",\"#B6E880\",\"#FF97FF\",\"#FECB52\"],\"font\":{\"color\":\"#f2f5fa\"},\"hovermode\":\"closest\",\"hoverlabel\":{\"align\":\"left\"},\"paper_bgcolor\":\"rgb(17,17,17)\",\"plot_bgcolor\":\"rgb(17,17,17)\",\"polar\":{\"bgcolor\":\"rgb(17,17,17)\",\"angularaxis\":{\"gridcolor\":\"#506784\",\"linecolor\":\"#506784\",\"ticks\":\"\"},\"radialaxis\":{\"gridcolor\":\"#506784\",\"linecolor\":\"#506784\",\"ticks\":\"\"}},\"ternary\":{\"bgcolor\":\"rgb(17,17,17)\",\"aaxis\":{\"gridcolor\":\"#506784\",\"linecolor\":\"#506784\",\"ticks\":\"\"},\"baxis\":{\"gridcolor\":\"#506784\",\"linecolor\":\"#506784\",\"ticks\":\"\"},\"caxis\":{\"gridcolor\":\"#506784\",\"linecolor\":\"#506784\",\"ticks\":\"\"}},\"coloraxis\":{\"colorbar\":{\"outlinewidth\":0,\"ticks\":\"\"}},\"colorscale\":{\"sequential\":[[0.0,\"#0d0887\"],[0.1111111111111111,\"#46039f\"],[0.2222222222222222,\"#7201a8\"],[0.3333333333333333,\"#9c179e\"],[0.4444444444444444,\"#bd3786\"],[0.5555555555555556,\"#d8576b\"],[0.6666666666666666,\"#ed7953\"],[0.7777777777777778,\"#fb9f3a\"],[0.8888888888888888,\"#fdca26\"],[1.0,\"#f0f921\"]],\"sequentialminus\":[[0.0,\"#0d0887\"],[0.1111111111111111,\"#46039f\"],[0.2222222222222222,\"#7201a8\"],[0.3333333333333333,\"#9c179e\"],[0.4444444444444444,\"#bd3786\"],[0.5555555555555556,\"#d8576b\"],[0.6666666666666666,\"#ed7953\"],[0.7777777777777778,\"#fb9f3a\"],[0.8888888888888888,\"#fdca26\"],[1.0,\"#f0f921\"]],\"diverging\":[[0,\"#8e0152\"],[0.1,\"#c51b7d\"],[0.2,\"#de77ae\"],[0.3,\"#f1b6da\"],[0.4,\"#fde0ef\"],[0.5,\"#f7f7f7\"],[0.6,\"#e6f5d0\"],[0.7,\"#b8e186\"],[0.8,\"#7fbc41\"],[0.9,\"#4d9221\"],[1,\"#276419\"]]},\"xaxis\":{\"gridcolor\":\"#283442\",\"linecolor\":\"#506784\",\"ticks\":\"\",\"title\":{\"standoff\":15},\"zerolinecolor\":\"#283442\",\"automargin\":true,\"zerolinewidth\":2},\"yaxis\":{\"gridcolor\":\"#283442\",\"linecolor\":\"#506784\",\"ticks\":\"\",\"title\":{\"standoff\":15},\"zerolinecolor\":\"#283442\",\"automargin\":true,\"zerolinewidth\":2},\"scene\":{\"xaxis\":{\"backgroundcolor\":\"rgb(17,17,17)\",\"gridcolor\":\"#506784\",\"linecolor\":\"#506784\",\"showbackground\":true,\"ticks\":\"\",\"zerolinecolor\":\"#C8D4E3\",\"gridwidth\":2},\"yaxis\":{\"backgroundcolor\":\"rgb(17,17,17)\",\"gridcolor\":\"#506784\",\"linecolor\":\"#506784\",\"showbackground\":true,\"ticks\":\"\",\"zerolinecolor\":\"#C8D4E3\",\"gridwidth\":2},\"zaxis\":{\"backgroundcolor\":\"rgb(17,17,17)\",\"gridcolor\":\"#506784\",\"linecolor\":\"#506784\",\"showbackground\":true,\"ticks\":\"\",\"zerolinecolor\":\"#C8D4E3\",\"gridwidth\":2}},\"shapedefaults\":{\"line\":{\"color\":\"#f2f5fa\"}},\"annotationdefaults\":{\"arrowcolor\":\"#f2f5fa\",\"arrowhead\":0,\"arrowwidth\":1},\"geo\":{\"bgcolor\":\"rgb(17,17,17)\",\"landcolor\":\"rgb(17,17,17)\",\"subunitcolor\":\"#506784\",\"showland\":true,\"showlakes\":true,\"lakecolor\":\"rgb(17,17,17)\"},\"title\":{\"x\":0.05},\"updatemenudefaults\":{\"bgcolor\":\"#506784\",\"borderwidth\":0},\"sliderdefaults\":{\"bgcolor\":\"#C8D4E3\",\"borderwidth\":1,\"bordercolor\":\"rgb(17,17,17)\",\"tickwidth\":0},\"mapbox\":{\"style\":\"dark\"}}},\"xaxis\":{\"anchor\":\"y\",\"domain\":[0.0,0.31999999999999995],\"title\":{\"text\":\"Dimensione array\"}},\"yaxis\":{\"anchor\":\"x\",\"domain\":[0.0,1.0],\"title\":{\"text\":\"Time (s)\"}},\"xaxis2\":{\"anchor\":\"y2\",\"domain\":[0.33999999999999997,0.6599999999999999],\"matches\":\"x\",\"title\":{\"text\":\"Dimensione array\"}},\"yaxis2\":{\"anchor\":\"x2\",\"domain\":[0.0,1.0],\"matches\":\"y\",\"showticklabels\":false},\"xaxis3\":{\"anchor\":\"y3\",\"domain\":[0.6799999999999999,0.9999999999999999],\"matches\":\"x\",\"title\":{\"text\":\"Dimensione array\"}},\"yaxis3\":{\"anchor\":\"x3\",\"domain\":[0.0,1.0],\"matches\":\"y\",\"showticklabels\":false},\"annotations\":[{\"font\":{},\"showarrow\":false,\"text\":\"Tipo di input=random\",\"x\":0.15999999999999998,\"xanchor\":\"center\",\"xref\":\"paper\",\"y\":1.0,\"yanchor\":\"bottom\",\"yref\":\"paper\"},{\"font\":{},\"showarrow\":false,\"text\":\"Tipo di input=sorted\",\"x\":0.49999999999999994,\"xanchor\":\"center\",\"xref\":\"paper\",\"y\":1.0,\"yanchor\":\"bottom\",\"yref\":\"paper\"},{\"font\":{},\"showarrow\":false,\"text\":\"Tipo di input=reversed\",\"x\":0.8399999999999999,\"xanchor\":\"center\",\"xref\":\"paper\",\"y\":1.0,\"yanchor\":\"bottom\",\"yref\":\"paper\"}],\"legend\":{\"title\":{\"text\":\"Algoritmo di ordinamento\"},\"tracegroupgap\":0},\"title\":{\"text\":\"Sorting algorithms\"}},                        {\"responsive\": true}                    ).then(function(){\n                            \nvar gd = document.getElementById('54334723-efec-45ee-a9c4-405c7ffc634c');\nvar x = new MutationObserver(function (mutations, observer) {{\n        var display = window.getComputedStyle(gd).display;\n        if (!display || display === 'none') {{\n            console.log([gd, 'removed!']);\n            Plotly.purge(gd);\n            observer.disconnect();\n        }}\n}});\n\n// Listen for the removal of the full notebook cells\nvar notebookContainer = gd.closest('#notebook-container');\nif (notebookContainer) {{\n    x.observe(notebookContainer, {childList: true});\n}}\n\n// Listen for the clearing of the current output cell\nvar outputEl = gd.closest('.output');\nif (outputEl) {{\n    x.observe(outputEl, {childList: true});\n}}\n\n                        })                };                });            </script>        </div>"
     },
     "metadata": {},
     "output_type": "display_data"
    }
   ],
   "source": [
    "figure = px.scatter(df.query(\"num_samples > 0\"),\n",
    "                 x=\"num_samples\",\n",
    "                 y=\"time\",\n",
    "                 color=\"test_type\",\n",
    "                 facet_col=\"input_type\",\n",
    "                 title=\"Sorting algorithms\",\n",
    "                 labels={\"num_samples\": \"Dimensione array\", \"time\": \"Time (s)\", \"test_type\": \"Algoritmo di ordinamento\", \"input_type\": \"Tipo di input\"})\n",
    "\n",
    "figure.show()"
   ]
  },
  {
   "cell_type": "markdown",
   "id": "24cf2993",
   "metadata": {},
   "source": [
    "Visualizziamo il caso con passo pari a 10 e range da 0 a 100. Partendo dall' algoritmo di _insertion sort_, notiamo che nel caso di un input randomico o inversamente ordinato, il tempo impiegato per ordinare l'array cresce in modo quadratico e lo fa in modo particolare nel secondo caso. Nel caso di un input ordinato, invece, il tempo impiegato per ordinare l'array è lineare, in quanto l'array è già ordinato e non è necessario eseguire alcuna operazione di ordinamento, ma solo il ciclo di \"controllo\" su tutti i valori. Visualizzeremo questo aspetto in maniera più chiara nel grafico successivo, dove isoleremo il caso di un input ordinato. Nel caso del _counting sort_, invece, notiamo che il tempo impiegato per ordinare l'array è lineare (visibile deselezionando la dicituara _insertion_sort_ sotto il menù _Algoritmo di ordinamento_), in quanto l'array viene ordinato in tempo _O(n+k)_ con _k=O(n)_, senza alcuna operazione di confronto tra elementi. Notiamo che in questo caso il costo computazionale del _counting sort_ è particolarmente basso, in quanto legato al range di generazione dei numeri, che è molto piccolo (da 0 a 100). Questo aspetto sarà più evidente nel caso di array di grandi dimensioni ma anche nei casi con range di generazione dei numeri più grandi."
   ]
  },
  {
   "cell_type": "code",
   "execution_count": 214,
   "id": "8165ca5d",
   "metadata": {},
   "outputs": [
    {
     "data": {
      "application/vnd.plotly.v1+json": {
       "data": [
        {
         "hovertemplate": "Algoritmo di ordinamento=insertion_sort<br>Tipo di input=sorted<br>Dimensione array=%{x}<br>Time (s)=%{y}<extra></extra>",
         "legendgroup": "insertion_sort",
         "line": {
          "color": "#636efa",
          "dash": "solid"
         },
         "marker": {
          "symbol": "circle"
         },
         "mode": "lines",
         "name": "insertion_sort",
         "orientation": "v",
         "showlegend": true,
         "x": [
          10,
          20,
          30,
          40,
          50,
          60,
          70,
          80,
          90
         ],
         "xaxis": "x",
         "y": [
          5.299982149153948E-6,
          6.599992047995329E-6,
          7.700000423938036E-6,
          1.0599964298307896E-5,
          7.099995855242014E-6,
          9.700015652924776E-6,
          9.000010322779417E-6,
          9.700015652924776E-6,
          1.0600022505968809E-5
         ],
         "yaxis": "y",
         "type": "scatter"
        },
        {
         "hovertemplate": "Algoritmo di ordinamento=counting_sort<br>Tipo di input=sorted<br>Dimensione array=%{x}<br>Time (s)=%{y}<extra></extra>",
         "legendgroup": "counting_sort",
         "line": {
          "color": "#EF553B",
          "dash": "solid"
         },
         "marker": {
          "symbol": "circle"
         },
         "mode": "lines",
         "name": "counting_sort",
         "orientation": "v",
         "showlegend": true,
         "x": [
          10,
          20,
          30,
          40,
          50,
          60,
          70,
          80,
          90
         ],
         "xaxis": "x",
         "y": [
          1.8600025214254856E-5,
          2.0799983758479357E-5,
          2.2599997464567423E-5,
          2.4300010409206152E-5,
          2.7500034775584936E-5,
          3.5100034438073635E-5,
          3.1800009310245514E-5,
          3.450002986937761E-5,
          3.6999990697950125E-5
         ],
         "yaxis": "y",
         "type": "scatter"
        }
       ],
       "layout": {
        "template": {
         "data": {
          "histogram2dcontour": [
           {
            "type": "histogram2dcontour",
            "colorbar": {
             "outlinewidth": 0,
             "ticks": ""
            },
            "colorscale": [
             [
              0.0,
              "#0d0887"
             ],
             [
              0.1111111111111111,
              "#46039f"
             ],
             [
              0.2222222222222222,
              "#7201a8"
             ],
             [
              0.3333333333333333,
              "#9c179e"
             ],
             [
              0.4444444444444444,
              "#bd3786"
             ],
             [
              0.5555555555555556,
              "#d8576b"
             ],
             [
              0.6666666666666666,
              "#ed7953"
             ],
             [
              0.7777777777777778,
              "#fb9f3a"
             ],
             [
              0.8888888888888888,
              "#fdca26"
             ],
             [
              1.0,
              "#f0f921"
             ]
            ]
           }
          ],
          "choropleth": [
           {
            "type": "choropleth",
            "colorbar": {
             "outlinewidth": 0,
             "ticks": ""
            }
           }
          ],
          "histogram2d": [
           {
            "type": "histogram2d",
            "colorbar": {
             "outlinewidth": 0,
             "ticks": ""
            },
            "colorscale": [
             [
              0.0,
              "#0d0887"
             ],
             [
              0.1111111111111111,
              "#46039f"
             ],
             [
              0.2222222222222222,
              "#7201a8"
             ],
             [
              0.3333333333333333,
              "#9c179e"
             ],
             [
              0.4444444444444444,
              "#bd3786"
             ],
             [
              0.5555555555555556,
              "#d8576b"
             ],
             [
              0.6666666666666666,
              "#ed7953"
             ],
             [
              0.7777777777777778,
              "#fb9f3a"
             ],
             [
              0.8888888888888888,
              "#fdca26"
             ],
             [
              1.0,
              "#f0f921"
             ]
            ]
           }
          ],
          "heatmap": [
           {
            "type": "heatmap",
            "colorbar": {
             "outlinewidth": 0,
             "ticks": ""
            },
            "colorscale": [
             [
              0.0,
              "#0d0887"
             ],
             [
              0.1111111111111111,
              "#46039f"
             ],
             [
              0.2222222222222222,
              "#7201a8"
             ],
             [
              0.3333333333333333,
              "#9c179e"
             ],
             [
              0.4444444444444444,
              "#bd3786"
             ],
             [
              0.5555555555555556,
              "#d8576b"
             ],
             [
              0.6666666666666666,
              "#ed7953"
             ],
             [
              0.7777777777777778,
              "#fb9f3a"
             ],
             [
              0.8888888888888888,
              "#fdca26"
             ],
             [
              1.0,
              "#f0f921"
             ]
            ]
           }
          ],
          "heatmapgl": [
           {
            "type": "heatmapgl",
            "colorbar": {
             "outlinewidth": 0,
             "ticks": ""
            },
            "colorscale": [
             [
              0.0,
              "#0d0887"
             ],
             [
              0.1111111111111111,
              "#46039f"
             ],
             [
              0.2222222222222222,
              "#7201a8"
             ],
             [
              0.3333333333333333,
              "#9c179e"
             ],
             [
              0.4444444444444444,
              "#bd3786"
             ],
             [
              0.5555555555555556,
              "#d8576b"
             ],
             [
              0.6666666666666666,
              "#ed7953"
             ],
             [
              0.7777777777777778,
              "#fb9f3a"
             ],
             [
              0.8888888888888888,
              "#fdca26"
             ],
             [
              1.0,
              "#f0f921"
             ]
            ]
           }
          ],
          "contourcarpet": [
           {
            "type": "contourcarpet",
            "colorbar": {
             "outlinewidth": 0,
             "ticks": ""
            }
           }
          ],
          "contour": [
           {
            "type": "contour",
            "colorbar": {
             "outlinewidth": 0,
             "ticks": ""
            },
            "colorscale": [
             [
              0.0,
              "#0d0887"
             ],
             [
              0.1111111111111111,
              "#46039f"
             ],
             [
              0.2222222222222222,
              "#7201a8"
             ],
             [
              0.3333333333333333,
              "#9c179e"
             ],
             [
              0.4444444444444444,
              "#bd3786"
             ],
             [
              0.5555555555555556,
              "#d8576b"
             ],
             [
              0.6666666666666666,
              "#ed7953"
             ],
             [
              0.7777777777777778,
              "#fb9f3a"
             ],
             [
              0.8888888888888888,
              "#fdca26"
             ],
             [
              1.0,
              "#f0f921"
             ]
            ]
           }
          ],
          "surface": [
           {
            "type": "surface",
            "colorbar": {
             "outlinewidth": 0,
             "ticks": ""
            },
            "colorscale": [
             [
              0.0,
              "#0d0887"
             ],
             [
              0.1111111111111111,
              "#46039f"
             ],
             [
              0.2222222222222222,
              "#7201a8"
             ],
             [
              0.3333333333333333,
              "#9c179e"
             ],
             [
              0.4444444444444444,
              "#bd3786"
             ],
             [
              0.5555555555555556,
              "#d8576b"
             ],
             [
              0.6666666666666666,
              "#ed7953"
             ],
             [
              0.7777777777777778,
              "#fb9f3a"
             ],
             [
              0.8888888888888888,
              "#fdca26"
             ],
             [
              1.0,
              "#f0f921"
             ]
            ]
           }
          ],
          "mesh3d": [
           {
            "type": "mesh3d",
            "colorbar": {
             "outlinewidth": 0,
             "ticks": ""
            }
           }
          ],
          "scatter": [
           {
            "marker": {
             "line": {
              "color": "#283442"
             }
            },
            "type": "scatter"
           }
          ],
          "parcoords": [
           {
            "type": "parcoords",
            "line": {
             "colorbar": {
              "outlinewidth": 0,
              "ticks": ""
             }
            }
           }
          ],
          "scatterpolargl": [
           {
            "type": "scatterpolargl",
            "marker": {
             "colorbar": {
              "outlinewidth": 0,
              "ticks": ""
             }
            }
           }
          ],
          "bar": [
           {
            "error_x": {
             "color": "#f2f5fa"
            },
            "error_y": {
             "color": "#f2f5fa"
            },
            "marker": {
             "line": {
              "color": "rgb(17,17,17)",
              "width": 0.5
             },
             "pattern": {
              "fillmode": "overlay",
              "size": 10,
              "solidity": 0.2
             }
            },
            "type": "bar"
           }
          ],
          "scattergeo": [
           {
            "type": "scattergeo",
            "marker": {
             "colorbar": {
              "outlinewidth": 0,
              "ticks": ""
             }
            }
           }
          ],
          "scatterpolar": [
           {
            "type": "scatterpolar",
            "marker": {
             "colorbar": {
              "outlinewidth": 0,
              "ticks": ""
             }
            }
           }
          ],
          "histogram": [
           {
            "marker": {
             "pattern": {
              "fillmode": "overlay",
              "size": 10,
              "solidity": 0.2
             }
            },
            "type": "histogram"
           }
          ],
          "scattergl": [
           {
            "marker": {
             "line": {
              "color": "#283442"
             }
            },
            "type": "scattergl"
           }
          ],
          "scatter3d": [
           {
            "type": "scatter3d",
            "line": {
             "colorbar": {
              "outlinewidth": 0,
              "ticks": ""
             }
            },
            "marker": {
             "colorbar": {
              "outlinewidth": 0,
              "ticks": ""
             }
            }
           }
          ],
          "scattermapbox": [
           {
            "type": "scattermapbox",
            "marker": {
             "colorbar": {
              "outlinewidth": 0,
              "ticks": ""
             }
            }
           }
          ],
          "scatterternary": [
           {
            "type": "scatterternary",
            "marker": {
             "colorbar": {
              "outlinewidth": 0,
              "ticks": ""
             }
            }
           }
          ],
          "scattercarpet": [
           {
            "type": "scattercarpet",
            "marker": {
             "colorbar": {
              "outlinewidth": 0,
              "ticks": ""
             }
            }
           }
          ],
          "carpet": [
           {
            "aaxis": {
             "endlinecolor": "#A2B1C6",
             "gridcolor": "#506784",
             "linecolor": "#506784",
             "minorgridcolor": "#506784",
             "startlinecolor": "#A2B1C6"
            },
            "baxis": {
             "endlinecolor": "#A2B1C6",
             "gridcolor": "#506784",
             "linecolor": "#506784",
             "minorgridcolor": "#506784",
             "startlinecolor": "#A2B1C6"
            },
            "type": "carpet"
           }
          ],
          "table": [
           {
            "cells": {
             "fill": {
              "color": "#506784"
             },
             "line": {
              "color": "rgb(17,17,17)"
             }
            },
            "header": {
             "fill": {
              "color": "#2a3f5f"
             },
             "line": {
              "color": "rgb(17,17,17)"
             }
            },
            "type": "table"
           }
          ],
          "barpolar": [
           {
            "marker": {
             "line": {
              "color": "rgb(17,17,17)",
              "width": 0.5
             },
             "pattern": {
              "fillmode": "overlay",
              "size": 10,
              "solidity": 0.2
             }
            },
            "type": "barpolar"
           }
          ],
          "pie": [
           {
            "automargin": true,
            "type": "pie"
           }
          ]
         },
         "layout": {
          "autotypenumbers": "strict",
          "colorway": [
           "#636efa",
           "#EF553B",
           "#00cc96",
           "#ab63fa",
           "#FFA15A",
           "#19d3f3",
           "#FF6692",
           "#B6E880",
           "#FF97FF",
           "#FECB52"
          ],
          "font": {
           "color": "#f2f5fa"
          },
          "hovermode": "closest",
          "hoverlabel": {
           "align": "left"
          },
          "paper_bgcolor": "rgb(17,17,17)",
          "plot_bgcolor": "rgb(17,17,17)",
          "polar": {
           "bgcolor": "rgb(17,17,17)",
           "angularaxis": {
            "gridcolor": "#506784",
            "linecolor": "#506784",
            "ticks": ""
           },
           "radialaxis": {
            "gridcolor": "#506784",
            "linecolor": "#506784",
            "ticks": ""
           }
          },
          "ternary": {
           "bgcolor": "rgb(17,17,17)",
           "aaxis": {
            "gridcolor": "#506784",
            "linecolor": "#506784",
            "ticks": ""
           },
           "baxis": {
            "gridcolor": "#506784",
            "linecolor": "#506784",
            "ticks": ""
           },
           "caxis": {
            "gridcolor": "#506784",
            "linecolor": "#506784",
            "ticks": ""
           }
          },
          "coloraxis": {
           "colorbar": {
            "outlinewidth": 0,
            "ticks": ""
           }
          },
          "colorscale": {
           "sequential": [
            [
             0.0,
             "#0d0887"
            ],
            [
             0.1111111111111111,
             "#46039f"
            ],
            [
             0.2222222222222222,
             "#7201a8"
            ],
            [
             0.3333333333333333,
             "#9c179e"
            ],
            [
             0.4444444444444444,
             "#bd3786"
            ],
            [
             0.5555555555555556,
             "#d8576b"
            ],
            [
             0.6666666666666666,
             "#ed7953"
            ],
            [
             0.7777777777777778,
             "#fb9f3a"
            ],
            [
             0.8888888888888888,
             "#fdca26"
            ],
            [
             1.0,
             "#f0f921"
            ]
           ],
           "sequentialminus": [
            [
             0.0,
             "#0d0887"
            ],
            [
             0.1111111111111111,
             "#46039f"
            ],
            [
             0.2222222222222222,
             "#7201a8"
            ],
            [
             0.3333333333333333,
             "#9c179e"
            ],
            [
             0.4444444444444444,
             "#bd3786"
            ],
            [
             0.5555555555555556,
             "#d8576b"
            ],
            [
             0.6666666666666666,
             "#ed7953"
            ],
            [
             0.7777777777777778,
             "#fb9f3a"
            ],
            [
             0.8888888888888888,
             "#fdca26"
            ],
            [
             1.0,
             "#f0f921"
            ]
           ],
           "diverging": [
            [
             0,
             "#8e0152"
            ],
            [
             0.1,
             "#c51b7d"
            ],
            [
             0.2,
             "#de77ae"
            ],
            [
             0.3,
             "#f1b6da"
            ],
            [
             0.4,
             "#fde0ef"
            ],
            [
             0.5,
             "#f7f7f7"
            ],
            [
             0.6,
             "#e6f5d0"
            ],
            [
             0.7,
             "#b8e186"
            ],
            [
             0.8,
             "#7fbc41"
            ],
            [
             0.9,
             "#4d9221"
            ],
            [
             1,
             "#276419"
            ]
           ]
          },
          "xaxis": {
           "gridcolor": "#283442",
           "linecolor": "#506784",
           "ticks": "",
           "title": {
            "standoff": 15
           },
           "zerolinecolor": "#283442",
           "automargin": true,
           "zerolinewidth": 2
          },
          "yaxis": {
           "gridcolor": "#283442",
           "linecolor": "#506784",
           "ticks": "",
           "title": {
            "standoff": 15
           },
           "zerolinecolor": "#283442",
           "automargin": true,
           "zerolinewidth": 2
          },
          "scene": {
           "xaxis": {
            "backgroundcolor": "rgb(17,17,17)",
            "gridcolor": "#506784",
            "linecolor": "#506784",
            "showbackground": true,
            "ticks": "",
            "zerolinecolor": "#C8D4E3",
            "gridwidth": 2
           },
           "yaxis": {
            "backgroundcolor": "rgb(17,17,17)",
            "gridcolor": "#506784",
            "linecolor": "#506784",
            "showbackground": true,
            "ticks": "",
            "zerolinecolor": "#C8D4E3",
            "gridwidth": 2
           },
           "zaxis": {
            "backgroundcolor": "rgb(17,17,17)",
            "gridcolor": "#506784",
            "linecolor": "#506784",
            "showbackground": true,
            "ticks": "",
            "zerolinecolor": "#C8D4E3",
            "gridwidth": 2
           }
          },
          "shapedefaults": {
           "line": {
            "color": "#f2f5fa"
           }
          },
          "annotationdefaults": {
           "arrowcolor": "#f2f5fa",
           "arrowhead": 0,
           "arrowwidth": 1
          },
          "geo": {
           "bgcolor": "rgb(17,17,17)",
           "landcolor": "rgb(17,17,17)",
           "subunitcolor": "#506784",
           "showland": true,
           "showlakes": true,
           "lakecolor": "rgb(17,17,17)"
          },
          "title": {
           "x": 0.05
          },
          "updatemenudefaults": {
           "bgcolor": "#506784",
           "borderwidth": 0
          },
          "sliderdefaults": {
           "bgcolor": "#C8D4E3",
           "borderwidth": 1,
           "bordercolor": "rgb(17,17,17)",
           "tickwidth": 0
          },
          "mapbox": {
           "style": "dark"
          }
         }
        },
        "xaxis": {
         "anchor": "y",
         "domain": [
          0.0,
          1.0
         ],
         "title": {
          "text": "Dimensione array"
         }
        },
        "yaxis": {
         "anchor": "x",
         "domain": [
          0.0,
          1.0
         ],
         "title": {
          "text": "Time (s)"
         }
        },
        "annotations": [
         {
          "font": {},
          "showarrow": false,
          "text": "Tipo di input=sorted",
          "x": 0.5,
          "xanchor": "center",
          "xref": "paper",
          "y": 1.0,
          "yanchor": "bottom",
          "yref": "paper"
         }
        ],
        "legend": {
         "title": {
          "text": "Algoritmo di ordinamento"
         },
         "tracegroupgap": 0
        },
        "title": {
         "text": "Sorting algorithms"
        }
       },
       "config": {
        "plotlyServerURL": "https://plot.ly"
       }
      },
      "text/html": "<div>                            <div id=\"8947e279-8f00-4724-8195-1ba93261dda8\" class=\"plotly-graph-div\" style=\"height:525px; width:100%;\"></div>            <script type=\"text/javascript\">                require([\"plotly\"], function(Plotly) {                    window.PLOTLYENV=window.PLOTLYENV || {};                                    if (document.getElementById(\"8947e279-8f00-4724-8195-1ba93261dda8\")) {                    Plotly.newPlot(                        \"8947e279-8f00-4724-8195-1ba93261dda8\",                        [{\"hovertemplate\":\"Algoritmo di ordinamento=insertion_sort<br>Tipo di input=sorted<br>Dimensione array=%{x}<br>Time (s)=%{y}<extra></extra>\",\"legendgroup\":\"insertion_sort\",\"line\":{\"color\":\"#636efa\",\"dash\":\"solid\"},\"marker\":{\"symbol\":\"circle\"},\"mode\":\"lines\",\"name\":\"insertion_sort\",\"orientation\":\"v\",\"showlegend\":true,\"x\":[10,20,30,40,50,60,70,80,90],\"xaxis\":\"x\",\"y\":[5.299982149153948e-06,6.599992047995329e-06,7.700000423938036e-06,1.0599964298307896e-05,7.099995855242014e-06,9.700015652924776e-06,9.000010322779417e-06,9.700015652924776e-06,1.0600022505968809e-05],\"yaxis\":\"y\",\"type\":\"scatter\"},{\"hovertemplate\":\"Algoritmo di ordinamento=counting_sort<br>Tipo di input=sorted<br>Dimensione array=%{x}<br>Time (s)=%{y}<extra></extra>\",\"legendgroup\":\"counting_sort\",\"line\":{\"color\":\"#EF553B\",\"dash\":\"solid\"},\"marker\":{\"symbol\":\"circle\"},\"mode\":\"lines\",\"name\":\"counting_sort\",\"orientation\":\"v\",\"showlegend\":true,\"x\":[10,20,30,40,50,60,70,80,90],\"xaxis\":\"x\",\"y\":[1.8600025214254856e-05,2.0799983758479357e-05,2.2599997464567423e-05,2.4300010409206152e-05,2.7500034775584936e-05,3.5100034438073635e-05,3.1800009310245514e-05,3.450002986937761e-05,3.6999990697950125e-05],\"yaxis\":\"y\",\"type\":\"scatter\"}],                        {\"template\":{\"data\":{\"histogram2dcontour\":[{\"type\":\"histogram2dcontour\",\"colorbar\":{\"outlinewidth\":0,\"ticks\":\"\"},\"colorscale\":[[0.0,\"#0d0887\"],[0.1111111111111111,\"#46039f\"],[0.2222222222222222,\"#7201a8\"],[0.3333333333333333,\"#9c179e\"],[0.4444444444444444,\"#bd3786\"],[0.5555555555555556,\"#d8576b\"],[0.6666666666666666,\"#ed7953\"],[0.7777777777777778,\"#fb9f3a\"],[0.8888888888888888,\"#fdca26\"],[1.0,\"#f0f921\"]]}],\"choropleth\":[{\"type\":\"choropleth\",\"colorbar\":{\"outlinewidth\":0,\"ticks\":\"\"}}],\"histogram2d\":[{\"type\":\"histogram2d\",\"colorbar\":{\"outlinewidth\":0,\"ticks\":\"\"},\"colorscale\":[[0.0,\"#0d0887\"],[0.1111111111111111,\"#46039f\"],[0.2222222222222222,\"#7201a8\"],[0.3333333333333333,\"#9c179e\"],[0.4444444444444444,\"#bd3786\"],[0.5555555555555556,\"#d8576b\"],[0.6666666666666666,\"#ed7953\"],[0.7777777777777778,\"#fb9f3a\"],[0.8888888888888888,\"#fdca26\"],[1.0,\"#f0f921\"]]}],\"heatmap\":[{\"type\":\"heatmap\",\"colorbar\":{\"outlinewidth\":0,\"ticks\":\"\"},\"colorscale\":[[0.0,\"#0d0887\"],[0.1111111111111111,\"#46039f\"],[0.2222222222222222,\"#7201a8\"],[0.3333333333333333,\"#9c179e\"],[0.4444444444444444,\"#bd3786\"],[0.5555555555555556,\"#d8576b\"],[0.6666666666666666,\"#ed7953\"],[0.7777777777777778,\"#fb9f3a\"],[0.8888888888888888,\"#fdca26\"],[1.0,\"#f0f921\"]]}],\"heatmapgl\":[{\"type\":\"heatmapgl\",\"colorbar\":{\"outlinewidth\":0,\"ticks\":\"\"},\"colorscale\":[[0.0,\"#0d0887\"],[0.1111111111111111,\"#46039f\"],[0.2222222222222222,\"#7201a8\"],[0.3333333333333333,\"#9c179e\"],[0.4444444444444444,\"#bd3786\"],[0.5555555555555556,\"#d8576b\"],[0.6666666666666666,\"#ed7953\"],[0.7777777777777778,\"#fb9f3a\"],[0.8888888888888888,\"#fdca26\"],[1.0,\"#f0f921\"]]}],\"contourcarpet\":[{\"type\":\"contourcarpet\",\"colorbar\":{\"outlinewidth\":0,\"ticks\":\"\"}}],\"contour\":[{\"type\":\"contour\",\"colorbar\":{\"outlinewidth\":0,\"ticks\":\"\"},\"colorscale\":[[0.0,\"#0d0887\"],[0.1111111111111111,\"#46039f\"],[0.2222222222222222,\"#7201a8\"],[0.3333333333333333,\"#9c179e\"],[0.4444444444444444,\"#bd3786\"],[0.5555555555555556,\"#d8576b\"],[0.6666666666666666,\"#ed7953\"],[0.7777777777777778,\"#fb9f3a\"],[0.8888888888888888,\"#fdca26\"],[1.0,\"#f0f921\"]]}],\"surface\":[{\"type\":\"surface\",\"colorbar\":{\"outlinewidth\":0,\"ticks\":\"\"},\"colorscale\":[[0.0,\"#0d0887\"],[0.1111111111111111,\"#46039f\"],[0.2222222222222222,\"#7201a8\"],[0.3333333333333333,\"#9c179e\"],[0.4444444444444444,\"#bd3786\"],[0.5555555555555556,\"#d8576b\"],[0.6666666666666666,\"#ed7953\"],[0.7777777777777778,\"#fb9f3a\"],[0.8888888888888888,\"#fdca26\"],[1.0,\"#f0f921\"]]}],\"mesh3d\":[{\"type\":\"mesh3d\",\"colorbar\":{\"outlinewidth\":0,\"ticks\":\"\"}}],\"scatter\":[{\"marker\":{\"line\":{\"color\":\"#283442\"}},\"type\":\"scatter\"}],\"parcoords\":[{\"type\":\"parcoords\",\"line\":{\"colorbar\":{\"outlinewidth\":0,\"ticks\":\"\"}}}],\"scatterpolargl\":[{\"type\":\"scatterpolargl\",\"marker\":{\"colorbar\":{\"outlinewidth\":0,\"ticks\":\"\"}}}],\"bar\":[{\"error_x\":{\"color\":\"#f2f5fa\"},\"error_y\":{\"color\":\"#f2f5fa\"},\"marker\":{\"line\":{\"color\":\"rgb(17,17,17)\",\"width\":0.5},\"pattern\":{\"fillmode\":\"overlay\",\"size\":10,\"solidity\":0.2}},\"type\":\"bar\"}],\"scattergeo\":[{\"type\":\"scattergeo\",\"marker\":{\"colorbar\":{\"outlinewidth\":0,\"ticks\":\"\"}}}],\"scatterpolar\":[{\"type\":\"scatterpolar\",\"marker\":{\"colorbar\":{\"outlinewidth\":0,\"ticks\":\"\"}}}],\"histogram\":[{\"marker\":{\"pattern\":{\"fillmode\":\"overlay\",\"size\":10,\"solidity\":0.2}},\"type\":\"histogram\"}],\"scattergl\":[{\"marker\":{\"line\":{\"color\":\"#283442\"}},\"type\":\"scattergl\"}],\"scatter3d\":[{\"type\":\"scatter3d\",\"line\":{\"colorbar\":{\"outlinewidth\":0,\"ticks\":\"\"}},\"marker\":{\"colorbar\":{\"outlinewidth\":0,\"ticks\":\"\"}}}],\"scattermapbox\":[{\"type\":\"scattermapbox\",\"marker\":{\"colorbar\":{\"outlinewidth\":0,\"ticks\":\"\"}}}],\"scatterternary\":[{\"type\":\"scatterternary\",\"marker\":{\"colorbar\":{\"outlinewidth\":0,\"ticks\":\"\"}}}],\"scattercarpet\":[{\"type\":\"scattercarpet\",\"marker\":{\"colorbar\":{\"outlinewidth\":0,\"ticks\":\"\"}}}],\"carpet\":[{\"aaxis\":{\"endlinecolor\":\"#A2B1C6\",\"gridcolor\":\"#506784\",\"linecolor\":\"#506784\",\"minorgridcolor\":\"#506784\",\"startlinecolor\":\"#A2B1C6\"},\"baxis\":{\"endlinecolor\":\"#A2B1C6\",\"gridcolor\":\"#506784\",\"linecolor\":\"#506784\",\"minorgridcolor\":\"#506784\",\"startlinecolor\":\"#A2B1C6\"},\"type\":\"carpet\"}],\"table\":[{\"cells\":{\"fill\":{\"color\":\"#506784\"},\"line\":{\"color\":\"rgb(17,17,17)\"}},\"header\":{\"fill\":{\"color\":\"#2a3f5f\"},\"line\":{\"color\":\"rgb(17,17,17)\"}},\"type\":\"table\"}],\"barpolar\":[{\"marker\":{\"line\":{\"color\":\"rgb(17,17,17)\",\"width\":0.5},\"pattern\":{\"fillmode\":\"overlay\",\"size\":10,\"solidity\":0.2}},\"type\":\"barpolar\"}],\"pie\":[{\"automargin\":true,\"type\":\"pie\"}]},\"layout\":{\"autotypenumbers\":\"strict\",\"colorway\":[\"#636efa\",\"#EF553B\",\"#00cc96\",\"#ab63fa\",\"#FFA15A\",\"#19d3f3\",\"#FF6692\",\"#B6E880\",\"#FF97FF\",\"#FECB52\"],\"font\":{\"color\":\"#f2f5fa\"},\"hovermode\":\"closest\",\"hoverlabel\":{\"align\":\"left\"},\"paper_bgcolor\":\"rgb(17,17,17)\",\"plot_bgcolor\":\"rgb(17,17,17)\",\"polar\":{\"bgcolor\":\"rgb(17,17,17)\",\"angularaxis\":{\"gridcolor\":\"#506784\",\"linecolor\":\"#506784\",\"ticks\":\"\"},\"radialaxis\":{\"gridcolor\":\"#506784\",\"linecolor\":\"#506784\",\"ticks\":\"\"}},\"ternary\":{\"bgcolor\":\"rgb(17,17,17)\",\"aaxis\":{\"gridcolor\":\"#506784\",\"linecolor\":\"#506784\",\"ticks\":\"\"},\"baxis\":{\"gridcolor\":\"#506784\",\"linecolor\":\"#506784\",\"ticks\":\"\"},\"caxis\":{\"gridcolor\":\"#506784\",\"linecolor\":\"#506784\",\"ticks\":\"\"}},\"coloraxis\":{\"colorbar\":{\"outlinewidth\":0,\"ticks\":\"\"}},\"colorscale\":{\"sequential\":[[0.0,\"#0d0887\"],[0.1111111111111111,\"#46039f\"],[0.2222222222222222,\"#7201a8\"],[0.3333333333333333,\"#9c179e\"],[0.4444444444444444,\"#bd3786\"],[0.5555555555555556,\"#d8576b\"],[0.6666666666666666,\"#ed7953\"],[0.7777777777777778,\"#fb9f3a\"],[0.8888888888888888,\"#fdca26\"],[1.0,\"#f0f921\"]],\"sequentialminus\":[[0.0,\"#0d0887\"],[0.1111111111111111,\"#46039f\"],[0.2222222222222222,\"#7201a8\"],[0.3333333333333333,\"#9c179e\"],[0.4444444444444444,\"#bd3786\"],[0.5555555555555556,\"#d8576b\"],[0.6666666666666666,\"#ed7953\"],[0.7777777777777778,\"#fb9f3a\"],[0.8888888888888888,\"#fdca26\"],[1.0,\"#f0f921\"]],\"diverging\":[[0,\"#8e0152\"],[0.1,\"#c51b7d\"],[0.2,\"#de77ae\"],[0.3,\"#f1b6da\"],[0.4,\"#fde0ef\"],[0.5,\"#f7f7f7\"],[0.6,\"#e6f5d0\"],[0.7,\"#b8e186\"],[0.8,\"#7fbc41\"],[0.9,\"#4d9221\"],[1,\"#276419\"]]},\"xaxis\":{\"gridcolor\":\"#283442\",\"linecolor\":\"#506784\",\"ticks\":\"\",\"title\":{\"standoff\":15},\"zerolinecolor\":\"#283442\",\"automargin\":true,\"zerolinewidth\":2},\"yaxis\":{\"gridcolor\":\"#283442\",\"linecolor\":\"#506784\",\"ticks\":\"\",\"title\":{\"standoff\":15},\"zerolinecolor\":\"#283442\",\"automargin\":true,\"zerolinewidth\":2},\"scene\":{\"xaxis\":{\"backgroundcolor\":\"rgb(17,17,17)\",\"gridcolor\":\"#506784\",\"linecolor\":\"#506784\",\"showbackground\":true,\"ticks\":\"\",\"zerolinecolor\":\"#C8D4E3\",\"gridwidth\":2},\"yaxis\":{\"backgroundcolor\":\"rgb(17,17,17)\",\"gridcolor\":\"#506784\",\"linecolor\":\"#506784\",\"showbackground\":true,\"ticks\":\"\",\"zerolinecolor\":\"#C8D4E3\",\"gridwidth\":2},\"zaxis\":{\"backgroundcolor\":\"rgb(17,17,17)\",\"gridcolor\":\"#506784\",\"linecolor\":\"#506784\",\"showbackground\":true,\"ticks\":\"\",\"zerolinecolor\":\"#C8D4E3\",\"gridwidth\":2}},\"shapedefaults\":{\"line\":{\"color\":\"#f2f5fa\"}},\"annotationdefaults\":{\"arrowcolor\":\"#f2f5fa\",\"arrowhead\":0,\"arrowwidth\":1},\"geo\":{\"bgcolor\":\"rgb(17,17,17)\",\"landcolor\":\"rgb(17,17,17)\",\"subunitcolor\":\"#506784\",\"showland\":true,\"showlakes\":true,\"lakecolor\":\"rgb(17,17,17)\"},\"title\":{\"x\":0.05},\"updatemenudefaults\":{\"bgcolor\":\"#506784\",\"borderwidth\":0},\"sliderdefaults\":{\"bgcolor\":\"#C8D4E3\",\"borderwidth\":1,\"bordercolor\":\"rgb(17,17,17)\",\"tickwidth\":0},\"mapbox\":{\"style\":\"dark\"}}},\"xaxis\":{\"anchor\":\"y\",\"domain\":[0.0,1.0],\"title\":{\"text\":\"Dimensione array\"}},\"yaxis\":{\"anchor\":\"x\",\"domain\":[0.0,1.0],\"title\":{\"text\":\"Time (s)\"}},\"annotations\":[{\"font\":{},\"showarrow\":false,\"text\":\"Tipo di input=sorted\",\"x\":0.5,\"xanchor\":\"center\",\"xref\":\"paper\",\"y\":1.0,\"yanchor\":\"bottom\",\"yref\":\"paper\"}],\"legend\":{\"title\":{\"text\":\"Algoritmo di ordinamento\"},\"tracegroupgap\":0},\"title\":{\"text\":\"Sorting algorithms\"}},                        {\"responsive\": true}                    ).then(function(){\n                            \nvar gd = document.getElementById('8947e279-8f00-4724-8195-1ba93261dda8');\nvar x = new MutationObserver(function (mutations, observer) {{\n        var display = window.getComputedStyle(gd).display;\n        if (!display || display === 'none') {{\n            console.log([gd, 'removed!']);\n            Plotly.purge(gd);\n            observer.disconnect();\n        }}\n}});\n\n// Listen for the removal of the full notebook cells\nvar notebookContainer = gd.closest('#notebook-container');\nif (notebookContainer) {{\n    x.observe(notebookContainer, {childList: true});\n}}\n\n// Listen for the clearing of the current output cell\nvar outputEl = gd.closest('.output');\nif (outputEl) {{\n    x.observe(outputEl, {childList: true});\n}}\n\n                        })                };                });            </script>        </div>"
     },
     "metadata": {},
     "output_type": "display_data"
    }
   ],
   "source": [
    "figure = px.line(df.query(\"num_samples > 0 and input_type == 'sorted'\"),\n",
    "                 x=\"num_samples\",\n",
    "                 y=\"time\",\n",
    "                 color=\"test_type\",\n",
    "                 facet_col=\"input_type\",\n",
    "                 title=\"Sorting algorithms\",\n",
    "                 labels={\"num_samples\": \"Dimensione array\", \"time\": \"Time (s)\", \"test_type\": \"Algoritmo di ordinamento\", \"input_type\": \"Tipo di input\"})\n",
    "\n",
    "figure.show()"
   ]
  },
  {
   "cell_type": "markdown",
   "id": "ef906cdd",
   "metadata": {},
   "source": [
    "Come detto in precedenza, nel caso di un input ordinato, l'array è già ordinato e non è necessario eseguire alcuna operazione di ordinamento, ma solo il ciclo di \"controllo\" su tutti i valori. Questo aspetto è evidente nel grafico sovrastante, dove è possibile notare che l'andamento del tempo impiegato per ordinare l'array è lineare. Deselezionando la dicitura _counting_sort_ sotto il menù _Algoritmo di ordinamento_ questo aspetto è ancora più evidente (considerando il fatto che il tempo impiegato è molto basso e quindi è possibile che ci sia qualche piccola variazione nell'andamento)."
   ]
  },
  {
   "cell_type": "markdown",
   "source": [
    "#### Array di dimensione 100 con range da 0 a 1000"
   ],
   "metadata": {
    "collapsed": false
   }
  },
  {
   "cell_type": "code",
   "execution_count": 215,
   "outputs": [],
   "source": [
    "df = plot_results(100, 10, (0, 1000))"
   ],
   "metadata": {
    "collapsed": false
   }
  },
  {
   "cell_type": "code",
   "execution_count": 216,
   "outputs": [
    {
     "data": {
      "application/vnd.plotly.v1+json": {
       "data": [
        {
         "hovertemplate": "Algoritmo di ordinamento=insertion_sort<br>Tipo di input=random<br>Dimensione array=%{x}<br>Time (s)=%{y}<extra></extra>",
         "legendgroup": "insertion_sort",
         "marker": {
          "color": "#636efa",
          "symbol": "circle"
         },
         "mode": "markers",
         "name": "insertion_sort",
         "orientation": "v",
         "showlegend": true,
         "x": [
          10,
          20,
          30,
          40,
          50,
          60,
          70,
          80,
          90
         ],
         "xaxis": "x",
         "y": [
          8.000002708286047E-6,
          1.839996548369527E-5,
          4.5000051613897085E-5,
          7.690000347793102E-5,
          9.579997276887298E-5,
          1.5190005069598556E-4,
          2.4910003412514925E-4,
          3.0590000096708536E-4,
          2.405999694019556E-4
         ],
         "yaxis": "y",
         "type": "scatter"
        },
        {
         "hovertemplate": "Algoritmo di ordinamento=insertion_sort<br>Tipo di input=sorted<br>Dimensione array=%{x}<br>Time (s)=%{y}<extra></extra>",
         "legendgroup": "insertion_sort",
         "marker": {
          "color": "#636efa",
          "symbol": "circle"
         },
         "mode": "markers",
         "name": "insertion_sort",
         "orientation": "v",
         "showlegend": false,
         "x": [
          10,
          20,
          30,
          40,
          50,
          60,
          70,
          80,
          90
         ],
         "xaxis": "x2",
         "y": [
          4.00003045797348E-6,
          5.799985956400633E-6,
          7.499998901039362E-6,
          8.90000956133008E-6,
          1.0500021744519472E-5,
          1.1400028597563505E-5,
          1.209997572004795E-5,
          1.2999982573091984E-5,
          1.379998866468668E-5
         ],
         "yaxis": "y2",
         "type": "scatter"
        },
        {
         "hovertemplate": "Algoritmo di ordinamento=insertion_sort<br>Tipo di input=reversed<br>Dimensione array=%{x}<br>Time (s)=%{y}<extra></extra>",
         "legendgroup": "insertion_sort",
         "marker": {
          "color": "#636efa",
          "symbol": "circle"
         },
         "mode": "markers",
         "name": "insertion_sort",
         "orientation": "v",
         "showlegend": false,
         "x": [
          10,
          20,
          30,
          40,
          50,
          60,
          70,
          80,
          90
         ],
         "xaxis": "x3",
         "y": [
          1.1199968867003918E-5,
          2.5699962861835957E-5,
          4.999997327104211E-5,
          8.430000161752105E-5,
          1.2879999121651053E-4,
          1.821999903768301E-4,
          2.6999996043741703E-4,
          3.8539996603503823E-4,
          4.3860002188012004E-4
         ],
         "yaxis": "y3",
         "type": "scatter"
        },
        {
         "hovertemplate": "Algoritmo di ordinamento=counting_sort<br>Tipo di input=random<br>Dimensione array=%{x}<br>Time (s)=%{y}<extra></extra>",
         "legendgroup": "counting_sort",
         "marker": {
          "color": "#EF553B",
          "symbol": "circle"
         },
         "mode": "markers",
         "name": "counting_sort",
         "orientation": "v",
         "showlegend": true,
         "x": [
          10,
          20,
          30,
          40,
          50,
          60,
          70,
          80,
          90
         ],
         "xaxis": "x",
         "y": [
          9.459996363148093E-5,
          7.550005102530122E-5,
          9.270000737160444E-5,
          8.670001989230514E-5,
          9.539996972307563E-5,
          9.099999442696571E-5,
          9.709998266771436E-5,
          9.47999651543796E-5,
          1.0090001160278916E-4
         ],
         "yaxis": "y",
         "type": "scatter"
        },
        {
         "hovertemplate": "Algoritmo di ordinamento=counting_sort<br>Tipo di input=sorted<br>Dimensione array=%{x}<br>Time (s)=%{y}<extra></extra>",
         "legendgroup": "counting_sort",
         "marker": {
          "color": "#EF553B",
          "symbol": "circle"
         },
         "mode": "markers",
         "name": "counting_sort",
         "orientation": "v",
         "showlegend": false,
         "x": [
          10,
          20,
          30,
          40,
          50,
          60,
          70,
          80,
          90
         ],
         "xaxis": "x2",
         "y": [
          8.50000069476664E-5,
          8.430000161752105E-5,
          8.460000390186906E-5,
          8.600001456215978E-5,
          8.909997995942831E-5,
          8.870003512129188E-5,
          9.14999982342124E-5,
          1.0750000365078449E-4,
          1.2370001059025526E-4
         ],
         "yaxis": "y2",
         "type": "scatter"
        },
        {
         "hovertemplate": "Algoritmo di ordinamento=counting_sort<br>Tipo di input=reversed<br>Dimensione array=%{x}<br>Time (s)=%{y}<extra></extra>",
         "legendgroup": "counting_sort",
         "marker": {
          "color": "#EF553B",
          "symbol": "circle"
         },
         "mode": "markers",
         "name": "counting_sort",
         "orientation": "v",
         "showlegend": false,
         "x": [
          10,
          20,
          30,
          40,
          50,
          60,
          70,
          80,
          90
         ],
         "xaxis": "x3",
         "y": [
          8.860003435984254E-5,
          8.909997995942831E-5,
          8.68999632075429E-5,
          8.9899986051023E-5,
          9.049999061971903E-5,
          9.630003478378057E-5,
          9.380001574754715E-5,
          9.320001117885113E-5,
          1.0569998994469643E-4
         ],
         "yaxis": "y3",
         "type": "scatter"
        }
       ],
       "layout": {
        "template": {
         "data": {
          "histogram2dcontour": [
           {
            "type": "histogram2dcontour",
            "colorbar": {
             "outlinewidth": 0,
             "ticks": ""
            },
            "colorscale": [
             [
              0.0,
              "#0d0887"
             ],
             [
              0.1111111111111111,
              "#46039f"
             ],
             [
              0.2222222222222222,
              "#7201a8"
             ],
             [
              0.3333333333333333,
              "#9c179e"
             ],
             [
              0.4444444444444444,
              "#bd3786"
             ],
             [
              0.5555555555555556,
              "#d8576b"
             ],
             [
              0.6666666666666666,
              "#ed7953"
             ],
             [
              0.7777777777777778,
              "#fb9f3a"
             ],
             [
              0.8888888888888888,
              "#fdca26"
             ],
             [
              1.0,
              "#f0f921"
             ]
            ]
           }
          ],
          "choropleth": [
           {
            "type": "choropleth",
            "colorbar": {
             "outlinewidth": 0,
             "ticks": ""
            }
           }
          ],
          "histogram2d": [
           {
            "type": "histogram2d",
            "colorbar": {
             "outlinewidth": 0,
             "ticks": ""
            },
            "colorscale": [
             [
              0.0,
              "#0d0887"
             ],
             [
              0.1111111111111111,
              "#46039f"
             ],
             [
              0.2222222222222222,
              "#7201a8"
             ],
             [
              0.3333333333333333,
              "#9c179e"
             ],
             [
              0.4444444444444444,
              "#bd3786"
             ],
             [
              0.5555555555555556,
              "#d8576b"
             ],
             [
              0.6666666666666666,
              "#ed7953"
             ],
             [
              0.7777777777777778,
              "#fb9f3a"
             ],
             [
              0.8888888888888888,
              "#fdca26"
             ],
             [
              1.0,
              "#f0f921"
             ]
            ]
           }
          ],
          "heatmap": [
           {
            "type": "heatmap",
            "colorbar": {
             "outlinewidth": 0,
             "ticks": ""
            },
            "colorscale": [
             [
              0.0,
              "#0d0887"
             ],
             [
              0.1111111111111111,
              "#46039f"
             ],
             [
              0.2222222222222222,
              "#7201a8"
             ],
             [
              0.3333333333333333,
              "#9c179e"
             ],
             [
              0.4444444444444444,
              "#bd3786"
             ],
             [
              0.5555555555555556,
              "#d8576b"
             ],
             [
              0.6666666666666666,
              "#ed7953"
             ],
             [
              0.7777777777777778,
              "#fb9f3a"
             ],
             [
              0.8888888888888888,
              "#fdca26"
             ],
             [
              1.0,
              "#f0f921"
             ]
            ]
           }
          ],
          "heatmapgl": [
           {
            "type": "heatmapgl",
            "colorbar": {
             "outlinewidth": 0,
             "ticks": ""
            },
            "colorscale": [
             [
              0.0,
              "#0d0887"
             ],
             [
              0.1111111111111111,
              "#46039f"
             ],
             [
              0.2222222222222222,
              "#7201a8"
             ],
             [
              0.3333333333333333,
              "#9c179e"
             ],
             [
              0.4444444444444444,
              "#bd3786"
             ],
             [
              0.5555555555555556,
              "#d8576b"
             ],
             [
              0.6666666666666666,
              "#ed7953"
             ],
             [
              0.7777777777777778,
              "#fb9f3a"
             ],
             [
              0.8888888888888888,
              "#fdca26"
             ],
             [
              1.0,
              "#f0f921"
             ]
            ]
           }
          ],
          "contourcarpet": [
           {
            "type": "contourcarpet",
            "colorbar": {
             "outlinewidth": 0,
             "ticks": ""
            }
           }
          ],
          "contour": [
           {
            "type": "contour",
            "colorbar": {
             "outlinewidth": 0,
             "ticks": ""
            },
            "colorscale": [
             [
              0.0,
              "#0d0887"
             ],
             [
              0.1111111111111111,
              "#46039f"
             ],
             [
              0.2222222222222222,
              "#7201a8"
             ],
             [
              0.3333333333333333,
              "#9c179e"
             ],
             [
              0.4444444444444444,
              "#bd3786"
             ],
             [
              0.5555555555555556,
              "#d8576b"
             ],
             [
              0.6666666666666666,
              "#ed7953"
             ],
             [
              0.7777777777777778,
              "#fb9f3a"
             ],
             [
              0.8888888888888888,
              "#fdca26"
             ],
             [
              1.0,
              "#f0f921"
             ]
            ]
           }
          ],
          "surface": [
           {
            "type": "surface",
            "colorbar": {
             "outlinewidth": 0,
             "ticks": ""
            },
            "colorscale": [
             [
              0.0,
              "#0d0887"
             ],
             [
              0.1111111111111111,
              "#46039f"
             ],
             [
              0.2222222222222222,
              "#7201a8"
             ],
             [
              0.3333333333333333,
              "#9c179e"
             ],
             [
              0.4444444444444444,
              "#bd3786"
             ],
             [
              0.5555555555555556,
              "#d8576b"
             ],
             [
              0.6666666666666666,
              "#ed7953"
             ],
             [
              0.7777777777777778,
              "#fb9f3a"
             ],
             [
              0.8888888888888888,
              "#fdca26"
             ],
             [
              1.0,
              "#f0f921"
             ]
            ]
           }
          ],
          "mesh3d": [
           {
            "type": "mesh3d",
            "colorbar": {
             "outlinewidth": 0,
             "ticks": ""
            }
           }
          ],
          "scatter": [
           {
            "marker": {
             "line": {
              "color": "#283442"
             }
            },
            "type": "scatter"
           }
          ],
          "parcoords": [
           {
            "type": "parcoords",
            "line": {
             "colorbar": {
              "outlinewidth": 0,
              "ticks": ""
             }
            }
           }
          ],
          "scatterpolargl": [
           {
            "type": "scatterpolargl",
            "marker": {
             "colorbar": {
              "outlinewidth": 0,
              "ticks": ""
             }
            }
           }
          ],
          "bar": [
           {
            "error_x": {
             "color": "#f2f5fa"
            },
            "error_y": {
             "color": "#f2f5fa"
            },
            "marker": {
             "line": {
              "color": "rgb(17,17,17)",
              "width": 0.5
             },
             "pattern": {
              "fillmode": "overlay",
              "size": 10,
              "solidity": 0.2
             }
            },
            "type": "bar"
           }
          ],
          "scattergeo": [
           {
            "type": "scattergeo",
            "marker": {
             "colorbar": {
              "outlinewidth": 0,
              "ticks": ""
             }
            }
           }
          ],
          "scatterpolar": [
           {
            "type": "scatterpolar",
            "marker": {
             "colorbar": {
              "outlinewidth": 0,
              "ticks": ""
             }
            }
           }
          ],
          "histogram": [
           {
            "marker": {
             "pattern": {
              "fillmode": "overlay",
              "size": 10,
              "solidity": 0.2
             }
            },
            "type": "histogram"
           }
          ],
          "scattergl": [
           {
            "marker": {
             "line": {
              "color": "#283442"
             }
            },
            "type": "scattergl"
           }
          ],
          "scatter3d": [
           {
            "type": "scatter3d",
            "line": {
             "colorbar": {
              "outlinewidth": 0,
              "ticks": ""
             }
            },
            "marker": {
             "colorbar": {
              "outlinewidth": 0,
              "ticks": ""
             }
            }
           }
          ],
          "scattermapbox": [
           {
            "type": "scattermapbox",
            "marker": {
             "colorbar": {
              "outlinewidth": 0,
              "ticks": ""
             }
            }
           }
          ],
          "scatterternary": [
           {
            "type": "scatterternary",
            "marker": {
             "colorbar": {
              "outlinewidth": 0,
              "ticks": ""
             }
            }
           }
          ],
          "scattercarpet": [
           {
            "type": "scattercarpet",
            "marker": {
             "colorbar": {
              "outlinewidth": 0,
              "ticks": ""
             }
            }
           }
          ],
          "carpet": [
           {
            "aaxis": {
             "endlinecolor": "#A2B1C6",
             "gridcolor": "#506784",
             "linecolor": "#506784",
             "minorgridcolor": "#506784",
             "startlinecolor": "#A2B1C6"
            },
            "baxis": {
             "endlinecolor": "#A2B1C6",
             "gridcolor": "#506784",
             "linecolor": "#506784",
             "minorgridcolor": "#506784",
             "startlinecolor": "#A2B1C6"
            },
            "type": "carpet"
           }
          ],
          "table": [
           {
            "cells": {
             "fill": {
              "color": "#506784"
             },
             "line": {
              "color": "rgb(17,17,17)"
             }
            },
            "header": {
             "fill": {
              "color": "#2a3f5f"
             },
             "line": {
              "color": "rgb(17,17,17)"
             }
            },
            "type": "table"
           }
          ],
          "barpolar": [
           {
            "marker": {
             "line": {
              "color": "rgb(17,17,17)",
              "width": 0.5
             },
             "pattern": {
              "fillmode": "overlay",
              "size": 10,
              "solidity": 0.2
             }
            },
            "type": "barpolar"
           }
          ],
          "pie": [
           {
            "automargin": true,
            "type": "pie"
           }
          ]
         },
         "layout": {
          "autotypenumbers": "strict",
          "colorway": [
           "#636efa",
           "#EF553B",
           "#00cc96",
           "#ab63fa",
           "#FFA15A",
           "#19d3f3",
           "#FF6692",
           "#B6E880",
           "#FF97FF",
           "#FECB52"
          ],
          "font": {
           "color": "#f2f5fa"
          },
          "hovermode": "closest",
          "hoverlabel": {
           "align": "left"
          },
          "paper_bgcolor": "rgb(17,17,17)",
          "plot_bgcolor": "rgb(17,17,17)",
          "polar": {
           "bgcolor": "rgb(17,17,17)",
           "angularaxis": {
            "gridcolor": "#506784",
            "linecolor": "#506784",
            "ticks": ""
           },
           "radialaxis": {
            "gridcolor": "#506784",
            "linecolor": "#506784",
            "ticks": ""
           }
          },
          "ternary": {
           "bgcolor": "rgb(17,17,17)",
           "aaxis": {
            "gridcolor": "#506784",
            "linecolor": "#506784",
            "ticks": ""
           },
           "baxis": {
            "gridcolor": "#506784",
            "linecolor": "#506784",
            "ticks": ""
           },
           "caxis": {
            "gridcolor": "#506784",
            "linecolor": "#506784",
            "ticks": ""
           }
          },
          "coloraxis": {
           "colorbar": {
            "outlinewidth": 0,
            "ticks": ""
           }
          },
          "colorscale": {
           "sequential": [
            [
             0.0,
             "#0d0887"
            ],
            [
             0.1111111111111111,
             "#46039f"
            ],
            [
             0.2222222222222222,
             "#7201a8"
            ],
            [
             0.3333333333333333,
             "#9c179e"
            ],
            [
             0.4444444444444444,
             "#bd3786"
            ],
            [
             0.5555555555555556,
             "#d8576b"
            ],
            [
             0.6666666666666666,
             "#ed7953"
            ],
            [
             0.7777777777777778,
             "#fb9f3a"
            ],
            [
             0.8888888888888888,
             "#fdca26"
            ],
            [
             1.0,
             "#f0f921"
            ]
           ],
           "sequentialminus": [
            [
             0.0,
             "#0d0887"
            ],
            [
             0.1111111111111111,
             "#46039f"
            ],
            [
             0.2222222222222222,
             "#7201a8"
            ],
            [
             0.3333333333333333,
             "#9c179e"
            ],
            [
             0.4444444444444444,
             "#bd3786"
            ],
            [
             0.5555555555555556,
             "#d8576b"
            ],
            [
             0.6666666666666666,
             "#ed7953"
            ],
            [
             0.7777777777777778,
             "#fb9f3a"
            ],
            [
             0.8888888888888888,
             "#fdca26"
            ],
            [
             1.0,
             "#f0f921"
            ]
           ],
           "diverging": [
            [
             0,
             "#8e0152"
            ],
            [
             0.1,
             "#c51b7d"
            ],
            [
             0.2,
             "#de77ae"
            ],
            [
             0.3,
             "#f1b6da"
            ],
            [
             0.4,
             "#fde0ef"
            ],
            [
             0.5,
             "#f7f7f7"
            ],
            [
             0.6,
             "#e6f5d0"
            ],
            [
             0.7,
             "#b8e186"
            ],
            [
             0.8,
             "#7fbc41"
            ],
            [
             0.9,
             "#4d9221"
            ],
            [
             1,
             "#276419"
            ]
           ]
          },
          "xaxis": {
           "gridcolor": "#283442",
           "linecolor": "#506784",
           "ticks": "",
           "title": {
            "standoff": 15
           },
           "zerolinecolor": "#283442",
           "automargin": true,
           "zerolinewidth": 2
          },
          "yaxis": {
           "gridcolor": "#283442",
           "linecolor": "#506784",
           "ticks": "",
           "title": {
            "standoff": 15
           },
           "zerolinecolor": "#283442",
           "automargin": true,
           "zerolinewidth": 2
          },
          "scene": {
           "xaxis": {
            "backgroundcolor": "rgb(17,17,17)",
            "gridcolor": "#506784",
            "linecolor": "#506784",
            "showbackground": true,
            "ticks": "",
            "zerolinecolor": "#C8D4E3",
            "gridwidth": 2
           },
           "yaxis": {
            "backgroundcolor": "rgb(17,17,17)",
            "gridcolor": "#506784",
            "linecolor": "#506784",
            "showbackground": true,
            "ticks": "",
            "zerolinecolor": "#C8D4E3",
            "gridwidth": 2
           },
           "zaxis": {
            "backgroundcolor": "rgb(17,17,17)",
            "gridcolor": "#506784",
            "linecolor": "#506784",
            "showbackground": true,
            "ticks": "",
            "zerolinecolor": "#C8D4E3",
            "gridwidth": 2
           }
          },
          "shapedefaults": {
           "line": {
            "color": "#f2f5fa"
           }
          },
          "annotationdefaults": {
           "arrowcolor": "#f2f5fa",
           "arrowhead": 0,
           "arrowwidth": 1
          },
          "geo": {
           "bgcolor": "rgb(17,17,17)",
           "landcolor": "rgb(17,17,17)",
           "subunitcolor": "#506784",
           "showland": true,
           "showlakes": true,
           "lakecolor": "rgb(17,17,17)"
          },
          "title": {
           "x": 0.05
          },
          "updatemenudefaults": {
           "bgcolor": "#506784",
           "borderwidth": 0
          },
          "sliderdefaults": {
           "bgcolor": "#C8D4E3",
           "borderwidth": 1,
           "bordercolor": "rgb(17,17,17)",
           "tickwidth": 0
          },
          "mapbox": {
           "style": "dark"
          }
         }
        },
        "xaxis": {
         "anchor": "y",
         "domain": [
          0.0,
          0.31999999999999995
         ],
         "title": {
          "text": "Dimensione array"
         }
        },
        "yaxis": {
         "anchor": "x",
         "domain": [
          0.0,
          1.0
         ],
         "title": {
          "text": "Time (s)"
         }
        },
        "xaxis2": {
         "anchor": "y2",
         "domain": [
          0.33999999999999997,
          0.6599999999999999
         ],
         "matches": "x",
         "title": {
          "text": "Dimensione array"
         }
        },
        "yaxis2": {
         "anchor": "x2",
         "domain": [
          0.0,
          1.0
         ],
         "matches": "y",
         "showticklabels": false
        },
        "xaxis3": {
         "anchor": "y3",
         "domain": [
          0.6799999999999999,
          0.9999999999999999
         ],
         "matches": "x",
         "title": {
          "text": "Dimensione array"
         }
        },
        "yaxis3": {
         "anchor": "x3",
         "domain": [
          0.0,
          1.0
         ],
         "matches": "y",
         "showticklabels": false
        },
        "annotations": [
         {
          "font": {},
          "showarrow": false,
          "text": "Tipo di input=random",
          "x": 0.15999999999999998,
          "xanchor": "center",
          "xref": "paper",
          "y": 1.0,
          "yanchor": "bottom",
          "yref": "paper"
         },
         {
          "font": {},
          "showarrow": false,
          "text": "Tipo di input=sorted",
          "x": 0.49999999999999994,
          "xanchor": "center",
          "xref": "paper",
          "y": 1.0,
          "yanchor": "bottom",
          "yref": "paper"
         },
         {
          "font": {},
          "showarrow": false,
          "text": "Tipo di input=reversed",
          "x": 0.8399999999999999,
          "xanchor": "center",
          "xref": "paper",
          "y": 1.0,
          "yanchor": "bottom",
          "yref": "paper"
         }
        ],
        "legend": {
         "title": {
          "text": "Algoritmo di ordinamento"
         },
         "tracegroupgap": 0
        },
        "title": {
         "text": "Sorting algorithms"
        }
       },
       "config": {
        "plotlyServerURL": "https://plot.ly"
       }
      },
      "text/html": "<div>                            <div id=\"9da84c33-2642-479d-9bcd-deadd6522cc7\" class=\"plotly-graph-div\" style=\"height:525px; width:100%;\"></div>            <script type=\"text/javascript\">                require([\"plotly\"], function(Plotly) {                    window.PLOTLYENV=window.PLOTLYENV || {};                                    if (document.getElementById(\"9da84c33-2642-479d-9bcd-deadd6522cc7\")) {                    Plotly.newPlot(                        \"9da84c33-2642-479d-9bcd-deadd6522cc7\",                        [{\"hovertemplate\":\"Algoritmo di ordinamento=insertion_sort<br>Tipo di input=random<br>Dimensione array=%{x}<br>Time (s)=%{y}<extra></extra>\",\"legendgroup\":\"insertion_sort\",\"marker\":{\"color\":\"#636efa\",\"symbol\":\"circle\"},\"mode\":\"markers\",\"name\":\"insertion_sort\",\"orientation\":\"v\",\"showlegend\":true,\"x\":[10,20,30,40,50,60,70,80,90],\"xaxis\":\"x\",\"y\":[8.000002708286047e-06,1.839996548369527e-05,4.5000051613897085e-05,7.690000347793102e-05,9.579997276887298e-05,0.00015190005069598556,0.00024910003412514925,0.00030590000096708536,0.0002405999694019556],\"yaxis\":\"y\",\"type\":\"scatter\"},{\"hovertemplate\":\"Algoritmo di ordinamento=insertion_sort<br>Tipo di input=sorted<br>Dimensione array=%{x}<br>Time (s)=%{y}<extra></extra>\",\"legendgroup\":\"insertion_sort\",\"marker\":{\"color\":\"#636efa\",\"symbol\":\"circle\"},\"mode\":\"markers\",\"name\":\"insertion_sort\",\"orientation\":\"v\",\"showlegend\":false,\"x\":[10,20,30,40,50,60,70,80,90],\"xaxis\":\"x2\",\"y\":[4.00003045797348e-06,5.799985956400633e-06,7.499998901039362e-06,8.90000956133008e-06,1.0500021744519472e-05,1.1400028597563505e-05,1.209997572004795e-05,1.2999982573091984e-05,1.379998866468668e-05],\"yaxis\":\"y2\",\"type\":\"scatter\"},{\"hovertemplate\":\"Algoritmo di ordinamento=insertion_sort<br>Tipo di input=reversed<br>Dimensione array=%{x}<br>Time (s)=%{y}<extra></extra>\",\"legendgroup\":\"insertion_sort\",\"marker\":{\"color\":\"#636efa\",\"symbol\":\"circle\"},\"mode\":\"markers\",\"name\":\"insertion_sort\",\"orientation\":\"v\",\"showlegend\":false,\"x\":[10,20,30,40,50,60,70,80,90],\"xaxis\":\"x3\",\"y\":[1.1199968867003918e-05,2.5699962861835957e-05,4.999997327104211e-05,8.430000161752105e-05,0.00012879999121651053,0.0001821999903768301,0.00026999996043741703,0.00038539996603503823,0.00043860002188012004],\"yaxis\":\"y3\",\"type\":\"scatter\"},{\"hovertemplate\":\"Algoritmo di ordinamento=counting_sort<br>Tipo di input=random<br>Dimensione array=%{x}<br>Time (s)=%{y}<extra></extra>\",\"legendgroup\":\"counting_sort\",\"marker\":{\"color\":\"#EF553B\",\"symbol\":\"circle\"},\"mode\":\"markers\",\"name\":\"counting_sort\",\"orientation\":\"v\",\"showlegend\":true,\"x\":[10,20,30,40,50,60,70,80,90],\"xaxis\":\"x\",\"y\":[9.459996363148093e-05,7.550005102530122e-05,9.270000737160444e-05,8.670001989230514e-05,9.539996972307563e-05,9.099999442696571e-05,9.709998266771436e-05,9.47999651543796e-05,0.00010090001160278916],\"yaxis\":\"y\",\"type\":\"scatter\"},{\"hovertemplate\":\"Algoritmo di ordinamento=counting_sort<br>Tipo di input=sorted<br>Dimensione array=%{x}<br>Time (s)=%{y}<extra></extra>\",\"legendgroup\":\"counting_sort\",\"marker\":{\"color\":\"#EF553B\",\"symbol\":\"circle\"},\"mode\":\"markers\",\"name\":\"counting_sort\",\"orientation\":\"v\",\"showlegend\":false,\"x\":[10,20,30,40,50,60,70,80,90],\"xaxis\":\"x2\",\"y\":[8.50000069476664e-05,8.430000161752105e-05,8.460000390186906e-05,8.600001456215978e-05,8.909997995942831e-05,8.870003512129188e-05,9.14999982342124e-05,0.00010750000365078449,0.00012370001059025526],\"yaxis\":\"y2\",\"type\":\"scatter\"},{\"hovertemplate\":\"Algoritmo di ordinamento=counting_sort<br>Tipo di input=reversed<br>Dimensione array=%{x}<br>Time (s)=%{y}<extra></extra>\",\"legendgroup\":\"counting_sort\",\"marker\":{\"color\":\"#EF553B\",\"symbol\":\"circle\"},\"mode\":\"markers\",\"name\":\"counting_sort\",\"orientation\":\"v\",\"showlegend\":false,\"x\":[10,20,30,40,50,60,70,80,90],\"xaxis\":\"x3\",\"y\":[8.860003435984254e-05,8.909997995942831e-05,8.68999632075429e-05,8.9899986051023e-05,9.049999061971903e-05,9.630003478378057e-05,9.380001574754715e-05,9.320001117885113e-05,0.00010569998994469643],\"yaxis\":\"y3\",\"type\":\"scatter\"}],                        {\"template\":{\"data\":{\"histogram2dcontour\":[{\"type\":\"histogram2dcontour\",\"colorbar\":{\"outlinewidth\":0,\"ticks\":\"\"},\"colorscale\":[[0.0,\"#0d0887\"],[0.1111111111111111,\"#46039f\"],[0.2222222222222222,\"#7201a8\"],[0.3333333333333333,\"#9c179e\"],[0.4444444444444444,\"#bd3786\"],[0.5555555555555556,\"#d8576b\"],[0.6666666666666666,\"#ed7953\"],[0.7777777777777778,\"#fb9f3a\"],[0.8888888888888888,\"#fdca26\"],[1.0,\"#f0f921\"]]}],\"choropleth\":[{\"type\":\"choropleth\",\"colorbar\":{\"outlinewidth\":0,\"ticks\":\"\"}}],\"histogram2d\":[{\"type\":\"histogram2d\",\"colorbar\":{\"outlinewidth\":0,\"ticks\":\"\"},\"colorscale\":[[0.0,\"#0d0887\"],[0.1111111111111111,\"#46039f\"],[0.2222222222222222,\"#7201a8\"],[0.3333333333333333,\"#9c179e\"],[0.4444444444444444,\"#bd3786\"],[0.5555555555555556,\"#d8576b\"],[0.6666666666666666,\"#ed7953\"],[0.7777777777777778,\"#fb9f3a\"],[0.8888888888888888,\"#fdca26\"],[1.0,\"#f0f921\"]]}],\"heatmap\":[{\"type\":\"heatmap\",\"colorbar\":{\"outlinewidth\":0,\"ticks\":\"\"},\"colorscale\":[[0.0,\"#0d0887\"],[0.1111111111111111,\"#46039f\"],[0.2222222222222222,\"#7201a8\"],[0.3333333333333333,\"#9c179e\"],[0.4444444444444444,\"#bd3786\"],[0.5555555555555556,\"#d8576b\"],[0.6666666666666666,\"#ed7953\"],[0.7777777777777778,\"#fb9f3a\"],[0.8888888888888888,\"#fdca26\"],[1.0,\"#f0f921\"]]}],\"heatmapgl\":[{\"type\":\"heatmapgl\",\"colorbar\":{\"outlinewidth\":0,\"ticks\":\"\"},\"colorscale\":[[0.0,\"#0d0887\"],[0.1111111111111111,\"#46039f\"],[0.2222222222222222,\"#7201a8\"],[0.3333333333333333,\"#9c179e\"],[0.4444444444444444,\"#bd3786\"],[0.5555555555555556,\"#d8576b\"],[0.6666666666666666,\"#ed7953\"],[0.7777777777777778,\"#fb9f3a\"],[0.8888888888888888,\"#fdca26\"],[1.0,\"#f0f921\"]]}],\"contourcarpet\":[{\"type\":\"contourcarpet\",\"colorbar\":{\"outlinewidth\":0,\"ticks\":\"\"}}],\"contour\":[{\"type\":\"contour\",\"colorbar\":{\"outlinewidth\":0,\"ticks\":\"\"},\"colorscale\":[[0.0,\"#0d0887\"],[0.1111111111111111,\"#46039f\"],[0.2222222222222222,\"#7201a8\"],[0.3333333333333333,\"#9c179e\"],[0.4444444444444444,\"#bd3786\"],[0.5555555555555556,\"#d8576b\"],[0.6666666666666666,\"#ed7953\"],[0.7777777777777778,\"#fb9f3a\"],[0.8888888888888888,\"#fdca26\"],[1.0,\"#f0f921\"]]}],\"surface\":[{\"type\":\"surface\",\"colorbar\":{\"outlinewidth\":0,\"ticks\":\"\"},\"colorscale\":[[0.0,\"#0d0887\"],[0.1111111111111111,\"#46039f\"],[0.2222222222222222,\"#7201a8\"],[0.3333333333333333,\"#9c179e\"],[0.4444444444444444,\"#bd3786\"],[0.5555555555555556,\"#d8576b\"],[0.6666666666666666,\"#ed7953\"],[0.7777777777777778,\"#fb9f3a\"],[0.8888888888888888,\"#fdca26\"],[1.0,\"#f0f921\"]]}],\"mesh3d\":[{\"type\":\"mesh3d\",\"colorbar\":{\"outlinewidth\":0,\"ticks\":\"\"}}],\"scatter\":[{\"marker\":{\"line\":{\"color\":\"#283442\"}},\"type\":\"scatter\"}],\"parcoords\":[{\"type\":\"parcoords\",\"line\":{\"colorbar\":{\"outlinewidth\":0,\"ticks\":\"\"}}}],\"scatterpolargl\":[{\"type\":\"scatterpolargl\",\"marker\":{\"colorbar\":{\"outlinewidth\":0,\"ticks\":\"\"}}}],\"bar\":[{\"error_x\":{\"color\":\"#f2f5fa\"},\"error_y\":{\"color\":\"#f2f5fa\"},\"marker\":{\"line\":{\"color\":\"rgb(17,17,17)\",\"width\":0.5},\"pattern\":{\"fillmode\":\"overlay\",\"size\":10,\"solidity\":0.2}},\"type\":\"bar\"}],\"scattergeo\":[{\"type\":\"scattergeo\",\"marker\":{\"colorbar\":{\"outlinewidth\":0,\"ticks\":\"\"}}}],\"scatterpolar\":[{\"type\":\"scatterpolar\",\"marker\":{\"colorbar\":{\"outlinewidth\":0,\"ticks\":\"\"}}}],\"histogram\":[{\"marker\":{\"pattern\":{\"fillmode\":\"overlay\",\"size\":10,\"solidity\":0.2}},\"type\":\"histogram\"}],\"scattergl\":[{\"marker\":{\"line\":{\"color\":\"#283442\"}},\"type\":\"scattergl\"}],\"scatter3d\":[{\"type\":\"scatter3d\",\"line\":{\"colorbar\":{\"outlinewidth\":0,\"ticks\":\"\"}},\"marker\":{\"colorbar\":{\"outlinewidth\":0,\"ticks\":\"\"}}}],\"scattermapbox\":[{\"type\":\"scattermapbox\",\"marker\":{\"colorbar\":{\"outlinewidth\":0,\"ticks\":\"\"}}}],\"scatterternary\":[{\"type\":\"scatterternary\",\"marker\":{\"colorbar\":{\"outlinewidth\":0,\"ticks\":\"\"}}}],\"scattercarpet\":[{\"type\":\"scattercarpet\",\"marker\":{\"colorbar\":{\"outlinewidth\":0,\"ticks\":\"\"}}}],\"carpet\":[{\"aaxis\":{\"endlinecolor\":\"#A2B1C6\",\"gridcolor\":\"#506784\",\"linecolor\":\"#506784\",\"minorgridcolor\":\"#506784\",\"startlinecolor\":\"#A2B1C6\"},\"baxis\":{\"endlinecolor\":\"#A2B1C6\",\"gridcolor\":\"#506784\",\"linecolor\":\"#506784\",\"minorgridcolor\":\"#506784\",\"startlinecolor\":\"#A2B1C6\"},\"type\":\"carpet\"}],\"table\":[{\"cells\":{\"fill\":{\"color\":\"#506784\"},\"line\":{\"color\":\"rgb(17,17,17)\"}},\"header\":{\"fill\":{\"color\":\"#2a3f5f\"},\"line\":{\"color\":\"rgb(17,17,17)\"}},\"type\":\"table\"}],\"barpolar\":[{\"marker\":{\"line\":{\"color\":\"rgb(17,17,17)\",\"width\":0.5},\"pattern\":{\"fillmode\":\"overlay\",\"size\":10,\"solidity\":0.2}},\"type\":\"barpolar\"}],\"pie\":[{\"automargin\":true,\"type\":\"pie\"}]},\"layout\":{\"autotypenumbers\":\"strict\",\"colorway\":[\"#636efa\",\"#EF553B\",\"#00cc96\",\"#ab63fa\",\"#FFA15A\",\"#19d3f3\",\"#FF6692\",\"#B6E880\",\"#FF97FF\",\"#FECB52\"],\"font\":{\"color\":\"#f2f5fa\"},\"hovermode\":\"closest\",\"hoverlabel\":{\"align\":\"left\"},\"paper_bgcolor\":\"rgb(17,17,17)\",\"plot_bgcolor\":\"rgb(17,17,17)\",\"polar\":{\"bgcolor\":\"rgb(17,17,17)\",\"angularaxis\":{\"gridcolor\":\"#506784\",\"linecolor\":\"#506784\",\"ticks\":\"\"},\"radialaxis\":{\"gridcolor\":\"#506784\",\"linecolor\":\"#506784\",\"ticks\":\"\"}},\"ternary\":{\"bgcolor\":\"rgb(17,17,17)\",\"aaxis\":{\"gridcolor\":\"#506784\",\"linecolor\":\"#506784\",\"ticks\":\"\"},\"baxis\":{\"gridcolor\":\"#506784\",\"linecolor\":\"#506784\",\"ticks\":\"\"},\"caxis\":{\"gridcolor\":\"#506784\",\"linecolor\":\"#506784\",\"ticks\":\"\"}},\"coloraxis\":{\"colorbar\":{\"outlinewidth\":0,\"ticks\":\"\"}},\"colorscale\":{\"sequential\":[[0.0,\"#0d0887\"],[0.1111111111111111,\"#46039f\"],[0.2222222222222222,\"#7201a8\"],[0.3333333333333333,\"#9c179e\"],[0.4444444444444444,\"#bd3786\"],[0.5555555555555556,\"#d8576b\"],[0.6666666666666666,\"#ed7953\"],[0.7777777777777778,\"#fb9f3a\"],[0.8888888888888888,\"#fdca26\"],[1.0,\"#f0f921\"]],\"sequentialminus\":[[0.0,\"#0d0887\"],[0.1111111111111111,\"#46039f\"],[0.2222222222222222,\"#7201a8\"],[0.3333333333333333,\"#9c179e\"],[0.4444444444444444,\"#bd3786\"],[0.5555555555555556,\"#d8576b\"],[0.6666666666666666,\"#ed7953\"],[0.7777777777777778,\"#fb9f3a\"],[0.8888888888888888,\"#fdca26\"],[1.0,\"#f0f921\"]],\"diverging\":[[0,\"#8e0152\"],[0.1,\"#c51b7d\"],[0.2,\"#de77ae\"],[0.3,\"#f1b6da\"],[0.4,\"#fde0ef\"],[0.5,\"#f7f7f7\"],[0.6,\"#e6f5d0\"],[0.7,\"#b8e186\"],[0.8,\"#7fbc41\"],[0.9,\"#4d9221\"],[1,\"#276419\"]]},\"xaxis\":{\"gridcolor\":\"#283442\",\"linecolor\":\"#506784\",\"ticks\":\"\",\"title\":{\"standoff\":15},\"zerolinecolor\":\"#283442\",\"automargin\":true,\"zerolinewidth\":2},\"yaxis\":{\"gridcolor\":\"#283442\",\"linecolor\":\"#506784\",\"ticks\":\"\",\"title\":{\"standoff\":15},\"zerolinecolor\":\"#283442\",\"automargin\":true,\"zerolinewidth\":2},\"scene\":{\"xaxis\":{\"backgroundcolor\":\"rgb(17,17,17)\",\"gridcolor\":\"#506784\",\"linecolor\":\"#506784\",\"showbackground\":true,\"ticks\":\"\",\"zerolinecolor\":\"#C8D4E3\",\"gridwidth\":2},\"yaxis\":{\"backgroundcolor\":\"rgb(17,17,17)\",\"gridcolor\":\"#506784\",\"linecolor\":\"#506784\",\"showbackground\":true,\"ticks\":\"\",\"zerolinecolor\":\"#C8D4E3\",\"gridwidth\":2},\"zaxis\":{\"backgroundcolor\":\"rgb(17,17,17)\",\"gridcolor\":\"#506784\",\"linecolor\":\"#506784\",\"showbackground\":true,\"ticks\":\"\",\"zerolinecolor\":\"#C8D4E3\",\"gridwidth\":2}},\"shapedefaults\":{\"line\":{\"color\":\"#f2f5fa\"}},\"annotationdefaults\":{\"arrowcolor\":\"#f2f5fa\",\"arrowhead\":0,\"arrowwidth\":1},\"geo\":{\"bgcolor\":\"rgb(17,17,17)\",\"landcolor\":\"rgb(17,17,17)\",\"subunitcolor\":\"#506784\",\"showland\":true,\"showlakes\":true,\"lakecolor\":\"rgb(17,17,17)\"},\"title\":{\"x\":0.05},\"updatemenudefaults\":{\"bgcolor\":\"#506784\",\"borderwidth\":0},\"sliderdefaults\":{\"bgcolor\":\"#C8D4E3\",\"borderwidth\":1,\"bordercolor\":\"rgb(17,17,17)\",\"tickwidth\":0},\"mapbox\":{\"style\":\"dark\"}}},\"xaxis\":{\"anchor\":\"y\",\"domain\":[0.0,0.31999999999999995],\"title\":{\"text\":\"Dimensione array\"}},\"yaxis\":{\"anchor\":\"x\",\"domain\":[0.0,1.0],\"title\":{\"text\":\"Time (s)\"}},\"xaxis2\":{\"anchor\":\"y2\",\"domain\":[0.33999999999999997,0.6599999999999999],\"matches\":\"x\",\"title\":{\"text\":\"Dimensione array\"}},\"yaxis2\":{\"anchor\":\"x2\",\"domain\":[0.0,1.0],\"matches\":\"y\",\"showticklabels\":false},\"xaxis3\":{\"anchor\":\"y3\",\"domain\":[0.6799999999999999,0.9999999999999999],\"matches\":\"x\",\"title\":{\"text\":\"Dimensione array\"}},\"yaxis3\":{\"anchor\":\"x3\",\"domain\":[0.0,1.0],\"matches\":\"y\",\"showticklabels\":false},\"annotations\":[{\"font\":{},\"showarrow\":false,\"text\":\"Tipo di input=random\",\"x\":0.15999999999999998,\"xanchor\":\"center\",\"xref\":\"paper\",\"y\":1.0,\"yanchor\":\"bottom\",\"yref\":\"paper\"},{\"font\":{},\"showarrow\":false,\"text\":\"Tipo di input=sorted\",\"x\":0.49999999999999994,\"xanchor\":\"center\",\"xref\":\"paper\",\"y\":1.0,\"yanchor\":\"bottom\",\"yref\":\"paper\"},{\"font\":{},\"showarrow\":false,\"text\":\"Tipo di input=reversed\",\"x\":0.8399999999999999,\"xanchor\":\"center\",\"xref\":\"paper\",\"y\":1.0,\"yanchor\":\"bottom\",\"yref\":\"paper\"}],\"legend\":{\"title\":{\"text\":\"Algoritmo di ordinamento\"},\"tracegroupgap\":0},\"title\":{\"text\":\"Sorting algorithms\"}},                        {\"responsive\": true}                    ).then(function(){\n                            \nvar gd = document.getElementById('9da84c33-2642-479d-9bcd-deadd6522cc7');\nvar x = new MutationObserver(function (mutations, observer) {{\n        var display = window.getComputedStyle(gd).display;\n        if (!display || display === 'none') {{\n            console.log([gd, 'removed!']);\n            Plotly.purge(gd);\n            observer.disconnect();\n        }}\n}});\n\n// Listen for the removal of the full notebook cells\nvar notebookContainer = gd.closest('#notebook-container');\nif (notebookContainer) {{\n    x.observe(notebookContainer, {childList: true});\n}}\n\n// Listen for the clearing of the current output cell\nvar outputEl = gd.closest('.output');\nif (outputEl) {{\n    x.observe(outputEl, {childList: true});\n}}\n\n                        })                };                });            </script>        </div>"
     },
     "metadata": {},
     "output_type": "display_data"
    }
   ],
   "source": [
    "figure = px.scatter(df.query(\"num_samples > 0\"),\n",
    "                 x=\"num_samples\",\n",
    "                 y=\"time\",\n",
    "                 color=\"test_type\",\n",
    "                 facet_col=\"input_type\",\n",
    "                 title=\"Sorting algorithms\",\n",
    "                 labels={\"num_samples\": \"Dimensione array\", \"time\": \"Time (s)\", \"test_type\": \"Algoritmo di ordinamento\", \"input_type\": \"Tipo di input\"})\n",
    "\n",
    "figure.show()"
   ],
   "metadata": {
    "collapsed": false
   }
  },
  {
   "cell_type": "markdown",
   "source": [
    "Se il range di generazione dei numeri è fino a 1000, il tempo impiegato dal _counting sort_ per ordinare l'array è molto più alto, in quanto il costo computazionale del _counting sort_ è legato al range di generazione dei numeri; più è elevato il valore massimo dell'array, più il costo computazionale sarà elevato.\n",
    "\n",
    "Nelle sezioni successive i grafici saranno continui, in modo tale che gli andamenti dei test siano più chiari e visibili."
   ],
   "metadata": {
    "collapsed": false
   }
  },
  {
   "cell_type": "markdown",
   "source": [
    "### 2. Array di dimensione 1000"
   ],
   "metadata": {
    "collapsed": false
   }
  },
  {
   "cell_type": "markdown",
   "source": [
    "In questo caso, analizziamo i test eseguiti su array di dimensione 1000 con passo pari a 10 e range di generazione dei numeri da 0 a 10000, da 0 a 100000 e da 0 a 1000000. I grafici mostrano i risultati dei test di insertion sort e counting sort in base al tipo di input utilizzato."
   ],
   "metadata": {
    "collapsed": false
   }
  },
  {
   "cell_type": "markdown",
   "source": [
    "#### Array di dimensione 1000 con range da 0 a 10000"
   ],
   "metadata": {
    "collapsed": false
   }
  },
  {
   "cell_type": "code",
   "execution_count": 217,
   "outputs": [],
   "source": [
    "df = plot_results(1000, 10, (0, 10000))"
   ],
   "metadata": {
    "collapsed": false
   }
  },
  {
   "cell_type": "code",
   "execution_count": 218,
   "outputs": [
    {
     "data": {
      "application/vnd.plotly.v1+json": {
       "data": [
        {
         "hovertemplate": "Algoritmo di ordinamento=insertion_sort<br>Tipo di input=random<br>Dimensione array=%{x}<br>Time (s)=%{y}<extra></extra>",
         "legendgroup": "insertion_sort",
         "line": {
          "color": "#636efa",
          "dash": "solid"
         },
         "marker": {
          "symbol": "circle"
         },
         "mode": "lines",
         "name": "insertion_sort",
         "orientation": "v",
         "showlegend": true,
         "x": [
          10,
          20,
          30,
          40,
          50,
          60,
          70,
          80,
          90,
          100,
          110,
          120,
          130,
          140,
          150,
          160,
          170,
          180,
          190,
          200,
          210,
          220,
          230,
          240,
          250,
          260,
          270,
          280,
          290,
          300,
          310,
          320,
          330,
          340,
          350,
          360,
          370,
          380,
          390,
          400,
          410,
          420,
          430,
          440,
          450,
          460,
          470,
          480,
          490,
          500,
          510,
          520,
          530,
          540,
          550,
          560,
          570,
          580,
          590,
          600,
          610,
          620,
          630,
          640,
          650,
          660,
          670,
          680,
          690,
          700,
          710,
          720,
          730,
          740,
          750,
          760,
          770,
          780,
          790,
          800,
          810,
          820,
          830,
          840,
          850,
          860,
          870,
          880,
          890,
          900,
          910,
          920,
          930,
          940,
          950,
          960,
          970,
          980,
          990
         ],
         "xaxis": "x",
         "y": [
          1.0200019460171461E-5,
          1.9499973859637976E-5,
          2.6100024115294218E-5,
          4.349998198449612E-5,
          6.839999696239829E-5,
          1.0010000551119447E-4,
          1.2850004713982344E-4,
          1.574999769218266E-4,
          2.0670000230893493E-4,
          2.6810000417754054E-4,
          3.132999991066754E-4,
          3.95099981687963E-4,
          4.144000122323632E-4,
          4.8639997839927673E-4,
          5.534999654628336E-4,
          6.157000316306949E-4,
          7.030999986454844E-4,
          9.664000244811177E-4,
          9.0819998877123E-4,
          0.0010108000133186579,
          0.0011316000018268824,
          0.0012079000007361174,
          0.0014809999847784638,
          0.0013617000076919794,
          0.0015432999935001135,
          0.0016533000161871314,
          0.0017562999855726957,
          0.002003900008276105,
          0.0021268000127747655,
          0.0022903999779373407,
          0.0026157000102102757,
          0.0028670000028796494,
          0.0030792999896220863,
          0.004204700002446771,
          0.005792199983261526,
          0.0033486999454908073,
          0.003575499984435737,
          0.0037717000232078135,
          0.004504999960772693,
          0.004274099948816001,
          0.004444600024726242,
          0.004738699994049966,
          0.005988900025840849,
          0.007585599960293621,
          0.009131800034083426,
          0.009706700046081096,
          0.006557400047313422,
          0.0075514999916777015,
          0.006800000031944364,
          0.00688800000352785,
          0.007113599975127727,
          0.006953499978408217,
          0.007610400032717735,
          0.007989200006704777,
          0.008496000024024397,
          0.008430599991697818,
          0.008356699952855706,
          0.009193600038997829,
          0.010834599961526692,
          0.010458100005052984,
          0.010084800014737993,
          0.010283300012815744,
          0.010716200049500912,
          0.010829599981661886,
          0.011467400006949902,
          0.011805200017988682,
          0.012118899961933494,
          0.01323820004472509,
          0.013085899990983307,
          0.013267399976029992,
          0.01397890003863722,
          0.014138500031549484,
          0.015155800036154687,
          0.015477199980523437,
          0.01676299999235198,
          0.015896599972620606,
          0.016203399980440736,
          0.019835500046610832,
          0.017551600001752377,
          0.017741400049999356,
          0.0178398999851197,
          0.017823299975134432,
          0.019269100041128695,
          0.02009780000662431,
          0.020843900041654706,
          0.0208684999961406,
          0.02051849995041266,
          0.021814600040670484,
          0.022159599990118295,
          0.022866299957968295,
          0.024157900013960898,
          0.023396299977321178,
          0.024687600031029433,
          0.02600509999319911,
          0.025407800043467432,
          0.026483699970413,
          0.0297477999702096,
          0.029232800006866455,
          0.027158800046890974
         ],
         "yaxis": "y",
         "type": "scatter"
        },
        {
         "hovertemplate": "Algoritmo di ordinamento=insertion_sort<br>Tipo di input=sorted<br>Dimensione array=%{x}<br>Time (s)=%{y}<extra></extra>",
         "legendgroup": "insertion_sort",
         "line": {
          "color": "#636efa",
          "dash": "solid"
         },
         "marker": {
          "symbol": "circle"
         },
         "mode": "lines",
         "name": "insertion_sort",
         "orientation": "v",
         "showlegend": false,
         "x": [
          10,
          20,
          30,
          40,
          50,
          60,
          70,
          80,
          90,
          100,
          110,
          120,
          130,
          140,
          150,
          160,
          170,
          180,
          190,
          200,
          210,
          220,
          230,
          240,
          250,
          260,
          270,
          280,
          290,
          300,
          310,
          320,
          330,
          340,
          350,
          360,
          370,
          380,
          390,
          400,
          410,
          420,
          430,
          440,
          450,
          460,
          470,
          480,
          490,
          500,
          510,
          520,
          530,
          540,
          550,
          560,
          570,
          580,
          590,
          600,
          610,
          620,
          630,
          640,
          650,
          660,
          670,
          680,
          690,
          700,
          710,
          720,
          730,
          740,
          750,
          760,
          770,
          780,
          790,
          800,
          810,
          820,
          830,
          840,
          850,
          860,
          870,
          880,
          890,
          900,
          910,
          920,
          930,
          940,
          950,
          960,
          970,
          980,
          990
         ],
         "xaxis": "x2",
         "y": [
          2.400018274784088E-6,
          2.900022082030773E-6,
          3.89997148886323E-6,
          4.900037311017513E-6,
          6.099988240748644E-6,
          6.999995093792677E-6,
          8.300004992634058E-6,
          9.200011845678091E-6,
          1.0299962013959885E-5,
          1.1300027836114168E-5,
          1.2300035450607538E-5,
          1.3500044587999582E-5,
          1.4599994756281376E-5,
          1.5600002370774746E-5,
          1.6799953300505877E-5,
          1.7600017599761486E-5,
          1.9000028260052204E-5,
          1.98000343516469E-5,
          2.300000051036477E-5,
          2.1899992134422064E-5,
          2.3300002794712782E-5,
          2.4099950678646564E-5,
          2.5399960577487946E-5,
          2.640002639964223E-5,
          2.7699978090822697E-5,
          2.9199989512562752E-5,
          3.0099996365606785E-5,
          3.15000070258975E-5,
          3.270001616328955E-5,
          3.389996709302068E-5,
          3.539997851476073E-5,
          3.6299985367804766E-5,
          3.789999755099416E-5,
          3.8700003642588854E-5,
          4.010001430287957E-5,
          4.18000272475183E-5,
          4.349998198449612E-5,
          4.4300046283751726E-5,
          4.630000330507755E-5,
          4.640000406652689E-5,
          4.8799964133650064E-5,
          4.9200025387108326E-5,
          5.070003680884838E-5,
          5.289999535307288E-5,
          5.299999611452222E-5,
          5.440000677481294E-5,
          5.600001895800233E-5,
          5.6999968364834785E-5,
          5.789997521787882E-5,
          5.949998740106821E-5,
          6.0399994254112244E-5,
          6.210000719875097E-5,
          6.320001557469368E-5,
          6.500002928078175E-5,
          6.719998782500625E-5,
          6.809999467805028E-5,
          6.9500005338341E-5,
          7.069995626807213E-5,
          7.160002132877707E-5,
          7.289997301995754E-5,
          1.0119995567947626E-4,
          7.550005102530122E-5,
          7.750000804662704E-5,
          7.819995516911149E-5,
          7.879995973780751E-5,
          8.149998029693961E-5,
          8.220004383474588E-5,
          8.249998791143298E-5,
          8.38999985717237E-5,
          8.50000069476664E-5,
          8.74000252224505E-5,
          8.899997919797897E-5,
          9.039998985826969E-5,
          9.210000280290842E-5,
          9.330001194030046E-5,
          9.350001346319914E-5,
          9.439996210858226E-5,
          9.589997353032231E-5,
          9.869999485090375E-5,
          9.849999332800508E-5,
          9.929999941959977E-5,
          1.0410003596916795E-4,
          1.0200001997873187E-4,
          1.0579999070614576E-4,
          1.0489998385310173E-4,
          1.0579999070614576E-4,
          1.0710000060498714E-4,
          1.0930001735687256E-4,
          1.1310004629194736E-4,
          1.3540004147216678E-4,
          1.1259998427703977E-4,
          1.1480000102892518E-4,
          1.154000055976212E-4,
          1.1600001016631722E-4,
          1.1740002082660794E-4,
          1.1859997175633907E-4,
          1.1989998165518045E-4,
          1.362999901175499E-4,
          1.2310000602155924E-4
         ],
         "yaxis": "y2",
         "type": "scatter"
        },
        {
         "hovertemplate": "Algoritmo di ordinamento=insertion_sort<br>Tipo di input=reversed<br>Dimensione array=%{x}<br>Time (s)=%{y}<extra></extra>",
         "legendgroup": "insertion_sort",
         "line": {
          "color": "#636efa",
          "dash": "solid"
         },
         "marker": {
          "symbol": "circle"
         },
         "mode": "lines",
         "name": "insertion_sort",
         "orientation": "v",
         "showlegend": false,
         "x": [
          10,
          20,
          30,
          40,
          50,
          60,
          70,
          80,
          90,
          100,
          110,
          120,
          130,
          140,
          150,
          160,
          170,
          180,
          190,
          200,
          210,
          220,
          230,
          240,
          250,
          260,
          270,
          280,
          290,
          300,
          310,
          320,
          330,
          340,
          350,
          360,
          370,
          380,
          390,
          400,
          410,
          420,
          430,
          440,
          450,
          460,
          470,
          480,
          490,
          500,
          510,
          520,
          530,
          540,
          550,
          560,
          570,
          580,
          590,
          600,
          610,
          620,
          630,
          640,
          650,
          660,
          670,
          680,
          690,
          700,
          710,
          720,
          730,
          740,
          750,
          760,
          770,
          780,
          790,
          800,
          810,
          820,
          830,
          840,
          850,
          860,
          870,
          880,
          890,
          900,
          910,
          920,
          930,
          940,
          950,
          960,
          970,
          980,
          990
         ],
         "xaxis": "x3",
         "y": [
          7.299997378140688E-6,
          2.169999061152339E-5,
          4.7200010158121586E-5,
          8.25000461190939E-5,
          1.278999843634665E-4,
          1.8130004173144698E-4,
          2.4729996221140027E-4,
          3.2110000029206276E-4,
          4.078000201843679E-4,
          4.991000168956816E-4,
          6.0299999313429E-4,
          7.179999956861138E-4,
          8.460000390186906E-4,
          9.743000264279544E-4,
          0.001117599953431636,
          0.0012667999835684896,
          0.001460899948142469,
          0.0016063000075519085,
          0.001790700014680624,
          0.0020133000216446817,
          0.0021998999873176217,
          0.0024004000006243587,
          0.002639499958604574,
          0.00287730002310127,
          0.0031257999944500625,
          0.0033987000351771712,
          0.003641399962361902,
          0.003906099998857826,
          0.0041936999768950045,
          0.004434200003743172,
          0.004777099995408207,
          0.0050962999812327325,
          0.005530299968086183,
          0.005793799995444715,
          0.00613980001071468,
          0.00649830000475049,
          0.006847900047432631,
          0.007303799968212843,
          0.007644600002095103,
          0.008065200003329664,
          0.008460299985017627,
          0.009377999987918884,
          0.009349400002975017,
          0.009932200016919523,
          0.010533599997870624,
          0.011105200042948127,
          0.011077700008172542,
          0.011935300019104034,
          0.013890800008084625,
          0.012960299965925515,
          0.013197400025092065,
          0.013686499965842813,
          0.013980999996419996,
          0.014677500003017485,
          0.015204399998765439,
          0.01611809997120872,
          0.017141000018455088,
          0.017736000008881092,
          0.018413799989502877,
          0.019020400010049343,
          0.01965189998736605,
          0.020197800011374056,
          0.02113939996343106,
          0.021661899983882904,
          0.022356899979058653,
          0.023026500013656914,
          0.023793299973476678,
          0.024988399993162602,
          0.025547900004312396,
          0.026183599955402315,
          0.02713679999578744,
          0.02777549996972084,
          0.02797729999292642,
          0.03755850001471117,
          0.029043100017588586,
          0.02999950002413243,
          0.032166399993002415,
          0.03284719999646768,
          0.033302799973171204,
          0.03419399994891137,
          0.03471660002833232,
          0.03897990001132712,
          0.03679519996512681,
          0.03799260000232607,
          0.038550600002054125,
          0.04002670000772923,
          0.04127440002048388,
          0.04343520000111312,
          0.0434938000398688,
          0.044097799982409924,
          0.04558609996456653,
          0.046019400004297495,
          0.04551919997902587,
          0.04669839999405667,
          0.047420599963516,
          0.04805560002569109,
          0.04945140000199899,
          0.05040910001844168,
          0.05098360002739355
         ],
         "yaxis": "y3",
         "type": "scatter"
        },
        {
         "hovertemplate": "Algoritmo di ordinamento=counting_sort<br>Tipo di input=random<br>Dimensione array=%{x}<br>Time (s)=%{y}<extra></extra>",
         "legendgroup": "counting_sort",
         "line": {
          "color": "#EF553B",
          "dash": "solid"
         },
         "marker": {
          "symbol": "circle"
         },
         "mode": "lines",
         "name": "counting_sort",
         "orientation": "v",
         "showlegend": true,
         "x": [
          10,
          20,
          30,
          40,
          50,
          60,
          70,
          80,
          90,
          100,
          110,
          120,
          130,
          140,
          150,
          160,
          170,
          180,
          190,
          200,
          210,
          220,
          230,
          240,
          250,
          260,
          270,
          280,
          290,
          300,
          310,
          320,
          330,
          340,
          350,
          360,
          370,
          380,
          390,
          400,
          410,
          420,
          430,
          440,
          450,
          460,
          470,
          480,
          490,
          500,
          510,
          520,
          530,
          540,
          550,
          560,
          570,
          580,
          590,
          600,
          610,
          620,
          630,
          640,
          650,
          660,
          670,
          680,
          690,
          700,
          710,
          720,
          730,
          740,
          750,
          760,
          770,
          780,
          790,
          800,
          810,
          820,
          830,
          840,
          850,
          860,
          870,
          880,
          890,
          900,
          910,
          920,
          930,
          940,
          950,
          960,
          970,
          980,
          990
         ],
         "xaxis": "x",
         "y": [
          7.662999560125172E-4,
          8.51399963721633E-4,
          8.68600036483258E-4,
          8.013999904505908E-4,
          8.44599970150739E-4,
          8.386000408791006E-4,
          8.092999923974276E-4,
          8.473999914713204E-4,
          8.347000111825764E-4,
          8.628999930806458E-4,
          8.620000444352627E-4,
          8.619999862276018E-4,
          8.586000185459852E-4,
          8.656000136397779E-4,
          9.259999496862292E-4,
          8.675000281073153E-4,
          8.898999658413231E-4,
          8.844999829307199E-4,
          8.787999977357686E-4,
          8.778999908827245E-4,
          8.794000023044646E-4,
          8.951000054366887E-4,
          8.934999932534993E-4,
          8.970999624580145E-4,
          8.956000092439353E-4,
          8.886999567039311E-4,
          8.931999909691513E-4,
          8.970999624580145E-4,
          8.972000214271247E-4,
          9.018999990075827E-4,
          9.110000100918114E-4,
          9.687999845482409E-4,
          9.264000109396875E-4,
          9.467999916523695E-4,
          9.30099980905652E-4,
          9.343000128865242E-4,
          9.630999993532896E-4,
          9.560000034980476E-4,
          9.497000137344003E-4,
          9.423000155948102E-4,
          9.518000297248363E-4,
          9.589999681338668E-4,
          9.452999802306294E-4,
          9.532999829389155E-4,
          9.585999650880694E-4,
          9.621999925002456E-4,
          9.679000359028578E-4,
          0.0010383000480942428,
          9.770000469870865E-4,
          9.992000414058566E-4,
          9.82099969405681E-4,
          9.851999930106103E-4,
          9.85099992249161E-4,
          9.868000051937997E-4,
          9.944000048562884E-4,
          9.93399997241795E-4,
          9.799000108614564E-4,
          0.0010117999627254903,
          0.001005200028885156,
          9.909000364132226E-4,
          9.855999960564077E-4,
          9.960000170394778E-4,
          0.0010109000140801072,
          0.0010557000059634447,
          0.0010141999810002744,
          0.001025600009597838,
          0.0010183000122196972,
          0.0010323000024072826,
          0.0010190000175498426,
          0.0010196000221185386,
          0.0010655000223778188,
          0.001053999993018806,
          0.0010266000172123313,
          0.001031499996315688,
          0.0010423999628983438,
          0.0010320000001229346,
          0.0010342999594286084,
          0.0010788000072352588,
          0.0010642999550327659,
          0.0010760999866761267,
          0.001046599994879216,
          0.0010517000337131321,
          0.001067899982444942,
          0.001115199993364513,
          0.0010686999885365367,
          0.001060199982021004,
          0.0010659999679774046,
          0.0010560000082477927,
          0.00106380000943318,
          0.001057300018146634,
          0.0010649999603629112,
          0.0010980999795719981,
          0.0010867000091820955,
          0.0011257000151090324,
          0.0011018000077456236,
          0.001086199947167188,
          0.0010787000064738095,
          0.0010762999881990254,
          0.0010982999810948968
         ],
         "yaxis": "y",
         "type": "scatter"
        },
        {
         "hovertemplate": "Algoritmo di ordinamento=counting_sort<br>Tipo di input=sorted<br>Dimensione array=%{x}<br>Time (s)=%{y}<extra></extra>",
         "legendgroup": "counting_sort",
         "line": {
          "color": "#EF553B",
          "dash": "solid"
         },
         "marker": {
          "symbol": "circle"
         },
         "mode": "lines",
         "name": "counting_sort",
         "orientation": "v",
         "showlegend": false,
         "x": [
          10,
          20,
          30,
          40,
          50,
          60,
          70,
          80,
          90,
          100,
          110,
          120,
          130,
          140,
          150,
          160,
          170,
          180,
          190,
          200,
          210,
          220,
          230,
          240,
          250,
          260,
          270,
          280,
          290,
          300,
          310,
          320,
          330,
          340,
          350,
          360,
          370,
          380,
          390,
          400,
          410,
          420,
          430,
          440,
          450,
          460,
          470,
          480,
          490,
          500,
          510,
          520,
          530,
          540,
          550,
          560,
          570,
          580,
          590,
          600,
          610,
          620,
          630,
          640,
          650,
          660,
          670,
          680,
          690,
          700,
          710,
          720,
          730,
          740,
          750,
          760,
          770,
          780,
          790,
          800,
          810,
          820,
          830,
          840,
          850,
          860,
          870,
          880,
          890,
          900,
          910,
          920,
          930,
          940,
          950,
          960,
          970,
          980,
          990
         ],
         "xaxis": "x2",
         "y": [
          7.898000185377896E-4,
          8.189999498426914E-4,
          8.873000042513013E-4,
          8.639000006951392E-4,
          8.653999539092183E-4,
          8.157999836839736E-4,
          8.653000113554299E-4,
          8.675000281073153E-4,
          8.599000284448266E-4,
          8.796000038273633E-4,
          8.586000185459852E-4,
          8.74800025485456E-4,
          8.861999958753586E-4,
          8.684000349603593E-4,
          8.833999745547771E-4,
          8.87800008058548E-4,
          8.891999605111778E-4,
          8.895999635569751E-4,
          8.937999955378473E-4,
          8.902000263333321E-4,
          8.981999708339572E-4,
          8.931999909691513E-4,
          8.989000343717635E-4,
          9.112000116147101E-4,
          8.95200006198138E-4,
          9.445999749004841E-4,
          9.157999884337187E-4,
          9.138000314123929E-4,
          9.124000207521021E-4,
          9.338000090792775E-4,
          9.384999866597354E-4,
          9.236999903805554E-4,
          9.359000250697136E-4,
          9.205999667756259E-4,
          9.278999641537666E-4,
          9.243999957107008E-4,
          9.749000309966505E-4,
          9.498000144958496E-4,
          9.322999976575375E-4,
          9.428999619558454E-4,
          9.426999604329467E-4,
          9.621999925002456E-4,
          0.0010257000103592873,
          9.860999998636544E-4,
          9.748999727889895E-4,
          9.720000089146197E-4,
          9.775999933481216E-4,
          9.817000245675445E-4,
          9.86900005955249E-4,
          9.840999846346676E-4,
          9.710000013001263E-4,
          9.757999796420336E-4,
          9.525999776087701E-4,
          9.846999892033637E-4,
          9.733999613672495E-4,
          9.976000292226672E-4,
          9.837999823503196E-4,
          0.0010923999943770468,
          0.0010176000068895519,
          0.0010104000102728605,
          0.0010196000221185386,
          0.0010002999915741384,
          0.0010270000202581286,
          0.0010311999940313399,
          0.0010230999905616045,
          0.0010112000163644552,
          0.0010079999919980764,
          0.0010094000026583672,
          0.0010245000012218952,
          0.0010246000019833446,
          0.0010297999833710492,
          0.001032400003168732,
          0.0012125000357627869,
          0.0010423999628983438,
          0.0010322000016458333,
          0.0010546999983489513,
          0.0010504999663680792,
          0.0010531000443734229,
          0.0010520999785512686,
          0.0010370999807491899,
          0.0011008000001311302,
          0.0010682999854907393,
          0.0010497999610379338,
          0.001046899997163564,
          0.0010533000458963215,
          0.0010480000055395067,
          0.0010541000519879162,
          0.0010383999906480312,
          0.0010590000310912728,
          0.0010538999922573566,
          0.0010460999910719693,
          0.0010384999914094806,
          0.001042200019583106,
          0.0010402000043541193,
          0.001048400008585304,
          0.0010562000097706914,
          0.0010470999986864626,
          0.0010508000268600881,
          0.0010713000083342195
         ],
         "yaxis": "y2",
         "type": "scatter"
        },
        {
         "hovertemplate": "Algoritmo di ordinamento=counting_sort<br>Tipo di input=reversed<br>Dimensione array=%{x}<br>Time (s)=%{y}<extra></extra>",
         "legendgroup": "counting_sort",
         "line": {
          "color": "#EF553B",
          "dash": "solid"
         },
         "marker": {
          "symbol": "circle"
         },
         "mode": "lines",
         "name": "counting_sort",
         "orientation": "v",
         "showlegend": false,
         "x": [
          10,
          20,
          30,
          40,
          50,
          60,
          70,
          80,
          90,
          100,
          110,
          120,
          130,
          140,
          150,
          160,
          170,
          180,
          190,
          200,
          210,
          220,
          230,
          240,
          250,
          260,
          270,
          280,
          290,
          300,
          310,
          320,
          330,
          340,
          350,
          360,
          370,
          380,
          390,
          400,
          410,
          420,
          430,
          440,
          450,
          460,
          470,
          480,
          490,
          500,
          510,
          520,
          530,
          540,
          550,
          560,
          570,
          580,
          590,
          600,
          610,
          620,
          630,
          640,
          650,
          660,
          670,
          680,
          690,
          700,
          710,
          720,
          730,
          740,
          750,
          760,
          770,
          780,
          790,
          800,
          810,
          820,
          830,
          840,
          850,
          860,
          870,
          880,
          890,
          900,
          910,
          920,
          930,
          940,
          950,
          960,
          970,
          980,
          990
         ],
         "xaxis": "x3",
         "y": [
          8.906999719329178E-4,
          8.578000124543905E-4,
          8.403999963775277E-4,
          8.410000009462237E-4,
          8.586999610997736E-4,
          8.622999885119498E-4,
          8.438000222668052E-4,
          8.340000058524311E-4,
          8.704999927431345E-4,
          8.637999999336898E-4,
          8.670000243000686E-4,
          8.818000205792487E-4,
          8.649000083096325E-4,
          8.715000003576279E-4,
          8.735000155866146E-4,
          8.746000239625573E-4,
          8.759000338613987E-4,
          8.710999973118305E-4,
          9.537000441923738E-4,
          9.063000325113535E-4,
          8.985000313259661E-4,
          9.064000332728028E-4,
          9.01099992915988E-4,
          8.973000221885741E-4,
          9.10000002477318E-4,
          9.177000029012561E-4,
          9.151000413112342E-4,
          9.115000138990581E-4,
          9.184999507851899E-4,
          9.174000006169081E-4,
          9.277000208385289E-4,
          9.243999957107008E-4,
          9.451999794691801E-4,
          9.3629996990785E-4,
          0.0010630000033415854,
          0.001007599988952279,
          9.52600035816431E-4,
          9.58800024818629E-4,
          9.627000545151532E-4,
          9.898000280372798E-4,
          9.648000122979283E-4,
          9.79500007815659E-4,
          9.63500002399087E-4,
          9.700999944470823E-4,
          9.624999947845936E-4,
          9.729999583214521E-4,
          9.756999788805842E-4,
          9.696999914012849E-4,
          9.91299981251359E-4,
          9.785000002011657E-4,
          0.0010725999600254,
          9.988999809138477E-4,
          0.0010091000003740191,
          0.0010003000497817993,
          0.001012300024740398,
          0.0010183000122196972,
          0.0010003999923355877,
          9.957000147551298E-4,
          0.0010028000106103718,
          0.0010068999836221337,
          0.0010149999870918691,
          0.0010167000000365078,
          0.0010074999881908298,
          0.0010309999925084412,
          0.0010135999764315784,
          0.0011681999894790351,
          0.0010375999845564365,
          0.0010366999777033925,
          0.001033000007737428,
          0.0010312999947927892,
          0.0010546999983489513,
          0.0010489999549463391,
          0.0010469999979250133,
          0.001046599994879216,
          0.0010429000249132514,
          0.001034500019159168,
          0.0010469000553712249,
          0.0010611999896354973,
          0.0010457999887876213,
          0.0011113000218756497,
          0.0010597999789752066,
          0.0010646000155247748,
          0.0010568000143393874,
          0.0010648999596014619,
          0.0010819000308401883,
          0.001067899982444942,
          0.001061999995727092,
          0.0010585000272840261,
          0.001060199982021004,
          0.001062900002580136,
          0.0010765999904833734,
          0.0010775999980978668,
          0.0010686999885365367,
          0.001157800026703626,
          0.0011035999632440507,
          0.001084199990145862,
          0.0010846999939531088,
          0.0011023000115528703,
          0.0010851999977603555
         ],
         "yaxis": "y3",
         "type": "scatter"
        }
       ],
       "layout": {
        "template": {
         "data": {
          "histogram2dcontour": [
           {
            "type": "histogram2dcontour",
            "colorbar": {
             "outlinewidth": 0,
             "ticks": ""
            },
            "colorscale": [
             [
              0.0,
              "#0d0887"
             ],
             [
              0.1111111111111111,
              "#46039f"
             ],
             [
              0.2222222222222222,
              "#7201a8"
             ],
             [
              0.3333333333333333,
              "#9c179e"
             ],
             [
              0.4444444444444444,
              "#bd3786"
             ],
             [
              0.5555555555555556,
              "#d8576b"
             ],
             [
              0.6666666666666666,
              "#ed7953"
             ],
             [
              0.7777777777777778,
              "#fb9f3a"
             ],
             [
              0.8888888888888888,
              "#fdca26"
             ],
             [
              1.0,
              "#f0f921"
             ]
            ]
           }
          ],
          "choropleth": [
           {
            "type": "choropleth",
            "colorbar": {
             "outlinewidth": 0,
             "ticks": ""
            }
           }
          ],
          "histogram2d": [
           {
            "type": "histogram2d",
            "colorbar": {
             "outlinewidth": 0,
             "ticks": ""
            },
            "colorscale": [
             [
              0.0,
              "#0d0887"
             ],
             [
              0.1111111111111111,
              "#46039f"
             ],
             [
              0.2222222222222222,
              "#7201a8"
             ],
             [
              0.3333333333333333,
              "#9c179e"
             ],
             [
              0.4444444444444444,
              "#bd3786"
             ],
             [
              0.5555555555555556,
              "#d8576b"
             ],
             [
              0.6666666666666666,
              "#ed7953"
             ],
             [
              0.7777777777777778,
              "#fb9f3a"
             ],
             [
              0.8888888888888888,
              "#fdca26"
             ],
             [
              1.0,
              "#f0f921"
             ]
            ]
           }
          ],
          "heatmap": [
           {
            "type": "heatmap",
            "colorbar": {
             "outlinewidth": 0,
             "ticks": ""
            },
            "colorscale": [
             [
              0.0,
              "#0d0887"
             ],
             [
              0.1111111111111111,
              "#46039f"
             ],
             [
              0.2222222222222222,
              "#7201a8"
             ],
             [
              0.3333333333333333,
              "#9c179e"
             ],
             [
              0.4444444444444444,
              "#bd3786"
             ],
             [
              0.5555555555555556,
              "#d8576b"
             ],
             [
              0.6666666666666666,
              "#ed7953"
             ],
             [
              0.7777777777777778,
              "#fb9f3a"
             ],
             [
              0.8888888888888888,
              "#fdca26"
             ],
             [
              1.0,
              "#f0f921"
             ]
            ]
           }
          ],
          "heatmapgl": [
           {
            "type": "heatmapgl",
            "colorbar": {
             "outlinewidth": 0,
             "ticks": ""
            },
            "colorscale": [
             [
              0.0,
              "#0d0887"
             ],
             [
              0.1111111111111111,
              "#46039f"
             ],
             [
              0.2222222222222222,
              "#7201a8"
             ],
             [
              0.3333333333333333,
              "#9c179e"
             ],
             [
              0.4444444444444444,
              "#bd3786"
             ],
             [
              0.5555555555555556,
              "#d8576b"
             ],
             [
              0.6666666666666666,
              "#ed7953"
             ],
             [
              0.7777777777777778,
              "#fb9f3a"
             ],
             [
              0.8888888888888888,
              "#fdca26"
             ],
             [
              1.0,
              "#f0f921"
             ]
            ]
           }
          ],
          "contourcarpet": [
           {
            "type": "contourcarpet",
            "colorbar": {
             "outlinewidth": 0,
             "ticks": ""
            }
           }
          ],
          "contour": [
           {
            "type": "contour",
            "colorbar": {
             "outlinewidth": 0,
             "ticks": ""
            },
            "colorscale": [
             [
              0.0,
              "#0d0887"
             ],
             [
              0.1111111111111111,
              "#46039f"
             ],
             [
              0.2222222222222222,
              "#7201a8"
             ],
             [
              0.3333333333333333,
              "#9c179e"
             ],
             [
              0.4444444444444444,
              "#bd3786"
             ],
             [
              0.5555555555555556,
              "#d8576b"
             ],
             [
              0.6666666666666666,
              "#ed7953"
             ],
             [
              0.7777777777777778,
              "#fb9f3a"
             ],
             [
              0.8888888888888888,
              "#fdca26"
             ],
             [
              1.0,
              "#f0f921"
             ]
            ]
           }
          ],
          "surface": [
           {
            "type": "surface",
            "colorbar": {
             "outlinewidth": 0,
             "ticks": ""
            },
            "colorscale": [
             [
              0.0,
              "#0d0887"
             ],
             [
              0.1111111111111111,
              "#46039f"
             ],
             [
              0.2222222222222222,
              "#7201a8"
             ],
             [
              0.3333333333333333,
              "#9c179e"
             ],
             [
              0.4444444444444444,
              "#bd3786"
             ],
             [
              0.5555555555555556,
              "#d8576b"
             ],
             [
              0.6666666666666666,
              "#ed7953"
             ],
             [
              0.7777777777777778,
              "#fb9f3a"
             ],
             [
              0.8888888888888888,
              "#fdca26"
             ],
             [
              1.0,
              "#f0f921"
             ]
            ]
           }
          ],
          "mesh3d": [
           {
            "type": "mesh3d",
            "colorbar": {
             "outlinewidth": 0,
             "ticks": ""
            }
           }
          ],
          "scatter": [
           {
            "marker": {
             "line": {
              "color": "#283442"
             }
            },
            "type": "scatter"
           }
          ],
          "parcoords": [
           {
            "type": "parcoords",
            "line": {
             "colorbar": {
              "outlinewidth": 0,
              "ticks": ""
             }
            }
           }
          ],
          "scatterpolargl": [
           {
            "type": "scatterpolargl",
            "marker": {
             "colorbar": {
              "outlinewidth": 0,
              "ticks": ""
             }
            }
           }
          ],
          "bar": [
           {
            "error_x": {
             "color": "#f2f5fa"
            },
            "error_y": {
             "color": "#f2f5fa"
            },
            "marker": {
             "line": {
              "color": "rgb(17,17,17)",
              "width": 0.5
             },
             "pattern": {
              "fillmode": "overlay",
              "size": 10,
              "solidity": 0.2
             }
            },
            "type": "bar"
           }
          ],
          "scattergeo": [
           {
            "type": "scattergeo",
            "marker": {
             "colorbar": {
              "outlinewidth": 0,
              "ticks": ""
             }
            }
           }
          ],
          "scatterpolar": [
           {
            "type": "scatterpolar",
            "marker": {
             "colorbar": {
              "outlinewidth": 0,
              "ticks": ""
             }
            }
           }
          ],
          "histogram": [
           {
            "marker": {
             "pattern": {
              "fillmode": "overlay",
              "size": 10,
              "solidity": 0.2
             }
            },
            "type": "histogram"
           }
          ],
          "scattergl": [
           {
            "marker": {
             "line": {
              "color": "#283442"
             }
            },
            "type": "scattergl"
           }
          ],
          "scatter3d": [
           {
            "type": "scatter3d",
            "line": {
             "colorbar": {
              "outlinewidth": 0,
              "ticks": ""
             }
            },
            "marker": {
             "colorbar": {
              "outlinewidth": 0,
              "ticks": ""
             }
            }
           }
          ],
          "scattermapbox": [
           {
            "type": "scattermapbox",
            "marker": {
             "colorbar": {
              "outlinewidth": 0,
              "ticks": ""
             }
            }
           }
          ],
          "scatterternary": [
           {
            "type": "scatterternary",
            "marker": {
             "colorbar": {
              "outlinewidth": 0,
              "ticks": ""
             }
            }
           }
          ],
          "scattercarpet": [
           {
            "type": "scattercarpet",
            "marker": {
             "colorbar": {
              "outlinewidth": 0,
              "ticks": ""
             }
            }
           }
          ],
          "carpet": [
           {
            "aaxis": {
             "endlinecolor": "#A2B1C6",
             "gridcolor": "#506784",
             "linecolor": "#506784",
             "minorgridcolor": "#506784",
             "startlinecolor": "#A2B1C6"
            },
            "baxis": {
             "endlinecolor": "#A2B1C6",
             "gridcolor": "#506784",
             "linecolor": "#506784",
             "minorgridcolor": "#506784",
             "startlinecolor": "#A2B1C6"
            },
            "type": "carpet"
           }
          ],
          "table": [
           {
            "cells": {
             "fill": {
              "color": "#506784"
             },
             "line": {
              "color": "rgb(17,17,17)"
             }
            },
            "header": {
             "fill": {
              "color": "#2a3f5f"
             },
             "line": {
              "color": "rgb(17,17,17)"
             }
            },
            "type": "table"
           }
          ],
          "barpolar": [
           {
            "marker": {
             "line": {
              "color": "rgb(17,17,17)",
              "width": 0.5
             },
             "pattern": {
              "fillmode": "overlay",
              "size": 10,
              "solidity": 0.2
             }
            },
            "type": "barpolar"
           }
          ],
          "pie": [
           {
            "automargin": true,
            "type": "pie"
           }
          ]
         },
         "layout": {
          "autotypenumbers": "strict",
          "colorway": [
           "#636efa",
           "#EF553B",
           "#00cc96",
           "#ab63fa",
           "#FFA15A",
           "#19d3f3",
           "#FF6692",
           "#B6E880",
           "#FF97FF",
           "#FECB52"
          ],
          "font": {
           "color": "#f2f5fa"
          },
          "hovermode": "closest",
          "hoverlabel": {
           "align": "left"
          },
          "paper_bgcolor": "rgb(17,17,17)",
          "plot_bgcolor": "rgb(17,17,17)",
          "polar": {
           "bgcolor": "rgb(17,17,17)",
           "angularaxis": {
            "gridcolor": "#506784",
            "linecolor": "#506784",
            "ticks": ""
           },
           "radialaxis": {
            "gridcolor": "#506784",
            "linecolor": "#506784",
            "ticks": ""
           }
          },
          "ternary": {
           "bgcolor": "rgb(17,17,17)",
           "aaxis": {
            "gridcolor": "#506784",
            "linecolor": "#506784",
            "ticks": ""
           },
           "baxis": {
            "gridcolor": "#506784",
            "linecolor": "#506784",
            "ticks": ""
           },
           "caxis": {
            "gridcolor": "#506784",
            "linecolor": "#506784",
            "ticks": ""
           }
          },
          "coloraxis": {
           "colorbar": {
            "outlinewidth": 0,
            "ticks": ""
           }
          },
          "colorscale": {
           "sequential": [
            [
             0.0,
             "#0d0887"
            ],
            [
             0.1111111111111111,
             "#46039f"
            ],
            [
             0.2222222222222222,
             "#7201a8"
            ],
            [
             0.3333333333333333,
             "#9c179e"
            ],
            [
             0.4444444444444444,
             "#bd3786"
            ],
            [
             0.5555555555555556,
             "#d8576b"
            ],
            [
             0.6666666666666666,
             "#ed7953"
            ],
            [
             0.7777777777777778,
             "#fb9f3a"
            ],
            [
             0.8888888888888888,
             "#fdca26"
            ],
            [
             1.0,
             "#f0f921"
            ]
           ],
           "sequentialminus": [
            [
             0.0,
             "#0d0887"
            ],
            [
             0.1111111111111111,
             "#46039f"
            ],
            [
             0.2222222222222222,
             "#7201a8"
            ],
            [
             0.3333333333333333,
             "#9c179e"
            ],
            [
             0.4444444444444444,
             "#bd3786"
            ],
            [
             0.5555555555555556,
             "#d8576b"
            ],
            [
             0.6666666666666666,
             "#ed7953"
            ],
            [
             0.7777777777777778,
             "#fb9f3a"
            ],
            [
             0.8888888888888888,
             "#fdca26"
            ],
            [
             1.0,
             "#f0f921"
            ]
           ],
           "diverging": [
            [
             0,
             "#8e0152"
            ],
            [
             0.1,
             "#c51b7d"
            ],
            [
             0.2,
             "#de77ae"
            ],
            [
             0.3,
             "#f1b6da"
            ],
            [
             0.4,
             "#fde0ef"
            ],
            [
             0.5,
             "#f7f7f7"
            ],
            [
             0.6,
             "#e6f5d0"
            ],
            [
             0.7,
             "#b8e186"
            ],
            [
             0.8,
             "#7fbc41"
            ],
            [
             0.9,
             "#4d9221"
            ],
            [
             1,
             "#276419"
            ]
           ]
          },
          "xaxis": {
           "gridcolor": "#283442",
           "linecolor": "#506784",
           "ticks": "",
           "title": {
            "standoff": 15
           },
           "zerolinecolor": "#283442",
           "automargin": true,
           "zerolinewidth": 2
          },
          "yaxis": {
           "gridcolor": "#283442",
           "linecolor": "#506784",
           "ticks": "",
           "title": {
            "standoff": 15
           },
           "zerolinecolor": "#283442",
           "automargin": true,
           "zerolinewidth": 2
          },
          "scene": {
           "xaxis": {
            "backgroundcolor": "rgb(17,17,17)",
            "gridcolor": "#506784",
            "linecolor": "#506784",
            "showbackground": true,
            "ticks": "",
            "zerolinecolor": "#C8D4E3",
            "gridwidth": 2
           },
           "yaxis": {
            "backgroundcolor": "rgb(17,17,17)",
            "gridcolor": "#506784",
            "linecolor": "#506784",
            "showbackground": true,
            "ticks": "",
            "zerolinecolor": "#C8D4E3",
            "gridwidth": 2
           },
           "zaxis": {
            "backgroundcolor": "rgb(17,17,17)",
            "gridcolor": "#506784",
            "linecolor": "#506784",
            "showbackground": true,
            "ticks": "",
            "zerolinecolor": "#C8D4E3",
            "gridwidth": 2
           }
          },
          "shapedefaults": {
           "line": {
            "color": "#f2f5fa"
           }
          },
          "annotationdefaults": {
           "arrowcolor": "#f2f5fa",
           "arrowhead": 0,
           "arrowwidth": 1
          },
          "geo": {
           "bgcolor": "rgb(17,17,17)",
           "landcolor": "rgb(17,17,17)",
           "subunitcolor": "#506784",
           "showland": true,
           "showlakes": true,
           "lakecolor": "rgb(17,17,17)"
          },
          "title": {
           "x": 0.05
          },
          "updatemenudefaults": {
           "bgcolor": "#506784",
           "borderwidth": 0
          },
          "sliderdefaults": {
           "bgcolor": "#C8D4E3",
           "borderwidth": 1,
           "bordercolor": "rgb(17,17,17)",
           "tickwidth": 0
          },
          "mapbox": {
           "style": "dark"
          }
         }
        },
        "xaxis": {
         "anchor": "y",
         "domain": [
          0.0,
          0.31999999999999995
         ],
         "title": {
          "text": "Dimensione array"
         }
        },
        "yaxis": {
         "anchor": "x",
         "domain": [
          0.0,
          1.0
         ],
         "title": {
          "text": "Time (s)"
         }
        },
        "xaxis2": {
         "anchor": "y2",
         "domain": [
          0.33999999999999997,
          0.6599999999999999
         ],
         "matches": "x",
         "title": {
          "text": "Dimensione array"
         }
        },
        "yaxis2": {
         "anchor": "x2",
         "domain": [
          0.0,
          1.0
         ],
         "matches": "y",
         "showticklabels": false
        },
        "xaxis3": {
         "anchor": "y3",
         "domain": [
          0.6799999999999999,
          0.9999999999999999
         ],
         "matches": "x",
         "title": {
          "text": "Dimensione array"
         }
        },
        "yaxis3": {
         "anchor": "x3",
         "domain": [
          0.0,
          1.0
         ],
         "matches": "y",
         "showticklabels": false
        },
        "annotations": [
         {
          "font": {},
          "showarrow": false,
          "text": "Tipo di input=random",
          "x": 0.15999999999999998,
          "xanchor": "center",
          "xref": "paper",
          "y": 1.0,
          "yanchor": "bottom",
          "yref": "paper"
         },
         {
          "font": {},
          "showarrow": false,
          "text": "Tipo di input=sorted",
          "x": 0.49999999999999994,
          "xanchor": "center",
          "xref": "paper",
          "y": 1.0,
          "yanchor": "bottom",
          "yref": "paper"
         },
         {
          "font": {},
          "showarrow": false,
          "text": "Tipo di input=reversed",
          "x": 0.8399999999999999,
          "xanchor": "center",
          "xref": "paper",
          "y": 1.0,
          "yanchor": "bottom",
          "yref": "paper"
         }
        ],
        "legend": {
         "title": {
          "text": "Algoritmo di ordinamento"
         },
         "tracegroupgap": 0
        },
        "title": {
         "text": "Sorting algorithms"
        }
       },
       "config": {
        "plotlyServerURL": "https://plot.ly"
       }
      },
      "text/html": "<div>                            <div id=\"6658867e-6524-4ecb-ba6f-f84114824b5b\" class=\"plotly-graph-div\" style=\"height:525px; width:100%;\"></div>            <script type=\"text/javascript\">                require([\"plotly\"], function(Plotly) {                    window.PLOTLYENV=window.PLOTLYENV || {};                                    if (document.getElementById(\"6658867e-6524-4ecb-ba6f-f84114824b5b\")) {                    Plotly.newPlot(                        \"6658867e-6524-4ecb-ba6f-f84114824b5b\",                        [{\"hovertemplate\":\"Algoritmo di ordinamento=insertion_sort<br>Tipo di input=random<br>Dimensione array=%{x}<br>Time (s)=%{y}<extra></extra>\",\"legendgroup\":\"insertion_sort\",\"line\":{\"color\":\"#636efa\",\"dash\":\"solid\"},\"marker\":{\"symbol\":\"circle\"},\"mode\":\"lines\",\"name\":\"insertion_sort\",\"orientation\":\"v\",\"showlegend\":true,\"x\":[10,20,30,40,50,60,70,80,90,100,110,120,130,140,150,160,170,180,190,200,210,220,230,240,250,260,270,280,290,300,310,320,330,340,350,360,370,380,390,400,410,420,430,440,450,460,470,480,490,500,510,520,530,540,550,560,570,580,590,600,610,620,630,640,650,660,670,680,690,700,710,720,730,740,750,760,770,780,790,800,810,820,830,840,850,860,870,880,890,900,910,920,930,940,950,960,970,980,990],\"xaxis\":\"x\",\"y\":[1.0200019460171461e-05,1.9499973859637976e-05,2.6100024115294218e-05,4.349998198449612e-05,6.839999696239829e-05,0.00010010000551119447,0.00012850004713982344,0.0001574999769218266,0.00020670000230893493,0.00026810000417754054,0.0003132999991066754,0.000395099981687963,0.0004144000122323632,0.00048639997839927673,0.0005534999654628336,0.0006157000316306949,0.0007030999986454844,0.0009664000244811177,0.00090819998877123,0.0010108000133186579,0.0011316000018268824,0.0012079000007361174,0.0014809999847784638,0.0013617000076919794,0.0015432999935001135,0.0016533000161871314,0.0017562999855726957,0.002003900008276105,0.0021268000127747655,0.0022903999779373407,0.0026157000102102757,0.0028670000028796494,0.0030792999896220863,0.004204700002446771,0.005792199983261526,0.0033486999454908073,0.003575499984435737,0.0037717000232078135,0.004504999960772693,0.004274099948816001,0.004444600024726242,0.004738699994049966,0.005988900025840849,0.007585599960293621,0.009131800034083426,0.009706700046081096,0.006557400047313422,0.0075514999916777015,0.006800000031944364,0.00688800000352785,0.007113599975127727,0.006953499978408217,0.007610400032717735,0.007989200006704777,0.008496000024024397,0.008430599991697818,0.008356699952855706,0.009193600038997829,0.010834599961526692,0.010458100005052984,0.010084800014737993,0.010283300012815744,0.010716200049500912,0.010829599981661886,0.011467400006949902,0.011805200017988682,0.012118899961933494,0.01323820004472509,0.013085899990983307,0.013267399976029992,0.01397890003863722,0.014138500031549484,0.015155800036154687,0.015477199980523437,0.01676299999235198,0.015896599972620606,0.016203399980440736,0.019835500046610832,0.017551600001752377,0.017741400049999356,0.0178398999851197,0.017823299975134432,0.019269100041128695,0.02009780000662431,0.020843900041654706,0.0208684999961406,0.02051849995041266,0.021814600040670484,0.022159599990118295,0.022866299957968295,0.024157900013960898,0.023396299977321178,0.024687600031029433,0.02600509999319911,0.025407800043467432,0.026483699970413,0.0297477999702096,0.029232800006866455,0.027158800046890974],\"yaxis\":\"y\",\"type\":\"scatter\"},{\"hovertemplate\":\"Algoritmo di ordinamento=insertion_sort<br>Tipo di input=sorted<br>Dimensione array=%{x}<br>Time (s)=%{y}<extra></extra>\",\"legendgroup\":\"insertion_sort\",\"line\":{\"color\":\"#636efa\",\"dash\":\"solid\"},\"marker\":{\"symbol\":\"circle\"},\"mode\":\"lines\",\"name\":\"insertion_sort\",\"orientation\":\"v\",\"showlegend\":false,\"x\":[10,20,30,40,50,60,70,80,90,100,110,120,130,140,150,160,170,180,190,200,210,220,230,240,250,260,270,280,290,300,310,320,330,340,350,360,370,380,390,400,410,420,430,440,450,460,470,480,490,500,510,520,530,540,550,560,570,580,590,600,610,620,630,640,650,660,670,680,690,700,710,720,730,740,750,760,770,780,790,800,810,820,830,840,850,860,870,880,890,900,910,920,930,940,950,960,970,980,990],\"xaxis\":\"x2\",\"y\":[2.400018274784088e-06,2.900022082030773e-06,3.89997148886323e-06,4.900037311017513e-06,6.099988240748644e-06,6.999995093792677e-06,8.300004992634058e-06,9.200011845678091e-06,1.0299962013959885e-05,1.1300027836114168e-05,1.2300035450607538e-05,1.3500044587999582e-05,1.4599994756281376e-05,1.5600002370774746e-05,1.6799953300505877e-05,1.7600017599761486e-05,1.9000028260052204e-05,1.98000343516469e-05,2.300000051036477e-05,2.1899992134422064e-05,2.3300002794712782e-05,2.4099950678646564e-05,2.5399960577487946e-05,2.640002639964223e-05,2.7699978090822697e-05,2.9199989512562752e-05,3.0099996365606785e-05,3.15000070258975e-05,3.270001616328955e-05,3.389996709302068e-05,3.539997851476073e-05,3.6299985367804766e-05,3.789999755099416e-05,3.8700003642588854e-05,4.010001430287957e-05,4.18000272475183e-05,4.349998198449612e-05,4.4300046283751726e-05,4.630000330507755e-05,4.640000406652689e-05,4.8799964133650064e-05,4.9200025387108326e-05,5.070003680884838e-05,5.289999535307288e-05,5.299999611452222e-05,5.440000677481294e-05,5.600001895800233e-05,5.6999968364834785e-05,5.789997521787882e-05,5.949998740106821e-05,6.0399994254112244e-05,6.210000719875097e-05,6.320001557469368e-05,6.500002928078175e-05,6.719998782500625e-05,6.809999467805028e-05,6.9500005338341e-05,7.069995626807213e-05,7.160002132877707e-05,7.289997301995754e-05,0.00010119995567947626,7.550005102530122e-05,7.750000804662704e-05,7.819995516911149e-05,7.879995973780751e-05,8.149998029693961e-05,8.220004383474588e-05,8.249998791143298e-05,8.38999985717237e-05,8.50000069476664e-05,8.74000252224505e-05,8.899997919797897e-05,9.039998985826969e-05,9.210000280290842e-05,9.330001194030046e-05,9.350001346319914e-05,9.439996210858226e-05,9.589997353032231e-05,9.869999485090375e-05,9.849999332800508e-05,9.929999941959977e-05,0.00010410003596916795,0.00010200001997873187,0.00010579999070614576,0.00010489998385310173,0.00010579999070614576,0.00010710000060498714,0.00010930001735687256,0.00011310004629194736,0.00013540004147216678,0.00011259998427703977,0.00011480000102892518,0.0001154000055976212,0.00011600001016631722,0.00011740002082660794,0.00011859997175633907,0.00011989998165518045,0.0001362999901175499,0.00012310000602155924],\"yaxis\":\"y2\",\"type\":\"scatter\"},{\"hovertemplate\":\"Algoritmo di ordinamento=insertion_sort<br>Tipo di input=reversed<br>Dimensione array=%{x}<br>Time (s)=%{y}<extra></extra>\",\"legendgroup\":\"insertion_sort\",\"line\":{\"color\":\"#636efa\",\"dash\":\"solid\"},\"marker\":{\"symbol\":\"circle\"},\"mode\":\"lines\",\"name\":\"insertion_sort\",\"orientation\":\"v\",\"showlegend\":false,\"x\":[10,20,30,40,50,60,70,80,90,100,110,120,130,140,150,160,170,180,190,200,210,220,230,240,250,260,270,280,290,300,310,320,330,340,350,360,370,380,390,400,410,420,430,440,450,460,470,480,490,500,510,520,530,540,550,560,570,580,590,600,610,620,630,640,650,660,670,680,690,700,710,720,730,740,750,760,770,780,790,800,810,820,830,840,850,860,870,880,890,900,910,920,930,940,950,960,970,980,990],\"xaxis\":\"x3\",\"y\":[7.299997378140688e-06,2.169999061152339e-05,4.7200010158121586e-05,8.25000461190939e-05,0.0001278999843634665,0.00018130004173144698,0.00024729996221140027,0.00032110000029206276,0.0004078000201843679,0.0004991000168956816,0.00060299999313429,0.0007179999956861138,0.0008460000390186906,0.0009743000264279544,0.001117599953431636,0.0012667999835684896,0.001460899948142469,0.0016063000075519085,0.001790700014680624,0.0020133000216446817,0.0021998999873176217,0.0024004000006243587,0.002639499958604574,0.00287730002310127,0.0031257999944500625,0.0033987000351771712,0.003641399962361902,0.003906099998857826,0.0041936999768950045,0.004434200003743172,0.004777099995408207,0.0050962999812327325,0.005530299968086183,0.005793799995444715,0.00613980001071468,0.00649830000475049,0.006847900047432631,0.007303799968212843,0.007644600002095103,0.008065200003329664,0.008460299985017627,0.009377999987918884,0.009349400002975017,0.009932200016919523,0.010533599997870624,0.011105200042948127,0.011077700008172542,0.011935300019104034,0.013890800008084625,0.012960299965925515,0.013197400025092065,0.013686499965842813,0.013980999996419996,0.014677500003017485,0.015204399998765439,0.01611809997120872,0.017141000018455088,0.017736000008881092,0.018413799989502877,0.019020400010049343,0.01965189998736605,0.020197800011374056,0.02113939996343106,0.021661899983882904,0.022356899979058653,0.023026500013656914,0.023793299973476678,0.024988399993162602,0.025547900004312396,0.026183599955402315,0.02713679999578744,0.02777549996972084,0.02797729999292642,0.03755850001471117,0.029043100017588586,0.02999950002413243,0.032166399993002415,0.03284719999646768,0.033302799973171204,0.03419399994891137,0.03471660002833232,0.03897990001132712,0.03679519996512681,0.03799260000232607,0.038550600002054125,0.04002670000772923,0.04127440002048388,0.04343520000111312,0.0434938000398688,0.044097799982409924,0.04558609996456653,0.046019400004297495,0.04551919997902587,0.04669839999405667,0.047420599963516,0.04805560002569109,0.04945140000199899,0.05040910001844168,0.05098360002739355],\"yaxis\":\"y3\",\"type\":\"scatter\"},{\"hovertemplate\":\"Algoritmo di ordinamento=counting_sort<br>Tipo di input=random<br>Dimensione array=%{x}<br>Time (s)=%{y}<extra></extra>\",\"legendgroup\":\"counting_sort\",\"line\":{\"color\":\"#EF553B\",\"dash\":\"solid\"},\"marker\":{\"symbol\":\"circle\"},\"mode\":\"lines\",\"name\":\"counting_sort\",\"orientation\":\"v\",\"showlegend\":true,\"x\":[10,20,30,40,50,60,70,80,90,100,110,120,130,140,150,160,170,180,190,200,210,220,230,240,250,260,270,280,290,300,310,320,330,340,350,360,370,380,390,400,410,420,430,440,450,460,470,480,490,500,510,520,530,540,550,560,570,580,590,600,610,620,630,640,650,660,670,680,690,700,710,720,730,740,750,760,770,780,790,800,810,820,830,840,850,860,870,880,890,900,910,920,930,940,950,960,970,980,990],\"xaxis\":\"x\",\"y\":[0.0007662999560125172,0.000851399963721633,0.000868600036483258,0.0008013999904505908,0.000844599970150739,0.0008386000408791006,0.0008092999923974276,0.0008473999914713204,0.0008347000111825764,0.0008628999930806458,0.0008620000444352627,0.0008619999862276018,0.0008586000185459852,0.0008656000136397779,0.0009259999496862292,0.0008675000281073153,0.0008898999658413231,0.0008844999829307199,0.0008787999977357686,0.0008778999908827245,0.0008794000023044646,0.0008951000054366887,0.0008934999932534993,0.0008970999624580145,0.0008956000092439353,0.0008886999567039311,0.0008931999909691513,0.0008970999624580145,0.0008972000214271247,0.0009018999990075827,0.0009110000100918114,0.0009687999845482409,0.0009264000109396875,0.0009467999916523695,0.000930099980905652,0.0009343000128865242,0.0009630999993532896,0.0009560000034980476,0.0009497000137344003,0.0009423000155948102,0.0009518000297248363,0.0009589999681338668,0.0009452999802306294,0.0009532999829389155,0.0009585999650880694,0.0009621999925002456,0.0009679000359028578,0.0010383000480942428,0.0009770000469870865,0.0009992000414058566,0.000982099969405681,0.0009851999930106103,0.000985099992249161,0.0009868000051937997,0.0009944000048562884,0.000993399997241795,0.0009799000108614564,0.0010117999627254903,0.001005200028885156,0.0009909000364132226,0.0009855999960564077,0.0009960000170394778,0.0010109000140801072,0.0010557000059634447,0.0010141999810002744,0.001025600009597838,0.0010183000122196972,0.0010323000024072826,0.0010190000175498426,0.0010196000221185386,0.0010655000223778188,0.001053999993018806,0.0010266000172123313,0.001031499996315688,0.0010423999628983438,0.0010320000001229346,0.0010342999594286084,0.0010788000072352588,0.0010642999550327659,0.0010760999866761267,0.001046599994879216,0.0010517000337131321,0.001067899982444942,0.001115199993364513,0.0010686999885365367,0.001060199982021004,0.0010659999679774046,0.0010560000082477927,0.00106380000943318,0.001057300018146634,0.0010649999603629112,0.0010980999795719981,0.0010867000091820955,0.0011257000151090324,0.0011018000077456236,0.001086199947167188,0.0010787000064738095,0.0010762999881990254,0.0010982999810948968],\"yaxis\":\"y\",\"type\":\"scatter\"},{\"hovertemplate\":\"Algoritmo di ordinamento=counting_sort<br>Tipo di input=sorted<br>Dimensione array=%{x}<br>Time (s)=%{y}<extra></extra>\",\"legendgroup\":\"counting_sort\",\"line\":{\"color\":\"#EF553B\",\"dash\":\"solid\"},\"marker\":{\"symbol\":\"circle\"},\"mode\":\"lines\",\"name\":\"counting_sort\",\"orientation\":\"v\",\"showlegend\":false,\"x\":[10,20,30,40,50,60,70,80,90,100,110,120,130,140,150,160,170,180,190,200,210,220,230,240,250,260,270,280,290,300,310,320,330,340,350,360,370,380,390,400,410,420,430,440,450,460,470,480,490,500,510,520,530,540,550,560,570,580,590,600,610,620,630,640,650,660,670,680,690,700,710,720,730,740,750,760,770,780,790,800,810,820,830,840,850,860,870,880,890,900,910,920,930,940,950,960,970,980,990],\"xaxis\":\"x2\",\"y\":[0.0007898000185377896,0.0008189999498426914,0.0008873000042513013,0.0008639000006951392,0.0008653999539092183,0.0008157999836839736,0.0008653000113554299,0.0008675000281073153,0.0008599000284448266,0.0008796000038273633,0.0008586000185459852,0.000874800025485456,0.0008861999958753586,0.0008684000349603593,0.0008833999745547771,0.000887800008058548,0.0008891999605111778,0.0008895999635569751,0.0008937999955378473,0.0008902000263333321,0.0008981999708339572,0.0008931999909691513,0.0008989000343717635,0.0009112000116147101,0.000895200006198138,0.0009445999749004841,0.0009157999884337187,0.0009138000314123929,0.0009124000207521021,0.0009338000090792775,0.0009384999866597354,0.0009236999903805554,0.0009359000250697136,0.0009205999667756259,0.0009278999641537666,0.0009243999957107008,0.0009749000309966505,0.0009498000144958496,0.0009322999976575375,0.0009428999619558454,0.0009426999604329467,0.0009621999925002456,0.0010257000103592873,0.0009860999998636544,0.0009748999727889895,0.0009720000089146197,0.0009775999933481216,0.0009817000245675445,0.000986900005955249,0.0009840999846346676,0.0009710000013001263,0.0009757999796420336,0.0009525999776087701,0.0009846999892033637,0.0009733999613672495,0.0009976000292226672,0.0009837999823503196,0.0010923999943770468,0.0010176000068895519,0.0010104000102728605,0.0010196000221185386,0.0010002999915741384,0.0010270000202581286,0.0010311999940313399,0.0010230999905616045,0.0010112000163644552,0.0010079999919980764,0.0010094000026583672,0.0010245000012218952,0.0010246000019833446,0.0010297999833710492,0.001032400003168732,0.0012125000357627869,0.0010423999628983438,0.0010322000016458333,0.0010546999983489513,0.0010504999663680792,0.0010531000443734229,0.0010520999785512686,0.0010370999807491899,0.0011008000001311302,0.0010682999854907393,0.0010497999610379338,0.001046899997163564,0.0010533000458963215,0.0010480000055395067,0.0010541000519879162,0.0010383999906480312,0.0010590000310912728,0.0010538999922573566,0.0010460999910719693,0.0010384999914094806,0.001042200019583106,0.0010402000043541193,0.001048400008585304,0.0010562000097706914,0.0010470999986864626,0.0010508000268600881,0.0010713000083342195],\"yaxis\":\"y2\",\"type\":\"scatter\"},{\"hovertemplate\":\"Algoritmo di ordinamento=counting_sort<br>Tipo di input=reversed<br>Dimensione array=%{x}<br>Time (s)=%{y}<extra></extra>\",\"legendgroup\":\"counting_sort\",\"line\":{\"color\":\"#EF553B\",\"dash\":\"solid\"},\"marker\":{\"symbol\":\"circle\"},\"mode\":\"lines\",\"name\":\"counting_sort\",\"orientation\":\"v\",\"showlegend\":false,\"x\":[10,20,30,40,50,60,70,80,90,100,110,120,130,140,150,160,170,180,190,200,210,220,230,240,250,260,270,280,290,300,310,320,330,340,350,360,370,380,390,400,410,420,430,440,450,460,470,480,490,500,510,520,530,540,550,560,570,580,590,600,610,620,630,640,650,660,670,680,690,700,710,720,730,740,750,760,770,780,790,800,810,820,830,840,850,860,870,880,890,900,910,920,930,940,950,960,970,980,990],\"xaxis\":\"x3\",\"y\":[0.0008906999719329178,0.0008578000124543905,0.0008403999963775277,0.0008410000009462237,0.0008586999610997736,0.0008622999885119498,0.0008438000222668052,0.0008340000058524311,0.0008704999927431345,0.0008637999999336898,0.0008670000243000686,0.0008818000205792487,0.0008649000083096325,0.0008715000003576279,0.0008735000155866146,0.0008746000239625573,0.0008759000338613987,0.0008710999973118305,0.0009537000441923738,0.0009063000325113535,0.0008985000313259661,0.0009064000332728028,0.000901099992915988,0.0008973000221885741,0.000910000002477318,0.0009177000029012561,0.0009151000413112342,0.0009115000138990581,0.0009184999507851899,0.0009174000006169081,0.0009277000208385289,0.0009243999957107008,0.0009451999794691801,0.00093629996990785,0.0010630000033415854,0.001007599988952279,0.000952600035816431,0.000958800024818629,0.0009627000545151532,0.0009898000280372798,0.0009648000122979283,0.000979500007815659,0.000963500002399087,0.0009700999944470823,0.0009624999947845936,0.0009729999583214521,0.0009756999788805842,0.0009696999914012849,0.000991299981251359,0.0009785000002011657,0.0010725999600254,0.0009988999809138477,0.0010091000003740191,0.0010003000497817993,0.001012300024740398,0.0010183000122196972,0.0010003999923355877,0.0009957000147551298,0.0010028000106103718,0.0010068999836221337,0.0010149999870918691,0.0010167000000365078,0.0010074999881908298,0.0010309999925084412,0.0010135999764315784,0.0011681999894790351,0.0010375999845564365,0.0010366999777033925,0.001033000007737428,0.0010312999947927892,0.0010546999983489513,0.0010489999549463391,0.0010469999979250133,0.001046599994879216,0.0010429000249132514,0.001034500019159168,0.0010469000553712249,0.0010611999896354973,0.0010457999887876213,0.0011113000218756497,0.0010597999789752066,0.0010646000155247748,0.0010568000143393874,0.0010648999596014619,0.0010819000308401883,0.001067899982444942,0.001061999995727092,0.0010585000272840261,0.001060199982021004,0.001062900002580136,0.0010765999904833734,0.0010775999980978668,0.0010686999885365367,0.001157800026703626,0.0011035999632440507,0.001084199990145862,0.0010846999939531088,0.0011023000115528703,0.0010851999977603555],\"yaxis\":\"y3\",\"type\":\"scatter\"}],                        {\"template\":{\"data\":{\"histogram2dcontour\":[{\"type\":\"histogram2dcontour\",\"colorbar\":{\"outlinewidth\":0,\"ticks\":\"\"},\"colorscale\":[[0.0,\"#0d0887\"],[0.1111111111111111,\"#46039f\"],[0.2222222222222222,\"#7201a8\"],[0.3333333333333333,\"#9c179e\"],[0.4444444444444444,\"#bd3786\"],[0.5555555555555556,\"#d8576b\"],[0.6666666666666666,\"#ed7953\"],[0.7777777777777778,\"#fb9f3a\"],[0.8888888888888888,\"#fdca26\"],[1.0,\"#f0f921\"]]}],\"choropleth\":[{\"type\":\"choropleth\",\"colorbar\":{\"outlinewidth\":0,\"ticks\":\"\"}}],\"histogram2d\":[{\"type\":\"histogram2d\",\"colorbar\":{\"outlinewidth\":0,\"ticks\":\"\"},\"colorscale\":[[0.0,\"#0d0887\"],[0.1111111111111111,\"#46039f\"],[0.2222222222222222,\"#7201a8\"],[0.3333333333333333,\"#9c179e\"],[0.4444444444444444,\"#bd3786\"],[0.5555555555555556,\"#d8576b\"],[0.6666666666666666,\"#ed7953\"],[0.7777777777777778,\"#fb9f3a\"],[0.8888888888888888,\"#fdca26\"],[1.0,\"#f0f921\"]]}],\"heatmap\":[{\"type\":\"heatmap\",\"colorbar\":{\"outlinewidth\":0,\"ticks\":\"\"},\"colorscale\":[[0.0,\"#0d0887\"],[0.1111111111111111,\"#46039f\"],[0.2222222222222222,\"#7201a8\"],[0.3333333333333333,\"#9c179e\"],[0.4444444444444444,\"#bd3786\"],[0.5555555555555556,\"#d8576b\"],[0.6666666666666666,\"#ed7953\"],[0.7777777777777778,\"#fb9f3a\"],[0.8888888888888888,\"#fdca26\"],[1.0,\"#f0f921\"]]}],\"heatmapgl\":[{\"type\":\"heatmapgl\",\"colorbar\":{\"outlinewidth\":0,\"ticks\":\"\"},\"colorscale\":[[0.0,\"#0d0887\"],[0.1111111111111111,\"#46039f\"],[0.2222222222222222,\"#7201a8\"],[0.3333333333333333,\"#9c179e\"],[0.4444444444444444,\"#bd3786\"],[0.5555555555555556,\"#d8576b\"],[0.6666666666666666,\"#ed7953\"],[0.7777777777777778,\"#fb9f3a\"],[0.8888888888888888,\"#fdca26\"],[1.0,\"#f0f921\"]]}],\"contourcarpet\":[{\"type\":\"contourcarpet\",\"colorbar\":{\"outlinewidth\":0,\"ticks\":\"\"}}],\"contour\":[{\"type\":\"contour\",\"colorbar\":{\"outlinewidth\":0,\"ticks\":\"\"},\"colorscale\":[[0.0,\"#0d0887\"],[0.1111111111111111,\"#46039f\"],[0.2222222222222222,\"#7201a8\"],[0.3333333333333333,\"#9c179e\"],[0.4444444444444444,\"#bd3786\"],[0.5555555555555556,\"#d8576b\"],[0.6666666666666666,\"#ed7953\"],[0.7777777777777778,\"#fb9f3a\"],[0.8888888888888888,\"#fdca26\"],[1.0,\"#f0f921\"]]}],\"surface\":[{\"type\":\"surface\",\"colorbar\":{\"outlinewidth\":0,\"ticks\":\"\"},\"colorscale\":[[0.0,\"#0d0887\"],[0.1111111111111111,\"#46039f\"],[0.2222222222222222,\"#7201a8\"],[0.3333333333333333,\"#9c179e\"],[0.4444444444444444,\"#bd3786\"],[0.5555555555555556,\"#d8576b\"],[0.6666666666666666,\"#ed7953\"],[0.7777777777777778,\"#fb9f3a\"],[0.8888888888888888,\"#fdca26\"],[1.0,\"#f0f921\"]]}],\"mesh3d\":[{\"type\":\"mesh3d\",\"colorbar\":{\"outlinewidth\":0,\"ticks\":\"\"}}],\"scatter\":[{\"marker\":{\"line\":{\"color\":\"#283442\"}},\"type\":\"scatter\"}],\"parcoords\":[{\"type\":\"parcoords\",\"line\":{\"colorbar\":{\"outlinewidth\":0,\"ticks\":\"\"}}}],\"scatterpolargl\":[{\"type\":\"scatterpolargl\",\"marker\":{\"colorbar\":{\"outlinewidth\":0,\"ticks\":\"\"}}}],\"bar\":[{\"error_x\":{\"color\":\"#f2f5fa\"},\"error_y\":{\"color\":\"#f2f5fa\"},\"marker\":{\"line\":{\"color\":\"rgb(17,17,17)\",\"width\":0.5},\"pattern\":{\"fillmode\":\"overlay\",\"size\":10,\"solidity\":0.2}},\"type\":\"bar\"}],\"scattergeo\":[{\"type\":\"scattergeo\",\"marker\":{\"colorbar\":{\"outlinewidth\":0,\"ticks\":\"\"}}}],\"scatterpolar\":[{\"type\":\"scatterpolar\",\"marker\":{\"colorbar\":{\"outlinewidth\":0,\"ticks\":\"\"}}}],\"histogram\":[{\"marker\":{\"pattern\":{\"fillmode\":\"overlay\",\"size\":10,\"solidity\":0.2}},\"type\":\"histogram\"}],\"scattergl\":[{\"marker\":{\"line\":{\"color\":\"#283442\"}},\"type\":\"scattergl\"}],\"scatter3d\":[{\"type\":\"scatter3d\",\"line\":{\"colorbar\":{\"outlinewidth\":0,\"ticks\":\"\"}},\"marker\":{\"colorbar\":{\"outlinewidth\":0,\"ticks\":\"\"}}}],\"scattermapbox\":[{\"type\":\"scattermapbox\",\"marker\":{\"colorbar\":{\"outlinewidth\":0,\"ticks\":\"\"}}}],\"scatterternary\":[{\"type\":\"scatterternary\",\"marker\":{\"colorbar\":{\"outlinewidth\":0,\"ticks\":\"\"}}}],\"scattercarpet\":[{\"type\":\"scattercarpet\",\"marker\":{\"colorbar\":{\"outlinewidth\":0,\"ticks\":\"\"}}}],\"carpet\":[{\"aaxis\":{\"endlinecolor\":\"#A2B1C6\",\"gridcolor\":\"#506784\",\"linecolor\":\"#506784\",\"minorgridcolor\":\"#506784\",\"startlinecolor\":\"#A2B1C6\"},\"baxis\":{\"endlinecolor\":\"#A2B1C6\",\"gridcolor\":\"#506784\",\"linecolor\":\"#506784\",\"minorgridcolor\":\"#506784\",\"startlinecolor\":\"#A2B1C6\"},\"type\":\"carpet\"}],\"table\":[{\"cells\":{\"fill\":{\"color\":\"#506784\"},\"line\":{\"color\":\"rgb(17,17,17)\"}},\"header\":{\"fill\":{\"color\":\"#2a3f5f\"},\"line\":{\"color\":\"rgb(17,17,17)\"}},\"type\":\"table\"}],\"barpolar\":[{\"marker\":{\"line\":{\"color\":\"rgb(17,17,17)\",\"width\":0.5},\"pattern\":{\"fillmode\":\"overlay\",\"size\":10,\"solidity\":0.2}},\"type\":\"barpolar\"}],\"pie\":[{\"automargin\":true,\"type\":\"pie\"}]},\"layout\":{\"autotypenumbers\":\"strict\",\"colorway\":[\"#636efa\",\"#EF553B\",\"#00cc96\",\"#ab63fa\",\"#FFA15A\",\"#19d3f3\",\"#FF6692\",\"#B6E880\",\"#FF97FF\",\"#FECB52\"],\"font\":{\"color\":\"#f2f5fa\"},\"hovermode\":\"closest\",\"hoverlabel\":{\"align\":\"left\"},\"paper_bgcolor\":\"rgb(17,17,17)\",\"plot_bgcolor\":\"rgb(17,17,17)\",\"polar\":{\"bgcolor\":\"rgb(17,17,17)\",\"angularaxis\":{\"gridcolor\":\"#506784\",\"linecolor\":\"#506784\",\"ticks\":\"\"},\"radialaxis\":{\"gridcolor\":\"#506784\",\"linecolor\":\"#506784\",\"ticks\":\"\"}},\"ternary\":{\"bgcolor\":\"rgb(17,17,17)\",\"aaxis\":{\"gridcolor\":\"#506784\",\"linecolor\":\"#506784\",\"ticks\":\"\"},\"baxis\":{\"gridcolor\":\"#506784\",\"linecolor\":\"#506784\",\"ticks\":\"\"},\"caxis\":{\"gridcolor\":\"#506784\",\"linecolor\":\"#506784\",\"ticks\":\"\"}},\"coloraxis\":{\"colorbar\":{\"outlinewidth\":0,\"ticks\":\"\"}},\"colorscale\":{\"sequential\":[[0.0,\"#0d0887\"],[0.1111111111111111,\"#46039f\"],[0.2222222222222222,\"#7201a8\"],[0.3333333333333333,\"#9c179e\"],[0.4444444444444444,\"#bd3786\"],[0.5555555555555556,\"#d8576b\"],[0.6666666666666666,\"#ed7953\"],[0.7777777777777778,\"#fb9f3a\"],[0.8888888888888888,\"#fdca26\"],[1.0,\"#f0f921\"]],\"sequentialminus\":[[0.0,\"#0d0887\"],[0.1111111111111111,\"#46039f\"],[0.2222222222222222,\"#7201a8\"],[0.3333333333333333,\"#9c179e\"],[0.4444444444444444,\"#bd3786\"],[0.5555555555555556,\"#d8576b\"],[0.6666666666666666,\"#ed7953\"],[0.7777777777777778,\"#fb9f3a\"],[0.8888888888888888,\"#fdca26\"],[1.0,\"#f0f921\"]],\"diverging\":[[0,\"#8e0152\"],[0.1,\"#c51b7d\"],[0.2,\"#de77ae\"],[0.3,\"#f1b6da\"],[0.4,\"#fde0ef\"],[0.5,\"#f7f7f7\"],[0.6,\"#e6f5d0\"],[0.7,\"#b8e186\"],[0.8,\"#7fbc41\"],[0.9,\"#4d9221\"],[1,\"#276419\"]]},\"xaxis\":{\"gridcolor\":\"#283442\",\"linecolor\":\"#506784\",\"ticks\":\"\",\"title\":{\"standoff\":15},\"zerolinecolor\":\"#283442\",\"automargin\":true,\"zerolinewidth\":2},\"yaxis\":{\"gridcolor\":\"#283442\",\"linecolor\":\"#506784\",\"ticks\":\"\",\"title\":{\"standoff\":15},\"zerolinecolor\":\"#283442\",\"automargin\":true,\"zerolinewidth\":2},\"scene\":{\"xaxis\":{\"backgroundcolor\":\"rgb(17,17,17)\",\"gridcolor\":\"#506784\",\"linecolor\":\"#506784\",\"showbackground\":true,\"ticks\":\"\",\"zerolinecolor\":\"#C8D4E3\",\"gridwidth\":2},\"yaxis\":{\"backgroundcolor\":\"rgb(17,17,17)\",\"gridcolor\":\"#506784\",\"linecolor\":\"#506784\",\"showbackground\":true,\"ticks\":\"\",\"zerolinecolor\":\"#C8D4E3\",\"gridwidth\":2},\"zaxis\":{\"backgroundcolor\":\"rgb(17,17,17)\",\"gridcolor\":\"#506784\",\"linecolor\":\"#506784\",\"showbackground\":true,\"ticks\":\"\",\"zerolinecolor\":\"#C8D4E3\",\"gridwidth\":2}},\"shapedefaults\":{\"line\":{\"color\":\"#f2f5fa\"}},\"annotationdefaults\":{\"arrowcolor\":\"#f2f5fa\",\"arrowhead\":0,\"arrowwidth\":1},\"geo\":{\"bgcolor\":\"rgb(17,17,17)\",\"landcolor\":\"rgb(17,17,17)\",\"subunitcolor\":\"#506784\",\"showland\":true,\"showlakes\":true,\"lakecolor\":\"rgb(17,17,17)\"},\"title\":{\"x\":0.05},\"updatemenudefaults\":{\"bgcolor\":\"#506784\",\"borderwidth\":0},\"sliderdefaults\":{\"bgcolor\":\"#C8D4E3\",\"borderwidth\":1,\"bordercolor\":\"rgb(17,17,17)\",\"tickwidth\":0},\"mapbox\":{\"style\":\"dark\"}}},\"xaxis\":{\"anchor\":\"y\",\"domain\":[0.0,0.31999999999999995],\"title\":{\"text\":\"Dimensione array\"}},\"yaxis\":{\"anchor\":\"x\",\"domain\":[0.0,1.0],\"title\":{\"text\":\"Time (s)\"}},\"xaxis2\":{\"anchor\":\"y2\",\"domain\":[0.33999999999999997,0.6599999999999999],\"matches\":\"x\",\"title\":{\"text\":\"Dimensione array\"}},\"yaxis2\":{\"anchor\":\"x2\",\"domain\":[0.0,1.0],\"matches\":\"y\",\"showticklabels\":false},\"xaxis3\":{\"anchor\":\"y3\",\"domain\":[0.6799999999999999,0.9999999999999999],\"matches\":\"x\",\"title\":{\"text\":\"Dimensione array\"}},\"yaxis3\":{\"anchor\":\"x3\",\"domain\":[0.0,1.0],\"matches\":\"y\",\"showticklabels\":false},\"annotations\":[{\"font\":{},\"showarrow\":false,\"text\":\"Tipo di input=random\",\"x\":0.15999999999999998,\"xanchor\":\"center\",\"xref\":\"paper\",\"y\":1.0,\"yanchor\":\"bottom\",\"yref\":\"paper\"},{\"font\":{},\"showarrow\":false,\"text\":\"Tipo di input=sorted\",\"x\":0.49999999999999994,\"xanchor\":\"center\",\"xref\":\"paper\",\"y\":1.0,\"yanchor\":\"bottom\",\"yref\":\"paper\"},{\"font\":{},\"showarrow\":false,\"text\":\"Tipo di input=reversed\",\"x\":0.8399999999999999,\"xanchor\":\"center\",\"xref\":\"paper\",\"y\":1.0,\"yanchor\":\"bottom\",\"yref\":\"paper\"}],\"legend\":{\"title\":{\"text\":\"Algoritmo di ordinamento\"},\"tracegroupgap\":0},\"title\":{\"text\":\"Sorting algorithms\"}},                        {\"responsive\": true}                    ).then(function(){\n                            \nvar gd = document.getElementById('6658867e-6524-4ecb-ba6f-f84114824b5b');\nvar x = new MutationObserver(function (mutations, observer) {{\n        var display = window.getComputedStyle(gd).display;\n        if (!display || display === 'none') {{\n            console.log([gd, 'removed!']);\n            Plotly.purge(gd);\n            observer.disconnect();\n        }}\n}});\n\n// Listen for the removal of the full notebook cells\nvar notebookContainer = gd.closest('#notebook-container');\nif (notebookContainer) {{\n    x.observe(notebookContainer, {childList: true});\n}}\n\n// Listen for the clearing of the current output cell\nvar outputEl = gd.closest('.output');\nif (outputEl) {{\n    x.observe(outputEl, {childList: true});\n}}\n\n                        })                };                });            </script>        </div>"
     },
     "metadata": {},
     "output_type": "display_data"
    }
   ],
   "source": [
    "figure = px.line(df.query(\"num_samples > 0\"),\n",
    "                 x=\"num_samples\",\n",
    "                 y=\"time\",\n",
    "                 color=\"test_type\",\n",
    "                 facet_col=\"input_type\",\n",
    "                 title=\"Sorting algorithms\",\n",
    "                 labels={\"num_samples\": \"Dimensione array\", \"time\": \"Time (s)\", \"test_type\": \"Algoritmo di ordinamento\", \"input_type\": \"Tipo di input\"})\n",
    "figure.show()"
   ],
   "metadata": {
    "collapsed": false
   }
  },
  {
   "cell_type": "markdown",
   "source": [
    "Notiamo che in questo caso è molto più evidente il fatto che la complessità computazionale dell' _insertion sort_ è _O(n^2)_, in quanto il tempo impiegato per ordinare l'array cresce in modo quadratico. Nel caso del _counting sort_, invece, notiamo che l'andamento del tempo impiegato per ordinare l'array è lineare (deselezionando _insetion_sort_ nel menù a destra), in quanto l'array viene ordinato in tempo _O(n+k)_, senza alcuna operazione di confronto tra elementi. Notiamo che in questo caso il costo computazionale del _counting sort_ è particolarmente basso (almeno dalla dimensione dell'array uguale a 130 in poi), in quanto legato al range di generazione dei numeri, che non è ancora relativamente grande rispetto alla dimensione dell'array (da 0 a 10000). L'aumento del costo computazionale sarà ancora più visibile nel caso di array di grandi dimensioni ma anche nei casi con range di generazione dei numeri più grandi."
   ],
   "metadata": {
    "collapsed": false
   }
  },
  {
   "cell_type": "markdown",
   "source": [
    "#### Array di dimensione 1000 con range da 0 a 100000"
   ],
   "metadata": {
    "collapsed": false
   }
  },
  {
   "cell_type": "code",
   "execution_count": 219,
   "outputs": [],
   "source": [
    "df = plot_results(1000, 10, (0, 100000))"
   ],
   "metadata": {
    "collapsed": false
   }
  },
  {
   "cell_type": "code",
   "execution_count": 220,
   "outputs": [
    {
     "data": {
      "application/vnd.plotly.v1+json": {
       "data": [
        {
         "hovertemplate": "Algoritmo di ordinamento=insertion_sort<br>Tipo di input=random<br>Dimensione array=%{x}<br>Time (s)=%{y}<extra></extra>",
         "legendgroup": "insertion_sort",
         "line": {
          "color": "#636efa",
          "dash": "solid"
         },
         "marker": {
          "symbol": "circle"
         },
         "mode": "lines",
         "name": "insertion_sort",
         "orientation": "v",
         "showlegend": true,
         "x": [
          10,
          20,
          30,
          40,
          50,
          60,
          70,
          80,
          90,
          100,
          110,
          120,
          130,
          140,
          150,
          160,
          170,
          180,
          190,
          200,
          210,
          220,
          230,
          240,
          250,
          260,
          270,
          280,
          290,
          300,
          310,
          320,
          330,
          340,
          350,
          360,
          370,
          380,
          390,
          400,
          410,
          420,
          430,
          440,
          450,
          460,
          470,
          480,
          490,
          500,
          510,
          520,
          530,
          540,
          550,
          560,
          570,
          580,
          590,
          600,
          610,
          620,
          630,
          640,
          650,
          660,
          670,
          680,
          690,
          700,
          710,
          720,
          730,
          740,
          750,
          760,
          770,
          780,
          790,
          800,
          810,
          820,
          830,
          840,
          850,
          860,
          870,
          880,
          890,
          900,
          910,
          920,
          930,
          940,
          950,
          960,
          970,
          980,
          990
         ],
         "xaxis": "x",
         "y": [
          5.89998671784997E-6,
          1.3200042303651571E-5,
          2.9799994081258774E-5,
          4.700000863522291E-5,
          7.680000271648169E-5,
          9.99000039882958E-5,
          1.3800000306218863E-4,
          1.6190001042559743E-4,
          1.9320001592859626E-4,
          2.549000200815499E-4,
          3.0770001467317343E-4,
          3.6800000816583633E-4,
          4.2729999404400587E-4,
          5.310999695211649E-4,
          5.879999953322113E-4,
          6.186999962665141E-4,
          6.939999875612557E-4,
          7.758999709039927E-4,
          8.495000074617565E-4,
          9.522999753244221E-4,
          0.001121699984651059,
          0.001222899998538196,
          0.001267499988898635,
          0.0017745000077411532,
          0.0016078000189736485,
          0.001812300004530698,
          0.001879099989309907,
          0.002019000006839633,
          0.0022152999881654978,
          0.0021161999902687967,
          0.0026095000212080777,
          0.003143700014334172,
          0.002771100029349327,
          0.0028718000394292176,
          0.0032552999909967184,
          0.0034499000175856054,
          0.0036622000043280423,
          0.0037680999957956374,
          0.004073400050401688,
          0.004564600007142872,
          0.004516999993938953,
          0.004681399965193123,
          0.00473209994379431,
          0.004993300011847168,
          0.005304299993440509,
          0.005810700007714331,
          0.005707400036044419,
          0.005894400004763156,
          0.006403200037311763,
          0.007158100022934377,
          0.007181900029536337,
          0.007140599947888404,
          0.00782450003316626,
          0.007802699983585626,
          0.00831920001655817,
          0.00819329998921603,
          0.008728699991479516,
          0.009210799995344132,
          0.009636999981012195,
          0.00919340003747493,
          0.010148800036404282,
          0.00992690003477037,
          0.010550800012424588,
          0.011108600010629743,
          0.011599099962040782,
          0.012319699977524579,
          0.012327699980232865,
          0.013361299992538989,
          0.013289299968164414,
          0.013029100024141371,
          0.01467390003381297,
          0.014963499968871474,
          0.015026100038085133,
          0.01582789997337386,
          0.015145799960009754,
          0.01572299998952076,
          0.016899700043722987,
          0.016592000029049814,
          0.017414400004781783,
          0.019211000006180257,
          0.01747720001731068,
          0.02102399995783344,
          0.0209620000096038,
          0.019596799975261092,
          0.01960599998710677,
          0.021305000002030283,
          0.02100770000834018,
          0.02223760000197217,
          0.02235879999352619,
          0.021921200037468225,
          0.022580199991352856,
          0.023187600017990917,
          0.02256319997832179,
          0.022901699994690716,
          0.023926099995151162,
          0.024400099995546043,
          0.02496479998808354,
          0.025037199957296252,
          0.02599200000986457
         ],
         "yaxis": "y",
         "type": "scatter"
        },
        {
         "hovertemplate": "Algoritmo di ordinamento=insertion_sort<br>Tipo di input=sorted<br>Dimensione array=%{x}<br>Time (s)=%{y}<extra></extra>",
         "legendgroup": "insertion_sort",
         "line": {
          "color": "#636efa",
          "dash": "solid"
         },
         "marker": {
          "symbol": "circle"
         },
         "mode": "lines",
         "name": "insertion_sort",
         "orientation": "v",
         "showlegend": false,
         "x": [
          10,
          20,
          30,
          40,
          50,
          60,
          70,
          80,
          90,
          100,
          110,
          120,
          130,
          140,
          150,
          160,
          170,
          180,
          190,
          200,
          210,
          220,
          230,
          240,
          250,
          260,
          270,
          280,
          290,
          300,
          310,
          320,
          330,
          340,
          350,
          360,
          370,
          380,
          390,
          400,
          410,
          420,
          430,
          440,
          450,
          460,
          470,
          480,
          490,
          500,
          510,
          520,
          530,
          540,
          550,
          560,
          570,
          580,
          590,
          600,
          610,
          620,
          630,
          640,
          650,
          660,
          670,
          680,
          690,
          700,
          710,
          720,
          730,
          740,
          750,
          760,
          770,
          780,
          790,
          800,
          810,
          820,
          830,
          840,
          850,
          860,
          870,
          880,
          890,
          900,
          910,
          920,
          930,
          940,
          950,
          960,
          970,
          980,
          990
         ],
         "xaxis": "x2",
         "y": [
          2.400018274784088E-6,
          3.00002284348011E-6,
          3.999972250312567E-6,
          5.100038833916187E-6,
          6.199989002197981E-6,
          7.299997378140688E-6,
          8.400005754083395E-6,
          9.600014891475439E-6,
          1.0599964298307896E-5,
          1.1800031643360853E-5,
          1.2899981811642647E-5,
          1.3999990187585354E-5,
          1.5099998563528061E-5,
          1.629994949325919E-5,
          1.7300015315413475E-5,
          1.8600025214254856E-5,
          1.9499973859637976E-5,
          2.0799983758479357E-5,
          2.180004958063364E-5,
          2.300000051036477E-5,
          2.400000812485814E-5,
          2.519995905458927E-5,
          2.629996743053198E-5,
          2.7500034775584936E-5,
          2.859998494386673E-5,
          3.0399998649954796E-5,
          3.170000854879618E-5,
          3.300001844763756E-5,
          3.409996861591935E-5,
          3.520003519952297E-5,
          3.69000481441617E-5,
          3.850000211969018E-5,
          3.9300008211284876E-5,
          4.0499959141016006E-5,
          4.229997284710407E-5,
          4.3899985030293465E-5,
          4.420004552230239E-5,
          4.539999645203352E-5,
          4.769995575770736E-5,
          4.919996717944741E-5,
          4.970002919435501E-5,
          5.0799979362636805E-5,
          5.289999535307288E-5,
          5.460000829771161E-5,
          5.479995161294937E-5,
          5.6100019719451666E-5,
          5.819997750222683E-5,
          6.019999273121357E-5,
          5.9999991208314896E-5,
          6.130000110715628E-5,
          6.349995965138078E-5,
          6.400002166628838E-5,
          6.530003156512976E-5,
          6.669998401775956E-5,
          6.78999931551516E-5,
          6.930000381544232E-5,
          7.06000137142837E-5,
          7.190002361312509E-5,
          7.320003351196647E-5,
          7.449998520314693E-5,
          7.590005407109857E-5,
          7.720000576227903E-5,
          7.84999574534595E-5,
          7.989996811375022E-5,
          8.109997725114226E-5,
          8.249998791143298E-5,
          8.379999781027436E-5,
          8.520000847056508E-5,
          8.640001760795712E-5,
          8.790002902969718E-5,
          8.889997843652964E-5,
          9.029998909682035E-5,
          9.14999982342124E-5,
          9.270000737160444E-5,
          9.400001727044582E-5,
          9.540002793073654E-5,
          1.2209999840706587E-4,
          9.819999104365706E-5,
          9.929999941959977E-5,
          1.0070001007989049E-4,
          1.0189996100962162E-4,
          1.0340003063902259E-4,
          1.0459998156875372E-4,
          1.2069998774677515E-4,
          1.086000120267272E-4,
          1.113000325858593E-4,
          1.1120003182440996E-4,
          1.1249998351559043E-4,
          1.1929997708648443E-4,
          1.1519994586706161E-4,
          1.1650001397356391E-4,
          1.1779996566474438E-4,
          1.1960003757849336E-4,
          1.2119999155402184E-4,
          1.2240000069141388E-4,
          1.2379995314404368E-4,
          1.2520002201199532E-4,
          1.256999676115811E-4,
          1.25700025819242E-4
         ],
         "yaxis": "y2",
         "type": "scatter"
        },
        {
         "hovertemplate": "Algoritmo di ordinamento=insertion_sort<br>Tipo di input=reversed<br>Dimensione array=%{x}<br>Time (s)=%{y}<extra></extra>",
         "legendgroup": "insertion_sort",
         "line": {
          "color": "#636efa",
          "dash": "solid"
         },
         "marker": {
          "symbol": "circle"
         },
         "mode": "lines",
         "name": "insertion_sort",
         "orientation": "v",
         "showlegend": false,
         "x": [
          10,
          20,
          30,
          40,
          50,
          60,
          70,
          80,
          90,
          100,
          110,
          120,
          130,
          140,
          150,
          160,
          170,
          180,
          190,
          200,
          210,
          220,
          230,
          240,
          250,
          260,
          270,
          280,
          290,
          300,
          310,
          320,
          330,
          340,
          350,
          360,
          370,
          380,
          390,
          400,
          410,
          420,
          430,
          440,
          450,
          460,
          470,
          480,
          490,
          500,
          510,
          520,
          530,
          540,
          550,
          560,
          570,
          580,
          590,
          600,
          610,
          620,
          630,
          640,
          650,
          660,
          670,
          680,
          690,
          700,
          710,
          720,
          730,
          740,
          750,
          760,
          770,
          780,
          790,
          800,
          810,
          820,
          830,
          840,
          850,
          860,
          870,
          880,
          890,
          900,
          910,
          920,
          930,
          940,
          950,
          960,
          970,
          980,
          990
         ],
         "xaxis": "x3",
         "y": [
          7.099995855242014E-6,
          2.2199994418770075E-5,
          4.7600013203918934E-5,
          8.329999400302768E-5,
          1.2939999578520656E-4,
          1.8499995348975062E-4,
          2.511999919079244E-4,
          3.271999885328114E-4,
          4.1360000614076853E-4,
          5.091000348329544E-4,
          6.157999741844833E-4,
          7.353000110015273E-4,
          8.669999660924077E-4,
          9.953000117093325E-4,
          0.0011414000182412565,
          0.001298599992878735,
          0.0014652000390924513,
          0.001665599993430078,
          0.0018948999932035804,
          0.0020373999723233283,
          0.002244699979200959,
          0.002475299988873303,
          0.0026914000045508146,
          0.0029300000169314444,
          0.003183299966622144,
          0.0034023000043816864,
          0.0043617999763228,
          0.0039160000160336494,
          0.004216399975121021,
          0.004524199990555644,
          0.004942999978084117,
          0.005154400016181171,
          0.005464299989398569,
          0.005550300003960729,
          0.005883200035896152,
          0.006594999984372407,
          0.0066291000111959875,
          0.007035800023004413,
          0.0077883999911136925,
          0.0078100000391714275,
          0.008306799980346113,
          0.008594400016590953,
          0.009094900044146925,
          0.009531699994113296,
          0.00997259997529909,
          0.01048820000141859,
          0.012592400016728789,
          0.011581099999602884,
          0.012083500041626394,
          0.014063999988138676,
          0.013478999957442284,
          0.01412559999153018,
          0.014980300038587302,
          0.015493000042624772,
          0.01603239995893091,
          0.016767000022809952,
          0.017430200008675456,
          0.017713299952447414,
          0.01873499999055639,
          0.019508700002916157,
          0.019860600004903972,
          0.021034100034739822,
          0.0213899000082165,
          0.02207579999230802,
          0.02377659996272996,
          0.02458729996578768,
          0.023504399985540658,
          0.0247471000184305,
          0.0255961999646388,
          0.026247299974784255,
          0.027101799962110817,
          0.026648400002159178,
          0.02727759996196255,
          0.028244600049220026,
          0.031131699972320348,
          0.030948799976613373,
          0.031114500015974045,
          0.033276100002694875,
          0.03418940003030002,
          0.03525479999370873,
          0.03477580001344904,
          0.03656179999234155,
          0.03842290001921356,
          0.038543300004675984,
          0.03940160002093762,
          0.04001939995214343,
          0.04089329997077584,
          0.04199340002378449,
          0.04304630000842735,
          0.04381659999489784,
          0.04483949998393655,
          0.046769000007770956,
          0.04803090001223609,
          0.04883699998026714,
          0.04973859997699037,
          0.05088880000403151,
          0.05201019998639822,
          0.05297029996290803,
          0.053157699992880225
         ],
         "yaxis": "y3",
         "type": "scatter"
        },
        {
         "hovertemplate": "Algoritmo di ordinamento=counting_sort<br>Tipo di input=random<br>Dimensione array=%{x}<br>Time (s)=%{y}<extra></extra>",
         "legendgroup": "counting_sort",
         "line": {
          "color": "#EF553B",
          "dash": "solid"
         },
         "marker": {
          "symbol": "circle"
         },
         "mode": "lines",
         "name": "counting_sort",
         "orientation": "v",
         "showlegend": true,
         "x": [
          10,
          20,
          30,
          40,
          50,
          60,
          70,
          80,
          90,
          100,
          110,
          120,
          130,
          140,
          150,
          160,
          170,
          180,
          190,
          200,
          210,
          220,
          230,
          240,
          250,
          260,
          270,
          280,
          290,
          300,
          310,
          320,
          330,
          340,
          350,
          360,
          370,
          380,
          390,
          400,
          410,
          420,
          430,
          440,
          450,
          460,
          470,
          480,
          490,
          500,
          510,
          520,
          530,
          540,
          550,
          560,
          570,
          580,
          590,
          600,
          610,
          620,
          630,
          640,
          650,
          660,
          670,
          680,
          690,
          700,
          710,
          720,
          730,
          740,
          750,
          760,
          770,
          780,
          790,
          800,
          810,
          820,
          830,
          840,
          850,
          860,
          870,
          880,
          890,
          900,
          910,
          920,
          930,
          940,
          950,
          960,
          970,
          980,
          990
         ],
         "xaxis": "x",
         "y": [
          0.009004099993035197,
          0.008226800011470914,
          0.008742200036067516,
          0.008682999992743134,
          0.008673599979374558,
          0.00858879997394979,
          0.008629299991298467,
          0.008723099948838353,
          0.008400099992286414,
          0.008711100032087415,
          0.008600000001024455,
          0.008641900029033422,
          0.00857700000051409,
          0.008648300019558519,
          0.008656600024551153,
          0.008741699974052608,
          0.008529100043233484,
          0.008751199988182634,
          0.008725100022275,
          0.008819099981337786,
          0.008834300038870424,
          0.008778800023719668,
          0.008961999963503331,
          0.008838400011882186,
          0.008886400028131902,
          0.008976000011898577,
          0.008905599999707192,
          0.00890740001341328,
          0.009449999954085797,
          0.01459219999378547,
          0.010883299983106554,
          0.011925600003451109,
          0.009174500009976327,
          0.008893700025510043,
          0.010265099990647286,
          0.010919199965428561,
          0.009131899976637214,
          0.009762800007592887,
          0.009519100014586002,
          0.009118199988733977,
          0.009635900030843914,
          0.010163299972191453,
          0.009606200037524104,
          0.00912359997164458,
          0.010247800033539534,
          0.009944999997969717,
          0.009588199958670884,
          0.009789299976546317,
          0.009636000031605363,
          0.009454399987589568,
          0.00895650003803894,
          0.009581599966622889,
          0.010042799985967577,
          0.009666799975093454,
          0.01064079999923706,
          0.009928699990268797,
          0.009528699971269816,
          0.00938160001533106,
          0.009464800008572638,
          0.009459499968215823,
          0.009244400018360466,
          0.0091963000013493,
          0.009268800029531121,
          0.009336000017356128,
          0.009207699971739203,
          0.00935190002201125,
          0.009360000025480986,
          0.010797600029036403,
          0.00943060003919527,
          0.009761399996932596,
          0.009651299973484129,
          0.009532099997159094,
          0.009746700001414865,
          0.009635499969590455,
          0.00992219999898225,
          0.010226999991573393,
          0.010214000009000301,
          0.009877200005576015,
          0.010420600010547787,
          0.010102100030053407,
          0.010021199996117502,
          0.009570499998517334,
          0.009878100012429059,
          0.010650700016412884,
          0.010424099978990853,
          0.010321900015696883,
          0.010057299979962409,
          0.009722899994812906,
          0.010245899960864335,
          0.010641900007613003,
          0.011966599966399372,
          0.010579199995845556,
          0.010031299956608564,
          0.00985119998222217,
          0.010047800024040043,
          0.010077500017359853,
          0.01017999998293817,
          0.010499700030777603,
          0.010038900014478713
         ],
         "yaxis": "y",
         "type": "scatter"
        },
        {
         "hovertemplate": "Algoritmo di ordinamento=counting_sort<br>Tipo di input=sorted<br>Dimensione array=%{x}<br>Time (s)=%{y}<extra></extra>",
         "legendgroup": "counting_sort",
         "line": {
          "color": "#EF553B",
          "dash": "solid"
         },
         "marker": {
          "symbol": "circle"
         },
         "mode": "lines",
         "name": "counting_sort",
         "orientation": "v",
         "showlegend": false,
         "x": [
          10,
          20,
          30,
          40,
          50,
          60,
          70,
          80,
          90,
          100,
          110,
          120,
          130,
          140,
          150,
          160,
          170,
          180,
          190,
          200,
          210,
          220,
          230,
          240,
          250,
          260,
          270,
          280,
          290,
          300,
          310,
          320,
          330,
          340,
          350,
          360,
          370,
          380,
          390,
          400,
          410,
          420,
          430,
          440,
          450,
          460,
          470,
          480,
          490,
          500,
          510,
          520,
          530,
          540,
          550,
          560,
          570,
          580,
          590,
          600,
          610,
          620,
          630,
          640,
          650,
          660,
          670,
          680,
          690,
          700,
          710,
          720,
          730,
          740,
          750,
          760,
          770,
          780,
          790,
          800,
          810,
          820,
          830,
          840,
          850,
          860,
          870,
          880,
          890,
          900,
          910,
          920,
          930,
          940,
          950,
          960,
          970,
          980,
          990
         ],
         "xaxis": "x2",
         "y": [
          0.007892300025559962,
          0.008449200016912073,
          0.008510699961334467,
          0.008483399986289442,
          0.008478000003378838,
          0.010112899995874614,
          0.0086066999938339,
          0.008395299955736846,
          0.008680299972184002,
          0.008705000043846667,
          0.0104496999992989,
          0.008769299951381981,
          0.00874890002887696,
          0.008622099994681776,
          0.008638400002382696,
          0.00855490000685677,
          0.008620900043752044,
          0.008513399981893599,
          0.00849999999627471,
          0.008588199969381094,
          0.008522599993739277,
          0.008895899984054267,
          0.00944970001000911,
          0.008670600014738739,
          0.008568699995521456,
          0.008702699968125671,
          0.008731900015845895,
          0.008896100043784827,
          0.008708500012289733,
          0.008965499990154058,
          0.008877600019332021,
          0.00908659998094663,
          0.008942299988120794,
          0.009217199985869229,
          0.009061699965968728,
          0.009078499977476895,
          0.009160600020550191,
          0.00911029998678714,
          0.009323200036305934,
          0.009180299995932728,
          0.009180900000501424,
          0.009345000027678907,
          0.00907480000751093,
          0.00947319995611906,
          0.009346799983177334,
          0.009471400000620633,
          0.009219800005666912,
          0.009136800013948232,
          0.009545500040985644,
          0.009096300054807216,
          0.00922000000718981,
          0.011106999998446554,
          0.009121000010054559,
          0.009464100003242493,
          0.009641299955546856,
          0.009456700005102903,
          0.009691399987787008,
          0.009496300015598536,
          0.00978159997612238,
          0.009769900003448129,
          0.009416299988515675,
          0.009875999996438622,
          0.009664800018072128,
          0.00972659996477887,
          0.00984959997003898,
          0.00964359997306019,
          0.009777400002349168,
          0.009714400046505034,
          0.00958289997652173,
          0.00971489999210462,
          0.010594499995931983,
          0.009697600034996867,
          0.00980669999262318,
          0.010019499983172864,
          0.009288600005675107,
          0.009680199960712343,
          0.009483099973294884,
          0.010600000037811697,
          0.009812100033741444,
          0.009513899974990636,
          0.00990750000346452,
          0.00972219998948276,
          0.009533200005535036,
          0.009677599999122322,
          0.009811499970965087,
          0.010355299978982657,
          0.00982139998814091,
          0.009652099979575723,
          0.009940399962943047,
          0.009613199974410236,
          0.009716600005049258,
          0.009854000003542751,
          0.009675499983131886,
          0.009678100002929568,
          0.009629499982111156,
          0.009578900004271418,
          0.009752400044817477,
          0.00958439998794347,
          0.009684299991931766
         ],
         "yaxis": "y2",
         "type": "scatter"
        },
        {
         "hovertemplate": "Algoritmo di ordinamento=counting_sort<br>Tipo di input=reversed<br>Dimensione array=%{x}<br>Time (s)=%{y}<extra></extra>",
         "legendgroup": "counting_sort",
         "line": {
          "color": "#EF553B",
          "dash": "solid"
         },
         "marker": {
          "symbol": "circle"
         },
         "mode": "lines",
         "name": "counting_sort",
         "orientation": "v",
         "showlegend": false,
         "x": [
          10,
          20,
          30,
          40,
          50,
          60,
          70,
          80,
          90,
          100,
          110,
          120,
          130,
          140,
          150,
          160,
          170,
          180,
          190,
          200,
          210,
          220,
          230,
          240,
          250,
          260,
          270,
          280,
          290,
          300,
          310,
          320,
          330,
          340,
          350,
          360,
          370,
          380,
          390,
          400,
          410,
          420,
          430,
          440,
          450,
          460,
          470,
          480,
          490,
          500,
          510,
          520,
          530,
          540,
          550,
          560,
          570,
          580,
          590,
          600,
          610,
          620,
          630,
          640,
          650,
          660,
          670,
          680,
          690,
          700,
          710,
          720,
          730,
          740,
          750,
          760,
          770,
          780,
          790,
          800,
          810,
          820,
          830,
          840,
          850,
          860,
          870,
          880,
          890,
          900,
          910,
          920,
          930,
          940,
          950,
          960,
          970,
          980,
          990
         ],
         "xaxis": "x3",
         "y": [
          0.007968599966261536,
          0.008296300016809255,
          0.0089043999905698,
          0.00859479996142909,
          0.009064199985004961,
          0.008878100023139268,
          0.008661700005177408,
          0.008983800013083965,
          0.008806400001049042,
          0.00877849996322766,
          0.008583399991039187,
          0.008505599980708212,
          0.008868100005201995,
          0.008697199984453619,
          0.008803499978967011,
          0.00884959998074919,
          0.008932699973229319,
          0.008853400009684265,
          0.008944499946665019,
          0.00886889995308593,
          0.009005400002934039,
          0.008815899956971407,
          0.008910499978810549,
          0.008850299986079335,
          0.008986700035165995,
          0.008900300017558038,
          0.009012900001835078,
          0.00914300000295043,
          0.00889559998176992,
          0.009284399973694235,
          0.009185600036289543,
          0.009147900040261447,
          0.009285000036470592,
          0.009142700000666082,
          0.009449200006201863,
          0.009229499963112175,
          0.009211800002958626,
          0.009144700015895069,
          0.009223700035363436,
          0.009397899964824319,
          0.009347599989268929,
          0.009312500013038516,
          0.009343900019302964,
          0.009271999995689839,
          0.009569199988618493,
          0.009485499991569668,
          0.009458900021854788,
          0.009544099972117692,
          0.009524499997496605,
          0.009189200005494058,
          0.0094124999595806,
          0.009629899985156953,
          0.01022449997253716,
          0.010370500036515296,
          0.010683000029530376,
          0.009905499988235533,
          0.009797499980777502,
          0.012326200027018785,
          0.011972700012847781,
          0.009967399993911386,
          0.01168850000249222,
          0.01015190000180155,
          0.010515800036955625,
          0.00999339995905757,
          0.012287800025660545,
          0.010876199987251312,
          0.010271499981172383,
          0.009645999991334975,
          0.009693500003777444,
          0.010420900012832135,
          0.00975779996952042,
          0.010074599995277822,
          0.010090199997648597,
          0.009613600035663694,
          0.01024370000232011,
          0.009616499999538064,
          0.010049000033177435,
          0.009791399992536753,
          0.009620800032280385,
          0.010024999966844916,
          0.009953100001439452,
          0.009647800005041063,
          0.010576800035778433,
          0.010026099975220859,
          0.009673600026872009,
          0.010243299999274313,
          0.010225699981674552,
          0.011735400010365993,
          0.010612300015054643,
          0.009957500034943223,
          0.009579600009601563,
          0.009896700037643313,
          0.009498699975665659,
          0.00945099996170029,
          0.010628699965309352,
          0.010291100014001131,
          0.010412000003270805,
          0.010385199973825365,
          0.009779499960131943
         ],
         "yaxis": "y3",
         "type": "scatter"
        }
       ],
       "layout": {
        "template": {
         "data": {
          "histogram2dcontour": [
           {
            "type": "histogram2dcontour",
            "colorbar": {
             "outlinewidth": 0,
             "ticks": ""
            },
            "colorscale": [
             [
              0.0,
              "#0d0887"
             ],
             [
              0.1111111111111111,
              "#46039f"
             ],
             [
              0.2222222222222222,
              "#7201a8"
             ],
             [
              0.3333333333333333,
              "#9c179e"
             ],
             [
              0.4444444444444444,
              "#bd3786"
             ],
             [
              0.5555555555555556,
              "#d8576b"
             ],
             [
              0.6666666666666666,
              "#ed7953"
             ],
             [
              0.7777777777777778,
              "#fb9f3a"
             ],
             [
              0.8888888888888888,
              "#fdca26"
             ],
             [
              1.0,
              "#f0f921"
             ]
            ]
           }
          ],
          "choropleth": [
           {
            "type": "choropleth",
            "colorbar": {
             "outlinewidth": 0,
             "ticks": ""
            }
           }
          ],
          "histogram2d": [
           {
            "type": "histogram2d",
            "colorbar": {
             "outlinewidth": 0,
             "ticks": ""
            },
            "colorscale": [
             [
              0.0,
              "#0d0887"
             ],
             [
              0.1111111111111111,
              "#46039f"
             ],
             [
              0.2222222222222222,
              "#7201a8"
             ],
             [
              0.3333333333333333,
              "#9c179e"
             ],
             [
              0.4444444444444444,
              "#bd3786"
             ],
             [
              0.5555555555555556,
              "#d8576b"
             ],
             [
              0.6666666666666666,
              "#ed7953"
             ],
             [
              0.7777777777777778,
              "#fb9f3a"
             ],
             [
              0.8888888888888888,
              "#fdca26"
             ],
             [
              1.0,
              "#f0f921"
             ]
            ]
           }
          ],
          "heatmap": [
           {
            "type": "heatmap",
            "colorbar": {
             "outlinewidth": 0,
             "ticks": ""
            },
            "colorscale": [
             [
              0.0,
              "#0d0887"
             ],
             [
              0.1111111111111111,
              "#46039f"
             ],
             [
              0.2222222222222222,
              "#7201a8"
             ],
             [
              0.3333333333333333,
              "#9c179e"
             ],
             [
              0.4444444444444444,
              "#bd3786"
             ],
             [
              0.5555555555555556,
              "#d8576b"
             ],
             [
              0.6666666666666666,
              "#ed7953"
             ],
             [
              0.7777777777777778,
              "#fb9f3a"
             ],
             [
              0.8888888888888888,
              "#fdca26"
             ],
             [
              1.0,
              "#f0f921"
             ]
            ]
           }
          ],
          "heatmapgl": [
           {
            "type": "heatmapgl",
            "colorbar": {
             "outlinewidth": 0,
             "ticks": ""
            },
            "colorscale": [
             [
              0.0,
              "#0d0887"
             ],
             [
              0.1111111111111111,
              "#46039f"
             ],
             [
              0.2222222222222222,
              "#7201a8"
             ],
             [
              0.3333333333333333,
              "#9c179e"
             ],
             [
              0.4444444444444444,
              "#bd3786"
             ],
             [
              0.5555555555555556,
              "#d8576b"
             ],
             [
              0.6666666666666666,
              "#ed7953"
             ],
             [
              0.7777777777777778,
              "#fb9f3a"
             ],
             [
              0.8888888888888888,
              "#fdca26"
             ],
             [
              1.0,
              "#f0f921"
             ]
            ]
           }
          ],
          "contourcarpet": [
           {
            "type": "contourcarpet",
            "colorbar": {
             "outlinewidth": 0,
             "ticks": ""
            }
           }
          ],
          "contour": [
           {
            "type": "contour",
            "colorbar": {
             "outlinewidth": 0,
             "ticks": ""
            },
            "colorscale": [
             [
              0.0,
              "#0d0887"
             ],
             [
              0.1111111111111111,
              "#46039f"
             ],
             [
              0.2222222222222222,
              "#7201a8"
             ],
             [
              0.3333333333333333,
              "#9c179e"
             ],
             [
              0.4444444444444444,
              "#bd3786"
             ],
             [
              0.5555555555555556,
              "#d8576b"
             ],
             [
              0.6666666666666666,
              "#ed7953"
             ],
             [
              0.7777777777777778,
              "#fb9f3a"
             ],
             [
              0.8888888888888888,
              "#fdca26"
             ],
             [
              1.0,
              "#f0f921"
             ]
            ]
           }
          ],
          "surface": [
           {
            "type": "surface",
            "colorbar": {
             "outlinewidth": 0,
             "ticks": ""
            },
            "colorscale": [
             [
              0.0,
              "#0d0887"
             ],
             [
              0.1111111111111111,
              "#46039f"
             ],
             [
              0.2222222222222222,
              "#7201a8"
             ],
             [
              0.3333333333333333,
              "#9c179e"
             ],
             [
              0.4444444444444444,
              "#bd3786"
             ],
             [
              0.5555555555555556,
              "#d8576b"
             ],
             [
              0.6666666666666666,
              "#ed7953"
             ],
             [
              0.7777777777777778,
              "#fb9f3a"
             ],
             [
              0.8888888888888888,
              "#fdca26"
             ],
             [
              1.0,
              "#f0f921"
             ]
            ]
           }
          ],
          "mesh3d": [
           {
            "type": "mesh3d",
            "colorbar": {
             "outlinewidth": 0,
             "ticks": ""
            }
           }
          ],
          "scatter": [
           {
            "marker": {
             "line": {
              "color": "#283442"
             }
            },
            "type": "scatter"
           }
          ],
          "parcoords": [
           {
            "type": "parcoords",
            "line": {
             "colorbar": {
              "outlinewidth": 0,
              "ticks": ""
             }
            }
           }
          ],
          "scatterpolargl": [
           {
            "type": "scatterpolargl",
            "marker": {
             "colorbar": {
              "outlinewidth": 0,
              "ticks": ""
             }
            }
           }
          ],
          "bar": [
           {
            "error_x": {
             "color": "#f2f5fa"
            },
            "error_y": {
             "color": "#f2f5fa"
            },
            "marker": {
             "line": {
              "color": "rgb(17,17,17)",
              "width": 0.5
             },
             "pattern": {
              "fillmode": "overlay",
              "size": 10,
              "solidity": 0.2
             }
            },
            "type": "bar"
           }
          ],
          "scattergeo": [
           {
            "type": "scattergeo",
            "marker": {
             "colorbar": {
              "outlinewidth": 0,
              "ticks": ""
             }
            }
           }
          ],
          "scatterpolar": [
           {
            "type": "scatterpolar",
            "marker": {
             "colorbar": {
              "outlinewidth": 0,
              "ticks": ""
             }
            }
           }
          ],
          "histogram": [
           {
            "marker": {
             "pattern": {
              "fillmode": "overlay",
              "size": 10,
              "solidity": 0.2
             }
            },
            "type": "histogram"
           }
          ],
          "scattergl": [
           {
            "marker": {
             "line": {
              "color": "#283442"
             }
            },
            "type": "scattergl"
           }
          ],
          "scatter3d": [
           {
            "type": "scatter3d",
            "line": {
             "colorbar": {
              "outlinewidth": 0,
              "ticks": ""
             }
            },
            "marker": {
             "colorbar": {
              "outlinewidth": 0,
              "ticks": ""
             }
            }
           }
          ],
          "scattermapbox": [
           {
            "type": "scattermapbox",
            "marker": {
             "colorbar": {
              "outlinewidth": 0,
              "ticks": ""
             }
            }
           }
          ],
          "scatterternary": [
           {
            "type": "scatterternary",
            "marker": {
             "colorbar": {
              "outlinewidth": 0,
              "ticks": ""
             }
            }
           }
          ],
          "scattercarpet": [
           {
            "type": "scattercarpet",
            "marker": {
             "colorbar": {
              "outlinewidth": 0,
              "ticks": ""
             }
            }
           }
          ],
          "carpet": [
           {
            "aaxis": {
             "endlinecolor": "#A2B1C6",
             "gridcolor": "#506784",
             "linecolor": "#506784",
             "minorgridcolor": "#506784",
             "startlinecolor": "#A2B1C6"
            },
            "baxis": {
             "endlinecolor": "#A2B1C6",
             "gridcolor": "#506784",
             "linecolor": "#506784",
             "minorgridcolor": "#506784",
             "startlinecolor": "#A2B1C6"
            },
            "type": "carpet"
           }
          ],
          "table": [
           {
            "cells": {
             "fill": {
              "color": "#506784"
             },
             "line": {
              "color": "rgb(17,17,17)"
             }
            },
            "header": {
             "fill": {
              "color": "#2a3f5f"
             },
             "line": {
              "color": "rgb(17,17,17)"
             }
            },
            "type": "table"
           }
          ],
          "barpolar": [
           {
            "marker": {
             "line": {
              "color": "rgb(17,17,17)",
              "width": 0.5
             },
             "pattern": {
              "fillmode": "overlay",
              "size": 10,
              "solidity": 0.2
             }
            },
            "type": "barpolar"
           }
          ],
          "pie": [
           {
            "automargin": true,
            "type": "pie"
           }
          ]
         },
         "layout": {
          "autotypenumbers": "strict",
          "colorway": [
           "#636efa",
           "#EF553B",
           "#00cc96",
           "#ab63fa",
           "#FFA15A",
           "#19d3f3",
           "#FF6692",
           "#B6E880",
           "#FF97FF",
           "#FECB52"
          ],
          "font": {
           "color": "#f2f5fa"
          },
          "hovermode": "closest",
          "hoverlabel": {
           "align": "left"
          },
          "paper_bgcolor": "rgb(17,17,17)",
          "plot_bgcolor": "rgb(17,17,17)",
          "polar": {
           "bgcolor": "rgb(17,17,17)",
           "angularaxis": {
            "gridcolor": "#506784",
            "linecolor": "#506784",
            "ticks": ""
           },
           "radialaxis": {
            "gridcolor": "#506784",
            "linecolor": "#506784",
            "ticks": ""
           }
          },
          "ternary": {
           "bgcolor": "rgb(17,17,17)",
           "aaxis": {
            "gridcolor": "#506784",
            "linecolor": "#506784",
            "ticks": ""
           },
           "baxis": {
            "gridcolor": "#506784",
            "linecolor": "#506784",
            "ticks": ""
           },
           "caxis": {
            "gridcolor": "#506784",
            "linecolor": "#506784",
            "ticks": ""
           }
          },
          "coloraxis": {
           "colorbar": {
            "outlinewidth": 0,
            "ticks": ""
           }
          },
          "colorscale": {
           "sequential": [
            [
             0.0,
             "#0d0887"
            ],
            [
             0.1111111111111111,
             "#46039f"
            ],
            [
             0.2222222222222222,
             "#7201a8"
            ],
            [
             0.3333333333333333,
             "#9c179e"
            ],
            [
             0.4444444444444444,
             "#bd3786"
            ],
            [
             0.5555555555555556,
             "#d8576b"
            ],
            [
             0.6666666666666666,
             "#ed7953"
            ],
            [
             0.7777777777777778,
             "#fb9f3a"
            ],
            [
             0.8888888888888888,
             "#fdca26"
            ],
            [
             1.0,
             "#f0f921"
            ]
           ],
           "sequentialminus": [
            [
             0.0,
             "#0d0887"
            ],
            [
             0.1111111111111111,
             "#46039f"
            ],
            [
             0.2222222222222222,
             "#7201a8"
            ],
            [
             0.3333333333333333,
             "#9c179e"
            ],
            [
             0.4444444444444444,
             "#bd3786"
            ],
            [
             0.5555555555555556,
             "#d8576b"
            ],
            [
             0.6666666666666666,
             "#ed7953"
            ],
            [
             0.7777777777777778,
             "#fb9f3a"
            ],
            [
             0.8888888888888888,
             "#fdca26"
            ],
            [
             1.0,
             "#f0f921"
            ]
           ],
           "diverging": [
            [
             0,
             "#8e0152"
            ],
            [
             0.1,
             "#c51b7d"
            ],
            [
             0.2,
             "#de77ae"
            ],
            [
             0.3,
             "#f1b6da"
            ],
            [
             0.4,
             "#fde0ef"
            ],
            [
             0.5,
             "#f7f7f7"
            ],
            [
             0.6,
             "#e6f5d0"
            ],
            [
             0.7,
             "#b8e186"
            ],
            [
             0.8,
             "#7fbc41"
            ],
            [
             0.9,
             "#4d9221"
            ],
            [
             1,
             "#276419"
            ]
           ]
          },
          "xaxis": {
           "gridcolor": "#283442",
           "linecolor": "#506784",
           "ticks": "",
           "title": {
            "standoff": 15
           },
           "zerolinecolor": "#283442",
           "automargin": true,
           "zerolinewidth": 2
          },
          "yaxis": {
           "gridcolor": "#283442",
           "linecolor": "#506784",
           "ticks": "",
           "title": {
            "standoff": 15
           },
           "zerolinecolor": "#283442",
           "automargin": true,
           "zerolinewidth": 2
          },
          "scene": {
           "xaxis": {
            "backgroundcolor": "rgb(17,17,17)",
            "gridcolor": "#506784",
            "linecolor": "#506784",
            "showbackground": true,
            "ticks": "",
            "zerolinecolor": "#C8D4E3",
            "gridwidth": 2
           },
           "yaxis": {
            "backgroundcolor": "rgb(17,17,17)",
            "gridcolor": "#506784",
            "linecolor": "#506784",
            "showbackground": true,
            "ticks": "",
            "zerolinecolor": "#C8D4E3",
            "gridwidth": 2
           },
           "zaxis": {
            "backgroundcolor": "rgb(17,17,17)",
            "gridcolor": "#506784",
            "linecolor": "#506784",
            "showbackground": true,
            "ticks": "",
            "zerolinecolor": "#C8D4E3",
            "gridwidth": 2
           }
          },
          "shapedefaults": {
           "line": {
            "color": "#f2f5fa"
           }
          },
          "annotationdefaults": {
           "arrowcolor": "#f2f5fa",
           "arrowhead": 0,
           "arrowwidth": 1
          },
          "geo": {
           "bgcolor": "rgb(17,17,17)",
           "landcolor": "rgb(17,17,17)",
           "subunitcolor": "#506784",
           "showland": true,
           "showlakes": true,
           "lakecolor": "rgb(17,17,17)"
          },
          "title": {
           "x": 0.05
          },
          "updatemenudefaults": {
           "bgcolor": "#506784",
           "borderwidth": 0
          },
          "sliderdefaults": {
           "bgcolor": "#C8D4E3",
           "borderwidth": 1,
           "bordercolor": "rgb(17,17,17)",
           "tickwidth": 0
          },
          "mapbox": {
           "style": "dark"
          }
         }
        },
        "xaxis": {
         "anchor": "y",
         "domain": [
          0.0,
          0.31999999999999995
         ],
         "title": {
          "text": "Dimensione array"
         }
        },
        "yaxis": {
         "anchor": "x",
         "domain": [
          0.0,
          1.0
         ],
         "title": {
          "text": "Time (s)"
         }
        },
        "xaxis2": {
         "anchor": "y2",
         "domain": [
          0.33999999999999997,
          0.6599999999999999
         ],
         "matches": "x",
         "title": {
          "text": "Dimensione array"
         }
        },
        "yaxis2": {
         "anchor": "x2",
         "domain": [
          0.0,
          1.0
         ],
         "matches": "y",
         "showticklabels": false
        },
        "xaxis3": {
         "anchor": "y3",
         "domain": [
          0.6799999999999999,
          0.9999999999999999
         ],
         "matches": "x",
         "title": {
          "text": "Dimensione array"
         }
        },
        "yaxis3": {
         "anchor": "x3",
         "domain": [
          0.0,
          1.0
         ],
         "matches": "y",
         "showticklabels": false
        },
        "annotations": [
         {
          "font": {},
          "showarrow": false,
          "text": "Tipo di input=random",
          "x": 0.15999999999999998,
          "xanchor": "center",
          "xref": "paper",
          "y": 1.0,
          "yanchor": "bottom",
          "yref": "paper"
         },
         {
          "font": {},
          "showarrow": false,
          "text": "Tipo di input=sorted",
          "x": 0.49999999999999994,
          "xanchor": "center",
          "xref": "paper",
          "y": 1.0,
          "yanchor": "bottom",
          "yref": "paper"
         },
         {
          "font": {},
          "showarrow": false,
          "text": "Tipo di input=reversed",
          "x": 0.8399999999999999,
          "xanchor": "center",
          "xref": "paper",
          "y": 1.0,
          "yanchor": "bottom",
          "yref": "paper"
         }
        ],
        "legend": {
         "title": {
          "text": "Algoritmo di ordinamento"
         },
         "tracegroupgap": 0
        },
        "title": {
         "text": "Sorting algorithms"
        }
       },
       "config": {
        "plotlyServerURL": "https://plot.ly"
       }
      },
      "text/html": "<div>                            <div id=\"8df75bb1-8498-4b41-b9e8-745e1a3ce8d9\" class=\"plotly-graph-div\" style=\"height:525px; width:100%;\"></div>            <script type=\"text/javascript\">                require([\"plotly\"], function(Plotly) {                    window.PLOTLYENV=window.PLOTLYENV || {};                                    if (document.getElementById(\"8df75bb1-8498-4b41-b9e8-745e1a3ce8d9\")) {                    Plotly.newPlot(                        \"8df75bb1-8498-4b41-b9e8-745e1a3ce8d9\",                        [{\"hovertemplate\":\"Algoritmo di ordinamento=insertion_sort<br>Tipo di input=random<br>Dimensione array=%{x}<br>Time (s)=%{y}<extra></extra>\",\"legendgroup\":\"insertion_sort\",\"line\":{\"color\":\"#636efa\",\"dash\":\"solid\"},\"marker\":{\"symbol\":\"circle\"},\"mode\":\"lines\",\"name\":\"insertion_sort\",\"orientation\":\"v\",\"showlegend\":true,\"x\":[10,20,30,40,50,60,70,80,90,100,110,120,130,140,150,160,170,180,190,200,210,220,230,240,250,260,270,280,290,300,310,320,330,340,350,360,370,380,390,400,410,420,430,440,450,460,470,480,490,500,510,520,530,540,550,560,570,580,590,600,610,620,630,640,650,660,670,680,690,700,710,720,730,740,750,760,770,780,790,800,810,820,830,840,850,860,870,880,890,900,910,920,930,940,950,960,970,980,990],\"xaxis\":\"x\",\"y\":[5.89998671784997e-06,1.3200042303651571e-05,2.9799994081258774e-05,4.700000863522291e-05,7.680000271648169e-05,9.99000039882958e-05,0.00013800000306218863,0.00016190001042559743,0.00019320001592859626,0.0002549000200815499,0.00030770001467317343,0.00036800000816583633,0.00042729999404400587,0.0005310999695211649,0.0005879999953322113,0.0006186999962665141,0.0006939999875612557,0.0007758999709039927,0.0008495000074617565,0.0009522999753244221,0.001121699984651059,0.001222899998538196,0.001267499988898635,0.0017745000077411532,0.0016078000189736485,0.001812300004530698,0.001879099989309907,0.002019000006839633,0.0022152999881654978,0.0021161999902687967,0.0026095000212080777,0.003143700014334172,0.002771100029349327,0.0028718000394292176,0.0032552999909967184,0.0034499000175856054,0.0036622000043280423,0.0037680999957956374,0.004073400050401688,0.004564600007142872,0.004516999993938953,0.004681399965193123,0.00473209994379431,0.004993300011847168,0.005304299993440509,0.005810700007714331,0.005707400036044419,0.005894400004763156,0.006403200037311763,0.007158100022934377,0.007181900029536337,0.007140599947888404,0.00782450003316626,0.007802699983585626,0.00831920001655817,0.00819329998921603,0.008728699991479516,0.009210799995344132,0.009636999981012195,0.00919340003747493,0.010148800036404282,0.00992690003477037,0.010550800012424588,0.011108600010629743,0.011599099962040782,0.012319699977524579,0.012327699980232865,0.013361299992538989,0.013289299968164414,0.013029100024141371,0.01467390003381297,0.014963499968871474,0.015026100038085133,0.01582789997337386,0.015145799960009754,0.01572299998952076,0.016899700043722987,0.016592000029049814,0.017414400004781783,0.019211000006180257,0.01747720001731068,0.02102399995783344,0.0209620000096038,0.019596799975261092,0.01960599998710677,0.021305000002030283,0.02100770000834018,0.02223760000197217,0.02235879999352619,0.021921200037468225,0.022580199991352856,0.023187600017990917,0.02256319997832179,0.022901699994690716,0.023926099995151162,0.024400099995546043,0.02496479998808354,0.025037199957296252,0.02599200000986457],\"yaxis\":\"y\",\"type\":\"scatter\"},{\"hovertemplate\":\"Algoritmo di ordinamento=insertion_sort<br>Tipo di input=sorted<br>Dimensione array=%{x}<br>Time (s)=%{y}<extra></extra>\",\"legendgroup\":\"insertion_sort\",\"line\":{\"color\":\"#636efa\",\"dash\":\"solid\"},\"marker\":{\"symbol\":\"circle\"},\"mode\":\"lines\",\"name\":\"insertion_sort\",\"orientation\":\"v\",\"showlegend\":false,\"x\":[10,20,30,40,50,60,70,80,90,100,110,120,130,140,150,160,170,180,190,200,210,220,230,240,250,260,270,280,290,300,310,320,330,340,350,360,370,380,390,400,410,420,430,440,450,460,470,480,490,500,510,520,530,540,550,560,570,580,590,600,610,620,630,640,650,660,670,680,690,700,710,720,730,740,750,760,770,780,790,800,810,820,830,840,850,860,870,880,890,900,910,920,930,940,950,960,970,980,990],\"xaxis\":\"x2\",\"y\":[2.400018274784088e-06,3.00002284348011e-06,3.999972250312567e-06,5.100038833916187e-06,6.199989002197981e-06,7.299997378140688e-06,8.400005754083395e-06,9.600014891475439e-06,1.0599964298307896e-05,1.1800031643360853e-05,1.2899981811642647e-05,1.3999990187585354e-05,1.5099998563528061e-05,1.629994949325919e-05,1.7300015315413475e-05,1.8600025214254856e-05,1.9499973859637976e-05,2.0799983758479357e-05,2.180004958063364e-05,2.300000051036477e-05,2.400000812485814e-05,2.519995905458927e-05,2.629996743053198e-05,2.7500034775584936e-05,2.859998494386673e-05,3.0399998649954796e-05,3.170000854879618e-05,3.300001844763756e-05,3.409996861591935e-05,3.520003519952297e-05,3.69000481441617e-05,3.850000211969018e-05,3.9300008211284876e-05,4.0499959141016006e-05,4.229997284710407e-05,4.3899985030293465e-05,4.420004552230239e-05,4.539999645203352e-05,4.769995575770736e-05,4.919996717944741e-05,4.970002919435501e-05,5.0799979362636805e-05,5.289999535307288e-05,5.460000829771161e-05,5.479995161294937e-05,5.6100019719451666e-05,5.819997750222683e-05,6.019999273121357e-05,5.9999991208314896e-05,6.130000110715628e-05,6.349995965138078e-05,6.400002166628838e-05,6.530003156512976e-05,6.669998401775956e-05,6.78999931551516e-05,6.930000381544232e-05,7.06000137142837e-05,7.190002361312509e-05,7.320003351196647e-05,7.449998520314693e-05,7.590005407109857e-05,7.720000576227903e-05,7.84999574534595e-05,7.989996811375022e-05,8.109997725114226e-05,8.249998791143298e-05,8.379999781027436e-05,8.520000847056508e-05,8.640001760795712e-05,8.790002902969718e-05,8.889997843652964e-05,9.029998909682035e-05,9.14999982342124e-05,9.270000737160444e-05,9.400001727044582e-05,9.540002793073654e-05,0.00012209999840706587,9.819999104365706e-05,9.929999941959977e-05,0.00010070001007989049,0.00010189996100962162,0.00010340003063902259,0.00010459998156875372,0.00012069998774677515,0.0001086000120267272,0.0001113000325858593,0.00011120003182440996,0.00011249998351559043,0.00011929997708648443,0.00011519994586706161,0.00011650001397356391,0.00011779996566474438,0.00011960003757849336,0.00012119999155402184,0.00012240000069141388,0.00012379995314404368,0.00012520002201199532,0.0001256999676115811,0.000125700025819242],\"yaxis\":\"y2\",\"type\":\"scatter\"},{\"hovertemplate\":\"Algoritmo di ordinamento=insertion_sort<br>Tipo di input=reversed<br>Dimensione array=%{x}<br>Time (s)=%{y}<extra></extra>\",\"legendgroup\":\"insertion_sort\",\"line\":{\"color\":\"#636efa\",\"dash\":\"solid\"},\"marker\":{\"symbol\":\"circle\"},\"mode\":\"lines\",\"name\":\"insertion_sort\",\"orientation\":\"v\",\"showlegend\":false,\"x\":[10,20,30,40,50,60,70,80,90,100,110,120,130,140,150,160,170,180,190,200,210,220,230,240,250,260,270,280,290,300,310,320,330,340,350,360,370,380,390,400,410,420,430,440,450,460,470,480,490,500,510,520,530,540,550,560,570,580,590,600,610,620,630,640,650,660,670,680,690,700,710,720,730,740,750,760,770,780,790,800,810,820,830,840,850,860,870,880,890,900,910,920,930,940,950,960,970,980,990],\"xaxis\":\"x3\",\"y\":[7.099995855242014e-06,2.2199994418770075e-05,4.7600013203918934e-05,8.329999400302768e-05,0.00012939999578520656,0.00018499995348975062,0.0002511999919079244,0.0003271999885328114,0.00041360000614076853,0.0005091000348329544,0.0006157999741844833,0.0007353000110015273,0.0008669999660924077,0.0009953000117093325,0.0011414000182412565,0.001298599992878735,0.0014652000390924513,0.001665599993430078,0.0018948999932035804,0.0020373999723233283,0.002244699979200959,0.002475299988873303,0.0026914000045508146,0.0029300000169314444,0.003183299966622144,0.0034023000043816864,0.0043617999763228,0.0039160000160336494,0.004216399975121021,0.004524199990555644,0.004942999978084117,0.005154400016181171,0.005464299989398569,0.005550300003960729,0.005883200035896152,0.006594999984372407,0.0066291000111959875,0.007035800023004413,0.0077883999911136925,0.0078100000391714275,0.008306799980346113,0.008594400016590953,0.009094900044146925,0.009531699994113296,0.00997259997529909,0.01048820000141859,0.012592400016728789,0.011581099999602884,0.012083500041626394,0.014063999988138676,0.013478999957442284,0.01412559999153018,0.014980300038587302,0.015493000042624772,0.01603239995893091,0.016767000022809952,0.017430200008675456,0.017713299952447414,0.01873499999055639,0.019508700002916157,0.019860600004903972,0.021034100034739822,0.0213899000082165,0.02207579999230802,0.02377659996272996,0.02458729996578768,0.023504399985540658,0.0247471000184305,0.0255961999646388,0.026247299974784255,0.027101799962110817,0.026648400002159178,0.02727759996196255,0.028244600049220026,0.031131699972320348,0.030948799976613373,0.031114500015974045,0.033276100002694875,0.03418940003030002,0.03525479999370873,0.03477580001344904,0.03656179999234155,0.03842290001921356,0.038543300004675984,0.03940160002093762,0.04001939995214343,0.04089329997077584,0.04199340002378449,0.04304630000842735,0.04381659999489784,0.04483949998393655,0.046769000007770956,0.04803090001223609,0.04883699998026714,0.04973859997699037,0.05088880000403151,0.05201019998639822,0.05297029996290803,0.053157699992880225],\"yaxis\":\"y3\",\"type\":\"scatter\"},{\"hovertemplate\":\"Algoritmo di ordinamento=counting_sort<br>Tipo di input=random<br>Dimensione array=%{x}<br>Time (s)=%{y}<extra></extra>\",\"legendgroup\":\"counting_sort\",\"line\":{\"color\":\"#EF553B\",\"dash\":\"solid\"},\"marker\":{\"symbol\":\"circle\"},\"mode\":\"lines\",\"name\":\"counting_sort\",\"orientation\":\"v\",\"showlegend\":true,\"x\":[10,20,30,40,50,60,70,80,90,100,110,120,130,140,150,160,170,180,190,200,210,220,230,240,250,260,270,280,290,300,310,320,330,340,350,360,370,380,390,400,410,420,430,440,450,460,470,480,490,500,510,520,530,540,550,560,570,580,590,600,610,620,630,640,650,660,670,680,690,700,710,720,730,740,750,760,770,780,790,800,810,820,830,840,850,860,870,880,890,900,910,920,930,940,950,960,970,980,990],\"xaxis\":\"x\",\"y\":[0.009004099993035197,0.008226800011470914,0.008742200036067516,0.008682999992743134,0.008673599979374558,0.00858879997394979,0.008629299991298467,0.008723099948838353,0.008400099992286414,0.008711100032087415,0.008600000001024455,0.008641900029033422,0.00857700000051409,0.008648300019558519,0.008656600024551153,0.008741699974052608,0.008529100043233484,0.008751199988182634,0.008725100022275,0.008819099981337786,0.008834300038870424,0.008778800023719668,0.008961999963503331,0.008838400011882186,0.008886400028131902,0.008976000011898577,0.008905599999707192,0.00890740001341328,0.009449999954085797,0.01459219999378547,0.010883299983106554,0.011925600003451109,0.009174500009976327,0.008893700025510043,0.010265099990647286,0.010919199965428561,0.009131899976637214,0.009762800007592887,0.009519100014586002,0.009118199988733977,0.009635900030843914,0.010163299972191453,0.009606200037524104,0.00912359997164458,0.010247800033539534,0.009944999997969717,0.009588199958670884,0.009789299976546317,0.009636000031605363,0.009454399987589568,0.00895650003803894,0.009581599966622889,0.010042799985967577,0.009666799975093454,0.01064079999923706,0.009928699990268797,0.009528699971269816,0.00938160001533106,0.009464800008572638,0.009459499968215823,0.009244400018360466,0.0091963000013493,0.009268800029531121,0.009336000017356128,0.009207699971739203,0.00935190002201125,0.009360000025480986,0.010797600029036403,0.00943060003919527,0.009761399996932596,0.009651299973484129,0.009532099997159094,0.009746700001414865,0.009635499969590455,0.00992219999898225,0.010226999991573393,0.010214000009000301,0.009877200005576015,0.010420600010547787,0.010102100030053407,0.010021199996117502,0.009570499998517334,0.009878100012429059,0.010650700016412884,0.010424099978990853,0.010321900015696883,0.010057299979962409,0.009722899994812906,0.010245899960864335,0.010641900007613003,0.011966599966399372,0.010579199995845556,0.010031299956608564,0.00985119998222217,0.010047800024040043,0.010077500017359853,0.01017999998293817,0.010499700030777603,0.010038900014478713],\"yaxis\":\"y\",\"type\":\"scatter\"},{\"hovertemplate\":\"Algoritmo di ordinamento=counting_sort<br>Tipo di input=sorted<br>Dimensione array=%{x}<br>Time (s)=%{y}<extra></extra>\",\"legendgroup\":\"counting_sort\",\"line\":{\"color\":\"#EF553B\",\"dash\":\"solid\"},\"marker\":{\"symbol\":\"circle\"},\"mode\":\"lines\",\"name\":\"counting_sort\",\"orientation\":\"v\",\"showlegend\":false,\"x\":[10,20,30,40,50,60,70,80,90,100,110,120,130,140,150,160,170,180,190,200,210,220,230,240,250,260,270,280,290,300,310,320,330,340,350,360,370,380,390,400,410,420,430,440,450,460,470,480,490,500,510,520,530,540,550,560,570,580,590,600,610,620,630,640,650,660,670,680,690,700,710,720,730,740,750,760,770,780,790,800,810,820,830,840,850,860,870,880,890,900,910,920,930,940,950,960,970,980,990],\"xaxis\":\"x2\",\"y\":[0.007892300025559962,0.008449200016912073,0.008510699961334467,0.008483399986289442,0.008478000003378838,0.010112899995874614,0.0086066999938339,0.008395299955736846,0.008680299972184002,0.008705000043846667,0.0104496999992989,0.008769299951381981,0.00874890002887696,0.008622099994681776,0.008638400002382696,0.00855490000685677,0.008620900043752044,0.008513399981893599,0.00849999999627471,0.008588199969381094,0.008522599993739277,0.008895899984054267,0.00944970001000911,0.008670600014738739,0.008568699995521456,0.008702699968125671,0.008731900015845895,0.008896100043784827,0.008708500012289733,0.008965499990154058,0.008877600019332021,0.00908659998094663,0.008942299988120794,0.009217199985869229,0.009061699965968728,0.009078499977476895,0.009160600020550191,0.00911029998678714,0.009323200036305934,0.009180299995932728,0.009180900000501424,0.009345000027678907,0.00907480000751093,0.00947319995611906,0.009346799983177334,0.009471400000620633,0.009219800005666912,0.009136800013948232,0.009545500040985644,0.009096300054807216,0.00922000000718981,0.011106999998446554,0.009121000010054559,0.009464100003242493,0.009641299955546856,0.009456700005102903,0.009691399987787008,0.009496300015598536,0.00978159997612238,0.009769900003448129,0.009416299988515675,0.009875999996438622,0.009664800018072128,0.00972659996477887,0.00984959997003898,0.00964359997306019,0.009777400002349168,0.009714400046505034,0.00958289997652173,0.00971489999210462,0.010594499995931983,0.009697600034996867,0.00980669999262318,0.010019499983172864,0.009288600005675107,0.009680199960712343,0.009483099973294884,0.010600000037811697,0.009812100033741444,0.009513899974990636,0.00990750000346452,0.00972219998948276,0.009533200005535036,0.009677599999122322,0.009811499970965087,0.010355299978982657,0.00982139998814091,0.009652099979575723,0.009940399962943047,0.009613199974410236,0.009716600005049258,0.009854000003542751,0.009675499983131886,0.009678100002929568,0.009629499982111156,0.009578900004271418,0.009752400044817477,0.00958439998794347,0.009684299991931766],\"yaxis\":\"y2\",\"type\":\"scatter\"},{\"hovertemplate\":\"Algoritmo di ordinamento=counting_sort<br>Tipo di input=reversed<br>Dimensione array=%{x}<br>Time (s)=%{y}<extra></extra>\",\"legendgroup\":\"counting_sort\",\"line\":{\"color\":\"#EF553B\",\"dash\":\"solid\"},\"marker\":{\"symbol\":\"circle\"},\"mode\":\"lines\",\"name\":\"counting_sort\",\"orientation\":\"v\",\"showlegend\":false,\"x\":[10,20,30,40,50,60,70,80,90,100,110,120,130,140,150,160,170,180,190,200,210,220,230,240,250,260,270,280,290,300,310,320,330,340,350,360,370,380,390,400,410,420,430,440,450,460,470,480,490,500,510,520,530,540,550,560,570,580,590,600,610,620,630,640,650,660,670,680,690,700,710,720,730,740,750,760,770,780,790,800,810,820,830,840,850,860,870,880,890,900,910,920,930,940,950,960,970,980,990],\"xaxis\":\"x3\",\"y\":[0.007968599966261536,0.008296300016809255,0.0089043999905698,0.00859479996142909,0.009064199985004961,0.008878100023139268,0.008661700005177408,0.008983800013083965,0.008806400001049042,0.00877849996322766,0.008583399991039187,0.008505599980708212,0.008868100005201995,0.008697199984453619,0.008803499978967011,0.00884959998074919,0.008932699973229319,0.008853400009684265,0.008944499946665019,0.00886889995308593,0.009005400002934039,0.008815899956971407,0.008910499978810549,0.008850299986079335,0.008986700035165995,0.008900300017558038,0.009012900001835078,0.00914300000295043,0.00889559998176992,0.009284399973694235,0.009185600036289543,0.009147900040261447,0.009285000036470592,0.009142700000666082,0.009449200006201863,0.009229499963112175,0.009211800002958626,0.009144700015895069,0.009223700035363436,0.009397899964824319,0.009347599989268929,0.009312500013038516,0.009343900019302964,0.009271999995689839,0.009569199988618493,0.009485499991569668,0.009458900021854788,0.009544099972117692,0.009524499997496605,0.009189200005494058,0.0094124999595806,0.009629899985156953,0.01022449997253716,0.010370500036515296,0.010683000029530376,0.009905499988235533,0.009797499980777502,0.012326200027018785,0.011972700012847781,0.009967399993911386,0.01168850000249222,0.01015190000180155,0.010515800036955625,0.00999339995905757,0.012287800025660545,0.010876199987251312,0.010271499981172383,0.009645999991334975,0.009693500003777444,0.010420900012832135,0.00975779996952042,0.010074599995277822,0.010090199997648597,0.009613600035663694,0.01024370000232011,0.009616499999538064,0.010049000033177435,0.009791399992536753,0.009620800032280385,0.010024999966844916,0.009953100001439452,0.009647800005041063,0.010576800035778433,0.010026099975220859,0.009673600026872009,0.010243299999274313,0.010225699981674552,0.011735400010365993,0.010612300015054643,0.009957500034943223,0.009579600009601563,0.009896700037643313,0.009498699975665659,0.00945099996170029,0.010628699965309352,0.010291100014001131,0.010412000003270805,0.010385199973825365,0.009779499960131943],\"yaxis\":\"y3\",\"type\":\"scatter\"}],                        {\"template\":{\"data\":{\"histogram2dcontour\":[{\"type\":\"histogram2dcontour\",\"colorbar\":{\"outlinewidth\":0,\"ticks\":\"\"},\"colorscale\":[[0.0,\"#0d0887\"],[0.1111111111111111,\"#46039f\"],[0.2222222222222222,\"#7201a8\"],[0.3333333333333333,\"#9c179e\"],[0.4444444444444444,\"#bd3786\"],[0.5555555555555556,\"#d8576b\"],[0.6666666666666666,\"#ed7953\"],[0.7777777777777778,\"#fb9f3a\"],[0.8888888888888888,\"#fdca26\"],[1.0,\"#f0f921\"]]}],\"choropleth\":[{\"type\":\"choropleth\",\"colorbar\":{\"outlinewidth\":0,\"ticks\":\"\"}}],\"histogram2d\":[{\"type\":\"histogram2d\",\"colorbar\":{\"outlinewidth\":0,\"ticks\":\"\"},\"colorscale\":[[0.0,\"#0d0887\"],[0.1111111111111111,\"#46039f\"],[0.2222222222222222,\"#7201a8\"],[0.3333333333333333,\"#9c179e\"],[0.4444444444444444,\"#bd3786\"],[0.5555555555555556,\"#d8576b\"],[0.6666666666666666,\"#ed7953\"],[0.7777777777777778,\"#fb9f3a\"],[0.8888888888888888,\"#fdca26\"],[1.0,\"#f0f921\"]]}],\"heatmap\":[{\"type\":\"heatmap\",\"colorbar\":{\"outlinewidth\":0,\"ticks\":\"\"},\"colorscale\":[[0.0,\"#0d0887\"],[0.1111111111111111,\"#46039f\"],[0.2222222222222222,\"#7201a8\"],[0.3333333333333333,\"#9c179e\"],[0.4444444444444444,\"#bd3786\"],[0.5555555555555556,\"#d8576b\"],[0.6666666666666666,\"#ed7953\"],[0.7777777777777778,\"#fb9f3a\"],[0.8888888888888888,\"#fdca26\"],[1.0,\"#f0f921\"]]}],\"heatmapgl\":[{\"type\":\"heatmapgl\",\"colorbar\":{\"outlinewidth\":0,\"ticks\":\"\"},\"colorscale\":[[0.0,\"#0d0887\"],[0.1111111111111111,\"#46039f\"],[0.2222222222222222,\"#7201a8\"],[0.3333333333333333,\"#9c179e\"],[0.4444444444444444,\"#bd3786\"],[0.5555555555555556,\"#d8576b\"],[0.6666666666666666,\"#ed7953\"],[0.7777777777777778,\"#fb9f3a\"],[0.8888888888888888,\"#fdca26\"],[1.0,\"#f0f921\"]]}],\"contourcarpet\":[{\"type\":\"contourcarpet\",\"colorbar\":{\"outlinewidth\":0,\"ticks\":\"\"}}],\"contour\":[{\"type\":\"contour\",\"colorbar\":{\"outlinewidth\":0,\"ticks\":\"\"},\"colorscale\":[[0.0,\"#0d0887\"],[0.1111111111111111,\"#46039f\"],[0.2222222222222222,\"#7201a8\"],[0.3333333333333333,\"#9c179e\"],[0.4444444444444444,\"#bd3786\"],[0.5555555555555556,\"#d8576b\"],[0.6666666666666666,\"#ed7953\"],[0.7777777777777778,\"#fb9f3a\"],[0.8888888888888888,\"#fdca26\"],[1.0,\"#f0f921\"]]}],\"surface\":[{\"type\":\"surface\",\"colorbar\":{\"outlinewidth\":0,\"ticks\":\"\"},\"colorscale\":[[0.0,\"#0d0887\"],[0.1111111111111111,\"#46039f\"],[0.2222222222222222,\"#7201a8\"],[0.3333333333333333,\"#9c179e\"],[0.4444444444444444,\"#bd3786\"],[0.5555555555555556,\"#d8576b\"],[0.6666666666666666,\"#ed7953\"],[0.7777777777777778,\"#fb9f3a\"],[0.8888888888888888,\"#fdca26\"],[1.0,\"#f0f921\"]]}],\"mesh3d\":[{\"type\":\"mesh3d\",\"colorbar\":{\"outlinewidth\":0,\"ticks\":\"\"}}],\"scatter\":[{\"marker\":{\"line\":{\"color\":\"#283442\"}},\"type\":\"scatter\"}],\"parcoords\":[{\"type\":\"parcoords\",\"line\":{\"colorbar\":{\"outlinewidth\":0,\"ticks\":\"\"}}}],\"scatterpolargl\":[{\"type\":\"scatterpolargl\",\"marker\":{\"colorbar\":{\"outlinewidth\":0,\"ticks\":\"\"}}}],\"bar\":[{\"error_x\":{\"color\":\"#f2f5fa\"},\"error_y\":{\"color\":\"#f2f5fa\"},\"marker\":{\"line\":{\"color\":\"rgb(17,17,17)\",\"width\":0.5},\"pattern\":{\"fillmode\":\"overlay\",\"size\":10,\"solidity\":0.2}},\"type\":\"bar\"}],\"scattergeo\":[{\"type\":\"scattergeo\",\"marker\":{\"colorbar\":{\"outlinewidth\":0,\"ticks\":\"\"}}}],\"scatterpolar\":[{\"type\":\"scatterpolar\",\"marker\":{\"colorbar\":{\"outlinewidth\":0,\"ticks\":\"\"}}}],\"histogram\":[{\"marker\":{\"pattern\":{\"fillmode\":\"overlay\",\"size\":10,\"solidity\":0.2}},\"type\":\"histogram\"}],\"scattergl\":[{\"marker\":{\"line\":{\"color\":\"#283442\"}},\"type\":\"scattergl\"}],\"scatter3d\":[{\"type\":\"scatter3d\",\"line\":{\"colorbar\":{\"outlinewidth\":0,\"ticks\":\"\"}},\"marker\":{\"colorbar\":{\"outlinewidth\":0,\"ticks\":\"\"}}}],\"scattermapbox\":[{\"type\":\"scattermapbox\",\"marker\":{\"colorbar\":{\"outlinewidth\":0,\"ticks\":\"\"}}}],\"scatterternary\":[{\"type\":\"scatterternary\",\"marker\":{\"colorbar\":{\"outlinewidth\":0,\"ticks\":\"\"}}}],\"scattercarpet\":[{\"type\":\"scattercarpet\",\"marker\":{\"colorbar\":{\"outlinewidth\":0,\"ticks\":\"\"}}}],\"carpet\":[{\"aaxis\":{\"endlinecolor\":\"#A2B1C6\",\"gridcolor\":\"#506784\",\"linecolor\":\"#506784\",\"minorgridcolor\":\"#506784\",\"startlinecolor\":\"#A2B1C6\"},\"baxis\":{\"endlinecolor\":\"#A2B1C6\",\"gridcolor\":\"#506784\",\"linecolor\":\"#506784\",\"minorgridcolor\":\"#506784\",\"startlinecolor\":\"#A2B1C6\"},\"type\":\"carpet\"}],\"table\":[{\"cells\":{\"fill\":{\"color\":\"#506784\"},\"line\":{\"color\":\"rgb(17,17,17)\"}},\"header\":{\"fill\":{\"color\":\"#2a3f5f\"},\"line\":{\"color\":\"rgb(17,17,17)\"}},\"type\":\"table\"}],\"barpolar\":[{\"marker\":{\"line\":{\"color\":\"rgb(17,17,17)\",\"width\":0.5},\"pattern\":{\"fillmode\":\"overlay\",\"size\":10,\"solidity\":0.2}},\"type\":\"barpolar\"}],\"pie\":[{\"automargin\":true,\"type\":\"pie\"}]},\"layout\":{\"autotypenumbers\":\"strict\",\"colorway\":[\"#636efa\",\"#EF553B\",\"#00cc96\",\"#ab63fa\",\"#FFA15A\",\"#19d3f3\",\"#FF6692\",\"#B6E880\",\"#FF97FF\",\"#FECB52\"],\"font\":{\"color\":\"#f2f5fa\"},\"hovermode\":\"closest\",\"hoverlabel\":{\"align\":\"left\"},\"paper_bgcolor\":\"rgb(17,17,17)\",\"plot_bgcolor\":\"rgb(17,17,17)\",\"polar\":{\"bgcolor\":\"rgb(17,17,17)\",\"angularaxis\":{\"gridcolor\":\"#506784\",\"linecolor\":\"#506784\",\"ticks\":\"\"},\"radialaxis\":{\"gridcolor\":\"#506784\",\"linecolor\":\"#506784\",\"ticks\":\"\"}},\"ternary\":{\"bgcolor\":\"rgb(17,17,17)\",\"aaxis\":{\"gridcolor\":\"#506784\",\"linecolor\":\"#506784\",\"ticks\":\"\"},\"baxis\":{\"gridcolor\":\"#506784\",\"linecolor\":\"#506784\",\"ticks\":\"\"},\"caxis\":{\"gridcolor\":\"#506784\",\"linecolor\":\"#506784\",\"ticks\":\"\"}},\"coloraxis\":{\"colorbar\":{\"outlinewidth\":0,\"ticks\":\"\"}},\"colorscale\":{\"sequential\":[[0.0,\"#0d0887\"],[0.1111111111111111,\"#46039f\"],[0.2222222222222222,\"#7201a8\"],[0.3333333333333333,\"#9c179e\"],[0.4444444444444444,\"#bd3786\"],[0.5555555555555556,\"#d8576b\"],[0.6666666666666666,\"#ed7953\"],[0.7777777777777778,\"#fb9f3a\"],[0.8888888888888888,\"#fdca26\"],[1.0,\"#f0f921\"]],\"sequentialminus\":[[0.0,\"#0d0887\"],[0.1111111111111111,\"#46039f\"],[0.2222222222222222,\"#7201a8\"],[0.3333333333333333,\"#9c179e\"],[0.4444444444444444,\"#bd3786\"],[0.5555555555555556,\"#d8576b\"],[0.6666666666666666,\"#ed7953\"],[0.7777777777777778,\"#fb9f3a\"],[0.8888888888888888,\"#fdca26\"],[1.0,\"#f0f921\"]],\"diverging\":[[0,\"#8e0152\"],[0.1,\"#c51b7d\"],[0.2,\"#de77ae\"],[0.3,\"#f1b6da\"],[0.4,\"#fde0ef\"],[0.5,\"#f7f7f7\"],[0.6,\"#e6f5d0\"],[0.7,\"#b8e186\"],[0.8,\"#7fbc41\"],[0.9,\"#4d9221\"],[1,\"#276419\"]]},\"xaxis\":{\"gridcolor\":\"#283442\",\"linecolor\":\"#506784\",\"ticks\":\"\",\"title\":{\"standoff\":15},\"zerolinecolor\":\"#283442\",\"automargin\":true,\"zerolinewidth\":2},\"yaxis\":{\"gridcolor\":\"#283442\",\"linecolor\":\"#506784\",\"ticks\":\"\",\"title\":{\"standoff\":15},\"zerolinecolor\":\"#283442\",\"automargin\":true,\"zerolinewidth\":2},\"scene\":{\"xaxis\":{\"backgroundcolor\":\"rgb(17,17,17)\",\"gridcolor\":\"#506784\",\"linecolor\":\"#506784\",\"showbackground\":true,\"ticks\":\"\",\"zerolinecolor\":\"#C8D4E3\",\"gridwidth\":2},\"yaxis\":{\"backgroundcolor\":\"rgb(17,17,17)\",\"gridcolor\":\"#506784\",\"linecolor\":\"#506784\",\"showbackground\":true,\"ticks\":\"\",\"zerolinecolor\":\"#C8D4E3\",\"gridwidth\":2},\"zaxis\":{\"backgroundcolor\":\"rgb(17,17,17)\",\"gridcolor\":\"#506784\",\"linecolor\":\"#506784\",\"showbackground\":true,\"ticks\":\"\",\"zerolinecolor\":\"#C8D4E3\",\"gridwidth\":2}},\"shapedefaults\":{\"line\":{\"color\":\"#f2f5fa\"}},\"annotationdefaults\":{\"arrowcolor\":\"#f2f5fa\",\"arrowhead\":0,\"arrowwidth\":1},\"geo\":{\"bgcolor\":\"rgb(17,17,17)\",\"landcolor\":\"rgb(17,17,17)\",\"subunitcolor\":\"#506784\",\"showland\":true,\"showlakes\":true,\"lakecolor\":\"rgb(17,17,17)\"},\"title\":{\"x\":0.05},\"updatemenudefaults\":{\"bgcolor\":\"#506784\",\"borderwidth\":0},\"sliderdefaults\":{\"bgcolor\":\"#C8D4E3\",\"borderwidth\":1,\"bordercolor\":\"rgb(17,17,17)\",\"tickwidth\":0},\"mapbox\":{\"style\":\"dark\"}}},\"xaxis\":{\"anchor\":\"y\",\"domain\":[0.0,0.31999999999999995],\"title\":{\"text\":\"Dimensione array\"}},\"yaxis\":{\"anchor\":\"x\",\"domain\":[0.0,1.0],\"title\":{\"text\":\"Time (s)\"}},\"xaxis2\":{\"anchor\":\"y2\",\"domain\":[0.33999999999999997,0.6599999999999999],\"matches\":\"x\",\"title\":{\"text\":\"Dimensione array\"}},\"yaxis2\":{\"anchor\":\"x2\",\"domain\":[0.0,1.0],\"matches\":\"y\",\"showticklabels\":false},\"xaxis3\":{\"anchor\":\"y3\",\"domain\":[0.6799999999999999,0.9999999999999999],\"matches\":\"x\",\"title\":{\"text\":\"Dimensione array\"}},\"yaxis3\":{\"anchor\":\"x3\",\"domain\":[0.0,1.0],\"matches\":\"y\",\"showticklabels\":false},\"annotations\":[{\"font\":{},\"showarrow\":false,\"text\":\"Tipo di input=random\",\"x\":0.15999999999999998,\"xanchor\":\"center\",\"xref\":\"paper\",\"y\":1.0,\"yanchor\":\"bottom\",\"yref\":\"paper\"},{\"font\":{},\"showarrow\":false,\"text\":\"Tipo di input=sorted\",\"x\":0.49999999999999994,\"xanchor\":\"center\",\"xref\":\"paper\",\"y\":1.0,\"yanchor\":\"bottom\",\"yref\":\"paper\"},{\"font\":{},\"showarrow\":false,\"text\":\"Tipo di input=reversed\",\"x\":0.8399999999999999,\"xanchor\":\"center\",\"xref\":\"paper\",\"y\":1.0,\"yanchor\":\"bottom\",\"yref\":\"paper\"}],\"legend\":{\"title\":{\"text\":\"Algoritmo di ordinamento\"},\"tracegroupgap\":0},\"title\":{\"text\":\"Sorting algorithms\"}},                        {\"responsive\": true}                    ).then(function(){\n                            \nvar gd = document.getElementById('8df75bb1-8498-4b41-b9e8-745e1a3ce8d9');\nvar x = new MutationObserver(function (mutations, observer) {{\n        var display = window.getComputedStyle(gd).display;\n        if (!display || display === 'none') {{\n            console.log([gd, 'removed!']);\n            Plotly.purge(gd);\n            observer.disconnect();\n        }}\n}});\n\n// Listen for the removal of the full notebook cells\nvar notebookContainer = gd.closest('#notebook-container');\nif (notebookContainer) {{\n    x.observe(notebookContainer, {childList: true});\n}}\n\n// Listen for the clearing of the current output cell\nvar outputEl = gd.closest('.output');\nif (outputEl) {{\n    x.observe(outputEl, {childList: true});\n}}\n\n                        })                };                });            </script>        </div>"
     },
     "metadata": {},
     "output_type": "display_data"
    }
   ],
   "source": [
    "figure = px.line(df.query(\"num_samples > 0\"),\n",
    "                 x=\"num_samples\",\n",
    "                 y=\"time\",\n",
    "                 color=\"test_type\",\n",
    "                 facet_col=\"input_type\",\n",
    "                 title=\"Sorting algorithms\",\n",
    "                 labels={\"num_samples\": \"Dimensione array\", \"time\": \"Time (s)\", \"test_type\": \"Algoritmo di ordinamento\", \"input_type\": \"Tipo di input\"})\n",
    "figure.show()"
   ],
   "metadata": {
    "collapsed": false
   }
  },
  {
   "cell_type": "markdown",
   "source": [
    "Aumentando il range di generazione dei numeri, il tempo impiegato dal _counting sort_ per ordinare l'array è molto più ingente, in quanto il costo computazionale del _counting sort_ è legato al range di generazione dei numeri; più è elevato il valore massimo dell'array, più il costo computazionale sarà elevato. Notiamo che comunque il tempo impiegato dal _counting sort_ ha sempre andamento pressochè lineare, aldilà di qualche piccola variazione nell'andamento nell'ordine dei millisecondi, dovuta probabilmente anche al fatto che il tempo impiegato per eseguire il test è molto basso."
   ],
   "metadata": {
    "collapsed": false
   }
  },
  {
   "cell_type": "markdown",
   "source": [
    "#### Array di dimensione 1000 con range da 0 a 1000000"
   ],
   "metadata": {
    "collapsed": false
   }
  },
  {
   "cell_type": "code",
   "execution_count": 221,
   "outputs": [],
   "source": [
    "df = plot_results(1000, 10, (0, 1000000))"
   ],
   "metadata": {
    "collapsed": false
   }
  },
  {
   "cell_type": "code",
   "execution_count": 222,
   "outputs": [
    {
     "data": {
      "application/vnd.plotly.v1+json": {
       "data": [
        {
         "hovertemplate": "Algoritmo di ordinamento=insertion_sort<br>Tipo di input=random<br>Dimensione array=%{x}<br>Time (s)=%{y}<extra></extra>",
         "legendgroup": "insertion_sort",
         "line": {
          "color": "#636efa",
          "dash": "solid"
         },
         "marker": {
          "symbol": "circle"
         },
         "mode": "lines",
         "name": "insertion_sort",
         "orientation": "v",
         "showlegend": true,
         "x": [
          10,
          20,
          30,
          40,
          50,
          60,
          70,
          80,
          90,
          100,
          110,
          120,
          130,
          140,
          150,
          160,
          170,
          180,
          190,
          200,
          210,
          220,
          230,
          240,
          250,
          260,
          270,
          280,
          290,
          300,
          310,
          320,
          330,
          340,
          350,
          360,
          370,
          380,
          390,
          400,
          410,
          420,
          430,
          440,
          450,
          460,
          470,
          480,
          490,
          500,
          510,
          520,
          530,
          540,
          550,
          560,
          570,
          580,
          590,
          600,
          610,
          620,
          630,
          640,
          650,
          660,
          670,
          680,
          690,
          700,
          710,
          720,
          730,
          740,
          750,
          760,
          770,
          780,
          790,
          800,
          810,
          820,
          830,
          840,
          850,
          860,
          870,
          880,
          890,
          900,
          910,
          920,
          930,
          940,
          950,
          960,
          970,
          980,
          990
         ],
         "xaxis": "x",
         "y": [
          4.600035026669502E-6,
          1.2500036973506212E-5,
          4.0599959902465343E-5,
          6.890000076964498E-5,
          9.600003249943256E-5,
          1.5330000314861536E-4,
          2.2390001686289907E-4,
          2.797000342980027E-4,
          2.0629999926313758E-4,
          2.5350000942125916E-4,
          3.1350000062957406E-4,
          3.8790004327893257E-4,
          4.341999883763492E-4,
          5.477999802678823E-4,
          5.565999890677631E-4,
          7.011000416241586E-4,
          6.739000091329217E-4,
          8.036000072024763E-4,
          9.276000200770795E-4,
          9.873000090010464E-4,
          0.0011621000012382865,
          0.0012657999759539962,
          0.0012325000134296715,
          0.0014078000094741583,
          0.0015806000446900725,
          0.0016373000107705593,
          0.0017464999691583216,
          0.0023435999755747616,
          0.0021738000214099884,
          0.0022533999872393906,
          0.0025165999541059136,
          0.0026253999676555395,
          0.0026745000504888594,
          0.0030956999980844557,
          0.0032476999913342297,
          0.003061399969737977,
          0.003927099984139204,
          0.003728099982254207,
          0.003914000000804663,
          0.004017599974758923,
          0.004385199979878962,
          0.004862100002355874,
          0.0048723999643698335,
          0.005037800001446158,
          0.0053616000222973526,
          0.005635499954223633,
          0.005904699966777116,
          0.006545000011101365,
          0.006374099990352988,
          0.007447199954185635,
          0.0079917999682948,
          0.007950700004585087,
          0.007479499967303127,
          0.008242700016126037,
          0.00769840000430122,
          0.007919700001366436,
          0.008321400033310056,
          0.008610799966845661,
          0.009055199974682182,
          0.009517899947240949,
          0.009469599986914545,
          0.01064970000879839,
          0.011074399983044714,
          0.010967700043693185,
          0.011432399973273277,
          0.012044399976730347,
          0.01230760000180453,
          0.01263800001470372,
          0.013683199998922646,
          0.013722100004088134,
          0.01850990002276376,
          0.025029499956872314,
          0.026258800004143268,
          0.0265207999618724,
          0.027257499983534217,
          0.018793799972627312,
          0.016467400011606514,
          0.016867600032128394,
          0.017063200008124113,
          0.017354899959173054,
          0.019090800022240728,
          0.01882100000511855,
          0.01923869998427108,
          0.019584399997256696,
          0.020019799994770437,
          0.020727100025396794,
          0.02051310002570972,
          0.02204479998908937,
          0.021394999988842756,
          0.02182119997451082,
          0.023890400014352053,
          0.023471100023016334,
          0.024608899955637753,
          0.02461659995606169,
          0.024941899988334626,
          0.024935699999332428,
          0.02572660002624616,
          0.027811599953565747,
          0.028410299972165376
         ],
         "yaxis": "y",
         "type": "scatter"
        },
        {
         "hovertemplate": "Algoritmo di ordinamento=insertion_sort<br>Tipo di input=sorted<br>Dimensione array=%{x}<br>Time (s)=%{y}<extra></extra>",
         "legendgroup": "insertion_sort",
         "line": {
          "color": "#636efa",
          "dash": "solid"
         },
         "marker": {
          "symbol": "circle"
         },
         "mode": "lines",
         "name": "insertion_sort",
         "orientation": "v",
         "showlegend": false,
         "x": [
          10,
          20,
          30,
          40,
          50,
          60,
          70,
          80,
          90,
          100,
          110,
          120,
          130,
          140,
          150,
          160,
          170,
          180,
          190,
          200,
          210,
          220,
          230,
          240,
          250,
          260,
          270,
          280,
          290,
          300,
          310,
          320,
          330,
          340,
          350,
          360,
          370,
          380,
          390,
          400,
          410,
          420,
          430,
          440,
          450,
          460,
          470,
          480,
          490,
          500,
          510,
          520,
          530,
          540,
          550,
          560,
          570,
          580,
          590,
          600,
          610,
          620,
          630,
          640,
          650,
          660,
          670,
          680,
          690,
          700,
          710,
          720,
          730,
          740,
          750,
          760,
          770,
          780,
          790,
          800,
          810,
          820,
          830,
          840,
          850,
          860,
          870,
          880,
          890,
          900,
          910,
          920,
          930,
          940,
          950,
          960,
          970,
          980,
          990
         ],
         "xaxis": "x2",
         "y": [
          2.400018274784088E-6,
          3.200024366378784E-6,
          4.199973773211241E-6,
          5.200039595365524E-6,
          6.199989002197981E-6,
          7.399998139590025E-6,
          8.600007276982069E-6,
          9.599956683814526E-6,
          1.0800024028867483E-5,
          1.1999974958598614E-5,
          1.309998333454132E-5,
          1.4199991710484028E-5,
          1.5400000847876072E-5,
          1.6600009985268116E-5,
          1.7600017599761486E-5,
          1.8799968529492617E-5,
          1.9899976905435324E-5,
          2.099998528137803E-5,
          2.2199994418770075E-5,
          2.329994458705187E-5,
          2.4500011932104826E-5,
          2.5600020308047533E-5,
          2.6800029445439577E-5,
          2.789997961372137E-5,
          2.8999987989664078E-5,
          3.090000245720148E-5,
          3.220001235604286E-5,
          3.320001997053623E-5,
          3.439997090026736E-5,
          3.600004129111767E-5,
          3.759999526664615E-5,
          3.850000211969018E-5,
          3.9700011257082224E-5,
          4.1599967516958714E-5,
          4.309997893869877E-5,
          4.3899985030293465E-5,
          4.529999569058418E-5,
          4.740001168102026E-5,
          4.880002234131098E-5,
          4.9400026910007E-5,
          5.059997783973813E-5,
          5.299999611452222E-5,
          5.43000060133636E-5,
          5.460000829771161E-5,
          5.6100019719451666E-5,
          5.819997750222683E-5,
          5.89000410400331E-5,
          6.0100050177425146E-5,
          6.150000263005495E-5,
          6.280001252889633E-5,
          6.429996574297547E-5,
          6.549997488036752E-5,
          6.699998630210757E-5,
          1.0939995991066098E-4,
          6.960000609979033E-5,
          7.080001523718238E-5,
          7.230002665892243E-5,
          7.369997911155224E-5,
          7.51999905332923E-5,
          7.639999967068434E-5,
          7.770000956952572E-5,
          7.910002022981644E-5,
          8.049997268244624E-5,
          8.179998258128762E-5,
          8.330005221068859E-5,
          8.459994569420815E-5,
          8.620001608505845E-5,
          8.719996549189091E-5,
          8.87999776750803E-5,
          8.999998681247234E-5,
          9.139999747276306E-5,
          9.270000737160444E-5,
          9.410001803189516E-5,
          9.540002793073654E-5,
          9.680003859102726E-5,
          9.820004925131798E-5,
          9.950000094249845E-5,
          1.0080001084133983E-4,
          1.0200001997873187E-4,
          1.0350003140047193E-4,
          1.0489998385310173E-4,
          1.0559998918324709E-4,
          1.0689999908208847E-4,
          1.0849995305761695E-4,
          1.094000181183219E-4,
          1.105000264942646E-4,
          1.1219998123124242E-4,
          1.1339999036863446E-4,
          1.145999995060265E-4,
          1.162000116892159E-4,
          1.1729996185749769E-4,
          1.1879997327923775E-4,
          1.2019998393952847E-4,
          1.2159999459981918E-4,
          1.2260000221431255E-4,
          1.2430001515895128E-4,
          1.2530002277344465E-4,
          1.2690003495663404E-4,
          1.281999866478145E-4
         ],
         "yaxis": "y2",
         "type": "scatter"
        },
        {
         "hovertemplate": "Algoritmo di ordinamento=insertion_sort<br>Tipo di input=reversed<br>Dimensione array=%{x}<br>Time (s)=%{y}<extra></extra>",
         "legendgroup": "insertion_sort",
         "line": {
          "color": "#636efa",
          "dash": "solid"
         },
         "marker": {
          "symbol": "circle"
         },
         "mode": "lines",
         "name": "insertion_sort",
         "orientation": "v",
         "showlegend": false,
         "x": [
          10,
          20,
          30,
          40,
          50,
          60,
          70,
          80,
          90,
          100,
          110,
          120,
          130,
          140,
          150,
          160,
          170,
          180,
          190,
          200,
          210,
          220,
          230,
          240,
          250,
          260,
          270,
          280,
          290,
          300,
          310,
          320,
          330,
          340,
          350,
          360,
          370,
          380,
          390,
          400,
          410,
          420,
          430,
          440,
          450,
          460,
          470,
          480,
          490,
          500,
          510,
          520,
          530,
          540,
          550,
          560,
          570,
          580,
          590,
          600,
          610,
          620,
          630,
          640,
          650,
          660,
          670,
          680,
          690,
          700,
          710,
          720,
          730,
          740,
          750,
          760,
          770,
          780,
          790,
          800,
          810,
          820,
          830,
          840,
          850,
          860,
          870,
          880,
          890,
          900,
          910,
          920,
          930,
          940,
          950,
          960,
          970,
          980,
          990
         ],
         "xaxis": "x3",
         "y": [
          7.199996616691351E-6,
          2.2199994418770075E-5,
          4.7600013203918934E-5,
          8.329999400302768E-5,
          1.2919999426230788E-4,
          1.8450000789016485E-4,
          2.508999896235764E-4,
          3.263999824412167E-4,
          4.1280000004917383E-4,
          5.07200020365417E-4,
          6.113999988883734E-4,
          7.269000052474439E-4,
          8.526999736204743E-4,
          9.914999827742577E-4,
          0.0011553000076673925,
          0.0013015999575145543,
          0.0014588000485673547,
          0.0016399999731220305,
          0.001846900035161525,
          0.0020411000004969537,
          0.002228899975307286,
          0.0024465000024065375,
          0.00269349996233359,
          0.002906800014898181,
          0.0032147999736480415,
          0.0034081999910995364,
          0.003715300001204014,
          0.0039929000195115805,
          0.004299199965316802,
          0.004558899963740259,
          0.00493669998832047,
          0.005208699963986874,
          0.005555199983064085,
          0.005955800006631762,
          0.006270900019444525,
          0.00663610000628978,
          0.007041399949230254,
          0.007436000043526292,
          0.007844200008548796,
          0.008315699989907444,
          0.008716899959836155,
          0.00915190001251176,
          0.00961569999344647,
          0.010085699963383377,
          0.010532899992540479,
          0.011115300003439188,
          0.011452200007624924,
          0.011955900001339614,
          0.012602000031620264,
          0.0131746000261046,
          0.013620200043078512,
          0.014150000002700835,
          0.014708500006236136,
          0.015166600001975894,
          0.015883900050539523,
          0.016431899974122643,
          0.016880400013178587,
          0.01763409998966381,
          0.01841070002410561,
          0.01894949999405071,
          0.019630499999038875,
          0.020248300046660006,
          0.021111100038979203,
          0.021751899970695376,
          0.022491799958515912,
          0.02313250000588596,
          0.024145999981556088,
          0.025050199998077005,
          0.025832099956460297,
          0.026502299995627254,
          0.03539589996216819,
          0.02662330004386604,
          0.02807070000562817,
          0.028840399987529963,
          0.029674099991098046,
          0.03036089998204261,
          0.030974799999967217,
          0.03132140001980588,
          0.03228759998455644,
          0.03311130002839491,
          0.03385350003372878,
          0.03458929999032989,
          0.03600050002569333,
          0.03702859999611974,
          0.03775119996862486,
          0.03901470004348084,
          0.04011050000553951,
          0.04097560001537204,
          0.04207059997133911,
          0.042869400000199676,
          0.043977799999993294,
          0.04487030004383996,
          0.04544939997140318,
          0.04649560002144426,
          0.047764900024048984,
          0.04851990001043305,
          0.04931109998142347,
          0.05087400000775233,
          0.05241199996089563
         ],
         "yaxis": "y3",
         "type": "scatter"
        },
        {
         "hovertemplate": "Algoritmo di ordinamento=counting_sort<br>Tipo di input=random<br>Dimensione array=%{x}<br>Time (s)=%{y}<extra></extra>",
         "legendgroup": "counting_sort",
         "line": {
          "color": "#EF553B",
          "dash": "solid"
         },
         "marker": {
          "symbol": "circle"
         },
         "mode": "lines",
         "name": "counting_sort",
         "orientation": "v",
         "showlegend": true,
         "x": [
          10,
          20,
          30,
          40,
          50,
          60,
          70,
          80,
          90,
          100,
          110,
          120,
          130,
          140,
          150,
          160,
          170,
          180,
          190,
          200,
          210,
          220,
          230,
          240,
          250,
          260,
          270,
          280,
          290,
          300,
          310,
          320,
          330,
          340,
          350,
          360,
          370,
          380,
          390,
          400,
          410,
          420,
          430,
          440,
          450,
          460,
          470,
          480,
          490,
          500,
          510,
          520,
          530,
          540,
          550,
          560,
          570,
          580,
          590,
          600,
          610,
          620,
          630,
          640,
          650,
          660,
          670,
          680,
          690,
          700,
          710,
          720,
          730,
          740,
          750,
          760,
          770,
          780,
          790,
          800,
          810,
          820,
          830,
          840,
          850,
          860,
          870,
          880,
          890,
          900,
          910,
          920,
          930,
          940,
          950,
          960,
          970,
          980,
          990
         ],
         "xaxis": "x",
         "y": [
          0.08732400002190843,
          0.08842020004522055,
          0.08491450001019984,
          0.08598540001548827,
          0.08579709997866303,
          0.08150029997341335,
          0.0882774000056088,
          0.08789650001563132,
          0.08653319999575615,
          0.08675489999586716,
          0.08662979997461662,
          0.11303120001684874,
          0.09766529995249584,
          0.08373179996851832,
          0.08176649996312335,
          0.08403650001855567,
          0.08415120001882315,
          0.08816369995474815,
          0.0962829000200145,
          0.08513540000421926,
          0.08385450002970174,
          0.08602290000999346,
          0.0861307000159286,
          0.08693749998928979,
          0.08421030000317842,
          0.08216380001977086,
          0.08617249998496845,
          0.08692799997515976,
          0.09447239997098222,
          0.08828580001136288,
          0.08608789998106658,
          0.08724530000472441,
          0.09143630001926795,
          0.0888039999990724,
          0.09213960001943633,
          0.11354180000489578,
          0.11603430000832304,
          0.08728019997943193,
          0.09001149999676272,
          0.0893878000206314,
          0.09139150002738461,
          0.08913149998988956,
          0.09043719997862354,
          0.09342829999513924,
          0.09113199997227639,
          0.09267929999623448,
          0.09160189999965951,
          0.08768019999843091,
          0.09063470002729446,
          0.09207200002856553,
          0.10075569996843114,
          0.09214600000996143,
          0.09167140000499785,
          0.09262529999250546,
          0.0960516999475658,
          0.09221070003695786,
          0.09383999998681247,
          0.09493200003635138,
          0.13153059995966032,
          0.11346329998923466,
          0.09341750002931803,
          0.0919075999991037,
          0.10897960001602769,
          0.09878120000939816,
          0.09601289994316176,
          0.09630639996612445,
          0.09507809998467565,
          0.0903688000398688,
          0.09560810000402853,
          0.09522359998663887,
          0.09603860002243891,
          0.09531830000923946,
          0.09643850004067644,
          0.09733179997419938,
          0.09631199995055795,
          0.09705229999963194,
          0.09388010000111535,
          0.09091699996497482,
          0.09086950001074001,
          0.10365109995473176,
          0.1516937999986112,
          0.10071089997654781,
          0.09634650003863499,
          0.10772700002416968,
          0.09567180002341047,
          0.09769419999793172,
          0.10117530002025887,
          0.09562699997331947,
          0.09830610000062734,
          0.09576179995201528,
          0.09523199999239296,
          0.09432829997967929,
          0.10021980002056807,
          0.09865649999119341,
          0.09753019997151569,
          0.10113550000824034,
          0.1014384999871254,
          0.10855280002579093,
          0.09985659999074414
         ],
         "yaxis": "y",
         "type": "scatter"
        },
        {
         "hovertemplate": "Algoritmo di ordinamento=counting_sort<br>Tipo di input=sorted<br>Dimensione array=%{x}<br>Time (s)=%{y}<extra></extra>",
         "legendgroup": "counting_sort",
         "line": {
          "color": "#EF553B",
          "dash": "solid"
         },
         "marker": {
          "symbol": "circle"
         },
         "mode": "lines",
         "name": "counting_sort",
         "orientation": "v",
         "showlegend": false,
         "x": [
          10,
          20,
          30,
          40,
          50,
          60,
          70,
          80,
          90,
          100,
          110,
          120,
          130,
          140,
          150,
          160,
          170,
          180,
          190,
          200,
          210,
          220,
          230,
          240,
          250,
          260,
          270,
          280,
          290,
          300,
          310,
          320,
          330,
          340,
          350,
          360,
          370,
          380,
          390,
          400,
          410,
          420,
          430,
          440,
          450,
          460,
          470,
          480,
          490,
          500,
          510,
          520,
          530,
          540,
          550,
          560,
          570,
          580,
          590,
          600,
          610,
          620,
          630,
          640,
          650,
          660,
          670,
          680,
          690,
          700,
          710,
          720,
          730,
          740,
          750,
          760,
          770,
          780,
          790,
          800,
          810,
          820,
          830,
          840,
          850,
          860,
          870,
          880,
          890,
          900,
          910,
          920,
          930,
          940,
          950,
          960,
          970,
          980,
          990
         ],
         "xaxis": "x2",
         "y": [
          0.08017470000777394,
          0.08577259996673092,
          0.11033320002024993,
          0.10971759998938069,
          0.08673399995313957,
          0.0885489999782294,
          0.09088859998155385,
          0.08748449996346608,
          0.08840949996374547,
          0.08510159997968003,
          0.08936769998399541,
          0.09178509999765083,
          0.09046340000350028,
          0.0864651000010781,
          0.08637649996671826,
          0.08882830000948161,
          0.08625619998201728,
          0.08736020000651479,
          0.08314850000897422,
          0.08610630000475794,
          0.0886733999941498,
          0.08562359999632463,
          0.08972620003623888,
          0.08727810002164915,
          0.08758280001347885,
          0.08594059996539727,
          0.10291429999051616,
          0.11925879999762401,
          0.0920375999994576,
          0.09345099999336526,
          0.08788050001021475,
          0.09378679998917505,
          0.09300649998476729,
          0.09190170001238585,
          0.09198219998506829,
          0.09323549998225644,
          0.0941270999610424,
          0.09261499997228384,
          0.09238429996185005,
          0.09393050003563985,
          0.09462270000949502,
          0.09668020001845434,
          0.10078040004009381,
          0.09168940002564341,
          0.09225310001056641,
          0.0931294999900274,
          0.0881045000278391,
          0.09206309996079654,
          0.09177400002954528,
          0.10916450002696365,
          0.1291864999802783,
          0.0945699000149034,
          0.09581410000100732,
          0.0937817000085488,
          0.09451310004806146,
          0.09432189998915419,
          0.09589879994746298,
          0.093917699996382,
          0.09470960003091022,
          0.09421259997179732,
          0.09741450002184138,
          0.09376960003282875,
          0.09593920002225786,
          0.09899730002507567,
          0.1097359000123106,
          0.1000120000098832,
          0.09753440000349656,
          0.10061860003042966,
          0.09583209996344522,
          0.10307559999637306,
          0.0967034000204876,
          0.12094410002464429,
          0.11729760002344847,
          0.09413949999725446,
          0.09813559998292476,
          0.09529600001405925,
          0.09477550000883639,
          0.09788640000624582,
          0.09676230000331998,
          0.09702610003296286,
          0.1012504999525845,
          0.10128880001138896,
          0.09951040003215894,
          0.09590680000837892,
          0.103541899996344,
          0.10371039999881759,
          0.09228320000693202,
          0.09364459995413199,
          0.09650539996800944,
          0.09711820003576577,
          0.09687509998911992,
          0.09869080001953989,
          0.09803579997969791,
          0.15092400001594797,
          0.09674169996287674,
          0.10078630002681166,
          0.09978349995799363,
          0.10121469997102395,
          0.10034410003572702
         ],
         "yaxis": "y2",
         "type": "scatter"
        },
        {
         "hovertemplate": "Algoritmo di ordinamento=counting_sort<br>Tipo di input=reversed<br>Dimensione array=%{x}<br>Time (s)=%{y}<extra></extra>",
         "legendgroup": "counting_sort",
         "line": {
          "color": "#EF553B",
          "dash": "solid"
         },
         "marker": {
          "symbol": "circle"
         },
         "mode": "lines",
         "name": "counting_sort",
         "orientation": "v",
         "showlegend": false,
         "x": [
          10,
          20,
          30,
          40,
          50,
          60,
          70,
          80,
          90,
          100,
          110,
          120,
          130,
          140,
          150,
          160,
          170,
          180,
          190,
          200,
          210,
          220,
          230,
          240,
          250,
          260,
          270,
          280,
          290,
          300,
          310,
          320,
          330,
          340,
          350,
          360,
          370,
          380,
          390,
          400,
          410,
          420,
          430,
          440,
          450,
          460,
          470,
          480,
          490,
          500,
          510,
          520,
          530,
          540,
          550,
          560,
          570,
          580,
          590,
          600,
          610,
          620,
          630,
          640,
          650,
          660,
          670,
          680,
          690,
          700,
          710,
          720,
          730,
          740,
          750,
          760,
          770,
          780,
          790,
          800,
          810,
          820,
          830,
          840,
          850,
          860,
          870,
          880,
          890,
          900,
          910,
          920,
          930,
          940,
          950,
          960,
          970,
          980,
          990
         ],
         "xaxis": "x3",
         "y": [
          0.08561130001908168,
          0.08806579996598884,
          0.07867560000158846,
          0.08710390003398061,
          0.08502510003745556,
          0.09108899999409914,
          0.08634619996882975,
          0.0885437999968417,
          0.08788130001630634,
          0.08704979997128248,
          0.08361799997510388,
          0.0896839999477379,
          0.09296009998070076,
          0.09258779999800026,
          0.08921549998922274,
          0.09093800000846386,
          0.08851770003093407,
          0.12821860000258312,
          0.08779120002873242,
          0.09071949997451156,
          0.08575560001190752,
          0.09044490003725514,
          0.08564589999150485,
          0.09012129995971918,
          0.08688810002058744,
          0.08300669997697696,
          0.08779489999869838,
          0.09148659999482334,
          0.09196720004547387,
          0.10190539999166504,
          0.09015740000177175,
          0.08791479998035356,
          0.09647549997316673,
          0.08806169999297708,
          0.09306779998587444,
          0.09577620000345632,
          0.09327610000036657,
          0.09518050000770018,
          0.09476330003235489,
          0.09525469999061897,
          0.13882870000088587,
          0.09589120000600815,
          0.09197320003295317,
          0.09211760002654046,
          0.09357099997578189,
          0.096138900029473,
          0.09403360000578687,
          0.09417070000199601,
          0.09393590001855046,
          0.09463450004113838,
          0.09500580001622438,
          0.09478879999369383,
          0.09383660001913086,
          0.09188630001153797,
          0.09677090001059696,
          0.10457129997666925,
          0.10941360000288114,
          0.09735160000855103,
          0.09594540001126006,
          0.09552079997956753,
          0.09752269997261465,
          0.094669200014323,
          0.12802110001211986,
          0.0972298999549821,
          0.09424319997197017,
          0.11044499999843538,
          0.09852010000031441,
          0.10660030000144616,
          0.09704219998093322,
          0.09879560000263155,
          0.09742599999299273,
          0.1145951000507921,
          0.13326329999836162,
          0.09905339998658746,
          0.09903189999749884,
          0.0958913000067696,
          0.09706429997459054,
          0.09681740001542494,
          0.09738410002319142,
          0.0976786999963224,
          0.09699940000427887,
          0.09749299997929484,
          0.0973006000276655,
          0.09860910003772005,
          0.09655860002385452,
          0.09740110003622249,
          0.09760510001797229,
          0.09699360001832247,
          0.09374059998663142,
          0.0975715999957174,
          0.09812360000796616,
          0.09824070002650842,
          0.09797829994931817,
          0.0976086999871768,
          0.09840149997035041,
          0.0975353000103496,
          0.09870749997207895,
          0.097813899978064,
          0.09778290003305301
         ],
         "yaxis": "y3",
         "type": "scatter"
        }
       ],
       "layout": {
        "template": {
         "data": {
          "histogram2dcontour": [
           {
            "type": "histogram2dcontour",
            "colorbar": {
             "outlinewidth": 0,
             "ticks": ""
            },
            "colorscale": [
             [
              0.0,
              "#0d0887"
             ],
             [
              0.1111111111111111,
              "#46039f"
             ],
             [
              0.2222222222222222,
              "#7201a8"
             ],
             [
              0.3333333333333333,
              "#9c179e"
             ],
             [
              0.4444444444444444,
              "#bd3786"
             ],
             [
              0.5555555555555556,
              "#d8576b"
             ],
             [
              0.6666666666666666,
              "#ed7953"
             ],
             [
              0.7777777777777778,
              "#fb9f3a"
             ],
             [
              0.8888888888888888,
              "#fdca26"
             ],
             [
              1.0,
              "#f0f921"
             ]
            ]
           }
          ],
          "choropleth": [
           {
            "type": "choropleth",
            "colorbar": {
             "outlinewidth": 0,
             "ticks": ""
            }
           }
          ],
          "histogram2d": [
           {
            "type": "histogram2d",
            "colorbar": {
             "outlinewidth": 0,
             "ticks": ""
            },
            "colorscale": [
             [
              0.0,
              "#0d0887"
             ],
             [
              0.1111111111111111,
              "#46039f"
             ],
             [
              0.2222222222222222,
              "#7201a8"
             ],
             [
              0.3333333333333333,
              "#9c179e"
             ],
             [
              0.4444444444444444,
              "#bd3786"
             ],
             [
              0.5555555555555556,
              "#d8576b"
             ],
             [
              0.6666666666666666,
              "#ed7953"
             ],
             [
              0.7777777777777778,
              "#fb9f3a"
             ],
             [
              0.8888888888888888,
              "#fdca26"
             ],
             [
              1.0,
              "#f0f921"
             ]
            ]
           }
          ],
          "heatmap": [
           {
            "type": "heatmap",
            "colorbar": {
             "outlinewidth": 0,
             "ticks": ""
            },
            "colorscale": [
             [
              0.0,
              "#0d0887"
             ],
             [
              0.1111111111111111,
              "#46039f"
             ],
             [
              0.2222222222222222,
              "#7201a8"
             ],
             [
              0.3333333333333333,
              "#9c179e"
             ],
             [
              0.4444444444444444,
              "#bd3786"
             ],
             [
              0.5555555555555556,
              "#d8576b"
             ],
             [
              0.6666666666666666,
              "#ed7953"
             ],
             [
              0.7777777777777778,
              "#fb9f3a"
             ],
             [
              0.8888888888888888,
              "#fdca26"
             ],
             [
              1.0,
              "#f0f921"
             ]
            ]
           }
          ],
          "heatmapgl": [
           {
            "type": "heatmapgl",
            "colorbar": {
             "outlinewidth": 0,
             "ticks": ""
            },
            "colorscale": [
             [
              0.0,
              "#0d0887"
             ],
             [
              0.1111111111111111,
              "#46039f"
             ],
             [
              0.2222222222222222,
              "#7201a8"
             ],
             [
              0.3333333333333333,
              "#9c179e"
             ],
             [
              0.4444444444444444,
              "#bd3786"
             ],
             [
              0.5555555555555556,
              "#d8576b"
             ],
             [
              0.6666666666666666,
              "#ed7953"
             ],
             [
              0.7777777777777778,
              "#fb9f3a"
             ],
             [
              0.8888888888888888,
              "#fdca26"
             ],
             [
              1.0,
              "#f0f921"
             ]
            ]
           }
          ],
          "contourcarpet": [
           {
            "type": "contourcarpet",
            "colorbar": {
             "outlinewidth": 0,
             "ticks": ""
            }
           }
          ],
          "contour": [
           {
            "type": "contour",
            "colorbar": {
             "outlinewidth": 0,
             "ticks": ""
            },
            "colorscale": [
             [
              0.0,
              "#0d0887"
             ],
             [
              0.1111111111111111,
              "#46039f"
             ],
             [
              0.2222222222222222,
              "#7201a8"
             ],
             [
              0.3333333333333333,
              "#9c179e"
             ],
             [
              0.4444444444444444,
              "#bd3786"
             ],
             [
              0.5555555555555556,
              "#d8576b"
             ],
             [
              0.6666666666666666,
              "#ed7953"
             ],
             [
              0.7777777777777778,
              "#fb9f3a"
             ],
             [
              0.8888888888888888,
              "#fdca26"
             ],
             [
              1.0,
              "#f0f921"
             ]
            ]
           }
          ],
          "surface": [
           {
            "type": "surface",
            "colorbar": {
             "outlinewidth": 0,
             "ticks": ""
            },
            "colorscale": [
             [
              0.0,
              "#0d0887"
             ],
             [
              0.1111111111111111,
              "#46039f"
             ],
             [
              0.2222222222222222,
              "#7201a8"
             ],
             [
              0.3333333333333333,
              "#9c179e"
             ],
             [
              0.4444444444444444,
              "#bd3786"
             ],
             [
              0.5555555555555556,
              "#d8576b"
             ],
             [
              0.6666666666666666,
              "#ed7953"
             ],
             [
              0.7777777777777778,
              "#fb9f3a"
             ],
             [
              0.8888888888888888,
              "#fdca26"
             ],
             [
              1.0,
              "#f0f921"
             ]
            ]
           }
          ],
          "mesh3d": [
           {
            "type": "mesh3d",
            "colorbar": {
             "outlinewidth": 0,
             "ticks": ""
            }
           }
          ],
          "scatter": [
           {
            "marker": {
             "line": {
              "color": "#283442"
             }
            },
            "type": "scatter"
           }
          ],
          "parcoords": [
           {
            "type": "parcoords",
            "line": {
             "colorbar": {
              "outlinewidth": 0,
              "ticks": ""
             }
            }
           }
          ],
          "scatterpolargl": [
           {
            "type": "scatterpolargl",
            "marker": {
             "colorbar": {
              "outlinewidth": 0,
              "ticks": ""
             }
            }
           }
          ],
          "bar": [
           {
            "error_x": {
             "color": "#f2f5fa"
            },
            "error_y": {
             "color": "#f2f5fa"
            },
            "marker": {
             "line": {
              "color": "rgb(17,17,17)",
              "width": 0.5
             },
             "pattern": {
              "fillmode": "overlay",
              "size": 10,
              "solidity": 0.2
             }
            },
            "type": "bar"
           }
          ],
          "scattergeo": [
           {
            "type": "scattergeo",
            "marker": {
             "colorbar": {
              "outlinewidth": 0,
              "ticks": ""
             }
            }
           }
          ],
          "scatterpolar": [
           {
            "type": "scatterpolar",
            "marker": {
             "colorbar": {
              "outlinewidth": 0,
              "ticks": ""
             }
            }
           }
          ],
          "histogram": [
           {
            "marker": {
             "pattern": {
              "fillmode": "overlay",
              "size": 10,
              "solidity": 0.2
             }
            },
            "type": "histogram"
           }
          ],
          "scattergl": [
           {
            "marker": {
             "line": {
              "color": "#283442"
             }
            },
            "type": "scattergl"
           }
          ],
          "scatter3d": [
           {
            "type": "scatter3d",
            "line": {
             "colorbar": {
              "outlinewidth": 0,
              "ticks": ""
             }
            },
            "marker": {
             "colorbar": {
              "outlinewidth": 0,
              "ticks": ""
             }
            }
           }
          ],
          "scattermapbox": [
           {
            "type": "scattermapbox",
            "marker": {
             "colorbar": {
              "outlinewidth": 0,
              "ticks": ""
             }
            }
           }
          ],
          "scatterternary": [
           {
            "type": "scatterternary",
            "marker": {
             "colorbar": {
              "outlinewidth": 0,
              "ticks": ""
             }
            }
           }
          ],
          "scattercarpet": [
           {
            "type": "scattercarpet",
            "marker": {
             "colorbar": {
              "outlinewidth": 0,
              "ticks": ""
             }
            }
           }
          ],
          "carpet": [
           {
            "aaxis": {
             "endlinecolor": "#A2B1C6",
             "gridcolor": "#506784",
             "linecolor": "#506784",
             "minorgridcolor": "#506784",
             "startlinecolor": "#A2B1C6"
            },
            "baxis": {
             "endlinecolor": "#A2B1C6",
             "gridcolor": "#506784",
             "linecolor": "#506784",
             "minorgridcolor": "#506784",
             "startlinecolor": "#A2B1C6"
            },
            "type": "carpet"
           }
          ],
          "table": [
           {
            "cells": {
             "fill": {
              "color": "#506784"
             },
             "line": {
              "color": "rgb(17,17,17)"
             }
            },
            "header": {
             "fill": {
              "color": "#2a3f5f"
             },
             "line": {
              "color": "rgb(17,17,17)"
             }
            },
            "type": "table"
           }
          ],
          "barpolar": [
           {
            "marker": {
             "line": {
              "color": "rgb(17,17,17)",
              "width": 0.5
             },
             "pattern": {
              "fillmode": "overlay",
              "size": 10,
              "solidity": 0.2
             }
            },
            "type": "barpolar"
           }
          ],
          "pie": [
           {
            "automargin": true,
            "type": "pie"
           }
          ]
         },
         "layout": {
          "autotypenumbers": "strict",
          "colorway": [
           "#636efa",
           "#EF553B",
           "#00cc96",
           "#ab63fa",
           "#FFA15A",
           "#19d3f3",
           "#FF6692",
           "#B6E880",
           "#FF97FF",
           "#FECB52"
          ],
          "font": {
           "color": "#f2f5fa"
          },
          "hovermode": "closest",
          "hoverlabel": {
           "align": "left"
          },
          "paper_bgcolor": "rgb(17,17,17)",
          "plot_bgcolor": "rgb(17,17,17)",
          "polar": {
           "bgcolor": "rgb(17,17,17)",
           "angularaxis": {
            "gridcolor": "#506784",
            "linecolor": "#506784",
            "ticks": ""
           },
           "radialaxis": {
            "gridcolor": "#506784",
            "linecolor": "#506784",
            "ticks": ""
           }
          },
          "ternary": {
           "bgcolor": "rgb(17,17,17)",
           "aaxis": {
            "gridcolor": "#506784",
            "linecolor": "#506784",
            "ticks": ""
           },
           "baxis": {
            "gridcolor": "#506784",
            "linecolor": "#506784",
            "ticks": ""
           },
           "caxis": {
            "gridcolor": "#506784",
            "linecolor": "#506784",
            "ticks": ""
           }
          },
          "coloraxis": {
           "colorbar": {
            "outlinewidth": 0,
            "ticks": ""
           }
          },
          "colorscale": {
           "sequential": [
            [
             0.0,
             "#0d0887"
            ],
            [
             0.1111111111111111,
             "#46039f"
            ],
            [
             0.2222222222222222,
             "#7201a8"
            ],
            [
             0.3333333333333333,
             "#9c179e"
            ],
            [
             0.4444444444444444,
             "#bd3786"
            ],
            [
             0.5555555555555556,
             "#d8576b"
            ],
            [
             0.6666666666666666,
             "#ed7953"
            ],
            [
             0.7777777777777778,
             "#fb9f3a"
            ],
            [
             0.8888888888888888,
             "#fdca26"
            ],
            [
             1.0,
             "#f0f921"
            ]
           ],
           "sequentialminus": [
            [
             0.0,
             "#0d0887"
            ],
            [
             0.1111111111111111,
             "#46039f"
            ],
            [
             0.2222222222222222,
             "#7201a8"
            ],
            [
             0.3333333333333333,
             "#9c179e"
            ],
            [
             0.4444444444444444,
             "#bd3786"
            ],
            [
             0.5555555555555556,
             "#d8576b"
            ],
            [
             0.6666666666666666,
             "#ed7953"
            ],
            [
             0.7777777777777778,
             "#fb9f3a"
            ],
            [
             0.8888888888888888,
             "#fdca26"
            ],
            [
             1.0,
             "#f0f921"
            ]
           ],
           "diverging": [
            [
             0,
             "#8e0152"
            ],
            [
             0.1,
             "#c51b7d"
            ],
            [
             0.2,
             "#de77ae"
            ],
            [
             0.3,
             "#f1b6da"
            ],
            [
             0.4,
             "#fde0ef"
            ],
            [
             0.5,
             "#f7f7f7"
            ],
            [
             0.6,
             "#e6f5d0"
            ],
            [
             0.7,
             "#b8e186"
            ],
            [
             0.8,
             "#7fbc41"
            ],
            [
             0.9,
             "#4d9221"
            ],
            [
             1,
             "#276419"
            ]
           ]
          },
          "xaxis": {
           "gridcolor": "#283442",
           "linecolor": "#506784",
           "ticks": "",
           "title": {
            "standoff": 15
           },
           "zerolinecolor": "#283442",
           "automargin": true,
           "zerolinewidth": 2
          },
          "yaxis": {
           "gridcolor": "#283442",
           "linecolor": "#506784",
           "ticks": "",
           "title": {
            "standoff": 15
           },
           "zerolinecolor": "#283442",
           "automargin": true,
           "zerolinewidth": 2
          },
          "scene": {
           "xaxis": {
            "backgroundcolor": "rgb(17,17,17)",
            "gridcolor": "#506784",
            "linecolor": "#506784",
            "showbackground": true,
            "ticks": "",
            "zerolinecolor": "#C8D4E3",
            "gridwidth": 2
           },
           "yaxis": {
            "backgroundcolor": "rgb(17,17,17)",
            "gridcolor": "#506784",
            "linecolor": "#506784",
            "showbackground": true,
            "ticks": "",
            "zerolinecolor": "#C8D4E3",
            "gridwidth": 2
           },
           "zaxis": {
            "backgroundcolor": "rgb(17,17,17)",
            "gridcolor": "#506784",
            "linecolor": "#506784",
            "showbackground": true,
            "ticks": "",
            "zerolinecolor": "#C8D4E3",
            "gridwidth": 2
           }
          },
          "shapedefaults": {
           "line": {
            "color": "#f2f5fa"
           }
          },
          "annotationdefaults": {
           "arrowcolor": "#f2f5fa",
           "arrowhead": 0,
           "arrowwidth": 1
          },
          "geo": {
           "bgcolor": "rgb(17,17,17)",
           "landcolor": "rgb(17,17,17)",
           "subunitcolor": "#506784",
           "showland": true,
           "showlakes": true,
           "lakecolor": "rgb(17,17,17)"
          },
          "title": {
           "x": 0.05
          },
          "updatemenudefaults": {
           "bgcolor": "#506784",
           "borderwidth": 0
          },
          "sliderdefaults": {
           "bgcolor": "#C8D4E3",
           "borderwidth": 1,
           "bordercolor": "rgb(17,17,17)",
           "tickwidth": 0
          },
          "mapbox": {
           "style": "dark"
          }
         }
        },
        "xaxis": {
         "anchor": "y",
         "domain": [
          0.0,
          0.31999999999999995
         ],
         "title": {
          "text": "Dimensione array"
         }
        },
        "yaxis": {
         "anchor": "x",
         "domain": [
          0.0,
          1.0
         ],
         "title": {
          "text": "Time (s)"
         }
        },
        "xaxis2": {
         "anchor": "y2",
         "domain": [
          0.33999999999999997,
          0.6599999999999999
         ],
         "matches": "x",
         "title": {
          "text": "Dimensione array"
         }
        },
        "yaxis2": {
         "anchor": "x2",
         "domain": [
          0.0,
          1.0
         ],
         "matches": "y",
         "showticklabels": false
        },
        "xaxis3": {
         "anchor": "y3",
         "domain": [
          0.6799999999999999,
          0.9999999999999999
         ],
         "matches": "x",
         "title": {
          "text": "Dimensione array"
         }
        },
        "yaxis3": {
         "anchor": "x3",
         "domain": [
          0.0,
          1.0
         ],
         "matches": "y",
         "showticklabels": false
        },
        "annotations": [
         {
          "font": {},
          "showarrow": false,
          "text": "Tipo di input=random",
          "x": 0.15999999999999998,
          "xanchor": "center",
          "xref": "paper",
          "y": 1.0,
          "yanchor": "bottom",
          "yref": "paper"
         },
         {
          "font": {},
          "showarrow": false,
          "text": "Tipo di input=sorted",
          "x": 0.49999999999999994,
          "xanchor": "center",
          "xref": "paper",
          "y": 1.0,
          "yanchor": "bottom",
          "yref": "paper"
         },
         {
          "font": {},
          "showarrow": false,
          "text": "Tipo di input=reversed",
          "x": 0.8399999999999999,
          "xanchor": "center",
          "xref": "paper",
          "y": 1.0,
          "yanchor": "bottom",
          "yref": "paper"
         }
        ],
        "legend": {
         "title": {
          "text": "Algoritmo di ordinamento"
         },
         "tracegroupgap": 0
        },
        "title": {
         "text": "Sorting algorithms"
        }
       },
       "config": {
        "plotlyServerURL": "https://plot.ly"
       }
      },
      "text/html": "<div>                            <div id=\"59fae20a-ecdd-4110-9b24-a6b48032a2b0\" class=\"plotly-graph-div\" style=\"height:525px; width:100%;\"></div>            <script type=\"text/javascript\">                require([\"plotly\"], function(Plotly) {                    window.PLOTLYENV=window.PLOTLYENV || {};                                    if (document.getElementById(\"59fae20a-ecdd-4110-9b24-a6b48032a2b0\")) {                    Plotly.newPlot(                        \"59fae20a-ecdd-4110-9b24-a6b48032a2b0\",                        [{\"hovertemplate\":\"Algoritmo di ordinamento=insertion_sort<br>Tipo di input=random<br>Dimensione array=%{x}<br>Time (s)=%{y}<extra></extra>\",\"legendgroup\":\"insertion_sort\",\"line\":{\"color\":\"#636efa\",\"dash\":\"solid\"},\"marker\":{\"symbol\":\"circle\"},\"mode\":\"lines\",\"name\":\"insertion_sort\",\"orientation\":\"v\",\"showlegend\":true,\"x\":[10,20,30,40,50,60,70,80,90,100,110,120,130,140,150,160,170,180,190,200,210,220,230,240,250,260,270,280,290,300,310,320,330,340,350,360,370,380,390,400,410,420,430,440,450,460,470,480,490,500,510,520,530,540,550,560,570,580,590,600,610,620,630,640,650,660,670,680,690,700,710,720,730,740,750,760,770,780,790,800,810,820,830,840,850,860,870,880,890,900,910,920,930,940,950,960,970,980,990],\"xaxis\":\"x\",\"y\":[4.600035026669502e-06,1.2500036973506212e-05,4.0599959902465343e-05,6.890000076964498e-05,9.600003249943256e-05,0.00015330000314861536,0.00022390001686289907,0.0002797000342980027,0.00020629999926313758,0.00025350000942125916,0.00031350000062957406,0.00038790004327893257,0.0004341999883763492,0.0005477999802678823,0.0005565999890677631,0.0007011000416241586,0.0006739000091329217,0.0008036000072024763,0.0009276000200770795,0.0009873000090010464,0.0011621000012382865,0.0012657999759539962,0.0012325000134296715,0.0014078000094741583,0.0015806000446900725,0.0016373000107705593,0.0017464999691583216,0.0023435999755747616,0.0021738000214099884,0.0022533999872393906,0.0025165999541059136,0.0026253999676555395,0.0026745000504888594,0.0030956999980844557,0.0032476999913342297,0.003061399969737977,0.003927099984139204,0.003728099982254207,0.003914000000804663,0.004017599974758923,0.004385199979878962,0.004862100002355874,0.0048723999643698335,0.005037800001446158,0.0053616000222973526,0.005635499954223633,0.005904699966777116,0.006545000011101365,0.006374099990352988,0.007447199954185635,0.0079917999682948,0.007950700004585087,0.007479499967303127,0.008242700016126037,0.00769840000430122,0.007919700001366436,0.008321400033310056,0.008610799966845661,0.009055199974682182,0.009517899947240949,0.009469599986914545,0.01064970000879839,0.011074399983044714,0.010967700043693185,0.011432399973273277,0.012044399976730347,0.01230760000180453,0.01263800001470372,0.013683199998922646,0.013722100004088134,0.01850990002276376,0.025029499956872314,0.026258800004143268,0.0265207999618724,0.027257499983534217,0.018793799972627312,0.016467400011606514,0.016867600032128394,0.017063200008124113,0.017354899959173054,0.019090800022240728,0.01882100000511855,0.01923869998427108,0.019584399997256696,0.020019799994770437,0.020727100025396794,0.02051310002570972,0.02204479998908937,0.021394999988842756,0.02182119997451082,0.023890400014352053,0.023471100023016334,0.024608899955637753,0.02461659995606169,0.024941899988334626,0.024935699999332428,0.02572660002624616,0.027811599953565747,0.028410299972165376],\"yaxis\":\"y\",\"type\":\"scatter\"},{\"hovertemplate\":\"Algoritmo di ordinamento=insertion_sort<br>Tipo di input=sorted<br>Dimensione array=%{x}<br>Time (s)=%{y}<extra></extra>\",\"legendgroup\":\"insertion_sort\",\"line\":{\"color\":\"#636efa\",\"dash\":\"solid\"},\"marker\":{\"symbol\":\"circle\"},\"mode\":\"lines\",\"name\":\"insertion_sort\",\"orientation\":\"v\",\"showlegend\":false,\"x\":[10,20,30,40,50,60,70,80,90,100,110,120,130,140,150,160,170,180,190,200,210,220,230,240,250,260,270,280,290,300,310,320,330,340,350,360,370,380,390,400,410,420,430,440,450,460,470,480,490,500,510,520,530,540,550,560,570,580,590,600,610,620,630,640,650,660,670,680,690,700,710,720,730,740,750,760,770,780,790,800,810,820,830,840,850,860,870,880,890,900,910,920,930,940,950,960,970,980,990],\"xaxis\":\"x2\",\"y\":[2.400018274784088e-06,3.200024366378784e-06,4.199973773211241e-06,5.200039595365524e-06,6.199989002197981e-06,7.399998139590025e-06,8.600007276982069e-06,9.599956683814526e-06,1.0800024028867483e-05,1.1999974958598614e-05,1.309998333454132e-05,1.4199991710484028e-05,1.5400000847876072e-05,1.6600009985268116e-05,1.7600017599761486e-05,1.8799968529492617e-05,1.9899976905435324e-05,2.099998528137803e-05,2.2199994418770075e-05,2.329994458705187e-05,2.4500011932104826e-05,2.5600020308047533e-05,2.6800029445439577e-05,2.789997961372137e-05,2.8999987989664078e-05,3.090000245720148e-05,3.220001235604286e-05,3.320001997053623e-05,3.439997090026736e-05,3.600004129111767e-05,3.759999526664615e-05,3.850000211969018e-05,3.9700011257082224e-05,4.1599967516958714e-05,4.309997893869877e-05,4.3899985030293465e-05,4.529999569058418e-05,4.740001168102026e-05,4.880002234131098e-05,4.9400026910007e-05,5.059997783973813e-05,5.299999611452222e-05,5.43000060133636e-05,5.460000829771161e-05,5.6100019719451666e-05,5.819997750222683e-05,5.89000410400331e-05,6.0100050177425146e-05,6.150000263005495e-05,6.280001252889633e-05,6.429996574297547e-05,6.549997488036752e-05,6.699998630210757e-05,0.00010939995991066098,6.960000609979033e-05,7.080001523718238e-05,7.230002665892243e-05,7.369997911155224e-05,7.51999905332923e-05,7.639999967068434e-05,7.770000956952572e-05,7.910002022981644e-05,8.049997268244624e-05,8.179998258128762e-05,8.330005221068859e-05,8.459994569420815e-05,8.620001608505845e-05,8.719996549189091e-05,8.87999776750803e-05,8.999998681247234e-05,9.139999747276306e-05,9.270000737160444e-05,9.410001803189516e-05,9.540002793073654e-05,9.680003859102726e-05,9.820004925131798e-05,9.950000094249845e-05,0.00010080001084133983,0.00010200001997873187,0.00010350003140047193,0.00010489998385310173,0.00010559998918324709,0.00010689999908208847,0.00010849995305761695,0.0001094000181183219,0.0001105000264942646,0.00011219998123124242,0.00011339999036863446,0.0001145999995060265,0.0001162000116892159,0.00011729996185749769,0.00011879997327923775,0.00012019998393952847,0.00012159999459981918,0.00012260000221431255,0.00012430001515895128,0.00012530002277344465,0.00012690003495663404,0.0001281999866478145],\"yaxis\":\"y2\",\"type\":\"scatter\"},{\"hovertemplate\":\"Algoritmo di ordinamento=insertion_sort<br>Tipo di input=reversed<br>Dimensione array=%{x}<br>Time (s)=%{y}<extra></extra>\",\"legendgroup\":\"insertion_sort\",\"line\":{\"color\":\"#636efa\",\"dash\":\"solid\"},\"marker\":{\"symbol\":\"circle\"},\"mode\":\"lines\",\"name\":\"insertion_sort\",\"orientation\":\"v\",\"showlegend\":false,\"x\":[10,20,30,40,50,60,70,80,90,100,110,120,130,140,150,160,170,180,190,200,210,220,230,240,250,260,270,280,290,300,310,320,330,340,350,360,370,380,390,400,410,420,430,440,450,460,470,480,490,500,510,520,530,540,550,560,570,580,590,600,610,620,630,640,650,660,670,680,690,700,710,720,730,740,750,760,770,780,790,800,810,820,830,840,850,860,870,880,890,900,910,920,930,940,950,960,970,980,990],\"xaxis\":\"x3\",\"y\":[7.199996616691351e-06,2.2199994418770075e-05,4.7600013203918934e-05,8.329999400302768e-05,0.00012919999426230788,0.00018450000789016485,0.0002508999896235764,0.0003263999824412167,0.00041280000004917383,0.000507200020365417,0.0006113999988883734,0.0007269000052474439,0.0008526999736204743,0.0009914999827742577,0.0011553000076673925,0.0013015999575145543,0.0014588000485673547,0.0016399999731220305,0.001846900035161525,0.0020411000004969537,0.002228899975307286,0.0024465000024065375,0.00269349996233359,0.002906800014898181,0.0032147999736480415,0.0034081999910995364,0.003715300001204014,0.0039929000195115805,0.004299199965316802,0.004558899963740259,0.00493669998832047,0.005208699963986874,0.005555199983064085,0.005955800006631762,0.006270900019444525,0.00663610000628978,0.007041399949230254,0.007436000043526292,0.007844200008548796,0.008315699989907444,0.008716899959836155,0.00915190001251176,0.00961569999344647,0.010085699963383377,0.010532899992540479,0.011115300003439188,0.011452200007624924,0.011955900001339614,0.012602000031620264,0.0131746000261046,0.013620200043078512,0.014150000002700835,0.014708500006236136,0.015166600001975894,0.015883900050539523,0.016431899974122643,0.016880400013178587,0.01763409998966381,0.01841070002410561,0.01894949999405071,0.019630499999038875,0.020248300046660006,0.021111100038979203,0.021751899970695376,0.022491799958515912,0.02313250000588596,0.024145999981556088,0.025050199998077005,0.025832099956460297,0.026502299995627254,0.03539589996216819,0.02662330004386604,0.02807070000562817,0.028840399987529963,0.029674099991098046,0.03036089998204261,0.030974799999967217,0.03132140001980588,0.03228759998455644,0.03311130002839491,0.03385350003372878,0.03458929999032989,0.03600050002569333,0.03702859999611974,0.03775119996862486,0.03901470004348084,0.04011050000553951,0.04097560001537204,0.04207059997133911,0.042869400000199676,0.043977799999993294,0.04487030004383996,0.04544939997140318,0.04649560002144426,0.047764900024048984,0.04851990001043305,0.04931109998142347,0.05087400000775233,0.05241199996089563],\"yaxis\":\"y3\",\"type\":\"scatter\"},{\"hovertemplate\":\"Algoritmo di ordinamento=counting_sort<br>Tipo di input=random<br>Dimensione array=%{x}<br>Time (s)=%{y}<extra></extra>\",\"legendgroup\":\"counting_sort\",\"line\":{\"color\":\"#EF553B\",\"dash\":\"solid\"},\"marker\":{\"symbol\":\"circle\"},\"mode\":\"lines\",\"name\":\"counting_sort\",\"orientation\":\"v\",\"showlegend\":true,\"x\":[10,20,30,40,50,60,70,80,90,100,110,120,130,140,150,160,170,180,190,200,210,220,230,240,250,260,270,280,290,300,310,320,330,340,350,360,370,380,390,400,410,420,430,440,450,460,470,480,490,500,510,520,530,540,550,560,570,580,590,600,610,620,630,640,650,660,670,680,690,700,710,720,730,740,750,760,770,780,790,800,810,820,830,840,850,860,870,880,890,900,910,920,930,940,950,960,970,980,990],\"xaxis\":\"x\",\"y\":[0.08732400002190843,0.08842020004522055,0.08491450001019984,0.08598540001548827,0.08579709997866303,0.08150029997341335,0.0882774000056088,0.08789650001563132,0.08653319999575615,0.08675489999586716,0.08662979997461662,0.11303120001684874,0.09766529995249584,0.08373179996851832,0.08176649996312335,0.08403650001855567,0.08415120001882315,0.08816369995474815,0.0962829000200145,0.08513540000421926,0.08385450002970174,0.08602290000999346,0.0861307000159286,0.08693749998928979,0.08421030000317842,0.08216380001977086,0.08617249998496845,0.08692799997515976,0.09447239997098222,0.08828580001136288,0.08608789998106658,0.08724530000472441,0.09143630001926795,0.0888039999990724,0.09213960001943633,0.11354180000489578,0.11603430000832304,0.08728019997943193,0.09001149999676272,0.0893878000206314,0.09139150002738461,0.08913149998988956,0.09043719997862354,0.09342829999513924,0.09113199997227639,0.09267929999623448,0.09160189999965951,0.08768019999843091,0.09063470002729446,0.09207200002856553,0.10075569996843114,0.09214600000996143,0.09167140000499785,0.09262529999250546,0.0960516999475658,0.09221070003695786,0.09383999998681247,0.09493200003635138,0.13153059995966032,0.11346329998923466,0.09341750002931803,0.0919075999991037,0.10897960001602769,0.09878120000939816,0.09601289994316176,0.09630639996612445,0.09507809998467565,0.0903688000398688,0.09560810000402853,0.09522359998663887,0.09603860002243891,0.09531830000923946,0.09643850004067644,0.09733179997419938,0.09631199995055795,0.09705229999963194,0.09388010000111535,0.09091699996497482,0.09086950001074001,0.10365109995473176,0.1516937999986112,0.10071089997654781,0.09634650003863499,0.10772700002416968,0.09567180002341047,0.09769419999793172,0.10117530002025887,0.09562699997331947,0.09830610000062734,0.09576179995201528,0.09523199999239296,0.09432829997967929,0.10021980002056807,0.09865649999119341,0.09753019997151569,0.10113550000824034,0.1014384999871254,0.10855280002579093,0.09985659999074414],\"yaxis\":\"y\",\"type\":\"scatter\"},{\"hovertemplate\":\"Algoritmo di ordinamento=counting_sort<br>Tipo di input=sorted<br>Dimensione array=%{x}<br>Time (s)=%{y}<extra></extra>\",\"legendgroup\":\"counting_sort\",\"line\":{\"color\":\"#EF553B\",\"dash\":\"solid\"},\"marker\":{\"symbol\":\"circle\"},\"mode\":\"lines\",\"name\":\"counting_sort\",\"orientation\":\"v\",\"showlegend\":false,\"x\":[10,20,30,40,50,60,70,80,90,100,110,120,130,140,150,160,170,180,190,200,210,220,230,240,250,260,270,280,290,300,310,320,330,340,350,360,370,380,390,400,410,420,430,440,450,460,470,480,490,500,510,520,530,540,550,560,570,580,590,600,610,620,630,640,650,660,670,680,690,700,710,720,730,740,750,760,770,780,790,800,810,820,830,840,850,860,870,880,890,900,910,920,930,940,950,960,970,980,990],\"xaxis\":\"x2\",\"y\":[0.08017470000777394,0.08577259996673092,0.11033320002024993,0.10971759998938069,0.08673399995313957,0.0885489999782294,0.09088859998155385,0.08748449996346608,0.08840949996374547,0.08510159997968003,0.08936769998399541,0.09178509999765083,0.09046340000350028,0.0864651000010781,0.08637649996671826,0.08882830000948161,0.08625619998201728,0.08736020000651479,0.08314850000897422,0.08610630000475794,0.0886733999941498,0.08562359999632463,0.08972620003623888,0.08727810002164915,0.08758280001347885,0.08594059996539727,0.10291429999051616,0.11925879999762401,0.0920375999994576,0.09345099999336526,0.08788050001021475,0.09378679998917505,0.09300649998476729,0.09190170001238585,0.09198219998506829,0.09323549998225644,0.0941270999610424,0.09261499997228384,0.09238429996185005,0.09393050003563985,0.09462270000949502,0.09668020001845434,0.10078040004009381,0.09168940002564341,0.09225310001056641,0.0931294999900274,0.0881045000278391,0.09206309996079654,0.09177400002954528,0.10916450002696365,0.1291864999802783,0.0945699000149034,0.09581410000100732,0.0937817000085488,0.09451310004806146,0.09432189998915419,0.09589879994746298,0.093917699996382,0.09470960003091022,0.09421259997179732,0.09741450002184138,0.09376960003282875,0.09593920002225786,0.09899730002507567,0.1097359000123106,0.1000120000098832,0.09753440000349656,0.10061860003042966,0.09583209996344522,0.10307559999637306,0.0967034000204876,0.12094410002464429,0.11729760002344847,0.09413949999725446,0.09813559998292476,0.09529600001405925,0.09477550000883639,0.09788640000624582,0.09676230000331998,0.09702610003296286,0.1012504999525845,0.10128880001138896,0.09951040003215894,0.09590680000837892,0.103541899996344,0.10371039999881759,0.09228320000693202,0.09364459995413199,0.09650539996800944,0.09711820003576577,0.09687509998911992,0.09869080001953989,0.09803579997969791,0.15092400001594797,0.09674169996287674,0.10078630002681166,0.09978349995799363,0.10121469997102395,0.10034410003572702],\"yaxis\":\"y2\",\"type\":\"scatter\"},{\"hovertemplate\":\"Algoritmo di ordinamento=counting_sort<br>Tipo di input=reversed<br>Dimensione array=%{x}<br>Time (s)=%{y}<extra></extra>\",\"legendgroup\":\"counting_sort\",\"line\":{\"color\":\"#EF553B\",\"dash\":\"solid\"},\"marker\":{\"symbol\":\"circle\"},\"mode\":\"lines\",\"name\":\"counting_sort\",\"orientation\":\"v\",\"showlegend\":false,\"x\":[10,20,30,40,50,60,70,80,90,100,110,120,130,140,150,160,170,180,190,200,210,220,230,240,250,260,270,280,290,300,310,320,330,340,350,360,370,380,390,400,410,420,430,440,450,460,470,480,490,500,510,520,530,540,550,560,570,580,590,600,610,620,630,640,650,660,670,680,690,700,710,720,730,740,750,760,770,780,790,800,810,820,830,840,850,860,870,880,890,900,910,920,930,940,950,960,970,980,990],\"xaxis\":\"x3\",\"y\":[0.08561130001908168,0.08806579996598884,0.07867560000158846,0.08710390003398061,0.08502510003745556,0.09108899999409914,0.08634619996882975,0.0885437999968417,0.08788130001630634,0.08704979997128248,0.08361799997510388,0.0896839999477379,0.09296009998070076,0.09258779999800026,0.08921549998922274,0.09093800000846386,0.08851770003093407,0.12821860000258312,0.08779120002873242,0.09071949997451156,0.08575560001190752,0.09044490003725514,0.08564589999150485,0.09012129995971918,0.08688810002058744,0.08300669997697696,0.08779489999869838,0.09148659999482334,0.09196720004547387,0.10190539999166504,0.09015740000177175,0.08791479998035356,0.09647549997316673,0.08806169999297708,0.09306779998587444,0.09577620000345632,0.09327610000036657,0.09518050000770018,0.09476330003235489,0.09525469999061897,0.13882870000088587,0.09589120000600815,0.09197320003295317,0.09211760002654046,0.09357099997578189,0.096138900029473,0.09403360000578687,0.09417070000199601,0.09393590001855046,0.09463450004113838,0.09500580001622438,0.09478879999369383,0.09383660001913086,0.09188630001153797,0.09677090001059696,0.10457129997666925,0.10941360000288114,0.09735160000855103,0.09594540001126006,0.09552079997956753,0.09752269997261465,0.094669200014323,0.12802110001211986,0.0972298999549821,0.09424319997197017,0.11044499999843538,0.09852010000031441,0.10660030000144616,0.09704219998093322,0.09879560000263155,0.09742599999299273,0.1145951000507921,0.13326329999836162,0.09905339998658746,0.09903189999749884,0.0958913000067696,0.09706429997459054,0.09681740001542494,0.09738410002319142,0.0976786999963224,0.09699940000427887,0.09749299997929484,0.0973006000276655,0.09860910003772005,0.09655860002385452,0.09740110003622249,0.09760510001797229,0.09699360001832247,0.09374059998663142,0.0975715999957174,0.09812360000796616,0.09824070002650842,0.09797829994931817,0.0976086999871768,0.09840149997035041,0.0975353000103496,0.09870749997207895,0.097813899978064,0.09778290003305301],\"yaxis\":\"y3\",\"type\":\"scatter\"}],                        {\"template\":{\"data\":{\"histogram2dcontour\":[{\"type\":\"histogram2dcontour\",\"colorbar\":{\"outlinewidth\":0,\"ticks\":\"\"},\"colorscale\":[[0.0,\"#0d0887\"],[0.1111111111111111,\"#46039f\"],[0.2222222222222222,\"#7201a8\"],[0.3333333333333333,\"#9c179e\"],[0.4444444444444444,\"#bd3786\"],[0.5555555555555556,\"#d8576b\"],[0.6666666666666666,\"#ed7953\"],[0.7777777777777778,\"#fb9f3a\"],[0.8888888888888888,\"#fdca26\"],[1.0,\"#f0f921\"]]}],\"choropleth\":[{\"type\":\"choropleth\",\"colorbar\":{\"outlinewidth\":0,\"ticks\":\"\"}}],\"histogram2d\":[{\"type\":\"histogram2d\",\"colorbar\":{\"outlinewidth\":0,\"ticks\":\"\"},\"colorscale\":[[0.0,\"#0d0887\"],[0.1111111111111111,\"#46039f\"],[0.2222222222222222,\"#7201a8\"],[0.3333333333333333,\"#9c179e\"],[0.4444444444444444,\"#bd3786\"],[0.5555555555555556,\"#d8576b\"],[0.6666666666666666,\"#ed7953\"],[0.7777777777777778,\"#fb9f3a\"],[0.8888888888888888,\"#fdca26\"],[1.0,\"#f0f921\"]]}],\"heatmap\":[{\"type\":\"heatmap\",\"colorbar\":{\"outlinewidth\":0,\"ticks\":\"\"},\"colorscale\":[[0.0,\"#0d0887\"],[0.1111111111111111,\"#46039f\"],[0.2222222222222222,\"#7201a8\"],[0.3333333333333333,\"#9c179e\"],[0.4444444444444444,\"#bd3786\"],[0.5555555555555556,\"#d8576b\"],[0.6666666666666666,\"#ed7953\"],[0.7777777777777778,\"#fb9f3a\"],[0.8888888888888888,\"#fdca26\"],[1.0,\"#f0f921\"]]}],\"heatmapgl\":[{\"type\":\"heatmapgl\",\"colorbar\":{\"outlinewidth\":0,\"ticks\":\"\"},\"colorscale\":[[0.0,\"#0d0887\"],[0.1111111111111111,\"#46039f\"],[0.2222222222222222,\"#7201a8\"],[0.3333333333333333,\"#9c179e\"],[0.4444444444444444,\"#bd3786\"],[0.5555555555555556,\"#d8576b\"],[0.6666666666666666,\"#ed7953\"],[0.7777777777777778,\"#fb9f3a\"],[0.8888888888888888,\"#fdca26\"],[1.0,\"#f0f921\"]]}],\"contourcarpet\":[{\"type\":\"contourcarpet\",\"colorbar\":{\"outlinewidth\":0,\"ticks\":\"\"}}],\"contour\":[{\"type\":\"contour\",\"colorbar\":{\"outlinewidth\":0,\"ticks\":\"\"},\"colorscale\":[[0.0,\"#0d0887\"],[0.1111111111111111,\"#46039f\"],[0.2222222222222222,\"#7201a8\"],[0.3333333333333333,\"#9c179e\"],[0.4444444444444444,\"#bd3786\"],[0.5555555555555556,\"#d8576b\"],[0.6666666666666666,\"#ed7953\"],[0.7777777777777778,\"#fb9f3a\"],[0.8888888888888888,\"#fdca26\"],[1.0,\"#f0f921\"]]}],\"surface\":[{\"type\":\"surface\",\"colorbar\":{\"outlinewidth\":0,\"ticks\":\"\"},\"colorscale\":[[0.0,\"#0d0887\"],[0.1111111111111111,\"#46039f\"],[0.2222222222222222,\"#7201a8\"],[0.3333333333333333,\"#9c179e\"],[0.4444444444444444,\"#bd3786\"],[0.5555555555555556,\"#d8576b\"],[0.6666666666666666,\"#ed7953\"],[0.7777777777777778,\"#fb9f3a\"],[0.8888888888888888,\"#fdca26\"],[1.0,\"#f0f921\"]]}],\"mesh3d\":[{\"type\":\"mesh3d\",\"colorbar\":{\"outlinewidth\":0,\"ticks\":\"\"}}],\"scatter\":[{\"marker\":{\"line\":{\"color\":\"#283442\"}},\"type\":\"scatter\"}],\"parcoords\":[{\"type\":\"parcoords\",\"line\":{\"colorbar\":{\"outlinewidth\":0,\"ticks\":\"\"}}}],\"scatterpolargl\":[{\"type\":\"scatterpolargl\",\"marker\":{\"colorbar\":{\"outlinewidth\":0,\"ticks\":\"\"}}}],\"bar\":[{\"error_x\":{\"color\":\"#f2f5fa\"},\"error_y\":{\"color\":\"#f2f5fa\"},\"marker\":{\"line\":{\"color\":\"rgb(17,17,17)\",\"width\":0.5},\"pattern\":{\"fillmode\":\"overlay\",\"size\":10,\"solidity\":0.2}},\"type\":\"bar\"}],\"scattergeo\":[{\"type\":\"scattergeo\",\"marker\":{\"colorbar\":{\"outlinewidth\":0,\"ticks\":\"\"}}}],\"scatterpolar\":[{\"type\":\"scatterpolar\",\"marker\":{\"colorbar\":{\"outlinewidth\":0,\"ticks\":\"\"}}}],\"histogram\":[{\"marker\":{\"pattern\":{\"fillmode\":\"overlay\",\"size\":10,\"solidity\":0.2}},\"type\":\"histogram\"}],\"scattergl\":[{\"marker\":{\"line\":{\"color\":\"#283442\"}},\"type\":\"scattergl\"}],\"scatter3d\":[{\"type\":\"scatter3d\",\"line\":{\"colorbar\":{\"outlinewidth\":0,\"ticks\":\"\"}},\"marker\":{\"colorbar\":{\"outlinewidth\":0,\"ticks\":\"\"}}}],\"scattermapbox\":[{\"type\":\"scattermapbox\",\"marker\":{\"colorbar\":{\"outlinewidth\":0,\"ticks\":\"\"}}}],\"scatterternary\":[{\"type\":\"scatterternary\",\"marker\":{\"colorbar\":{\"outlinewidth\":0,\"ticks\":\"\"}}}],\"scattercarpet\":[{\"type\":\"scattercarpet\",\"marker\":{\"colorbar\":{\"outlinewidth\":0,\"ticks\":\"\"}}}],\"carpet\":[{\"aaxis\":{\"endlinecolor\":\"#A2B1C6\",\"gridcolor\":\"#506784\",\"linecolor\":\"#506784\",\"minorgridcolor\":\"#506784\",\"startlinecolor\":\"#A2B1C6\"},\"baxis\":{\"endlinecolor\":\"#A2B1C6\",\"gridcolor\":\"#506784\",\"linecolor\":\"#506784\",\"minorgridcolor\":\"#506784\",\"startlinecolor\":\"#A2B1C6\"},\"type\":\"carpet\"}],\"table\":[{\"cells\":{\"fill\":{\"color\":\"#506784\"},\"line\":{\"color\":\"rgb(17,17,17)\"}},\"header\":{\"fill\":{\"color\":\"#2a3f5f\"},\"line\":{\"color\":\"rgb(17,17,17)\"}},\"type\":\"table\"}],\"barpolar\":[{\"marker\":{\"line\":{\"color\":\"rgb(17,17,17)\",\"width\":0.5},\"pattern\":{\"fillmode\":\"overlay\",\"size\":10,\"solidity\":0.2}},\"type\":\"barpolar\"}],\"pie\":[{\"automargin\":true,\"type\":\"pie\"}]},\"layout\":{\"autotypenumbers\":\"strict\",\"colorway\":[\"#636efa\",\"#EF553B\",\"#00cc96\",\"#ab63fa\",\"#FFA15A\",\"#19d3f3\",\"#FF6692\",\"#B6E880\",\"#FF97FF\",\"#FECB52\"],\"font\":{\"color\":\"#f2f5fa\"},\"hovermode\":\"closest\",\"hoverlabel\":{\"align\":\"left\"},\"paper_bgcolor\":\"rgb(17,17,17)\",\"plot_bgcolor\":\"rgb(17,17,17)\",\"polar\":{\"bgcolor\":\"rgb(17,17,17)\",\"angularaxis\":{\"gridcolor\":\"#506784\",\"linecolor\":\"#506784\",\"ticks\":\"\"},\"radialaxis\":{\"gridcolor\":\"#506784\",\"linecolor\":\"#506784\",\"ticks\":\"\"}},\"ternary\":{\"bgcolor\":\"rgb(17,17,17)\",\"aaxis\":{\"gridcolor\":\"#506784\",\"linecolor\":\"#506784\",\"ticks\":\"\"},\"baxis\":{\"gridcolor\":\"#506784\",\"linecolor\":\"#506784\",\"ticks\":\"\"},\"caxis\":{\"gridcolor\":\"#506784\",\"linecolor\":\"#506784\",\"ticks\":\"\"}},\"coloraxis\":{\"colorbar\":{\"outlinewidth\":0,\"ticks\":\"\"}},\"colorscale\":{\"sequential\":[[0.0,\"#0d0887\"],[0.1111111111111111,\"#46039f\"],[0.2222222222222222,\"#7201a8\"],[0.3333333333333333,\"#9c179e\"],[0.4444444444444444,\"#bd3786\"],[0.5555555555555556,\"#d8576b\"],[0.6666666666666666,\"#ed7953\"],[0.7777777777777778,\"#fb9f3a\"],[0.8888888888888888,\"#fdca26\"],[1.0,\"#f0f921\"]],\"sequentialminus\":[[0.0,\"#0d0887\"],[0.1111111111111111,\"#46039f\"],[0.2222222222222222,\"#7201a8\"],[0.3333333333333333,\"#9c179e\"],[0.4444444444444444,\"#bd3786\"],[0.5555555555555556,\"#d8576b\"],[0.6666666666666666,\"#ed7953\"],[0.7777777777777778,\"#fb9f3a\"],[0.8888888888888888,\"#fdca26\"],[1.0,\"#f0f921\"]],\"diverging\":[[0,\"#8e0152\"],[0.1,\"#c51b7d\"],[0.2,\"#de77ae\"],[0.3,\"#f1b6da\"],[0.4,\"#fde0ef\"],[0.5,\"#f7f7f7\"],[0.6,\"#e6f5d0\"],[0.7,\"#b8e186\"],[0.8,\"#7fbc41\"],[0.9,\"#4d9221\"],[1,\"#276419\"]]},\"xaxis\":{\"gridcolor\":\"#283442\",\"linecolor\":\"#506784\",\"ticks\":\"\",\"title\":{\"standoff\":15},\"zerolinecolor\":\"#283442\",\"automargin\":true,\"zerolinewidth\":2},\"yaxis\":{\"gridcolor\":\"#283442\",\"linecolor\":\"#506784\",\"ticks\":\"\",\"title\":{\"standoff\":15},\"zerolinecolor\":\"#283442\",\"automargin\":true,\"zerolinewidth\":2},\"scene\":{\"xaxis\":{\"backgroundcolor\":\"rgb(17,17,17)\",\"gridcolor\":\"#506784\",\"linecolor\":\"#506784\",\"showbackground\":true,\"ticks\":\"\",\"zerolinecolor\":\"#C8D4E3\",\"gridwidth\":2},\"yaxis\":{\"backgroundcolor\":\"rgb(17,17,17)\",\"gridcolor\":\"#506784\",\"linecolor\":\"#506784\",\"showbackground\":true,\"ticks\":\"\",\"zerolinecolor\":\"#C8D4E3\",\"gridwidth\":2},\"zaxis\":{\"backgroundcolor\":\"rgb(17,17,17)\",\"gridcolor\":\"#506784\",\"linecolor\":\"#506784\",\"showbackground\":true,\"ticks\":\"\",\"zerolinecolor\":\"#C8D4E3\",\"gridwidth\":2}},\"shapedefaults\":{\"line\":{\"color\":\"#f2f5fa\"}},\"annotationdefaults\":{\"arrowcolor\":\"#f2f5fa\",\"arrowhead\":0,\"arrowwidth\":1},\"geo\":{\"bgcolor\":\"rgb(17,17,17)\",\"landcolor\":\"rgb(17,17,17)\",\"subunitcolor\":\"#506784\",\"showland\":true,\"showlakes\":true,\"lakecolor\":\"rgb(17,17,17)\"},\"title\":{\"x\":0.05},\"updatemenudefaults\":{\"bgcolor\":\"#506784\",\"borderwidth\":0},\"sliderdefaults\":{\"bgcolor\":\"#C8D4E3\",\"borderwidth\":1,\"bordercolor\":\"rgb(17,17,17)\",\"tickwidth\":0},\"mapbox\":{\"style\":\"dark\"}}},\"xaxis\":{\"anchor\":\"y\",\"domain\":[0.0,0.31999999999999995],\"title\":{\"text\":\"Dimensione array\"}},\"yaxis\":{\"anchor\":\"x\",\"domain\":[0.0,1.0],\"title\":{\"text\":\"Time (s)\"}},\"xaxis2\":{\"anchor\":\"y2\",\"domain\":[0.33999999999999997,0.6599999999999999],\"matches\":\"x\",\"title\":{\"text\":\"Dimensione array\"}},\"yaxis2\":{\"anchor\":\"x2\",\"domain\":[0.0,1.0],\"matches\":\"y\",\"showticklabels\":false},\"xaxis3\":{\"anchor\":\"y3\",\"domain\":[0.6799999999999999,0.9999999999999999],\"matches\":\"x\",\"title\":{\"text\":\"Dimensione array\"}},\"yaxis3\":{\"anchor\":\"x3\",\"domain\":[0.0,1.0],\"matches\":\"y\",\"showticklabels\":false},\"annotations\":[{\"font\":{},\"showarrow\":false,\"text\":\"Tipo di input=random\",\"x\":0.15999999999999998,\"xanchor\":\"center\",\"xref\":\"paper\",\"y\":1.0,\"yanchor\":\"bottom\",\"yref\":\"paper\"},{\"font\":{},\"showarrow\":false,\"text\":\"Tipo di input=sorted\",\"x\":0.49999999999999994,\"xanchor\":\"center\",\"xref\":\"paper\",\"y\":1.0,\"yanchor\":\"bottom\",\"yref\":\"paper\"},{\"font\":{},\"showarrow\":false,\"text\":\"Tipo di input=reversed\",\"x\":0.8399999999999999,\"xanchor\":\"center\",\"xref\":\"paper\",\"y\":1.0,\"yanchor\":\"bottom\",\"yref\":\"paper\"}],\"legend\":{\"title\":{\"text\":\"Algoritmo di ordinamento\"},\"tracegroupgap\":0},\"title\":{\"text\":\"Sorting algorithms\"}},                        {\"responsive\": true}                    ).then(function(){\n                            \nvar gd = document.getElementById('59fae20a-ecdd-4110-9b24-a6b48032a2b0');\nvar x = new MutationObserver(function (mutations, observer) {{\n        var display = window.getComputedStyle(gd).display;\n        if (!display || display === 'none') {{\n            console.log([gd, 'removed!']);\n            Plotly.purge(gd);\n            observer.disconnect();\n        }}\n}});\n\n// Listen for the removal of the full notebook cells\nvar notebookContainer = gd.closest('#notebook-container');\nif (notebookContainer) {{\n    x.observe(notebookContainer, {childList: true});\n}}\n\n// Listen for the clearing of the current output cell\nvar outputEl = gd.closest('.output');\nif (outputEl) {{\n    x.observe(outputEl, {childList: true});\n}}\n\n                        })                };                });            </script>        </div>"
     },
     "metadata": {},
     "output_type": "display_data"
    }
   ],
   "source": [
    "figure = px.line(df.query(\"num_samples > 0\"),\n",
    "                 x=\"num_samples\",\n",
    "                 y=\"time\",\n",
    "                 color=\"test_type\",\n",
    "                 facet_col=\"input_type\",\n",
    "                 title=\"Sorting algorithms\",\n",
    "                 labels={\"num_samples\": \"Dimensione array\", \"time\": \"Time (s)\", \"test_type\": \"Algoritmo di ordinamento\", \"input_type\": \"Tipo di input\"})\n",
    "figure.show()"
   ],
   "metadata": {
    "collapsed": false
   }
  },
  {
   "cell_type": "markdown",
   "source": [
    "In quest'ultimo test aumentiamo in modo considerevole il range rispetto alla dimensione dell'array e il risultato è evidente; il costo computazionale del _counting sort_ è molto più elevato rispetto ai casi precedenti. Notiamo che il tempo impiegato dal _counting sort_ è di gran lunga superiore rispetto al costo computazionale dell' _insertion sort_, almeno per un numero di elementi fino a 1000 come da noi testato. Ciò che ci aspettiamo è che aumentando il numero degli elementi dell'array è che il costo computazionale dell' _insertion sort_ aumenti in modo considerevole, mentre l'andamento del _counting sort_ rimanga pressoché invariato."
   ],
   "metadata": {
    "collapsed": false
   }
  },
  {
   "cell_type": "markdown",
   "source": [
    "### 3. Array di dimensione 10000"
   ],
   "metadata": {
    "collapsed": false
   }
  },
  {
   "cell_type": "markdown",
   "source": [
    "In questa sezione di test, analizziamo i test eseguiti su array di dimensione 10000 con passo pari a 100 e range di generazione dei numeri da 0 a 10000 e da 0 a 100000. I grafici mostrano i risultati dei test di insertion sort e counting sort in base al tipo di input utilizzato. Aumentiamo quindi in modo considerevole sia la dimensione dell'array che il range di generazione dei numeri."
   ],
   "metadata": {
    "collapsed": false
   }
  },
  {
   "cell_type": "markdown",
   "source": [
    "#### Array di dimensione 10000 con range da 0 a 100000"
   ],
   "metadata": {
    "collapsed": false
   }
  },
  {
   "cell_type": "code",
   "execution_count": 223,
   "outputs": [],
   "source": [
    "df = plot_results(10000, 100, (0, 100000))"
   ],
   "metadata": {
    "collapsed": false
   }
  },
  {
   "cell_type": "code",
   "execution_count": 224,
   "outputs": [
    {
     "data": {
      "application/vnd.plotly.v1+json": {
       "data": [
        {
         "hovertemplate": "Algoritmo di ordinamento=insertion_sort<br>Tipo di input=random<br>Dimensione array=%{x}<br>Time (s)=%{y}<extra></extra>",
         "legendgroup": "insertion_sort",
         "line": {
          "color": "#636efa",
          "dash": "solid"
         },
         "marker": {
          "symbol": "circle"
         },
         "mode": "lines",
         "name": "insertion_sort",
         "orientation": "v",
         "showlegend": true,
         "x": [
          100,
          200,
          300,
          400,
          500,
          600,
          700,
          800,
          900,
          1000,
          1100,
          1200,
          1300,
          1400,
          1500,
          1600,
          1700,
          1800,
          1900,
          2000,
          2100,
          2200,
          2300,
          2400,
          2500,
          2600,
          2700,
          2800,
          2900,
          3000,
          3100,
          3200,
          3300,
          3400,
          3500,
          3600,
          3700,
          3800,
          3900,
          4000,
          4100,
          4200,
          4300,
          4400,
          4500,
          4600,
          4700,
          4800,
          4900,
          5000,
          5100,
          5200,
          5300,
          5400,
          5500,
          5600,
          5700,
          5800,
          5900,
          6000,
          6100,
          6200,
          6300,
          6400,
          6500,
          6600,
          6700,
          6800,
          6900,
          7000,
          7100,
          7200,
          7300,
          7400,
          7500,
          7600,
          7700,
          7800,
          7900,
          8000,
          8100,
          8200,
          8300,
          8400,
          8500,
          8600,
          8700,
          8800,
          8900,
          9000,
          9100,
          9200,
          9300,
          9400,
          9500,
          9600,
          9700,
          9800,
          9900
         ],
         "xaxis": "x",
         "y": [
          6.637999904341996E-4,
          0.002554899954702705,
          0.0053934999741613865,
          0.006314199999906123,
          0.006538200017530471,
          0.01311939995503053,
          0.013483299990184605,
          0.01779730000998825,
          0.02214570000069216,
          0.028416500019375235,
          0.03381999995326623,
          0.039758099999744445,
          0.0480661999899894,
          0.05593969998881221,
          0.06370090000564232,
          0.07347379997372627,
          0.09729159995913506,
          0.0858503999770619,
          0.09655759995803237,
          0.10946720000356436,
          0.11626340000657365,
          0.13406309997662902,
          0.1447014000150375,
          0.1554937000037171,
          0.18549619999248534,
          0.18804560002172366,
          0.1960008000023663,
          0.2145738999824971,
          0.2285068000201136,
          0.24860990000888705,
          0.2727276000077836,
          0.2936395999859087,
          0.3005348999868147,
          0.3226587999961339,
          0.3458041999838315,
          0.35591699997894466,
          0.3844740000204183,
          0.3879437000141479,
          0.4124615000328049,
          0.4457860999973491,
          0.4505924999830313,
          0.47494290000759065,
          0.5428284999798052,
          0.5635202000266872,
          0.5697074000490829,
          0.5635912999860011,
          0.6133285000105388,
          0.6266666000010446,
          0.6330178999924101,
          0.664238800003659,
          0.7090246999869123,
          0.7449188000173308,
          0.7977573000243865,
          0.8475661000120454,
          0.8413629999849945,
          0.8653730999794789,
          0.8945073999930173,
          0.9235283000161871,
          0.9464701999677345,
          0.9737702999846078,
          1.022379899979569,
          1.0778037999989465,
          1.0830609999829903,
          1.0780313000432216,
          1.162666900025215,
          1.210171699989587,
          1.2231872999691404,
          1.2760329999728128,
          1.297350600012578,
          1.349396399979014,
          1.3677834999980405,
          1.4322912000352517,
          1.4699986000196077,
          1.4643734999699518,
          1.6146184999961406,
          1.6667844000039622,
          1.696950800018385,
          1.7304100000183098,
          1.789639599970542,
          1.840328700025566,
          1.8639579999726266,
          1.8027678999933414,
          1.8670255999895744,
          1.9689742000191472,
          2.0072548000025563,
          2.0810167999588884,
          2.1675083999871276,
          2.242514299985487,
          2.0867960000177845,
          2.234512700000778,
          2.266052400053013,
          2.311367699992843,
          2.3804166999761946,
          2.4322528999764472,
          2.395912199979648,
          2.4463692999561317,
          2.594544399995357,
          2.624200500024017,
          2.6684811000013724
         ],
         "yaxis": "y",
         "type": "scatter"
        },
        {
         "hovertemplate": "Algoritmo di ordinamento=insertion_sort<br>Tipo di input=sorted<br>Dimensione array=%{x}<br>Time (s)=%{y}<extra></extra>",
         "legendgroup": "insertion_sort",
         "line": {
          "color": "#636efa",
          "dash": "solid"
         },
         "marker": {
          "symbol": "circle"
         },
         "mode": "lines",
         "name": "insertion_sort",
         "orientation": "v",
         "showlegend": false,
         "x": [
          100,
          200,
          300,
          400,
          500,
          600,
          700,
          800,
          900,
          1000,
          1100,
          1200,
          1300,
          1400,
          1500,
          1600,
          1700,
          1800,
          1900,
          2000,
          2100,
          2200,
          2300,
          2400,
          2500,
          2600,
          2700,
          2800,
          2900,
          3000,
          3100,
          3200,
          3300,
          3400,
          3500,
          3600,
          3700,
          3800,
          3900,
          4000,
          4100,
          4200,
          4300,
          4400,
          4500,
          4600,
          4700,
          4800,
          4900,
          5000,
          5100,
          5200,
          5300,
          5400,
          5500,
          5600,
          5700,
          5800,
          5900,
          6000,
          6100,
          6200,
          6300,
          6400,
          6500,
          6600,
          6700,
          6800,
          6900,
          7000,
          7100,
          7200,
          7300,
          7400,
          7500,
          7600,
          7700,
          7800,
          7900,
          8000,
          8100,
          8200,
          8300,
          8400,
          8500,
          8600,
          8700,
          8800,
          8900,
          9000,
          9100,
          9200,
          9300,
          9400,
          9500,
          9600,
          9700,
          9800,
          9900
         ],
         "xaxis": "x2",
         "y": [
          1.2299977242946625E-5,
          2.3100001271814108E-5,
          3.5699980799108744E-5,
          4.880002234131098E-5,
          6.400002166628838E-5,
          7.569999434053898E-5,
          9.079999290406704E-5,
          1.0270002530887723E-4,
          1.2390001211315393E-4,
          1.294999965466559E-4,
          1.431000418961048E-4,
          1.564000267535448E-4,
          1.697000116109848E-4,
          1.8350000027567148E-4,
          1.9690004410222173E-4,
          2.5049998657777905E-4,
          2.2250000620260835E-4,
          2.3879995569586754E-4,
          2.513999934308231E-4,
          2.6699999580159783E-4,
          2.772999578155577E-4,
          2.91300006210804E-4,
          3.0399998649954796E-4,
          3.2079999800771475E-4,
          3.331999760121107E-4,
          3.449000068940222E-4,
          3.5849999403581023E-4,
          3.7159997737035155E-4,
          3.844000166282058E-4,
          4.0149997221305966E-4,
          4.120999947190285E-4,
          4.243999719619751E-4,
          4.360000020824373E-4,
          4.521000082604587E-4,
          4.6579999616369605E-4,
          4.7940004151314497E-4,
          4.931000294163823E-4,
          5.07500022649765E-4,
          5.196999991312623E-4,
          5.333999870344996E-4,
          5.481999833136797E-4,
          5.680000176653266E-4,
          5.645000492222607E-4,
          5.777999758720398E-4,
          5.908999592065811E-4,
          6.044000037945807E-4,
          6.165000377222896E-4,
          6.308999727480114E-4,
          6.446000188589096E-4,
          7.353000110015273E-4,
          6.784999859519303E-4,
          7.037000032141805E-4,
          7.07399973180145E-4,
          7.122000097297132E-4,
          7.235000375658274E-4,
          7.374000269919634E-4,
          7.582000107504427E-4,
          7.634999928995967E-4,
          7.855999865569174E-4,
          7.903000223450363E-4,
          8.033000049181283E-4,
          8.170000510290265E-4,
          8.298000320792198E-4,
          8.430999587289989E-4,
          9.001000435091555E-4,
          8.782000513747334E-4,
          8.834999753162265E-4,
          9.033000096678734E-4,
          9.196000173687935E-4,
          9.230999858118594E-4,
          9.363999706692994E-4,
          9.551000548526645E-4,
          9.628999978303909E-4,
          9.89499967545271E-4,
          9.91899985820055E-4,
          0.0010029000113718212,
          0.0010537999914959073,
          0.0010399000020697713,
          0.0010578999645076692,
          0.00105640001129359,
          0.001067299977876246,
          0.0010824999772012234,
          0.0011072000488638878,
          0.0011089000036008656,
          0.001122599991504103,
          0.0011359999771229923,
          0.0011614999966695905,
          0.0011474000057205558,
          0.001166999980341643,
          0.0011795000173151493,
          0.0011929000029340386,
          0.0012129999813623726,
          0.0012220999924466014,
          0.0012323000119067729,
          0.0012451999937184155,
          0.0012598999892361462,
          0.0013055999879725277,
          0.0013173000188544393,
          0.0013174000196158886
         ],
         "yaxis": "y2",
         "type": "scatter"
        },
        {
         "hovertemplate": "Algoritmo di ordinamento=insertion_sort<br>Tipo di input=reversed<br>Dimensione array=%{x}<br>Time (s)=%{y}<extra></extra>",
         "legendgroup": "insertion_sort",
         "line": {
          "color": "#636efa",
          "dash": "solid"
         },
         "marker": {
          "symbol": "circle"
         },
         "mode": "lines",
         "name": "insertion_sort",
         "orientation": "v",
         "showlegend": false,
         "x": [
          100,
          200,
          300,
          400,
          500,
          600,
          700,
          800,
          900,
          1000,
          1100,
          1200,
          1300,
          1400,
          1500,
          1600,
          1700,
          1800,
          1900,
          2000,
          2100,
          2200,
          2300,
          2400,
          2500,
          2600,
          2700,
          2800,
          2900,
          3000,
          3100,
          3200,
          3300,
          3400,
          3500,
          3600,
          3700,
          3800,
          3900,
          4000,
          4100,
          4200,
          4300,
          4400,
          4500,
          4600,
          4700,
          4800,
          4900,
          5000,
          5100,
          5200,
          5300,
          5400,
          5500,
          5600,
          5700,
          5800,
          5900,
          6000,
          6100,
          6200,
          6300,
          6400,
          6500,
          6600,
          6700,
          6800,
          6900,
          7000,
          7100,
          7200,
          7300,
          7400,
          7500,
          7600,
          7700,
          7800,
          7900,
          8000,
          8100,
          8200,
          8300,
          8400,
          8500,
          8600,
          8700,
          8800,
          8900,
          9000,
          9100,
          9200,
          9300,
          9400,
          9500,
          9600,
          9700,
          9800,
          9900
         ],
         "xaxis": "x3",
         "y": [
          5.127000040374696E-4,
          0.002034400007687509,
          0.004603799956385046,
          0.008330399985425174,
          0.013245099980849773,
          0.019365499960258603,
          0.02652690000832081,
          0.03499700000975281,
          0.044515299960039556,
          0.055226000025868416,
          0.06867269997019321,
          0.08108010003343225,
          0.09493939997628331,
          0.11067059997003525,
          0.12639239995041862,
          0.14299270004266873,
          0.16190190002089366,
          0.18182749999687076,
          0.20593890000600368,
          0.22760929999640211,
          0.25216410000575706,
          0.2745645000250079,
          0.3011593999690376,
          0.3289560999837704,
          0.356634599971585,
          0.386321300000418,
          0.4187347000115551,
          0.446312099986244,
          0.4798118000035174,
          0.5164583999430761,
          0.5497758000274189,
          0.5585067999782041,
          0.5990063999779522,
          0.6397606999962591,
          0.6550065000192262,
          0.7115069999708794,
          0.8153347999905236,
          0.7628139000153169,
          0.8339706999831833,
          0.8785927999997512,
          0.9249995999853127,
          0.9825618999893777,
          1.0658544999896549,
          1.0872163000167347,
          1.1675610999809578,
          1.1649750999640673,
          1.234640299982857,
          1.3137232000008225,
          1.3528656999696977,
          1.4186133000184782,
          1.4898930999916047,
          1.4734056000015698,
          1.5357870000298135,
          1.618979400023818,
          1.6894538000342436,
          1.7122937999665737,
          1.826561900030356,
          1.9217274999828078,
          1.9646444999962114,
          2.066396500042174,
          2.0461925000417978,
          2.1189275999786332,
          2.1376276000519283,
          2.2237053000135347,
          2.249301200034097,
          2.3562001999816857,
          2.4630050000268966,
          2.50171759998193,
          2.6170585000072606,
          2.7653173000435345,
          2.96325450000586,
          2.924452899955213,
          3.0174171999678947,
          3.167147899977863,
          3.113806499983184,
          3.1922249000053853,
          3.2526541000115685,
          3.3623989999759942,
          3.378344200027641,
          3.543448599986732,
          3.723132800019812,
          3.6534041999839246,
          3.8403139000292867,
          3.8976104999892414,
          3.9296445000218228,
          4.125164499972016,
          4.226217399991583,
          4.340904000040609,
          4.35435989999678,
          4.476064600050449,
          4.678719900024589,
          4.665354600001592,
          4.7558756999787875,
          4.77089090005029,
          5.092662899987772,
          5.110076399985701,
          5.189545699977316,
          5.2715576000045985,
          5.3598098999937065
         ],
         "yaxis": "y3",
         "type": "scatter"
        },
        {
         "hovertemplate": "Algoritmo di ordinamento=counting_sort<br>Tipo di input=random<br>Dimensione array=%{x}<br>Time (s)=%{y}<extra></extra>",
         "legendgroup": "counting_sort",
         "line": {
          "color": "#EF553B",
          "dash": "solid"
         },
         "marker": {
          "symbol": "circle"
         },
         "mode": "lines",
         "name": "counting_sort",
         "orientation": "v",
         "showlegend": true,
         "x": [
          100,
          200,
          300,
          400,
          500,
          600,
          700,
          800,
          900,
          1000,
          1100,
          1200,
          1300,
          1400,
          1500,
          1600,
          1700,
          1800,
          1900,
          2000,
          2100,
          2200,
          2300,
          2400,
          2500,
          2600,
          2700,
          2800,
          2900,
          3000,
          3100,
          3200,
          3300,
          3400,
          3500,
          3600,
          3700,
          3800,
          3900,
          4000,
          4100,
          4200,
          4300,
          4400,
          4500,
          4600,
          4700,
          4800,
          4900,
          5000,
          5100,
          5200,
          5300,
          5400,
          5500,
          5600,
          5700,
          5800,
          5900,
          6000,
          6100,
          6200,
          6300,
          6400,
          6500,
          6600,
          6700,
          6800,
          6900,
          7000,
          7100,
          7200,
          7300,
          7400,
          7500,
          7600,
          7700,
          7800,
          7900,
          8000,
          8100,
          8200,
          8300,
          8400,
          8500,
          8600,
          8700,
          8800,
          8900,
          9000,
          9100,
          9200,
          9300,
          9400,
          9500,
          9600,
          9700,
          9800,
          9900
         ],
         "xaxis": "x",
         "y": [
          0.008684500004164875,
          0.008624999958556145,
          0.008745700004510581,
          0.010684899985790253,
          0.009285900043323636,
          0.009110199986025691,
          0.009332899993751198,
          0.00931930000660941,
          0.009347799990791827,
          0.009468399977777153,
          0.00947049999376759,
          0.009602600010111928,
          0.009541400009766221,
          0.009459400025662035,
          0.00975950004067272,
          0.009755800012499094,
          0.009746800002176315,
          0.009767499985173345,
          0.009810400020796806,
          0.010010600031819195,
          0.009899199998471886,
          0.010189900000113994,
          0.010128699999768287,
          0.00996230001328513,
          0.0101771000190638,
          0.01023479999275878,
          0.010028199991211295,
          0.010211799992248416,
          0.010363399982452393,
          0.010130200011190027,
          0.010436900018248707,
          0.01027650001924485,
          0.01017429999774322,
          0.010203100042417645,
          0.010292100021615624,
          0.010230200015939772,
          0.01031340000918135,
          0.010310899990145117,
          0.010257399990223348,
          0.01035789999878034,
          0.010639699990861118,
          0.010116899968124926,
          0.01047199999447912,
          0.010468599968589842,
          0.010388700000476092,
          0.01050160004524514,
          0.010624899994581938,
          0.010424300038721412,
          0.01051930000539869,
          0.010448099987115711,
          0.010483600024599582,
          0.010362200031522661,
          0.010480500000994653,
          0.010488500003702939,
          0.010652200027834624,
          0.010606499970890582,
          0.010574600019026548,
          0.010658200015313923,
          0.010901500005275011,
          0.010646499984432012,
          0.010692099982406944,
          0.011037900054361671,
          0.010967900045216084,
          0.01082899997709319,
          0.011022099992260337,
          0.011105200042948127,
          0.010930399992503226,
          0.011078200011979789,
          0.011019700032193214,
          0.010984099993947893,
          0.010914200043771416,
          0.01105119998101145,
          0.011054100003093481,
          0.010964400018565357,
          0.01110030000563711,
          0.01106459996663034,
          0.011124700016807765,
          0.011051899986341596,
          0.011262699961662292,
          0.01138899999205023,
          0.011080500029493123,
          0.01120069995522499,
          0.01167810003971681,
          0.011353199952282012,
          0.011169500008691102,
          0.011330400011502206,
          0.012054099992383271,
          0.01141430001007393,
          0.01124399999389425,
          0.013254699995741248,
          0.011518699990119785,
          0.011467300006188452,
          0.01133730000583455,
          0.01103670004522428,
          0.011447999975644052,
          0.011524099973030388,
          0.011431200022343546,
          0.013357099960558116,
          0.011523300025146455
         ],
         "yaxis": "y",
         "type": "scatter"
        },
        {
         "hovertemplate": "Algoritmo di ordinamento=counting_sort<br>Tipo di input=sorted<br>Dimensione array=%{x}<br>Time (s)=%{y}<extra></extra>",
         "legendgroup": "counting_sort",
         "line": {
          "color": "#EF553B",
          "dash": "solid"
         },
         "marker": {
          "symbol": "circle"
         },
         "mode": "lines",
         "name": "counting_sort",
         "orientation": "v",
         "showlegend": false,
         "x": [
          100,
          200,
          300,
          400,
          500,
          600,
          700,
          800,
          900,
          1000,
          1100,
          1200,
          1300,
          1400,
          1500,
          1600,
          1700,
          1800,
          1900,
          2000,
          2100,
          2200,
          2300,
          2400,
          2500,
          2600,
          2700,
          2800,
          2900,
          3000,
          3100,
          3200,
          3300,
          3400,
          3500,
          3600,
          3700,
          3800,
          3900,
          4000,
          4100,
          4200,
          4300,
          4400,
          4500,
          4600,
          4700,
          4800,
          4900,
          5000,
          5100,
          5200,
          5300,
          5400,
          5500,
          5600,
          5700,
          5800,
          5900,
          6000,
          6100,
          6200,
          6300,
          6400,
          6500,
          6600,
          6700,
          6800,
          6900,
          7000,
          7100,
          7200,
          7300,
          7400,
          7500,
          7600,
          7700,
          7800,
          7900,
          8000,
          8100,
          8200,
          8300,
          8400,
          8500,
          8600,
          8700,
          8800,
          8900,
          9000,
          9100,
          9200,
          9300,
          9400,
          9500,
          9600,
          9700,
          9800,
          9900
         ],
         "xaxis": "x2",
         "y": [
          0.00896230002399534,
          0.008893100020941347,
          0.009099799965042621,
          0.009322999976575375,
          0.009589799970854074,
          0.009592299989890307,
          0.009513999975752085,
          0.009746800002176315,
          0.00971930002560839,
          0.009833100019022822,
          0.009930400003213435,
          0.009866899985354394,
          0.009873799979686737,
          0.009915300004649907,
          0.0099045000388287,
          0.010000600013881922,
          0.010024100018199533,
          0.009970500017516315,
          0.010058300045784563,
          0.009912699984852225,
          0.010076900012791157,
          0.010074599995277822,
          0.009985900018364191,
          0.010096099984366447,
          0.010198700008913875,
          0.010064299975056201,
          0.010001799964811653,
          0.01023499999428168,
          0.010077700018882751,
          0.010311099991668016,
          0.012699300015810877,
          0.01690049999160692,
          0.01685940002789721,
          0.0145953000173904,
          0.01726659998530522,
          0.014813999994657934,
          0.015717500005848706,
          0.01718690001871437,
          0.01732180005637929,
          0.013203300011809915,
          0.010159800003748387,
          0.010225800040643662,
          0.01012390002142638,
          0.010235699999611825,
          0.010283700015861541,
          0.010212099994532764,
          0.01025559997651726,
          0.010251999949105084,
          0.010224900033790618,
          0.010355899983551353,
          0.010473100002855062,
          0.010288999998010695,
          0.010344100010115653,
          0.010474599956069142,
          0.010337000014260411,
          0.010456799995154142,
          0.010991199989803135,
          0.01107050001155585,
          0.012003099953290075,
          0.010732599999755621,
          0.010575000022072345,
          0.010675399971660227,
          0.012761999969370663,
          0.010556900000665337,
          0.01084830000763759,
          0.010524499986786395,
          0.010912600031588227,
          0.010758600023109466,
          0.010735899966675788,
          0.01117419998627156,
          0.010831499996129423,
          0.010906399984378368,
          0.010704099957365543,
          0.010733000002801418,
          0.011184900009538978,
          0.010708200046792626,
          0.011020599980838597,
          0.010608799988403916,
          0.011378199968021363,
          0.011737700027879328,
          0.011054400005377829,
          0.012708399968687445,
          0.01102009997703135,
          0.01097430003574118,
          0.011117800022475421,
          0.012305299984291196,
          0.01278329995693639,
          0.011128699989058077,
          0.010943999979645014,
          0.01085129997227341,
          0.011105099983979017,
          0.011066800041589886,
          0.010845999990124255,
          0.01123929995810613,
          0.011435899999924004,
          0.011084199999459088,
          0.011245799949392676,
          0.011238099948968738,
          0.01130459998967126
         ],
         "yaxis": "y2",
         "type": "scatter"
        },
        {
         "hovertemplate": "Algoritmo di ordinamento=counting_sort<br>Tipo di input=reversed<br>Dimensione array=%{x}<br>Time (s)=%{y}<extra></extra>",
         "legendgroup": "counting_sort",
         "line": {
          "color": "#EF553B",
          "dash": "solid"
         },
         "marker": {
          "symbol": "circle"
         },
         "mode": "lines",
         "name": "counting_sort",
         "orientation": "v",
         "showlegend": false,
         "x": [
          100,
          200,
          300,
          400,
          500,
          600,
          700,
          800,
          900,
          1000,
          1100,
          1200,
          1300,
          1400,
          1500,
          1600,
          1700,
          1800,
          1900,
          2000,
          2100,
          2200,
          2300,
          2400,
          2500,
          2600,
          2700,
          2800,
          2900,
          3000,
          3100,
          3200,
          3300,
          3400,
          3500,
          3600,
          3700,
          3800,
          3900,
          4000,
          4100,
          4200,
          4300,
          4400,
          4500,
          4600,
          4700,
          4800,
          4900,
          5000,
          5100,
          5200,
          5300,
          5400,
          5500,
          5600,
          5700,
          5800,
          5900,
          6000,
          6100,
          6200,
          6300,
          6400,
          6500,
          6600,
          6700,
          6800,
          6900,
          7000,
          7100,
          7200,
          7300,
          7400,
          7500,
          7600,
          7700,
          7800,
          7900,
          8000,
          8100,
          8200,
          8300,
          8400,
          8500,
          8600,
          8700,
          8800,
          8900,
          9000,
          9100,
          9200,
          9300,
          9400,
          9500,
          9600,
          9700,
          9800,
          9900
         ],
         "xaxis": "x3",
         "y": [
          0.008714299998246133,
          0.008964299981016666,
          0.008941000036429614,
          0.009227499947883189,
          0.009311300003901124,
          0.009357700007967651,
          0.009550000017043203,
          0.009530899988021702,
          0.009513899974990636,
          0.009758599975612015,
          0.009693800006061792,
          0.009901900019031018,
          0.009896500036120415,
          0.009912599984090775,
          0.010272099985741079,
          0.009983700001612306,
          0.009975900000426918,
          0.010046400013379753,
          0.0100273999851197,
          0.010230099956970662,
          0.010004500043578446,
          0.01002009998774156,
          0.010383699962403625,
          0.010197600000537932,
          0.010230300016701221,
          0.010354500031098723,
          0.01019040000392124,
          0.010133699979633093,
          0.010132400027941912,
          0.010392800031695515,
          0.010102800035383552,
          0.010376099962741137,
          0.010279800044372678,
          0.010226499987766147,
          0.010479599994141608,
          0.01031629997305572,
          0.010277700028382242,
          0.010377999977208674,
          0.010492399975191802,
          0.010517199989408255,
          0.01045870000962168,
          0.010456199990585446,
          0.01046620000852272,
          0.010449499997776002,
          0.010621300025377423,
          0.010619600012432784,
          0.010450200003106147,
          0.010713400028180331,
          0.010576699976809323,
          0.010620700020808727,
          0.010600999987218529,
          0.010664100002031773,
          0.010509299987461418,
          0.01064700004644692,
          0.010763600002974272,
          0.010872599959839135,
          0.010738500044681132,
          0.010853799991309643,
          0.010833200009074062,
          0.01096079999115318,
          0.010970399947836995,
          0.010841700015589595,
          0.010927099967375398,
          0.010787400009576231,
          0.012468900007661432,
          0.010976899997331202,
          0.010883299983106554,
          0.010984199994709343,
          0.011224999965634197,
          0.011124800017569214,
          0.01104250003118068,
          0.011043300037272274,
          0.012917899992316961,
          0.01077880000229925,
          0.010874100029468536,
          0.01094459998421371,
          0.010856500011868775,
          0.010723999992478639,
          0.010861600050702691,
          0.012120200030039996,
          0.012241199961863458,
          0.010835599969141185,
          0.011178100015968084,
          0.011110800027381629,
          0.011099800001829863,
          0.010997599980328232,
          0.011224000016227365,
          0.011159199988469481,
          0.01123499998357147,
          0.011049000022467226,
          0.011251699994318187,
          0.01122169999871403,
          0.011251099989749491,
          0.011173599981702864,
          0.01144839997868985,
          0.011437000008299947,
          0.011380699987057596,
          0.011227399983908981,
          0.01140400004805997
         ],
         "yaxis": "y3",
         "type": "scatter"
        }
       ],
       "layout": {
        "template": {
         "data": {
          "histogram2dcontour": [
           {
            "type": "histogram2dcontour",
            "colorbar": {
             "outlinewidth": 0,
             "ticks": ""
            },
            "colorscale": [
             [
              0.0,
              "#0d0887"
             ],
             [
              0.1111111111111111,
              "#46039f"
             ],
             [
              0.2222222222222222,
              "#7201a8"
             ],
             [
              0.3333333333333333,
              "#9c179e"
             ],
             [
              0.4444444444444444,
              "#bd3786"
             ],
             [
              0.5555555555555556,
              "#d8576b"
             ],
             [
              0.6666666666666666,
              "#ed7953"
             ],
             [
              0.7777777777777778,
              "#fb9f3a"
             ],
             [
              0.8888888888888888,
              "#fdca26"
             ],
             [
              1.0,
              "#f0f921"
             ]
            ]
           }
          ],
          "choropleth": [
           {
            "type": "choropleth",
            "colorbar": {
             "outlinewidth": 0,
             "ticks": ""
            }
           }
          ],
          "histogram2d": [
           {
            "type": "histogram2d",
            "colorbar": {
             "outlinewidth": 0,
             "ticks": ""
            },
            "colorscale": [
             [
              0.0,
              "#0d0887"
             ],
             [
              0.1111111111111111,
              "#46039f"
             ],
             [
              0.2222222222222222,
              "#7201a8"
             ],
             [
              0.3333333333333333,
              "#9c179e"
             ],
             [
              0.4444444444444444,
              "#bd3786"
             ],
             [
              0.5555555555555556,
              "#d8576b"
             ],
             [
              0.6666666666666666,
              "#ed7953"
             ],
             [
              0.7777777777777778,
              "#fb9f3a"
             ],
             [
              0.8888888888888888,
              "#fdca26"
             ],
             [
              1.0,
              "#f0f921"
             ]
            ]
           }
          ],
          "heatmap": [
           {
            "type": "heatmap",
            "colorbar": {
             "outlinewidth": 0,
             "ticks": ""
            },
            "colorscale": [
             [
              0.0,
              "#0d0887"
             ],
             [
              0.1111111111111111,
              "#46039f"
             ],
             [
              0.2222222222222222,
              "#7201a8"
             ],
             [
              0.3333333333333333,
              "#9c179e"
             ],
             [
              0.4444444444444444,
              "#bd3786"
             ],
             [
              0.5555555555555556,
              "#d8576b"
             ],
             [
              0.6666666666666666,
              "#ed7953"
             ],
             [
              0.7777777777777778,
              "#fb9f3a"
             ],
             [
              0.8888888888888888,
              "#fdca26"
             ],
             [
              1.0,
              "#f0f921"
             ]
            ]
           }
          ],
          "heatmapgl": [
           {
            "type": "heatmapgl",
            "colorbar": {
             "outlinewidth": 0,
             "ticks": ""
            },
            "colorscale": [
             [
              0.0,
              "#0d0887"
             ],
             [
              0.1111111111111111,
              "#46039f"
             ],
             [
              0.2222222222222222,
              "#7201a8"
             ],
             [
              0.3333333333333333,
              "#9c179e"
             ],
             [
              0.4444444444444444,
              "#bd3786"
             ],
             [
              0.5555555555555556,
              "#d8576b"
             ],
             [
              0.6666666666666666,
              "#ed7953"
             ],
             [
              0.7777777777777778,
              "#fb9f3a"
             ],
             [
              0.8888888888888888,
              "#fdca26"
             ],
             [
              1.0,
              "#f0f921"
             ]
            ]
           }
          ],
          "contourcarpet": [
           {
            "type": "contourcarpet",
            "colorbar": {
             "outlinewidth": 0,
             "ticks": ""
            }
           }
          ],
          "contour": [
           {
            "type": "contour",
            "colorbar": {
             "outlinewidth": 0,
             "ticks": ""
            },
            "colorscale": [
             [
              0.0,
              "#0d0887"
             ],
             [
              0.1111111111111111,
              "#46039f"
             ],
             [
              0.2222222222222222,
              "#7201a8"
             ],
             [
              0.3333333333333333,
              "#9c179e"
             ],
             [
              0.4444444444444444,
              "#bd3786"
             ],
             [
              0.5555555555555556,
              "#d8576b"
             ],
             [
              0.6666666666666666,
              "#ed7953"
             ],
             [
              0.7777777777777778,
              "#fb9f3a"
             ],
             [
              0.8888888888888888,
              "#fdca26"
             ],
             [
              1.0,
              "#f0f921"
             ]
            ]
           }
          ],
          "surface": [
           {
            "type": "surface",
            "colorbar": {
             "outlinewidth": 0,
             "ticks": ""
            },
            "colorscale": [
             [
              0.0,
              "#0d0887"
             ],
             [
              0.1111111111111111,
              "#46039f"
             ],
             [
              0.2222222222222222,
              "#7201a8"
             ],
             [
              0.3333333333333333,
              "#9c179e"
             ],
             [
              0.4444444444444444,
              "#bd3786"
             ],
             [
              0.5555555555555556,
              "#d8576b"
             ],
             [
              0.6666666666666666,
              "#ed7953"
             ],
             [
              0.7777777777777778,
              "#fb9f3a"
             ],
             [
              0.8888888888888888,
              "#fdca26"
             ],
             [
              1.0,
              "#f0f921"
             ]
            ]
           }
          ],
          "mesh3d": [
           {
            "type": "mesh3d",
            "colorbar": {
             "outlinewidth": 0,
             "ticks": ""
            }
           }
          ],
          "scatter": [
           {
            "marker": {
             "line": {
              "color": "#283442"
             }
            },
            "type": "scatter"
           }
          ],
          "parcoords": [
           {
            "type": "parcoords",
            "line": {
             "colorbar": {
              "outlinewidth": 0,
              "ticks": ""
             }
            }
           }
          ],
          "scatterpolargl": [
           {
            "type": "scatterpolargl",
            "marker": {
             "colorbar": {
              "outlinewidth": 0,
              "ticks": ""
             }
            }
           }
          ],
          "bar": [
           {
            "error_x": {
             "color": "#f2f5fa"
            },
            "error_y": {
             "color": "#f2f5fa"
            },
            "marker": {
             "line": {
              "color": "rgb(17,17,17)",
              "width": 0.5
             },
             "pattern": {
              "fillmode": "overlay",
              "size": 10,
              "solidity": 0.2
             }
            },
            "type": "bar"
           }
          ],
          "scattergeo": [
           {
            "type": "scattergeo",
            "marker": {
             "colorbar": {
              "outlinewidth": 0,
              "ticks": ""
             }
            }
           }
          ],
          "scatterpolar": [
           {
            "type": "scatterpolar",
            "marker": {
             "colorbar": {
              "outlinewidth": 0,
              "ticks": ""
             }
            }
           }
          ],
          "histogram": [
           {
            "marker": {
             "pattern": {
              "fillmode": "overlay",
              "size": 10,
              "solidity": 0.2
             }
            },
            "type": "histogram"
           }
          ],
          "scattergl": [
           {
            "marker": {
             "line": {
              "color": "#283442"
             }
            },
            "type": "scattergl"
           }
          ],
          "scatter3d": [
           {
            "type": "scatter3d",
            "line": {
             "colorbar": {
              "outlinewidth": 0,
              "ticks": ""
             }
            },
            "marker": {
             "colorbar": {
              "outlinewidth": 0,
              "ticks": ""
             }
            }
           }
          ],
          "scattermapbox": [
           {
            "type": "scattermapbox",
            "marker": {
             "colorbar": {
              "outlinewidth": 0,
              "ticks": ""
             }
            }
           }
          ],
          "scatterternary": [
           {
            "type": "scatterternary",
            "marker": {
             "colorbar": {
              "outlinewidth": 0,
              "ticks": ""
             }
            }
           }
          ],
          "scattercarpet": [
           {
            "type": "scattercarpet",
            "marker": {
             "colorbar": {
              "outlinewidth": 0,
              "ticks": ""
             }
            }
           }
          ],
          "carpet": [
           {
            "aaxis": {
             "endlinecolor": "#A2B1C6",
             "gridcolor": "#506784",
             "linecolor": "#506784",
             "minorgridcolor": "#506784",
             "startlinecolor": "#A2B1C6"
            },
            "baxis": {
             "endlinecolor": "#A2B1C6",
             "gridcolor": "#506784",
             "linecolor": "#506784",
             "minorgridcolor": "#506784",
             "startlinecolor": "#A2B1C6"
            },
            "type": "carpet"
           }
          ],
          "table": [
           {
            "cells": {
             "fill": {
              "color": "#506784"
             },
             "line": {
              "color": "rgb(17,17,17)"
             }
            },
            "header": {
             "fill": {
              "color": "#2a3f5f"
             },
             "line": {
              "color": "rgb(17,17,17)"
             }
            },
            "type": "table"
           }
          ],
          "barpolar": [
           {
            "marker": {
             "line": {
              "color": "rgb(17,17,17)",
              "width": 0.5
             },
             "pattern": {
              "fillmode": "overlay",
              "size": 10,
              "solidity": 0.2
             }
            },
            "type": "barpolar"
           }
          ],
          "pie": [
           {
            "automargin": true,
            "type": "pie"
           }
          ]
         },
         "layout": {
          "autotypenumbers": "strict",
          "colorway": [
           "#636efa",
           "#EF553B",
           "#00cc96",
           "#ab63fa",
           "#FFA15A",
           "#19d3f3",
           "#FF6692",
           "#B6E880",
           "#FF97FF",
           "#FECB52"
          ],
          "font": {
           "color": "#f2f5fa"
          },
          "hovermode": "closest",
          "hoverlabel": {
           "align": "left"
          },
          "paper_bgcolor": "rgb(17,17,17)",
          "plot_bgcolor": "rgb(17,17,17)",
          "polar": {
           "bgcolor": "rgb(17,17,17)",
           "angularaxis": {
            "gridcolor": "#506784",
            "linecolor": "#506784",
            "ticks": ""
           },
           "radialaxis": {
            "gridcolor": "#506784",
            "linecolor": "#506784",
            "ticks": ""
           }
          },
          "ternary": {
           "bgcolor": "rgb(17,17,17)",
           "aaxis": {
            "gridcolor": "#506784",
            "linecolor": "#506784",
            "ticks": ""
           },
           "baxis": {
            "gridcolor": "#506784",
            "linecolor": "#506784",
            "ticks": ""
           },
           "caxis": {
            "gridcolor": "#506784",
            "linecolor": "#506784",
            "ticks": ""
           }
          },
          "coloraxis": {
           "colorbar": {
            "outlinewidth": 0,
            "ticks": ""
           }
          },
          "colorscale": {
           "sequential": [
            [
             0.0,
             "#0d0887"
            ],
            [
             0.1111111111111111,
             "#46039f"
            ],
            [
             0.2222222222222222,
             "#7201a8"
            ],
            [
             0.3333333333333333,
             "#9c179e"
            ],
            [
             0.4444444444444444,
             "#bd3786"
            ],
            [
             0.5555555555555556,
             "#d8576b"
            ],
            [
             0.6666666666666666,
             "#ed7953"
            ],
            [
             0.7777777777777778,
             "#fb9f3a"
            ],
            [
             0.8888888888888888,
             "#fdca26"
            ],
            [
             1.0,
             "#f0f921"
            ]
           ],
           "sequentialminus": [
            [
             0.0,
             "#0d0887"
            ],
            [
             0.1111111111111111,
             "#46039f"
            ],
            [
             0.2222222222222222,
             "#7201a8"
            ],
            [
             0.3333333333333333,
             "#9c179e"
            ],
            [
             0.4444444444444444,
             "#bd3786"
            ],
            [
             0.5555555555555556,
             "#d8576b"
            ],
            [
             0.6666666666666666,
             "#ed7953"
            ],
            [
             0.7777777777777778,
             "#fb9f3a"
            ],
            [
             0.8888888888888888,
             "#fdca26"
            ],
            [
             1.0,
             "#f0f921"
            ]
           ],
           "diverging": [
            [
             0,
             "#8e0152"
            ],
            [
             0.1,
             "#c51b7d"
            ],
            [
             0.2,
             "#de77ae"
            ],
            [
             0.3,
             "#f1b6da"
            ],
            [
             0.4,
             "#fde0ef"
            ],
            [
             0.5,
             "#f7f7f7"
            ],
            [
             0.6,
             "#e6f5d0"
            ],
            [
             0.7,
             "#b8e186"
            ],
            [
             0.8,
             "#7fbc41"
            ],
            [
             0.9,
             "#4d9221"
            ],
            [
             1,
             "#276419"
            ]
           ]
          },
          "xaxis": {
           "gridcolor": "#283442",
           "linecolor": "#506784",
           "ticks": "",
           "title": {
            "standoff": 15
           },
           "zerolinecolor": "#283442",
           "automargin": true,
           "zerolinewidth": 2
          },
          "yaxis": {
           "gridcolor": "#283442",
           "linecolor": "#506784",
           "ticks": "",
           "title": {
            "standoff": 15
           },
           "zerolinecolor": "#283442",
           "automargin": true,
           "zerolinewidth": 2
          },
          "scene": {
           "xaxis": {
            "backgroundcolor": "rgb(17,17,17)",
            "gridcolor": "#506784",
            "linecolor": "#506784",
            "showbackground": true,
            "ticks": "",
            "zerolinecolor": "#C8D4E3",
            "gridwidth": 2
           },
           "yaxis": {
            "backgroundcolor": "rgb(17,17,17)",
            "gridcolor": "#506784",
            "linecolor": "#506784",
            "showbackground": true,
            "ticks": "",
            "zerolinecolor": "#C8D4E3",
            "gridwidth": 2
           },
           "zaxis": {
            "backgroundcolor": "rgb(17,17,17)",
            "gridcolor": "#506784",
            "linecolor": "#506784",
            "showbackground": true,
            "ticks": "",
            "zerolinecolor": "#C8D4E3",
            "gridwidth": 2
           }
          },
          "shapedefaults": {
           "line": {
            "color": "#f2f5fa"
           }
          },
          "annotationdefaults": {
           "arrowcolor": "#f2f5fa",
           "arrowhead": 0,
           "arrowwidth": 1
          },
          "geo": {
           "bgcolor": "rgb(17,17,17)",
           "landcolor": "rgb(17,17,17)",
           "subunitcolor": "#506784",
           "showland": true,
           "showlakes": true,
           "lakecolor": "rgb(17,17,17)"
          },
          "title": {
           "x": 0.05
          },
          "updatemenudefaults": {
           "bgcolor": "#506784",
           "borderwidth": 0
          },
          "sliderdefaults": {
           "bgcolor": "#C8D4E3",
           "borderwidth": 1,
           "bordercolor": "rgb(17,17,17)",
           "tickwidth": 0
          },
          "mapbox": {
           "style": "dark"
          }
         }
        },
        "xaxis": {
         "anchor": "y",
         "domain": [
          0.0,
          0.31999999999999995
         ],
         "title": {
          "text": "Dimensione array"
         }
        },
        "yaxis": {
         "anchor": "x",
         "domain": [
          0.0,
          1.0
         ],
         "title": {
          "text": "Time (s)"
         }
        },
        "xaxis2": {
         "anchor": "y2",
         "domain": [
          0.33999999999999997,
          0.6599999999999999
         ],
         "matches": "x",
         "title": {
          "text": "Dimensione array"
         }
        },
        "yaxis2": {
         "anchor": "x2",
         "domain": [
          0.0,
          1.0
         ],
         "matches": "y",
         "showticklabels": false
        },
        "xaxis3": {
         "anchor": "y3",
         "domain": [
          0.6799999999999999,
          0.9999999999999999
         ],
         "matches": "x",
         "title": {
          "text": "Dimensione array"
         }
        },
        "yaxis3": {
         "anchor": "x3",
         "domain": [
          0.0,
          1.0
         ],
         "matches": "y",
         "showticklabels": false
        },
        "annotations": [
         {
          "font": {},
          "showarrow": false,
          "text": "Tipo di input=random",
          "x": 0.15999999999999998,
          "xanchor": "center",
          "xref": "paper",
          "y": 1.0,
          "yanchor": "bottom",
          "yref": "paper"
         },
         {
          "font": {},
          "showarrow": false,
          "text": "Tipo di input=sorted",
          "x": 0.49999999999999994,
          "xanchor": "center",
          "xref": "paper",
          "y": 1.0,
          "yanchor": "bottom",
          "yref": "paper"
         },
         {
          "font": {},
          "showarrow": false,
          "text": "Tipo di input=reversed",
          "x": 0.8399999999999999,
          "xanchor": "center",
          "xref": "paper",
          "y": 1.0,
          "yanchor": "bottom",
          "yref": "paper"
         }
        ],
        "legend": {
         "title": {
          "text": "Algoritmo di ordinamento"
         },
         "tracegroupgap": 0
        },
        "title": {
         "text": "Sorting algorithms"
        }
       },
       "config": {
        "plotlyServerURL": "https://plot.ly"
       }
      },
      "text/html": "<div>                            <div id=\"e4dcaaf8-56ff-4974-b446-8707b2f1df48\" class=\"plotly-graph-div\" style=\"height:525px; width:100%;\"></div>            <script type=\"text/javascript\">                require([\"plotly\"], function(Plotly) {                    window.PLOTLYENV=window.PLOTLYENV || {};                                    if (document.getElementById(\"e4dcaaf8-56ff-4974-b446-8707b2f1df48\")) {                    Plotly.newPlot(                        \"e4dcaaf8-56ff-4974-b446-8707b2f1df48\",                        [{\"hovertemplate\":\"Algoritmo di ordinamento=insertion_sort<br>Tipo di input=random<br>Dimensione array=%{x}<br>Time (s)=%{y}<extra></extra>\",\"legendgroup\":\"insertion_sort\",\"line\":{\"color\":\"#636efa\",\"dash\":\"solid\"},\"marker\":{\"symbol\":\"circle\"},\"mode\":\"lines\",\"name\":\"insertion_sort\",\"orientation\":\"v\",\"showlegend\":true,\"x\":[100,200,300,400,500,600,700,800,900,1000,1100,1200,1300,1400,1500,1600,1700,1800,1900,2000,2100,2200,2300,2400,2500,2600,2700,2800,2900,3000,3100,3200,3300,3400,3500,3600,3700,3800,3900,4000,4100,4200,4300,4400,4500,4600,4700,4800,4900,5000,5100,5200,5300,5400,5500,5600,5700,5800,5900,6000,6100,6200,6300,6400,6500,6600,6700,6800,6900,7000,7100,7200,7300,7400,7500,7600,7700,7800,7900,8000,8100,8200,8300,8400,8500,8600,8700,8800,8900,9000,9100,9200,9300,9400,9500,9600,9700,9800,9900],\"xaxis\":\"x\",\"y\":[0.0006637999904341996,0.002554899954702705,0.0053934999741613865,0.006314199999906123,0.006538200017530471,0.01311939995503053,0.013483299990184605,0.01779730000998825,0.02214570000069216,0.028416500019375235,0.03381999995326623,0.039758099999744445,0.0480661999899894,0.05593969998881221,0.06370090000564232,0.07347379997372627,0.09729159995913506,0.0858503999770619,0.09655759995803237,0.10946720000356436,0.11626340000657365,0.13406309997662902,0.1447014000150375,0.1554937000037171,0.18549619999248534,0.18804560002172366,0.1960008000023663,0.2145738999824971,0.2285068000201136,0.24860990000888705,0.2727276000077836,0.2936395999859087,0.3005348999868147,0.3226587999961339,0.3458041999838315,0.35591699997894466,0.3844740000204183,0.3879437000141479,0.4124615000328049,0.4457860999973491,0.4505924999830313,0.47494290000759065,0.5428284999798052,0.5635202000266872,0.5697074000490829,0.5635912999860011,0.6133285000105388,0.6266666000010446,0.6330178999924101,0.664238800003659,0.7090246999869123,0.7449188000173308,0.7977573000243865,0.8475661000120454,0.8413629999849945,0.8653730999794789,0.8945073999930173,0.9235283000161871,0.9464701999677345,0.9737702999846078,1.022379899979569,1.0778037999989465,1.0830609999829903,1.0780313000432216,1.162666900025215,1.210171699989587,1.2231872999691404,1.2760329999728128,1.297350600012578,1.349396399979014,1.3677834999980405,1.4322912000352517,1.4699986000196077,1.4643734999699518,1.6146184999961406,1.6667844000039622,1.696950800018385,1.7304100000183098,1.789639599970542,1.840328700025566,1.8639579999726266,1.8027678999933414,1.8670255999895744,1.9689742000191472,2.0072548000025563,2.0810167999588884,2.1675083999871276,2.242514299985487,2.0867960000177845,2.234512700000778,2.266052400053013,2.311367699992843,2.3804166999761946,2.4322528999764472,2.395912199979648,2.4463692999561317,2.594544399995357,2.624200500024017,2.6684811000013724],\"yaxis\":\"y\",\"type\":\"scatter\"},{\"hovertemplate\":\"Algoritmo di ordinamento=insertion_sort<br>Tipo di input=sorted<br>Dimensione array=%{x}<br>Time (s)=%{y}<extra></extra>\",\"legendgroup\":\"insertion_sort\",\"line\":{\"color\":\"#636efa\",\"dash\":\"solid\"},\"marker\":{\"symbol\":\"circle\"},\"mode\":\"lines\",\"name\":\"insertion_sort\",\"orientation\":\"v\",\"showlegend\":false,\"x\":[100,200,300,400,500,600,700,800,900,1000,1100,1200,1300,1400,1500,1600,1700,1800,1900,2000,2100,2200,2300,2400,2500,2600,2700,2800,2900,3000,3100,3200,3300,3400,3500,3600,3700,3800,3900,4000,4100,4200,4300,4400,4500,4600,4700,4800,4900,5000,5100,5200,5300,5400,5500,5600,5700,5800,5900,6000,6100,6200,6300,6400,6500,6600,6700,6800,6900,7000,7100,7200,7300,7400,7500,7600,7700,7800,7900,8000,8100,8200,8300,8400,8500,8600,8700,8800,8900,9000,9100,9200,9300,9400,9500,9600,9700,9800,9900],\"xaxis\":\"x2\",\"y\":[1.2299977242946625e-05,2.3100001271814108e-05,3.5699980799108744e-05,4.880002234131098e-05,6.400002166628838e-05,7.569999434053898e-05,9.079999290406704e-05,0.00010270002530887723,0.00012390001211315393,0.0001294999965466559,0.0001431000418961048,0.0001564000267535448,0.0001697000116109848,0.00018350000027567148,0.00019690004410222173,0.00025049998657777905,0.00022250000620260835,0.00023879995569586754,0.0002513999934308231,0.00026699999580159783,0.0002772999578155577,0.000291300006210804,0.00030399998649954796,0.00032079999800771475,0.0003331999760121107,0.0003449000068940222,0.00035849999403581023,0.00037159997737035155,0.0003844000166282058,0.00040149997221305966,0.0004120999947190285,0.0004243999719619751,0.0004360000020824373,0.0004521000082604587,0.00046579999616369605,0.00047940004151314497,0.0004931000294163823,0.000507500022649765,0.0005196999991312623,0.0005333999870344996,0.0005481999833136797,0.0005680000176653266,0.0005645000492222607,0.0005777999758720398,0.0005908999592065811,0.0006044000037945807,0.0006165000377222896,0.0006308999727480114,0.0006446000188589096,0.0007353000110015273,0.0006784999859519303,0.0007037000032141805,0.000707399973180145,0.0007122000097297132,0.0007235000375658274,0.0007374000269919634,0.0007582000107504427,0.0007634999928995967,0.0007855999865569174,0.0007903000223450363,0.0008033000049181283,0.0008170000510290265,0.0008298000320792198,0.0008430999587289989,0.0009001000435091555,0.0008782000513747334,0.0008834999753162265,0.0009033000096678734,0.0009196000173687935,0.0009230999858118594,0.0009363999706692994,0.0009551000548526645,0.0009628999978303909,0.000989499967545271,0.000991899985820055,0.0010029000113718212,0.0010537999914959073,0.0010399000020697713,0.0010578999645076692,0.00105640001129359,0.001067299977876246,0.0010824999772012234,0.0011072000488638878,0.0011089000036008656,0.001122599991504103,0.0011359999771229923,0.0011614999966695905,0.0011474000057205558,0.001166999980341643,0.0011795000173151493,0.0011929000029340386,0.0012129999813623726,0.0012220999924466014,0.0012323000119067729,0.0012451999937184155,0.0012598999892361462,0.0013055999879725277,0.0013173000188544393,0.0013174000196158886],\"yaxis\":\"y2\",\"type\":\"scatter\"},{\"hovertemplate\":\"Algoritmo di ordinamento=insertion_sort<br>Tipo di input=reversed<br>Dimensione array=%{x}<br>Time (s)=%{y}<extra></extra>\",\"legendgroup\":\"insertion_sort\",\"line\":{\"color\":\"#636efa\",\"dash\":\"solid\"},\"marker\":{\"symbol\":\"circle\"},\"mode\":\"lines\",\"name\":\"insertion_sort\",\"orientation\":\"v\",\"showlegend\":false,\"x\":[100,200,300,400,500,600,700,800,900,1000,1100,1200,1300,1400,1500,1600,1700,1800,1900,2000,2100,2200,2300,2400,2500,2600,2700,2800,2900,3000,3100,3200,3300,3400,3500,3600,3700,3800,3900,4000,4100,4200,4300,4400,4500,4600,4700,4800,4900,5000,5100,5200,5300,5400,5500,5600,5700,5800,5900,6000,6100,6200,6300,6400,6500,6600,6700,6800,6900,7000,7100,7200,7300,7400,7500,7600,7700,7800,7900,8000,8100,8200,8300,8400,8500,8600,8700,8800,8900,9000,9100,9200,9300,9400,9500,9600,9700,9800,9900],\"xaxis\":\"x3\",\"y\":[0.0005127000040374696,0.002034400007687509,0.004603799956385046,0.008330399985425174,0.013245099980849773,0.019365499960258603,0.02652690000832081,0.03499700000975281,0.044515299960039556,0.055226000025868416,0.06867269997019321,0.08108010003343225,0.09493939997628331,0.11067059997003525,0.12639239995041862,0.14299270004266873,0.16190190002089366,0.18182749999687076,0.20593890000600368,0.22760929999640211,0.25216410000575706,0.2745645000250079,0.3011593999690376,0.3289560999837704,0.356634599971585,0.386321300000418,0.4187347000115551,0.446312099986244,0.4798118000035174,0.5164583999430761,0.5497758000274189,0.5585067999782041,0.5990063999779522,0.6397606999962591,0.6550065000192262,0.7115069999708794,0.8153347999905236,0.7628139000153169,0.8339706999831833,0.8785927999997512,0.9249995999853127,0.9825618999893777,1.0658544999896549,1.0872163000167347,1.1675610999809578,1.1649750999640673,1.234640299982857,1.3137232000008225,1.3528656999696977,1.4186133000184782,1.4898930999916047,1.4734056000015698,1.5357870000298135,1.618979400023818,1.6894538000342436,1.7122937999665737,1.826561900030356,1.9217274999828078,1.9646444999962114,2.066396500042174,2.0461925000417978,2.1189275999786332,2.1376276000519283,2.2237053000135347,2.249301200034097,2.3562001999816857,2.4630050000268966,2.50171759998193,2.6170585000072606,2.7653173000435345,2.96325450000586,2.924452899955213,3.0174171999678947,3.167147899977863,3.113806499983184,3.1922249000053853,3.2526541000115685,3.3623989999759942,3.378344200027641,3.543448599986732,3.723132800019812,3.6534041999839246,3.8403139000292867,3.8976104999892414,3.9296445000218228,4.125164499972016,4.226217399991583,4.340904000040609,4.35435989999678,4.476064600050449,4.678719900024589,4.665354600001592,4.7558756999787875,4.77089090005029,5.092662899987772,5.110076399985701,5.189545699977316,5.2715576000045985,5.3598098999937065],\"yaxis\":\"y3\",\"type\":\"scatter\"},{\"hovertemplate\":\"Algoritmo di ordinamento=counting_sort<br>Tipo di input=random<br>Dimensione array=%{x}<br>Time (s)=%{y}<extra></extra>\",\"legendgroup\":\"counting_sort\",\"line\":{\"color\":\"#EF553B\",\"dash\":\"solid\"},\"marker\":{\"symbol\":\"circle\"},\"mode\":\"lines\",\"name\":\"counting_sort\",\"orientation\":\"v\",\"showlegend\":true,\"x\":[100,200,300,400,500,600,700,800,900,1000,1100,1200,1300,1400,1500,1600,1700,1800,1900,2000,2100,2200,2300,2400,2500,2600,2700,2800,2900,3000,3100,3200,3300,3400,3500,3600,3700,3800,3900,4000,4100,4200,4300,4400,4500,4600,4700,4800,4900,5000,5100,5200,5300,5400,5500,5600,5700,5800,5900,6000,6100,6200,6300,6400,6500,6600,6700,6800,6900,7000,7100,7200,7300,7400,7500,7600,7700,7800,7900,8000,8100,8200,8300,8400,8500,8600,8700,8800,8900,9000,9100,9200,9300,9400,9500,9600,9700,9800,9900],\"xaxis\":\"x\",\"y\":[0.008684500004164875,0.008624999958556145,0.008745700004510581,0.010684899985790253,0.009285900043323636,0.009110199986025691,0.009332899993751198,0.00931930000660941,0.009347799990791827,0.009468399977777153,0.00947049999376759,0.009602600010111928,0.009541400009766221,0.009459400025662035,0.00975950004067272,0.009755800012499094,0.009746800002176315,0.009767499985173345,0.009810400020796806,0.010010600031819195,0.009899199998471886,0.010189900000113994,0.010128699999768287,0.00996230001328513,0.0101771000190638,0.01023479999275878,0.010028199991211295,0.010211799992248416,0.010363399982452393,0.010130200011190027,0.010436900018248707,0.01027650001924485,0.01017429999774322,0.010203100042417645,0.010292100021615624,0.010230200015939772,0.01031340000918135,0.010310899990145117,0.010257399990223348,0.01035789999878034,0.010639699990861118,0.010116899968124926,0.01047199999447912,0.010468599968589842,0.010388700000476092,0.01050160004524514,0.010624899994581938,0.010424300038721412,0.01051930000539869,0.010448099987115711,0.010483600024599582,0.010362200031522661,0.010480500000994653,0.010488500003702939,0.010652200027834624,0.010606499970890582,0.010574600019026548,0.010658200015313923,0.010901500005275011,0.010646499984432012,0.010692099982406944,0.011037900054361671,0.010967900045216084,0.01082899997709319,0.011022099992260337,0.011105200042948127,0.010930399992503226,0.011078200011979789,0.011019700032193214,0.010984099993947893,0.010914200043771416,0.01105119998101145,0.011054100003093481,0.010964400018565357,0.01110030000563711,0.01106459996663034,0.011124700016807765,0.011051899986341596,0.011262699961662292,0.01138899999205023,0.011080500029493123,0.01120069995522499,0.01167810003971681,0.011353199952282012,0.011169500008691102,0.011330400011502206,0.012054099992383271,0.01141430001007393,0.01124399999389425,0.013254699995741248,0.011518699990119785,0.011467300006188452,0.01133730000583455,0.01103670004522428,0.011447999975644052,0.011524099973030388,0.011431200022343546,0.013357099960558116,0.011523300025146455],\"yaxis\":\"y\",\"type\":\"scatter\"},{\"hovertemplate\":\"Algoritmo di ordinamento=counting_sort<br>Tipo di input=sorted<br>Dimensione array=%{x}<br>Time (s)=%{y}<extra></extra>\",\"legendgroup\":\"counting_sort\",\"line\":{\"color\":\"#EF553B\",\"dash\":\"solid\"},\"marker\":{\"symbol\":\"circle\"},\"mode\":\"lines\",\"name\":\"counting_sort\",\"orientation\":\"v\",\"showlegend\":false,\"x\":[100,200,300,400,500,600,700,800,900,1000,1100,1200,1300,1400,1500,1600,1700,1800,1900,2000,2100,2200,2300,2400,2500,2600,2700,2800,2900,3000,3100,3200,3300,3400,3500,3600,3700,3800,3900,4000,4100,4200,4300,4400,4500,4600,4700,4800,4900,5000,5100,5200,5300,5400,5500,5600,5700,5800,5900,6000,6100,6200,6300,6400,6500,6600,6700,6800,6900,7000,7100,7200,7300,7400,7500,7600,7700,7800,7900,8000,8100,8200,8300,8400,8500,8600,8700,8800,8900,9000,9100,9200,9300,9400,9500,9600,9700,9800,9900],\"xaxis\":\"x2\",\"y\":[0.00896230002399534,0.008893100020941347,0.009099799965042621,0.009322999976575375,0.009589799970854074,0.009592299989890307,0.009513999975752085,0.009746800002176315,0.00971930002560839,0.009833100019022822,0.009930400003213435,0.009866899985354394,0.009873799979686737,0.009915300004649907,0.0099045000388287,0.010000600013881922,0.010024100018199533,0.009970500017516315,0.010058300045784563,0.009912699984852225,0.010076900012791157,0.010074599995277822,0.009985900018364191,0.010096099984366447,0.010198700008913875,0.010064299975056201,0.010001799964811653,0.01023499999428168,0.010077700018882751,0.010311099991668016,0.012699300015810877,0.01690049999160692,0.01685940002789721,0.0145953000173904,0.01726659998530522,0.014813999994657934,0.015717500005848706,0.01718690001871437,0.01732180005637929,0.013203300011809915,0.010159800003748387,0.010225800040643662,0.01012390002142638,0.010235699999611825,0.010283700015861541,0.010212099994532764,0.01025559997651726,0.010251999949105084,0.010224900033790618,0.010355899983551353,0.010473100002855062,0.010288999998010695,0.010344100010115653,0.010474599956069142,0.010337000014260411,0.010456799995154142,0.010991199989803135,0.01107050001155585,0.012003099953290075,0.010732599999755621,0.010575000022072345,0.010675399971660227,0.012761999969370663,0.010556900000665337,0.01084830000763759,0.010524499986786395,0.010912600031588227,0.010758600023109466,0.010735899966675788,0.01117419998627156,0.010831499996129423,0.010906399984378368,0.010704099957365543,0.010733000002801418,0.011184900009538978,0.010708200046792626,0.011020599980838597,0.010608799988403916,0.011378199968021363,0.011737700027879328,0.011054400005377829,0.012708399968687445,0.01102009997703135,0.01097430003574118,0.011117800022475421,0.012305299984291196,0.01278329995693639,0.011128699989058077,0.010943999979645014,0.01085129997227341,0.011105099983979017,0.011066800041589886,0.010845999990124255,0.01123929995810613,0.011435899999924004,0.011084199999459088,0.011245799949392676,0.011238099948968738,0.01130459998967126],\"yaxis\":\"y2\",\"type\":\"scatter\"},{\"hovertemplate\":\"Algoritmo di ordinamento=counting_sort<br>Tipo di input=reversed<br>Dimensione array=%{x}<br>Time (s)=%{y}<extra></extra>\",\"legendgroup\":\"counting_sort\",\"line\":{\"color\":\"#EF553B\",\"dash\":\"solid\"},\"marker\":{\"symbol\":\"circle\"},\"mode\":\"lines\",\"name\":\"counting_sort\",\"orientation\":\"v\",\"showlegend\":false,\"x\":[100,200,300,400,500,600,700,800,900,1000,1100,1200,1300,1400,1500,1600,1700,1800,1900,2000,2100,2200,2300,2400,2500,2600,2700,2800,2900,3000,3100,3200,3300,3400,3500,3600,3700,3800,3900,4000,4100,4200,4300,4400,4500,4600,4700,4800,4900,5000,5100,5200,5300,5400,5500,5600,5700,5800,5900,6000,6100,6200,6300,6400,6500,6600,6700,6800,6900,7000,7100,7200,7300,7400,7500,7600,7700,7800,7900,8000,8100,8200,8300,8400,8500,8600,8700,8800,8900,9000,9100,9200,9300,9400,9500,9600,9700,9800,9900],\"xaxis\":\"x3\",\"y\":[0.008714299998246133,0.008964299981016666,0.008941000036429614,0.009227499947883189,0.009311300003901124,0.009357700007967651,0.009550000017043203,0.009530899988021702,0.009513899974990636,0.009758599975612015,0.009693800006061792,0.009901900019031018,0.009896500036120415,0.009912599984090775,0.010272099985741079,0.009983700001612306,0.009975900000426918,0.010046400013379753,0.0100273999851197,0.010230099956970662,0.010004500043578446,0.01002009998774156,0.010383699962403625,0.010197600000537932,0.010230300016701221,0.010354500031098723,0.01019040000392124,0.010133699979633093,0.010132400027941912,0.010392800031695515,0.010102800035383552,0.010376099962741137,0.010279800044372678,0.010226499987766147,0.010479599994141608,0.01031629997305572,0.010277700028382242,0.010377999977208674,0.010492399975191802,0.010517199989408255,0.01045870000962168,0.010456199990585446,0.01046620000852272,0.010449499997776002,0.010621300025377423,0.010619600012432784,0.010450200003106147,0.010713400028180331,0.010576699976809323,0.010620700020808727,0.010600999987218529,0.010664100002031773,0.010509299987461418,0.01064700004644692,0.010763600002974272,0.010872599959839135,0.010738500044681132,0.010853799991309643,0.010833200009074062,0.01096079999115318,0.010970399947836995,0.010841700015589595,0.010927099967375398,0.010787400009576231,0.012468900007661432,0.010976899997331202,0.010883299983106554,0.010984199994709343,0.011224999965634197,0.011124800017569214,0.01104250003118068,0.011043300037272274,0.012917899992316961,0.01077880000229925,0.010874100029468536,0.01094459998421371,0.010856500011868775,0.010723999992478639,0.010861600050702691,0.012120200030039996,0.012241199961863458,0.010835599969141185,0.011178100015968084,0.011110800027381629,0.011099800001829863,0.010997599980328232,0.011224000016227365,0.011159199988469481,0.01123499998357147,0.011049000022467226,0.011251699994318187,0.01122169999871403,0.011251099989749491,0.011173599981702864,0.01144839997868985,0.011437000008299947,0.011380699987057596,0.011227399983908981,0.01140400004805997],\"yaxis\":\"y3\",\"type\":\"scatter\"}],                        {\"template\":{\"data\":{\"histogram2dcontour\":[{\"type\":\"histogram2dcontour\",\"colorbar\":{\"outlinewidth\":0,\"ticks\":\"\"},\"colorscale\":[[0.0,\"#0d0887\"],[0.1111111111111111,\"#46039f\"],[0.2222222222222222,\"#7201a8\"],[0.3333333333333333,\"#9c179e\"],[0.4444444444444444,\"#bd3786\"],[0.5555555555555556,\"#d8576b\"],[0.6666666666666666,\"#ed7953\"],[0.7777777777777778,\"#fb9f3a\"],[0.8888888888888888,\"#fdca26\"],[1.0,\"#f0f921\"]]}],\"choropleth\":[{\"type\":\"choropleth\",\"colorbar\":{\"outlinewidth\":0,\"ticks\":\"\"}}],\"histogram2d\":[{\"type\":\"histogram2d\",\"colorbar\":{\"outlinewidth\":0,\"ticks\":\"\"},\"colorscale\":[[0.0,\"#0d0887\"],[0.1111111111111111,\"#46039f\"],[0.2222222222222222,\"#7201a8\"],[0.3333333333333333,\"#9c179e\"],[0.4444444444444444,\"#bd3786\"],[0.5555555555555556,\"#d8576b\"],[0.6666666666666666,\"#ed7953\"],[0.7777777777777778,\"#fb9f3a\"],[0.8888888888888888,\"#fdca26\"],[1.0,\"#f0f921\"]]}],\"heatmap\":[{\"type\":\"heatmap\",\"colorbar\":{\"outlinewidth\":0,\"ticks\":\"\"},\"colorscale\":[[0.0,\"#0d0887\"],[0.1111111111111111,\"#46039f\"],[0.2222222222222222,\"#7201a8\"],[0.3333333333333333,\"#9c179e\"],[0.4444444444444444,\"#bd3786\"],[0.5555555555555556,\"#d8576b\"],[0.6666666666666666,\"#ed7953\"],[0.7777777777777778,\"#fb9f3a\"],[0.8888888888888888,\"#fdca26\"],[1.0,\"#f0f921\"]]}],\"heatmapgl\":[{\"type\":\"heatmapgl\",\"colorbar\":{\"outlinewidth\":0,\"ticks\":\"\"},\"colorscale\":[[0.0,\"#0d0887\"],[0.1111111111111111,\"#46039f\"],[0.2222222222222222,\"#7201a8\"],[0.3333333333333333,\"#9c179e\"],[0.4444444444444444,\"#bd3786\"],[0.5555555555555556,\"#d8576b\"],[0.6666666666666666,\"#ed7953\"],[0.7777777777777778,\"#fb9f3a\"],[0.8888888888888888,\"#fdca26\"],[1.0,\"#f0f921\"]]}],\"contourcarpet\":[{\"type\":\"contourcarpet\",\"colorbar\":{\"outlinewidth\":0,\"ticks\":\"\"}}],\"contour\":[{\"type\":\"contour\",\"colorbar\":{\"outlinewidth\":0,\"ticks\":\"\"},\"colorscale\":[[0.0,\"#0d0887\"],[0.1111111111111111,\"#46039f\"],[0.2222222222222222,\"#7201a8\"],[0.3333333333333333,\"#9c179e\"],[0.4444444444444444,\"#bd3786\"],[0.5555555555555556,\"#d8576b\"],[0.6666666666666666,\"#ed7953\"],[0.7777777777777778,\"#fb9f3a\"],[0.8888888888888888,\"#fdca26\"],[1.0,\"#f0f921\"]]}],\"surface\":[{\"type\":\"surface\",\"colorbar\":{\"outlinewidth\":0,\"ticks\":\"\"},\"colorscale\":[[0.0,\"#0d0887\"],[0.1111111111111111,\"#46039f\"],[0.2222222222222222,\"#7201a8\"],[0.3333333333333333,\"#9c179e\"],[0.4444444444444444,\"#bd3786\"],[0.5555555555555556,\"#d8576b\"],[0.6666666666666666,\"#ed7953\"],[0.7777777777777778,\"#fb9f3a\"],[0.8888888888888888,\"#fdca26\"],[1.0,\"#f0f921\"]]}],\"mesh3d\":[{\"type\":\"mesh3d\",\"colorbar\":{\"outlinewidth\":0,\"ticks\":\"\"}}],\"scatter\":[{\"marker\":{\"line\":{\"color\":\"#283442\"}},\"type\":\"scatter\"}],\"parcoords\":[{\"type\":\"parcoords\",\"line\":{\"colorbar\":{\"outlinewidth\":0,\"ticks\":\"\"}}}],\"scatterpolargl\":[{\"type\":\"scatterpolargl\",\"marker\":{\"colorbar\":{\"outlinewidth\":0,\"ticks\":\"\"}}}],\"bar\":[{\"error_x\":{\"color\":\"#f2f5fa\"},\"error_y\":{\"color\":\"#f2f5fa\"},\"marker\":{\"line\":{\"color\":\"rgb(17,17,17)\",\"width\":0.5},\"pattern\":{\"fillmode\":\"overlay\",\"size\":10,\"solidity\":0.2}},\"type\":\"bar\"}],\"scattergeo\":[{\"type\":\"scattergeo\",\"marker\":{\"colorbar\":{\"outlinewidth\":0,\"ticks\":\"\"}}}],\"scatterpolar\":[{\"type\":\"scatterpolar\",\"marker\":{\"colorbar\":{\"outlinewidth\":0,\"ticks\":\"\"}}}],\"histogram\":[{\"marker\":{\"pattern\":{\"fillmode\":\"overlay\",\"size\":10,\"solidity\":0.2}},\"type\":\"histogram\"}],\"scattergl\":[{\"marker\":{\"line\":{\"color\":\"#283442\"}},\"type\":\"scattergl\"}],\"scatter3d\":[{\"type\":\"scatter3d\",\"line\":{\"colorbar\":{\"outlinewidth\":0,\"ticks\":\"\"}},\"marker\":{\"colorbar\":{\"outlinewidth\":0,\"ticks\":\"\"}}}],\"scattermapbox\":[{\"type\":\"scattermapbox\",\"marker\":{\"colorbar\":{\"outlinewidth\":0,\"ticks\":\"\"}}}],\"scatterternary\":[{\"type\":\"scatterternary\",\"marker\":{\"colorbar\":{\"outlinewidth\":0,\"ticks\":\"\"}}}],\"scattercarpet\":[{\"type\":\"scattercarpet\",\"marker\":{\"colorbar\":{\"outlinewidth\":0,\"ticks\":\"\"}}}],\"carpet\":[{\"aaxis\":{\"endlinecolor\":\"#A2B1C6\",\"gridcolor\":\"#506784\",\"linecolor\":\"#506784\",\"minorgridcolor\":\"#506784\",\"startlinecolor\":\"#A2B1C6\"},\"baxis\":{\"endlinecolor\":\"#A2B1C6\",\"gridcolor\":\"#506784\",\"linecolor\":\"#506784\",\"minorgridcolor\":\"#506784\",\"startlinecolor\":\"#A2B1C6\"},\"type\":\"carpet\"}],\"table\":[{\"cells\":{\"fill\":{\"color\":\"#506784\"},\"line\":{\"color\":\"rgb(17,17,17)\"}},\"header\":{\"fill\":{\"color\":\"#2a3f5f\"},\"line\":{\"color\":\"rgb(17,17,17)\"}},\"type\":\"table\"}],\"barpolar\":[{\"marker\":{\"line\":{\"color\":\"rgb(17,17,17)\",\"width\":0.5},\"pattern\":{\"fillmode\":\"overlay\",\"size\":10,\"solidity\":0.2}},\"type\":\"barpolar\"}],\"pie\":[{\"automargin\":true,\"type\":\"pie\"}]},\"layout\":{\"autotypenumbers\":\"strict\",\"colorway\":[\"#636efa\",\"#EF553B\",\"#00cc96\",\"#ab63fa\",\"#FFA15A\",\"#19d3f3\",\"#FF6692\",\"#B6E880\",\"#FF97FF\",\"#FECB52\"],\"font\":{\"color\":\"#f2f5fa\"},\"hovermode\":\"closest\",\"hoverlabel\":{\"align\":\"left\"},\"paper_bgcolor\":\"rgb(17,17,17)\",\"plot_bgcolor\":\"rgb(17,17,17)\",\"polar\":{\"bgcolor\":\"rgb(17,17,17)\",\"angularaxis\":{\"gridcolor\":\"#506784\",\"linecolor\":\"#506784\",\"ticks\":\"\"},\"radialaxis\":{\"gridcolor\":\"#506784\",\"linecolor\":\"#506784\",\"ticks\":\"\"}},\"ternary\":{\"bgcolor\":\"rgb(17,17,17)\",\"aaxis\":{\"gridcolor\":\"#506784\",\"linecolor\":\"#506784\",\"ticks\":\"\"},\"baxis\":{\"gridcolor\":\"#506784\",\"linecolor\":\"#506784\",\"ticks\":\"\"},\"caxis\":{\"gridcolor\":\"#506784\",\"linecolor\":\"#506784\",\"ticks\":\"\"}},\"coloraxis\":{\"colorbar\":{\"outlinewidth\":0,\"ticks\":\"\"}},\"colorscale\":{\"sequential\":[[0.0,\"#0d0887\"],[0.1111111111111111,\"#46039f\"],[0.2222222222222222,\"#7201a8\"],[0.3333333333333333,\"#9c179e\"],[0.4444444444444444,\"#bd3786\"],[0.5555555555555556,\"#d8576b\"],[0.6666666666666666,\"#ed7953\"],[0.7777777777777778,\"#fb9f3a\"],[0.8888888888888888,\"#fdca26\"],[1.0,\"#f0f921\"]],\"sequentialminus\":[[0.0,\"#0d0887\"],[0.1111111111111111,\"#46039f\"],[0.2222222222222222,\"#7201a8\"],[0.3333333333333333,\"#9c179e\"],[0.4444444444444444,\"#bd3786\"],[0.5555555555555556,\"#d8576b\"],[0.6666666666666666,\"#ed7953\"],[0.7777777777777778,\"#fb9f3a\"],[0.8888888888888888,\"#fdca26\"],[1.0,\"#f0f921\"]],\"diverging\":[[0,\"#8e0152\"],[0.1,\"#c51b7d\"],[0.2,\"#de77ae\"],[0.3,\"#f1b6da\"],[0.4,\"#fde0ef\"],[0.5,\"#f7f7f7\"],[0.6,\"#e6f5d0\"],[0.7,\"#b8e186\"],[0.8,\"#7fbc41\"],[0.9,\"#4d9221\"],[1,\"#276419\"]]},\"xaxis\":{\"gridcolor\":\"#283442\",\"linecolor\":\"#506784\",\"ticks\":\"\",\"title\":{\"standoff\":15},\"zerolinecolor\":\"#283442\",\"automargin\":true,\"zerolinewidth\":2},\"yaxis\":{\"gridcolor\":\"#283442\",\"linecolor\":\"#506784\",\"ticks\":\"\",\"title\":{\"standoff\":15},\"zerolinecolor\":\"#283442\",\"automargin\":true,\"zerolinewidth\":2},\"scene\":{\"xaxis\":{\"backgroundcolor\":\"rgb(17,17,17)\",\"gridcolor\":\"#506784\",\"linecolor\":\"#506784\",\"showbackground\":true,\"ticks\":\"\",\"zerolinecolor\":\"#C8D4E3\",\"gridwidth\":2},\"yaxis\":{\"backgroundcolor\":\"rgb(17,17,17)\",\"gridcolor\":\"#506784\",\"linecolor\":\"#506784\",\"showbackground\":true,\"ticks\":\"\",\"zerolinecolor\":\"#C8D4E3\",\"gridwidth\":2},\"zaxis\":{\"backgroundcolor\":\"rgb(17,17,17)\",\"gridcolor\":\"#506784\",\"linecolor\":\"#506784\",\"showbackground\":true,\"ticks\":\"\",\"zerolinecolor\":\"#C8D4E3\",\"gridwidth\":2}},\"shapedefaults\":{\"line\":{\"color\":\"#f2f5fa\"}},\"annotationdefaults\":{\"arrowcolor\":\"#f2f5fa\",\"arrowhead\":0,\"arrowwidth\":1},\"geo\":{\"bgcolor\":\"rgb(17,17,17)\",\"landcolor\":\"rgb(17,17,17)\",\"subunitcolor\":\"#506784\",\"showland\":true,\"showlakes\":true,\"lakecolor\":\"rgb(17,17,17)\"},\"title\":{\"x\":0.05},\"updatemenudefaults\":{\"bgcolor\":\"#506784\",\"borderwidth\":0},\"sliderdefaults\":{\"bgcolor\":\"#C8D4E3\",\"borderwidth\":1,\"bordercolor\":\"rgb(17,17,17)\",\"tickwidth\":0},\"mapbox\":{\"style\":\"dark\"}}},\"xaxis\":{\"anchor\":\"y\",\"domain\":[0.0,0.31999999999999995],\"title\":{\"text\":\"Dimensione array\"}},\"yaxis\":{\"anchor\":\"x\",\"domain\":[0.0,1.0],\"title\":{\"text\":\"Time (s)\"}},\"xaxis2\":{\"anchor\":\"y2\",\"domain\":[0.33999999999999997,0.6599999999999999],\"matches\":\"x\",\"title\":{\"text\":\"Dimensione array\"}},\"yaxis2\":{\"anchor\":\"x2\",\"domain\":[0.0,1.0],\"matches\":\"y\",\"showticklabels\":false},\"xaxis3\":{\"anchor\":\"y3\",\"domain\":[0.6799999999999999,0.9999999999999999],\"matches\":\"x\",\"title\":{\"text\":\"Dimensione array\"}},\"yaxis3\":{\"anchor\":\"x3\",\"domain\":[0.0,1.0],\"matches\":\"y\",\"showticklabels\":false},\"annotations\":[{\"font\":{},\"showarrow\":false,\"text\":\"Tipo di input=random\",\"x\":0.15999999999999998,\"xanchor\":\"center\",\"xref\":\"paper\",\"y\":1.0,\"yanchor\":\"bottom\",\"yref\":\"paper\"},{\"font\":{},\"showarrow\":false,\"text\":\"Tipo di input=sorted\",\"x\":0.49999999999999994,\"xanchor\":\"center\",\"xref\":\"paper\",\"y\":1.0,\"yanchor\":\"bottom\",\"yref\":\"paper\"},{\"font\":{},\"showarrow\":false,\"text\":\"Tipo di input=reversed\",\"x\":0.8399999999999999,\"xanchor\":\"center\",\"xref\":\"paper\",\"y\":1.0,\"yanchor\":\"bottom\",\"yref\":\"paper\"}],\"legend\":{\"title\":{\"text\":\"Algoritmo di ordinamento\"},\"tracegroupgap\":0},\"title\":{\"text\":\"Sorting algorithms\"}},                        {\"responsive\": true}                    ).then(function(){\n                            \nvar gd = document.getElementById('e4dcaaf8-56ff-4974-b446-8707b2f1df48');\nvar x = new MutationObserver(function (mutations, observer) {{\n        var display = window.getComputedStyle(gd).display;\n        if (!display || display === 'none') {{\n            console.log([gd, 'removed!']);\n            Plotly.purge(gd);\n            observer.disconnect();\n        }}\n}});\n\n// Listen for the removal of the full notebook cells\nvar notebookContainer = gd.closest('#notebook-container');\nif (notebookContainer) {{\n    x.observe(notebookContainer, {childList: true});\n}}\n\n// Listen for the clearing of the current output cell\nvar outputEl = gd.closest('.output');\nif (outputEl) {{\n    x.observe(outputEl, {childList: true});\n}}\n\n                        })                };                });            </script>        </div>"
     },
     "metadata": {},
     "output_type": "display_data"
    }
   ],
   "source": [
    "figure = px.line(df.query(\"num_samples > 0\"),\n",
    "                 x=\"num_samples\",\n",
    "                 y=\"time\",\n",
    "                 color=\"test_type\",\n",
    "                 facet_col=\"input_type\",\n",
    "                 title=\"Sorting algorithms\",\n",
    "                 labels={\"num_samples\": \"Dimensione array\", \"time\": \"Time (s)\", \"test_type\": \"Algoritmo di ordinamento\", \"input_type\": \"Tipo di input\"})\n",
    "figure.show()"
   ],
   "metadata": {
    "collapsed": false
   }
  },
  {
   "cell_type": "markdown",
   "source": [
    "Notiamo che in ogni caso mantenendo il range di generazione dei numeri relativamente vicino alla dimensione dell'array, il costo computazionale del _counting sort_ si mantiene piuttosto basso o comunque in ogni caso molto inferiore rispetto al costo di _insertion sort_, che è sempre _O(n^2)_. Ovviamente l'unica differenza sta nel caso di input ordinato, nel quale anche il costo di _insertion sort_ è lineare e quindi molto inferiore rispetto al caso di input random o inversamente ordinato."
   ],
   "metadata": {
    "collapsed": false
   }
  },
  {
   "cell_type": "markdown",
   "source": [
    "#### Array di dimensione 10000 con range da 0 a 1000000"
   ],
   "metadata": {
    "collapsed": false
   }
  },
  {
   "cell_type": "code",
   "execution_count": 225,
   "outputs": [],
   "source": [
    "df = plot_results(10000, 100, (0, 1000000))"
   ],
   "metadata": {
    "collapsed": false
   }
  },
  {
   "cell_type": "code",
   "execution_count": 226,
   "outputs": [
    {
     "data": {
      "application/vnd.plotly.v1+json": {
       "data": [
        {
         "hovertemplate": "Algoritmo di ordinamento=insertion_sort<br>Tipo di input=random<br>Dimensione array=%{x}<br>Time (s)=%{y}<extra></extra>",
         "legendgroup": "insertion_sort",
         "line": {
          "color": "#636efa",
          "dash": "solid"
         },
         "marker": {
          "symbol": "circle"
         },
         "mode": "lines",
         "name": "insertion_sort",
         "orientation": "v",
         "showlegend": true,
         "x": [
          100,
          200,
          300,
          400,
          500,
          600,
          700,
          800,
          900,
          1000,
          1100,
          1200,
          1300,
          1400,
          1500,
          1600,
          1700,
          1800,
          1900,
          2000,
          2100,
          2200,
          2300,
          2400,
          2500,
          2600,
          2700,
          2800,
          2900,
          3000,
          3100,
          3200,
          3300,
          3400,
          3500,
          3600,
          3700,
          3800,
          3900,
          4000,
          4100,
          4200,
          4300,
          4400,
          4500,
          4600,
          4700,
          4800,
          4900,
          5000,
          5100,
          5200,
          5300,
          5400,
          5500,
          5600,
          5700,
          5800,
          5900,
          6000,
          6100,
          6200,
          6300,
          6400,
          6500,
          6600,
          6700,
          6800,
          6900,
          7000,
          7100,
          7200,
          7300,
          7400,
          7500,
          7600,
          7700,
          7800,
          7900,
          8000,
          8100,
          8200,
          8300,
          8400,
          8500,
          8600,
          8700,
          8800,
          8900,
          9000,
          9100,
          9200,
          9300,
          9400,
          9500,
          9600,
          9700,
          9800,
          9900
         ],
         "xaxis": "x",
         "y": [
          2.511999919079244E-4,
          9.534999844618142E-4,
          0.002331299998331815,
          0.00435740000102669,
          0.00688499998068437,
          0.010607700038235635,
          0.019878400024026632,
          0.02139910002006218,
          0.033188700035680085,
          0.028216300008352846,
          0.03479810000862926,
          0.05665070004761219,
          0.077002200006973,
          0.05938579997746274,
          0.06284440000308678,
          0.07114750001346692,
          0.08232790004694834,
          0.09499109996249899,
          0.11045600002398714,
          0.12373280001338571,
          0.14925399998901412,
          0.1486089999671094,
          0.15313019999302924,
          0.16356939997058362,
          0.18139009998412803,
          0.1961567000253126,
          0.21240610000677407,
          0.23502239998197183,
          0.2791858999989927,
          0.2504907000111416,
          0.2664004999678582,
          0.27893679996486753,
          0.306747299968265,
          0.316387000028044,
          0.3411686000181362,
          0.4132926000165753,
          0.3754956999910064,
          0.40361209999537095,
          0.41966539999702945,
          0.4389200999867171,
          0.46923360001528636,
          0.4897365000215359,
          0.48927520000142977,
          0.5354219999862835,
          0.5690824000048451,
          0.5992725000251085,
          0.6382215999765322,
          0.6846634999965318,
          0.6656768000102602,
          0.6880289000109769,
          0.7295501999906264,
          0.7905789000215009,
          0.7952818000339903,
          0.8183683999814093,
          0.8239557999768294,
          0.8628919000038877,
          0.9210798999993131,
          0.9581274999654852,
          0.9934973000199534,
          1.0150144000072032,
          1.0763550999690779,
          1.054600500036031,
          1.1260269000194967,
          1.1784107999992557,
          1.222239200025797,
          1.279139699996449,
          1.2153737000189722,
          1.2966727999737486,
          1.4409391999943182,
          1.4004513999680057,
          1.416080900002271,
          1.3815936999744736,
          1.5089397999690846,
          1.6000283000175841,
          1.8162631999584846,
          1.6106767000164837,
          1.7027802999946289,
          1.696255500020925,
          1.7563610000070184,
          1.8168321000412107,
          1.8540674999821931,
          1.8537382999784313,
          1.8707082999753766,
          1.931038599985186,
          1.9913927000015974,
          2.04530389996944,
          2.1334191000205465,
          2.1324647999717854,
          2.1718004000140354,
          2.2025211000000127,
          2.201728700019885,
          2.3709741999628022,
          2.301192400045693,
          2.4064722000039183,
          2.547680700023193,
          2.5524520999751985,
          2.695965899969451,
          2.6669318999629468,
          2.721099599963054
         ],
         "yaxis": "y",
         "type": "scatter"
        },
        {
         "hovertemplate": "Algoritmo di ordinamento=insertion_sort<br>Tipo di input=sorted<br>Dimensione array=%{x}<br>Time (s)=%{y}<extra></extra>",
         "legendgroup": "insertion_sort",
         "line": {
          "color": "#636efa",
          "dash": "solid"
         },
         "marker": {
          "symbol": "circle"
         },
         "mode": "lines",
         "name": "insertion_sort",
         "orientation": "v",
         "showlegend": false,
         "x": [
          100,
          200,
          300,
          400,
          500,
          600,
          700,
          800,
          900,
          1000,
          1100,
          1200,
          1300,
          1400,
          1500,
          1600,
          1700,
          1800,
          1900,
          2000,
          2100,
          2200,
          2300,
          2400,
          2500,
          2600,
          2700,
          2800,
          2900,
          3000,
          3100,
          3200,
          3300,
          3400,
          3500,
          3600,
          3700,
          3800,
          3900,
          4000,
          4100,
          4200,
          4300,
          4400,
          4500,
          4600,
          4700,
          4800,
          4900,
          5000,
          5100,
          5200,
          5300,
          5400,
          5500,
          5600,
          5700,
          5800,
          5900,
          6000,
          6100,
          6200,
          6300,
          6400,
          6500,
          6600,
          6700,
          6800,
          6900,
          7000,
          7100,
          7200,
          7300,
          7400,
          7500,
          7600,
          7700,
          7800,
          7900,
          8000,
          8100,
          8200,
          8300,
          8400,
          8500,
          8600,
          8700,
          8800,
          8900,
          9000,
          9100,
          9200,
          9300,
          9400,
          9500,
          9600,
          9700,
          9800,
          9900
         ],
         "xaxis": "x2",
         "y": [
          1.479999627918005E-5,
          2.3200002033263445E-5,
          3.579998156055808E-5,
          4.8900023102760315E-5,
          6.250001024454832E-5,
          1.1090002954006195E-4,
          8.909997995942831E-5,
          1.0219996329396963E-4,
          1.1550000635907054E-4,
          1.3339996803551912E-4,
          1.4230003580451012E-4,
          1.6179995145648718E-4,
          1.689000055193901E-4,
          2.046999870799482E-4,
          1.957999775186181E-4,
          2.29199999012053E-4,
          2.321999636478722E-4,
          2.8219999512657523E-4,
          2.6810000417754054E-4,
          2.8199999360367656E-4,
          3.071000101044774E-4,
          3.05800000205636E-4,
          3.4329999471083283E-4,
          3.369000041857362E-4,
          3.4739996772259474E-4,
          3.7590001011267304E-4,
          3.7460000021383166E-4,
          3.9850000757724047E-4,
          4.0499999886378646E-4,
          4.496999899856746E-4,
          4.616000223904848E-4,
          5.015000351704657E-4,
          4.940999788232148E-4,
          4.741000011563301E-4,
          5.14600018505007E-4,
          5.33499987795949E-4,
          5.724999937228858E-4,
          5.53299963939935E-4,
          6.128000095486641E-4,
          6.703999824821949E-4,
          5.528000183403492E-4,
          5.324999801814556E-4,
          5.75500016566366E-4,
          6.059000152163208E-4,
          6.416999967768788E-4,
          6.829000194557011E-4,
          6.684000254608691E-4,
          6.777999806217849E-4,
          6.880000000819564E-4,
          7.50600011087954E-4,
          7.275999523699284E-4,
          7.15400034096092E-4,
          7.593000191263855E-4,
          7.671000203117728E-4,
          8.014999912120402E-4,
          8.217000286094844E-4,
          8.075999794527888E-4,
          8.163999882526696E-4,
          8.699000463820994E-4,
          8.705999935045838E-4,
          8.5350003791973E-4,
          8.625000482425094E-4,
          8.791000000201166E-4,
          9.585999650880694E-4,
          9.843999869190156E-4,
          9.261000086553395E-4,
          9.63500002399087E-4,
          9.644999518059194E-4,
          9.836999815888703E-4,
          9.886999614536762E-4,
          0.0010168000007979572,
          9.926000493578613E-4,
          0.0010701999999582767,
          0.0010673999786376953,
          0.0011224000481888652,
          0.0010807000217027962,
          0.001096600026357919,
          0.0011018000077456236,
          0.0011389999999664724,
          0.0011447000433690846,
          0.001119400025345385,
          0.001165499968919903,
          0.001209300011396408,
          0.0013086000108160079,
          0.0012258000206202269,
          0.0012511999811977148,
          0.0012529999949038029,
          0.001262500009033829,
          0.0015220000059343874,
          0.002078499994240701,
          0.00206389999948442,
          0.002098199969623238,
          0.0020362999639473855,
          0.0023388999979943037,
          0.0022701999987475574,
          0.002317400008905679,
          0.0023087000008672476,
          0.0023879000218585134,
          0.0022915000445209444
         ],
         "yaxis": "y2",
         "type": "scatter"
        },
        {
         "hovertemplate": "Algoritmo di ordinamento=insertion_sort<br>Tipo di input=reversed<br>Dimensione array=%{x}<br>Time (s)=%{y}<extra></extra>",
         "legendgroup": "insertion_sort",
         "line": {
          "color": "#636efa",
          "dash": "solid"
         },
         "marker": {
          "symbol": "circle"
         },
         "mode": "lines",
         "name": "insertion_sort",
         "orientation": "v",
         "showlegend": false,
         "x": [
          100,
          200,
          300,
          400,
          500,
          600,
          700,
          800,
          900,
          1000,
          1100,
          1200,
          1300,
          1400,
          1500,
          1600,
          1700,
          1800,
          1900,
          2000,
          2100,
          2200,
          2300,
          2400,
          2500,
          2600,
          2700,
          2800,
          2900,
          3000,
          3100,
          3200,
          3300,
          3400,
          3500,
          3600,
          3700,
          3800,
          3900,
          4000,
          4100,
          4200,
          4300,
          4400,
          4500,
          4600,
          4700,
          4800,
          4900,
          5000,
          5100,
          5200,
          5300,
          5400,
          5500,
          5600,
          5700,
          5800,
          5900,
          6000,
          6100,
          6200,
          6300,
          6400,
          6500,
          6600,
          6700,
          6800,
          6900,
          7000,
          7100,
          7200,
          7300,
          7400,
          7500,
          7600,
          7700,
          7800,
          7900,
          8000,
          8100,
          8200,
          8300,
          8400,
          8500,
          8600,
          8700,
          8800,
          8900,
          9000,
          9100,
          9200,
          9300,
          9400,
          9500,
          9600,
          9700,
          9800,
          9900
         ],
         "xaxis": "x3",
         "y": [
          7.603999692946672E-4,
          0.002472100022714585,
          0.008006299962289631,
          0.011011599970515817,
          0.012526000034995377,
          0.017975099966861308,
          0.02469079999718815,
          0.03263249999145046,
          0.04134860000340268,
          0.05128910002531484,
          0.062211900018155575,
          0.07558940001763403,
          0.0889772999798879,
          0.10291429999051616,
          0.11906440003076568,
          0.13519790000282228,
          0.15379190002568066,
          0.17213489999994636,
          0.19338090001838282,
          0.21403319999808446,
          0.2362662999657914,
          0.25938480003969744,
          0.2889849999919534,
          0.3103020000271499,
          0.33937760000117123,
          0.3654075000085868,
          0.3863194999867119,
          0.41610520001268014,
          0.4556122999638319,
          0.5021321999956854,
          0.5392477999557741,
          0.5526884000282735,
          0.5910983999492601,
          0.6303119999938644,
          0.697569600015413,
          0.741077899991069,
          0.7802160000428557,
          0.8125132999848574,
          0.8608671000110917,
          0.8875297000049613,
          0.953194200003054,
          0.9983552000485361,
          1.0422556000412442,
          1.0423119000042789,
          1.0954286000342108,
          1.200365900003817,
          1.256871699995827,
          1.2649075000081211,
          1.3445615000091493,
          1.399133200000506,
          1.458466700045392,
          1.535551100037992,
          1.5984580000513233,
          1.6507481999578886,
          1.7038850000244565,
          1.7889655000180937,
          1.7756682999897748,
          1.8525363000226207,
          1.9788174999994226,
          1.9873343000072055,
          2.0720298000378534,
          2.1000715999980457,
          2.185598400013987,
          2.228144599997904,
          2.2875015000463463,
          2.390780799963977,
          2.4360891000251286,
          2.595344999979716,
          2.620581499999389,
          2.6228654999868013,
          2.827888800005894,
          2.831647199986037,
          2.8858199000242166,
          2.9491840000264347,
          3.00486029998865,
          3.151897599978838,
          3.347159999946598,
          3.3497457999619655,
          3.4040607000351883,
          3.6577597999712452,
          3.7068680999800563,
          3.8146444000303745,
          3.8847954000229947,
          3.963496100041084,
          3.9932926999754272,
          4.043931899999734,
          4.102003600040916,
          4.062002599996049,
          4.311225899960846,
          4.354008299997076,
          4.532653000031132,
          4.550089700031094,
          4.551031300041359,
          4.82951819995651,
          4.945488800003659,
          4.865052600041963,
          4.9702990999794565,
          5.24926690000575,
          5.332972800009884
         ],
         "yaxis": "y3",
         "type": "scatter"
        },
        {
         "hovertemplate": "Algoritmo di ordinamento=counting_sort<br>Tipo di input=random<br>Dimensione array=%{x}<br>Time (s)=%{y}<extra></extra>",
         "legendgroup": "counting_sort",
         "line": {
          "color": "#EF553B",
          "dash": "solid"
         },
         "marker": {
          "symbol": "circle"
         },
         "mode": "lines",
         "name": "counting_sort",
         "orientation": "v",
         "showlegend": true,
         "x": [
          100,
          200,
          300,
          400,
          500,
          600,
          700,
          800,
          900,
          1000,
          1100,
          1200,
          1300,
          1400,
          1500,
          1600,
          1700,
          1800,
          1900,
          2000,
          2100,
          2200,
          2300,
          2400,
          2500,
          2600,
          2700,
          2800,
          2900,
          3000,
          3100,
          3200,
          3300,
          3400,
          3500,
          3600,
          3700,
          3800,
          3900,
          4000,
          4100,
          4200,
          4300,
          4400,
          4500,
          4600,
          4700,
          4800,
          4900,
          5000,
          5100,
          5200,
          5300,
          5400,
          5500,
          5600,
          5700,
          5800,
          5900,
          6000,
          6100,
          6200,
          6300,
          6400,
          6500,
          6600,
          6700,
          6800,
          6900,
          7000,
          7100,
          7200,
          7300,
          7400,
          7500,
          7600,
          7700,
          7800,
          7900,
          8000,
          8100,
          8200,
          8300,
          8400,
          8500,
          8600,
          8700,
          8800,
          8900,
          9000,
          9100,
          9200,
          9300,
          9400,
          9500,
          9600,
          9700,
          9800,
          9900
         ],
         "xaxis": "x",
         "y": [
          0.08671780000440776,
          0.08392359997378662,
          0.08584929996868595,
          0.08854639995843172,
          0.09288690000539646,
          0.09454900003038347,
          0.0931284999824129,
          0.0958540000137873,
          0.0969403000199236,
          0.0961644999915734,
          0.09776330000022426,
          0.09831929998472333,
          0.09857009997358546,
          0.0969578999793157,
          0.10885499999858439,
          0.09914899995783344,
          0.0989304999820888,
          0.09700329997576773,
          0.10020279994932935,
          0.09638380003161728,
          0.09990760002983734,
          0.10015310003655031,
          0.09789279999677092,
          0.10000039997976273,
          0.10082589997909963,
          0.10030269995331764,
          0.10012850002385676,
          0.10006610001437366,
          0.10051690001273528,
          0.10150310001336038,
          0.10097139998106286,
          0.09936310001648962,
          0.1004273000289686,
          0.1000112000037916,
          0.10072379995835945,
          0.10056769999209791,
          0.10185470001306385,
          0.09914370003389195,
          0.10010280000278726,
          0.10021070000948384,
          0.10171889996854588,
          0.10177080001449212,
          0.10209739999845624,
          0.10242000001017004,
          0.10064859996782616,
          0.10045770002761856,
          0.10083249997114763,
          0.10111920000053942,
          0.10117779998108745,
          0.1013567999470979,
          0.1004642000189051,
          0.10211769997840747,
          0.10258529998827726,
          0.10186330002034083,
          0.09938099997816607,
          0.10146209999220446,
          0.10228719998849556,
          0.10279350000200793,
          0.10228810005355626,
          0.10159179999027401,
          0.1022077000234276,
          0.10183729999698699,
          0.10229379998054355,
          0.10179340001195669,
          0.09973720001289621,
          0.1020587999955751,
          0.10319549997802824,
          0.1021718000411056,
          0.10070440004346892,
          0.10335730004590005,
          0.10358680004719645,
          0.10336700000334531,
          0.10302310000406578,
          0.10317010001745075,
          0.10371209995355457,
          0.1037398999906145,
          0.10313719999976456,
          0.10360869998112321,
          0.10448390000965446,
          0.10297379997791722,
          0.10332980001112446,
          0.10331989999394864,
          0.1036906000226736,
          0.10406480001984164,
          0.1034992000204511,
          0.10147390002384782,
          0.10255310003412887,
          0.10335639998083934,
          0.10348659998271614,
          0.10383739997632802,
          0.10470289998920634,
          0.10486789996502921,
          0.10524040000746027,
          0.10466030001407489,
          0.1001216999720782,
          0.10194780002348125,
          0.10336579999420792,
          0.10116759996162727,
          0.10597899998538196
         ],
         "yaxis": "y",
         "type": "scatter"
        },
        {
         "hovertemplate": "Algoritmo di ordinamento=counting_sort<br>Tipo di input=sorted<br>Dimensione array=%{x}<br>Time (s)=%{y}<extra></extra>",
         "legendgroup": "counting_sort",
         "line": {
          "color": "#EF553B",
          "dash": "solid"
         },
         "marker": {
          "symbol": "circle"
         },
         "mode": "lines",
         "name": "counting_sort",
         "orientation": "v",
         "showlegend": false,
         "x": [
          100,
          200,
          300,
          400,
          500,
          600,
          700,
          800,
          900,
          1000,
          1100,
          1200,
          1300,
          1400,
          1500,
          1600,
          1700,
          1800,
          1900,
          2000,
          2100,
          2200,
          2300,
          2400,
          2500,
          2600,
          2700,
          2800,
          2900,
          3000,
          3100,
          3200,
          3300,
          3400,
          3500,
          3600,
          3700,
          3800,
          3900,
          4000,
          4100,
          4200,
          4300,
          4400,
          4500,
          4600,
          4700,
          4800,
          4900,
          5000,
          5100,
          5200,
          5300,
          5400,
          5500,
          5600,
          5700,
          5800,
          5900,
          6000,
          6100,
          6200,
          6300,
          6400,
          6500,
          6600,
          6700,
          6800,
          6900,
          7000,
          7100,
          7200,
          7300,
          7400,
          7500,
          7600,
          7700,
          7800,
          7900,
          8000,
          8100,
          8200,
          8300,
          8400,
          8500,
          8600,
          8700,
          8800,
          8900,
          9000,
          9100,
          9200,
          9300,
          9400,
          9500,
          9600,
          9700,
          9800,
          9900
         ],
         "xaxis": "x2",
         "y": [
          0.08921649999683723,
          0.0881603000452742,
          0.08919750002678484,
          0.09435979998670518,
          0.0936074000201188,
          0.09536730003310367,
          0.09698089997982606,
          0.09576039999956265,
          0.0984836999559775,
          0.09866600000532344,
          0.09731059998739511,
          0.09789789997739717,
          0.09762690000934526,
          0.0981504000374116,
          0.09847529995022342,
          0.09897170000476763,
          0.09668750001583248,
          0.09537229995476082,
          0.09540849999757484,
          0.09872210002504289,
          0.0992722999653779,
          0.09977179998531938,
          0.10001350002130494,
          0.099534000037238,
          0.09930040000472218,
          0.09907990001374856,
          0.09956280002370477,
          0.09951119998004287,
          0.09996959997806698,
          0.10027990001253784,
          0.10071639996021986,
          0.10033430001931265,
          0.10031340003479272,
          0.1002470999956131,
          0.10037379997083917,
          0.09862750000320375,
          0.09939180000219494,
          0.09933260001707822,
          0.09664559998782352,
          0.10057810001308098,
          0.09928929997840896,
          0.09500399994431064,
          0.0994048000429757,
          0.1026492000091821,
          0.09838340000715107,
          0.10177810001187027,
          0.1013645000057295,
          0.10061480000149459,
          0.09906879998743534,
          0.09788820001995191,
          0.10005720000481233,
          0.09872250002808869,
          0.10020169999916106,
          0.10149570001522079,
          0.10190639999927953,
          0.10176430002320558,
          0.10132070002146065,
          0.10105549998115748,
          0.10127280000597239,
          0.1011714999913238,
          0.0992433000355959,
          0.10186250001424924,
          0.10253940004622564,
          0.10249919997295365,
          0.10384260001592338,
          0.10120540001662448,
          0.10043540003243834,
          0.1027052000281401,
          0.10075729998061433,
          0.10307989997090772,
          0.0982788999681361,
          0.10237229999620467,
          0.10261479998007417,
          0.10233660001540557,
          0.09793029999127612,
          0.1024489999981597,
          0.10384200001135468,
          0.10307919996557757,
          0.10146410000743344,
          0.10344049998093396,
          0.10368200001539662,
          0.1036533999722451,
          0.10344400000758469,
          0.10363550001056865,
          0.10402739996789023,
          0.10345240001333877,
          0.10214350000023842,
          0.10203030001139268,
          0.10187610000139102,
          0.1023814000072889,
          0.10288379999110475,
          0.10191139997914433,
          0.09916710003744811,
          0.10117199999513105,
          0.10139969998272136,
          0.10123229998862371,
          0.10261960001662374,
          0.10173150000628084,
          0.10181289998581633
         ],
         "yaxis": "y2",
         "type": "scatter"
        },
        {
         "hovertemplate": "Algoritmo di ordinamento=counting_sort<br>Tipo di input=reversed<br>Dimensione array=%{x}<br>Time (s)=%{y}<extra></extra>",
         "legendgroup": "counting_sort",
         "line": {
          "color": "#EF553B",
          "dash": "solid"
         },
         "marker": {
          "symbol": "circle"
         },
         "mode": "lines",
         "name": "counting_sort",
         "orientation": "v",
         "showlegend": false,
         "x": [
          100,
          200,
          300,
          400,
          500,
          600,
          700,
          800,
          900,
          1000,
          1100,
          1200,
          1300,
          1400,
          1500,
          1600,
          1700,
          1800,
          1900,
          2000,
          2100,
          2200,
          2300,
          2400,
          2500,
          2600,
          2700,
          2800,
          2900,
          3000,
          3100,
          3200,
          3300,
          3400,
          3500,
          3600,
          3700,
          3800,
          3900,
          4000,
          4100,
          4200,
          4300,
          4400,
          4500,
          4600,
          4700,
          4800,
          4900,
          5000,
          5100,
          5200,
          5300,
          5400,
          5500,
          5600,
          5700,
          5800,
          5900,
          6000,
          6100,
          6200,
          6300,
          6400,
          6500,
          6600,
          6700,
          6800,
          6900,
          7000,
          7100,
          7200,
          7300,
          7400,
          7500,
          7600,
          7700,
          7800,
          7900,
          8000,
          8100,
          8200,
          8300,
          8400,
          8500,
          8600,
          8700,
          8800,
          8900,
          9000,
          9100,
          9200,
          9300,
          9400,
          9500,
          9600,
          9700,
          9800,
          9900
         ],
         "xaxis": "x3",
         "y": [
          0.08779969997704029,
          0.08654109999770299,
          0.09040340001229197,
          0.0930301999906078,
          0.09416450001299381,
          0.0963050999562256,
          0.09652060002554208,
          0.09815039997920394,
          0.0981514000450261,
          0.09816310001770034,
          0.09815259999595582,
          0.09486850001849234,
          0.10014279995812103,
          0.09984849998727441,
          0.09990780003136024,
          0.09983960003592074,
          0.09993430000031367,
          0.10080949997063726,
          0.10128509998321533,
          0.10062869999092072,
          0.10079609998501837,
          0.10102820000611246,
          0.10082739999052137,
          0.1011716999928467,
          0.09759240003768355,
          0.10085889999754727,
          0.10086020000744611,
          0.1008785999729298,
          0.1027598999789916,
          0.10207480000099167,
          0.10049859998980537,
          0.10094480001134798,
          0.10129839996807277,
          0.10075470001902431,
          0.1029335000202991,
          0.10141780000412837,
          0.10111190000316128,
          0.09964160004165024,
          0.10231480002403259,
          0.10161339998012409,
          0.1019910000031814,
          0.10252770001534373,
          0.10268160002306104,
          0.1016358999768272,
          0.1024879000033252,
          0.10322550003184006,
          0.10192959994310513,
          0.10257260000798851,
          0.10225999995600432,
          0.10250819998327643,
          0.10304049996193498,
          0.10333640000317246,
          0.10254859999986365,
          0.10035740002058446,
          0.1029211999848485,
          0.09925750002730638,
          0.10388509999029338,
          0.10379909997573122,
          0.10306500003207475,
          0.10318730003200471,
          0.10270509996917099,
          0.09927140001673251,
          0.10378499998478219,
          0.10000969999236986,
          0.10318919998826459,
          0.10360540001420304,
          0.10339720000047237,
          0.10339530004421249,
          0.10345039999810979,
          0.1037219999707304,
          0.10527089994866401,
          0.10454949998529628,
          0.10180720000062138,
          0.10396899998886511,
          0.10434840002562851,
          0.10490560001926497,
          0.10392409999622032,
          0.10459790000459179,
          0.10509900003671646,
          0.10541469999589026,
          0.10526670003309846,
          0.10387910000281408,
          0.10537629999453202,
          0.10507170000346377,
          0.1010179000440985,
          0.10499050002545118,
          0.10273560002679005,
          0.10589449998224154,
          0.10298540000803769,
          0.10579300002427772,
          0.10619690001476556,
          0.12225389998639002,
          0.10473479999927804,
          0.10416660003829747,
          0.10523919999832287,
          0.10496530000818893,
          0.10484240000369027,
          0.1047643999918364,
          0.1066323000122793
         ],
         "yaxis": "y3",
         "type": "scatter"
        }
       ],
       "layout": {
        "template": {
         "data": {
          "histogram2dcontour": [
           {
            "type": "histogram2dcontour",
            "colorbar": {
             "outlinewidth": 0,
             "ticks": ""
            },
            "colorscale": [
             [
              0.0,
              "#0d0887"
             ],
             [
              0.1111111111111111,
              "#46039f"
             ],
             [
              0.2222222222222222,
              "#7201a8"
             ],
             [
              0.3333333333333333,
              "#9c179e"
             ],
             [
              0.4444444444444444,
              "#bd3786"
             ],
             [
              0.5555555555555556,
              "#d8576b"
             ],
             [
              0.6666666666666666,
              "#ed7953"
             ],
             [
              0.7777777777777778,
              "#fb9f3a"
             ],
             [
              0.8888888888888888,
              "#fdca26"
             ],
             [
              1.0,
              "#f0f921"
             ]
            ]
           }
          ],
          "choropleth": [
           {
            "type": "choropleth",
            "colorbar": {
             "outlinewidth": 0,
             "ticks": ""
            }
           }
          ],
          "histogram2d": [
           {
            "type": "histogram2d",
            "colorbar": {
             "outlinewidth": 0,
             "ticks": ""
            },
            "colorscale": [
             [
              0.0,
              "#0d0887"
             ],
             [
              0.1111111111111111,
              "#46039f"
             ],
             [
              0.2222222222222222,
              "#7201a8"
             ],
             [
              0.3333333333333333,
              "#9c179e"
             ],
             [
              0.4444444444444444,
              "#bd3786"
             ],
             [
              0.5555555555555556,
              "#d8576b"
             ],
             [
              0.6666666666666666,
              "#ed7953"
             ],
             [
              0.7777777777777778,
              "#fb9f3a"
             ],
             [
              0.8888888888888888,
              "#fdca26"
             ],
             [
              1.0,
              "#f0f921"
             ]
            ]
           }
          ],
          "heatmap": [
           {
            "type": "heatmap",
            "colorbar": {
             "outlinewidth": 0,
             "ticks": ""
            },
            "colorscale": [
             [
              0.0,
              "#0d0887"
             ],
             [
              0.1111111111111111,
              "#46039f"
             ],
             [
              0.2222222222222222,
              "#7201a8"
             ],
             [
              0.3333333333333333,
              "#9c179e"
             ],
             [
              0.4444444444444444,
              "#bd3786"
             ],
             [
              0.5555555555555556,
              "#d8576b"
             ],
             [
              0.6666666666666666,
              "#ed7953"
             ],
             [
              0.7777777777777778,
              "#fb9f3a"
             ],
             [
              0.8888888888888888,
              "#fdca26"
             ],
             [
              1.0,
              "#f0f921"
             ]
            ]
           }
          ],
          "heatmapgl": [
           {
            "type": "heatmapgl",
            "colorbar": {
             "outlinewidth": 0,
             "ticks": ""
            },
            "colorscale": [
             [
              0.0,
              "#0d0887"
             ],
             [
              0.1111111111111111,
              "#46039f"
             ],
             [
              0.2222222222222222,
              "#7201a8"
             ],
             [
              0.3333333333333333,
              "#9c179e"
             ],
             [
              0.4444444444444444,
              "#bd3786"
             ],
             [
              0.5555555555555556,
              "#d8576b"
             ],
             [
              0.6666666666666666,
              "#ed7953"
             ],
             [
              0.7777777777777778,
              "#fb9f3a"
             ],
             [
              0.8888888888888888,
              "#fdca26"
             ],
             [
              1.0,
              "#f0f921"
             ]
            ]
           }
          ],
          "contourcarpet": [
           {
            "type": "contourcarpet",
            "colorbar": {
             "outlinewidth": 0,
             "ticks": ""
            }
           }
          ],
          "contour": [
           {
            "type": "contour",
            "colorbar": {
             "outlinewidth": 0,
             "ticks": ""
            },
            "colorscale": [
             [
              0.0,
              "#0d0887"
             ],
             [
              0.1111111111111111,
              "#46039f"
             ],
             [
              0.2222222222222222,
              "#7201a8"
             ],
             [
              0.3333333333333333,
              "#9c179e"
             ],
             [
              0.4444444444444444,
              "#bd3786"
             ],
             [
              0.5555555555555556,
              "#d8576b"
             ],
             [
              0.6666666666666666,
              "#ed7953"
             ],
             [
              0.7777777777777778,
              "#fb9f3a"
             ],
             [
              0.8888888888888888,
              "#fdca26"
             ],
             [
              1.0,
              "#f0f921"
             ]
            ]
           }
          ],
          "surface": [
           {
            "type": "surface",
            "colorbar": {
             "outlinewidth": 0,
             "ticks": ""
            },
            "colorscale": [
             [
              0.0,
              "#0d0887"
             ],
             [
              0.1111111111111111,
              "#46039f"
             ],
             [
              0.2222222222222222,
              "#7201a8"
             ],
             [
              0.3333333333333333,
              "#9c179e"
             ],
             [
              0.4444444444444444,
              "#bd3786"
             ],
             [
              0.5555555555555556,
              "#d8576b"
             ],
             [
              0.6666666666666666,
              "#ed7953"
             ],
             [
              0.7777777777777778,
              "#fb9f3a"
             ],
             [
              0.8888888888888888,
              "#fdca26"
             ],
             [
              1.0,
              "#f0f921"
             ]
            ]
           }
          ],
          "mesh3d": [
           {
            "type": "mesh3d",
            "colorbar": {
             "outlinewidth": 0,
             "ticks": ""
            }
           }
          ],
          "scatter": [
           {
            "marker": {
             "line": {
              "color": "#283442"
             }
            },
            "type": "scatter"
           }
          ],
          "parcoords": [
           {
            "type": "parcoords",
            "line": {
             "colorbar": {
              "outlinewidth": 0,
              "ticks": ""
             }
            }
           }
          ],
          "scatterpolargl": [
           {
            "type": "scatterpolargl",
            "marker": {
             "colorbar": {
              "outlinewidth": 0,
              "ticks": ""
             }
            }
           }
          ],
          "bar": [
           {
            "error_x": {
             "color": "#f2f5fa"
            },
            "error_y": {
             "color": "#f2f5fa"
            },
            "marker": {
             "line": {
              "color": "rgb(17,17,17)",
              "width": 0.5
             },
             "pattern": {
              "fillmode": "overlay",
              "size": 10,
              "solidity": 0.2
             }
            },
            "type": "bar"
           }
          ],
          "scattergeo": [
           {
            "type": "scattergeo",
            "marker": {
             "colorbar": {
              "outlinewidth": 0,
              "ticks": ""
             }
            }
           }
          ],
          "scatterpolar": [
           {
            "type": "scatterpolar",
            "marker": {
             "colorbar": {
              "outlinewidth": 0,
              "ticks": ""
             }
            }
           }
          ],
          "histogram": [
           {
            "marker": {
             "pattern": {
              "fillmode": "overlay",
              "size": 10,
              "solidity": 0.2
             }
            },
            "type": "histogram"
           }
          ],
          "scattergl": [
           {
            "marker": {
             "line": {
              "color": "#283442"
             }
            },
            "type": "scattergl"
           }
          ],
          "scatter3d": [
           {
            "type": "scatter3d",
            "line": {
             "colorbar": {
              "outlinewidth": 0,
              "ticks": ""
             }
            },
            "marker": {
             "colorbar": {
              "outlinewidth": 0,
              "ticks": ""
             }
            }
           }
          ],
          "scattermapbox": [
           {
            "type": "scattermapbox",
            "marker": {
             "colorbar": {
              "outlinewidth": 0,
              "ticks": ""
             }
            }
           }
          ],
          "scatterternary": [
           {
            "type": "scatterternary",
            "marker": {
             "colorbar": {
              "outlinewidth": 0,
              "ticks": ""
             }
            }
           }
          ],
          "scattercarpet": [
           {
            "type": "scattercarpet",
            "marker": {
             "colorbar": {
              "outlinewidth": 0,
              "ticks": ""
             }
            }
           }
          ],
          "carpet": [
           {
            "aaxis": {
             "endlinecolor": "#A2B1C6",
             "gridcolor": "#506784",
             "linecolor": "#506784",
             "minorgridcolor": "#506784",
             "startlinecolor": "#A2B1C6"
            },
            "baxis": {
             "endlinecolor": "#A2B1C6",
             "gridcolor": "#506784",
             "linecolor": "#506784",
             "minorgridcolor": "#506784",
             "startlinecolor": "#A2B1C6"
            },
            "type": "carpet"
           }
          ],
          "table": [
           {
            "cells": {
             "fill": {
              "color": "#506784"
             },
             "line": {
              "color": "rgb(17,17,17)"
             }
            },
            "header": {
             "fill": {
              "color": "#2a3f5f"
             },
             "line": {
              "color": "rgb(17,17,17)"
             }
            },
            "type": "table"
           }
          ],
          "barpolar": [
           {
            "marker": {
             "line": {
              "color": "rgb(17,17,17)",
              "width": 0.5
             },
             "pattern": {
              "fillmode": "overlay",
              "size": 10,
              "solidity": 0.2
             }
            },
            "type": "barpolar"
           }
          ],
          "pie": [
           {
            "automargin": true,
            "type": "pie"
           }
          ]
         },
         "layout": {
          "autotypenumbers": "strict",
          "colorway": [
           "#636efa",
           "#EF553B",
           "#00cc96",
           "#ab63fa",
           "#FFA15A",
           "#19d3f3",
           "#FF6692",
           "#B6E880",
           "#FF97FF",
           "#FECB52"
          ],
          "font": {
           "color": "#f2f5fa"
          },
          "hovermode": "closest",
          "hoverlabel": {
           "align": "left"
          },
          "paper_bgcolor": "rgb(17,17,17)",
          "plot_bgcolor": "rgb(17,17,17)",
          "polar": {
           "bgcolor": "rgb(17,17,17)",
           "angularaxis": {
            "gridcolor": "#506784",
            "linecolor": "#506784",
            "ticks": ""
           },
           "radialaxis": {
            "gridcolor": "#506784",
            "linecolor": "#506784",
            "ticks": ""
           }
          },
          "ternary": {
           "bgcolor": "rgb(17,17,17)",
           "aaxis": {
            "gridcolor": "#506784",
            "linecolor": "#506784",
            "ticks": ""
           },
           "baxis": {
            "gridcolor": "#506784",
            "linecolor": "#506784",
            "ticks": ""
           },
           "caxis": {
            "gridcolor": "#506784",
            "linecolor": "#506784",
            "ticks": ""
           }
          },
          "coloraxis": {
           "colorbar": {
            "outlinewidth": 0,
            "ticks": ""
           }
          },
          "colorscale": {
           "sequential": [
            [
             0.0,
             "#0d0887"
            ],
            [
             0.1111111111111111,
             "#46039f"
            ],
            [
             0.2222222222222222,
             "#7201a8"
            ],
            [
             0.3333333333333333,
             "#9c179e"
            ],
            [
             0.4444444444444444,
             "#bd3786"
            ],
            [
             0.5555555555555556,
             "#d8576b"
            ],
            [
             0.6666666666666666,
             "#ed7953"
            ],
            [
             0.7777777777777778,
             "#fb9f3a"
            ],
            [
             0.8888888888888888,
             "#fdca26"
            ],
            [
             1.0,
             "#f0f921"
            ]
           ],
           "sequentialminus": [
            [
             0.0,
             "#0d0887"
            ],
            [
             0.1111111111111111,
             "#46039f"
            ],
            [
             0.2222222222222222,
             "#7201a8"
            ],
            [
             0.3333333333333333,
             "#9c179e"
            ],
            [
             0.4444444444444444,
             "#bd3786"
            ],
            [
             0.5555555555555556,
             "#d8576b"
            ],
            [
             0.6666666666666666,
             "#ed7953"
            ],
            [
             0.7777777777777778,
             "#fb9f3a"
            ],
            [
             0.8888888888888888,
             "#fdca26"
            ],
            [
             1.0,
             "#f0f921"
            ]
           ],
           "diverging": [
            [
             0,
             "#8e0152"
            ],
            [
             0.1,
             "#c51b7d"
            ],
            [
             0.2,
             "#de77ae"
            ],
            [
             0.3,
             "#f1b6da"
            ],
            [
             0.4,
             "#fde0ef"
            ],
            [
             0.5,
             "#f7f7f7"
            ],
            [
             0.6,
             "#e6f5d0"
            ],
            [
             0.7,
             "#b8e186"
            ],
            [
             0.8,
             "#7fbc41"
            ],
            [
             0.9,
             "#4d9221"
            ],
            [
             1,
             "#276419"
            ]
           ]
          },
          "xaxis": {
           "gridcolor": "#283442",
           "linecolor": "#506784",
           "ticks": "",
           "title": {
            "standoff": 15
           },
           "zerolinecolor": "#283442",
           "automargin": true,
           "zerolinewidth": 2
          },
          "yaxis": {
           "gridcolor": "#283442",
           "linecolor": "#506784",
           "ticks": "",
           "title": {
            "standoff": 15
           },
           "zerolinecolor": "#283442",
           "automargin": true,
           "zerolinewidth": 2
          },
          "scene": {
           "xaxis": {
            "backgroundcolor": "rgb(17,17,17)",
            "gridcolor": "#506784",
            "linecolor": "#506784",
            "showbackground": true,
            "ticks": "",
            "zerolinecolor": "#C8D4E3",
            "gridwidth": 2
           },
           "yaxis": {
            "backgroundcolor": "rgb(17,17,17)",
            "gridcolor": "#506784",
            "linecolor": "#506784",
            "showbackground": true,
            "ticks": "",
            "zerolinecolor": "#C8D4E3",
            "gridwidth": 2
           },
           "zaxis": {
            "backgroundcolor": "rgb(17,17,17)",
            "gridcolor": "#506784",
            "linecolor": "#506784",
            "showbackground": true,
            "ticks": "",
            "zerolinecolor": "#C8D4E3",
            "gridwidth": 2
           }
          },
          "shapedefaults": {
           "line": {
            "color": "#f2f5fa"
           }
          },
          "annotationdefaults": {
           "arrowcolor": "#f2f5fa",
           "arrowhead": 0,
           "arrowwidth": 1
          },
          "geo": {
           "bgcolor": "rgb(17,17,17)",
           "landcolor": "rgb(17,17,17)",
           "subunitcolor": "#506784",
           "showland": true,
           "showlakes": true,
           "lakecolor": "rgb(17,17,17)"
          },
          "title": {
           "x": 0.05
          },
          "updatemenudefaults": {
           "bgcolor": "#506784",
           "borderwidth": 0
          },
          "sliderdefaults": {
           "bgcolor": "#C8D4E3",
           "borderwidth": 1,
           "bordercolor": "rgb(17,17,17)",
           "tickwidth": 0
          },
          "mapbox": {
           "style": "dark"
          }
         }
        },
        "xaxis": {
         "anchor": "y",
         "domain": [
          0.0,
          0.31999999999999995
         ],
         "title": {
          "text": "Dimensione array"
         }
        },
        "yaxis": {
         "anchor": "x",
         "domain": [
          0.0,
          1.0
         ],
         "title": {
          "text": "Time (s)"
         }
        },
        "xaxis2": {
         "anchor": "y2",
         "domain": [
          0.33999999999999997,
          0.6599999999999999
         ],
         "matches": "x",
         "title": {
          "text": "Dimensione array"
         }
        },
        "yaxis2": {
         "anchor": "x2",
         "domain": [
          0.0,
          1.0
         ],
         "matches": "y",
         "showticklabels": false
        },
        "xaxis3": {
         "anchor": "y3",
         "domain": [
          0.6799999999999999,
          0.9999999999999999
         ],
         "matches": "x",
         "title": {
          "text": "Dimensione array"
         }
        },
        "yaxis3": {
         "anchor": "x3",
         "domain": [
          0.0,
          1.0
         ],
         "matches": "y",
         "showticklabels": false
        },
        "annotations": [
         {
          "font": {},
          "showarrow": false,
          "text": "Tipo di input=random",
          "x": 0.15999999999999998,
          "xanchor": "center",
          "xref": "paper",
          "y": 1.0,
          "yanchor": "bottom",
          "yref": "paper"
         },
         {
          "font": {},
          "showarrow": false,
          "text": "Tipo di input=sorted",
          "x": 0.49999999999999994,
          "xanchor": "center",
          "xref": "paper",
          "y": 1.0,
          "yanchor": "bottom",
          "yref": "paper"
         },
         {
          "font": {},
          "showarrow": false,
          "text": "Tipo di input=reversed",
          "x": 0.8399999999999999,
          "xanchor": "center",
          "xref": "paper",
          "y": 1.0,
          "yanchor": "bottom",
          "yref": "paper"
         }
        ],
        "legend": {
         "title": {
          "text": "Algoritmo di ordinamento"
         },
         "tracegroupgap": 0
        },
        "title": {
         "text": "Sorting algorithms"
        }
       },
       "config": {
        "plotlyServerURL": "https://plot.ly"
       }
      },
      "text/html": "<div>                            <div id=\"371de353-7400-4114-88df-fc5eaa17d253\" class=\"plotly-graph-div\" style=\"height:525px; width:100%;\"></div>            <script type=\"text/javascript\">                require([\"plotly\"], function(Plotly) {                    window.PLOTLYENV=window.PLOTLYENV || {};                                    if (document.getElementById(\"371de353-7400-4114-88df-fc5eaa17d253\")) {                    Plotly.newPlot(                        \"371de353-7400-4114-88df-fc5eaa17d253\",                        [{\"hovertemplate\":\"Algoritmo di ordinamento=insertion_sort<br>Tipo di input=random<br>Dimensione array=%{x}<br>Time (s)=%{y}<extra></extra>\",\"legendgroup\":\"insertion_sort\",\"line\":{\"color\":\"#636efa\",\"dash\":\"solid\"},\"marker\":{\"symbol\":\"circle\"},\"mode\":\"lines\",\"name\":\"insertion_sort\",\"orientation\":\"v\",\"showlegend\":true,\"x\":[100,200,300,400,500,600,700,800,900,1000,1100,1200,1300,1400,1500,1600,1700,1800,1900,2000,2100,2200,2300,2400,2500,2600,2700,2800,2900,3000,3100,3200,3300,3400,3500,3600,3700,3800,3900,4000,4100,4200,4300,4400,4500,4600,4700,4800,4900,5000,5100,5200,5300,5400,5500,5600,5700,5800,5900,6000,6100,6200,6300,6400,6500,6600,6700,6800,6900,7000,7100,7200,7300,7400,7500,7600,7700,7800,7900,8000,8100,8200,8300,8400,8500,8600,8700,8800,8900,9000,9100,9200,9300,9400,9500,9600,9700,9800,9900],\"xaxis\":\"x\",\"y\":[0.0002511999919079244,0.0009534999844618142,0.002331299998331815,0.00435740000102669,0.00688499998068437,0.010607700038235635,0.019878400024026632,0.02139910002006218,0.033188700035680085,0.028216300008352846,0.03479810000862926,0.05665070004761219,0.077002200006973,0.05938579997746274,0.06284440000308678,0.07114750001346692,0.08232790004694834,0.09499109996249899,0.11045600002398714,0.12373280001338571,0.14925399998901412,0.1486089999671094,0.15313019999302924,0.16356939997058362,0.18139009998412803,0.1961567000253126,0.21240610000677407,0.23502239998197183,0.2791858999989927,0.2504907000111416,0.2664004999678582,0.27893679996486753,0.306747299968265,0.316387000028044,0.3411686000181362,0.4132926000165753,0.3754956999910064,0.40361209999537095,0.41966539999702945,0.4389200999867171,0.46923360001528636,0.4897365000215359,0.48927520000142977,0.5354219999862835,0.5690824000048451,0.5992725000251085,0.6382215999765322,0.6846634999965318,0.6656768000102602,0.6880289000109769,0.7295501999906264,0.7905789000215009,0.7952818000339903,0.8183683999814093,0.8239557999768294,0.8628919000038877,0.9210798999993131,0.9581274999654852,0.9934973000199534,1.0150144000072032,1.0763550999690779,1.054600500036031,1.1260269000194967,1.1784107999992557,1.222239200025797,1.279139699996449,1.2153737000189722,1.2966727999737486,1.4409391999943182,1.4004513999680057,1.416080900002271,1.3815936999744736,1.5089397999690846,1.6000283000175841,1.8162631999584846,1.6106767000164837,1.7027802999946289,1.696255500020925,1.7563610000070184,1.8168321000412107,1.8540674999821931,1.8537382999784313,1.8707082999753766,1.931038599985186,1.9913927000015974,2.04530389996944,2.1334191000205465,2.1324647999717854,2.1718004000140354,2.2025211000000127,2.201728700019885,2.3709741999628022,2.301192400045693,2.4064722000039183,2.547680700023193,2.5524520999751985,2.695965899969451,2.6669318999629468,2.721099599963054],\"yaxis\":\"y\",\"type\":\"scatter\"},{\"hovertemplate\":\"Algoritmo di ordinamento=insertion_sort<br>Tipo di input=sorted<br>Dimensione array=%{x}<br>Time (s)=%{y}<extra></extra>\",\"legendgroup\":\"insertion_sort\",\"line\":{\"color\":\"#636efa\",\"dash\":\"solid\"},\"marker\":{\"symbol\":\"circle\"},\"mode\":\"lines\",\"name\":\"insertion_sort\",\"orientation\":\"v\",\"showlegend\":false,\"x\":[100,200,300,400,500,600,700,800,900,1000,1100,1200,1300,1400,1500,1600,1700,1800,1900,2000,2100,2200,2300,2400,2500,2600,2700,2800,2900,3000,3100,3200,3300,3400,3500,3600,3700,3800,3900,4000,4100,4200,4300,4400,4500,4600,4700,4800,4900,5000,5100,5200,5300,5400,5500,5600,5700,5800,5900,6000,6100,6200,6300,6400,6500,6600,6700,6800,6900,7000,7100,7200,7300,7400,7500,7600,7700,7800,7900,8000,8100,8200,8300,8400,8500,8600,8700,8800,8900,9000,9100,9200,9300,9400,9500,9600,9700,9800,9900],\"xaxis\":\"x2\",\"y\":[1.479999627918005e-05,2.3200002033263445e-05,3.579998156055808e-05,4.8900023102760315e-05,6.250001024454832e-05,0.00011090002954006195,8.909997995942831e-05,0.00010219996329396963,0.00011550000635907054,0.00013339996803551912,0.00014230003580451012,0.00016179995145648718,0.0001689000055193901,0.0002046999870799482,0.0001957999775186181,0.000229199999012053,0.0002321999636478722,0.00028219999512657523,0.00026810000417754054,0.00028199999360367656,0.0003071000101044774,0.000305800000205636,0.00034329999471083283,0.0003369000041857362,0.00034739996772259474,0.00037590001011267304,0.00037460000021383166,0.00039850000757724047,0.00040499999886378646,0.0004496999899856746,0.0004616000223904848,0.0005015000351704657,0.0004940999788232148,0.0004741000011563301,0.000514600018505007,0.000533499987795949,0.0005724999937228858,0.000553299963939935,0.0006128000095486641,0.0006703999824821949,0.0005528000183403492,0.0005324999801814556,0.000575500016566366,0.0006059000152163208,0.0006416999967768788,0.0006829000194557011,0.0006684000254608691,0.0006777999806217849,0.0006880000000819564,0.000750600011087954,0.0007275999523699284,0.000715400034096092,0.0007593000191263855,0.0007671000203117728,0.0008014999912120402,0.0008217000286094844,0.0008075999794527888,0.0008163999882526696,0.0008699000463820994,0.0008705999935045838,0.00085350003791973,0.0008625000482425094,0.0008791000000201166,0.0009585999650880694,0.0009843999869190156,0.0009261000086553395,0.000963500002399087,0.0009644999518059194,0.0009836999815888703,0.0009886999614536762,0.0010168000007979572,0.0009926000493578613,0.0010701999999582767,0.0010673999786376953,0.0011224000481888652,0.0010807000217027962,0.001096600026357919,0.0011018000077456236,0.0011389999999664724,0.0011447000433690846,0.001119400025345385,0.001165499968919903,0.001209300011396408,0.0013086000108160079,0.0012258000206202269,0.0012511999811977148,0.0012529999949038029,0.001262500009033829,0.0015220000059343874,0.002078499994240701,0.00206389999948442,0.002098199969623238,0.0020362999639473855,0.0023388999979943037,0.0022701999987475574,0.002317400008905679,0.0023087000008672476,0.0023879000218585134,0.0022915000445209444],\"yaxis\":\"y2\",\"type\":\"scatter\"},{\"hovertemplate\":\"Algoritmo di ordinamento=insertion_sort<br>Tipo di input=reversed<br>Dimensione array=%{x}<br>Time (s)=%{y}<extra></extra>\",\"legendgroup\":\"insertion_sort\",\"line\":{\"color\":\"#636efa\",\"dash\":\"solid\"},\"marker\":{\"symbol\":\"circle\"},\"mode\":\"lines\",\"name\":\"insertion_sort\",\"orientation\":\"v\",\"showlegend\":false,\"x\":[100,200,300,400,500,600,700,800,900,1000,1100,1200,1300,1400,1500,1600,1700,1800,1900,2000,2100,2200,2300,2400,2500,2600,2700,2800,2900,3000,3100,3200,3300,3400,3500,3600,3700,3800,3900,4000,4100,4200,4300,4400,4500,4600,4700,4800,4900,5000,5100,5200,5300,5400,5500,5600,5700,5800,5900,6000,6100,6200,6300,6400,6500,6600,6700,6800,6900,7000,7100,7200,7300,7400,7500,7600,7700,7800,7900,8000,8100,8200,8300,8400,8500,8600,8700,8800,8900,9000,9100,9200,9300,9400,9500,9600,9700,9800,9900],\"xaxis\":\"x3\",\"y\":[0.0007603999692946672,0.002472100022714585,0.008006299962289631,0.011011599970515817,0.012526000034995377,0.017975099966861308,0.02469079999718815,0.03263249999145046,0.04134860000340268,0.05128910002531484,0.062211900018155575,0.07558940001763403,0.0889772999798879,0.10291429999051616,0.11906440003076568,0.13519790000282228,0.15379190002568066,0.17213489999994636,0.19338090001838282,0.21403319999808446,0.2362662999657914,0.25938480003969744,0.2889849999919534,0.3103020000271499,0.33937760000117123,0.3654075000085868,0.3863194999867119,0.41610520001268014,0.4556122999638319,0.5021321999956854,0.5392477999557741,0.5526884000282735,0.5910983999492601,0.6303119999938644,0.697569600015413,0.741077899991069,0.7802160000428557,0.8125132999848574,0.8608671000110917,0.8875297000049613,0.953194200003054,0.9983552000485361,1.0422556000412442,1.0423119000042789,1.0954286000342108,1.200365900003817,1.256871699995827,1.2649075000081211,1.3445615000091493,1.399133200000506,1.458466700045392,1.535551100037992,1.5984580000513233,1.6507481999578886,1.7038850000244565,1.7889655000180937,1.7756682999897748,1.8525363000226207,1.9788174999994226,1.9873343000072055,2.0720298000378534,2.1000715999980457,2.185598400013987,2.228144599997904,2.2875015000463463,2.390780799963977,2.4360891000251286,2.595344999979716,2.620581499999389,2.6228654999868013,2.827888800005894,2.831647199986037,2.8858199000242166,2.9491840000264347,3.00486029998865,3.151897599978838,3.347159999946598,3.3497457999619655,3.4040607000351883,3.6577597999712452,3.7068680999800563,3.8146444000303745,3.8847954000229947,3.963496100041084,3.9932926999754272,4.043931899999734,4.102003600040916,4.062002599996049,4.311225899960846,4.354008299997076,4.532653000031132,4.550089700031094,4.551031300041359,4.82951819995651,4.945488800003659,4.865052600041963,4.9702990999794565,5.24926690000575,5.332972800009884],\"yaxis\":\"y3\",\"type\":\"scatter\"},{\"hovertemplate\":\"Algoritmo di ordinamento=counting_sort<br>Tipo di input=random<br>Dimensione array=%{x}<br>Time (s)=%{y}<extra></extra>\",\"legendgroup\":\"counting_sort\",\"line\":{\"color\":\"#EF553B\",\"dash\":\"solid\"},\"marker\":{\"symbol\":\"circle\"},\"mode\":\"lines\",\"name\":\"counting_sort\",\"orientation\":\"v\",\"showlegend\":true,\"x\":[100,200,300,400,500,600,700,800,900,1000,1100,1200,1300,1400,1500,1600,1700,1800,1900,2000,2100,2200,2300,2400,2500,2600,2700,2800,2900,3000,3100,3200,3300,3400,3500,3600,3700,3800,3900,4000,4100,4200,4300,4400,4500,4600,4700,4800,4900,5000,5100,5200,5300,5400,5500,5600,5700,5800,5900,6000,6100,6200,6300,6400,6500,6600,6700,6800,6900,7000,7100,7200,7300,7400,7500,7600,7700,7800,7900,8000,8100,8200,8300,8400,8500,8600,8700,8800,8900,9000,9100,9200,9300,9400,9500,9600,9700,9800,9900],\"xaxis\":\"x\",\"y\":[0.08671780000440776,0.08392359997378662,0.08584929996868595,0.08854639995843172,0.09288690000539646,0.09454900003038347,0.0931284999824129,0.0958540000137873,0.0969403000199236,0.0961644999915734,0.09776330000022426,0.09831929998472333,0.09857009997358546,0.0969578999793157,0.10885499999858439,0.09914899995783344,0.0989304999820888,0.09700329997576773,0.10020279994932935,0.09638380003161728,0.09990760002983734,0.10015310003655031,0.09789279999677092,0.10000039997976273,0.10082589997909963,0.10030269995331764,0.10012850002385676,0.10006610001437366,0.10051690001273528,0.10150310001336038,0.10097139998106286,0.09936310001648962,0.1004273000289686,0.1000112000037916,0.10072379995835945,0.10056769999209791,0.10185470001306385,0.09914370003389195,0.10010280000278726,0.10021070000948384,0.10171889996854588,0.10177080001449212,0.10209739999845624,0.10242000001017004,0.10064859996782616,0.10045770002761856,0.10083249997114763,0.10111920000053942,0.10117779998108745,0.1013567999470979,0.1004642000189051,0.10211769997840747,0.10258529998827726,0.10186330002034083,0.09938099997816607,0.10146209999220446,0.10228719998849556,0.10279350000200793,0.10228810005355626,0.10159179999027401,0.1022077000234276,0.10183729999698699,0.10229379998054355,0.10179340001195669,0.09973720001289621,0.1020587999955751,0.10319549997802824,0.1021718000411056,0.10070440004346892,0.10335730004590005,0.10358680004719645,0.10336700000334531,0.10302310000406578,0.10317010001745075,0.10371209995355457,0.1037398999906145,0.10313719999976456,0.10360869998112321,0.10448390000965446,0.10297379997791722,0.10332980001112446,0.10331989999394864,0.1036906000226736,0.10406480001984164,0.1034992000204511,0.10147390002384782,0.10255310003412887,0.10335639998083934,0.10348659998271614,0.10383739997632802,0.10470289998920634,0.10486789996502921,0.10524040000746027,0.10466030001407489,0.1001216999720782,0.10194780002348125,0.10336579999420792,0.10116759996162727,0.10597899998538196],\"yaxis\":\"y\",\"type\":\"scatter\"},{\"hovertemplate\":\"Algoritmo di ordinamento=counting_sort<br>Tipo di input=sorted<br>Dimensione array=%{x}<br>Time (s)=%{y}<extra></extra>\",\"legendgroup\":\"counting_sort\",\"line\":{\"color\":\"#EF553B\",\"dash\":\"solid\"},\"marker\":{\"symbol\":\"circle\"},\"mode\":\"lines\",\"name\":\"counting_sort\",\"orientation\":\"v\",\"showlegend\":false,\"x\":[100,200,300,400,500,600,700,800,900,1000,1100,1200,1300,1400,1500,1600,1700,1800,1900,2000,2100,2200,2300,2400,2500,2600,2700,2800,2900,3000,3100,3200,3300,3400,3500,3600,3700,3800,3900,4000,4100,4200,4300,4400,4500,4600,4700,4800,4900,5000,5100,5200,5300,5400,5500,5600,5700,5800,5900,6000,6100,6200,6300,6400,6500,6600,6700,6800,6900,7000,7100,7200,7300,7400,7500,7600,7700,7800,7900,8000,8100,8200,8300,8400,8500,8600,8700,8800,8900,9000,9100,9200,9300,9400,9500,9600,9700,9800,9900],\"xaxis\":\"x2\",\"y\":[0.08921649999683723,0.0881603000452742,0.08919750002678484,0.09435979998670518,0.0936074000201188,0.09536730003310367,0.09698089997982606,0.09576039999956265,0.0984836999559775,0.09866600000532344,0.09731059998739511,0.09789789997739717,0.09762690000934526,0.0981504000374116,0.09847529995022342,0.09897170000476763,0.09668750001583248,0.09537229995476082,0.09540849999757484,0.09872210002504289,0.0992722999653779,0.09977179998531938,0.10001350002130494,0.099534000037238,0.09930040000472218,0.09907990001374856,0.09956280002370477,0.09951119998004287,0.09996959997806698,0.10027990001253784,0.10071639996021986,0.10033430001931265,0.10031340003479272,0.1002470999956131,0.10037379997083917,0.09862750000320375,0.09939180000219494,0.09933260001707822,0.09664559998782352,0.10057810001308098,0.09928929997840896,0.09500399994431064,0.0994048000429757,0.1026492000091821,0.09838340000715107,0.10177810001187027,0.1013645000057295,0.10061480000149459,0.09906879998743534,0.09788820001995191,0.10005720000481233,0.09872250002808869,0.10020169999916106,0.10149570001522079,0.10190639999927953,0.10176430002320558,0.10132070002146065,0.10105549998115748,0.10127280000597239,0.1011714999913238,0.0992433000355959,0.10186250001424924,0.10253940004622564,0.10249919997295365,0.10384260001592338,0.10120540001662448,0.10043540003243834,0.1027052000281401,0.10075729998061433,0.10307989997090772,0.0982788999681361,0.10237229999620467,0.10261479998007417,0.10233660001540557,0.09793029999127612,0.1024489999981597,0.10384200001135468,0.10307919996557757,0.10146410000743344,0.10344049998093396,0.10368200001539662,0.1036533999722451,0.10344400000758469,0.10363550001056865,0.10402739996789023,0.10345240001333877,0.10214350000023842,0.10203030001139268,0.10187610000139102,0.1023814000072889,0.10288379999110475,0.10191139997914433,0.09916710003744811,0.10117199999513105,0.10139969998272136,0.10123229998862371,0.10261960001662374,0.10173150000628084,0.10181289998581633],\"yaxis\":\"y2\",\"type\":\"scatter\"},{\"hovertemplate\":\"Algoritmo di ordinamento=counting_sort<br>Tipo di input=reversed<br>Dimensione array=%{x}<br>Time (s)=%{y}<extra></extra>\",\"legendgroup\":\"counting_sort\",\"line\":{\"color\":\"#EF553B\",\"dash\":\"solid\"},\"marker\":{\"symbol\":\"circle\"},\"mode\":\"lines\",\"name\":\"counting_sort\",\"orientation\":\"v\",\"showlegend\":false,\"x\":[100,200,300,400,500,600,700,800,900,1000,1100,1200,1300,1400,1500,1600,1700,1800,1900,2000,2100,2200,2300,2400,2500,2600,2700,2800,2900,3000,3100,3200,3300,3400,3500,3600,3700,3800,3900,4000,4100,4200,4300,4400,4500,4600,4700,4800,4900,5000,5100,5200,5300,5400,5500,5600,5700,5800,5900,6000,6100,6200,6300,6400,6500,6600,6700,6800,6900,7000,7100,7200,7300,7400,7500,7600,7700,7800,7900,8000,8100,8200,8300,8400,8500,8600,8700,8800,8900,9000,9100,9200,9300,9400,9500,9600,9700,9800,9900],\"xaxis\":\"x3\",\"y\":[0.08779969997704029,0.08654109999770299,0.09040340001229197,0.0930301999906078,0.09416450001299381,0.0963050999562256,0.09652060002554208,0.09815039997920394,0.0981514000450261,0.09816310001770034,0.09815259999595582,0.09486850001849234,0.10014279995812103,0.09984849998727441,0.09990780003136024,0.09983960003592074,0.09993430000031367,0.10080949997063726,0.10128509998321533,0.10062869999092072,0.10079609998501837,0.10102820000611246,0.10082739999052137,0.1011716999928467,0.09759240003768355,0.10085889999754727,0.10086020000744611,0.1008785999729298,0.1027598999789916,0.10207480000099167,0.10049859998980537,0.10094480001134798,0.10129839996807277,0.10075470001902431,0.1029335000202991,0.10141780000412837,0.10111190000316128,0.09964160004165024,0.10231480002403259,0.10161339998012409,0.1019910000031814,0.10252770001534373,0.10268160002306104,0.1016358999768272,0.1024879000033252,0.10322550003184006,0.10192959994310513,0.10257260000798851,0.10225999995600432,0.10250819998327643,0.10304049996193498,0.10333640000317246,0.10254859999986365,0.10035740002058446,0.1029211999848485,0.09925750002730638,0.10388509999029338,0.10379909997573122,0.10306500003207475,0.10318730003200471,0.10270509996917099,0.09927140001673251,0.10378499998478219,0.10000969999236986,0.10318919998826459,0.10360540001420304,0.10339720000047237,0.10339530004421249,0.10345039999810979,0.1037219999707304,0.10527089994866401,0.10454949998529628,0.10180720000062138,0.10396899998886511,0.10434840002562851,0.10490560001926497,0.10392409999622032,0.10459790000459179,0.10509900003671646,0.10541469999589026,0.10526670003309846,0.10387910000281408,0.10537629999453202,0.10507170000346377,0.1010179000440985,0.10499050002545118,0.10273560002679005,0.10589449998224154,0.10298540000803769,0.10579300002427772,0.10619690001476556,0.12225389998639002,0.10473479999927804,0.10416660003829747,0.10523919999832287,0.10496530000818893,0.10484240000369027,0.1047643999918364,0.1066323000122793],\"yaxis\":\"y3\",\"type\":\"scatter\"}],                        {\"template\":{\"data\":{\"histogram2dcontour\":[{\"type\":\"histogram2dcontour\",\"colorbar\":{\"outlinewidth\":0,\"ticks\":\"\"},\"colorscale\":[[0.0,\"#0d0887\"],[0.1111111111111111,\"#46039f\"],[0.2222222222222222,\"#7201a8\"],[0.3333333333333333,\"#9c179e\"],[0.4444444444444444,\"#bd3786\"],[0.5555555555555556,\"#d8576b\"],[0.6666666666666666,\"#ed7953\"],[0.7777777777777778,\"#fb9f3a\"],[0.8888888888888888,\"#fdca26\"],[1.0,\"#f0f921\"]]}],\"choropleth\":[{\"type\":\"choropleth\",\"colorbar\":{\"outlinewidth\":0,\"ticks\":\"\"}}],\"histogram2d\":[{\"type\":\"histogram2d\",\"colorbar\":{\"outlinewidth\":0,\"ticks\":\"\"},\"colorscale\":[[0.0,\"#0d0887\"],[0.1111111111111111,\"#46039f\"],[0.2222222222222222,\"#7201a8\"],[0.3333333333333333,\"#9c179e\"],[0.4444444444444444,\"#bd3786\"],[0.5555555555555556,\"#d8576b\"],[0.6666666666666666,\"#ed7953\"],[0.7777777777777778,\"#fb9f3a\"],[0.8888888888888888,\"#fdca26\"],[1.0,\"#f0f921\"]]}],\"heatmap\":[{\"type\":\"heatmap\",\"colorbar\":{\"outlinewidth\":0,\"ticks\":\"\"},\"colorscale\":[[0.0,\"#0d0887\"],[0.1111111111111111,\"#46039f\"],[0.2222222222222222,\"#7201a8\"],[0.3333333333333333,\"#9c179e\"],[0.4444444444444444,\"#bd3786\"],[0.5555555555555556,\"#d8576b\"],[0.6666666666666666,\"#ed7953\"],[0.7777777777777778,\"#fb9f3a\"],[0.8888888888888888,\"#fdca26\"],[1.0,\"#f0f921\"]]}],\"heatmapgl\":[{\"type\":\"heatmapgl\",\"colorbar\":{\"outlinewidth\":0,\"ticks\":\"\"},\"colorscale\":[[0.0,\"#0d0887\"],[0.1111111111111111,\"#46039f\"],[0.2222222222222222,\"#7201a8\"],[0.3333333333333333,\"#9c179e\"],[0.4444444444444444,\"#bd3786\"],[0.5555555555555556,\"#d8576b\"],[0.6666666666666666,\"#ed7953\"],[0.7777777777777778,\"#fb9f3a\"],[0.8888888888888888,\"#fdca26\"],[1.0,\"#f0f921\"]]}],\"contourcarpet\":[{\"type\":\"contourcarpet\",\"colorbar\":{\"outlinewidth\":0,\"ticks\":\"\"}}],\"contour\":[{\"type\":\"contour\",\"colorbar\":{\"outlinewidth\":0,\"ticks\":\"\"},\"colorscale\":[[0.0,\"#0d0887\"],[0.1111111111111111,\"#46039f\"],[0.2222222222222222,\"#7201a8\"],[0.3333333333333333,\"#9c179e\"],[0.4444444444444444,\"#bd3786\"],[0.5555555555555556,\"#d8576b\"],[0.6666666666666666,\"#ed7953\"],[0.7777777777777778,\"#fb9f3a\"],[0.8888888888888888,\"#fdca26\"],[1.0,\"#f0f921\"]]}],\"surface\":[{\"type\":\"surface\",\"colorbar\":{\"outlinewidth\":0,\"ticks\":\"\"},\"colorscale\":[[0.0,\"#0d0887\"],[0.1111111111111111,\"#46039f\"],[0.2222222222222222,\"#7201a8\"],[0.3333333333333333,\"#9c179e\"],[0.4444444444444444,\"#bd3786\"],[0.5555555555555556,\"#d8576b\"],[0.6666666666666666,\"#ed7953\"],[0.7777777777777778,\"#fb9f3a\"],[0.8888888888888888,\"#fdca26\"],[1.0,\"#f0f921\"]]}],\"mesh3d\":[{\"type\":\"mesh3d\",\"colorbar\":{\"outlinewidth\":0,\"ticks\":\"\"}}],\"scatter\":[{\"marker\":{\"line\":{\"color\":\"#283442\"}},\"type\":\"scatter\"}],\"parcoords\":[{\"type\":\"parcoords\",\"line\":{\"colorbar\":{\"outlinewidth\":0,\"ticks\":\"\"}}}],\"scatterpolargl\":[{\"type\":\"scatterpolargl\",\"marker\":{\"colorbar\":{\"outlinewidth\":0,\"ticks\":\"\"}}}],\"bar\":[{\"error_x\":{\"color\":\"#f2f5fa\"},\"error_y\":{\"color\":\"#f2f5fa\"},\"marker\":{\"line\":{\"color\":\"rgb(17,17,17)\",\"width\":0.5},\"pattern\":{\"fillmode\":\"overlay\",\"size\":10,\"solidity\":0.2}},\"type\":\"bar\"}],\"scattergeo\":[{\"type\":\"scattergeo\",\"marker\":{\"colorbar\":{\"outlinewidth\":0,\"ticks\":\"\"}}}],\"scatterpolar\":[{\"type\":\"scatterpolar\",\"marker\":{\"colorbar\":{\"outlinewidth\":0,\"ticks\":\"\"}}}],\"histogram\":[{\"marker\":{\"pattern\":{\"fillmode\":\"overlay\",\"size\":10,\"solidity\":0.2}},\"type\":\"histogram\"}],\"scattergl\":[{\"marker\":{\"line\":{\"color\":\"#283442\"}},\"type\":\"scattergl\"}],\"scatter3d\":[{\"type\":\"scatter3d\",\"line\":{\"colorbar\":{\"outlinewidth\":0,\"ticks\":\"\"}},\"marker\":{\"colorbar\":{\"outlinewidth\":0,\"ticks\":\"\"}}}],\"scattermapbox\":[{\"type\":\"scattermapbox\",\"marker\":{\"colorbar\":{\"outlinewidth\":0,\"ticks\":\"\"}}}],\"scatterternary\":[{\"type\":\"scatterternary\",\"marker\":{\"colorbar\":{\"outlinewidth\":0,\"ticks\":\"\"}}}],\"scattercarpet\":[{\"type\":\"scattercarpet\",\"marker\":{\"colorbar\":{\"outlinewidth\":0,\"ticks\":\"\"}}}],\"carpet\":[{\"aaxis\":{\"endlinecolor\":\"#A2B1C6\",\"gridcolor\":\"#506784\",\"linecolor\":\"#506784\",\"minorgridcolor\":\"#506784\",\"startlinecolor\":\"#A2B1C6\"},\"baxis\":{\"endlinecolor\":\"#A2B1C6\",\"gridcolor\":\"#506784\",\"linecolor\":\"#506784\",\"minorgridcolor\":\"#506784\",\"startlinecolor\":\"#A2B1C6\"},\"type\":\"carpet\"}],\"table\":[{\"cells\":{\"fill\":{\"color\":\"#506784\"},\"line\":{\"color\":\"rgb(17,17,17)\"}},\"header\":{\"fill\":{\"color\":\"#2a3f5f\"},\"line\":{\"color\":\"rgb(17,17,17)\"}},\"type\":\"table\"}],\"barpolar\":[{\"marker\":{\"line\":{\"color\":\"rgb(17,17,17)\",\"width\":0.5},\"pattern\":{\"fillmode\":\"overlay\",\"size\":10,\"solidity\":0.2}},\"type\":\"barpolar\"}],\"pie\":[{\"automargin\":true,\"type\":\"pie\"}]},\"layout\":{\"autotypenumbers\":\"strict\",\"colorway\":[\"#636efa\",\"#EF553B\",\"#00cc96\",\"#ab63fa\",\"#FFA15A\",\"#19d3f3\",\"#FF6692\",\"#B6E880\",\"#FF97FF\",\"#FECB52\"],\"font\":{\"color\":\"#f2f5fa\"},\"hovermode\":\"closest\",\"hoverlabel\":{\"align\":\"left\"},\"paper_bgcolor\":\"rgb(17,17,17)\",\"plot_bgcolor\":\"rgb(17,17,17)\",\"polar\":{\"bgcolor\":\"rgb(17,17,17)\",\"angularaxis\":{\"gridcolor\":\"#506784\",\"linecolor\":\"#506784\",\"ticks\":\"\"},\"radialaxis\":{\"gridcolor\":\"#506784\",\"linecolor\":\"#506784\",\"ticks\":\"\"}},\"ternary\":{\"bgcolor\":\"rgb(17,17,17)\",\"aaxis\":{\"gridcolor\":\"#506784\",\"linecolor\":\"#506784\",\"ticks\":\"\"},\"baxis\":{\"gridcolor\":\"#506784\",\"linecolor\":\"#506784\",\"ticks\":\"\"},\"caxis\":{\"gridcolor\":\"#506784\",\"linecolor\":\"#506784\",\"ticks\":\"\"}},\"coloraxis\":{\"colorbar\":{\"outlinewidth\":0,\"ticks\":\"\"}},\"colorscale\":{\"sequential\":[[0.0,\"#0d0887\"],[0.1111111111111111,\"#46039f\"],[0.2222222222222222,\"#7201a8\"],[0.3333333333333333,\"#9c179e\"],[0.4444444444444444,\"#bd3786\"],[0.5555555555555556,\"#d8576b\"],[0.6666666666666666,\"#ed7953\"],[0.7777777777777778,\"#fb9f3a\"],[0.8888888888888888,\"#fdca26\"],[1.0,\"#f0f921\"]],\"sequentialminus\":[[0.0,\"#0d0887\"],[0.1111111111111111,\"#46039f\"],[0.2222222222222222,\"#7201a8\"],[0.3333333333333333,\"#9c179e\"],[0.4444444444444444,\"#bd3786\"],[0.5555555555555556,\"#d8576b\"],[0.6666666666666666,\"#ed7953\"],[0.7777777777777778,\"#fb9f3a\"],[0.8888888888888888,\"#fdca26\"],[1.0,\"#f0f921\"]],\"diverging\":[[0,\"#8e0152\"],[0.1,\"#c51b7d\"],[0.2,\"#de77ae\"],[0.3,\"#f1b6da\"],[0.4,\"#fde0ef\"],[0.5,\"#f7f7f7\"],[0.6,\"#e6f5d0\"],[0.7,\"#b8e186\"],[0.8,\"#7fbc41\"],[0.9,\"#4d9221\"],[1,\"#276419\"]]},\"xaxis\":{\"gridcolor\":\"#283442\",\"linecolor\":\"#506784\",\"ticks\":\"\",\"title\":{\"standoff\":15},\"zerolinecolor\":\"#283442\",\"automargin\":true,\"zerolinewidth\":2},\"yaxis\":{\"gridcolor\":\"#283442\",\"linecolor\":\"#506784\",\"ticks\":\"\",\"title\":{\"standoff\":15},\"zerolinecolor\":\"#283442\",\"automargin\":true,\"zerolinewidth\":2},\"scene\":{\"xaxis\":{\"backgroundcolor\":\"rgb(17,17,17)\",\"gridcolor\":\"#506784\",\"linecolor\":\"#506784\",\"showbackground\":true,\"ticks\":\"\",\"zerolinecolor\":\"#C8D4E3\",\"gridwidth\":2},\"yaxis\":{\"backgroundcolor\":\"rgb(17,17,17)\",\"gridcolor\":\"#506784\",\"linecolor\":\"#506784\",\"showbackground\":true,\"ticks\":\"\",\"zerolinecolor\":\"#C8D4E3\",\"gridwidth\":2},\"zaxis\":{\"backgroundcolor\":\"rgb(17,17,17)\",\"gridcolor\":\"#506784\",\"linecolor\":\"#506784\",\"showbackground\":true,\"ticks\":\"\",\"zerolinecolor\":\"#C8D4E3\",\"gridwidth\":2}},\"shapedefaults\":{\"line\":{\"color\":\"#f2f5fa\"}},\"annotationdefaults\":{\"arrowcolor\":\"#f2f5fa\",\"arrowhead\":0,\"arrowwidth\":1},\"geo\":{\"bgcolor\":\"rgb(17,17,17)\",\"landcolor\":\"rgb(17,17,17)\",\"subunitcolor\":\"#506784\",\"showland\":true,\"showlakes\":true,\"lakecolor\":\"rgb(17,17,17)\"},\"title\":{\"x\":0.05},\"updatemenudefaults\":{\"bgcolor\":\"#506784\",\"borderwidth\":0},\"sliderdefaults\":{\"bgcolor\":\"#C8D4E3\",\"borderwidth\":1,\"bordercolor\":\"rgb(17,17,17)\",\"tickwidth\":0},\"mapbox\":{\"style\":\"dark\"}}},\"xaxis\":{\"anchor\":\"y\",\"domain\":[0.0,0.31999999999999995],\"title\":{\"text\":\"Dimensione array\"}},\"yaxis\":{\"anchor\":\"x\",\"domain\":[0.0,1.0],\"title\":{\"text\":\"Time (s)\"}},\"xaxis2\":{\"anchor\":\"y2\",\"domain\":[0.33999999999999997,0.6599999999999999],\"matches\":\"x\",\"title\":{\"text\":\"Dimensione array\"}},\"yaxis2\":{\"anchor\":\"x2\",\"domain\":[0.0,1.0],\"matches\":\"y\",\"showticklabels\":false},\"xaxis3\":{\"anchor\":\"y3\",\"domain\":[0.6799999999999999,0.9999999999999999],\"matches\":\"x\",\"title\":{\"text\":\"Dimensione array\"}},\"yaxis3\":{\"anchor\":\"x3\",\"domain\":[0.0,1.0],\"matches\":\"y\",\"showticklabels\":false},\"annotations\":[{\"font\":{},\"showarrow\":false,\"text\":\"Tipo di input=random\",\"x\":0.15999999999999998,\"xanchor\":\"center\",\"xref\":\"paper\",\"y\":1.0,\"yanchor\":\"bottom\",\"yref\":\"paper\"},{\"font\":{},\"showarrow\":false,\"text\":\"Tipo di input=sorted\",\"x\":0.49999999999999994,\"xanchor\":\"center\",\"xref\":\"paper\",\"y\":1.0,\"yanchor\":\"bottom\",\"yref\":\"paper\"},{\"font\":{},\"showarrow\":false,\"text\":\"Tipo di input=reversed\",\"x\":0.8399999999999999,\"xanchor\":\"center\",\"xref\":\"paper\",\"y\":1.0,\"yanchor\":\"bottom\",\"yref\":\"paper\"}],\"legend\":{\"title\":{\"text\":\"Algoritmo di ordinamento\"},\"tracegroupgap\":0},\"title\":{\"text\":\"Sorting algorithms\"}},                        {\"responsive\": true}                    ).then(function(){\n                            \nvar gd = document.getElementById('371de353-7400-4114-88df-fc5eaa17d253');\nvar x = new MutationObserver(function (mutations, observer) {{\n        var display = window.getComputedStyle(gd).display;\n        if (!display || display === 'none') {{\n            console.log([gd, 'removed!']);\n            Plotly.purge(gd);\n            observer.disconnect();\n        }}\n}});\n\n// Listen for the removal of the full notebook cells\nvar notebookContainer = gd.closest('#notebook-container');\nif (notebookContainer) {{\n    x.observe(notebookContainer, {childList: true});\n}}\n\n// Listen for the clearing of the current output cell\nvar outputEl = gd.closest('.output');\nif (outputEl) {{\n    x.observe(outputEl, {childList: true});\n}}\n\n                        })                };                });            </script>        </div>"
     },
     "metadata": {},
     "output_type": "display_data"
    }
   ],
   "source": [
    "figure = px.line(df.query(\"num_samples > 0\"),\n",
    "                 x=\"num_samples\",\n",
    "                 y=\"time\",\n",
    "                 color=\"test_type\",\n",
    "                 facet_col=\"input_type\",\n",
    "                 title=\"Sorting algorithms\",\n",
    "                 labels={\"num_samples\": \"Dimensione array\", \"time\": \"Time (s)\", \"test_type\": \"Algoritmo di ordinamento\", \"input_type\": \"Tipo di input\"})\n",
    "figure.show()"
   ],
   "metadata": {
    "collapsed": false
   }
  },
  {
   "cell_type": "markdown",
   "source": [
    "Notiamo che anche decuplicando il range di generazione dei numeri, il costo computazionale del _counting sort_ aumenta, ma in modo molto meno evidente rispetto al caso precedente, soprattutto in relazione al costo di _insertion sort_, che per un tale numero di elementi cresce con molta più velocità.\n",
    "Di conseguenza per array di grandi dimensioni, dovremmo aumentare il range di generazione dei numeri in modo considerevole per ottenere un costo computazionale del _counting sort_ simile o superiore a quello di _insertion sort_. Notiamo inoltre che il grafico precedente in cui avevamo dimensione pari a 1000 e range da 0 a 1000000 non è altro che una selezione dei dati di questo grafico, prendendo solo la sezione con dimensione dell'array da 0 a 1000; infatti intaragendo con questo grafico e zoomando sulla prima sezione (nei casi di input random e reversed), notiamo che il costo computazionale del _counting sort_ è molto simile a quello del grafico precedente, cioè superiore a quello di _insertion sort_. L'andamento di quest'ultimo poi, intorno a 1800 elementi, supera il costo computazionale del _counting sort_, per poi crescere in modo molto più rapido. Come anticipato quindi nella sezione precedente, all'aumentare della dimensione dell'array il costo computazionale del _counting sort_ rimane pressoché lineare, mentre il costo computazionale dell' _insertion sort_ cresce vertiginosamente."
   ],
   "metadata": {
    "collapsed": false
   }
  },
  {
   "cell_type": "markdown",
   "source": [
    "## Analisi dei risultati dei test e conclusioni"
   ],
   "metadata": {
    "collapsed": false
   }
  },
  {
   "cell_type": "markdown",
   "source": [
    "I nostri test hanno dimostrato che il costo computazionale del _counting sort_ ha andamento tendenzialmente lineare (in particolare _O(n+k)_) in quanto il tempo impiegato per ordinare l'array è sempre proporzionale alla somma tra la dimensione dell'array e il range di generazione dei numeri. Inoltre, il costo computazionale del _counting sort_ è generalmente molto inferiore rispetto al costo computazionale dell' _insertion sort_, che è sempre _O(n^2)_. Ovviamente le uniche \"anomalie\" sono:\n",
    "   * caso di input ordinato, che è il caso migliore per l'esecuzione dell'algortimo di _insertion sort_, in cui il costo computazionale è lineare e quindi molto inferiore rispetto al caso di input random o inversamente ordinato.\n",
    "   * caso di input con range di generazione dei numeri molto maggiore della dimensione dell'array, in cui il costo computazionale del _counting sort_ è molto elevato, potenzialmente anche di più dell'algoritmo di _insertion sort_.\n",
    "\n",
    "In conclusione, possiamo dire che il _counting sort_ è un algoritmo efficiente, se sfruttato nelle corrette situazioni. Ricordiamo infatti che l'utilizzo del _counting sort_ è limitato al fatto che l'array di input deve contenere solo numeri interi positivi, in quanto il suo funzionamento è basato sul conteggio degli elementi presenti nell'array e che, ovviamente, l'algoritmo _counting sort_ è da evitare nei due casi citati precedentemente, ma sicuramente può risultare molto utile per ordinare array di numeri interi, in particolare per array di grandi dimensioni in cui le occorrenze non assumono valori incredibilmente elevati."
   ],
   "metadata": {
    "collapsed": false
   }
  },
  {
   "cell_type": "code",
   "execution_count": null,
   "outputs": [],
   "source": [],
   "metadata": {
    "collapsed": false
   }
  }
 ],
 "metadata": {
  "kernelspec": {
   "display_name": "Python 3 (ipykernel)",
   "language": "python",
   "name": "python3"
  },
  "language_info": {
   "codemirror_mode": {
    "name": "ipython",
    "version": 3
   },
   "file_extension": ".py",
   "mimetype": "text/x-python",
   "name": "python",
   "nbconvert_exporter": "python",
   "pygments_lexer": "ipython3",
   "version": "3.9.16"
  }
 },
 "nbformat": 4,
 "nbformat_minor": 5
}

{
 "cells": [
  {
   "cell_type": "markdown",
   "id": "6fce8b6c",
   "metadata": {},
   "source": [
    "# Confronto tra Insertion Sort e Counting Sort\n",
    "## Matteo Lotti\n",
    "### Marzo-Aprile 2023"
   ]
  },
  {
   "cell_type": "markdown",
   "id": "78c55621",
   "metadata": {},
   "source": [
    "In questo notebook ci poniamo l'obiettivo di impostare e effettuare un confronto tra due algoritmi di ordinamento. In particolare, i due algoritmi in questione saranno:\n",
    "\n",
    "- __Insertion Sort__\n",
    "\n",
    "- __Counting Sort__\n",
    "\n",
    "Il notebook sarà sviluppato in questo modo:\n",
    "\n",
    "1. Nelle celle successive saranno presenti le implementazioni dei due algoritmi seguiti rispettivamente da una breve spiegazione messa in relazione con le evidenze teoriche conosciute.\n",
    "\n",
    "2. Successivamente sarà presente una cella nella quale sarà implementata la funzione di test, seguita da un'opportuna spiegazione del codice e dei test che saranno eseguiti\n",
    "\n",
    "3. Saranno effettuati e descritti i dovuti test e i rispettivi risultati\n",
    "\n",
    "4. Nella chiusura tireremo le somme dei risultati ottenuti dagli esperimenti svolti"
   ]
  },
  {
   "cell_type": "markdown",
   "id": "594e3065",
   "metadata": {},
   "source": [
    "## Implementazioni degli algoritmi\n",
    "### Insertion Sort"
   ]
  },
  {
   "cell_type": "code",
   "execution_count": 274,
   "id": "0b68115e",
   "metadata": {},
   "outputs": [],
   "source": [
    "def insertion_sort(arr):\n",
    "    \"\"\"Insertion sort algorithm.\n",
    "\n",
    "    Args:\n",
    "        arr (list): Array to be sorted.\n",
    "\n",
    "    Returns:\n",
    "        list: Sorted array.\n",
    "\n",
    "    Time complexity: O(n^2)\n",
    "    \"\"\"\n",
    "    for i in range(1, len(arr)):\n",
    "        key = arr[i]\n",
    "        j = i - 1\n",
    "        while j >= 0 and key < arr[j]:\n",
    "            arr[j + 1] = arr[j]\n",
    "            j -= 1\n",
    "        arr[j + 1] = key\n",
    "    return arr"
   ]
  },
  {
   "cell_type": "markdown",
   "id": "cd3db634",
   "metadata": {},
   "source": [
    "Nella cella sovrastante possiamo vedere l'implementazione dell'algoritmo di ordinamento __Insertion Sort__. L'algoritmo si basa su un ciclo _for_ iniziale nel quale si inizializza la variabile _key_ con il valore all'indice _i_ dell'array da ordinare. All'interno del _for_ un ciclo _while_ ci permette di iterare sugli elementi precedenti a _key_ in modo tale da posizionare il valore di _key_ nella posizione corretta. Al termine di ogni esecuzione del ciclo _for_, i primi _i_ elementi saranno ordinati e quando termina l'algoritmo tutto l'array sarà ordinato correttamente."
   ]
  },
  {
   "cell_type": "markdown",
   "id": "7af2bd67",
   "metadata": {},
   "source": [
    "### Counting Sort"
   ]
  },
  {
   "cell_type": "code",
   "execution_count": 275,
   "id": "d1e62f77",
   "metadata": {},
   "outputs": [],
   "source": [
    "def counting_sort(arr):\n",
    "    \"\"\"Counting sort algorithm.\n",
    "\n",
    "    Args:\n",
    "        arr (list): Array to be sorted.\n",
    "\n",
    "    Returns:\n",
    "        list: Sorted array.\n",
    "\n",
    "    Time complexity: O(n+k)\n",
    "\n",
    "    k is the value of the maximum element in the array.\n",
    "    \"\"\"\n",
    "    max_element = max(arr) #k\n",
    "    count_array = [0] * (max_element + 1) #primo for\n",
    "\n",
    "    for element in arr:\n",
    "        count_array[element] += 1\n",
    "\n",
    "    for i in range(1, len(count_array)):\n",
    "        count_array[i] += count_array[i-1]\n",
    "\n",
    "    sorted_array = [0] * len(arr)\n",
    "    for element in reversed(arr):\n",
    "        sorted_array[count_array[element]-1] = element #-1 perché indicizzazione parte da 0\n",
    "        count_array[element] -= 1\n",
    "\n",
    "    return sorted_array\n"
   ]
  },
  {
   "cell_type": "markdown",
   "id": "23fb1f6b",
   "metadata": {},
   "source": [
    "Nella cella sovrastante troviamo l'algoritmo di ordinamento __Counting Sort__. Sottlineamo il fatto che questo algoritmi è utilizzabile solo per liste di numeri interi. Non è un algoritmo che opera per confronti, ma si basa sul determinare la posizione di ogni elemento nell'array ordinato in base a quanti sono gli elementi minori o uguali ad esso. In particolare, è necessario un array di appoggio di dimensione _max_element_, dove _max_element_ non è altro che il valore massimo presente nell'array di partenza. Successivamente, dopo aver inzializzato quest'array con tutti 0, incrementiamo di 1 l'elemento di indice _i_ per ogni elemento uguale a _i_ nell'array iniziale; poi scorriamo l'array di appoggio sommando ad ogni elemento tutti gli elementi ad esso precedenti. Quello che otteniamo dopo queste due operazioni non è altro che un array di appoggio in cui l'elemento di indice _x_ ha come valore il numero di elementi minori o uguali a _x_ nell'array iniziale. L'ultimo passaggio è quello di copiare su un nuovo array gli elementi ordinati, considerando che nell'array di appoggio l'elemento con indice _x_ risulta essere la posizione di _x_ nell'array ordinato. Decrementando poi progressivamente i valori dell'array di appoggio si riescono a gestire anche ventuali copie multiple di uno stesso valore."
   ]
  },
  {
   "cell_type": "markdown",
   "id": "71f0e1a4",
   "metadata": {},
   "source": [
    "## Implementazione e spiegazione dei test"
   ]
  },
  {
   "cell_type": "code",
   "execution_count": 276,
   "id": "d05763a2",
   "metadata": {},
   "outputs": [],
   "source": [
    "import pandas as pd\n",
    "import plotly.express as px\n",
    "from enum import Enum\n",
    "from dataclasses import dataclass, field\n",
    "from timeit import default_timer as timer\n",
    "import numpy as np\n",
    "\n",
    "\n",
    "class InputType(Enum):\n",
    "    \"\"\"Select the type of input.\"\"\"\n",
    "\n",
    "    random = 1\n",
    "    \"\"\"Random input.\"\"\"\n",
    "    sorted = 2\n",
    "    \"\"\"Sorted input.\"\"\"\n",
    "    reversed = 3\n",
    "    \"\"\"Reversed input.\"\"\"\n",
    "\n",
    "class SelectTestType(Enum):\n",
    "    \"\"\"Select the type of sorting test.\"\"\"\n",
    "\n",
    "    insertion_sort = 1\n",
    "    \"\"\"Insertion sort.\"\"\"\n",
    "    counting_sort = 2\n",
    "    \"\"\"Counting sort.\"\"\"\n",
    "\n",
    "@dataclass\n",
    "class InputConfig:\n",
    "    \"\"\"Input configuration.\"\"\"\n",
    "\n",
    "    num_samples: int = 1000\n",
    "    \"\"\"Number of samples.\"\"\"\n",
    "    sample_range: tuple[int, int] = (0, 5000)\n",
    "    \"\"\"Range of the samples.\"\"\"\n",
    "    input_type: InputType = InputType.random\n",
    "    \"\"\"Type of input.\"\"\"\n",
    "\n",
    "\n",
    "@dataclass\n",
    "class InputGenerator:\n",
    "    \"\"\"Input generator.\"\"\"\n",
    "\n",
    "    input_config: InputConfig = InputConfig()\n",
    "    \"\"\"Input configuration.\"\"\"\n",
    "\n",
    "    data: list[int] = field(init=False, default_factory=list)\n",
    "    \"\"\"Data to be used for the tests.\"\"\"\n",
    "\n",
    "    def __post_init__(self):\n",
    "        \"\"\"Initialize the data.\"\"\"\n",
    "        self.data = self._generate()\n",
    "\n",
    "    def _generate(self) -> list[int]:\n",
    "        \"\"\"Generate the data.\"\"\"\n",
    "        match self.input_config.input_type:\n",
    "            case InputType.random:\n",
    "                data = np.random.randint(\n",
    "                    self.input_config.sample_range[0],\n",
    "                    self.input_config.sample_range[1],\n",
    "                    self.input_config.num_samples,\n",
    "                )\n",
    "            case InputType.sorted:\n",
    "                data = np.arange(self.input_config.num_samples)\n",
    "            case InputType.reversed:\n",
    "                data = np.arange(self.input_config.num_samples)[::-1]\n",
    "            case _:\n",
    "                raise ValueError(\"Invalid input type.\")\n",
    "        return data.tolist()\n",
    "\n",
    "def insertion_test(input_data: list[int]) -> float:\n",
    "    \"\"\"Test the insertion sort algorithm.\"\"\"\n",
    "    start = timer()\n",
    "    insertion_sort(input_data)\n",
    "    end = timer()\n",
    "    return end - start\n",
    "\n",
    "def counting_test(input_data: list[int]) -> float:\n",
    "    \"\"\"Test the counting sort algorithm.\"\"\"\n",
    "    start = timer()\n",
    "    counting_sort(input_data)\n",
    "    end = timer()\n",
    "    return end - start\n",
    "\n",
    "def test(test_type: SelectTestType, input_type: InputType, num_samples: int, sample_range: tuple[int, int], step: int) -> pd.DataFrame:\n",
    "    \"\"\"Test the sorting algorithms.\n",
    "\n",
    "    Args:\n",
    "        test_type (SelectTestType): Type of sorting algorithm to test.\n",
    "        input_type (InputType): Type of input.\n",
    "        num_samples (int): Number of elements to sort.\n",
    "        sample_range (tuple[int, int]): Range of the elements.\n",
    "        step (int): Step to increase the number of elements.\n",
    "\n",
    "        Returns:\n",
    "            pd.DataFrame: Dataframe containing the results.\"\"\"\n",
    "\n",
    "    match test_type:\n",
    "        case SelectTestType.insertion_sort:\n",
    "            test_func = insertion_test\n",
    "        case SelectTestType.counting_sort:\n",
    "            test_func = counting_test\n",
    "        case _:\n",
    "            raise ValueError(\"Invalid queue type.\")\n",
    "    match input_type:\n",
    "        case InputType.random:\n",
    "            input_config = InputConfig(num_samples=num_samples, sample_range=sample_range, input_type=InputType.random)\n",
    "        case InputType.sorted:\n",
    "            input_config = InputConfig(num_samples=num_samples, sample_range=sample_range, input_type=InputType.sorted)\n",
    "        case InputType.reversed:\n",
    "            input_config = InputConfig(num_samples=num_samples, sample_range=sample_range, input_type=InputType.reversed)\n",
    "        case _:\n",
    "            raise ValueError(\"Invalid input type.\")\n",
    "\n",
    "    it = []\n",
    "    for i in np.arange(0, num_samples, step):\n",
    "        input_config.num_samples = i\n",
    "        input_gen = InputGenerator(input_config=input_config)\n",
    "        it.append(test_func(input_gen.data))\n",
    "\n",
    "    times_df = pd.DataFrame(data={\n",
    "        \"num_samples\": np.arange(0, num_samples, step),\n",
    "        \"time\": it,\n",
    "    })\n",
    "    times_df[\"test_type\"] = test_type.name\n",
    "    times_df[\"input_type\"] = input_type.name\n",
    "    return times_df\n",
    "\n",
    "\n"
   ]
  },
  {
   "cell_type": "markdown",
   "id": "6f25c88d",
   "metadata": {},
   "source": []
  },
  {
   "cell_type": "code",
   "execution_count": 277,
   "id": "5038b541",
   "metadata": {},
   "outputs": [],
   "source": [
    "def plot_results():\n",
    "    \"\"\"Plot the results.\"\"\"\n",
    "    num_samples = 1000\n",
    "    step = 100\n",
    "    sample_range = (0, 5000)\n",
    "\n",
    "    \"\"\"Insertion sort tests\"\"\"\n",
    "\n",
    "    df_ins_1 = test(SelectTestType.insertion_sort, InputType.random, num_samples, sample_range, step)\n",
    "    df_ins_2 = test(SelectTestType.insertion_sort, InputType.sorted, num_samples, sample_range, step)\n",
    "    df_ins_3 = test(SelectTestType.insertion_sort, InputType.reversed, num_samples, sample_range, step)\n",
    "\n",
    "    \"\"\"Counting sort tests\"\"\"\n",
    "\n",
    "    df_cnt_1 = test(SelectTestType.counting_sort, InputType.random, num_samples, sample_range, step)\n",
    "    df_cnt_2 = test(SelectTestType.counting_sort, InputType.sorted, num_samples, sample_range, step)\n",
    "    df_cnt_3 = test(SelectTestType.counting_sort, InputType.reversed, num_samples, sample_range, step)\n",
    "\n",
    "    df = pd.concat([df_ins_1, df_ins_2, df_ins_3, df_cnt_1, df_cnt_2, df_cnt_3], ignore_index=True)\n",
    "\n",
    "    figure = px.line(df, x=\"num_samples\", y=\"time\", color=\"test_type\", facet_col=\"input_type\", title=\"Sorting algorithms\", labels={\"num_samples\": \"Dimensione array\", \"time\": \"Time (s)\"})\n",
    "\n",
    "    figure.show()"
   ]
  },
  {
   "cell_type": "code",
   "execution_count": 278,
   "id": "2afd6a0b",
   "metadata": {},
   "outputs": [
    {
     "data": {
      "application/vnd.plotly.v1+json": {
       "data": [
        {
         "hovertemplate": "test_type=insertion_sort<br>Tipo di input=random<br>Dimensione array=%{x}<br>Time (s)=%{y}<extra></extra>",
         "legendgroup": "insertion_sort",
         "line": {
          "color": "#636efa",
          "dash": "solid"
         },
         "marker": {
          "symbol": "circle"
         },
         "mode": "lines",
         "name": "insertion_sort",
         "orientation": "v",
         "showlegend": true,
         "x": [
          0,
          10,
          20,
          30,
          40,
          50,
          60,
          70,
          80,
          90,
          100,
          110,
          120,
          130,
          140,
          150,
          160,
          170,
          180,
          190,
          200,
          210,
          220,
          230,
          240,
          250,
          260,
          270,
          280,
          290,
          300,
          310,
          320,
          330,
          340,
          350,
          360,
          370,
          380,
          390,
          400,
          410,
          420,
          430,
          440,
          450,
          460,
          470,
          480,
          490,
          500,
          510,
          520,
          530,
          540,
          550,
          560,
          570,
          580,
          590,
          600,
          610,
          620,
          630,
          640,
          650,
          660,
          670,
          680,
          690,
          700,
          710,
          720,
          730,
          740,
          750,
          760,
          770,
          780,
          790,
          800,
          810,
          820,
          830,
          840,
          850,
          860,
          870,
          880,
          890,
          900,
          910,
          920,
          930,
          940,
          950,
          960,
          970,
          980,
          990
         ],
         "xaxis": "x",
         "y": [
          2.6999914553016424E-6,
          5.2000104915350676E-6,
          1.279998105019331E-5,
          3.029999788850546E-5,
          4.509999416768551E-5,
          6.330001633614302E-5,
          9.110002429224551E-5,
          1.3340002624318004E-4,
          1.5600002370774746E-4,
          2.3350000265054405E-4,
          2.8369997744448483E-4,
          2.922999847214669E-4,
          3.600000054575503E-4,
          4.192999913357198E-4,
          4.933000018354505E-4,
          5.040999967604876E-4,
          6.670999864581972E-4,
          6.931000098120421E-4,
          7.956000044941902E-4,
          9.181000059470534E-4,
          0.0010954999888781458,
          0.0010588000004645437,
          0.001247700012754649,
          0.0013860999897588044,
          0.0014442999963648617,
          0.001603799988515675,
          0.0018219999910797924,
          0.0017659000004641712,
          0.002033500000834465,
          0.0020218999998178333,
          0.002284299989696592,
          0.002486699988367036,
          0.002396800002316013,
          0.003100700007053092,
          0.0036760999937541783,
          0.002914899989264086,
          0.003215700009604916,
          0.0036090000066906214,
          0.004165200021816418,
          0.004603100009262562,
          0.003952999977627769,
          0.004726599989226088,
          0.005889699998078868,
          0.005049900006270036,
          0.005294999980833381,
          0.005763799999840558,
          0.005659199989167973,
          0.006188500003190711,
          0.006249900005059317,
          0.00661090001813136,
          0.0072026999841909856,
          0.007321700017200783,
          0.007916800008388236,
          0.007684199983486906,
          0.009245599998394027,
          0.009311500005424023,
          0.009059000003617257,
          0.0100527000031434,
          0.009116800007177517,
          0.01274640002520755,
          0.011220400017919019,
          0.010786599974380806,
          0.013220599998021498,
          0.012682900007348508,
          0.014918500004569069,
          0.013157900015357882,
          0.014091699995333329,
          0.014717700018081814,
          0.06027439999161288,
          0.015651099995011464,
          0.014979400002630427,
          0.014403600012883544,
          0.01429299998562783,
          0.013766200019745156,
          0.014474299998255447,
          0.015308799978811294,
          0.016241100005572662,
          0.015769299992825836,
          0.01779690000694245,
          0.017664699989836663,
          0.017501800000900403,
          0.01810390001628548,
          0.019460399984382093,
          0.01962519998778589,
          0.020418300002347678,
          0.020224199979566038,
          0.020530000008875504,
          0.0230151999858208,
          0.021827499993378296,
          0.022700200002873316,
          0.02325080000446178,
          0.023207200021715835,
          0.023814899992430583,
          0.02394419998745434,
          0.02604240001528524,
          0.025453400012338534,
          0.027396000019507483,
          0.02668060001451522,
          0.027130500006023794,
          0.027291200007312
         ],
         "yaxis": "y",
         "type": "scatter"
        },
        {
         "hovertemplate": "test_type=insertion_sort<br>Tipo di input=sorted<br>Dimensione array=%{x}<br>Time (s)=%{y}<extra></extra>",
         "legendgroup": "insertion_sort",
         "line": {
          "color": "#636efa",
          "dash": "solid"
         },
         "marker": {
          "symbol": "circle"
         },
         "mode": "lines",
         "name": "insertion_sort",
         "orientation": "v",
         "showlegend": false,
         "x": [
          0,
          10,
          20,
          30,
          40,
          50,
          60,
          70,
          80,
          90,
          100,
          110,
          120,
          130,
          140,
          150,
          160,
          170,
          180,
          190,
          200,
          210,
          220,
          230,
          240,
          250,
          260,
          270,
          280,
          290,
          300,
          310,
          320,
          330,
          340,
          350,
          360,
          370,
          380,
          390,
          400,
          410,
          420,
          430,
          440,
          450,
          460,
          470,
          480,
          490,
          500,
          510,
          520,
          530,
          540,
          550,
          560,
          570,
          580,
          590,
          600,
          610,
          620,
          630,
          640,
          650,
          660,
          670,
          680,
          690,
          700,
          710,
          720,
          730,
          740,
          750,
          760,
          770,
          780,
          790,
          800,
          810,
          820,
          830,
          840,
          850,
          860,
          870,
          880,
          890,
          900,
          910,
          920,
          930,
          940,
          950,
          960,
          970,
          980,
          990
         ],
         "xaxis": "x2",
         "y": [
          1.7999846022576094E-6,
          2.400018274784088E-6,
          3.1999952625483274E-6,
          4.2000028770416975E-6,
          5.3000112529844046E-6,
          6.299989763647318E-6,
          7.399998139590025E-6,
          8.500006515532732E-6,
          9.600014891475439E-6,
          1.0800024028867483E-5,
          1.1900003300979733E-5,
          1.309998333454132E-5,
          1.4199991710484028E-5,
          1.5300000086426735E-5,
          1.6399979358538985E-5,
          1.750001683831215E-5,
          1.8499995348975062E-5,
          1.9800005247816443E-5,
          2.090001362375915E-5,
          2.19999928958714E-5,
          2.3100001271814108E-5,
          2.4200009647756815E-5,
          2.5299988919869065E-5,
          2.649999805726111E-5,
          2.7499976567924023E-5,
          2.8700014809146523E-5,
          3.0399998649954796E-5,
          3.170000854879618E-5,
          3.290001768618822E-5,
          3.4500000765547156E-5,
          3.549997927621007E-5,
          3.679998917505145E-5,
          3.819999983534217E-5,
          3.959998139180243E-5,
          4.0799990529194474E-5,
          4.230000195093453E-5,
          4.349998198449612E-5,
          4.47999918833375E-5,
          4.619997343979776E-5,
          4.749998333863914E-5,
          4.879999323748052E-5,
          5.020000389777124E-5,
          5.150001379661262E-5,
          5.289999535307288E-5,
          5.440000677481294E-5,
          5.57999883312732E-5,
          5.709999823011458E-5,
          5.849997978657484E-5,
          5.980001878924668E-5,
          6.10999995842576E-5,
          6.240000948309898E-5,
          6.409999332390726E-5,
          6.53000024612993E-5,
          6.669998401775956E-5,
          6.779999239370227E-5,
          6.940000457689166E-5,
          7.069998537190259E-5,
          7.190002361312509E-5,
          7.330000516958535E-5,
          7.460001506842673E-5,
          7.579999510198832E-5,
          7.720000576227903E-5,
          7.860001642256975E-5,
          7.989999721758068E-5,
          8.139997953549027E-5,
          8.280001929961145E-5,
          8.38999985717237E-5,
          8.540000999346375E-5,
          8.670001989230514E-5,
          8.81000014487654E-5,
          8.950001210905612E-5,
          9.06999921426177E-5,
          9.240000508725643E-5,
          9.350001346319914E-5,
          9.48999950196594E-5,
          9.610000415705144E-5,
          9.759998647496104E-5,
          9.889999637380242E-5,
          1.0029997793026268E-4,
          1.0159998782910407E-4,
          1.1409999569877982E-4,
          1.0449998080730438E-4,
          1.0579999070614576E-4,
          1.0699999984353781E-4,
          1.0829998063854873E-4,
          1.0989999282173812E-4,
          1.1110000195913017E-4,
          1.1250001261942089E-4,
          1.1369999265298247E-4,
          1.1500000255182385E-4,
          1.1639998410828412E-4,
          1.1870000162161887E-4,
          1.1930000619031489E-4,
          1.2059998698532581E-4,
          1.2209999840706587E-4,
          1.2320000678300858E-4,
          1.2469998910091817E-4,
          1.2599999899975955E-4,
          1.272000081371516E-4,
          1.2870001955889165E-4
         ],
         "yaxis": "y2",
         "type": "scatter"
        },
        {
         "hovertemplate": "test_type=insertion_sort<br>Tipo di input=reversed<br>Dimensione array=%{x}<br>Time (s)=%{y}<extra></extra>",
         "legendgroup": "insertion_sort",
         "line": {
          "color": "#636efa",
          "dash": "solid"
         },
         "marker": {
          "symbol": "circle"
         },
         "mode": "lines",
         "name": "insertion_sort",
         "orientation": "v",
         "showlegend": false,
         "x": [
          0,
          10,
          20,
          30,
          40,
          50,
          60,
          70,
          80,
          90,
          100,
          110,
          120,
          130,
          140,
          150,
          160,
          170,
          180,
          190,
          200,
          210,
          220,
          230,
          240,
          250,
          260,
          270,
          280,
          290,
          300,
          310,
          320,
          330,
          340,
          350,
          360,
          370,
          380,
          390,
          400,
          410,
          420,
          430,
          440,
          450,
          460,
          470,
          480,
          490,
          500,
          510,
          520,
          530,
          540,
          550,
          560,
          570,
          580,
          590,
          600,
          610,
          620,
          630,
          640,
          650,
          660,
          670,
          680,
          690,
          700,
          710,
          720,
          730,
          740,
          750,
          760,
          770,
          780,
          790,
          800,
          810,
          820,
          830,
          840,
          850,
          860,
          870,
          880,
          890,
          900,
          910,
          920,
          930,
          940,
          950,
          960,
          970,
          980,
          990
         ],
         "xaxis": "x3",
         "y": [
          1.100008375942707E-6,
          7.199996616691351E-6,
          2.19999928958714E-5,
          1.0239999392069876E-4,
          8.359999628737569E-5,
          1.2889999197795987E-4,
          1.8420000560581684E-4,
          2.4989998200908303E-4,
          3.2449999707750976E-4,
          4.098000063095242E-4,
          5.049000028520823E-4,
          6.084000051487237E-4,
          7.276000105775893E-4,
          8.506999874953181E-4,
          9.849999914877117E-4,
          0.0011314000003039837,
          0.0012838999973610044,
          0.0014480000245384872,
          0.001624900003662333,
          0.0018205999804195017,
          0.0020105000003241003,
          0.0022621999960392714,
          0.0024318999785464257,
          0.00264759999117814,
          0.002888199989683926,
          0.0031343000009655952,
          0.0033752000017557293,
          0.003749100025743246,
          0.003933200001483783,
          0.004208999976981431,
          0.0045473999925889075,
          0.004830599995329976,
          0.005138800013810396,
          0.005498099984833971,
          0.005839899997226894,
          0.006175999995321035,
          0.006586100003914908,
          0.006936499994480982,
          0.007411800004774705,
          0.007709099998464808,
          0.008167300024069846,
          0.008578300010412931,
          0.009110499988310039,
          0.009531499992590398,
          0.009980400005588308,
          0.010527299979003146,
          0.010976699995808303,
          0.011491000012028962,
          0.011958799994317815,
          0.012435599986929446,
          0.012952899996889755,
          0.013520600012270734,
          0.014111999975284562,
          0.014727900008438155,
          0.015203200018731877,
          0.015802399982931092,
          0.016392999998060986,
          0.01701449998654425,
          0.017598799982806668,
          0.017984800011618063,
          0.018906199984485283,
          0.019616000005044043,
          0.020276900002500042,
          0.020956699998350814,
          0.021621799998683855,
          0.02231589998700656,
          0.023027500021271408,
          0.023518200003309175,
          0.024513699987437576,
          0.02495620000991039,
          0.026093300024513155,
          0.026767500006826594,
          0.02756660000886768,
          0.027829700004076585,
          0.02960400001029484,
          0.029954300000099465,
          0.03083089998108335,
          0.03199049999238923,
          0.03254170002765022,
          0.033820000011473894,
          0.034845100017264485,
          0.03592779999598861,
          0.03644860000349581,
          0.03759299998637289,
          0.03843699998105876,
          0.03931609998107888,
          0.04008939999039285,
          0.04130900002201088,
          0.04112040001200512,
          0.04315919999498874,
          0.04410339999594726,
          0.04489379998994991,
          0.04621540001244284,
          0.04683090001344681,
          0.04804429999785498,
          0.048418199992738664,
          0.04840120000881143,
          0.051182799972593784,
          0.05292099999496713,
          0.052095599996391684
         ],
         "yaxis": "y3",
         "type": "scatter"
        },
        {
         "hovertemplate": "test_type=counting_sort<br>Tipo di input=random<br>Dimensione array=%{x}<br>Time (s)=%{y}<extra></extra>",
         "legendgroup": "counting_sort",
         "line": {
          "color": "#EF553B",
          "dash": "solid"
         },
         "marker": {
          "symbol": "circle"
         },
         "mode": "lines",
         "name": "counting_sort",
         "orientation": "v",
         "showlegend": true,
         "x": [
          0,
          10,
          20,
          30,
          40,
          50,
          60,
          70,
          80,
          90,
          100,
          110,
          120,
          130,
          140,
          150,
          160,
          170,
          180,
          190,
          200,
          210,
          220,
          230,
          240,
          250,
          260,
          270,
          280,
          290,
          300,
          310,
          320,
          330,
          340,
          350,
          360,
          370,
          380,
          390,
          400,
          410,
          420,
          430,
          440,
          450,
          460,
          470,
          480,
          490,
          500,
          510,
          520,
          530,
          540,
          550,
          560,
          570,
          580,
          590,
          600,
          610,
          620,
          630,
          640,
          650,
          660,
          670,
          680,
          690,
          700,
          710,
          720,
          730,
          740,
          750,
          760,
          770,
          780,
          790,
          800,
          810,
          820,
          830,
          840,
          850,
          860,
          870,
          880,
          890,
          900,
          910,
          920,
          930,
          940,
          950,
          960,
          970,
          980,
          990
         ],
         "xaxis": "x",
         "y": [
          1.500011421740055E-6,
          7.158000080380589E-4,
          8.241000177804381E-4,
          8.536000095773488E-4,
          9.387000172864646E-4,
          8.788999984972179E-4,
          9.086000209208578E-4,
          9.131999977398664E-4,
          8.632999961264431E-4,
          8.934999932534993E-4,
          8.978999976534396E-4,
          8.660000166855752E-4,
          9.012999944388866E-4,
          9.033000096678734E-4,
          8.98600002983585E-4,
          9.291000023949891E-4,
          9.05399996554479E-4,
          9.101000032387674E-4,
          9.052999957930297E-4,
          8.876000065356493E-4,
          9.248999995179474E-4,
          9.258000063709915E-4,
          9.186000097543001E-4,
          9.18699981411919E-4,
          9.216000034939498E-4,
          9.640999778639525E-4,
          9.214000019710511E-4,
          9.519000013824552E-4,
          9.404000011272728E-4,
          9.469999931752682E-4,
          9.669999999459833E-4,
          9.514999983366579E-4,
          9.722999820951372E-4,
          9.62200021604076E-4,
          9.63500002399087E-4,
          9.736000210978091E-4,
          9.87500010523945E-4,
          9.57000011112541E-4,
          9.794000070542097E-4,
          9.738000226207078E-4,
          0.0010165999992750585,
          0.0010683999862521887,
          0.0010272999934386462,
          0.0010197999945376068,
          0.0010136000055354089,
          0.0010517000046093017,
          0.0010043999936897308,
          0.0010142999817617238,
          0.0010169000015594065,
          0.0010246000019833446,
          0.0010254000080749393,
          0.0010218000097665936,
          0.0010393999982625246,
          0.001031499996315688,
          0.0010470999986864626,
          0.0010949000134132802,
          0.0010871000122278929,
          0.0010784999758470803,
          0.001050299993949011,
          0.0010572999890428036,
          0.0010596999782137573,
          0.0010611999896354973,
          0.0010640999826136976,
          0.0010745000035967678,
          0.0011049000022467226,
          0.0010695999953895807,
          0.0010766999912448227,
          0.0010781000019051135,
          0.0010765000188257545,
          0.001078999979654327,
          0.001133600017055869,
          0.001123199996072799,
          0.0010924999951384962,
          0.0011344999948050827,
          0.0010888000251725316,
          0.0010794000118039548,
          0.0010876000160351396,
          0.0010964000248350203,
          0.0010984999826177955,
          0.0010983999818563461,
          0.0011137000110466033,
          0.001117999985581264,
          0.0011192000238224864,
          0.001107700023567304,
          0.0013087000115774572,
          0.0012153999996371567,
          0.0011294000141788274,
          0.0011276000004727393,
          0.0011227999930270016,
          0.001125600014347583,
          0.0011379000206943601,
          0.00113339998642914,
          0.0011297999881207943,
          0.0011403000098653138,
          0.001135200000135228,
          0.0011501999979373068,
          0.0011427999997977167,
          0.0012499000004027039,
          0.0012402000138536096,
          0.0011678000155370682
         ],
         "yaxis": "y",
         "type": "scatter"
        },
        {
         "hovertemplate": "test_type=counting_sort<br>Tipo di input=sorted<br>Dimensione array=%{x}<br>Time (s)=%{y}<extra></extra>",
         "legendgroup": "counting_sort",
         "line": {
          "color": "#EF553B",
          "dash": "solid"
         },
         "marker": {
          "symbol": "circle"
         },
         "mode": "lines",
         "name": "counting_sort",
         "orientation": "v",
         "showlegend": false,
         "x": [
          0,
          10,
          20,
          30,
          40,
          50,
          60,
          70,
          80,
          90,
          100,
          110,
          120,
          130,
          140,
          150,
          160,
          170,
          180,
          190,
          200,
          210,
          220,
          230,
          240,
          250,
          260,
          270,
          280,
          290,
          300,
          310,
          320,
          330,
          340,
          350,
          360,
          370,
          380,
          390,
          400,
          410,
          420,
          430,
          440,
          450,
          460,
          470,
          480,
          490,
          500,
          510,
          520,
          530,
          540,
          550,
          560,
          570,
          580,
          590,
          600,
          610,
          620,
          630,
          640,
          650,
          660,
          670,
          680,
          690,
          700,
          710,
          720,
          730,
          740,
          750,
          760,
          770,
          780,
          790,
          800,
          810,
          820,
          830,
          840,
          850,
          860,
          870,
          880,
          890,
          900,
          910,
          920,
          930,
          940,
          950,
          960,
          970,
          980,
          990
         ],
         "xaxis": "x2",
         "y": [
          7.00005330145359E-7,
          9.045000188052654E-4,
          7.857999880798161E-4,
          8.730999834369868E-4,
          8.702000195626169E-4,
          8.453000045847148E-4,
          8.683000050950795E-4,
          9.012999944388866E-4,
          8.954000077210367E-4,
          8.851999882608652E-4,
          8.390000148210675E-4,
          9.288000001106411E-4,
          8.765999809838831E-4,
          9.160999907180667E-4,
          9.207999974023551E-4,
          9.381999843753874E-4,
          9.157999884337187E-4,
          9.064000041689724E-4,
          9.121000184677541E-4,
          9.078000148292631E-4,
          9.412000072188675E-4,
          9.237999911420047E-4,
          9.423000155948102E-4,
          9.323999984189868E-4,
          9.353000205010176E-4,
          9.342999837826937E-4,
          9.568000095896423E-4,
          9.713000035844743E-4,
          9.584999934304506E-4,
          9.851999930106103E-4,
          9.824000007938594E-4,
          0.0010741000005509704,
          0.0010096000041812658,
          9.78900003246963E-4,
          9.969999955501407E-4,
          0.0010037999891210347,
          9.917999850586057E-4,
          9.93099994957447E-4,
          0.0010047999967355281,
          0.0010026000090874732,
          0.001018200011458248,
          0.0010217000090051442,
          0.001031799998600036,
          0.001033900014590472,
          0.0010368000075686723,
          0.0010289000056218356,
          0.0010812999971676618,
          0.0010474000009708107,
          0.0010457000171300024,
          0.0010520999785512686,
          0.0010365000052843243,
          0.0010586999997030944,
          0.0010483000078238547,
          0.0010593999759294093,
          0.0010455000156071037,
          0.001043800002662465,
          0.0010577999928500503,
          0.0010606999858282506,
          0.0011021999816875905,
          0.001065699994796887,
          0.001056100009009242,
          0.0019292999932076782,
          0.0011833999888040125,
          0.0015891999937593937,
          0.0010560000082477927,
          0.0010630000033415854,
          0.0010904000082518905,
          0.0010747000051196665,
          0.001076799992006272,
          0.0011533000215422362,
          0.0010691999923437834,
          0.001065099990228191,
          0.0010753999813459814,
          0.001189300004625693,
          0.0011014000046998262,
          0.0017337999888695776,
          0.0010902000067289919,
          0.0010901999776251614,
          0.0010942000080831349,
          0.0011066000151913613,
          0.0010904000082518905,
          0.0010901000059675425,
          0.0011303999926894903,
          0.001109600008931011,
          0.0011118999973405153,
          0.0010997999925166368,
          0.0013157999783288687,
          0.0018448999908287078,
          0.0017253999831154943,
          0.0011073999921791255,
          0.0011301999911665916,
          0.0011187000200152397,
          0.0011189999931957573,
          0.0011316000018268824,
          0.001141999993706122,
          0.0011437999783083797,
          0.0011369999847374856,
          0.0011334000155329704,
          0.0017869999865069985,
          0.0018966000061482191
         ],
         "yaxis": "y2",
         "type": "scatter"
        },
        {
         "hovertemplate": "test_type=counting_sort<br>Tipo di input=reversed<br>Dimensione array=%{x}<br>Time (s)=%{y}<extra></extra>",
         "legendgroup": "counting_sort",
         "line": {
          "color": "#EF553B",
          "dash": "solid"
         },
         "marker": {
          "symbol": "circle"
         },
         "mode": "lines",
         "name": "counting_sort",
         "orientation": "v",
         "showlegend": false,
         "x": [
          0,
          10,
          20,
          30,
          40,
          50,
          60,
          70,
          80,
          90,
          100,
          110,
          120,
          130,
          140,
          150,
          160,
          170,
          180,
          190,
          200,
          210,
          220,
          230,
          240,
          250,
          260,
          270,
          280,
          290,
          300,
          310,
          320,
          330,
          340,
          350,
          360,
          370,
          380,
          390,
          400,
          410,
          420,
          430,
          440,
          450,
          460,
          470,
          480,
          490,
          500,
          510,
          520,
          530,
          540,
          550,
          560,
          570,
          580,
          590,
          600,
          610,
          620,
          630,
          640,
          650,
          660,
          670,
          680,
          690,
          700,
          710,
          720,
          730,
          740,
          750,
          760,
          770,
          780,
          790,
          800,
          810,
          820,
          830,
          840,
          850,
          860,
          870,
          880,
          890,
          900,
          910,
          920,
          930,
          940,
          950,
          960,
          970,
          980,
          990
         ],
         "xaxis": "x3",
         "y": [
          9.00006853044033E-7,
          6.480999873019755E-4,
          7.455000013578683E-4,
          8.431999885942787E-4,
          8.988999761641026E-4,
          9.038000134751201E-4,
          8.609000069554895E-4,
          9.310000168625265E-4,
          9.374999790452421E-4,
          9.257000056095421E-4,
          9.125999931711704E-4,
          9.039999858941883E-4,
          8.98600002983585E-4,
          8.925000147428364E-4,
          0.0012747000146191567,
          9.374000073876232E-4,
          0.0011647999926935881,
          0.0010118999925907701,
          0.0013326999905984849,
          0.0010988999856635928,
          9.256000048480928E-4,
          9.47100023040548E-4,
          9.248999995179474E-4,
          9.98699979390949E-4,
          9.765999857336283E-4,
          9.543999913148582E-4,
          9.781999979168177E-4,
          0.0010156999924220145,
          0.001128499978221953,
          0.0013018000172451138,
          0.0016460000188089907,
          0.0013040000048931688,
          0.0015856999962124974,
          0.0017088000022340566,
          0.00157049999688752,
          0.001645200012717396,
          0.0016777999990154058,
          0.001652600010856986,
          0.0016734999953769147,
          0.0016303999873343855,
          0.0015295999764930457,
          0.0016030000115279108,
          0.0016919999907258898,
          0.0016898000030778348,
          0.0016794000111985952,
          0.001731099997414276,
          0.0014156999823171645,
          0.0010978000063914806,
          0.0010569000151008368,
          0.0010447999811731279,
          0.0010363000037614256,
          0.0010377999860793352,
          0.0010380999883636832,
          0.001081200025510043,
          0.0010559000074863434,
          0.0010538999922573566,
          0.00106819998472929,
          0.001056199980666861,
          0.0010532000160310417,
          0.0010637000086717308,
          0.0010640999826136976,
          0.0010713000083342195,
          0.0012774000060744584,
          0.0010917999898083508,
          0.0010859000030905008,
          0.0010800000163726509,
          0.0010828999802470207,
          0.0010840000177267939,
          0.0010830000101123005,
          0.001088300021365285,
          0.0011054000060539693,
          0.0011430000013206154,
          0.0011067000159528106,
          0.0010938999766949564,
          0.001130599994212389,
          0.0011589000059757382,
          0.001184000022476539,
          0.0011360000062268227,
          0.0011335999879520386,
          0.0011477000080049038,
          0.0011224999907426536,
          0.0011295999865978956,
          0.0011224999907426536,
          0.001126899995142594,
          0.001130200020270422,
          0.001138299994636327,
          0.0011227999930270016,
          0.001153699995484203,
          0.001133699988713488,
          0.0011857000063173473,
          0.001159299979917705,
          0.0011464999988675117,
          0.0011548000038601458,
          0.0011473000049591064,
          0.0011629000073298812,
          0.0011477000080049038,
          0.0011587000044528395,
          0.001152799988631159,
          0.0011519000108819455,
          0.0011710000107996166
         ],
         "yaxis": "y3",
         "type": "scatter"
        }
       ],
       "layout": {
        "template": {
         "data": {
          "histogram2dcontour": [
           {
            "type": "histogram2dcontour",
            "colorbar": {
             "outlinewidth": 0,
             "ticks": ""
            },
            "colorscale": [
             [
              0.0,
              "#0d0887"
             ],
             [
              0.1111111111111111,
              "#46039f"
             ],
             [
              0.2222222222222222,
              "#7201a8"
             ],
             [
              0.3333333333333333,
              "#9c179e"
             ],
             [
              0.4444444444444444,
              "#bd3786"
             ],
             [
              0.5555555555555556,
              "#d8576b"
             ],
             [
              0.6666666666666666,
              "#ed7953"
             ],
             [
              0.7777777777777778,
              "#fb9f3a"
             ],
             [
              0.8888888888888888,
              "#fdca26"
             ],
             [
              1.0,
              "#f0f921"
             ]
            ]
           }
          ],
          "choropleth": [
           {
            "type": "choropleth",
            "colorbar": {
             "outlinewidth": 0,
             "ticks": ""
            }
           }
          ],
          "histogram2d": [
           {
            "type": "histogram2d",
            "colorbar": {
             "outlinewidth": 0,
             "ticks": ""
            },
            "colorscale": [
             [
              0.0,
              "#0d0887"
             ],
             [
              0.1111111111111111,
              "#46039f"
             ],
             [
              0.2222222222222222,
              "#7201a8"
             ],
             [
              0.3333333333333333,
              "#9c179e"
             ],
             [
              0.4444444444444444,
              "#bd3786"
             ],
             [
              0.5555555555555556,
              "#d8576b"
             ],
             [
              0.6666666666666666,
              "#ed7953"
             ],
             [
              0.7777777777777778,
              "#fb9f3a"
             ],
             [
              0.8888888888888888,
              "#fdca26"
             ],
             [
              1.0,
              "#f0f921"
             ]
            ]
           }
          ],
          "heatmap": [
           {
            "type": "heatmap",
            "colorbar": {
             "outlinewidth": 0,
             "ticks": ""
            },
            "colorscale": [
             [
              0.0,
              "#0d0887"
             ],
             [
              0.1111111111111111,
              "#46039f"
             ],
             [
              0.2222222222222222,
              "#7201a8"
             ],
             [
              0.3333333333333333,
              "#9c179e"
             ],
             [
              0.4444444444444444,
              "#bd3786"
             ],
             [
              0.5555555555555556,
              "#d8576b"
             ],
             [
              0.6666666666666666,
              "#ed7953"
             ],
             [
              0.7777777777777778,
              "#fb9f3a"
             ],
             [
              0.8888888888888888,
              "#fdca26"
             ],
             [
              1.0,
              "#f0f921"
             ]
            ]
           }
          ],
          "heatmapgl": [
           {
            "type": "heatmapgl",
            "colorbar": {
             "outlinewidth": 0,
             "ticks": ""
            },
            "colorscale": [
             [
              0.0,
              "#0d0887"
             ],
             [
              0.1111111111111111,
              "#46039f"
             ],
             [
              0.2222222222222222,
              "#7201a8"
             ],
             [
              0.3333333333333333,
              "#9c179e"
             ],
             [
              0.4444444444444444,
              "#bd3786"
             ],
             [
              0.5555555555555556,
              "#d8576b"
             ],
             [
              0.6666666666666666,
              "#ed7953"
             ],
             [
              0.7777777777777778,
              "#fb9f3a"
             ],
             [
              0.8888888888888888,
              "#fdca26"
             ],
             [
              1.0,
              "#f0f921"
             ]
            ]
           }
          ],
          "contourcarpet": [
           {
            "type": "contourcarpet",
            "colorbar": {
             "outlinewidth": 0,
             "ticks": ""
            }
           }
          ],
          "contour": [
           {
            "type": "contour",
            "colorbar": {
             "outlinewidth": 0,
             "ticks": ""
            },
            "colorscale": [
             [
              0.0,
              "#0d0887"
             ],
             [
              0.1111111111111111,
              "#46039f"
             ],
             [
              0.2222222222222222,
              "#7201a8"
             ],
             [
              0.3333333333333333,
              "#9c179e"
             ],
             [
              0.4444444444444444,
              "#bd3786"
             ],
             [
              0.5555555555555556,
              "#d8576b"
             ],
             [
              0.6666666666666666,
              "#ed7953"
             ],
             [
              0.7777777777777778,
              "#fb9f3a"
             ],
             [
              0.8888888888888888,
              "#fdca26"
             ],
             [
              1.0,
              "#f0f921"
             ]
            ]
           }
          ],
          "surface": [
           {
            "type": "surface",
            "colorbar": {
             "outlinewidth": 0,
             "ticks": ""
            },
            "colorscale": [
             [
              0.0,
              "#0d0887"
             ],
             [
              0.1111111111111111,
              "#46039f"
             ],
             [
              0.2222222222222222,
              "#7201a8"
             ],
             [
              0.3333333333333333,
              "#9c179e"
             ],
             [
              0.4444444444444444,
              "#bd3786"
             ],
             [
              0.5555555555555556,
              "#d8576b"
             ],
             [
              0.6666666666666666,
              "#ed7953"
             ],
             [
              0.7777777777777778,
              "#fb9f3a"
             ],
             [
              0.8888888888888888,
              "#fdca26"
             ],
             [
              1.0,
              "#f0f921"
             ]
            ]
           }
          ],
          "mesh3d": [
           {
            "type": "mesh3d",
            "colorbar": {
             "outlinewidth": 0,
             "ticks": ""
            }
           }
          ],
          "scatter": [
           {
            "marker": {
             "line": {
              "color": "#283442"
             }
            },
            "type": "scatter"
           }
          ],
          "parcoords": [
           {
            "type": "parcoords",
            "line": {
             "colorbar": {
              "outlinewidth": 0,
              "ticks": ""
             }
            }
           }
          ],
          "scatterpolargl": [
           {
            "type": "scatterpolargl",
            "marker": {
             "colorbar": {
              "outlinewidth": 0,
              "ticks": ""
             }
            }
           }
          ],
          "bar": [
           {
            "error_x": {
             "color": "#f2f5fa"
            },
            "error_y": {
             "color": "#f2f5fa"
            },
            "marker": {
             "line": {
              "color": "rgb(17,17,17)",
              "width": 0.5
             },
             "pattern": {
              "fillmode": "overlay",
              "size": 10,
              "solidity": 0.2
             }
            },
            "type": "bar"
           }
          ],
          "scattergeo": [
           {
            "type": "scattergeo",
            "marker": {
             "colorbar": {
              "outlinewidth": 0,
              "ticks": ""
             }
            }
           }
          ],
          "scatterpolar": [
           {
            "type": "scatterpolar",
            "marker": {
             "colorbar": {
              "outlinewidth": 0,
              "ticks": ""
             }
            }
           }
          ],
          "histogram": [
           {
            "marker": {
             "pattern": {
              "fillmode": "overlay",
              "size": 10,
              "solidity": 0.2
             }
            },
            "type": "histogram"
           }
          ],
          "scattergl": [
           {
            "marker": {
             "line": {
              "color": "#283442"
             }
            },
            "type": "scattergl"
           }
          ],
          "scatter3d": [
           {
            "type": "scatter3d",
            "line": {
             "colorbar": {
              "outlinewidth": 0,
              "ticks": ""
             }
            },
            "marker": {
             "colorbar": {
              "outlinewidth": 0,
              "ticks": ""
             }
            }
           }
          ],
          "scattermapbox": [
           {
            "type": "scattermapbox",
            "marker": {
             "colorbar": {
              "outlinewidth": 0,
              "ticks": ""
             }
            }
           }
          ],
          "scatterternary": [
           {
            "type": "scatterternary",
            "marker": {
             "colorbar": {
              "outlinewidth": 0,
              "ticks": ""
             }
            }
           }
          ],
          "scattercarpet": [
           {
            "type": "scattercarpet",
            "marker": {
             "colorbar": {
              "outlinewidth": 0,
              "ticks": ""
             }
            }
           }
          ],
          "carpet": [
           {
            "aaxis": {
             "endlinecolor": "#A2B1C6",
             "gridcolor": "#506784",
             "linecolor": "#506784",
             "minorgridcolor": "#506784",
             "startlinecolor": "#A2B1C6"
            },
            "baxis": {
             "endlinecolor": "#A2B1C6",
             "gridcolor": "#506784",
             "linecolor": "#506784",
             "minorgridcolor": "#506784",
             "startlinecolor": "#A2B1C6"
            },
            "type": "carpet"
           }
          ],
          "table": [
           {
            "cells": {
             "fill": {
              "color": "#506784"
             },
             "line": {
              "color": "rgb(17,17,17)"
             }
            },
            "header": {
             "fill": {
              "color": "#2a3f5f"
             },
             "line": {
              "color": "rgb(17,17,17)"
             }
            },
            "type": "table"
           }
          ],
          "barpolar": [
           {
            "marker": {
             "line": {
              "color": "rgb(17,17,17)",
              "width": 0.5
             },
             "pattern": {
              "fillmode": "overlay",
              "size": 10,
              "solidity": 0.2
             }
            },
            "type": "barpolar"
           }
          ],
          "pie": [
           {
            "automargin": true,
            "type": "pie"
           }
          ]
         },
         "layout": {
          "autotypenumbers": "strict",
          "colorway": [
           "#636efa",
           "#EF553B",
           "#00cc96",
           "#ab63fa",
           "#FFA15A",
           "#19d3f3",
           "#FF6692",
           "#B6E880",
           "#FF97FF",
           "#FECB52"
          ],
          "font": {
           "color": "#f2f5fa"
          },
          "hovermode": "closest",
          "hoverlabel": {
           "align": "left"
          },
          "paper_bgcolor": "rgb(17,17,17)",
          "plot_bgcolor": "rgb(17,17,17)",
          "polar": {
           "bgcolor": "rgb(17,17,17)",
           "angularaxis": {
            "gridcolor": "#506784",
            "linecolor": "#506784",
            "ticks": ""
           },
           "radialaxis": {
            "gridcolor": "#506784",
            "linecolor": "#506784",
            "ticks": ""
           }
          },
          "ternary": {
           "bgcolor": "rgb(17,17,17)",
           "aaxis": {
            "gridcolor": "#506784",
            "linecolor": "#506784",
            "ticks": ""
           },
           "baxis": {
            "gridcolor": "#506784",
            "linecolor": "#506784",
            "ticks": ""
           },
           "caxis": {
            "gridcolor": "#506784",
            "linecolor": "#506784",
            "ticks": ""
           }
          },
          "coloraxis": {
           "colorbar": {
            "outlinewidth": 0,
            "ticks": ""
           }
          },
          "colorscale": {
           "sequential": [
            [
             0.0,
             "#0d0887"
            ],
            [
             0.1111111111111111,
             "#46039f"
            ],
            [
             0.2222222222222222,
             "#7201a8"
            ],
            [
             0.3333333333333333,
             "#9c179e"
            ],
            [
             0.4444444444444444,
             "#bd3786"
            ],
            [
             0.5555555555555556,
             "#d8576b"
            ],
            [
             0.6666666666666666,
             "#ed7953"
            ],
            [
             0.7777777777777778,
             "#fb9f3a"
            ],
            [
             0.8888888888888888,
             "#fdca26"
            ],
            [
             1.0,
             "#f0f921"
            ]
           ],
           "sequentialminus": [
            [
             0.0,
             "#0d0887"
            ],
            [
             0.1111111111111111,
             "#46039f"
            ],
            [
             0.2222222222222222,
             "#7201a8"
            ],
            [
             0.3333333333333333,
             "#9c179e"
            ],
            [
             0.4444444444444444,
             "#bd3786"
            ],
            [
             0.5555555555555556,
             "#d8576b"
            ],
            [
             0.6666666666666666,
             "#ed7953"
            ],
            [
             0.7777777777777778,
             "#fb9f3a"
            ],
            [
             0.8888888888888888,
             "#fdca26"
            ],
            [
             1.0,
             "#f0f921"
            ]
           ],
           "diverging": [
            [
             0,
             "#8e0152"
            ],
            [
             0.1,
             "#c51b7d"
            ],
            [
             0.2,
             "#de77ae"
            ],
            [
             0.3,
             "#f1b6da"
            ],
            [
             0.4,
             "#fde0ef"
            ],
            [
             0.5,
             "#f7f7f7"
            ],
            [
             0.6,
             "#e6f5d0"
            ],
            [
             0.7,
             "#b8e186"
            ],
            [
             0.8,
             "#7fbc41"
            ],
            [
             0.9,
             "#4d9221"
            ],
            [
             1,
             "#276419"
            ]
           ]
          },
          "xaxis": {
           "gridcolor": "#283442",
           "linecolor": "#506784",
           "ticks": "",
           "title": {
            "standoff": 15
           },
           "zerolinecolor": "#283442",
           "automargin": true,
           "zerolinewidth": 2
          },
          "yaxis": {
           "gridcolor": "#283442",
           "linecolor": "#506784",
           "ticks": "",
           "title": {
            "standoff": 15
           },
           "zerolinecolor": "#283442",
           "automargin": true,
           "zerolinewidth": 2
          },
          "scene": {
           "xaxis": {
            "backgroundcolor": "rgb(17,17,17)",
            "gridcolor": "#506784",
            "linecolor": "#506784",
            "showbackground": true,
            "ticks": "",
            "zerolinecolor": "#C8D4E3",
            "gridwidth": 2
           },
           "yaxis": {
            "backgroundcolor": "rgb(17,17,17)",
            "gridcolor": "#506784",
            "linecolor": "#506784",
            "showbackground": true,
            "ticks": "",
            "zerolinecolor": "#C8D4E3",
            "gridwidth": 2
           },
           "zaxis": {
            "backgroundcolor": "rgb(17,17,17)",
            "gridcolor": "#506784",
            "linecolor": "#506784",
            "showbackground": true,
            "ticks": "",
            "zerolinecolor": "#C8D4E3",
            "gridwidth": 2
           }
          },
          "shapedefaults": {
           "line": {
            "color": "#f2f5fa"
           }
          },
          "annotationdefaults": {
           "arrowcolor": "#f2f5fa",
           "arrowhead": 0,
           "arrowwidth": 1
          },
          "geo": {
           "bgcolor": "rgb(17,17,17)",
           "landcolor": "rgb(17,17,17)",
           "subunitcolor": "#506784",
           "showland": true,
           "showlakes": true,
           "lakecolor": "rgb(17,17,17)"
          },
          "title": {
           "x": 0.05
          },
          "updatemenudefaults": {
           "bgcolor": "#506784",
           "borderwidth": 0
          },
          "sliderdefaults": {
           "bgcolor": "#C8D4E3",
           "borderwidth": 1,
           "bordercolor": "rgb(17,17,17)",
           "tickwidth": 0
          },
          "mapbox": {
           "style": "dark"
          }
         }
        },
        "xaxis": {
         "anchor": "y",
         "domain": [
          0.0,
          0.31999999999999995
         ],
         "title": {
          "text": "Dimensione array"
         }
        },
        "yaxis": {
         "anchor": "x",
         "domain": [
          0.0,
          1.0
         ],
         "title": {
          "text": "Time (s)"
         }
        },
        "xaxis2": {
         "anchor": "y2",
         "domain": [
          0.33999999999999997,
          0.6599999999999999
         ],
         "matches": "x",
         "title": {
          "text": "Dimensione array"
         }
        },
        "yaxis2": {
         "anchor": "x2",
         "domain": [
          0.0,
          1.0
         ],
         "matches": "y",
         "showticklabels": false
        },
        "xaxis3": {
         "anchor": "y3",
         "domain": [
          0.6799999999999999,
          0.9999999999999999
         ],
         "matches": "x",
         "title": {
          "text": "Dimensione array"
         }
        },
        "yaxis3": {
         "anchor": "x3",
         "domain": [
          0.0,
          1.0
         ],
         "matches": "y",
         "showticklabels": false
        },
        "annotations": [
         {
          "font": {},
          "showarrow": false,
          "text": "Tipo di input=random",
          "x": 0.15999999999999998,
          "xanchor": "center",
          "xref": "paper",
          "y": 1.0,
          "yanchor": "bottom",
          "yref": "paper"
         },
         {
          "font": {},
          "showarrow": false,
          "text": "Tipo di input=sorted",
          "x": 0.49999999999999994,
          "xanchor": "center",
          "xref": "paper",
          "y": 1.0,
          "yanchor": "bottom",
          "yref": "paper"
         },
         {
          "font": {},
          "showarrow": false,
          "text": "Tipo di input=reversed",
          "x": 0.8399999999999999,
          "xanchor": "center",
          "xref": "paper",
          "y": 1.0,
          "yanchor": "bottom",
          "yref": "paper"
         }
        ],
        "legend": {
         "title": {
          "text": "test_type"
         },
         "tracegroupgap": 0
        },
        "title": {
         "text": "Sorting algorithms"
        }
       },
       "config": {
        "plotlyServerURL": "https://plot.ly"
       }
      },
      "text/html": "<div>                            <div id=\"2b26f1fe-7c91-47ea-8c04-f28155c440cb\" class=\"plotly-graph-div\" style=\"height:525px; width:100%;\"></div>            <script type=\"text/javascript\">                require([\"plotly\"], function(Plotly) {                    window.PLOTLYENV=window.PLOTLYENV || {};                                    if (document.getElementById(\"2b26f1fe-7c91-47ea-8c04-f28155c440cb\")) {                    Plotly.newPlot(                        \"2b26f1fe-7c91-47ea-8c04-f28155c440cb\",                        [{\"hovertemplate\":\"test_type=insertion_sort<br>Tipo di input=random<br>Dimensione array=%{x}<br>Time (s)=%{y}<extra></extra>\",\"legendgroup\":\"insertion_sort\",\"line\":{\"color\":\"#636efa\",\"dash\":\"solid\"},\"marker\":{\"symbol\":\"circle\"},\"mode\":\"lines\",\"name\":\"insertion_sort\",\"orientation\":\"v\",\"showlegend\":true,\"x\":[0,10,20,30,40,50,60,70,80,90,100,110,120,130,140,150,160,170,180,190,200,210,220,230,240,250,260,270,280,290,300,310,320,330,340,350,360,370,380,390,400,410,420,430,440,450,460,470,480,490,500,510,520,530,540,550,560,570,580,590,600,610,620,630,640,650,660,670,680,690,700,710,720,730,740,750,760,770,780,790,800,810,820,830,840,850,860,870,880,890,900,910,920,930,940,950,960,970,980,990],\"xaxis\":\"x\",\"y\":[2.6999914553016424e-06,5.2000104915350676e-06,1.279998105019331e-05,3.029999788850546e-05,4.509999416768551e-05,6.330001633614302e-05,9.110002429224551e-05,0.00013340002624318004,0.00015600002370774746,0.00023350000265054405,0.00028369997744448483,0.0002922999847214669,0.0003600000054575503,0.0004192999913357198,0.0004933000018354505,0.0005040999967604876,0.0006670999864581972,0.0006931000098120421,0.0007956000044941902,0.0009181000059470534,0.0010954999888781458,0.0010588000004645437,0.001247700012754649,0.0013860999897588044,0.0014442999963648617,0.001603799988515675,0.0018219999910797924,0.0017659000004641712,0.002033500000834465,0.0020218999998178333,0.002284299989696592,0.002486699988367036,0.002396800002316013,0.003100700007053092,0.0036760999937541783,0.002914899989264086,0.003215700009604916,0.0036090000066906214,0.004165200021816418,0.004603100009262562,0.003952999977627769,0.004726599989226088,0.005889699998078868,0.005049900006270036,0.005294999980833381,0.005763799999840558,0.005659199989167973,0.006188500003190711,0.006249900005059317,0.00661090001813136,0.0072026999841909856,0.007321700017200783,0.007916800008388236,0.007684199983486906,0.009245599998394027,0.009311500005424023,0.009059000003617257,0.0100527000031434,0.009116800007177517,0.01274640002520755,0.011220400017919019,0.010786599974380806,0.013220599998021498,0.012682900007348508,0.014918500004569069,0.013157900015357882,0.014091699995333329,0.014717700018081814,0.06027439999161288,0.015651099995011464,0.014979400002630427,0.014403600012883544,0.01429299998562783,0.013766200019745156,0.014474299998255447,0.015308799978811294,0.016241100005572662,0.015769299992825836,0.01779690000694245,0.017664699989836663,0.017501800000900403,0.01810390001628548,0.019460399984382093,0.01962519998778589,0.020418300002347678,0.020224199979566038,0.020530000008875504,0.0230151999858208,0.021827499993378296,0.022700200002873316,0.02325080000446178,0.023207200021715835,0.023814899992430583,0.02394419998745434,0.02604240001528524,0.025453400012338534,0.027396000019507483,0.02668060001451522,0.027130500006023794,0.027291200007312],\"yaxis\":\"y\",\"type\":\"scatter\"},{\"hovertemplate\":\"test_type=insertion_sort<br>Tipo di input=sorted<br>Dimensione array=%{x}<br>Time (s)=%{y}<extra></extra>\",\"legendgroup\":\"insertion_sort\",\"line\":{\"color\":\"#636efa\",\"dash\":\"solid\"},\"marker\":{\"symbol\":\"circle\"},\"mode\":\"lines\",\"name\":\"insertion_sort\",\"orientation\":\"v\",\"showlegend\":false,\"x\":[0,10,20,30,40,50,60,70,80,90,100,110,120,130,140,150,160,170,180,190,200,210,220,230,240,250,260,270,280,290,300,310,320,330,340,350,360,370,380,390,400,410,420,430,440,450,460,470,480,490,500,510,520,530,540,550,560,570,580,590,600,610,620,630,640,650,660,670,680,690,700,710,720,730,740,750,760,770,780,790,800,810,820,830,840,850,860,870,880,890,900,910,920,930,940,950,960,970,980,990],\"xaxis\":\"x2\",\"y\":[1.7999846022576094e-06,2.400018274784088e-06,3.1999952625483274e-06,4.2000028770416975e-06,5.3000112529844046e-06,6.299989763647318e-06,7.399998139590025e-06,8.500006515532732e-06,9.600014891475439e-06,1.0800024028867483e-05,1.1900003300979733e-05,1.309998333454132e-05,1.4199991710484028e-05,1.5300000086426735e-05,1.6399979358538985e-05,1.750001683831215e-05,1.8499995348975062e-05,1.9800005247816443e-05,2.090001362375915e-05,2.19999928958714e-05,2.3100001271814108e-05,2.4200009647756815e-05,2.5299988919869065e-05,2.649999805726111e-05,2.7499976567924023e-05,2.8700014809146523e-05,3.0399998649954796e-05,3.170000854879618e-05,3.290001768618822e-05,3.4500000765547156e-05,3.549997927621007e-05,3.679998917505145e-05,3.819999983534217e-05,3.959998139180243e-05,4.0799990529194474e-05,4.230000195093453e-05,4.349998198449612e-05,4.47999918833375e-05,4.619997343979776e-05,4.749998333863914e-05,4.879999323748052e-05,5.020000389777124e-05,5.150001379661262e-05,5.289999535307288e-05,5.440000677481294e-05,5.57999883312732e-05,5.709999823011458e-05,5.849997978657484e-05,5.980001878924668e-05,6.10999995842576e-05,6.240000948309898e-05,6.409999332390726e-05,6.53000024612993e-05,6.669998401775956e-05,6.779999239370227e-05,6.940000457689166e-05,7.069998537190259e-05,7.190002361312509e-05,7.330000516958535e-05,7.460001506842673e-05,7.579999510198832e-05,7.720000576227903e-05,7.860001642256975e-05,7.989999721758068e-05,8.139997953549027e-05,8.280001929961145e-05,8.38999985717237e-05,8.540000999346375e-05,8.670001989230514e-05,8.81000014487654e-05,8.950001210905612e-05,9.06999921426177e-05,9.240000508725643e-05,9.350001346319914e-05,9.48999950196594e-05,9.610000415705144e-05,9.759998647496104e-05,9.889999637380242e-05,0.00010029997793026268,0.00010159998782910407,0.00011409999569877982,0.00010449998080730438,0.00010579999070614576,0.00010699999984353781,0.00010829998063854873,0.00010989999282173812,0.00011110000195913017,0.00011250001261942089,0.00011369999265298247,0.00011500000255182385,0.00011639998410828412,0.00011870000162161887,0.00011930000619031489,0.00012059998698532581,0.00012209999840706587,0.00012320000678300858,0.00012469998910091817,0.00012599999899975955,0.0001272000081371516,0.00012870001955889165],\"yaxis\":\"y2\",\"type\":\"scatter\"},{\"hovertemplate\":\"test_type=insertion_sort<br>Tipo di input=reversed<br>Dimensione array=%{x}<br>Time (s)=%{y}<extra></extra>\",\"legendgroup\":\"insertion_sort\",\"line\":{\"color\":\"#636efa\",\"dash\":\"solid\"},\"marker\":{\"symbol\":\"circle\"},\"mode\":\"lines\",\"name\":\"insertion_sort\",\"orientation\":\"v\",\"showlegend\":false,\"x\":[0,10,20,30,40,50,60,70,80,90,100,110,120,130,140,150,160,170,180,190,200,210,220,230,240,250,260,270,280,290,300,310,320,330,340,350,360,370,380,390,400,410,420,430,440,450,460,470,480,490,500,510,520,530,540,550,560,570,580,590,600,610,620,630,640,650,660,670,680,690,700,710,720,730,740,750,760,770,780,790,800,810,820,830,840,850,860,870,880,890,900,910,920,930,940,950,960,970,980,990],\"xaxis\":\"x3\",\"y\":[1.100008375942707e-06,7.199996616691351e-06,2.19999928958714e-05,0.00010239999392069876,8.359999628737569e-05,0.00012889999197795987,0.00018420000560581684,0.00024989998200908303,0.00032449999707750976,0.0004098000063095242,0.0005049000028520823,0.0006084000051487237,0.0007276000105775893,0.0008506999874953181,0.0009849999914877117,0.0011314000003039837,0.0012838999973610044,0.0014480000245384872,0.001624900003662333,0.0018205999804195017,0.0020105000003241003,0.0022621999960392714,0.0024318999785464257,0.00264759999117814,0.002888199989683926,0.0031343000009655952,0.0033752000017557293,0.003749100025743246,0.003933200001483783,0.004208999976981431,0.0045473999925889075,0.004830599995329976,0.005138800013810396,0.005498099984833971,0.005839899997226894,0.006175999995321035,0.006586100003914908,0.006936499994480982,0.007411800004774705,0.007709099998464808,0.008167300024069846,0.008578300010412931,0.009110499988310039,0.009531499992590398,0.009980400005588308,0.010527299979003146,0.010976699995808303,0.011491000012028962,0.011958799994317815,0.012435599986929446,0.012952899996889755,0.013520600012270734,0.014111999975284562,0.014727900008438155,0.015203200018731877,0.015802399982931092,0.016392999998060986,0.01701449998654425,0.017598799982806668,0.017984800011618063,0.018906199984485283,0.019616000005044043,0.020276900002500042,0.020956699998350814,0.021621799998683855,0.02231589998700656,0.023027500021271408,0.023518200003309175,0.024513699987437576,0.02495620000991039,0.026093300024513155,0.026767500006826594,0.02756660000886768,0.027829700004076585,0.02960400001029484,0.029954300000099465,0.03083089998108335,0.03199049999238923,0.03254170002765022,0.033820000011473894,0.034845100017264485,0.03592779999598861,0.03644860000349581,0.03759299998637289,0.03843699998105876,0.03931609998107888,0.04008939999039285,0.04130900002201088,0.04112040001200512,0.04315919999498874,0.04410339999594726,0.04489379998994991,0.04621540001244284,0.04683090001344681,0.04804429999785498,0.048418199992738664,0.04840120000881143,0.051182799972593784,0.05292099999496713,0.052095599996391684],\"yaxis\":\"y3\",\"type\":\"scatter\"},{\"hovertemplate\":\"test_type=counting_sort<br>Tipo di input=random<br>Dimensione array=%{x}<br>Time (s)=%{y}<extra></extra>\",\"legendgroup\":\"counting_sort\",\"line\":{\"color\":\"#EF553B\",\"dash\":\"solid\"},\"marker\":{\"symbol\":\"circle\"},\"mode\":\"lines\",\"name\":\"counting_sort\",\"orientation\":\"v\",\"showlegend\":true,\"x\":[0,10,20,30,40,50,60,70,80,90,100,110,120,130,140,150,160,170,180,190,200,210,220,230,240,250,260,270,280,290,300,310,320,330,340,350,360,370,380,390,400,410,420,430,440,450,460,470,480,490,500,510,520,530,540,550,560,570,580,590,600,610,620,630,640,650,660,670,680,690,700,710,720,730,740,750,760,770,780,790,800,810,820,830,840,850,860,870,880,890,900,910,920,930,940,950,960,970,980,990],\"xaxis\":\"x\",\"y\":[1.500011421740055e-06,0.0007158000080380589,0.0008241000177804381,0.0008536000095773488,0.0009387000172864646,0.0008788999984972179,0.0009086000209208578,0.0009131999977398664,0.0008632999961264431,0.0008934999932534993,0.0008978999976534396,0.0008660000166855752,0.0009012999944388866,0.0009033000096678734,0.000898600002983585,0.0009291000023949891,0.000905399996554479,0.0009101000032387674,0.0009052999957930297,0.0008876000065356493,0.0009248999995179474,0.0009258000063709915,0.0009186000097543001,0.000918699981411919,0.0009216000034939498,0.0009640999778639525,0.0009214000019710511,0.0009519000013824552,0.0009404000011272728,0.0009469999931752682,0.0009669999999459833,0.0009514999983366579,0.0009722999820951372,0.000962200021604076,0.000963500002399087,0.0009736000210978091,0.000987500010523945,0.000957000011112541,0.0009794000070542097,0.0009738000226207078,0.0010165999992750585,0.0010683999862521887,0.0010272999934386462,0.0010197999945376068,0.0010136000055354089,0.0010517000046093017,0.0010043999936897308,0.0010142999817617238,0.0010169000015594065,0.0010246000019833446,0.0010254000080749393,0.0010218000097665936,0.0010393999982625246,0.001031499996315688,0.0010470999986864626,0.0010949000134132802,0.0010871000122278929,0.0010784999758470803,0.001050299993949011,0.0010572999890428036,0.0010596999782137573,0.0010611999896354973,0.0010640999826136976,0.0010745000035967678,0.0011049000022467226,0.0010695999953895807,0.0010766999912448227,0.0010781000019051135,0.0010765000188257545,0.001078999979654327,0.001133600017055869,0.001123199996072799,0.0010924999951384962,0.0011344999948050827,0.0010888000251725316,0.0010794000118039548,0.0010876000160351396,0.0010964000248350203,0.0010984999826177955,0.0010983999818563461,0.0011137000110466033,0.001117999985581264,0.0011192000238224864,0.001107700023567304,0.0013087000115774572,0.0012153999996371567,0.0011294000141788274,0.0011276000004727393,0.0011227999930270016,0.001125600014347583,0.0011379000206943601,0.00113339998642914,0.0011297999881207943,0.0011403000098653138,0.001135200000135228,0.0011501999979373068,0.0011427999997977167,0.0012499000004027039,0.0012402000138536096,0.0011678000155370682],\"yaxis\":\"y\",\"type\":\"scatter\"},{\"hovertemplate\":\"test_type=counting_sort<br>Tipo di input=sorted<br>Dimensione array=%{x}<br>Time (s)=%{y}<extra></extra>\",\"legendgroup\":\"counting_sort\",\"line\":{\"color\":\"#EF553B\",\"dash\":\"solid\"},\"marker\":{\"symbol\":\"circle\"},\"mode\":\"lines\",\"name\":\"counting_sort\",\"orientation\":\"v\",\"showlegend\":false,\"x\":[0,10,20,30,40,50,60,70,80,90,100,110,120,130,140,150,160,170,180,190,200,210,220,230,240,250,260,270,280,290,300,310,320,330,340,350,360,370,380,390,400,410,420,430,440,450,460,470,480,490,500,510,520,530,540,550,560,570,580,590,600,610,620,630,640,650,660,670,680,690,700,710,720,730,740,750,760,770,780,790,800,810,820,830,840,850,860,870,880,890,900,910,920,930,940,950,960,970,980,990],\"xaxis\":\"x2\",\"y\":[7.00005330145359e-07,0.0009045000188052654,0.0007857999880798161,0.0008730999834369868,0.0008702000195626169,0.0008453000045847148,0.0008683000050950795,0.0009012999944388866,0.0008954000077210367,0.0008851999882608652,0.0008390000148210675,0.0009288000001106411,0.0008765999809838831,0.0009160999907180667,0.0009207999974023551,0.0009381999843753874,0.0009157999884337187,0.0009064000041689724,0.0009121000184677541,0.0009078000148292631,0.0009412000072188675,0.0009237999911420047,0.0009423000155948102,0.0009323999984189868,0.0009353000205010176,0.0009342999837826937,0.0009568000095896423,0.0009713000035844743,0.0009584999934304506,0.0009851999930106103,0.0009824000007938594,0.0010741000005509704,0.0010096000041812658,0.000978900003246963,0.0009969999955501407,0.0010037999891210347,0.0009917999850586057,0.000993099994957447,0.0010047999967355281,0.0010026000090874732,0.001018200011458248,0.0010217000090051442,0.001031799998600036,0.001033900014590472,0.0010368000075686723,0.0010289000056218356,0.0010812999971676618,0.0010474000009708107,0.0010457000171300024,0.0010520999785512686,0.0010365000052843243,0.0010586999997030944,0.0010483000078238547,0.0010593999759294093,0.0010455000156071037,0.001043800002662465,0.0010577999928500503,0.0010606999858282506,0.0011021999816875905,0.001065699994796887,0.001056100009009242,0.0019292999932076782,0.0011833999888040125,0.0015891999937593937,0.0010560000082477927,0.0010630000033415854,0.0010904000082518905,0.0010747000051196665,0.001076799992006272,0.0011533000215422362,0.0010691999923437834,0.001065099990228191,0.0010753999813459814,0.001189300004625693,0.0011014000046998262,0.0017337999888695776,0.0010902000067289919,0.0010901999776251614,0.0010942000080831349,0.0011066000151913613,0.0010904000082518905,0.0010901000059675425,0.0011303999926894903,0.001109600008931011,0.0011118999973405153,0.0010997999925166368,0.0013157999783288687,0.0018448999908287078,0.0017253999831154943,0.0011073999921791255,0.0011301999911665916,0.0011187000200152397,0.0011189999931957573,0.0011316000018268824,0.001141999993706122,0.0011437999783083797,0.0011369999847374856,0.0011334000155329704,0.0017869999865069985,0.0018966000061482191],\"yaxis\":\"y2\",\"type\":\"scatter\"},{\"hovertemplate\":\"test_type=counting_sort<br>Tipo di input=reversed<br>Dimensione array=%{x}<br>Time (s)=%{y}<extra></extra>\",\"legendgroup\":\"counting_sort\",\"line\":{\"color\":\"#EF553B\",\"dash\":\"solid\"},\"marker\":{\"symbol\":\"circle\"},\"mode\":\"lines\",\"name\":\"counting_sort\",\"orientation\":\"v\",\"showlegend\":false,\"x\":[0,10,20,30,40,50,60,70,80,90,100,110,120,130,140,150,160,170,180,190,200,210,220,230,240,250,260,270,280,290,300,310,320,330,340,350,360,370,380,390,400,410,420,430,440,450,460,470,480,490,500,510,520,530,540,550,560,570,580,590,600,610,620,630,640,650,660,670,680,690,700,710,720,730,740,750,760,770,780,790,800,810,820,830,840,850,860,870,880,890,900,910,920,930,940,950,960,970,980,990],\"xaxis\":\"x3\",\"y\":[9.00006853044033e-07,0.0006480999873019755,0.0007455000013578683,0.0008431999885942787,0.0008988999761641026,0.0009038000134751201,0.0008609000069554895,0.0009310000168625265,0.0009374999790452421,0.0009257000056095421,0.0009125999931711704,0.0009039999858941883,0.000898600002983585,0.0008925000147428364,0.0012747000146191567,0.0009374000073876232,0.0011647999926935881,0.0010118999925907701,0.0013326999905984849,0.0010988999856635928,0.0009256000048480928,0.000947100023040548,0.0009248999995179474,0.000998699979390949,0.0009765999857336283,0.0009543999913148582,0.0009781999979168177,0.0010156999924220145,0.001128499978221953,0.0013018000172451138,0.0016460000188089907,0.0013040000048931688,0.0015856999962124974,0.0017088000022340566,0.00157049999688752,0.001645200012717396,0.0016777999990154058,0.001652600010856986,0.0016734999953769147,0.0016303999873343855,0.0015295999764930457,0.0016030000115279108,0.0016919999907258898,0.0016898000030778348,0.0016794000111985952,0.001731099997414276,0.0014156999823171645,0.0010978000063914806,0.0010569000151008368,0.0010447999811731279,0.0010363000037614256,0.0010377999860793352,0.0010380999883636832,0.001081200025510043,0.0010559000074863434,0.0010538999922573566,0.00106819998472929,0.001056199980666861,0.0010532000160310417,0.0010637000086717308,0.0010640999826136976,0.0010713000083342195,0.0012774000060744584,0.0010917999898083508,0.0010859000030905008,0.0010800000163726509,0.0010828999802470207,0.0010840000177267939,0.0010830000101123005,0.001088300021365285,0.0011054000060539693,0.0011430000013206154,0.0011067000159528106,0.0010938999766949564,0.001130599994212389,0.0011589000059757382,0.001184000022476539,0.0011360000062268227,0.0011335999879520386,0.0011477000080049038,0.0011224999907426536,0.0011295999865978956,0.0011224999907426536,0.001126899995142594,0.001130200020270422,0.001138299994636327,0.0011227999930270016,0.001153699995484203,0.001133699988713488,0.0011857000063173473,0.001159299979917705,0.0011464999988675117,0.0011548000038601458,0.0011473000049591064,0.0011629000073298812,0.0011477000080049038,0.0011587000044528395,0.001152799988631159,0.0011519000108819455,0.0011710000107996166],\"yaxis\":\"y3\",\"type\":\"scatter\"}],                        {\"template\":{\"data\":{\"histogram2dcontour\":[{\"type\":\"histogram2dcontour\",\"colorbar\":{\"outlinewidth\":0,\"ticks\":\"\"},\"colorscale\":[[0.0,\"#0d0887\"],[0.1111111111111111,\"#46039f\"],[0.2222222222222222,\"#7201a8\"],[0.3333333333333333,\"#9c179e\"],[0.4444444444444444,\"#bd3786\"],[0.5555555555555556,\"#d8576b\"],[0.6666666666666666,\"#ed7953\"],[0.7777777777777778,\"#fb9f3a\"],[0.8888888888888888,\"#fdca26\"],[1.0,\"#f0f921\"]]}],\"choropleth\":[{\"type\":\"choropleth\",\"colorbar\":{\"outlinewidth\":0,\"ticks\":\"\"}}],\"histogram2d\":[{\"type\":\"histogram2d\",\"colorbar\":{\"outlinewidth\":0,\"ticks\":\"\"},\"colorscale\":[[0.0,\"#0d0887\"],[0.1111111111111111,\"#46039f\"],[0.2222222222222222,\"#7201a8\"],[0.3333333333333333,\"#9c179e\"],[0.4444444444444444,\"#bd3786\"],[0.5555555555555556,\"#d8576b\"],[0.6666666666666666,\"#ed7953\"],[0.7777777777777778,\"#fb9f3a\"],[0.8888888888888888,\"#fdca26\"],[1.0,\"#f0f921\"]]}],\"heatmap\":[{\"type\":\"heatmap\",\"colorbar\":{\"outlinewidth\":0,\"ticks\":\"\"},\"colorscale\":[[0.0,\"#0d0887\"],[0.1111111111111111,\"#46039f\"],[0.2222222222222222,\"#7201a8\"],[0.3333333333333333,\"#9c179e\"],[0.4444444444444444,\"#bd3786\"],[0.5555555555555556,\"#d8576b\"],[0.6666666666666666,\"#ed7953\"],[0.7777777777777778,\"#fb9f3a\"],[0.8888888888888888,\"#fdca26\"],[1.0,\"#f0f921\"]]}],\"heatmapgl\":[{\"type\":\"heatmapgl\",\"colorbar\":{\"outlinewidth\":0,\"ticks\":\"\"},\"colorscale\":[[0.0,\"#0d0887\"],[0.1111111111111111,\"#46039f\"],[0.2222222222222222,\"#7201a8\"],[0.3333333333333333,\"#9c179e\"],[0.4444444444444444,\"#bd3786\"],[0.5555555555555556,\"#d8576b\"],[0.6666666666666666,\"#ed7953\"],[0.7777777777777778,\"#fb9f3a\"],[0.8888888888888888,\"#fdca26\"],[1.0,\"#f0f921\"]]}],\"contourcarpet\":[{\"type\":\"contourcarpet\",\"colorbar\":{\"outlinewidth\":0,\"ticks\":\"\"}}],\"contour\":[{\"type\":\"contour\",\"colorbar\":{\"outlinewidth\":0,\"ticks\":\"\"},\"colorscale\":[[0.0,\"#0d0887\"],[0.1111111111111111,\"#46039f\"],[0.2222222222222222,\"#7201a8\"],[0.3333333333333333,\"#9c179e\"],[0.4444444444444444,\"#bd3786\"],[0.5555555555555556,\"#d8576b\"],[0.6666666666666666,\"#ed7953\"],[0.7777777777777778,\"#fb9f3a\"],[0.8888888888888888,\"#fdca26\"],[1.0,\"#f0f921\"]]}],\"surface\":[{\"type\":\"surface\",\"colorbar\":{\"outlinewidth\":0,\"ticks\":\"\"},\"colorscale\":[[0.0,\"#0d0887\"],[0.1111111111111111,\"#46039f\"],[0.2222222222222222,\"#7201a8\"],[0.3333333333333333,\"#9c179e\"],[0.4444444444444444,\"#bd3786\"],[0.5555555555555556,\"#d8576b\"],[0.6666666666666666,\"#ed7953\"],[0.7777777777777778,\"#fb9f3a\"],[0.8888888888888888,\"#fdca26\"],[1.0,\"#f0f921\"]]}],\"mesh3d\":[{\"type\":\"mesh3d\",\"colorbar\":{\"outlinewidth\":0,\"ticks\":\"\"}}],\"scatter\":[{\"marker\":{\"line\":{\"color\":\"#283442\"}},\"type\":\"scatter\"}],\"parcoords\":[{\"type\":\"parcoords\",\"line\":{\"colorbar\":{\"outlinewidth\":0,\"ticks\":\"\"}}}],\"scatterpolargl\":[{\"type\":\"scatterpolargl\",\"marker\":{\"colorbar\":{\"outlinewidth\":0,\"ticks\":\"\"}}}],\"bar\":[{\"error_x\":{\"color\":\"#f2f5fa\"},\"error_y\":{\"color\":\"#f2f5fa\"},\"marker\":{\"line\":{\"color\":\"rgb(17,17,17)\",\"width\":0.5},\"pattern\":{\"fillmode\":\"overlay\",\"size\":10,\"solidity\":0.2}},\"type\":\"bar\"}],\"scattergeo\":[{\"type\":\"scattergeo\",\"marker\":{\"colorbar\":{\"outlinewidth\":0,\"ticks\":\"\"}}}],\"scatterpolar\":[{\"type\":\"scatterpolar\",\"marker\":{\"colorbar\":{\"outlinewidth\":0,\"ticks\":\"\"}}}],\"histogram\":[{\"marker\":{\"pattern\":{\"fillmode\":\"overlay\",\"size\":10,\"solidity\":0.2}},\"type\":\"histogram\"}],\"scattergl\":[{\"marker\":{\"line\":{\"color\":\"#283442\"}},\"type\":\"scattergl\"}],\"scatter3d\":[{\"type\":\"scatter3d\",\"line\":{\"colorbar\":{\"outlinewidth\":0,\"ticks\":\"\"}},\"marker\":{\"colorbar\":{\"outlinewidth\":0,\"ticks\":\"\"}}}],\"scattermapbox\":[{\"type\":\"scattermapbox\",\"marker\":{\"colorbar\":{\"outlinewidth\":0,\"ticks\":\"\"}}}],\"scatterternary\":[{\"type\":\"scatterternary\",\"marker\":{\"colorbar\":{\"outlinewidth\":0,\"ticks\":\"\"}}}],\"scattercarpet\":[{\"type\":\"scattercarpet\",\"marker\":{\"colorbar\":{\"outlinewidth\":0,\"ticks\":\"\"}}}],\"carpet\":[{\"aaxis\":{\"endlinecolor\":\"#A2B1C6\",\"gridcolor\":\"#506784\",\"linecolor\":\"#506784\",\"minorgridcolor\":\"#506784\",\"startlinecolor\":\"#A2B1C6\"},\"baxis\":{\"endlinecolor\":\"#A2B1C6\",\"gridcolor\":\"#506784\",\"linecolor\":\"#506784\",\"minorgridcolor\":\"#506784\",\"startlinecolor\":\"#A2B1C6\"},\"type\":\"carpet\"}],\"table\":[{\"cells\":{\"fill\":{\"color\":\"#506784\"},\"line\":{\"color\":\"rgb(17,17,17)\"}},\"header\":{\"fill\":{\"color\":\"#2a3f5f\"},\"line\":{\"color\":\"rgb(17,17,17)\"}},\"type\":\"table\"}],\"barpolar\":[{\"marker\":{\"line\":{\"color\":\"rgb(17,17,17)\",\"width\":0.5},\"pattern\":{\"fillmode\":\"overlay\",\"size\":10,\"solidity\":0.2}},\"type\":\"barpolar\"}],\"pie\":[{\"automargin\":true,\"type\":\"pie\"}]},\"layout\":{\"autotypenumbers\":\"strict\",\"colorway\":[\"#636efa\",\"#EF553B\",\"#00cc96\",\"#ab63fa\",\"#FFA15A\",\"#19d3f3\",\"#FF6692\",\"#B6E880\",\"#FF97FF\",\"#FECB52\"],\"font\":{\"color\":\"#f2f5fa\"},\"hovermode\":\"closest\",\"hoverlabel\":{\"align\":\"left\"},\"paper_bgcolor\":\"rgb(17,17,17)\",\"plot_bgcolor\":\"rgb(17,17,17)\",\"polar\":{\"bgcolor\":\"rgb(17,17,17)\",\"angularaxis\":{\"gridcolor\":\"#506784\",\"linecolor\":\"#506784\",\"ticks\":\"\"},\"radialaxis\":{\"gridcolor\":\"#506784\",\"linecolor\":\"#506784\",\"ticks\":\"\"}},\"ternary\":{\"bgcolor\":\"rgb(17,17,17)\",\"aaxis\":{\"gridcolor\":\"#506784\",\"linecolor\":\"#506784\",\"ticks\":\"\"},\"baxis\":{\"gridcolor\":\"#506784\",\"linecolor\":\"#506784\",\"ticks\":\"\"},\"caxis\":{\"gridcolor\":\"#506784\",\"linecolor\":\"#506784\",\"ticks\":\"\"}},\"coloraxis\":{\"colorbar\":{\"outlinewidth\":0,\"ticks\":\"\"}},\"colorscale\":{\"sequential\":[[0.0,\"#0d0887\"],[0.1111111111111111,\"#46039f\"],[0.2222222222222222,\"#7201a8\"],[0.3333333333333333,\"#9c179e\"],[0.4444444444444444,\"#bd3786\"],[0.5555555555555556,\"#d8576b\"],[0.6666666666666666,\"#ed7953\"],[0.7777777777777778,\"#fb9f3a\"],[0.8888888888888888,\"#fdca26\"],[1.0,\"#f0f921\"]],\"sequentialminus\":[[0.0,\"#0d0887\"],[0.1111111111111111,\"#46039f\"],[0.2222222222222222,\"#7201a8\"],[0.3333333333333333,\"#9c179e\"],[0.4444444444444444,\"#bd3786\"],[0.5555555555555556,\"#d8576b\"],[0.6666666666666666,\"#ed7953\"],[0.7777777777777778,\"#fb9f3a\"],[0.8888888888888888,\"#fdca26\"],[1.0,\"#f0f921\"]],\"diverging\":[[0,\"#8e0152\"],[0.1,\"#c51b7d\"],[0.2,\"#de77ae\"],[0.3,\"#f1b6da\"],[0.4,\"#fde0ef\"],[0.5,\"#f7f7f7\"],[0.6,\"#e6f5d0\"],[0.7,\"#b8e186\"],[0.8,\"#7fbc41\"],[0.9,\"#4d9221\"],[1,\"#276419\"]]},\"xaxis\":{\"gridcolor\":\"#283442\",\"linecolor\":\"#506784\",\"ticks\":\"\",\"title\":{\"standoff\":15},\"zerolinecolor\":\"#283442\",\"automargin\":true,\"zerolinewidth\":2},\"yaxis\":{\"gridcolor\":\"#283442\",\"linecolor\":\"#506784\",\"ticks\":\"\",\"title\":{\"standoff\":15},\"zerolinecolor\":\"#283442\",\"automargin\":true,\"zerolinewidth\":2},\"scene\":{\"xaxis\":{\"backgroundcolor\":\"rgb(17,17,17)\",\"gridcolor\":\"#506784\",\"linecolor\":\"#506784\",\"showbackground\":true,\"ticks\":\"\",\"zerolinecolor\":\"#C8D4E3\",\"gridwidth\":2},\"yaxis\":{\"backgroundcolor\":\"rgb(17,17,17)\",\"gridcolor\":\"#506784\",\"linecolor\":\"#506784\",\"showbackground\":true,\"ticks\":\"\",\"zerolinecolor\":\"#C8D4E3\",\"gridwidth\":2},\"zaxis\":{\"backgroundcolor\":\"rgb(17,17,17)\",\"gridcolor\":\"#506784\",\"linecolor\":\"#506784\",\"showbackground\":true,\"ticks\":\"\",\"zerolinecolor\":\"#C8D4E3\",\"gridwidth\":2}},\"shapedefaults\":{\"line\":{\"color\":\"#f2f5fa\"}},\"annotationdefaults\":{\"arrowcolor\":\"#f2f5fa\",\"arrowhead\":0,\"arrowwidth\":1},\"geo\":{\"bgcolor\":\"rgb(17,17,17)\",\"landcolor\":\"rgb(17,17,17)\",\"subunitcolor\":\"#506784\",\"showland\":true,\"showlakes\":true,\"lakecolor\":\"rgb(17,17,17)\"},\"title\":{\"x\":0.05},\"updatemenudefaults\":{\"bgcolor\":\"#506784\",\"borderwidth\":0},\"sliderdefaults\":{\"bgcolor\":\"#C8D4E3\",\"borderwidth\":1,\"bordercolor\":\"rgb(17,17,17)\",\"tickwidth\":0},\"mapbox\":{\"style\":\"dark\"}}},\"xaxis\":{\"anchor\":\"y\",\"domain\":[0.0,0.31999999999999995],\"title\":{\"text\":\"Dimensione array\"}},\"yaxis\":{\"anchor\":\"x\",\"domain\":[0.0,1.0],\"title\":{\"text\":\"Time (s)\"}},\"xaxis2\":{\"anchor\":\"y2\",\"domain\":[0.33999999999999997,0.6599999999999999],\"matches\":\"x\",\"title\":{\"text\":\"Dimensione array\"}},\"yaxis2\":{\"anchor\":\"x2\",\"domain\":[0.0,1.0],\"matches\":\"y\",\"showticklabels\":false},\"xaxis3\":{\"anchor\":\"y3\",\"domain\":[0.6799999999999999,0.9999999999999999],\"matches\":\"x\",\"title\":{\"text\":\"Dimensione array\"}},\"yaxis3\":{\"anchor\":\"x3\",\"domain\":[0.0,1.0],\"matches\":\"y\",\"showticklabels\":false},\"annotations\":[{\"font\":{},\"showarrow\":false,\"text\":\"Tipo di input=random\",\"x\":0.15999999999999998,\"xanchor\":\"center\",\"xref\":\"paper\",\"y\":1.0,\"yanchor\":\"bottom\",\"yref\":\"paper\"},{\"font\":{},\"showarrow\":false,\"text\":\"Tipo di input=sorted\",\"x\":0.49999999999999994,\"xanchor\":\"center\",\"xref\":\"paper\",\"y\":1.0,\"yanchor\":\"bottom\",\"yref\":\"paper\"},{\"font\":{},\"showarrow\":false,\"text\":\"Tipo di input=reversed\",\"x\":0.8399999999999999,\"xanchor\":\"center\",\"xref\":\"paper\",\"y\":1.0,\"yanchor\":\"bottom\",\"yref\":\"paper\"}],\"legend\":{\"title\":{\"text\":\"test_type\"},\"tracegroupgap\":0},\"title\":{\"text\":\"Sorting algorithms\"}},                        {\"responsive\": true}                    ).then(function(){\n                            \nvar gd = document.getElementById('2b26f1fe-7c91-47ea-8c04-f28155c440cb');\nvar x = new MutationObserver(function (mutations, observer) {{\n        var display = window.getComputedStyle(gd).display;\n        if (!display || display === 'none') {{\n            console.log([gd, 'removed!']);\n            Plotly.purge(gd);\n            observer.disconnect();\n        }}\n}});\n\n// Listen for the removal of the full notebook cells\nvar notebookContainer = gd.closest('#notebook-container');\nif (notebookContainer) {{\n    x.observe(notebookContainer, {childList: true});\n}}\n\n// Listen for the clearing of the current output cell\nvar outputEl = gd.closest('.output');\nif (outputEl) {{\n    x.observe(outputEl, {childList: true});\n}}\n\n                        })                };                });            </script>        </div>"
     },
     "metadata": {},
     "output_type": "display_data"
    }
   ],
   "source": []
  }
 ],
 "metadata": {
  "kernelspec": {
   "display_name": "Python 3 (ipykernel)",
   "language": "python",
   "name": "python3"
  },
  "language_info": {
   "codemirror_mode": {
    "name": "ipython",
    "version": 3
   },
   "file_extension": ".py",
   "mimetype": "text/x-python",
   "name": "python",
   "nbconvert_exporter": "python",
   "pygments_lexer": "ipython3",
   "version": "3.10.10"
  }
 },
 "nbformat": 4,
 "nbformat_minor": 5
}
